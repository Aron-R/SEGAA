{
  "nbformat": 4,
  "nbformat_minor": 0,
  "metadata": {
    "colab": {
      "provenance": [],
      "gpuType": "T4"
    },
    "kernelspec": {
      "name": "python3",
      "display_name": "Python 3"
    },
    "language_info": {
      "name": "python"
    },
    "accelerator": "GPU"
  },
  "cells": [
    {
      "cell_type": "code",
      "execution_count": 19,
      "metadata": {
        "id": "A45zNsVPlINB"
      },
      "outputs": [],
      "source": [
        "\n",
        "\n",
        "import pandas as pd\n",
        "import numpy as np\n",
        "\n",
        "import os\n",
        "import sys\n",
        "import tensorflow as tf\n",
        "import librosa\n",
        "import librosa.display\n",
        "import seaborn as sns\n",
        "import matplotlib.pyplot as plt\n",
        "\n"
      ]
    },
    {
      "cell_type": "code",
      "source": [
        "from sklearn.preprocessing import StandardScaler, OneHotEncoder\n",
        "from sklearn.metrics import confusion_matrix, classification_report\n",
        "from sklearn.model_selection import train_test_split\n",
        "\n",
        "# to play the audio files\n",
        "from IPython.display import Audio\n",
        "\n",
        "import keras\n",
        "from keras.callbacks import EarlyStopping\n",
        "from keras.callbacks import ReduceLROnPlateau\n",
        "from keras.models import Sequential\n",
        "from keras.layers import Dense, Conv1D, MaxPooling1D, Flatten, Dropout, BatchNormalization,LSTM\n",
        "from keras.utils import np_utils, to_categorical\n",
        "from keras.callbacks import ModelCheckpoint\n",
        "\n",
        "import warnings\n",
        "if not sys.warnoptions:\n",
        "    warnings.simplefilter(\"ignore\")\n",
        "warnings.filterwarnings(\"ignore\", category=DeprecationWarning)"
      ],
      "metadata": {
        "id": "QlHFGmIRpc_e"
      },
      "execution_count": 20,
      "outputs": []
    },
    {
      "cell_type": "code",
      "source": [
        "Features = pd.read_csv('/content/drive/MyDrive/Prism/features_age_final.csv')"
      ],
      "metadata": {
        "id": "J5lorpamphNt"
      },
      "execution_count": 21,
      "outputs": []
    },
    {
      "cell_type": "code",
      "source": [
        "Features = Features.fillna(0)\n",
        "print(Features.isna().any())\n",
        "Features.shape"
      ],
      "metadata": {
        "colab": {
          "base_uri": "https://localhost:8080/"
        },
        "id": "Or4mWHXKp5U2",
        "outputId": "b71d0f47-a35e-404f-86dc-3fd72a454d34"
      },
      "execution_count": 22,
      "outputs": [
        {
          "output_type": "stream",
          "name": "stdout",
          "text": [
            "0         False\n",
            "1         False\n",
            "2         False\n",
            "3         False\n",
            "4         False\n",
            "          ...  \n",
            "2372      False\n",
            "2373      False\n",
            "2374      False\n",
            "2375      False\n",
            "labels    False\n",
            "Length: 2377, dtype: bool\n"
          ]
        },
        {
          "output_type": "execute_result",
          "data": {
            "text/plain": [
              "(20228, 2377)"
            ]
          },
          "metadata": {},
          "execution_count": 22
        }
      ]
    },
    {
      "cell_type": "code",
      "source": [
        "X = Features.iloc[: ,:-1].values\n",
        "Y = Features['labels'].values"
      ],
      "metadata": {
        "id": "LdueybmPp_AB"
      },
      "execution_count": 23,
      "outputs": []
    },
    {
      "cell_type": "code",
      "source": [
        "encoder = OneHotEncoder()\n",
        "Y = encoder.fit_transform(np.array(Y).reshape(-1,1)).toarray()\n",
        "encoder.categories_"
      ],
      "metadata": {
        "colab": {
          "base_uri": "https://localhost:8080/"
        },
        "id": "VU-JPZ0-qZCC",
        "outputId": "b126a8ac-86e4-418e-e442-5dae84dd4781"
      },
      "execution_count": 24,
      "outputs": [
        {
          "output_type": "execute_result",
          "data": {
            "text/plain": [
              "[array(['fifties', 'forties', 'seventies', 'sixties', 'thirties',\n",
              "        'twenties'], dtype=object)]"
            ]
          },
          "metadata": {},
          "execution_count": 24
        }
      ]
    },
    {
      "cell_type": "code",
      "source": [
        "x_train, x_test, y_train, y_test = train_test_split(X, Y,test_size=0.15, random_state=30, shuffle=True,stratify=Y)\n",
        "x_train.shape, y_train.shape, x_test.shape, y_test.shape"
      ],
      "metadata": {
        "colab": {
          "base_uri": "https://localhost:8080/"
        },
        "id": "KlVLH-_mqbHi",
        "outputId": "37bfe27d-109a-4742-8bbe-98cb1ca082f2"
      },
      "execution_count": 25,
      "outputs": [
        {
          "output_type": "execute_result",
          "data": {
            "text/plain": [
              "((17193, 2376), (17193, 6), (3035, 2376), (3035, 6))"
            ]
          },
          "metadata": {},
          "execution_count": 25
        }
      ]
    },
    {
      "cell_type": "code",
      "source": [
        "scaler = StandardScaler()"
      ],
      "metadata": {
        "id": "MGA84GpWqgNu"
      },
      "execution_count": 26,
      "outputs": []
    },
    {
      "cell_type": "code",
      "source": [
        "\n",
        "x_test, x_val, y_test, y_val = train_test_split(x_test, y_test, random_state=30, test_size=0.25, shuffle=True,stratify=y_test)\n",
        "x_train.shape, x_test.shape, x_val.shape, x_train.shape, x_test.shape, x_val.shape"
      ],
      "metadata": {
        "colab": {
          "base_uri": "https://localhost:8080/"
        },
        "id": "VnjznnSQqiGU",
        "outputId": "27c22833-f96e-4aa9-9228-ad694af230a3"
      },
      "execution_count": 27,
      "outputs": [
        {
          "output_type": "execute_result",
          "data": {
            "text/plain": [
              "((17193, 2376),\n",
              " (2276, 2376),\n",
              " (759, 2376),\n",
              " (17193, 2376),\n",
              " (2276, 2376),\n",
              " (759, 2376))"
            ]
          },
          "metadata": {},
          "execution_count": 27
        }
      ]
    },
    {
      "cell_type": "code",
      "source": [
        "x_train = scaler.fit_transform(x_train)\n",
        "x_val=scaler.transform(x_val)\n",
        "x_test = scaler.transform(x_test)\n",
        "\n",
        "x_train.shape, y_train.shape, x_test.shape, y_test.shape"
      ],
      "metadata": {
        "colab": {
          "base_uri": "https://localhost:8080/"
        },
        "id": "HyZz5MgMqkCK",
        "outputId": "5dbb34b9-3d50-4e76-dd05-caee9cef8336"
      },
      "execution_count": 28,
      "outputs": [
        {
          "output_type": "execute_result",
          "data": {
            "text/plain": [
              "((17193, 2376), (17193, 6), (2276, 2376), (2276, 6))"
            ]
          },
          "metadata": {},
          "execution_count": 28
        }
      ]
    },
    {
      "cell_type": "code",
      "source": [
        "x_train = np.expand_dims(x_train, axis=2)\n",
        "x_test = np.expand_dims(x_test, axis=2)\n",
        "x_val = np.expand_dims(x_val, axis=2)\n",
        "x_train.shape, y_train.shape, x_test.shape, y_test.shape"
      ],
      "metadata": {
        "colab": {
          "base_uri": "https://localhost:8080/"
        },
        "id": "cL0x9TdOqmBv",
        "outputId": "54383e32-6f84-4a78-8869-ba6cc2ba4241"
      },
      "execution_count": 29,
      "outputs": [
        {
          "output_type": "execute_result",
          "data": {
            "text/plain": [
              "((17193, 2376, 1), (17193, 6), (2276, 2376, 1), (2276, 6))"
            ]
          },
          "metadata": {},
          "execution_count": 29
        }
      ]
    },
    {
      "cell_type": "code",
      "source": [
        "optimizer = keras.optimizers.Adam(lr=0.0005)"
      ],
      "metadata": {
        "colab": {
          "base_uri": "https://localhost:8080/"
        },
        "id": "5pTlWEOlqnhu",
        "outputId": "f97bcc16-8ba4-497b-bd28-181d26debbc1"
      },
      "execution_count": 30,
      "outputs": [
        {
          "output_type": "stream",
          "name": "stderr",
          "text": [
            "/usr/local/lib/python3.10/dist-packages/keras/optimizers/legacy/adam.py:117: UserWarning: The `lr` argument is deprecated, use `learning_rate` instead.\n",
            "  super().__init__(name, **kwargs)\n"
          ]
        }
      ]
    },
    {
      "cell_type": "code",
      "source": [
        "model=Sequential()\n",
        "\n",
        "model.add(Conv1D(256, kernel_size=5, strides=1, padding='same', activation='relu', input_shape=(x_train.shape[1], 1)))\n",
        "model.add(BatchNormalization())\n",
        "model.add(MaxPooling1D(pool_size=5, strides = 2, padding = 'same'))\n",
        "\n",
        "model.add(Conv1D(256, kernel_size=5, strides=1, padding='same', activation='relu'))\n",
        "model.add(BatchNormalization())\n",
        "model.add(MaxPooling1D(pool_size=5, strides = 2, padding = 'same'))\n",
        "\n",
        "model.add(Conv1D(128, kernel_size=5, strides=1, padding='same', activation='relu'))\n",
        "model.add(BatchNormalization())\n",
        "model.add(MaxPooling1D(pool_size=5, strides = 2, padding = 'same'))\n",
        "model.add(Dropout(0.2))\n",
        "\n",
        "model.add(Conv1D(64, kernel_size=5, strides=1, padding='same', activation='relu'))\n",
        "model.add(BatchNormalization())\n",
        "model.add(MaxPooling1D(pool_size=5, strides = 2, padding = 'same'))\n",
        "\n",
        "model.add(Flatten())\n",
        "model.add(Dense(32, activation='relu'))\n",
        "model.add(BatchNormalization())\n",
        "model.add(Dropout(0.25))\n",
        "\n",
        "model.add(Dense(6, activation='softmax'))\n",
        "model.compile(optimizer = 'Adam' , loss = 'categorical_crossentropy' , metrics = ['accuracy'])\n",
        "\n",
        "model.summary()"
      ],
      "metadata": {
        "colab": {
          "base_uri": "https://localhost:8080/"
        },
        "id": "ysVnpoTRqo5U",
        "outputId": "56614464-e001-48ce-eb4f-5d35e810a5fd"
      },
      "execution_count": 31,
      "outputs": [
        {
          "output_type": "stream",
          "name": "stdout",
          "text": [
            "Model: \"sequential_2\"\n",
            "_________________________________________________________________\n",
            " Layer (type)                Output Shape              Param #   \n",
            "=================================================================\n",
            " conv1d_8 (Conv1D)           (None, 2376, 256)         1536      \n",
            "                                                                 \n",
            " batch_normalization_10 (Bat  (None, 2376, 256)        1024      \n",
            " chNormalization)                                                \n",
            "                                                                 \n",
            " max_pooling1d_8 (MaxPooling  (None, 1188, 256)        0         \n",
            " 1D)                                                             \n",
            "                                                                 \n",
            " conv1d_9 (Conv1D)           (None, 1188, 256)         327936    \n",
            "                                                                 \n",
            " batch_normalization_11 (Bat  (None, 1188, 256)        1024      \n",
            " chNormalization)                                                \n",
            "                                                                 \n",
            " max_pooling1d_9 (MaxPooling  (None, 594, 256)         0         \n",
            " 1D)                                                             \n",
            "                                                                 \n",
            " conv1d_10 (Conv1D)          (None, 594, 128)          163968    \n",
            "                                                                 \n",
            " batch_normalization_12 (Bat  (None, 594, 128)         512       \n",
            " chNormalization)                                                \n",
            "                                                                 \n",
            " max_pooling1d_10 (MaxPoolin  (None, 297, 128)         0         \n",
            " g1D)                                                            \n",
            "                                                                 \n",
            " dropout_4 (Dropout)         (None, 297, 128)          0         \n",
            "                                                                 \n",
            " conv1d_11 (Conv1D)          (None, 297, 64)           41024     \n",
            "                                                                 \n",
            " batch_normalization_13 (Bat  (None, 297, 64)          256       \n",
            " chNormalization)                                                \n",
            "                                                                 \n",
            " max_pooling1d_11 (MaxPoolin  (None, 149, 64)          0         \n",
            " g1D)                                                            \n",
            "                                                                 \n",
            " flatten_2 (Flatten)         (None, 9536)              0         \n",
            "                                                                 \n",
            " dense_4 (Dense)             (None, 32)                305184    \n",
            "                                                                 \n",
            " batch_normalization_14 (Bat  (None, 32)               128       \n",
            " chNormalization)                                                \n",
            "                                                                 \n",
            " dropout_5 (Dropout)         (None, 32)                0         \n",
            "                                                                 \n",
            " dense_5 (Dense)             (None, 6)                 198       \n",
            "                                                                 \n",
            "=================================================================\n",
            "Total params: 842,790\n",
            "Trainable params: 841,318\n",
            "Non-trainable params: 1,472\n",
            "_________________________________________________________________\n"
          ]
        }
      ]
    },
    {
      "cell_type": "code",
      "source": [
        "learning_rate_reduction = ReduceLROnPlateau(monitor='val_accuracy',\n",
        "                                            patience=3,\n",
        "                                            verbose=1,\n",
        "                                            factor=0.5,\n",
        "                                            min_lr=0.00001)\n",
        "early_stop = EarlyStopping(monitor='val_accuracy', mode='auto', patience=5, start_from_epoch=20)\n",
        "callbacks=[learning_rate_reduction,early_stop]\n",
        "\n"
      ],
      "metadata": {
        "id": "JOB1bFWiqqZE"
      },
      "execution_count": 32,
      "outputs": []
    },
    {
      "cell_type": "code",
      "source": [
        "history=model.fit(x_train, y_train, batch_size=32, epochs=100, validation_data=(x_val, y_val), callbacks=callbacks)"
      ],
      "metadata": {
        "colab": {
          "base_uri": "https://localhost:8080/"
        },
        "id": "MCMePYzpq1b_",
        "outputId": "c3f0c3f7-4609-4f71-d99d-369099c6656c"
      },
      "execution_count": 33,
      "outputs": [
        {
          "output_type": "stream",
          "name": "stdout",
          "text": [
            "Epoch 1/100\n",
            "538/538 [==============================] - 38s 63ms/step - loss: 1.7111 - accuracy: 0.3075 - val_loss: 1.5591 - val_accuracy: 0.3518 - lr: 0.0010\n",
            "Epoch 2/100\n",
            "538/538 [==============================] - 34s 63ms/step - loss: 1.4740 - accuracy: 0.3575 - val_loss: 1.4940 - val_accuracy: 0.3465 - lr: 0.0010\n",
            "Epoch 3/100\n",
            "538/538 [==============================] - 34s 62ms/step - loss: 1.4079 - accuracy: 0.3881 - val_loss: 1.4483 - val_accuracy: 0.3531 - lr: 0.0010\n",
            "Epoch 4/100\n",
            "538/538 [==============================] - 35s 65ms/step - loss: 1.3589 - accuracy: 0.4069 - val_loss: 1.3646 - val_accuracy: 0.4018 - lr: 0.0010\n",
            "Epoch 5/100\n",
            "538/538 [==============================] - 34s 64ms/step - loss: 1.3433 - accuracy: 0.4135 - val_loss: 1.4917 - val_accuracy: 0.3518 - lr: 0.0010\n",
            "Epoch 6/100\n",
            "538/538 [==============================] - 34s 62ms/step - loss: 1.3207 - accuracy: 0.4233 - val_loss: 1.3430 - val_accuracy: 0.3808 - lr: 0.0010\n",
            "Epoch 7/100\n",
            "538/538 [==============================] - 33s 62ms/step - loss: 1.2520 - accuracy: 0.4607 - val_loss: 1.2905 - val_accuracy: 0.4203 - lr: 0.0010\n",
            "Epoch 8/100\n",
            "538/538 [==============================] - 33s 62ms/step - loss: 1.1895 - accuracy: 0.4920 - val_loss: 1.3569 - val_accuracy: 0.4242 - lr: 0.0010\n",
            "Epoch 9/100\n",
            "538/538 [==============================] - 34s 62ms/step - loss: 1.1615 - accuracy: 0.5092 - val_loss: 1.3311 - val_accuracy: 0.4611 - lr: 0.0010\n",
            "Epoch 10/100\n",
            "538/538 [==============================] - 34s 62ms/step - loss: 1.0905 - accuracy: 0.5444 - val_loss: 1.5994 - val_accuracy: 0.3663 - lr: 0.0010\n",
            "Epoch 11/100\n",
            "538/538 [==============================] - 33s 62ms/step - loss: 1.0519 - accuracy: 0.5616 - val_loss: 1.2501 - val_accuracy: 0.4756 - lr: 0.0010\n",
            "Epoch 12/100\n",
            "538/538 [==============================] - 34s 63ms/step - loss: 0.9709 - accuracy: 0.6026 - val_loss: 1.0915 - val_accuracy: 0.5310 - lr: 0.0010\n",
            "Epoch 13/100\n",
            "538/538 [==============================] - 33s 62ms/step - loss: 0.9063 - accuracy: 0.6329 - val_loss: 1.1902 - val_accuracy: 0.4914 - lr: 0.0010\n",
            "Epoch 14/100\n",
            "538/538 [==============================] - 34s 62ms/step - loss: 0.8422 - accuracy: 0.6621 - val_loss: 0.9540 - val_accuracy: 0.6179 - lr: 0.0010\n",
            "Epoch 15/100\n",
            "538/538 [==============================] - 34s 62ms/step - loss: 0.7954 - accuracy: 0.6777 - val_loss: 1.3077 - val_accuracy: 0.5007 - lr: 0.0010\n",
            "Epoch 16/100\n",
            "538/538 [==============================] - 34s 62ms/step - loss: 0.7492 - accuracy: 0.7024 - val_loss: 0.8998 - val_accuracy: 0.6324 - lr: 0.0010\n",
            "Epoch 17/100\n",
            "538/538 [==============================] - 33s 62ms/step - loss: 0.6739 - accuracy: 0.7343 - val_loss: 0.8462 - val_accuracy: 0.6271 - lr: 0.0010\n",
            "Epoch 18/100\n",
            "538/538 [==============================] - 33s 62ms/step - loss: 0.6538 - accuracy: 0.7428 - val_loss: 0.8350 - val_accuracy: 0.6667 - lr: 0.0010\n",
            "Epoch 19/100\n",
            "538/538 [==============================] - 33s 62ms/step - loss: 0.5921 - accuracy: 0.7709 - val_loss: 0.8031 - val_accuracy: 0.6864 - lr: 0.0010\n",
            "Epoch 20/100\n",
            "538/538 [==============================] - 34s 63ms/step - loss: 0.6254 - accuracy: 0.7607 - val_loss: 0.8873 - val_accuracy: 0.6522 - lr: 0.0010\n",
            "Epoch 21/100\n",
            "538/538 [==============================] - 34s 62ms/step - loss: 0.5358 - accuracy: 0.7931 - val_loss: 0.7170 - val_accuracy: 0.7497 - lr: 0.0010\n",
            "Epoch 22/100\n",
            "538/538 [==============================] - 34s 63ms/step - loss: 0.4902 - accuracy: 0.8145 - val_loss: 0.6260 - val_accuracy: 0.7866 - lr: 0.0010\n",
            "Epoch 23/100\n",
            "538/538 [==============================] - 34s 63ms/step - loss: 0.4965 - accuracy: 0.8086 - val_loss: 1.4136 - val_accuracy: 0.5665 - lr: 0.0010\n",
            "Epoch 24/100\n",
            "538/538 [==============================] - 33s 62ms/step - loss: 0.4866 - accuracy: 0.8164 - val_loss: 0.5999 - val_accuracy: 0.7734 - lr: 0.0010\n",
            "Epoch 25/100\n",
            "538/538 [==============================] - 33s 62ms/step - loss: 0.4186 - accuracy: 0.8420 - val_loss: 0.5800 - val_accuracy: 0.7931 - lr: 0.0010\n",
            "Epoch 26/100\n",
            "538/538 [==============================] - 34s 62ms/step - loss: 0.3949 - accuracy: 0.8506 - val_loss: 0.4873 - val_accuracy: 0.8235 - lr: 0.0010\n",
            "Epoch 27/100\n",
            "538/538 [==============================] - 33s 62ms/step - loss: 0.3955 - accuracy: 0.8494 - val_loss: 0.5962 - val_accuracy: 0.7760 - lr: 0.0010\n",
            "Epoch 28/100\n",
            "538/538 [==============================] - 33s 62ms/step - loss: 0.3510 - accuracy: 0.8689 - val_loss: 0.7529 - val_accuracy: 0.7497 - lr: 0.0010\n",
            "Epoch 29/100\n",
            "537/538 [============================>.] - ETA: 0s - loss: 0.3401 - accuracy: 0.8725\n",
            "Epoch 29: ReduceLROnPlateau reducing learning rate to 0.0005000000237487257.\n",
            "538/538 [==============================] - 33s 62ms/step - loss: 0.3407 - accuracy: 0.8723 - val_loss: 0.5000 - val_accuracy: 0.8221 - lr: 0.0010\n",
            "Epoch 30/100\n",
            "538/538 [==============================] - 33s 62ms/step - loss: 0.3292 - accuracy: 0.8784 - val_loss: 0.4280 - val_accuracy: 0.8524 - lr: 5.0000e-04\n",
            "Epoch 31/100\n",
            "538/538 [==============================] - 33s 62ms/step - loss: 0.2617 - accuracy: 0.9020 - val_loss: 0.3745 - val_accuracy: 0.8775 - lr: 5.0000e-04\n",
            "Epoch 32/100\n",
            "538/538 [==============================] - 33s 62ms/step - loss: 0.2438 - accuracy: 0.9109 - val_loss: 0.3754 - val_accuracy: 0.8722 - lr: 5.0000e-04\n",
            "Epoch 33/100\n",
            "538/538 [==============================] - 33s 62ms/step - loss: 0.2273 - accuracy: 0.9160 - val_loss: 0.3705 - val_accuracy: 0.8775 - lr: 5.0000e-04\n",
            "Epoch 34/100\n",
            "538/538 [==============================] - 34s 63ms/step - loss: 0.2018 - accuracy: 0.9276 - val_loss: 0.3345 - val_accuracy: 0.8959 - lr: 5.0000e-04\n",
            "Epoch 35/100\n",
            "538/538 [==============================] - 34s 63ms/step - loss: 0.2034 - accuracy: 0.9281 - val_loss: 0.3714 - val_accuracy: 0.8827 - lr: 5.0000e-04\n",
            "Epoch 36/100\n",
            "538/538 [==============================] - 34s 62ms/step - loss: 0.2179 - accuracy: 0.9211 - val_loss: 0.4314 - val_accuracy: 0.8722 - lr: 5.0000e-04\n",
            "Epoch 37/100\n",
            "538/538 [==============================] - 34s 63ms/step - loss: 0.2035 - accuracy: 0.9253 - val_loss: 0.3021 - val_accuracy: 0.9051 - lr: 5.0000e-04\n",
            "Epoch 38/100\n",
            "538/538 [==============================] - 33s 62ms/step - loss: 0.1986 - accuracy: 0.9278 - val_loss: 0.3191 - val_accuracy: 0.9025 - lr: 5.0000e-04\n",
            "Epoch 39/100\n",
            "538/538 [==============================] - 34s 62ms/step - loss: 0.1733 - accuracy: 0.9380 - val_loss: 0.3241 - val_accuracy: 0.9144 - lr: 5.0000e-04\n",
            "Epoch 40/100\n",
            "538/538 [==============================] - 34s 62ms/step - loss: 0.1830 - accuracy: 0.9351 - val_loss: 0.3401 - val_accuracy: 0.8933 - lr: 5.0000e-04\n",
            "Epoch 41/100\n",
            "538/538 [==============================] - 34s 62ms/step - loss: 0.1904 - accuracy: 0.9310 - val_loss: 0.3718 - val_accuracy: 0.8801 - lr: 5.0000e-04\n",
            "Epoch 42/100\n",
            "537/538 [============================>.] - ETA: 0s - loss: 0.1832 - accuracy: 0.9339\n",
            "Epoch 42: ReduceLROnPlateau reducing learning rate to 0.0002500000118743628.\n",
            "538/538 [==============================] - 34s 62ms/step - loss: 0.1832 - accuracy: 0.9339 - val_loss: 0.3016 - val_accuracy: 0.9038 - lr: 5.0000e-04\n",
            "Epoch 43/100\n",
            "538/538 [==============================] - 33s 62ms/step - loss: 0.1562 - accuracy: 0.9442 - val_loss: 0.2658 - val_accuracy: 0.9223 - lr: 2.5000e-04\n",
            "Epoch 44/100\n",
            "538/538 [==============================] - 34s 62ms/step - loss: 0.1444 - accuracy: 0.9469 - val_loss: 0.2655 - val_accuracy: 0.9289 - lr: 2.5000e-04\n",
            "Epoch 45/100\n",
            "538/538 [==============================] - 33s 62ms/step - loss: 0.1425 - accuracy: 0.9492 - val_loss: 0.2540 - val_accuracy: 0.9289 - lr: 2.5000e-04\n",
            "Epoch 46/100\n",
            "538/538 [==============================] - 33s 62ms/step - loss: 0.1286 - accuracy: 0.9553 - val_loss: 0.2466 - val_accuracy: 0.9223 - lr: 2.5000e-04\n",
            "Epoch 47/100\n",
            "537/538 [============================>.] - ETA: 0s - loss: 0.1280 - accuracy: 0.9550\n",
            "Epoch 47: ReduceLROnPlateau reducing learning rate to 0.0001250000059371814.\n",
            "538/538 [==============================] - 34s 62ms/step - loss: 0.1282 - accuracy: 0.9549 - val_loss: 0.2475 - val_accuracy: 0.9289 - lr: 2.5000e-04\n",
            "Epoch 48/100\n",
            "538/538 [==============================] - 33s 62ms/step - loss: 0.1212 - accuracy: 0.9574 - val_loss: 0.2308 - val_accuracy: 0.9236 - lr: 1.2500e-04\n",
            "Epoch 49/100\n",
            "538/538 [==============================] - 34s 62ms/step - loss: 0.1165 - accuracy: 0.9589 - val_loss: 0.2187 - val_accuracy: 0.9341 - lr: 1.2500e-04\n",
            "Epoch 50/100\n",
            "538/538 [==============================] - 34s 62ms/step - loss: 0.1135 - accuracy: 0.9598 - val_loss: 0.2135 - val_accuracy: 0.9354 - lr: 1.2500e-04\n",
            "Epoch 51/100\n",
            "538/538 [==============================] - 33s 62ms/step - loss: 0.1028 - accuracy: 0.9642 - val_loss: 0.2048 - val_accuracy: 0.9328 - lr: 1.2500e-04\n",
            "Epoch 52/100\n",
            "538/538 [==============================] - 34s 62ms/step - loss: 0.1046 - accuracy: 0.9638 - val_loss: 0.2027 - val_accuracy: 0.9354 - lr: 1.2500e-04\n",
            "Epoch 53/100\n",
            "537/538 [============================>.] - ETA: 0s - loss: 0.1017 - accuracy: 0.9651\n",
            "Epoch 53: ReduceLROnPlateau reducing learning rate to 6.25000029685907e-05.\n",
            "538/538 [==============================] - 33s 62ms/step - loss: 0.1021 - accuracy: 0.9650 - val_loss: 0.2081 - val_accuracy: 0.9354 - lr: 1.2500e-04\n",
            "Epoch 54/100\n",
            "538/538 [==============================] - 33s 62ms/step - loss: 0.1001 - accuracy: 0.9648 - val_loss: 0.1962 - val_accuracy: 0.9368 - lr: 6.2500e-05\n",
            "Epoch 55/100\n",
            "538/538 [==============================] - 34s 62ms/step - loss: 0.0947 - accuracy: 0.9687 - val_loss: 0.1856 - val_accuracy: 0.9420 - lr: 6.2500e-05\n",
            "Epoch 56/100\n",
            "538/538 [==============================] - 33s 62ms/step - loss: 0.0973 - accuracy: 0.9649 - val_loss: 0.1841 - val_accuracy: 0.9407 - lr: 6.2500e-05\n",
            "Epoch 57/100\n",
            "538/538 [==============================] - 33s 62ms/step - loss: 0.0932 - accuracy: 0.9677 - val_loss: 0.1854 - val_accuracy: 0.9473 - lr: 6.2500e-05\n",
            "Epoch 58/100\n",
            "538/538 [==============================] - 34s 63ms/step - loss: 0.0910 - accuracy: 0.9679 - val_loss: 0.1828 - val_accuracy: 0.9460 - lr: 6.2500e-05\n",
            "Epoch 59/100\n",
            "538/538 [==============================] - 33s 62ms/step - loss: 0.0952 - accuracy: 0.9681 - val_loss: 0.1854 - val_accuracy: 0.9460 - lr: 6.2500e-05\n",
            "Epoch 60/100\n",
            "538/538 [==============================] - 33s 62ms/step - loss: 0.0956 - accuracy: 0.9660 - val_loss: 0.1838 - val_accuracy: 0.9486 - lr: 6.2500e-05\n",
            "Epoch 61/100\n",
            "538/538 [==============================] - 33s 62ms/step - loss: 0.0912 - accuracy: 0.9691 - val_loss: 0.1779 - val_accuracy: 0.9526 - lr: 6.2500e-05\n",
            "Epoch 62/100\n",
            "538/538 [==============================] - 34s 62ms/step - loss: 0.0896 - accuracy: 0.9695 - val_loss: 0.1931 - val_accuracy: 0.9513 - lr: 6.2500e-05\n",
            "Epoch 63/100\n",
            "538/538 [==============================] - 33s 62ms/step - loss: 0.0934 - accuracy: 0.9673 - val_loss: 0.1915 - val_accuracy: 0.9420 - lr: 6.2500e-05\n",
            "Epoch 64/100\n",
            "537/538 [============================>.] - ETA: 0s - loss: 0.0846 - accuracy: 0.9703\n",
            "Epoch 64: ReduceLROnPlateau reducing learning rate to 3.125000148429535e-05.\n",
            "538/538 [==============================] - 34s 62ms/step - loss: 0.0846 - accuracy: 0.9703 - val_loss: 0.1910 - val_accuracy: 0.9433 - lr: 6.2500e-05\n",
            "Epoch 65/100\n",
            "538/538 [==============================] - 33s 62ms/step - loss: 0.0878 - accuracy: 0.9703 - val_loss: 0.1856 - val_accuracy: 0.9473 - lr: 3.1250e-05\n",
            "Epoch 66/100\n",
            "538/538 [==============================] - 34s 63ms/step - loss: 0.0824 - accuracy: 0.9725 - val_loss: 0.1909 - val_accuracy: 0.9420 - lr: 3.1250e-05\n"
          ]
        }
      ]
    },
    {
      "cell_type": "code",
      "source": [],
      "metadata": {
        "id": "Dy3rgzahunNm"
      },
      "execution_count": null,
      "outputs": []
    },
    {
      "cell_type": "code",
      "source": [
        "print(\"Accuracy of our model on test data : \" , model.evaluate(x_test,y_test)[1]*100 , \"%\")"
      ],
      "metadata": {
        "colab": {
          "base_uri": "https://localhost:8080/"
        },
        "id": "kG3KoYXzq3lF",
        "outputId": "6dafe6e1-8d92-4714-ca06-30e596b42d84"
      },
      "execution_count": 34,
      "outputs": [
        {
          "output_type": "stream",
          "name": "stdout",
          "text": [
            "72/72 [==============================] - 1s 19ms/step - loss: 0.1840 - accuracy: 0.9402\n",
            "Accuracy of our model on test data :  94.0246045589447 %\n"
          ]
        }
      ]
    },
    {
      "cell_type": "code",
      "source": [
        "epochs = [i for i in range(early_stop.stopped_epoch+1) ]\n",
        "fig , ax = plt.subplots(1,2)\n",
        "train_acc = history.history['accuracy']\n",
        "train_loss = history.history['loss']\n",
        "test_acc = history.history['val_accuracy']\n",
        "test_loss = history.history['val_loss']\n",
        "\n",
        "fig.set_size_inches(20,6)\n",
        "ax[0].plot(epochs , train_loss , label = 'Training Loss')\n",
        "ax[0].plot(epochs , test_loss , label = 'Testing Loss')\n",
        "ax[0].set_title('Training & Testing Loss')\n",
        "ax[0].legend()\n",
        "ax[0].set_xlabel(\"Epochs\")\n",
        "\n",
        "ax[1].plot(epochs , train_acc , label = 'Training Accuracy')\n",
        "ax[1].plot(epochs , test_acc , label = 'Testing Accuracy')\n",
        "ax[1].set_title('Training & Testing Accuracy')\n",
        "ax[1].legend()\n",
        "ax[1].set_xlabel(\"Epochs\")\n",
        "plt.show()"
      ],
      "metadata": {
        "colab": {
          "base_uri": "https://localhost:8080/",
          "height": 337
        },
        "id": "4d4GlWdVrOEk",
        "outputId": "937bf676-d1ee-428f-9a5d-20f7ecea830e"
      },
      "execution_count": 36,
      "outputs": [
        {
          "output_type": "display_data",
          "data": {
            "text/plain": [
              "<Figure size 2000x600 with 2 Axes>"
            ],
            "image/png": "[encoded data removed]"
          },
          "metadata": {}
        }
      ]
    },
    {
      "cell_type": "code",
      "source": [
        "pred_test = model.predict(x_test)\n",
        "\n",
        "y_pred = encoder.inverse_transform(pred_test)\n",
        "\n",
        "y_test = encoder.inverse_transform(y_test)"
      ],
      "metadata": {
        "colab": {
          "base_uri": "https://localhost:8080/"
        },
        "id": "GZIenjZWrQ26",
        "outputId": "8c230957-cdf4-40aa-d360-acf2d5f8b2fe"
      },
      "execution_count": 37,
      "outputs": [
        {
          "output_type": "stream",
          "name": "stdout",
          "text": [
            "72/72 [==============================] - 2s 17ms/step\n"
          ]
        }
      ]
    },
    {
      "cell_type": "code",
      "source": [
        "pred_test=model.predict(x_test)"
      ],
      "metadata": {
        "colab": {
          "base_uri": "https://localhost:8080/"
        },
        "id": "jZUpUX7yrUJG",
        "outputId": "a651d168-e24e-420e-dac8-a469eaf72736"
      },
      "execution_count": 38,
      "outputs": [
        {
          "output_type": "stream",
          "name": "stdout",
          "text": [
            "72/72 [==============================] - 1s 16ms/step\n"
          ]
        }
      ]
    },
    {
      "cell_type": "code",
      "source": [
        "y_pred.shape, pred_test.shape, y_test.shape, y_pred.flatten().shape"
      ],
      "metadata": {
        "colab": {
          "base_uri": "https://localhost:8080/"
        },
        "id": "y_60VtWyrV6d",
        "outputId": "5330f2e9-ae92-4328-e1e0-0f8d326960c3"
      },
      "execution_count": 39,
      "outputs": [
        {
          "output_type": "execute_result",
          "data": {
            "text/plain": [
              "((2276, 1), (2276, 6), (2276, 1), (2276,))"
            ]
          },
          "metadata": {},
          "execution_count": 39
        }
      ]
    },
    {
      "cell_type": "code",
      "source": [
        "df_temp = pd.DataFrame(columns=['Predicted Labels', 'Actual Labels'])\n",
        "df_temp['Predicted Labels'] = y_pred.flatten()\n",
        "df_temp['Actual Labels'] = y_test.flatten()"
      ],
      "metadata": {
        "id": "EcrPBikgrX6a"
      },
      "execution_count": 40,
      "outputs": []
    },
    {
      "cell_type": "code",
      "source": [
        "cm = confusion_matrix(y_test, y_pred)\n",
        "plt.figure(figsize = (12, 10))\n",
        "cm = pd.DataFrame(cm , index = [i for i in encoder.categories_] , columns = [i for i in encoder.categories_])\n",
        "sns.heatmap(cm, linecolor='white', cmap='Blues', linewidth=1, annot=True, fmt='')\n",
        "plt.title('Confusion Matrix', size=20)\n",
        "plt.xlabel('Predicted Labels', size=14)\n",
        "plt.ylabel('Actual Labels', size=14)\n",
        "plt.show()"
      ],
      "metadata": {
        "colab": {
          "base_uri": "https://localhost:8080/",
          "height": 885
        },
        "id": "uam-ESuerZp9",
        "outputId": "15d1949b-1b4c-42cd-8e6a-eb042769dc15"
      },
      "execution_count": 41,
      "outputs": [
        {
          "output_type": "display_data",
          "data": {
            "text/plain": [
              "<Figure size 1200x1000 with 2 Axes>"
            ],
            "image/png": "[encoded data removed]"
          },
          "metadata": {}
        }
      ]
    },
    {
      "cell_type": "code",
      "source": [
        "print(classification_report(y_test, y_pred, target_names=['twenties', 'thirties', 'forties', 'fifties', 'sixties', 'seventies']))"
      ],
      "metadata": {
        "colab": {
          "base_uri": "https://localhost:8080/"
        },
        "id": "rFkUQEgzrbHC",
        "outputId": "88029bee-fa6c-4cf3-888b-20266e46d3b7"
      },
      "execution_count": 42,
      "outputs": [
        {
          "output_type": "stream",
          "name": "stdout",
          "text": [
            "              precision    recall  f1-score   support\n",
            "\n",
            "    twenties       0.91      0.95      0.93       283\n",
            "    thirties       0.93      0.94      0.93       340\n",
            "     forties       1.00      0.91      0.95        23\n",
            "     fifties       0.92      0.97      0.95       135\n",
            "     sixties       0.94      0.94      0.94       729\n",
            "   seventies       0.95      0.94      0.95       766\n",
            "\n",
            "    accuracy                           0.94      2276\n",
            "   macro avg       0.94      0.94      0.94      2276\n",
            "weighted avg       0.94      0.94      0.94      2276\n",
            "\n"
          ]
        }
      ]
    },
    {
      "cell_type": "markdown",
      "source": [
        "## From features and predicted age, predict emotion"
      ],
      "metadata": {
        "id": "_CBdBqgr-zCX"
      }
    },
    {
      "cell_type": "code",
      "source": [
        "Features = pd.read_csv('/content/drive/MyDrive/Prism/features_emotion_final.csv')"
      ],
      "metadata": {
        "id": "9-EhZLEMrh_O"
      },
      "execution_count": 63,
      "outputs": []
    },
    {
      "cell_type": "code",
      "source": [
        "Features = Features.fillna(0)\n",
        "print(Features.isna().any())\n",
        "Features.shape"
      ],
      "metadata": {
        "colab": {
          "base_uri": "https://localhost:8080/"
        },
        "id": "1USY02eU_PP4",
        "outputId": "b64a6f97-7c80-4a6a-c6ba-c7cee272d617"
      },
      "execution_count": 64,
      "outputs": [
        {
          "output_type": "stream",
          "name": "stdout",
          "text": [
            "0         False\n",
            "1         False\n",
            "2         False\n",
            "3         False\n",
            "4         False\n",
            "          ...  \n",
            "2372      False\n",
            "2373      False\n",
            "2374      False\n",
            "2375      False\n",
            "labels    False\n",
            "Length: 2377, dtype: bool\n"
          ]
        },
        {
          "output_type": "execute_result",
          "data": {
            "text/plain": [
              "(20228, 2377)"
            ]
          },
          "metadata": {},
          "execution_count": 64
        }
      ]
    },
    {
      "cell_type": "code",
      "source": [
        "Features"
      ],
      "metadata": {
        "colab": {
          "base_uri": "https://localhost:8080/",
          "height": 488
        },
        "id": "N4tDF66HBqPP",
        "outputId": "a2b258a3-72a8-4f88-e0ed-20befbca2242"
      },
      "execution_count": 65,
      "outputs": [
        {
          "output_type": "execute_result",
          "data": {
            "text/plain": [
              "              0         1         2         3         4         5         6  \\\n",
              "0      0.032715  0.059570  0.076660  0.065918  0.053223  0.031738  0.019531   \n",
              "1      0.032715  0.059570  0.076660  0.065918  0.053223  0.031738  0.019531   \n",
              "2      0.036621  0.057617  0.082031  0.076660  0.060547  0.044922  0.025879   \n",
              "3      0.036621  0.057617  0.083008  0.079590  0.064453  0.050781  0.032715   \n",
              "4      0.014648  0.026367  0.039062  0.043457  0.043945  0.039551  0.067383   \n",
              "...         ...       ...       ...       ...       ...       ...       ...   \n",
              "20223  0.020996  0.042480  0.063965  0.067383  0.062012  0.048828  0.036621   \n",
              "20224  0.010742  0.017578  0.023926  0.027344  0.033691  0.050293  0.069824   \n",
              "20225  0.039062  0.068848  0.100098  0.098633  0.108887  0.101074  0.095215   \n",
              "20226  0.011719  0.019043  0.024414  0.031250  0.048340  0.070312  0.087891   \n",
              "20227  0.038086  0.070801  0.097168  0.118164  0.129883  0.126953  0.124023   \n",
              "\n",
              "              7         8         9  ...  2367  2368  2369  2370  2371  2372  \\\n",
              "0      0.020508  0.020508  0.023926  ...   0.0   0.0   0.0   0.0   0.0   0.0   \n",
              "1      0.020508  0.020508  0.023926  ...   0.0   0.0   0.0   0.0   0.0   0.0   \n",
              "2      0.020996  0.024414  0.028320  ...   0.0   0.0   0.0   0.0   0.0   0.0   \n",
              "3      0.028809  0.038086  0.040039  ...   0.0   0.0   0.0   0.0   0.0   0.0   \n",
              "4      0.098633  0.099121  0.107910  ...   0.0   0.0   0.0   0.0   0.0   0.0   \n",
              "...         ...       ...       ...  ...   ...   ...   ...   ...   ...   ...   \n",
              "20223  0.041504  0.042969  0.047363  ...   0.0   0.0   0.0   0.0   0.0   0.0   \n",
              "20224  0.083984  0.093750  0.086914  ...   0.0   0.0   0.0   0.0   0.0   0.0   \n",
              "20225  0.097168  0.091797  0.085938  ...   0.0   0.0   0.0   0.0   0.0   0.0   \n",
              "20226  0.099609  0.093262  0.080078  ...   0.0   0.0   0.0   0.0   0.0   0.0   \n",
              "20227  0.112305  0.095215  0.082031  ...   0.0   0.0   0.0   0.0   0.0   0.0   \n",
              "\n",
              "       2373  2374  2375        labels  \n",
              "0       0.0   0.0   0.0     happiness  \n",
              "1       0.0   0.0   0.0     happiness  \n",
              "2       0.0   0.0   0.0     happiness  \n",
              "3       0.0   0.0   0.0     happiness  \n",
              "4       0.0   0.0   0.0     happiness  \n",
              "...     ...   ...   ...           ...  \n",
              "20223   0.0   0.0   0.0  anxiety/fear  \n",
              "20224   0.0   0.0   0.0       neutral  \n",
              "20225   0.0   0.0   0.0       neutral  \n",
              "20226   0.0   0.0   0.0       neutral  \n",
              "20227   0.0   0.0   0.0       neutral  \n",
              "\n",
              "[20228 rows x 2377 columns]"
            ],
            "text/html": [
              "\n",
              "\n",
              "  <div id=\"df-3e942a79-7080-4a68-97f0-aca00c37107d\">\n",
              "    <div class=\"colab-df-container\">\n",
              "      <div>\n",
              "<style scoped>\n",
              "    .dataframe tbody tr th:only-of-type {\n",
              "        vertical-align: middle;\n",
              "    }\n",
              "\n",
              "    .dataframe tbody tr th {\n",
              "        vertical-align: top;\n",
              "    }\n",
              "\n",
              "    .dataframe thead th {\n",
              "        text-align: right;\n",
              "    }\n",
              "</style>\n",
              "<table border=\"1\" class=\"dataframe\">\n",
              "  <thead>\n",
              "    <tr style=\"text-align: right;\">\n",
              "      <th></th>\n",
              "      <th>0</th>\n",
              "      <th>1</th>\n",
              "      <th>2</th>\n",
              "      <th>3</th>\n",
              "      <th>4</th>\n",
              "      <th>5</th>\n",
              "      <th>6</th>\n",
              "      <th>7</th>\n",
              "      <th>8</th>\n",
              "      <th>9</th>\n",
              "      <th>...</th>\n",
              "      <th>2367</th>\n",
              "      <th>2368</th>\n",
              "      <th>2369</th>\n",
              "      <th>2370</th>\n",
              "      <th>2371</th>\n",
              "      <th>2372</th>\n",
              "      <th>2373</th>\n",
              "      <th>2374</th>\n",
              "      <th>2375</th>\n",
              "      <th>labels</th>\n",
              "    </tr>\n",
              "  </thead>\n",
              "  <tbody>\n",
              "    <tr>\n",
              "      <th>0</th>\n",
              "      <td>0.032715</td>\n",
              "      <td>0.059570</td>\n",
              "      <td>0.076660</td>\n",
              "      <td>0.065918</td>\n",
              "      <td>0.053223</td>\n",
              "      <td>0.031738</td>\n",
              "      <td>0.019531</td>\n",
              "      <td>0.020508</td>\n",
              "      <td>0.020508</td>\n",
              "      <td>0.023926</td>\n",
              "      <td>...</td>\n",
              "      <td>0.0</td>\n",
              "      <td>0.0</td>\n",
              "      <td>0.0</td>\n",
              "      <td>0.0</td>\n",
              "      <td>0.0</td>\n",
              "      <td>0.0</td>\n",
              "      <td>0.0</td>\n",
              "      <td>0.0</td>\n",
              "      <td>0.0</td>\n",
              "      <td>happiness</td>\n",
              "    </tr>\n",
              "    <tr>\n",
              "      <th>1</th>\n",
              "      <td>0.032715</td>\n",
              "      <td>0.059570</td>\n",
              "      <td>0.076660</td>\n",
              "      <td>0.065918</td>\n",
              "      <td>0.053223</td>\n",
              "      <td>0.031738</td>\n",
              "      <td>0.019531</td>\n",
              "      <td>0.020508</td>\n",
              "      <td>0.020508</td>\n",
              "      <td>0.023926</td>\n",
              "      <td>...</td>\n",
              "      <td>0.0</td>\n",
              "      <td>0.0</td>\n",
              "      <td>0.0</td>\n",
              "      <td>0.0</td>\n",
              "      <td>0.0</td>\n",
              "      <td>0.0</td>\n",
              "      <td>0.0</td>\n",
              "      <td>0.0</td>\n",
              "      <td>0.0</td>\n",
              "      <td>happiness</td>\n",
              "    </tr>\n",
              "    <tr>\n",
              "      <th>2</th>\n",
              "      <td>0.036621</td>\n",
              "      <td>0.057617</td>\n",
              "      <td>0.082031</td>\n",
              "      <td>0.076660</td>\n",
              "      <td>0.060547</td>\n",
              "      <td>0.044922</td>\n",
              "      <td>0.025879</td>\n",
              "      <td>0.020996</td>\n",
              "      <td>0.024414</td>\n",
              "      <td>0.028320</td>\n",
              "      <td>...</td>\n",
              "      <td>0.0</td>\n",
              "      <td>0.0</td>\n",
              "      <td>0.0</td>\n",
              "      <td>0.0</td>\n",
              "      <td>0.0</td>\n",
              "      <td>0.0</td>\n",
              "      <td>0.0</td>\n",
              "      <td>0.0</td>\n",
              "      <td>0.0</td>\n",
              "      <td>happiness</td>\n",
              "    </tr>\n",
              "    <tr>\n",
              "      <th>3</th>\n",
              "      <td>0.036621</td>\n",
              "      <td>0.057617</td>\n",
              "      <td>0.083008</td>\n",
              "      <td>0.079590</td>\n",
              "      <td>0.064453</td>\n",
              "      <td>0.050781</td>\n",
              "      <td>0.032715</td>\n",
              "      <td>0.028809</td>\n",
              "      <td>0.038086</td>\n",
              "      <td>0.040039</td>\n",
              "      <td>...</td>\n",
              "      <td>0.0</td>\n",
              "      <td>0.0</td>\n",
              "      <td>0.0</td>\n",
              "      <td>0.0</td>\n",
              "      <td>0.0</td>\n",
              "      <td>0.0</td>\n",
              "      <td>0.0</td>\n",
              "      <td>0.0</td>\n",
              "      <td>0.0</td>\n",
              "      <td>happiness</td>\n",
              "    </tr>\n",
              "    <tr>\n",
              "      <th>4</th>\n",
              "      <td>0.014648</td>\n",
              "      <td>0.026367</td>\n",
              "      <td>0.039062</td>\n",
              "      <td>0.043457</td>\n",
              "      <td>0.043945</td>\n",
              "      <td>0.039551</td>\n",
              "      <td>0.067383</td>\n",
              "      <td>0.098633</td>\n",
              "      <td>0.099121</td>\n",
              "      <td>0.107910</td>\n",
              "      <td>...</td>\n",
              "      <td>0.0</td>\n",
              "      <td>0.0</td>\n",
              "      <td>0.0</td>\n",
              "      <td>0.0</td>\n",
              "      <td>0.0</td>\n",
              "      <td>0.0</td>\n",
              "      <td>0.0</td>\n",
              "      <td>0.0</td>\n",
              "      <td>0.0</td>\n",
              "      <td>happiness</td>\n",
              "    </tr>\n",
              "    <tr>\n",
              "      <th>...</th>\n",
              "      <td>...</td>\n",
              "      <td>...</td>\n",
              "      <td>...</td>\n",
              "      <td>...</td>\n",
              "      <td>...</td>\n",
              "      <td>...</td>\n",
              "      <td>...</td>\n",
              "      <td>...</td>\n",
              "      <td>...</td>\n",
              "      <td>...</td>\n",
              "      <td>...</td>\n",
              "      <td>...</td>\n",
              "      <td>...</td>\n",
              "      <td>...</td>\n",
              "      <td>...</td>\n",
              "      <td>...</td>\n",
              "      <td>...</td>\n",
              "      <td>...</td>\n",
              "      <td>...</td>\n",
              "      <td>...</td>\n",
              "      <td>...</td>\n",
              "    </tr>\n",
              "    <tr>\n",
              "      <th>20223</th>\n",
              "      <td>0.020996</td>\n",
              "      <td>0.042480</td>\n",
              "      <td>0.063965</td>\n",
              "      <td>0.067383</td>\n",
              "      <td>0.062012</td>\n",
              "      <td>0.048828</td>\n",
              "      <td>0.036621</td>\n",
              "      <td>0.041504</td>\n",
              "      <td>0.042969</td>\n",
              "      <td>0.047363</td>\n",
              "      <td>...</td>\n",
              "      <td>0.0</td>\n",
              "      <td>0.0</td>\n",
              "      <td>0.0</td>\n",
              "      <td>0.0</td>\n",
              "      <td>0.0</td>\n",
              "      <td>0.0</td>\n",
              "      <td>0.0</td>\n",
              "      <td>0.0</td>\n",
              "      <td>0.0</td>\n",
              "      <td>anxiety/fear</td>\n",
              "    </tr>\n",
              "    <tr>\n",
              "      <th>20224</th>\n",
              "      <td>0.010742</td>\n",
              "      <td>0.017578</td>\n",
              "      <td>0.023926</td>\n",
              "      <td>0.027344</td>\n",
              "      <td>0.033691</td>\n",
              "      <td>0.050293</td>\n",
              "      <td>0.069824</td>\n",
              "      <td>0.083984</td>\n",
              "      <td>0.093750</td>\n",
              "      <td>0.086914</td>\n",
              "      <td>...</td>\n",
              "      <td>0.0</td>\n",
              "      <td>0.0</td>\n",
              "      <td>0.0</td>\n",
              "      <td>0.0</td>\n",
              "      <td>0.0</td>\n",
              "      <td>0.0</td>\n",
              "      <td>0.0</td>\n",
              "      <td>0.0</td>\n",
              "      <td>0.0</td>\n",
              "      <td>neutral</td>\n",
              "    </tr>\n",
              "    <tr>\n",
              "      <th>20225</th>\n",
              "      <td>0.039062</td>\n",
              "      <td>0.068848</td>\n",
              "      <td>0.100098</td>\n",
              "      <td>0.098633</td>\n",
              "      <td>0.108887</td>\n",
              "      <td>0.101074</td>\n",
              "      <td>0.095215</td>\n",
              "      <td>0.097168</td>\n",
              "      <td>0.091797</td>\n",
              "      <td>0.085938</td>\n",
              "      <td>...</td>\n",
              "      <td>0.0</td>\n",
              "      <td>0.0</td>\n",
              "      <td>0.0</td>\n",
              "      <td>0.0</td>\n",
              "      <td>0.0</td>\n",
              "      <td>0.0</td>\n",
              "      <td>0.0</td>\n",
              "      <td>0.0</td>\n",
              "      <td>0.0</td>\n",
              "      <td>neutral</td>\n",
              "    </tr>\n",
              "    <tr>\n",
              "      <th>20226</th>\n",
              "      <td>0.011719</td>\n",
              "      <td>0.019043</td>\n",
              "      <td>0.024414</td>\n",
              "      <td>0.031250</td>\n",
              "      <td>0.048340</td>\n",
              "      <td>0.070312</td>\n",
              "      <td>0.087891</td>\n",
              "      <td>0.099609</td>\n",
              "      <td>0.093262</td>\n",
              "      <td>0.080078</td>\n",
              "      <td>...</td>\n",
              "      <td>0.0</td>\n",
              "      <td>0.0</td>\n",
              "      <td>0.0</td>\n",
              "      <td>0.0</td>\n",
              "      <td>0.0</td>\n",
              "      <td>0.0</td>\n",
              "      <td>0.0</td>\n",
              "      <td>0.0</td>\n",
              "      <td>0.0</td>\n",
              "      <td>neutral</td>\n",
              "    </tr>\n",
              "    <tr>\n",
              "      <th>20227</th>\n",
              "      <td>0.038086</td>\n",
              "      <td>0.070801</td>\n",
              "      <td>0.097168</td>\n",
              "      <td>0.118164</td>\n",
              "      <td>0.129883</td>\n",
              "      <td>0.126953</td>\n",
              "      <td>0.124023</td>\n",
              "      <td>0.112305</td>\n",
              "      <td>0.095215</td>\n",
              "      <td>0.082031</td>\n",
              "      <td>...</td>\n",
              "      <td>0.0</td>\n",
              "      <td>0.0</td>\n",
              "      <td>0.0</td>\n",
              "      <td>0.0</td>\n",
              "      <td>0.0</td>\n",
              "      <td>0.0</td>\n",
              "      <td>0.0</td>\n",
              "      <td>0.0</td>\n",
              "      <td>0.0</td>\n",
              "      <td>neutral</td>\n",
              "    </tr>\n",
              "  </tbody>\n",
              "</table>\n",
              "<p>20228 rows × 2377 columns</p>\n",
              "</div>\n",
              "      <button class=\"colab-df-convert\" onclick=\"convertToInteractive('df-3e942a79-7080-4a68-97f0-aca00c37107d')\"\n",
              "              title=\"Convert this dataframe to an interactive table.\"\n",
              "              style=\"display:none;\">\n",
              "\n",
              "  <svg xmlns=\"http://www.w3.org/2000/svg\" height=\"24px\"viewBox=\"0 0 24 24\"\n",
              "       width=\"24px\">\n",
              "    <path d=\"M0 0h24v24H0V0z\" fill=\"none\"/>\n",
              "    <path d=\"M18.56 5.44l.94 2.06.94-2.06 2.06-.94-2.06-.94-.94-2.06-.94 2.06-2.06.94zm-11 1L8.5 8.5l.94-2.06 2.06-.94-2.06-.94L8.5 2.5l-.94 2.06-2.06.94zm10 10l.94 2.06.94-2.06 2.06-.94-2.06-.94-.94-2.06-.94 2.06-2.06.94z\"/><path d=\"M17.41 7.96l-1.37-1.37c-.4-.4-.92-.59-1.43-.59-.52 0-1.04.2-1.43.59L10.3 9.45l-7.72 7.72c-.78.78-.78 2.05 0 2.83L4 21.41c.39.39.9.59 1.41.59.51 0 1.02-.2 1.41-.59l7.78-7.78 2.81-2.81c.8-.78.8-2.07 0-2.86zM5.41 20L4 18.59l7.72-7.72 1.47 1.35L5.41 20z\"/>\n",
              "  </svg>\n",
              "      </button>\n",
              "\n",
              "\n",
              "\n",
              "    <div id=\"df-5f59a994-929f-4b58-80e9-129a0a9e51fa\">\n",
              "      <button class=\"colab-df-quickchart\" onclick=\"quickchart('df-5f59a994-929f-4b58-80e9-129a0a9e51fa')\"\n",
              "              title=\"Suggest charts.\"\n",
              "              style=\"display:none;\">\n",
              "\n",
              "<svg xmlns=\"http://www.w3.org/2000/svg\" height=\"24px\"viewBox=\"0 0 24 24\"\n",
              "     width=\"24px\">\n",
              "    <g>\n",
              "        <path d=\"M19 3H5c-1.1 0-2 .9-2 2v14c0 1.1.9 2 2 2h14c1.1 0 2-.9 2-2V5c0-1.1-.9-2-2-2zM9 17H7v-7h2v7zm4 0h-2V7h2v10zm4 0h-2v-4h2v4z\"/>\n",
              "    </g>\n",
              "</svg>\n",
              "      </button>\n",
              "    </div>\n",
              "\n",
              "<style>\n",
              "  .colab-df-quickchart {\n",
              "    background-color: #E8F0FE;\n",
              "    border: none;\n",
              "    border-radius: 50%;\n",
              "    cursor: pointer;\n",
              "    display: none;\n",
              "    fill: #1967D2;\n",
              "    height: 32px;\n",
              "    padding: 0 0 0 0;\n",
              "    width: 32px;\n",
              "  }\n",
              "\n",
              "  .colab-df-quickchart:hover {\n",
              "    background-color: #E2EBFA;\n",
              "    box-shadow: 0px 1px 2px rgba(60, 64, 67, 0.3), 0px 1px 3px 1px rgba(60, 64, 67, 0.15);\n",
              "    fill: #174EA6;\n",
              "  }\n",
              "\n",
              "  [theme=dark] .colab-df-quickchart {\n",
              "    background-color: #3B4455;\n",
              "    fill: #D2E3FC;\n",
              "  }\n",
              "\n",
              "  [theme=dark] .colab-df-quickchart:hover {\n",
              "    background-color: #434B5C;\n",
              "    box-shadow: 0px 1px 3px 1px rgba(0, 0, 0, 0.15);\n",
              "    filter: drop-shadow(0px 1px 2px rgba(0, 0, 0, 0.3));\n",
              "    fill: #FFFFFF;\n",
              "  }\n",
              "</style>\n",
              "\n",
              "    <script>\n",
              "      async function quickchart(key) {\n",
              "        const containerElement = document.querySelector('#' + key);\n",
              "        const charts = await google.colab.kernel.invokeFunction(\n",
              "            'suggestCharts', [key], {});\n",
              "      }\n",
              "    </script>\n",
              "\n",
              "      <script>\n",
              "\n",
              "function displayQuickchartButton(domScope) {\n",
              "  let quickchartButtonEl =\n",
              "    domScope.querySelector('#df-5f59a994-929f-4b58-80e9-129a0a9e51fa button.colab-df-quickchart');\n",
              "  quickchartButtonEl.style.display =\n",
              "    google.colab.kernel.accessAllowed ? 'block' : 'none';\n",
              "}\n",
              "\n",
              "        displayQuickchartButton(document);\n",
              "      </script>\n",
              "      <style>\n",
              "    .colab-df-container {\n",
              "      display:flex;\n",
              "      flex-wrap:wrap;\n",
              "      gap: 12px;\n",
              "    }\n",
              "\n",
              "    .colab-df-convert {\n",
              "      background-color: #E8F0FE;\n",
              "      border: none;\n",
              "      border-radius: 50%;\n",
              "      cursor: pointer;\n",
              "      display: none;\n",
              "      fill: #1967D2;\n",
              "      height: 32px;\n",
              "      padding: 0 0 0 0;\n",
              "      width: 32px;\n",
              "    }\n",
              "\n",
              "    .colab-df-convert:hover {\n",
              "      background-color: #E2EBFA;\n",
              "      box-shadow: 0px 1px 2px rgba(60, 64, 67, 0.3), 0px 1px 3px 1px rgba(60, 64, 67, 0.15);\n",
              "      fill: #174EA6;\n",
              "    }\n",
              "\n",
              "    [theme=dark] .colab-df-convert {\n",
              "      background-color: #3B4455;\n",
              "      fill: #D2E3FC;\n",
              "    }\n",
              "\n",
              "    [theme=dark] .colab-df-convert:hover {\n",
              "      background-color: #434B5C;\n",
              "      box-shadow: 0px 1px 3px 1px rgba(0, 0, 0, 0.15);\n",
              "      filter: drop-shadow(0px 1px 2px rgba(0, 0, 0, 0.3));\n",
              "      fill: #FFFFFF;\n",
              "    }\n",
              "  </style>\n",
              "\n",
              "      <script>\n",
              "        const buttonEl =\n",
              "          document.querySelector('#df-3e942a79-7080-4a68-97f0-aca00c37107d button.colab-df-convert');\n",
              "        buttonEl.style.display =\n",
              "          google.colab.kernel.accessAllowed ? 'block' : 'none';\n",
              "\n",
              "        async function convertToInteractive(key) {\n",
              "          const element = document.querySelector('#df-3e942a79-7080-4a68-97f0-aca00c37107d');\n",
              "          const dataTable =\n",
              "            await google.colab.kernel.invokeFunction('convertToInteractive',\n",
              "                                                     [key], {});\n",
              "          if (!dataTable) return;\n",
              "\n",
              "          const docLinkHtml = 'Like what you see? Visit the ' +\n",
              "            '<a target=\"_blank\" href=https://colab.research.google.com/notebooks/data_table.ipynb>data table notebook</a>'\n",
              "            + ' to learn more about interactive tables.';\n",
              "          element.innerHTML = '';\n",
              "          dataTable['output_type'] = 'display_data';\n",
              "          await google.colab.output.renderOutput(dataTable, element);\n",
              "          const docLink = document.createElement('div');\n",
              "          docLink.innerHTML = docLinkHtml;\n",
              "          element.appendChild(docLink);\n",
              "        }\n",
              "      </script>\n",
              "    </div>\n",
              "  </div>\n"
            ]
          },
          "metadata": {},
          "execution_count": 65
        }
      ]
    },
    {
      "cell_type": "code",
      "source": [
        "X = Features.iloc[: ,:-1].values\n",
        "Y = Features['labels'].values"
      ],
      "metadata": {
        "id": "PzNP40mN_aOd"
      },
      "execution_count": 66,
      "outputs": []
    },
    {
      "cell_type": "code",
      "source": [
        "scaler = StandardScaler()\n",
        "X1 = scaler.fit_transform(X)\n",
        "X1 = np.expand_dims(X1, axis=2)"
      ],
      "metadata": {
        "id": "wqhpDLlX_fFj"
      },
      "execution_count": 67,
      "outputs": []
    },
    {
      "cell_type": "code",
      "source": [
        "Z=model.predict(X1)"
      ],
      "metadata": {
        "colab": {
          "base_uri": "https://localhost:8080/"
        },
        "id": "tB2fP5ZT_giC",
        "outputId": "58be653d-ba83-4824-ccda-5931e74d6c9f"
      },
      "execution_count": 68,
      "outputs": [
        {
          "output_type": "stream",
          "name": "stdout",
          "text": [
            "633/633 [==============================] - 10s 16ms/step\n"
          ]
        }
      ]
    },
    {
      "cell_type": "code",
      "source": [
        "Z = encoder.inverse_transform(Z)"
      ],
      "metadata": {
        "id": "6T8WRAKQ_iRE"
      },
      "execution_count": 69,
      "outputs": []
    },
    {
      "cell_type": "code",
      "source": [
        "Z = Z.flatten()"
      ],
      "metadata": {
        "id": "BfQv2FKd_kBE"
      },
      "execution_count": 70,
      "outputs": []
    },
    {
      "cell_type": "code",
      "source": [
        "Features = pd.DataFrame(X)\n",
        "Features['predicted age'] = Z\n",
        "Features['labels'] = Y"
      ],
      "metadata": {
        "id": "5NKa-a3X_llh"
      },
      "execution_count": 71,
      "outputs": []
    },
    {
      "cell_type": "code",
      "source": [
        "Features"
      ],
      "metadata": {
        "colab": {
          "base_uri": "https://localhost:8080/",
          "height": 505
        },
        "id": "DFiuZMtv_nMN",
        "outputId": "6ceacc5b-5c44-458d-8d4d-39754fa18b53"
      },
      "execution_count": 72,
      "outputs": [
        {
          "output_type": "execute_result",
          "data": {
            "text/plain": [
              "              0         1         2         3         4         5         6  \\\n",
              "0      0.032715  0.059570  0.076660  0.065918  0.053223  0.031738  0.019531   \n",
              "1      0.032715  0.059570  0.076660  0.065918  0.053223  0.031738  0.019531   \n",
              "2      0.036621  0.057617  0.082031  0.076660  0.060547  0.044922  0.025879   \n",
              "3      0.036621  0.057617  0.083008  0.079590  0.064453  0.050781  0.032715   \n",
              "4      0.014648  0.026367  0.039062  0.043457  0.043945  0.039551  0.067383   \n",
              "...         ...       ...       ...       ...       ...       ...       ...   \n",
              "20223  0.020996  0.042480  0.063965  0.067383  0.062012  0.048828  0.036621   \n",
              "20224  0.010742  0.017578  0.023926  0.027344  0.033691  0.050293  0.069824   \n",
              "20225  0.039062  0.068848  0.100098  0.098633  0.108887  0.101074  0.095215   \n",
              "20226  0.011719  0.019043  0.024414  0.031250  0.048340  0.070312  0.087891   \n",
              "20227  0.038086  0.070801  0.097168  0.118164  0.129883  0.126953  0.124023   \n",
              "\n",
              "              7         8         9  ...  2368  2369  2370  2371  2372  2373  \\\n",
              "0      0.020508  0.020508  0.023926  ...   0.0   0.0   0.0   0.0   0.0   0.0   \n",
              "1      0.020508  0.020508  0.023926  ...   0.0   0.0   0.0   0.0   0.0   0.0   \n",
              "2      0.020996  0.024414  0.028320  ...   0.0   0.0   0.0   0.0   0.0   0.0   \n",
              "3      0.028809  0.038086  0.040039  ...   0.0   0.0   0.0   0.0   0.0   0.0   \n",
              "4      0.098633  0.099121  0.107910  ...   0.0   0.0   0.0   0.0   0.0   0.0   \n",
              "...         ...       ...       ...  ...   ...   ...   ...   ...   ...   ...   \n",
              "20223  0.041504  0.042969  0.047363  ...   0.0   0.0   0.0   0.0   0.0   0.0   \n",
              "20224  0.083984  0.093750  0.086914  ...   0.0   0.0   0.0   0.0   0.0   0.0   \n",
              "20225  0.097168  0.091797  0.085938  ...   0.0   0.0   0.0   0.0   0.0   0.0   \n",
              "20226  0.099609  0.093262  0.080078  ...   0.0   0.0   0.0   0.0   0.0   0.0   \n",
              "20227  0.112305  0.095215  0.082031  ...   0.0   0.0   0.0   0.0   0.0   0.0   \n",
              "\n",
              "       2374  2375  predicted age        labels  \n",
              "0       0.0   0.0        neutral     happiness  \n",
              "1       0.0   0.0        neutral     happiness  \n",
              "2       0.0   0.0        neutral     happiness  \n",
              "3       0.0   0.0        neutral     happiness  \n",
              "4       0.0   0.0        neutral     happiness  \n",
              "...     ...   ...            ...           ...  \n",
              "20223   0.0   0.0            sad  anxiety/fear  \n",
              "20224   0.0   0.0            sad       neutral  \n",
              "20225   0.0   0.0            sad       neutral  \n",
              "20226   0.0   0.0            sad       neutral  \n",
              "20227   0.0   0.0            sad       neutral  \n",
              "\n",
              "[20228 rows x 2378 columns]"
            ],
            "text/html": [
              "\n",
              "\n",
              "  <div id=\"df-33265375-06be-41b9-b061-f15ffb2ac29d\">\n",
              "    <div class=\"colab-df-container\">\n",
              "      <div>\n",
              "<style scoped>\n",
              "    .dataframe tbody tr th:only-of-type {\n",
              "        vertical-align: middle;\n",
              "    }\n",
              "\n",
              "    .dataframe tbody tr th {\n",
              "        vertical-align: top;\n",
              "    }\n",
              "\n",
              "    .dataframe thead th {\n",
              "        text-align: right;\n",
              "    }\n",
              "</style>\n",
              "<table border=\"1\" class=\"dataframe\">\n",
              "  <thead>\n",
              "    <tr style=\"text-align: right;\">\n",
              "      <th></th>\n",
              "      <th>0</th>\n",
              "      <th>1</th>\n",
              "      <th>2</th>\n",
              "      <th>3</th>\n",
              "      <th>4</th>\n",
              "      <th>5</th>\n",
              "      <th>6</th>\n",
              "      <th>7</th>\n",
              "      <th>8</th>\n",
              "      <th>9</th>\n",
              "      <th>...</th>\n",
              "      <th>2368</th>\n",
              "      <th>2369</th>\n",
              "      <th>2370</th>\n",
              "      <th>2371</th>\n",
              "      <th>2372</th>\n",
              "      <th>2373</th>\n",
              "      <th>2374</th>\n",
              "      <th>2375</th>\n",
              "      <th>predicted age</th>\n",
              "      <th>labels</th>\n",
              "    </tr>\n",
              "  </thead>\n",
              "  <tbody>\n",
              "    <tr>\n",
              "      <th>0</th>\n",
              "      <td>0.032715</td>\n",
              "      <td>0.059570</td>\n",
              "      <td>0.076660</td>\n",
              "      <td>0.065918</td>\n",
              "      <td>0.053223</td>\n",
              "      <td>0.031738</td>\n",
              "      <td>0.019531</td>\n",
              "      <td>0.020508</td>\n",
              "      <td>0.020508</td>\n",
              "      <td>0.023926</td>\n",
              "      <td>...</td>\n",
              "      <td>0.0</td>\n",
              "      <td>0.0</td>\n",
              "      <td>0.0</td>\n",
              "      <td>0.0</td>\n",
              "      <td>0.0</td>\n",
              "      <td>0.0</td>\n",
              "      <td>0.0</td>\n",
              "      <td>0.0</td>\n",
              "      <td>neutral</td>\n",
              "      <td>happiness</td>\n",
              "    </tr>\n",
              "    <tr>\n",
              "      <th>1</th>\n",
              "      <td>0.032715</td>\n",
              "      <td>0.059570</td>\n",
              "      <td>0.076660</td>\n",
              "      <td>0.065918</td>\n",
              "      <td>0.053223</td>\n",
              "      <td>0.031738</td>\n",
              "      <td>0.019531</td>\n",
              "      <td>0.020508</td>\n",
              "      <td>0.020508</td>\n",
              "      <td>0.023926</td>\n",
              "      <td>...</td>\n",
              "      <td>0.0</td>\n",
              "      <td>0.0</td>\n",
              "      <td>0.0</td>\n",
              "      <td>0.0</td>\n",
              "      <td>0.0</td>\n",
              "      <td>0.0</td>\n",
              "      <td>0.0</td>\n",
              "      <td>0.0</td>\n",
              "      <td>neutral</td>\n",
              "      <td>happiness</td>\n",
              "    </tr>\n",
              "    <tr>\n",
              "      <th>2</th>\n",
              "      <td>0.036621</td>\n",
              "      <td>0.057617</td>\n",
              "      <td>0.082031</td>\n",
              "      <td>0.076660</td>\n",
              "      <td>0.060547</td>\n",
              "      <td>0.044922</td>\n",
              "      <td>0.025879</td>\n",
              "      <td>0.020996</td>\n",
              "      <td>0.024414</td>\n",
              "      <td>0.028320</td>\n",
              "      <td>...</td>\n",
              "      <td>0.0</td>\n",
              "      <td>0.0</td>\n",
              "      <td>0.0</td>\n",
              "      <td>0.0</td>\n",
              "      <td>0.0</td>\n",
              "      <td>0.0</td>\n",
              "      <td>0.0</td>\n",
              "      <td>0.0</td>\n",
              "      <td>neutral</td>\n",
              "      <td>happiness</td>\n",
              "    </tr>\n",
              "    <tr>\n",
              "      <th>3</th>\n",
              "      <td>0.036621</td>\n",
              "      <td>0.057617</td>\n",
              "      <td>0.083008</td>\n",
              "      <td>0.079590</td>\n",
              "      <td>0.064453</td>\n",
              "      <td>0.050781</td>\n",
              "      <td>0.032715</td>\n",
              "      <td>0.028809</td>\n",
              "      <td>0.038086</td>\n",
              "      <td>0.040039</td>\n",
              "      <td>...</td>\n",
              "      <td>0.0</td>\n",
              "      <td>0.0</td>\n",
              "      <td>0.0</td>\n",
              "      <td>0.0</td>\n",
              "      <td>0.0</td>\n",
              "      <td>0.0</td>\n",
              "      <td>0.0</td>\n",
              "      <td>0.0</td>\n",
              "      <td>neutral</td>\n",
              "      <td>happiness</td>\n",
              "    </tr>\n",
              "    <tr>\n",
              "      <th>4</th>\n",
              "      <td>0.014648</td>\n",
              "      <td>0.026367</td>\n",
              "      <td>0.039062</td>\n",
              "      <td>0.043457</td>\n",
              "      <td>0.043945</td>\n",
              "      <td>0.039551</td>\n",
              "      <td>0.067383</td>\n",
              "      <td>0.098633</td>\n",
              "      <td>0.099121</td>\n",
              "      <td>0.107910</td>\n",
              "      <td>...</td>\n",
              "      <td>0.0</td>\n",
              "      <td>0.0</td>\n",
              "      <td>0.0</td>\n",
              "      <td>0.0</td>\n",
              "      <td>0.0</td>\n",
              "      <td>0.0</td>\n",
              "      <td>0.0</td>\n",
              "      <td>0.0</td>\n",
              "      <td>neutral</td>\n",
              "      <td>happiness</td>\n",
              "    </tr>\n",
              "    <tr>\n",
              "      <th>...</th>\n",
              "      <td>...</td>\n",
              "      <td>...</td>\n",
              "      <td>...</td>\n",
              "      <td>...</td>\n",
              "      <td>...</td>\n",
              "      <td>...</td>\n",
              "      <td>...</td>\n",
              "      <td>...</td>\n",
              "      <td>...</td>\n",
              "      <td>...</td>\n",
              "      <td>...</td>\n",
              "      <td>...</td>\n",
              "      <td>...</td>\n",
              "      <td>...</td>\n",
              "      <td>...</td>\n",
              "      <td>...</td>\n",
              "      <td>...</td>\n",
              "      <td>...</td>\n",
              "      <td>...</td>\n",
              "      <td>...</td>\n",
              "      <td>...</td>\n",
              "    </tr>\n",
              "    <tr>\n",
              "      <th>20223</th>\n",
              "      <td>0.020996</td>\n",
              "      <td>0.042480</td>\n",
              "      <td>0.063965</td>\n",
              "      <td>0.067383</td>\n",
              "      <td>0.062012</td>\n",
              "      <td>0.048828</td>\n",
              "      <td>0.036621</td>\n",
              "      <td>0.041504</td>\n",
              "      <td>0.042969</td>\n",
              "      <td>0.047363</td>\n",
              "      <td>...</td>\n",
              "      <td>0.0</td>\n",
              "      <td>0.0</td>\n",
              "      <td>0.0</td>\n",
              "      <td>0.0</td>\n",
              "      <td>0.0</td>\n",
              "      <td>0.0</td>\n",
              "      <td>0.0</td>\n",
              "      <td>0.0</td>\n",
              "      <td>sad</td>\n",
              "      <td>anxiety/fear</td>\n",
              "    </tr>\n",
              "    <tr>\n",
              "      <th>20224</th>\n",
              "      <td>0.010742</td>\n",
              "      <td>0.017578</td>\n",
              "      <td>0.023926</td>\n",
              "      <td>0.027344</td>\n",
              "      <td>0.033691</td>\n",
              "      <td>0.050293</td>\n",
              "      <td>0.069824</td>\n",
              "      <td>0.083984</td>\n",
              "      <td>0.093750</td>\n",
              "      <td>0.086914</td>\n",
              "      <td>...</td>\n",
              "      <td>0.0</td>\n",
              "      <td>0.0</td>\n",
              "      <td>0.0</td>\n",
              "      <td>0.0</td>\n",
              "      <td>0.0</td>\n",
              "      <td>0.0</td>\n",
              "      <td>0.0</td>\n",
              "      <td>0.0</td>\n",
              "      <td>sad</td>\n",
              "      <td>neutral</td>\n",
              "    </tr>\n",
              "    <tr>\n",
              "      <th>20225</th>\n",
              "      <td>0.039062</td>\n",
              "      <td>0.068848</td>\n",
              "      <td>0.100098</td>\n",
              "      <td>0.098633</td>\n",
              "      <td>0.108887</td>\n",
              "      <td>0.101074</td>\n",
              "      <td>0.095215</td>\n",
              "      <td>0.097168</td>\n",
              "      <td>0.091797</td>\n",
              "      <td>0.085938</td>\n",
              "      <td>...</td>\n",
              "      <td>0.0</td>\n",
              "      <td>0.0</td>\n",
              "      <td>0.0</td>\n",
              "      <td>0.0</td>\n",
              "      <td>0.0</td>\n",
              "      <td>0.0</td>\n",
              "      <td>0.0</td>\n",
              "      <td>0.0</td>\n",
              "      <td>sad</td>\n",
              "      <td>neutral</td>\n",
              "    </tr>\n",
              "    <tr>\n",
              "      <th>20226</th>\n",
              "      <td>0.011719</td>\n",
              "      <td>0.019043</td>\n",
              "      <td>0.024414</td>\n",
              "      <td>0.031250</td>\n",
              "      <td>0.048340</td>\n",
              "      <td>0.070312</td>\n",
              "      <td>0.087891</td>\n",
              "      <td>0.099609</td>\n",
              "      <td>0.093262</td>\n",
              "      <td>0.080078</td>\n",
              "      <td>...</td>\n",
              "      <td>0.0</td>\n",
              "      <td>0.0</td>\n",
              "      <td>0.0</td>\n",
              "      <td>0.0</td>\n",
              "      <td>0.0</td>\n",
              "      <td>0.0</td>\n",
              "      <td>0.0</td>\n",
              "      <td>0.0</td>\n",
              "      <td>sad</td>\n",
              "      <td>neutral</td>\n",
              "    </tr>\n",
              "    <tr>\n",
              "      <th>20227</th>\n",
              "      <td>0.038086</td>\n",
              "      <td>0.070801</td>\n",
              "      <td>0.097168</td>\n",
              "      <td>0.118164</td>\n",
              "      <td>0.129883</td>\n",
              "      <td>0.126953</td>\n",
              "      <td>0.124023</td>\n",
              "      <td>0.112305</td>\n",
              "      <td>0.095215</td>\n",
              "      <td>0.082031</td>\n",
              "      <td>...</td>\n",
              "      <td>0.0</td>\n",
              "      <td>0.0</td>\n",
              "      <td>0.0</td>\n",
              "      <td>0.0</td>\n",
              "      <td>0.0</td>\n",
              "      <td>0.0</td>\n",
              "      <td>0.0</td>\n",
              "      <td>0.0</td>\n",
              "      <td>sad</td>\n",
              "      <td>neutral</td>\n",
              "    </tr>\n",
              "  </tbody>\n",
              "</table>\n",
              "<p>20228 rows × 2378 columns</p>\n",
              "</div>\n",
              "      <button class=\"colab-df-convert\" onclick=\"convertToInteractive('df-33265375-06be-41b9-b061-f15ffb2ac29d')\"\n",
              "              title=\"Convert this dataframe to an interactive table.\"\n",
              "              style=\"display:none;\">\n",
              "\n",
              "  <svg xmlns=\"http://www.w3.org/2000/svg\" height=\"24px\"viewBox=\"0 0 24 24\"\n",
              "       width=\"24px\">\n",
              "    <path d=\"M0 0h24v24H0V0z\" fill=\"none\"/>\n",
              "    <path d=\"M18.56 5.44l.94 2.06.94-2.06 2.06-.94-2.06-.94-.94-2.06-.94 2.06-2.06.94zm-11 1L8.5 8.5l.94-2.06 2.06-.94-2.06-.94L8.5 2.5l-.94 2.06-2.06.94zm10 10l.94 2.06.94-2.06 2.06-.94-2.06-.94-.94-2.06-.94 2.06-2.06.94z\"/><path d=\"M17.41 7.96l-1.37-1.37c-.4-.4-.92-.59-1.43-.59-.52 0-1.04.2-1.43.59L10.3 9.45l-7.72 7.72c-.78.78-.78 2.05 0 2.83L4 21.41c.39.39.9.59 1.41.59.51 0 1.02-.2 1.41-.59l7.78-7.78 2.81-2.81c.8-.78.8-2.07 0-2.86zM5.41 20L4 18.59l7.72-7.72 1.47 1.35L5.41 20z\"/>\n",
              "  </svg>\n",
              "      </button>\n",
              "\n",
              "\n",
              "\n",
              "    <div id=\"df-8939fc66-ce2f-4787-9bce-6ab428d805f7\">\n",
              "      <button class=\"colab-df-quickchart\" onclick=\"quickchart('df-8939fc66-ce2f-4787-9bce-6ab428d805f7')\"\n",
              "              title=\"Suggest charts.\"\n",
              "              style=\"display:none;\">\n",
              "\n",
              "<svg xmlns=\"http://www.w3.org/2000/svg\" height=\"24px\"viewBox=\"0 0 24 24\"\n",
              "     width=\"24px\">\n",
              "    <g>\n",
              "        <path d=\"M19 3H5c-1.1 0-2 .9-2 2v14c0 1.1.9 2 2 2h14c1.1 0 2-.9 2-2V5c0-1.1-.9-2-2-2zM9 17H7v-7h2v7zm4 0h-2V7h2v10zm4 0h-2v-4h2v4z\"/>\n",
              "    </g>\n",
              "</svg>\n",
              "      </button>\n",
              "    </div>\n",
              "\n",
              "<style>\n",
              "  .colab-df-quickchart {\n",
              "    background-color: #E8F0FE;\n",
              "    border: none;\n",
              "    border-radius: 50%;\n",
              "    cursor: pointer;\n",
              "    display: none;\n",
              "    fill: #1967D2;\n",
              "    height: 32px;\n",
              "    padding: 0 0 0 0;\n",
              "    width: 32px;\n",
              "  }\n",
              "\n",
              "  .colab-df-quickchart:hover {\n",
              "    background-color: #E2EBFA;\n",
              "    box-shadow: 0px 1px 2px rgba(60, 64, 67, 0.3), 0px 1px 3px 1px rgba(60, 64, 67, 0.15);\n",
              "    fill: #174EA6;\n",
              "  }\n",
              "\n",
              "  [theme=dark] .colab-df-quickchart {\n",
              "    background-color: #3B4455;\n",
              "    fill: #D2E3FC;\n",
              "  }\n",
              "\n",
              "  [theme=dark] .colab-df-quickchart:hover {\n",
              "    background-color: #434B5C;\n",
              "    box-shadow: 0px 1px 3px 1px rgba(0, 0, 0, 0.15);\n",
              "    filter: drop-shadow(0px 1px 2px rgba(0, 0, 0, 0.3));\n",
              "    fill: #FFFFFF;\n",
              "  }\n",
              "</style>\n",
              "\n",
              "    <script>\n",
              "      async function quickchart(key) {\n",
              "        const containerElement = document.querySelector('#' + key);\n",
              "        const charts = await google.colab.kernel.invokeFunction(\n",
              "            'suggestCharts', [key], {});\n",
              "      }\n",
              "    </script>\n",
              "\n",
              "      <script>\n",
              "\n",
              "function displayQuickchartButton(domScope) {\n",
              "  let quickchartButtonEl =\n",
              "    domScope.querySelector('#df-8939fc66-ce2f-4787-9bce-6ab428d805f7 button.colab-df-quickchart');\n",
              "  quickchartButtonEl.style.display =\n",
              "    google.colab.kernel.accessAllowed ? 'block' : 'none';\n",
              "}\n",
              "\n",
              "        displayQuickchartButton(document);\n",
              "      </script>\n",
              "      <style>\n",
              "    .colab-df-container {\n",
              "      display:flex;\n",
              "      flex-wrap:wrap;\n",
              "      gap: 12px;\n",
              "    }\n",
              "\n",
              "    .colab-df-convert {\n",
              "      background-color: #E8F0FE;\n",
              "      border: none;\n",
              "      border-radius: 50%;\n",
              "      cursor: pointer;\n",
              "      display: none;\n",
              "      fill: #1967D2;\n",
              "      height: 32px;\n",
              "      padding: 0 0 0 0;\n",
              "      width: 32px;\n",
              "    }\n",
              "\n",
              "    .colab-df-convert:hover {\n",
              "      background-color: #E2EBFA;\n",
              "      box-shadow: 0px 1px 2px rgba(60, 64, 67, 0.3), 0px 1px 3px 1px rgba(60, 64, 67, 0.15);\n",
              "      fill: #174EA6;\n",
              "    }\n",
              "\n",
              "    [theme=dark] .colab-df-convert {\n",
              "      background-color: #3B4455;\n",
              "      fill: #D2E3FC;\n",
              "    }\n",
              "\n",
              "    [theme=dark] .colab-df-convert:hover {\n",
              "      background-color: #434B5C;\n",
              "      box-shadow: 0px 1px 3px 1px rgba(0, 0, 0, 0.15);\n",
              "      filter: drop-shadow(0px 1px 2px rgba(0, 0, 0, 0.3));\n",
              "      fill: #FFFFFF;\n",
              "    }\n",
              "  </style>\n",
              "\n",
              "      <script>\n",
              "        const buttonEl =\n",
              "          document.querySelector('#df-33265375-06be-41b9-b061-f15ffb2ac29d button.colab-df-convert');\n",
              "        buttonEl.style.display =\n",
              "          google.colab.kernel.accessAllowed ? 'block' : 'none';\n",
              "\n",
              "        async function convertToInteractive(key) {\n",
              "          const element = document.querySelector('#df-33265375-06be-41b9-b061-f15ffb2ac29d');\n",
              "          const dataTable =\n",
              "            await google.colab.kernel.invokeFunction('convertToInteractive',\n",
              "                                                     [key], {});\n",
              "          if (!dataTable) return;\n",
              "\n",
              "          const docLinkHtml = 'Like what you see? Visit the ' +\n",
              "            '<a target=\"_blank\" href=https://colab.research.google.com/notebooks/data_table.ipynb>data table notebook</a>'\n",
              "            + ' to learn more about interactive tables.';\n",
              "          element.innerHTML = '';\n",
              "          dataTable['output_type'] = 'display_data';\n",
              "          await google.colab.output.renderOutput(dataTable, element);\n",
              "          const docLink = document.createElement('div');\n",
              "          docLink.innerHTML = docLinkHtml;\n",
              "          element.appendChild(docLink);\n",
              "        }\n",
              "      </script>\n",
              "    </div>\n",
              "  </div>\n"
            ]
          },
          "metadata": {},
          "execution_count": 72
        }
      ]
    },
    {
      "cell_type": "code",
      "source": [
        "Features['predicted age'] = Features['predicted age'].astype('category').cat.codes"
      ],
      "metadata": {
        "id": "1aRCinEX_rkM"
      },
      "execution_count": 73,
      "outputs": []
    },
    {
      "cell_type": "code",
      "source": [
        "Features"
      ],
      "metadata": {
        "colab": {
          "base_uri": "https://localhost:8080/",
          "height": 505
        },
        "id": "Qfj0oi5FBJGM",
        "outputId": "cfe1652a-946e-48ba-a26e-bb26917be367"
      },
      "execution_count": 74,
      "outputs": [
        {
          "output_type": "execute_result",
          "data": {
            "text/plain": [
              "              0         1         2         3         4         5         6  \\\n",
              "0      0.032715  0.059570  0.076660  0.065918  0.053223  0.031738  0.019531   \n",
              "1      0.032715  0.059570  0.076660  0.065918  0.053223  0.031738  0.019531   \n",
              "2      0.036621  0.057617  0.082031  0.076660  0.060547  0.044922  0.025879   \n",
              "3      0.036621  0.057617  0.083008  0.079590  0.064453  0.050781  0.032715   \n",
              "4      0.014648  0.026367  0.039062  0.043457  0.043945  0.039551  0.067383   \n",
              "...         ...       ...       ...       ...       ...       ...       ...   \n",
              "20223  0.020996  0.042480  0.063965  0.067383  0.062012  0.048828  0.036621   \n",
              "20224  0.010742  0.017578  0.023926  0.027344  0.033691  0.050293  0.069824   \n",
              "20225  0.039062  0.068848  0.100098  0.098633  0.108887  0.101074  0.095215   \n",
              "20226  0.011719  0.019043  0.024414  0.031250  0.048340  0.070312  0.087891   \n",
              "20227  0.038086  0.070801  0.097168  0.118164  0.129883  0.126953  0.124023   \n",
              "\n",
              "              7         8         9  ...  2368  2369  2370  2371  2372  2373  \\\n",
              "0      0.020508  0.020508  0.023926  ...   0.0   0.0   0.0   0.0   0.0   0.0   \n",
              "1      0.020508  0.020508  0.023926  ...   0.0   0.0   0.0   0.0   0.0   0.0   \n",
              "2      0.020996  0.024414  0.028320  ...   0.0   0.0   0.0   0.0   0.0   0.0   \n",
              "3      0.028809  0.038086  0.040039  ...   0.0   0.0   0.0   0.0   0.0   0.0   \n",
              "4      0.098633  0.099121  0.107910  ...   0.0   0.0   0.0   0.0   0.0   0.0   \n",
              "...         ...       ...       ...  ...   ...   ...   ...   ...   ...   ...   \n",
              "20223  0.041504  0.042969  0.047363  ...   0.0   0.0   0.0   0.0   0.0   0.0   \n",
              "20224  0.083984  0.093750  0.086914  ...   0.0   0.0   0.0   0.0   0.0   0.0   \n",
              "20225  0.097168  0.091797  0.085938  ...   0.0   0.0   0.0   0.0   0.0   0.0   \n",
              "20226  0.099609  0.093262  0.080078  ...   0.0   0.0   0.0   0.0   0.0   0.0   \n",
              "20227  0.112305  0.095215  0.082031  ...   0.0   0.0   0.0   0.0   0.0   0.0   \n",
              "\n",
              "       2374  2375  predicted age        labels  \n",
              "0       0.0   0.0              4     happiness  \n",
              "1       0.0   0.0              4     happiness  \n",
              "2       0.0   0.0              4     happiness  \n",
              "3       0.0   0.0              4     happiness  \n",
              "4       0.0   0.0              4     happiness  \n",
              "...     ...   ...            ...           ...  \n",
              "20223   0.0   0.0              5  anxiety/fear  \n",
              "20224   0.0   0.0              5       neutral  \n",
              "20225   0.0   0.0              5       neutral  \n",
              "20226   0.0   0.0              5       neutral  \n",
              "20227   0.0   0.0              5       neutral  \n",
              "\n",
              "[20228 rows x 2378 columns]"
            ],
            "text/html": [
              "\n",
              "\n",
              "  <div id=\"df-d1a745e3-4075-400d-bfe3-f9966545c54f\">\n",
              "    <div class=\"colab-df-container\">\n",
              "      <div>\n",
              "<style scoped>\n",
              "    .dataframe tbody tr th:only-of-type {\n",
              "        vertical-align: middle;\n",
              "    }\n",
              "\n",
              "    .dataframe tbody tr th {\n",
              "        vertical-align: top;\n",
              "    }\n",
              "\n",
              "    .dataframe thead th {\n",
              "        text-align: right;\n",
              "    }\n",
              "</style>\n",
              "<table border=\"1\" class=\"dataframe\">\n",
              "  <thead>\n",
              "    <tr style=\"text-align: right;\">\n",
              "      <th></th>\n",
              "      <th>0</th>\n",
              "      <th>1</th>\n",
              "      <th>2</th>\n",
              "      <th>3</th>\n",
              "      <th>4</th>\n",
              "      <th>5</th>\n",
              "      <th>6</th>\n",
              "      <th>7</th>\n",
              "      <th>8</th>\n",
              "      <th>9</th>\n",
              "      <th>...</th>\n",
              "      <th>2368</th>\n",
              "      <th>2369</th>\n",
              "      <th>2370</th>\n",
              "      <th>2371</th>\n",
              "      <th>2372</th>\n",
              "      <th>2373</th>\n",
              "      <th>2374</th>\n",
              "      <th>2375</th>\n",
              "      <th>predicted age</th>\n",
              "      <th>labels</th>\n",
              "    </tr>\n",
              "  </thead>\n",
              "  <tbody>\n",
              "    <tr>\n",
              "      <th>0</th>\n",
              "      <td>0.032715</td>\n",
              "      <td>0.059570</td>\n",
              "      <td>0.076660</td>\n",
              "      <td>0.065918</td>\n",
              "      <td>0.053223</td>\n",
              "      <td>0.031738</td>\n",
              "      <td>0.019531</td>\n",
              "      <td>0.020508</td>\n",
              "      <td>0.020508</td>\n",
              "      <td>0.023926</td>\n",
              "      <td>...</td>\n",
              "      <td>0.0</td>\n",
              "      <td>0.0</td>\n",
              "      <td>0.0</td>\n",
              "      <td>0.0</td>\n",
              "      <td>0.0</td>\n",
              "      <td>0.0</td>\n",
              "      <td>0.0</td>\n",
              "      <td>0.0</td>\n",
              "      <td>4</td>\n",
              "      <td>happiness</td>\n",
              "    </tr>\n",
              "    <tr>\n",
              "      <th>1</th>\n",
              "      <td>0.032715</td>\n",
              "      <td>0.059570</td>\n",
              "      <td>0.076660</td>\n",
              "      <td>0.065918</td>\n",
              "      <td>0.053223</td>\n",
              "      <td>0.031738</td>\n",
              "      <td>0.019531</td>\n",
              "      <td>0.020508</td>\n",
              "      <td>0.020508</td>\n",
              "      <td>0.023926</td>\n",
              "      <td>...</td>\n",
              "      <td>0.0</td>\n",
              "      <td>0.0</td>\n",
              "      <td>0.0</td>\n",
              "      <td>0.0</td>\n",
              "      <td>0.0</td>\n",
              "      <td>0.0</td>\n",
              "      <td>0.0</td>\n",
              "      <td>0.0</td>\n",
              "      <td>4</td>\n",
              "      <td>happiness</td>\n",
              "    </tr>\n",
              "    <tr>\n",
              "      <th>2</th>\n",
              "      <td>0.036621</td>\n",
              "      <td>0.057617</td>\n",
              "      <td>0.082031</td>\n",
              "      <td>0.076660</td>\n",
              "      <td>0.060547</td>\n",
              "      <td>0.044922</td>\n",
              "      <td>0.025879</td>\n",
              "      <td>0.020996</td>\n",
              "      <td>0.024414</td>\n",
              "      <td>0.028320</td>\n",
              "      <td>...</td>\n",
              "      <td>0.0</td>\n",
              "      <td>0.0</td>\n",
              "      <td>0.0</td>\n",
              "      <td>0.0</td>\n",
              "      <td>0.0</td>\n",
              "      <td>0.0</td>\n",
              "      <td>0.0</td>\n",
              "      <td>0.0</td>\n",
              "      <td>4</td>\n",
              "      <td>happiness</td>\n",
              "    </tr>\n",
              "    <tr>\n",
              "      <th>3</th>\n",
              "      <td>0.036621</td>\n",
              "      <td>0.057617</td>\n",
              "      <td>0.083008</td>\n",
              "      <td>0.079590</td>\n",
              "      <td>0.064453</td>\n",
              "      <td>0.050781</td>\n",
              "      <td>0.032715</td>\n",
              "      <td>0.028809</td>\n",
              "      <td>0.038086</td>\n",
              "      <td>0.040039</td>\n",
              "      <td>...</td>\n",
              "      <td>0.0</td>\n",
              "      <td>0.0</td>\n",
              "      <td>0.0</td>\n",
              "      <td>0.0</td>\n",
              "      <td>0.0</td>\n",
              "      <td>0.0</td>\n",
              "      <td>0.0</td>\n",
              "      <td>0.0</td>\n",
              "      <td>4</td>\n",
              "      <td>happiness</td>\n",
              "    </tr>\n",
              "    <tr>\n",
              "      <th>4</th>\n",
              "      <td>0.014648</td>\n",
              "      <td>0.026367</td>\n",
              "      <td>0.039062</td>\n",
              "      <td>0.043457</td>\n",
              "      <td>0.043945</td>\n",
              "      <td>0.039551</td>\n",
              "      <td>0.067383</td>\n",
              "      <td>0.098633</td>\n",
              "      <td>0.099121</td>\n",
              "      <td>0.107910</td>\n",
              "      <td>...</td>\n",
              "      <td>0.0</td>\n",
              "      <td>0.0</td>\n",
              "      <td>0.0</td>\n",
              "      <td>0.0</td>\n",
              "      <td>0.0</td>\n",
              "      <td>0.0</td>\n",
              "      <td>0.0</td>\n",
              "      <td>0.0</td>\n",
              "      <td>4</td>\n",
              "      <td>happiness</td>\n",
              "    </tr>\n",
              "    <tr>\n",
              "      <th>...</th>\n",
              "      <td>...</td>\n",
              "      <td>...</td>\n",
              "      <td>...</td>\n",
              "      <td>...</td>\n",
              "      <td>...</td>\n",
              "      <td>...</td>\n",
              "      <td>...</td>\n",
              "      <td>...</td>\n",
              "      <td>...</td>\n",
              "      <td>...</td>\n",
              "      <td>...</td>\n",
              "      <td>...</td>\n",
              "      <td>...</td>\n",
              "      <td>...</td>\n",
              "      <td>...</td>\n",
              "      <td>...</td>\n",
              "      <td>...</td>\n",
              "      <td>...</td>\n",
              "      <td>...</td>\n",
              "      <td>...</td>\n",
              "      <td>...</td>\n",
              "    </tr>\n",
              "    <tr>\n",
              "      <th>20223</th>\n",
              "      <td>0.020996</td>\n",
              "      <td>0.042480</td>\n",
              "      <td>0.063965</td>\n",
              "      <td>0.067383</td>\n",
              "      <td>0.062012</td>\n",
              "      <td>0.048828</td>\n",
              "      <td>0.036621</td>\n",
              "      <td>0.041504</td>\n",
              "      <td>0.042969</td>\n",
              "      <td>0.047363</td>\n",
              "      <td>...</td>\n",
              "      <td>0.0</td>\n",
              "      <td>0.0</td>\n",
              "      <td>0.0</td>\n",
              "      <td>0.0</td>\n",
              "      <td>0.0</td>\n",
              "      <td>0.0</td>\n",
              "      <td>0.0</td>\n",
              "      <td>0.0</td>\n",
              "      <td>5</td>\n",
              "      <td>anxiety/fear</td>\n",
              "    </tr>\n",
              "    <tr>\n",
              "      <th>20224</th>\n",
              "      <td>0.010742</td>\n",
              "      <td>0.017578</td>\n",
              "      <td>0.023926</td>\n",
              "      <td>0.027344</td>\n",
              "      <td>0.033691</td>\n",
              "      <td>0.050293</td>\n",
              "      <td>0.069824</td>\n",
              "      <td>0.083984</td>\n",
              "      <td>0.093750</td>\n",
              "      <td>0.086914</td>\n",
              "      <td>...</td>\n",
              "      <td>0.0</td>\n",
              "      <td>0.0</td>\n",
              "      <td>0.0</td>\n",
              "      <td>0.0</td>\n",
              "      <td>0.0</td>\n",
              "      <td>0.0</td>\n",
              "      <td>0.0</td>\n",
              "      <td>0.0</td>\n",
              "      <td>5</td>\n",
              "      <td>neutral</td>\n",
              "    </tr>\n",
              "    <tr>\n",
              "      <th>20225</th>\n",
              "      <td>0.039062</td>\n",
              "      <td>0.068848</td>\n",
              "      <td>0.100098</td>\n",
              "      <td>0.098633</td>\n",
              "      <td>0.108887</td>\n",
              "      <td>0.101074</td>\n",
              "      <td>0.095215</td>\n",
              "      <td>0.097168</td>\n",
              "      <td>0.091797</td>\n",
              "      <td>0.085938</td>\n",
              "      <td>...</td>\n",
              "      <td>0.0</td>\n",
              "      <td>0.0</td>\n",
              "      <td>0.0</td>\n",
              "      <td>0.0</td>\n",
              "      <td>0.0</td>\n",
              "      <td>0.0</td>\n",
              "      <td>0.0</td>\n",
              "      <td>0.0</td>\n",
              "      <td>5</td>\n",
              "      <td>neutral</td>\n",
              "    </tr>\n",
              "    <tr>\n",
              "      <th>20226</th>\n",
              "      <td>0.011719</td>\n",
              "      <td>0.019043</td>\n",
              "      <td>0.024414</td>\n",
              "      <td>0.031250</td>\n",
              "      <td>0.048340</td>\n",
              "      <td>0.070312</td>\n",
              "      <td>0.087891</td>\n",
              "      <td>0.099609</td>\n",
              "      <td>0.093262</td>\n",
              "      <td>0.080078</td>\n",
              "      <td>...</td>\n",
              "      <td>0.0</td>\n",
              "      <td>0.0</td>\n",
              "      <td>0.0</td>\n",
              "      <td>0.0</td>\n",
              "      <td>0.0</td>\n",
              "      <td>0.0</td>\n",
              "      <td>0.0</td>\n",
              "      <td>0.0</td>\n",
              "      <td>5</td>\n",
              "      <td>neutral</td>\n",
              "    </tr>\n",
              "    <tr>\n",
              "      <th>20227</th>\n",
              "      <td>0.038086</td>\n",
              "      <td>0.070801</td>\n",
              "      <td>0.097168</td>\n",
              "      <td>0.118164</td>\n",
              "      <td>0.129883</td>\n",
              "      <td>0.126953</td>\n",
              "      <td>0.124023</td>\n",
              "      <td>0.112305</td>\n",
              "      <td>0.095215</td>\n",
              "      <td>0.082031</td>\n",
              "      <td>...</td>\n",
              "      <td>0.0</td>\n",
              "      <td>0.0</td>\n",
              "      <td>0.0</td>\n",
              "      <td>0.0</td>\n",
              "      <td>0.0</td>\n",
              "      <td>0.0</td>\n",
              "      <td>0.0</td>\n",
              "      <td>0.0</td>\n",
              "      <td>5</td>\n",
              "      <td>neutral</td>\n",
              "    </tr>\n",
              "  </tbody>\n",
              "</table>\n",
              "<p>20228 rows × 2378 columns</p>\n",
              "</div>\n",
              "      <button class=\"colab-df-convert\" onclick=\"convertToInteractive('df-d1a745e3-4075-400d-bfe3-f9966545c54f')\"\n",
              "              title=\"Convert this dataframe to an interactive table.\"\n",
              "              style=\"display:none;\">\n",
              "\n",
              "  <svg xmlns=\"http://www.w3.org/2000/svg\" height=\"24px\"viewBox=\"0 0 24 24\"\n",
              "       width=\"24px\">\n",
              "    <path d=\"M0 0h24v24H0V0z\" fill=\"none\"/>\n",
              "    <path d=\"M18.56 5.44l.94 2.06.94-2.06 2.06-.94-2.06-.94-.94-2.06-.94 2.06-2.06.94zm-11 1L8.5 8.5l.94-2.06 2.06-.94-2.06-.94L8.5 2.5l-.94 2.06-2.06.94zm10 10l.94 2.06.94-2.06 2.06-.94-2.06-.94-.94-2.06-.94 2.06-2.06.94z\"/><path d=\"M17.41 7.96l-1.37-1.37c-.4-.4-.92-.59-1.43-.59-.52 0-1.04.2-1.43.59L10.3 9.45l-7.72 7.72c-.78.78-.78 2.05 0 2.83L4 21.41c.39.39.9.59 1.41.59.51 0 1.02-.2 1.41-.59l7.78-7.78 2.81-2.81c.8-.78.8-2.07 0-2.86zM5.41 20L4 18.59l7.72-7.72 1.47 1.35L5.41 20z\"/>\n",
              "  </svg>\n",
              "      </button>\n",
              "\n",
              "\n",
              "\n",
              "    <div id=\"df-0ed115ac-130e-4ff5-a83e-9e2164fda767\">\n",
              "      <button class=\"colab-df-quickchart\" onclick=\"quickchart('df-0ed115ac-130e-4ff5-a83e-9e2164fda767')\"\n",
              "              title=\"Suggest charts.\"\n",
              "              style=\"display:none;\">\n",
              "\n",
              "<svg xmlns=\"http://www.w3.org/2000/svg\" height=\"24px\"viewBox=\"0 0 24 24\"\n",
              "     width=\"24px\">\n",
              "    <g>\n",
              "        <path d=\"M19 3H5c-1.1 0-2 .9-2 2v14c0 1.1.9 2 2 2h14c1.1 0 2-.9 2-2V5c0-1.1-.9-2-2-2zM9 17H7v-7h2v7zm4 0h-2V7h2v10zm4 0h-2v-4h2v4z\"/>\n",
              "    </g>\n",
              "</svg>\n",
              "      </button>\n",
              "    </div>\n",
              "\n",
              "<style>\n",
              "  .colab-df-quickchart {\n",
              "    background-color: #E8F0FE;\n",
              "    border: none;\n",
              "    border-radius: 50%;\n",
              "    cursor: pointer;\n",
              "    display: none;\n",
              "    fill: #1967D2;\n",
              "    height: 32px;\n",
              "    padding: 0 0 0 0;\n",
              "    width: 32px;\n",
              "  }\n",
              "\n",
              "  .colab-df-quickchart:hover {\n",
              "    background-color: #E2EBFA;\n",
              "    box-shadow: 0px 1px 2px rgba(60, 64, 67, 0.3), 0px 1px 3px 1px rgba(60, 64, 67, 0.15);\n",
              "    fill: #174EA6;\n",
              "  }\n",
              "\n",
              "  [theme=dark] .colab-df-quickchart {\n",
              "    background-color: #3B4455;\n",
              "    fill: #D2E3FC;\n",
              "  }\n",
              "\n",
              "  [theme=dark] .colab-df-quickchart:hover {\n",
              "    background-color: #434B5C;\n",
              "    box-shadow: 0px 1px 3px 1px rgba(0, 0, 0, 0.15);\n",
              "    filter: drop-shadow(0px 1px 2px rgba(0, 0, 0, 0.3));\n",
              "    fill: #FFFFFF;\n",
              "  }\n",
              "</style>\n",
              "\n",
              "    <script>\n",
              "      async function quickchart(key) {\n",
              "        const containerElement = document.querySelector('#' + key);\n",
              "        const charts = await google.colab.kernel.invokeFunction(\n",
              "            'suggestCharts', [key], {});\n",
              "      }\n",
              "    </script>\n",
              "\n",
              "      <script>\n",
              "\n",
              "function displayQuickchartButton(domScope) {\n",
              "  let quickchartButtonEl =\n",
              "    domScope.querySelector('#df-0ed115ac-130e-4ff5-a83e-9e2164fda767 button.colab-df-quickchart');\n",
              "  quickchartButtonEl.style.display =\n",
              "    google.colab.kernel.accessAllowed ? 'block' : 'none';\n",
              "}\n",
              "\n",
              "        displayQuickchartButton(document);\n",
              "      </script>\n",
              "      <style>\n",
              "    .colab-df-container {\n",
              "      display:flex;\n",
              "      flex-wrap:wrap;\n",
              "      gap: 12px;\n",
              "    }\n",
              "\n",
              "    .colab-df-convert {\n",
              "      background-color: #E8F0FE;\n",
              "      border: none;\n",
              "      border-radius: 50%;\n",
              "      cursor: pointer;\n",
              "      display: none;\n",
              "      fill: #1967D2;\n",
              "      height: 32px;\n",
              "      padding: 0 0 0 0;\n",
              "      width: 32px;\n",
              "    }\n",
              "\n",
              "    .colab-df-convert:hover {\n",
              "      background-color: #E2EBFA;\n",
              "      box-shadow: 0px 1px 2px rgba(60, 64, 67, 0.3), 0px 1px 3px 1px rgba(60, 64, 67, 0.15);\n",
              "      fill: #174EA6;\n",
              "    }\n",
              "\n",
              "    [theme=dark] .colab-df-convert {\n",
              "      background-color: #3B4455;\n",
              "      fill: #D2E3FC;\n",
              "    }\n",
              "\n",
              "    [theme=dark] .colab-df-convert:hover {\n",
              "      background-color: #434B5C;\n",
              "      box-shadow: 0px 1px 3px 1px rgba(0, 0, 0, 0.15);\n",
              "      filter: drop-shadow(0px 1px 2px rgba(0, 0, 0, 0.3));\n",
              "      fill: #FFFFFF;\n",
              "    }\n",
              "  </style>\n",
              "\n",
              "      <script>\n",
              "        const buttonEl =\n",
              "          document.querySelector('#df-d1a745e3-4075-400d-bfe3-f9966545c54f button.colab-df-convert');\n",
              "        buttonEl.style.display =\n",
              "          google.colab.kernel.accessAllowed ? 'block' : 'none';\n",
              "\n",
              "        async function convertToInteractive(key) {\n",
              "          const element = document.querySelector('#df-d1a745e3-4075-400d-bfe3-f9966545c54f');\n",
              "          const dataTable =\n",
              "            await google.colab.kernel.invokeFunction('convertToInteractive',\n",
              "                                                     [key], {});\n",
              "          if (!dataTable) return;\n",
              "\n",
              "          const docLinkHtml = 'Like what you see? Visit the ' +\n",
              "            '<a target=\"_blank\" href=https://colab.research.google.com/notebooks/data_table.ipynb>data table notebook</a>'\n",
              "            + ' to learn more about interactive tables.';\n",
              "          element.innerHTML = '';\n",
              "          dataTable['output_type'] = 'display_data';\n",
              "          await google.colab.output.renderOutput(dataTable, element);\n",
              "          const docLink = document.createElement('div');\n",
              "          docLink.innerHTML = docLinkHtml;\n",
              "          element.appendChild(docLink);\n",
              "        }\n",
              "      </script>\n",
              "    </div>\n",
              "  </div>\n"
            ]
          },
          "metadata": {},
          "execution_count": 74
        }
      ]
    },
    {
      "cell_type": "code",
      "source": [
        "X = Features.iloc[: ,:-1].values\n",
        "Y = Features['labels'].values"
      ],
      "metadata": {
        "id": "6AmYYHW5_pmU"
      },
      "execution_count": 75,
      "outputs": []
    },
    {
      "cell_type": "code",
      "source": [
        "encoder = OneHotEncoder()\n",
        "Y = encoder.fit_transform(np.array(Y).reshape(-1,1)).toarray()\n",
        "encoder.categories_"
      ],
      "metadata": {
        "colab": {
          "base_uri": "https://localhost:8080/"
        },
        "id": "k-D9NGxEBHXt",
        "outputId": "961385da-ec80-403d-bc54-26b611987e25"
      },
      "execution_count": 76,
      "outputs": [
        {
          "output_type": "execute_result",
          "data": {
            "text/plain": [
              "[array(['anger', 'anxiety/fear', 'disgust', 'happiness', 'neutral', 'sad'],\n",
              "       dtype=object)]"
            ]
          },
          "metadata": {},
          "execution_count": 76
        }
      ]
    },
    {
      "cell_type": "code",
      "source": [
        "x_train, x_test, y_train, y_test = train_test_split(X, Y,test_size=0.15, random_state=30, shuffle=True,stratify=Y)\n",
        "x_train.shape, y_train.shape, x_test.shape, y_test.shape"
      ],
      "metadata": {
        "colab": {
          "base_uri": "https://localhost:8080/"
        },
        "id": "Uh8s0HUoBTEX",
        "outputId": "1292f3cb-35a6-4fce-c3e3-1e874931b5ab"
      },
      "execution_count": 77,
      "outputs": [
        {
          "output_type": "execute_result",
          "data": {
            "text/plain": [
              "((17193, 2377), (17193, 6), (3035, 2377), (3035, 6))"
            ]
          },
          "metadata": {},
          "execution_count": 77
        }
      ]
    },
    {
      "cell_type": "code",
      "source": [
        "scaler = StandardScaler()"
      ],
      "metadata": {
        "id": "aRVBipfhBU35"
      },
      "execution_count": 78,
      "outputs": []
    },
    {
      "cell_type": "code",
      "source": [
        "x_test, x_val, y_test, y_val = train_test_split(x_test, y_test, random_state=30, test_size=0.25, shuffle=True,stratify=y_test)\n",
        "x_train.shape, x_test.shape, x_val.shape, x_train.shape, x_test.shape, x_val.shape"
      ],
      "metadata": {
        "colab": {
          "base_uri": "https://localhost:8080/"
        },
        "id": "eRJqIN62BXQm",
        "outputId": "352e8894-1b64-4404-cc62-7e2399fecd91"
      },
      "execution_count": 79,
      "outputs": [
        {
          "output_type": "execute_result",
          "data": {
            "text/plain": [
              "((17193, 2377),\n",
              " (2276, 2377),\n",
              " (759, 2377),\n",
              " (17193, 2377),\n",
              " (2276, 2377),\n",
              " (759, 2377))"
            ]
          },
          "metadata": {},
          "execution_count": 79
        }
      ]
    },
    {
      "cell_type": "code",
      "source": [
        "x_train = scaler.fit_transform(x_train)\n",
        "x_val=scaler.transform(x_val)\n",
        "x_test = scaler.transform(x_test)\n",
        "\n",
        "x_train.shape, y_train.shape, x_test.shape, y_test.shape"
      ],
      "metadata": {
        "colab": {
          "base_uri": "https://localhost:8080/"
        },
        "id": "Mnr9sTf_BZi0",
        "outputId": "626ebd22-b0d9-4140-85aa-4e7136a22f50"
      },
      "execution_count": 80,
      "outputs": [
        {
          "output_type": "execute_result",
          "data": {
            "text/plain": [
              "((17193, 2377), (17193, 6), (2276, 2377), (2276, 6))"
            ]
          },
          "metadata": {},
          "execution_count": 80
        }
      ]
    },
    {
      "cell_type": "code",
      "source": [
        "optimizer = keras.optimizers.Adam(lr=0.0005)"
      ],
      "metadata": {
        "colab": {
          "base_uri": "https://localhost:8080/"
        },
        "id": "EUeBZkDoBbw7",
        "outputId": "58d26c52-b326-4c51-992f-a42fcbaccc6d"
      },
      "execution_count": 81,
      "outputs": [
        {
          "output_type": "stream",
          "name": "stderr",
          "text": [
            "/usr/local/lib/python3.10/dist-packages/keras/optimizers/legacy/adam.py:117: UserWarning: The `lr` argument is deprecated, use `learning_rate` instead.\n",
            "  super().__init__(name, **kwargs)\n"
          ]
        }
      ]
    },
    {
      "cell_type": "code",
      "source": [
        "model2=Sequential()\n",
        "\n",
        "model2.add(Conv1D(256, kernel_size=5, strides=1, padding='same', activation='relu', input_shape=(x_train.shape[1], 1)))\n",
        "model2.add(BatchNormalization())\n",
        "model2.add(MaxPooling1D(pool_size=5, strides = 2, padding = 'same'))\n",
        "\n",
        "model2.add(Conv1D(256, kernel_size=5, strides=1, padding='same', activation='relu'))\n",
        "model2.add(BatchNormalization())\n",
        "model2.add(MaxPooling1D(pool_size=5, strides = 2, padding = 'same'))\n",
        "\n",
        "model2.add(Conv1D(128, kernel_size=5, strides=1, padding='same', activation='relu'))\n",
        "model2.add(BatchNormalization())\n",
        "model2.add(MaxPooling1D(pool_size=5, strides = 2, padding = 'same'))\n",
        "model2.add(Dropout(0.2))\n",
        "\n",
        "model2.add(Conv1D(64, kernel_size=5, strides=1, padding='same', activation='relu'))\n",
        "model2.add(BatchNormalization())\n",
        "model2.add(MaxPooling1D(pool_size=5, strides = 2, padding = 'same'))\n",
        "\n",
        "model2.add(Flatten())\n",
        "model2.add(Dense(32, activation='relu'))\n",
        "model2.add(BatchNormalization())\n",
        "model2.add(Dropout(0.25))\n",
        "\n",
        "model2.add(Dense(6, activation='softmax'))\n",
        "model2.compile(optimizer = 'Adam' , loss = 'categorical_crossentropy' , metrics = ['accuracy'])\n",
        "\n",
        "model2.summary()"
      ],
      "metadata": {
        "colab": {
          "base_uri": "https://localhost:8080/"
        },
        "id": "7PUGb4z8CHlv",
        "outputId": "d9a52871-eb36-487f-b0c6-d34a624c86df"
      },
      "execution_count": 86,
      "outputs": [
        {
          "output_type": "stream",
          "name": "stdout",
          "text": [
            "Model: \"sequential_4\"\n",
            "_________________________________________________________________\n",
            " Layer (type)                Output Shape              Param #   \n",
            "=================================================================\n",
            " conv1d_16 (Conv1D)          (None, 2377, 256)         1536      \n",
            "                                                                 \n",
            " batch_normalization_20 (Bat  (None, 2377, 256)        1024      \n",
            " chNormalization)                                                \n",
            "                                                                 \n",
            " max_pooling1d_16 (MaxPoolin  (None, 1189, 256)        0         \n",
            " g1D)                                                            \n",
            "                                                                 \n",
            " conv1d_17 (Conv1D)          (None, 1189, 256)         327936    \n",
            "                                                                 \n",
            " batch_normalization_21 (Bat  (None, 1189, 256)        1024      \n",
            " chNormalization)                                                \n",
            "                                                                 \n",
            " max_pooling1d_17 (MaxPoolin  (None, 595, 256)         0         \n",
            " g1D)                                                            \n",
            "                                                                 \n",
            " conv1d_18 (Conv1D)          (None, 595, 128)          163968    \n",
            "                                                                 \n",
            " batch_normalization_22 (Bat  (None, 595, 128)         512       \n",
            " chNormalization)                                                \n",
            "                                                                 \n",
            " max_pooling1d_18 (MaxPoolin  (None, 298, 128)         0         \n",
            " g1D)                                                            \n",
            "                                                                 \n",
            " dropout_8 (Dropout)         (None, 298, 128)          0         \n",
            "                                                                 \n",
            " conv1d_19 (Conv1D)          (None, 298, 64)           41024     \n",
            "                                                                 \n",
            " batch_normalization_23 (Bat  (None, 298, 64)          256       \n",
            " chNormalization)                                                \n",
            "                                                                 \n",
            " max_pooling1d_19 (MaxPoolin  (None, 149, 64)          0         \n",
            " g1D)                                                            \n",
            "                                                                 \n",
            " flatten_4 (Flatten)         (None, 9536)              0         \n",
            "                                                                 \n",
            " dense_8 (Dense)             (None, 32)                305184    \n",
            "                                                                 \n",
            " batch_normalization_24 (Bat  (None, 32)               128       \n",
            " chNormalization)                                                \n",
            "                                                                 \n",
            " dropout_9 (Dropout)         (None, 32)                0         \n",
            "                                                                 \n",
            " dense_9 (Dense)             (None, 6)                 198       \n",
            "                                                                 \n",
            "=================================================================\n",
            "Total params: 842,790\n",
            "Trainable params: 841,318\n",
            "Non-trainable params: 1,472\n",
            "_________________________________________________________________\n"
          ]
        }
      ]
    },
    {
      "cell_type": "code",
      "source": [
        "learning_rate_reduction = ReduceLROnPlateau(monitor='val_accuracy',\n",
        "                                            patience=3,\n",
        "                                            verbose=1,\n",
        "                                            factor=0.5,\n",
        "                                            min_lr=0.00001)\n",
        "early_stop = EarlyStopping(monitor='val_accuracy', mode='auto', patience=5, start_from_epoch=20)\n",
        "callbacks=[learning_rate_reduction,early_stop]\n",
        "\n"
      ],
      "metadata": {
        "id": "OstqoRFlCJMM"
      },
      "execution_count": 87,
      "outputs": []
    },
    {
      "cell_type": "code",
      "source": [
        "history2=model2.fit(x_train, y_train, batch_size=32, epochs=100, validation_data=(x_val, y_val), callbacks=callbacks)"
      ],
      "metadata": {
        "colab": {
          "base_uri": "https://localhost:8080/"
        },
        "id": "kdS7TEt_CMxj",
        "outputId": "767f32e6-cc0b-4d08-de64-7387afa547b4"
      },
      "execution_count": 88,
      "outputs": [
        {
          "output_type": "stream",
          "name": "stdout",
          "text": [
            "Epoch 1/100\n",
            "538/538 [==============================] - 41s 65ms/step - loss: 1.6067 - accuracy: 0.3582 - val_loss: 1.5834 - val_accuracy: 0.3584 - lr: 0.0010\n",
            "Epoch 2/100\n",
            "538/538 [==============================] - 34s 64ms/step - loss: 1.4113 - accuracy: 0.4367 - val_loss: 1.3718 - val_accuracy: 0.4414 - lr: 0.0010\n",
            "Epoch 3/100\n",
            "538/538 [==============================] - 35s 65ms/step - loss: 1.3096 - accuracy: 0.4789 - val_loss: 1.2779 - val_accuracy: 0.5046 - lr: 0.0010\n",
            "Epoch 4/100\n",
            "538/538 [==============================] - 34s 63ms/step - loss: 1.2393 - accuracy: 0.5084 - val_loss: 1.2333 - val_accuracy: 0.5257 - lr: 0.0010\n",
            "Epoch 5/100\n",
            "538/538 [==============================] - 35s 64ms/step - loss: 1.1666 - accuracy: 0.5423 - val_loss: 1.1967 - val_accuracy: 0.5336 - lr: 0.0010\n",
            "Epoch 6/100\n",
            "538/538 [==============================] - 34s 64ms/step - loss: 1.1131 - accuracy: 0.5705 - val_loss: 1.3453 - val_accuracy: 0.4796 - lr: 0.0010\n",
            "Epoch 7/100\n",
            "538/538 [==============================] - 34s 64ms/step - loss: 1.0214 - accuracy: 0.6047 - val_loss: 1.0656 - val_accuracy: 0.5626 - lr: 0.0010\n",
            "Epoch 8/100\n",
            "538/538 [==============================] - 35s 64ms/step - loss: 0.9420 - accuracy: 0.6371 - val_loss: 1.0821 - val_accuracy: 0.5784 - lr: 0.0010\n",
            "Epoch 9/100\n",
            "538/538 [==============================] - 35s 65ms/step - loss: 0.8502 - accuracy: 0.6732 - val_loss: 0.9184 - val_accuracy: 0.6377 - lr: 0.0010\n",
            "Epoch 10/100\n",
            "538/538 [==============================] - 35s 66ms/step - loss: 0.7790 - accuracy: 0.7064 - val_loss: 0.8835 - val_accuracy: 0.6588 - lr: 0.0010\n",
            "Epoch 11/100\n",
            "538/538 [==============================] - 36s 68ms/step - loss: 0.7148 - accuracy: 0.7330 - val_loss: 0.7331 - val_accuracy: 0.7154 - lr: 0.0010\n",
            "Epoch 12/100\n",
            "538/538 [==============================] - 35s 65ms/step - loss: 0.6345 - accuracy: 0.7650 - val_loss: 0.6846 - val_accuracy: 0.7431 - lr: 0.0010\n",
            "Epoch 13/100\n",
            "538/538 [==============================] - 35s 65ms/step - loss: 0.5718 - accuracy: 0.7906 - val_loss: 0.6061 - val_accuracy: 0.7773 - lr: 0.0010\n",
            "Epoch 14/100\n",
            "538/538 [==============================] - 34s 64ms/step - loss: 0.5317 - accuracy: 0.7997 - val_loss: 0.6329 - val_accuracy: 0.7589 - lr: 0.0010\n",
            "Epoch 15/100\n",
            "538/538 [==============================] - 36s 67ms/step - loss: 0.4879 - accuracy: 0.8164 - val_loss: 0.6357 - val_accuracy: 0.7760 - lr: 0.0010\n",
            "Epoch 16/100\n",
            "538/538 [==============================] - 34s 64ms/step - loss: 0.4436 - accuracy: 0.8330 - val_loss: 0.5492 - val_accuracy: 0.8182 - lr: 0.0010\n",
            "Epoch 17/100\n",
            "538/538 [==============================] - 34s 63ms/step - loss: 0.4040 - accuracy: 0.8482 - val_loss: 0.5621 - val_accuracy: 0.7839 - lr: 0.0010\n",
            "Epoch 18/100\n",
            "538/538 [==============================] - 34s 64ms/step - loss: 0.3730 - accuracy: 0.8651 - val_loss: 0.5006 - val_accuracy: 0.8274 - lr: 0.0010\n",
            "Epoch 19/100\n",
            "538/538 [==============================] - 35s 65ms/step - loss: 0.3553 - accuracy: 0.8704 - val_loss: 0.4284 - val_accuracy: 0.8445 - lr: 0.0010\n",
            "Epoch 20/100\n",
            "538/538 [==============================] - 35s 66ms/step - loss: 0.3349 - accuracy: 0.8759 - val_loss: 0.3740 - val_accuracy: 0.8827 - lr: 0.0010\n",
            "Epoch 21/100\n",
            "538/538 [==============================] - 35s 65ms/step - loss: 0.3511 - accuracy: 0.8736 - val_loss: 0.3209 - val_accuracy: 0.8906 - lr: 0.0010\n",
            "Epoch 22/100\n",
            "538/538 [==============================] - 35s 65ms/step - loss: 0.3840 - accuracy: 0.8634 - val_loss: 0.4415 - val_accuracy: 0.8353 - lr: 0.0010\n",
            "Epoch 23/100\n",
            "538/538 [==============================] - 36s 67ms/step - loss: 0.2987 - accuracy: 0.8943 - val_loss: 0.3019 - val_accuracy: 0.9038 - lr: 0.0010\n",
            "Epoch 24/100\n",
            "538/538 [==============================] - 35s 66ms/step - loss: 0.2622 - accuracy: 0.9034 - val_loss: 0.2869 - val_accuracy: 0.8933 - lr: 0.0010\n",
            "Epoch 25/100\n",
            "538/538 [==============================] - 35s 65ms/step - loss: 0.2501 - accuracy: 0.9115 - val_loss: 0.2655 - val_accuracy: 0.9104 - lr: 0.0010\n",
            "Epoch 26/100\n",
            "538/538 [==============================] - 36s 67ms/step - loss: 0.2953 - accuracy: 0.8946 - val_loss: 0.3790 - val_accuracy: 0.8603 - lr: 0.0010\n",
            "Epoch 27/100\n",
            "538/538 [==============================] - 34s 64ms/step - loss: 0.2342 - accuracy: 0.9156 - val_loss: 0.2812 - val_accuracy: 0.8946 - lr: 0.0010\n",
            "Epoch 28/100\n",
            "537/538 [============================>.] - ETA: 0s - loss: 0.2258 - accuracy: 0.9185\n",
            "Epoch 28: ReduceLROnPlateau reducing learning rate to 0.0005000000237487257.\n",
            "538/538 [==============================] - 35s 65ms/step - loss: 0.2260 - accuracy: 0.9185 - val_loss: 0.2772 - val_accuracy: 0.9025 - lr: 0.0010\n",
            "Epoch 29/100\n",
            "538/538 [==============================] - 35s 64ms/step - loss: 0.1733 - accuracy: 0.9376 - val_loss: 0.1756 - val_accuracy: 0.9341 - lr: 5.0000e-04\n",
            "Epoch 30/100\n",
            "538/538 [==============================] - 35s 65ms/step - loss: 0.1547 - accuracy: 0.9454 - val_loss: 0.1513 - val_accuracy: 0.9578 - lr: 5.0000e-04\n",
            "Epoch 31/100\n",
            "538/538 [==============================] - 35s 66ms/step - loss: 0.1414 - accuracy: 0.9519 - val_loss: 0.1813 - val_accuracy: 0.9381 - lr: 5.0000e-04\n",
            "Epoch 32/100\n",
            "538/538 [==============================] - 34s 63ms/step - loss: 0.1408 - accuracy: 0.9495 - val_loss: 0.1806 - val_accuracy: 0.9420 - lr: 5.0000e-04\n",
            "Epoch 33/100\n",
            "537/538 [============================>.] - ETA: 0s - loss: 0.1349 - accuracy: 0.9525\n",
            "Epoch 33: ReduceLROnPlateau reducing learning rate to 0.0002500000118743628.\n",
            "538/538 [==============================] - 36s 66ms/step - loss: 0.1350 - accuracy: 0.9525 - val_loss: 0.1845 - val_accuracy: 0.9381 - lr: 5.0000e-04\n",
            "Epoch 34/100\n",
            "538/538 [==============================] - 36s 67ms/step - loss: 0.1105 - accuracy: 0.9614 - val_loss: 0.1514 - val_accuracy: 0.9552 - lr: 2.5000e-04\n",
            "Epoch 35/100\n",
            "538/538 [==============================] - 36s 66ms/step - loss: 0.1037 - accuracy: 0.9632 - val_loss: 0.1362 - val_accuracy: 0.9618 - lr: 2.5000e-04\n",
            "Epoch 36/100\n",
            "538/538 [==============================] - 35s 64ms/step - loss: 0.1006 - accuracy: 0.9651 - val_loss: 0.1286 - val_accuracy: 0.9618 - lr: 2.5000e-04\n",
            "Epoch 37/100\n",
            "538/538 [==============================] - 36s 66ms/step - loss: 0.0963 - accuracy: 0.9671 - val_loss: 0.1323 - val_accuracy: 0.9605 - lr: 2.5000e-04\n",
            "Epoch 38/100\n",
            "538/538 [==============================] - 35s 65ms/step - loss: 0.0929 - accuracy: 0.9700 - val_loss: 0.1322 - val_accuracy: 0.9631 - lr: 2.5000e-04\n",
            "Epoch 39/100\n",
            "538/538 [==============================] - 35s 65ms/step - loss: 0.0908 - accuracy: 0.9687 - val_loss: 0.1179 - val_accuracy: 0.9592 - lr: 2.5000e-04\n",
            "Epoch 40/100\n",
            "538/538 [==============================] - 36s 67ms/step - loss: 0.0863 - accuracy: 0.9713 - val_loss: 0.1294 - val_accuracy: 0.9592 - lr: 2.5000e-04\n",
            "Epoch 41/100\n",
            "537/538 [============================>.] - ETA: 0s - loss: 0.0868 - accuracy: 0.9707\n",
            "Epoch 41: ReduceLROnPlateau reducing learning rate to 0.0001250000059371814.\n",
            "538/538 [==============================] - 35s 65ms/step - loss: 0.0868 - accuracy: 0.9707 - val_loss: 0.1334 - val_accuracy: 0.9526 - lr: 2.5000e-04\n",
            "Epoch 42/100\n",
            "538/538 [==============================] - 34s 64ms/step - loss: 0.0735 - accuracy: 0.9759 - val_loss: 0.1323 - val_accuracy: 0.9644 - lr: 1.2500e-04\n",
            "Epoch 43/100\n",
            "538/538 [==============================] - 34s 63ms/step - loss: 0.0786 - accuracy: 0.9745 - val_loss: 0.1207 - val_accuracy: 0.9671 - lr: 1.2500e-04\n",
            "Epoch 44/100\n",
            "538/538 [==============================] - 34s 64ms/step - loss: 0.0690 - accuracy: 0.9770 - val_loss: 0.1166 - val_accuracy: 0.9657 - lr: 1.2500e-04\n",
            "Epoch 45/100\n",
            "538/538 [==============================] - 34s 63ms/step - loss: 0.0750 - accuracy: 0.9738 - val_loss: 0.1200 - val_accuracy: 0.9684 - lr: 1.2500e-04\n",
            "Epoch 46/100\n",
            "538/538 [==============================] - 34s 64ms/step - loss: 0.0645 - accuracy: 0.9787 - val_loss: 0.1226 - val_accuracy: 0.9684 - lr: 1.2500e-04\n",
            "Epoch 47/100\n",
            "538/538 [==============================] - 34s 63ms/step - loss: 0.0702 - accuracy: 0.9767 - val_loss: 0.1267 - val_accuracy: 0.9605 - lr: 1.2500e-04\n",
            "Epoch 48/100\n",
            "537/538 [============================>.] - ETA: 0s - loss: 0.0653 - accuracy: 0.9786\n",
            "Epoch 48: ReduceLROnPlateau reducing learning rate to 6.25000029685907e-05.\n",
            "538/538 [==============================] - 34s 63ms/step - loss: 0.0658 - accuracy: 0.9785 - val_loss: 0.1245 - val_accuracy: 0.9644 - lr: 1.2500e-04\n",
            "Epoch 49/100\n",
            "538/538 [==============================] - 34s 63ms/step - loss: 0.0625 - accuracy: 0.9792 - val_loss: 0.1178 - val_accuracy: 0.9657 - lr: 6.2500e-05\n",
            "Epoch 50/100\n",
            "538/538 [==============================] - 34s 64ms/step - loss: 0.0617 - accuracy: 0.9797 - val_loss: 0.1199 - val_accuracy: 0.9657 - lr: 6.2500e-05\n"
          ]
        }
      ]
    },
    {
      "cell_type": "code",
      "source": [
        "pred_test = model2.predict(x_test)\n",
        "\n",
        "y_pred = encoder.inverse_transform(pred_test)\n",
        "\n",
        "y_test = encoder.inverse_transform(y_test)"
      ],
      "metadata": {
        "colab": {
          "base_uri": "https://localhost:8080/"
        },
        "id": "Kfq7f18ECUqC",
        "outputId": "dc129334-6478-44ef-b600-f6c2f7a7efaa"
      },
      "execution_count": 89,
      "outputs": [
        {
          "output_type": "stream",
          "name": "stdout",
          "text": [
            "72/72 [==============================] - 2s 19ms/step\n"
          ]
        }
      ]
    },
    {
      "cell_type": "code",
      "source": [
        "pred_test.shape, y_pred.shape"
      ],
      "metadata": {
        "colab": {
          "base_uri": "https://localhost:8080/"
        },
        "id": "gPOrjo9lDqc8",
        "outputId": "a049896b-5916-497a-c607-cc4024ac8821"
      },
      "execution_count": 90,
      "outputs": [
        {
          "output_type": "execute_result",
          "data": {
            "text/plain": [
              "((2276, 6), (2276, 1))"
            ]
          },
          "metadata": {},
          "execution_count": 90
        }
      ]
    },
    {
      "cell_type": "code",
      "source": [
        "pred_test=model2.predict(x_test)"
      ],
      "metadata": {
        "colab": {
          "base_uri": "https://localhost:8080/"
        },
        "id": "lBjOrdoiDrvN",
        "outputId": "62c8ab9f-b4b6-4ffd-c601-c999df319742"
      },
      "execution_count": 91,
      "outputs": [
        {
          "output_type": "stream",
          "name": "stdout",
          "text": [
            "72/72 [==============================] - 1s 17ms/step\n"
          ]
        }
      ]
    },
    {
      "cell_type": "code",
      "source": [
        "df_temp2 = pd.DataFrame(columns=['Predicted Labels', 'Actual Labels'])\n",
        "df_temp2['Predicted Labels'] = y_pred.flatten()\n",
        "df_temp2['Actual Labels'] = y_test.flatten()"
      ],
      "metadata": {
        "id": "XruTo1zuDtAP"
      },
      "execution_count": 92,
      "outputs": []
    },
    {
      "cell_type": "code",
      "source": [
        "cm = confusion_matrix(y_test, y_pred)\n",
        "plt.figure(figsize = (12, 10))\n",
        "cm = pd.DataFrame(cm , index = [i for i in encoder.categories_] , columns = [i for i in encoder.categories_])\n",
        "sns.heatmap(cm, linecolor='white', cmap='Blues', linewidth=1, annot=True, fmt='')\n",
        "plt.title('Confusion Matrix', size=20)\n",
        "plt.xlabel('Predicted Labels', size=14)\n",
        "plt.ylabel('Actual Labels', size=14)\n",
        "plt.show()"
      ],
      "metadata": {
        "colab": {
          "base_uri": "https://localhost:8080/",
          "height": 885
        },
        "id": "1Mthp4cuDuct",
        "outputId": "67cd7e01-45c5-4cad-bf5e-ef23f3325a0f"
      },
      "execution_count": 93,
      "outputs": [
        {
          "output_type": "display_data",
          "data": {
            "text/plain": [
              "<Figure size 1200x1000 with 2 Axes>"
            ],
            "image/png": "[encoded data removed]"
          },
          "metadata": {}
        }
      ]
    },
    {
      "cell_type": "code",
      "source": [
        "epochs = [i for i in range(early_stop.stopped_epoch+1) ]\n",
        "fig , ax = plt.subplots(1,2)\n",
        "train_acc = history2.history['accuracy']\n",
        "train_loss = history2.history['loss']\n",
        "test_acc = history2.history['val_accuracy']\n",
        "test_loss = history2.history['val_loss']\n",
        "\n",
        "fig.set_size_inches(20,6)\n",
        "ax[0].plot(epochs , train_loss , label = 'Training Loss')\n",
        "ax[0].plot(epochs , test_loss , label = 'Testing Loss')\n",
        "ax[0].set_title('Training & Testing Loss')\n",
        "ax[0].legend()\n",
        "ax[0].set_xlabel(\"Epochs\")\n",
        "\n",
        "ax[1].plot(epochs , train_acc , label = 'Training Accuracy')\n",
        "ax[1].plot(epochs , test_acc , label = 'Testing Accuracy')\n",
        "ax[1].set_title('Training & Testing Accuracy')\n",
        "ax[1].legend()\n",
        "ax[1].set_xlabel(\"Epochs\")\n",
        "plt.show()"
      ],
      "metadata": {
        "colab": {
          "base_uri": "https://localhost:8080/",
          "height": 705
        },
        "id": "6QCFB-MdDwYZ",
        "outputId": "eddc00c1-6d3e-42e0-9c80-3eb0e7b9a56e"
      },
      "execution_count": 94,
      "outputs": [
        {
          "output_type": "error",
          "ename": "ValueError",
          "evalue": "ignored",
          "traceback": [
            "\u001b[0;31m---------------------------------------------------------------------------\u001b[0m",
            "\u001b[0;31mValueError\u001b[0m                                Traceback (most recent call last)",
            "\u001b[0;32m<ipython-input-94-8a0f0e019906>\u001b[0m in \u001b[0;36m<cell line: 9>\u001b[0;34m()\u001b[0m\n\u001b[1;32m      7\u001b[0m \u001b[0;34m\u001b[0m\u001b[0m\n\u001b[1;32m      8\u001b[0m \u001b[0mfig\u001b[0m\u001b[0;34m.\u001b[0m\u001b[0mset_size_inches\u001b[0m\u001b[0;34m(\u001b[0m\u001b[0;36m20\u001b[0m\u001b[0;34m,\u001b[0m\u001b[0;36m6\u001b[0m\u001b[0;34m)\u001b[0m\u001b[0;34m\u001b[0m\u001b[0;34m\u001b[0m\u001b[0m\n\u001b[0;32m----> 9\u001b[0;31m \u001b[0max\u001b[0m\u001b[0;34m[\u001b[0m\u001b[0;36m0\u001b[0m\u001b[0;34m]\u001b[0m\u001b[0;34m.\u001b[0m\u001b[0mplot\u001b[0m\u001b[0;34m(\u001b[0m\u001b[0mepochs\u001b[0m \u001b[0;34m,\u001b[0m \u001b[0mtrain_loss\u001b[0m \u001b[0;34m,\u001b[0m \u001b[0mlabel\u001b[0m \u001b[0;34m=\u001b[0m \u001b[0;34m'Training Loss'\u001b[0m\u001b[0;34m)\u001b[0m\u001b[0;34m\u001b[0m\u001b[0;34m\u001b[0m\u001b[0m\n\u001b[0m\u001b[1;32m     10\u001b[0m \u001b[0max\u001b[0m\u001b[0;34m[\u001b[0m\u001b[0;36m0\u001b[0m\u001b[0;34m]\u001b[0m\u001b[0;34m.\u001b[0m\u001b[0mplot\u001b[0m\u001b[0;34m(\u001b[0m\u001b[0mepochs\u001b[0m \u001b[0;34m,\u001b[0m \u001b[0mtest_loss\u001b[0m \u001b[0;34m,\u001b[0m \u001b[0mlabel\u001b[0m \u001b[0;34m=\u001b[0m \u001b[0;34m'Testing Loss'\u001b[0m\u001b[0;34m)\u001b[0m\u001b[0;34m\u001b[0m\u001b[0;34m\u001b[0m\u001b[0m\n\u001b[1;32m     11\u001b[0m \u001b[0max\u001b[0m\u001b[0;34m[\u001b[0m\u001b[0;36m0\u001b[0m\u001b[0;34m]\u001b[0m\u001b[0;34m.\u001b[0m\u001b[0mset_title\u001b[0m\u001b[0;34m(\u001b[0m\u001b[0;34m'Training & Testing Loss'\u001b[0m\u001b[0;34m)\u001b[0m\u001b[0;34m\u001b[0m\u001b[0;34m\u001b[0m\u001b[0m\n",
            "\u001b[0;32m/usr/local/lib/python3.10/dist-packages/matplotlib/axes/_axes.py\u001b[0m in \u001b[0;36mplot\u001b[0;34m(self, scalex, scaley, data, *args, **kwargs)\u001b[0m\n\u001b[1;32m   1686\u001b[0m         \"\"\"\n\u001b[1;32m   1687\u001b[0m         \u001b[0mkwargs\u001b[0m \u001b[0;34m=\u001b[0m \u001b[0mcbook\u001b[0m\u001b[0;34m.\u001b[0m\u001b[0mnormalize_kwargs\u001b[0m\u001b[0;34m(\u001b[0m\u001b[0mkwargs\u001b[0m\u001b[0;34m,\u001b[0m \u001b[0mmlines\u001b[0m\u001b[0;34m.\u001b[0m\u001b[0mLine2D\u001b[0m\u001b[0;34m)\u001b[0m\u001b[0;34m\u001b[0m\u001b[0;34m\u001b[0m\u001b[0m\n\u001b[0;32m-> 1688\u001b[0;31m         \u001b[0mlines\u001b[0m \u001b[0;34m=\u001b[0m \u001b[0;34m[\u001b[0m\u001b[0;34m*\u001b[0m\u001b[0mself\u001b[0m\u001b[0;34m.\u001b[0m\u001b[0m_get_lines\u001b[0m\u001b[0;34m(\u001b[0m\u001b[0;34m*\u001b[0m\u001b[0margs\u001b[0m\u001b[0;34m,\u001b[0m \u001b[0mdata\u001b[0m\u001b[0;34m=\u001b[0m\u001b[0mdata\u001b[0m\u001b[0;34m,\u001b[0m \u001b[0;34m**\u001b[0m\u001b[0mkwargs\u001b[0m\u001b[0;34m)\u001b[0m\u001b[0;34m]\u001b[0m\u001b[0;34m\u001b[0m\u001b[0;34m\u001b[0m\u001b[0m\n\u001b[0m\u001b[1;32m   1689\u001b[0m         \u001b[0;32mfor\u001b[0m \u001b[0mline\u001b[0m \u001b[0;32min\u001b[0m \u001b[0mlines\u001b[0m\u001b[0;34m:\u001b[0m\u001b[0;34m\u001b[0m\u001b[0;34m\u001b[0m\u001b[0m\n\u001b[1;32m   1690\u001b[0m             \u001b[0mself\u001b[0m\u001b[0;34m.\u001b[0m\u001b[0madd_line\u001b[0m\u001b[0;34m(\u001b[0m\u001b[0mline\u001b[0m\u001b[0;34m)\u001b[0m\u001b[0;34m\u001b[0m\u001b[0;34m\u001b[0m\u001b[0m\n",
            "\u001b[0;32m/usr/local/lib/python3.10/dist-packages/matplotlib/axes/_base.py\u001b[0m in \u001b[0;36m__call__\u001b[0;34m(self, data, *args, **kwargs)\u001b[0m\n\u001b[1;32m    309\u001b[0m                 \u001b[0mthis\u001b[0m \u001b[0;34m+=\u001b[0m \u001b[0margs\u001b[0m\u001b[0;34m[\u001b[0m\u001b[0;36m0\u001b[0m\u001b[0;34m]\u001b[0m\u001b[0;34m,\u001b[0m\u001b[0;34m\u001b[0m\u001b[0;34m\u001b[0m\u001b[0m\n\u001b[1;32m    310\u001b[0m                 \u001b[0margs\u001b[0m \u001b[0;34m=\u001b[0m \u001b[0margs\u001b[0m\u001b[0;34m[\u001b[0m\u001b[0;36m1\u001b[0m\u001b[0;34m:\u001b[0m\u001b[0;34m]\u001b[0m\u001b[0;34m\u001b[0m\u001b[0;34m\u001b[0m\u001b[0m\n\u001b[0;32m--> 311\u001b[0;31m             yield from self._plot_args(\n\u001b[0m\u001b[1;32m    312\u001b[0m                 this, kwargs, ambiguous_fmt_datakey=ambiguous_fmt_datakey)\n\u001b[1;32m    313\u001b[0m \u001b[0;34m\u001b[0m\u001b[0m\n",
            "\u001b[0;32m/usr/local/lib/python3.10/dist-packages/matplotlib/axes/_base.py\u001b[0m in \u001b[0;36m_plot_args\u001b[0;34m(self, tup, kwargs, return_kwargs, ambiguous_fmt_datakey)\u001b[0m\n\u001b[1;32m    502\u001b[0m \u001b[0;34m\u001b[0m\u001b[0m\n\u001b[1;32m    503\u001b[0m         \u001b[0;32mif\u001b[0m \u001b[0mx\u001b[0m\u001b[0;34m.\u001b[0m\u001b[0mshape\u001b[0m\u001b[0;34m[\u001b[0m\u001b[0;36m0\u001b[0m\u001b[0;34m]\u001b[0m \u001b[0;34m!=\u001b[0m \u001b[0my\u001b[0m\u001b[0;34m.\u001b[0m\u001b[0mshape\u001b[0m\u001b[0;34m[\u001b[0m\u001b[0;36m0\u001b[0m\u001b[0;34m]\u001b[0m\u001b[0;34m:\u001b[0m\u001b[0;34m\u001b[0m\u001b[0;34m\u001b[0m\u001b[0m\n\u001b[0;32m--> 504\u001b[0;31m             raise ValueError(f\"x and y must have same first dimension, but \"\n\u001b[0m\u001b[1;32m    505\u001b[0m                              f\"have shapes {x.shape} and {y.shape}\")\n\u001b[1;32m    506\u001b[0m         \u001b[0;32mif\u001b[0m \u001b[0mx\u001b[0m\u001b[0;34m.\u001b[0m\u001b[0mndim\u001b[0m \u001b[0;34m>\u001b[0m \u001b[0;36m2\u001b[0m \u001b[0;32mor\u001b[0m \u001b[0my\u001b[0m\u001b[0;34m.\u001b[0m\u001b[0mndim\u001b[0m \u001b[0;34m>\u001b[0m \u001b[0;36m2\u001b[0m\u001b[0;34m:\u001b[0m\u001b[0;34m\u001b[0m\u001b[0;34m\u001b[0m\u001b[0m\n",
            "\u001b[0;31mValueError\u001b[0m: x and y must have same first dimension, but have shapes (50,) and (66,)"
          ]
        },
        {
          "output_type": "display_data",
          "data": {
            "text/plain": [
              "<Figure size 2000x600 with 2 Axes>"
            ],
            "image/png": "[encoded data removed]"
          },
          "metadata": {}
        }
      ]
    },
    {
      "cell_type": "code",
      "source": [
        "print(classification_report(y_test, y_pred, target_names=['anger', 'anxiety/fear', 'disgust', 'happiness',\n",
        "        'neutral', 'sadness']))"
      ],
      "metadata": {
        "id": "Ol39GSYeD_9s"
      },
      "execution_count": null,
      "outputs": []
    },
    {
      "cell_type": "markdown",
      "source": [
        "## From features and predicted emotion, predict gender"
      ],
      "metadata": {
        "id": "ByeggV_rD777"
      }
    },
    {
      "cell_type": "code",
      "source": [
        "Features = pd.read_csv('/content/drive/MyDrive/Prism/features_gender_final.csv')"
      ],
      "metadata": {
        "id": "k0IhC1gqD6kj"
      },
      "execution_count": 96,
      "outputs": []
    },
    {
      "cell_type": "code",
      "source": [
        "Features = Features.fillna(0)\n",
        "print(Features.isna().any())\n",
        "Features.shape"
      ],
      "metadata": {
        "colab": {
          "base_uri": "https://localhost:8080/"
        },
        "id": "NQfUfVtzEaRQ",
        "outputId": "abdade7f-e44b-4599-d01a-dfa4379367b8"
      },
      "execution_count": 97,
      "outputs": [
        {
          "output_type": "stream",
          "name": "stdout",
          "text": [
            "0         False\n",
            "1         False\n",
            "2         False\n",
            "3         False\n",
            "4         False\n",
            "          ...  \n",
            "2372      False\n",
            "2373      False\n",
            "2374      False\n",
            "2375      False\n",
            "labels    False\n",
            "Length: 2377, dtype: bool\n"
          ]
        },
        {
          "output_type": "execute_result",
          "data": {
            "text/plain": [
              "(31584, 2377)"
            ]
          },
          "metadata": {},
          "execution_count": 97
        }
      ]
    },
    {
      "cell_type": "code",
      "source": [
        "X = Features.iloc[: ,:-1].values\n",
        "Y = Features['labels'].values"
      ],
      "metadata": {
        "id": "iabQxurTFCOK"
      },
      "execution_count": 98,
      "outputs": []
    },
    {
      "cell_type": "code",
      "source": [
        "scaler = StandardScaler()\n",
        "X1 = scaler.fit_transform(X)\n",
        "X1 = np.expand_dims(X1, axis=2)"
      ],
      "metadata": {
        "id": "OtMHq--5FLbo"
      },
      "execution_count": 99,
      "outputs": []
    },
    {
      "cell_type": "code",
      "source": [
        "Z=model.predict(X1)"
      ],
      "metadata": {
        "colab": {
          "base_uri": "https://localhost:8080/"
        },
        "id": "fNeNdmDKFRIv",
        "outputId": "8275c809-ca1e-43f2-d508-b1c0da3fc14d"
      },
      "execution_count": 100,
      "outputs": [
        {
          "output_type": "stream",
          "name": "stdout",
          "text": [
            "987/987 [==============================] - 16s 17ms/step\n"
          ]
        }
      ]
    },
    {
      "cell_type": "code",
      "source": [
        "Z = encoder.inverse_transform(Z)"
      ],
      "metadata": {
        "id": "vNSR-q0nFVla"
      },
      "execution_count": 101,
      "outputs": []
    },
    {
      "cell_type": "code",
      "source": [
        "Z = Z.flatten()"
      ],
      "metadata": {
        "id": "BI6RneWQFZ3x"
      },
      "execution_count": 102,
      "outputs": []
    },
    {
      "cell_type": "code",
      "source": [
        "Features = pd.DataFrame(X)\n",
        "Features['predicted age'] = Z\n",
        "Features['labels'] = Y"
      ],
      "metadata": {
        "id": "7BCK2Tb0FeaQ"
      },
      "execution_count": 103,
      "outputs": []
    },
    {
      "cell_type": "code",
      "source": [
        "Features['predicted age'] = Features['predicted age'].astype('category').cat.codes"
      ],
      "metadata": {
        "id": "iOnrtZ6lFjtl"
      },
      "execution_count": 104,
      "outputs": []
    },
    {
      "cell_type": "code",
      "source": [
        "X = Features.iloc[: ,:-1].values\n",
        "Y = Features['labels'].values"
      ],
      "metadata": {
        "id": "b0fUdIWkFohv"
      },
      "execution_count": 105,
      "outputs": []
    },
    {
      "cell_type": "code",
      "source": [
        "encoder = OneHotEncoder()\n",
        "Y = encoder.fit_transform(np.array(Y).reshape(-1,1)).toarray()\n",
        "encoder.categories_"
      ],
      "metadata": {
        "colab": {
          "base_uri": "https://localhost:8080/"
        },
        "id": "1EfZi7LrFytX",
        "outputId": "77fc1d65-2dd8-45d0-feb9-45a7ca33dc03"
      },
      "execution_count": 106,
      "outputs": [
        {
          "output_type": "execute_result",
          "data": {
            "text/plain": [
              "[array(['female', 'male'], dtype=object)]"
            ]
          },
          "metadata": {},
          "execution_count": 106
        }
      ]
    },
    {
      "cell_type": "code",
      "source": [
        "x_train, x_test, y_train, y_test = train_test_split(X, Y,test_size=0.15, random_state=30, shuffle=True,stratify=Y)\n",
        "x_train.shape, y_train.shape, x_test.shape, y_test.shape"
      ],
      "metadata": {
        "colab": {
          "base_uri": "https://localhost:8080/"
        },
        "id": "HyT3SyuEF1tv",
        "outputId": "b1696f78-e2d4-4553-f297-34b054ffd8f3"
      },
      "execution_count": 107,
      "outputs": [
        {
          "output_type": "execute_result",
          "data": {
            "text/plain": [
              "((26846, 2377), (26846, 2), (4738, 2377), (4738, 2))"
            ]
          },
          "metadata": {},
          "execution_count": 107
        }
      ]
    },
    {
      "cell_type": "code",
      "source": [
        "scaler = StandardScaler()"
      ],
      "metadata": {
        "id": "i6RBC2R5F4Yb"
      },
      "execution_count": 108,
      "outputs": []
    },
    {
      "cell_type": "code",
      "source": [
        "x_test, x_val, y_test, y_val = train_test_split(x_test, y_test, random_state=30, test_size=0.25, shuffle=True,stratify=y_test)\n",
        "x_train.shape, x_test.shape, x_val.shape, x_train.shape, x_test.shape, x_val.shape"
      ],
      "metadata": {
        "colab": {
          "base_uri": "https://localhost:8080/"
        },
        "id": "GEgD-gKnF7Ad",
        "outputId": "01310321-c757-4d11-fb14-9e07c7d57c83"
      },
      "execution_count": 109,
      "outputs": [
        {
          "output_type": "execute_result",
          "data": {
            "text/plain": [
              "((26846, 2377),\n",
              " (3553, 2377),\n",
              " (1185, 2377),\n",
              " (26846, 2377),\n",
              " (3553, 2377),\n",
              " (1185, 2377))"
            ]
          },
          "metadata": {},
          "execution_count": 109
        }
      ]
    },
    {
      "cell_type": "code",
      "source": [
        "x_train = scaler.fit_transform(x_train)\n",
        "x_val=scaler.transform(x_val)\n",
        "x_test = scaler.transform(x_test)\n",
        "\n",
        "x_train.shape, y_train.shape, x_test.shape, y_test.shape"
      ],
      "metadata": {
        "colab": {
          "base_uri": "https://localhost:8080/"
        },
        "id": "EBu8kKccGFfq",
        "outputId": "42d605a9-cd99-4f97-92f5-b58e10f85acf"
      },
      "execution_count": 110,
      "outputs": [
        {
          "output_type": "execute_result",
          "data": {
            "text/plain": [
              "((26846, 2377), (26846, 2), (3553, 2377), (3553, 2))"
            ]
          },
          "metadata": {},
          "execution_count": 110
        }
      ]
    },
    {
      "cell_type": "code",
      "source": [
        "optimizer = keras.optimizers.Adam(lr=0.0005) ####"
      ],
      "metadata": {
        "colab": {
          "base_uri": "https://localhost:8080/"
        },
        "id": "oTATLHqSGIkU",
        "outputId": "bb43b8f2-93ca-4007-ac8f-96f1e81e7012"
      },
      "execution_count": 111,
      "outputs": [
        {
          "output_type": "stream",
          "name": "stderr",
          "text": [
            "/usr/local/lib/python3.10/dist-packages/keras/optimizers/legacy/adam.py:117: UserWarning: The `lr` argument is deprecated, use `learning_rate` instead.\n",
            "  super().__init__(name, **kwargs)\n"
          ]
        }
      ]
    },
    {
      "cell_type": "code",
      "source": [
        "model3=Sequential()\n",
        "\n",
        "model3.add(Conv1D(256, kernel_size=5, strides=1, padding='same', activation='relu', input_shape=(x_train.shape[1], 1)))\n",
        "model3.add(BatchNormalization())\n",
        "model3.add(MaxPooling1D(pool_size=5, strides = 2, padding = 'same'))\n",
        "\n",
        "model3.add(Conv1D(256, kernel_size=5, strides=1, padding='same', activation='relu'))\n",
        "model3.add(BatchNormalization())\n",
        "model3.add(MaxPooling1D(pool_size=5, strides = 2, padding = 'same'))\n",
        "\n",
        "model3.add(Conv1D(128, kernel_size=5, strides=1, padding='same', activation='relu'))\n",
        "model3.add(BatchNormalization())\n",
        "model3.add(MaxPooling1D(pool_size=5, strides = 2, padding = 'same'))\n",
        "model3.add(Dropout(0.2))\n",
        "\n",
        "model3.add(Conv1D(64, kernel_size=5, strides=1, padding='same', activation='relu'))\n",
        "model3.add(BatchNormalization())\n",
        "model3.add(MaxPooling1D(pool_size=5, strides = 2, padding = 'same'))\n",
        "\n",
        "model3.add(Flatten())\n",
        "model3.add(Dense(32, activation='relu'))\n",
        "model3.add(BatchNormalization())\n",
        "model3.add(Dropout(0.25))\n",
        "\n",
        "model3.add(Dense(2, activation='softmax'))\n",
        "model3.compile(optimizer = 'Adam' , loss = 'categorical_crossentropy' , metrics = ['accuracy'])\n",
        "\n",
        "model3.summary()"
      ],
      "metadata": {
        "colab": {
          "base_uri": "https://localhost:8080/"
        },
        "id": "Ha-VMehsHIC1",
        "outputId": "6b850697-eb75-440e-bec2-94d05927b1ce"
      },
      "execution_count": 112,
      "outputs": [
        {
          "output_type": "stream",
          "name": "stdout",
          "text": [
            "Model: \"sequential_5\"\n",
            "_________________________________________________________________\n",
            " Layer (type)                Output Shape              Param #   \n",
            "=================================================================\n",
            " conv1d_20 (Conv1D)          (None, 2377, 256)         1536      \n",
            "                                                                 \n",
            " batch_normalization_25 (Bat  (None, 2377, 256)        1024      \n",
            " chNormalization)                                                \n",
            "                                                                 \n",
            " max_pooling1d_20 (MaxPoolin  (None, 1189, 256)        0         \n",
            " g1D)                                                            \n",
            "                                                                 \n",
            " conv1d_21 (Conv1D)          (None, 1189, 256)         327936    \n",
            "                                                                 \n",
            " batch_normalization_26 (Bat  (None, 1189, 256)        1024      \n",
            " chNormalization)                                                \n",
            "                                                                 \n",
            " max_pooling1d_21 (MaxPoolin  (None, 595, 256)         0         \n",
            " g1D)                                                            \n",
            "                                                                 \n",
            " conv1d_22 (Conv1D)          (None, 595, 128)          163968    \n",
            "                                                                 \n",
            " batch_normalization_27 (Bat  (None, 595, 128)         512       \n",
            " chNormalization)                                                \n",
            "                                                                 \n",
            " max_pooling1d_22 (MaxPoolin  (None, 298, 128)         0         \n",
            " g1D)                                                            \n",
            "                                                                 \n",
            " dropout_10 (Dropout)        (None, 298, 128)          0         \n",
            "                                                                 \n",
            " conv1d_23 (Conv1D)          (None, 298, 64)           41024     \n",
            "                                                                 \n",
            " batch_normalization_28 (Bat  (None, 298, 64)          256       \n",
            " chNormalization)                                                \n",
            "                                                                 \n",
            " max_pooling1d_23 (MaxPoolin  (None, 149, 64)          0         \n",
            " g1D)                                                            \n",
            "                                                                 \n",
            " flatten_5 (Flatten)         (None, 9536)              0         \n",
            "                                                                 \n",
            " dense_10 (Dense)            (None, 32)                305184    \n",
            "                                                                 \n",
            " batch_normalization_29 (Bat  (None, 32)               128       \n",
            " chNormalization)                                                \n",
            "                                                                 \n",
            " dropout_11 (Dropout)        (None, 32)                0         \n",
            "                                                                 \n",
            " dense_11 (Dense)            (None, 2)                 66        \n",
            "                                                                 \n",
            "=================================================================\n",
            "Total params: 842,658\n",
            "Trainable params: 841,186\n",
            "Non-trainable params: 1,472\n",
            "_________________________________________________________________\n"
          ]
        }
      ]
    },
    {
      "cell_type": "code",
      "source": [
        "learning_rate_reduction = ReduceLROnPlateau(monitor='val_accuracy',\n",
        "                                            patience=3,\n",
        "                                            verbose=1,\n",
        "                                            factor=0.5,\n",
        "                                            min_lr=0.00001)\n",
        "early_stop = EarlyStopping(monitor='val_accuracy', mode='auto', patience=5, start_from_epoch=20)\n",
        "callbacks=[learning_rate_reduction,early_stop]\n",
        "\n"
      ],
      "metadata": {
        "id": "WLEnbX3uHcNd"
      },
      "execution_count": 113,
      "outputs": []
    },
    {
      "cell_type": "code",
      "source": [
        "history3=model3.fit(x_train, y_train, batch_size=32, epochs=100, validation_data=(x_val, y_val), callbacks=callbacks)"
      ],
      "metadata": {
        "colab": {
          "base_uri": "https://localhost:8080/"
        },
        "id": "BDW_GP1jHhXv",
        "outputId": "5c397bc2-16c4-4e24-8057-5ba6690594d8"
      },
      "execution_count": 114,
      "outputs": [
        {
          "output_type": "stream",
          "name": "stdout",
          "text": [
            "Epoch 1/100\n",
            "839/839 [==============================] - 65s 66ms/step - loss: 0.5060 - accuracy: 0.7590 - val_loss: 0.9609 - val_accuracy: 0.6439 - lr: 0.0010\n",
            "Epoch 2/100\n",
            "839/839 [==============================] - 53s 63ms/step - loss: 0.3129 - accuracy: 0.8654 - val_loss: 0.5845 - val_accuracy: 0.7316 - lr: 0.0010\n",
            "Epoch 3/100\n",
            "839/839 [==============================] - 53s 63ms/step - loss: 0.2658 - accuracy: 0.8913 - val_loss: 0.2800 - val_accuracy: 0.8970 - lr: 0.0010\n",
            "Epoch 4/100\n",
            "839/839 [==============================] - 54s 64ms/step - loss: 0.2463 - accuracy: 0.8978 - val_loss: 0.3336 - val_accuracy: 0.8523 - lr: 0.0010\n",
            "Epoch 5/100\n",
            "839/839 [==============================] - 54s 65ms/step - loss: 0.2176 - accuracy: 0.9127 - val_loss: 0.2045 - val_accuracy: 0.9165 - lr: 0.0010\n",
            "Epoch 6/100\n",
            "839/839 [==============================] - 54s 64ms/step - loss: 0.2093 - accuracy: 0.9145 - val_loss: 0.2487 - val_accuracy: 0.9021 - lr: 0.0010\n",
            "Epoch 7/100\n",
            "839/839 [==============================] - 54s 64ms/step - loss: 0.1925 - accuracy: 0.9229 - val_loss: 0.1562 - val_accuracy: 0.9401 - lr: 0.0010\n",
            "Epoch 8/100\n",
            "839/839 [==============================] - 54s 64ms/step - loss: 0.1652 - accuracy: 0.9340 - val_loss: 0.2087 - val_accuracy: 0.9224 - lr: 0.0010\n",
            "Epoch 9/100\n",
            "839/839 [==============================] - 53s 63ms/step - loss: 0.1566 - accuracy: 0.9385 - val_loss: 0.3405 - val_accuracy: 0.8751 - lr: 0.0010\n",
            "Epoch 10/100\n",
            "839/839 [==============================] - ETA: 0s - loss: 0.1434 - accuracy: 0.9433\n",
            "Epoch 10: ReduceLROnPlateau reducing learning rate to 0.0005000000237487257.\n",
            "839/839 [==============================] - 54s 64ms/step - loss: 0.1434 - accuracy: 0.9433 - val_loss: 0.1429 - val_accuracy: 0.9325 - lr: 0.0010\n",
            "Epoch 11/100\n",
            "839/839 [==============================] - 54s 64ms/step - loss: 0.1048 - accuracy: 0.9584 - val_loss: 0.0973 - val_accuracy: 0.9637 - lr: 5.0000e-04\n",
            "Epoch 12/100\n",
            "839/839 [==============================] - 55s 65ms/step - loss: 0.0930 - accuracy: 0.9642 - val_loss: 0.1240 - val_accuracy: 0.9536 - lr: 5.0000e-04\n",
            "Epoch 13/100\n",
            "839/839 [==============================] - 53s 63ms/step - loss: 0.0798 - accuracy: 0.9695 - val_loss: 0.0825 - val_accuracy: 0.9696 - lr: 5.0000e-04\n",
            "Epoch 14/100\n",
            "839/839 [==============================] - 54s 64ms/step - loss: 0.0796 - accuracy: 0.9696 - val_loss: 0.0885 - val_accuracy: 0.9662 - lr: 5.0000e-04\n",
            "Epoch 15/100\n",
            "839/839 [==============================] - 54s 65ms/step - loss: 0.0704 - accuracy: 0.9738 - val_loss: 0.1059 - val_accuracy: 0.9595 - lr: 5.0000e-04\n",
            "Epoch 16/100\n",
            "839/839 [==============================] - 54s 65ms/step - loss: 0.0622 - accuracy: 0.9774 - val_loss: 0.0768 - val_accuracy: 0.9705 - lr: 5.0000e-04\n",
            "Epoch 17/100\n",
            "839/839 [==============================] - 53s 63ms/step - loss: 0.0616 - accuracy: 0.9773 - val_loss: 0.0901 - val_accuracy: 0.9679 - lr: 5.0000e-04\n",
            "Epoch 18/100\n",
            "839/839 [==============================] - 54s 65ms/step - loss: 0.0561 - accuracy: 0.9786 - val_loss: 0.0838 - val_accuracy: 0.9679 - lr: 5.0000e-04\n",
            "Epoch 19/100\n",
            "839/839 [==============================] - ETA: 0s - loss: 0.0536 - accuracy: 0.9813\n",
            "Epoch 19: ReduceLROnPlateau reducing learning rate to 0.0002500000118743628.\n",
            "839/839 [==============================] - 55s 65ms/step - loss: 0.0536 - accuracy: 0.9813 - val_loss: 0.0837 - val_accuracy: 0.9705 - lr: 5.0000e-04\n",
            "Epoch 20/100\n",
            "839/839 [==============================] - 53s 64ms/step - loss: 0.0401 - accuracy: 0.9850 - val_loss: 0.0782 - val_accuracy: 0.9671 - lr: 2.5000e-04\n",
            "Epoch 21/100\n",
            "839/839 [==============================] - 54s 64ms/step - loss: 0.0316 - accuracy: 0.9891 - val_loss: 0.0731 - val_accuracy: 0.9722 - lr: 2.5000e-04\n",
            "Epoch 22/100\n",
            "839/839 [==============================] - 53s 63ms/step - loss: 0.0289 - accuracy: 0.9902 - val_loss: 0.0419 - val_accuracy: 0.9857 - lr: 2.5000e-04\n",
            "Epoch 23/100\n",
            "839/839 [==============================] - 54s 64ms/step - loss: 0.0322 - accuracy: 0.9883 - val_loss: 0.0430 - val_accuracy: 0.9823 - lr: 2.5000e-04\n",
            "Epoch 24/100\n",
            "839/839 [==============================] - 54s 64ms/step - loss: 0.0276 - accuracy: 0.9901 - val_loss: 0.0450 - val_accuracy: 0.9781 - lr: 2.5000e-04\n",
            "Epoch 25/100\n",
            "839/839 [==============================] - ETA: 0s - loss: 0.0254 - accuracy: 0.9908\n",
            "Epoch 25: ReduceLROnPlateau reducing learning rate to 0.0001250000059371814.\n",
            "839/839 [==============================] - 54s 64ms/step - loss: 0.0254 - accuracy: 0.9908 - val_loss: 0.0664 - val_accuracy: 0.9789 - lr: 2.5000e-04\n",
            "Epoch 26/100\n",
            "839/839 [==============================] - 54s 64ms/step - loss: 0.0217 - accuracy: 0.9928 - val_loss: 0.0296 - val_accuracy: 0.9890 - lr: 1.2500e-04\n",
            "Epoch 27/100\n",
            "839/839 [==============================] - 54s 64ms/step - loss: 0.0181 - accuracy: 0.9938 - val_loss: 0.0426 - val_accuracy: 0.9789 - lr: 1.2500e-04\n",
            "Epoch 28/100\n",
            "839/839 [==============================] - 54s 64ms/step - loss: 0.0183 - accuracy: 0.9939 - val_loss: 0.0380 - val_accuracy: 0.9840 - lr: 1.2500e-04\n",
            "Epoch 29/100\n",
            "839/839 [==============================] - ETA: 0s - loss: 0.0161 - accuracy: 0.9946\n",
            "Epoch 29: ReduceLROnPlateau reducing learning rate to 6.25000029685907e-05.\n",
            "839/839 [==============================] - 53s 64ms/step - loss: 0.0161 - accuracy: 0.9946 - val_loss: 0.0373 - val_accuracy: 0.9857 - lr: 1.2500e-04\n",
            "Epoch 30/100\n",
            "839/839 [==============================] - 53s 63ms/step - loss: 0.0147 - accuracy: 0.9952 - val_loss: 0.0350 - val_accuracy: 0.9873 - lr: 6.2500e-05\n",
            "Epoch 31/100\n",
            "839/839 [==============================] - 53s 63ms/step - loss: 0.0135 - accuracy: 0.9959 - val_loss: 0.0274 - val_accuracy: 0.9899 - lr: 6.2500e-05\n",
            "Epoch 32/100\n",
            "839/839 [==============================] - 54s 64ms/step - loss: 0.0127 - accuracy: 0.9961 - val_loss: 0.0264 - val_accuracy: 0.9890 - lr: 6.2500e-05\n",
            "Epoch 33/100\n",
            "839/839 [==============================] - 53s 64ms/step - loss: 0.0123 - accuracy: 0.9956 - val_loss: 0.0361 - val_accuracy: 0.9857 - lr: 6.2500e-05\n",
            "Epoch 34/100\n",
            "839/839 [==============================] - 54s 64ms/step - loss: 0.0115 - accuracy: 0.9963 - val_loss: 0.0272 - val_accuracy: 0.9907 - lr: 6.2500e-05\n",
            "Epoch 35/100\n",
            "839/839 [==============================] - 54s 64ms/step - loss: 0.0154 - accuracy: 0.9954 - val_loss: 0.0292 - val_accuracy: 0.9890 - lr: 6.2500e-05\n",
            "Epoch 36/100\n",
            "839/839 [==============================] - 53s 63ms/step - loss: 0.0113 - accuracy: 0.9966 - val_loss: 0.0255 - val_accuracy: 0.9907 - lr: 6.2500e-05\n",
            "Epoch 37/100\n",
            "839/839 [==============================] - ETA: 0s - loss: 0.0102 - accuracy: 0.9969\n",
            "Epoch 37: ReduceLROnPlateau reducing learning rate to 3.125000148429535e-05.\n",
            "839/839 [==============================] - 54s 64ms/step - loss: 0.0102 - accuracy: 0.9969 - val_loss: 0.0274 - val_accuracy: 0.9882 - lr: 6.2500e-05\n",
            "Epoch 38/100\n",
            "839/839 [==============================] - 53s 64ms/step - loss: 0.0104 - accuracy: 0.9965 - val_loss: 0.0262 - val_accuracy: 0.9899 - lr: 3.1250e-05\n",
            "Epoch 39/100\n",
            "839/839 [==============================] - 54s 64ms/step - loss: 0.0091 - accuracy: 0.9974 - val_loss: 0.0247 - val_accuracy: 0.9916 - lr: 3.1250e-05\n",
            "Epoch 40/100\n",
            "839/839 [==============================] - 53s 64ms/step - loss: 0.0090 - accuracy: 0.9974 - val_loss: 0.0257 - val_accuracy: 0.9907 - lr: 3.1250e-05\n",
            "Epoch 41/100\n",
            "839/839 [==============================] - 53s 64ms/step - loss: 0.0085 - accuracy: 0.9977 - val_loss: 0.0250 - val_accuracy: 0.9932 - lr: 3.1250e-05\n",
            "Epoch 42/100\n",
            "839/839 [==============================] - 54s 64ms/step - loss: 0.0087 - accuracy: 0.9975 - val_loss: 0.0236 - val_accuracy: 0.9890 - lr: 3.1250e-05\n",
            "Epoch 43/100\n",
            "839/839 [==============================] - 53s 64ms/step - loss: 0.0082 - accuracy: 0.9971 - val_loss: 0.0223 - val_accuracy: 0.9924 - lr: 3.1250e-05\n",
            "Epoch 44/100\n",
            "839/839 [==============================] - ETA: 0s - loss: 0.0081 - accuracy: 0.9974\n",
            "Epoch 44: ReduceLROnPlateau reducing learning rate to 1.5625000742147677e-05.\n",
            "839/839 [==============================] - 54s 64ms/step - loss: 0.0081 - accuracy: 0.9974 - val_loss: 0.0242 - val_accuracy: 0.9907 - lr: 3.1250e-05\n",
            "Epoch 45/100\n",
            "839/839 [==============================] - 54s 64ms/step - loss: 0.0074 - accuracy: 0.9980 - val_loss: 0.0244 - val_accuracy: 0.9932 - lr: 1.5625e-05\n",
            "Epoch 46/100\n",
            "839/839 [==============================] - 53s 63ms/step - loss: 0.0080 - accuracy: 0.9971 - val_loss: 0.0234 - val_accuracy: 0.9924 - lr: 1.5625e-05\n"
          ]
        }
      ]
    },
    {
      "cell_type": "code",
      "source": [
        "print(\"Accuracy of our model on test data : \" , model3.evaluate(x_test,y_test)[1]*100 , \"%\")"
      ],
      "metadata": {
        "colab": {
          "base_uri": "https://localhost:8080/"
        },
        "id": "sng39tkkHpBx",
        "outputId": "e3ea4099-315d-4245-92ee-9055ffc7e0b8"
      },
      "execution_count": 115,
      "outputs": [
        {
          "output_type": "stream",
          "name": "stdout",
          "text": [
            "112/112 [==============================] - 2s 20ms/step - loss: 0.0183 - accuracy: 0.9949\n",
            "Accuracy of our model on test data :  99.49338436126709 %\n"
          ]
        }
      ]
    },
    {
      "cell_type": "code",
      "source": [
        "pred_test = model3.predict(x_test)\n",
        "\n",
        "y_pred = encoder.inverse_transform(pred_test)\n",
        "\n",
        "y_test = encoder.inverse_transform(y_test)"
      ],
      "metadata": {
        "colab": {
          "base_uri": "https://localhost:8080/"
        },
        "id": "TSPSrnUeHrWv",
        "outputId": "7a0c7214-4013-4f10-e03f-f22e006005fc"
      },
      "execution_count": 116,
      "outputs": [
        {
          "output_type": "stream",
          "name": "stdout",
          "text": [
            "112/112 [==============================] - 2s 17ms/step\n"
          ]
        }
      ]
    },
    {
      "cell_type": "code",
      "source": [
        "pred_test=model3.predict(x_test)"
      ],
      "metadata": {
        "colab": {
          "base_uri": "https://localhost:8080/"
        },
        "id": "GLns0R7LHs3p",
        "outputId": "6266554a-f7d8-48ec-e2b8-a22a8aaca8cd"
      },
      "execution_count": 117,
      "outputs": [
        {
          "output_type": "stream",
          "name": "stdout",
          "text": [
            "112/112 [==============================] - 2s 17ms/step\n"
          ]
        }
      ]
    },
    {
      "cell_type": "code",
      "source": [
        "df_temp3 = pd.DataFrame(columns=['Predicted Labels', 'Actual Labels'])\n",
        "df_temp3['Predicted Labels'] = y_pred.flatten()\n",
        "df_temp3['Actual Labels'] = y_test.flatten()"
      ],
      "metadata": {
        "id": "PXQlaxFSHucw"
      },
      "execution_count": 118,
      "outputs": []
    },
    {
      "cell_type": "code",
      "source": [
        "epochs = [i for i in range(early_stop.stopped_epoch+1) ]\n",
        "fig , ax = plt.subplots(1,2)\n",
        "train_acc = history3.history['accuracy']\n",
        "train_loss = history3.history['loss']\n",
        "test_acc = history3.history['val_accuracy']\n",
        "test_loss = history3.history['val_loss']\n",
        "\n",
        "fig.set_size_inches(20,6)\n",
        "ax[0].plot(epochs , train_loss , label = 'Training Loss')\n",
        "ax[0].plot(epochs , test_loss , label = 'Testing Loss')\n",
        "ax[0].set_title('Training & Testing Loss')\n",
        "ax[0].legend()\n",
        "ax[0].set_xlabel(\"Epochs\")\n",
        "\n",
        "ax[1].plot(epochs , train_acc , label = 'Training Accuracy')\n",
        "ax[1].plot(epochs , test_acc , label = 'Testing Accuracy')\n",
        "ax[1].set_title('Training & Testing Accuracy')\n",
        "ax[1].legend()\n",
        "ax[1].set_xlabel(\"Epochs\")\n",
        "plt.show()"
      ],
      "metadata": {
        "colab": {
          "base_uri": "https://localhost:8080/",
          "height": 337
        },
        "id": "D4ol20hUT0Gn",
        "outputId": "08f90ed6-b008-4e68-a7f1-c49e7bd09e85"
      },
      "execution_count": 122,
      "outputs": [
        {
          "output_type": "display_data",
          "data": {
            "text/plain": [
              "<Figure size 2000x600 with 2 Axes>"
            ],
            "image/png": "[encoded data removed]"
          },
          "metadata": {}
        }
      ]
    },
    {
      "cell_type": "code",
      "source": [
        "cm = confusion_matrix(y_test, y_pred)\n",
        "plt.figure(figsize = (12, 10))\n",
        "cm = pd.DataFrame(cm , index = [i for i in encoder.categories_] , columns = [i for i in encoder.categories_])\n",
        "sns.heatmap(cm, linecolor='white', cmap='Blues', linewidth=1, annot=True, fmt='')\n",
        "plt.title('Confusion Matrix', size=20)\n",
        "plt.xlabel('Predicted Labels', size=14)\n",
        "plt.ylabel('Actual Labels', size=14)\n",
        "plt.show()"
      ],
      "metadata": {
        "colab": {
          "base_uri": "https://localhost:8080/",
          "height": 881
        },
        "id": "q9mdSporHxOI",
        "outputId": "14754e41-0f43-475a-9ff0-0a589fd0ae41"
      },
      "execution_count": 120,
      "outputs": [
        {
          "output_type": "display_data",
          "data": {
            "text/plain": [
              "<Figure size 1200x1000 with 2 Axes>"
            ],
            "image/png": "[encoded data removed]"
          },
          "metadata": {}
        }
      ]
    },
    {
      "cell_type": "code",
      "source": [
        "print(classification_report(y_test, y_pred, target_names=['male','female']))"
      ],
      "metadata": {
        "colab": {
          "base_uri": "https://localhost:8080/"
        },
        "id": "j6__-nQ-HyjH",
        "outputId": "b4ec8952-e673-4fb2-d6d3-be3ee4dc0191"
      },
      "execution_count": 121,
      "outputs": [
        {
          "output_type": "stream",
          "name": "stdout",
          "text": [
            "              precision    recall  f1-score   support\n",
            "\n",
            "        male       1.00      0.99      0.99      1696\n",
            "      female       0.99      1.00      1.00      1857\n",
            "\n",
            "    accuracy                           0.99      3553\n",
            "   macro avg       0.99      0.99      0.99      3553\n",
            "weighted avg       0.99      0.99      0.99      3553\n",
            "\n"
          ]
        }
      ]
    }
  ]
}