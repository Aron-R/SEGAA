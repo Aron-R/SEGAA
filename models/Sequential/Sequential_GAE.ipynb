{
  "cells": [
    {
      "cell_type": "code",
      "execution_count": 1,
      "metadata": {
        "id": "xE6x5H4Yc5mQ"
      },
      "outputs": [],
      "source": [
        "import pandas as pd\n",
        "import numpy as np\n",
        "\n",
        "import os\n",
        "import sys\n",
        "import tensorflow as tf\n",
        "import matplotlib.pyplot as plt\n",
        "import librosa\n",
        "import librosa.display\n",
        "import seaborn as sns"
      ]
    },
    {
      "cell_type": "code",
      "execution_count": 2,
      "metadata": {
        "id": "_FR4o4mudGWv"
      },
      "outputs": [],
      "source": [
        "from sklearn.preprocessing import StandardScaler, OneHotEncoder\n",
        "from sklearn.metrics import confusion_matrix, classification_report\n",
        "from sklearn.model_selection import train_test_split\n",
        "\n",
        "# to play the audio files\n",
        "from IPython.display import Audio\n",
        "\n",
        "import keras\n",
        "from keras import Model\n",
        "from keras.callbacks import EarlyStopping\n",
        "from keras.callbacks import ReduceLROnPlateau\n",
        "from keras.models import Sequential\n",
        "from keras.layers import Dense, Conv1D, AveragePooling1D, Flatten, Dropout, BatchNormalization, Input\n",
        "from keras.utils import np_utils, to_categorical\n",
        "from keras.callbacks import ModelCheckpoint\n",
        "\n",
        "import warnings\n",
        "if not sys.warnoptions:\n",
        "    warnings.simplefilter(\"ignore\")\n",
        "warnings.filterwarnings(\"ignore\", category=DeprecationWarning)"
      ]
    },
    {
      "cell_type": "code",
      "execution_count": 3,
      "metadata": {
        "id": "3xajW_uYdIaO"
      },
      "outputs": [],
      "source": [
        "Features = pd.read_csv('../../data/features_gender_final.csv')"
      ]
    },
    {
      "cell_type": "code",
      "execution_count": 4,
      "metadata": {
        "colab": {
          "base_uri": "https://localhost:8080/"
        },
        "id": "2lby_f3pdpgf",
        "outputId": "4d00911f-70bd-4a45-aa10-4945c5f4ad6a"
      },
      "outputs": [
        {
          "name": "stdout",
          "output_type": "stream",
          "text": [
            "0         False\n",
            "1         False\n",
            "2         False\n",
            "3         False\n",
            "4         False\n",
            "          ...  \n",
            "2372      False\n",
            "2373      False\n",
            "2374      False\n",
            "2375      False\n",
            "labels    False\n",
            "Length: 2377, dtype: bool\n"
          ]
        },
        {
          "data": {
            "text/plain": [
              "(31584, 2377)"
            ]
          },
          "execution_count": 4,
          "metadata": {},
          "output_type": "execute_result"
        }
      ],
      "source": [
        "Features = Features.fillna(0)\n",
        "print(Features.isna().any())\n",
        "Features.shape"
      ]
    },
    {
      "cell_type": "code",
      "execution_count": 5,
      "metadata": {
        "id": "apu20zGsd5A3"
      },
      "outputs": [],
      "source": [
        "X = Features.iloc[: ,:-1].values\n",
        "Y = Features['labels'].values"
      ]
    },
    {
      "cell_type": "code",
      "execution_count": 6,
      "metadata": {
        "colab": {
          "base_uri": "https://localhost:8080/"
        },
        "id": "v7AfYHe2dyah",
        "outputId": "bf5a8594-093a-4b16-a601-8d234df8648a"
      },
      "outputs": [
        {
          "data": {
            "text/plain": [
              "[array(['female', 'male'], dtype=object)]"
            ]
          },
          "execution_count": 6,
          "metadata": {},
          "output_type": "execute_result"
        }
      ],
      "source": [
        "encoder = OneHotEncoder()\n",
        "Y = encoder.fit_transform(np.array(Y).reshape(-1,1)).toarray()\n",
        "encoder.categories_"
      ]
    },
    {
      "cell_type": "code",
      "execution_count": 7,
      "metadata": {
        "colab": {
          "base_uri": "https://localhost:8080/"
        },
        "id": "RjHJu8Bbd1_v",
        "outputId": "f5eb1e20-d962-4924-dab3-9070c1bacced"
      },
      "outputs": [
        {
          "data": {
            "text/plain": [
              "((26846, 2376), (26846, 2), (4738, 2376), (4738, 2))"
            ]
          },
          "execution_count": 7,
          "metadata": {},
          "output_type": "execute_result"
        }
      ],
      "source": [
        "x_train, x_test, y_train, y_test = train_test_split(X, Y,test_size=0.15, random_state=30, shuffle=True,stratify=Y)\n",
        "x_train.shape, y_train.shape, x_test.shape, y_test.shape"
      ]
    },
    {
      "cell_type": "code",
      "execution_count": 8,
      "metadata": {
        "id": "J1qK3Kqmd7-8"
      },
      "outputs": [],
      "source": [
        "scaler = StandardScaler()"
      ]
    },
    {
      "cell_type": "code",
      "execution_count": 9,
      "metadata": {
        "colab": {
          "base_uri": "https://localhost:8080/"
        },
        "id": "PrRqczOnd-us",
        "outputId": "de364d37-f8d5-44c4-991a-8e2e43e8a26d"
      },
      "outputs": [
        {
          "data": {
            "text/plain": [
              "((26846, 2376),\n",
              " (3553, 2376),\n",
              " (1185, 2376),\n",
              " (26846, 2376),\n",
              " (3553, 2376),\n",
              " (1185, 2376))"
            ]
          },
          "execution_count": 9,
          "metadata": {},
          "output_type": "execute_result"
        }
      ],
      "source": [
        "x_test, x_val, y_test, y_val = train_test_split(x_test, y_test, random_state=30, test_size=0.25, shuffle=True,stratify=y_test)\n",
        "x_train.shape, x_test.shape, x_val.shape, x_train.shape, x_test.shape, x_val.shape"
      ]
    },
    {
      "cell_type": "code",
      "execution_count": 10,
      "metadata": {
        "colab": {
          "base_uri": "https://localhost:8080/"
        },
        "id": "YDil1kWxeBYv",
        "outputId": "3e8c0d3c-5945-4250-aae9-9910664e0ff7"
      },
      "outputs": [
        {
          "data": {
            "text/plain": [
              "((26846, 2376), (26846, 2), (3553, 2376), (3553, 2))"
            ]
          },
          "execution_count": 10,
          "metadata": {},
          "output_type": "execute_result"
        }
      ],
      "source": [
        "x_train = scaler.fit_transform(x_train)\n",
        "x_val=scaler.transform(x_val)\n",
        "x_test = scaler.transform(x_test)\n",
        "\n",
        "x_train.shape, y_train.shape, x_test.shape, y_test.shape"
      ]
    },
    {
      "cell_type": "code",
      "execution_count": 11,
      "metadata": {
        "colab": {
          "base_uri": "https://localhost:8080/"
        },
        "id": "1hTWiHhWeDV1",
        "outputId": "68905fef-8eb6-4b96-a2d6-7d18db537e1b"
      },
      "outputs": [
        {
          "data": {
            "text/plain": [
              "((26846, 2376, 1), (26846, 2), (3553, 2376, 1), (3553, 2))"
            ]
          },
          "execution_count": 11,
          "metadata": {},
          "output_type": "execute_result"
        }
      ],
      "source": [
        "x_train = np.expand_dims(x_train, axis=2)\n",
        "x_test = np.expand_dims(x_test, axis=2)\n",
        "x_val = np.expand_dims(x_val, axis=2)\n",
        "x_train.shape, y_train.shape, x_test.shape, y_test.shape"
      ]
    },
    {
      "cell_type": "code",
      "execution_count": 12,
      "metadata": {
        "colab": {
          "base_uri": "https://localhost:8080/"
        },
        "id": "MRmrsfS0eGj0",
        "outputId": "11b87b26-d2c5-44bc-b38b-87dbeeef8912"
      },
      "outputs": [],
      "source": [
        "def CNN_maker(name, x_train, y_train):\n",
        "    input_layer = Input(shape=(x_train.shape[1], 1))\n",
        "\n",
        "    # 1\n",
        "    hl = Conv1D(512, kernel_size=3, strides=1, padding='same', activation='relu')(input_layer)\n",
        "    hl = BatchNormalization()(hl)\n",
        "    hl = AveragePooling1D(pool_size=3, strides=2, padding='same')(hl)\n",
        "    hl = Dropout(0.3)(hl)\n",
        "\n",
        "    #2\n",
        "\n",
        "    hl = Conv1D(256, kernel_size=3, strides=1, padding='same', activation='relu')(hl)\n",
        "    hl = BatchNormalization()(hl)\n",
        "    hl = AveragePooling1D(pool_size=3, strides=2, padding='same')(hl)\n",
        "    hl = Dropout(0.3)(hl)\n",
        "\n",
        "    #3\n",
        "\n",
        "    hl = Conv1D(128, kernel_size=3, strides=1, padding='same', activation='relu')(hl)\n",
        "    hl = BatchNormalization()(hl)\n",
        "    hl = AveragePooling1D(pool_size=3, strides=2, padding='same')(hl)\n",
        "    hl = Dropout(0.3)(hl)\n",
        "\n",
        "    # Flatten layer\n",
        "    hl = Flatten()(hl)\n",
        "\n",
        "    # Dense layers for the shared layer\n",
        "    hl = Dense(64, activation='relu')(hl)\n",
        "    hl = BatchNormalization()(hl)\n",
        "    hl = Dropout(0.3)(hl)\n",
        "\n",
        "    output = Dense(y_train.shape[1], activation='softmax', name=name)(hl)\n",
        "\n",
        "    return Model(inputs=input_layer, outputs=[output])"
      ]
    },
    {
      "cell_type": "code",
      "execution_count": 13,
      "metadata": {},
      "outputs": [
        {
          "name": "stdout",
          "output_type": "stream",
          "text": [
            "Metal device set to: Apple M1 Pro\n",
            "\n",
            "systemMemory: 16.00 GB\n",
            "maxCacheSize: 5.33 GB\n",
            "\n"
          ]
        },
        {
          "name": "stderr",
          "output_type": "stream",
          "text": [
            "2023-09-09 00:20:06.237876: I tensorflow/core/common_runtime/pluggable_device/pluggable_device_factory.cc:306] Could not identify NUMA node of platform GPU ID 0, defaulting to 0. Your kernel may not have been built with NUMA support.\n",
            "2023-09-09 00:20:06.237899: I tensorflow/core/common_runtime/pluggable_device/pluggable_device_factory.cc:272] Created TensorFlow device (/job:localhost/replica:0/task:0/device:GPU:0 with 0 MB memory) -> physical PluggableDevice (device: 0, name: METAL, pci bus id: <undefined>)\n"
          ]
        }
      ],
      "source": [
        "model = CNN_maker(\"gender\", x_train, y_train)"
      ]
    },
    {
      "cell_type": "code",
      "execution_count": 14,
      "metadata": {},
      "outputs": [
        {
          "name": "stdout",
          "output_type": "stream",
          "text": [
            "Model: \"model\"\n",
            "_________________________________________________________________\n",
            " Layer (type)                Output Shape              Param #   \n",
            "=================================================================\n",
            " input_1 (InputLayer)        [(None, 2376, 1)]         0         \n",
            "                                                                 \n",
            " conv1d (Conv1D)             (None, 2376, 512)         2048      \n",
            "                                                                 \n",
            " batch_normalization (BatchN  (None, 2376, 512)        2048      \n",
            " ormalization)                                                   \n",
            "                                                                 \n",
            " average_pooling1d (AverageP  (None, 1188, 512)        0         \n",
            " ooling1D)                                                       \n",
            "                                                                 \n",
            " dropout (Dropout)           (None, 1188, 512)         0         \n",
            "                                                                 \n",
            " conv1d_1 (Conv1D)           (None, 1188, 256)         393472    \n",
            "                                                                 \n",
            " batch_normalization_1 (Batc  (None, 1188, 256)        1024      \n",
            " hNormalization)                                                 \n",
            "                                                                 \n",
            " average_pooling1d_1 (Averag  (None, 594, 256)         0         \n",
            " ePooling1D)                                                     \n",
            "                                                                 \n",
            " dropout_1 (Dropout)         (None, 594, 256)          0         \n",
            "                                                                 \n",
            " conv1d_2 (Conv1D)           (None, 594, 128)          98432     \n",
            "                                                                 \n",
            " batch_normalization_2 (Batc  (None, 594, 128)         512       \n",
            " hNormalization)                                                 \n",
            "                                                                 \n",
            " average_pooling1d_2 (Averag  (None, 297, 128)         0         \n",
            " ePooling1D)                                                     \n",
            "                                                                 \n",
            " dropout_2 (Dropout)         (None, 297, 128)          0         \n",
            "                                                                 \n",
            " flatten (Flatten)           (None, 38016)             0         \n",
            "                                                                 \n",
            " dense (Dense)               (None, 64)                2433088   \n",
            "                                                                 \n",
            " batch_normalization_3 (Batc  (None, 64)               256       \n",
            " hNormalization)                                                 \n",
            "                                                                 \n",
            " dropout_3 (Dropout)         (None, 64)                0         \n",
            "                                                                 \n",
            " gender (Dense)              (None, 2)                 130       \n",
            "                                                                 \n",
            "=================================================================\n",
            "Total params: 2,931,010\n",
            "Trainable params: 2,929,090\n",
            "Non-trainable params: 1,920\n",
            "_________________________________________________________________\n"
          ]
        }
      ],
      "source": [
        "model.summary()"
      ]
    },
    {
      "cell_type": "code",
      "execution_count": 15,
      "metadata": {},
      "outputs": [],
      "source": [
        "optimizer = keras.optimizers.Nadam()"
      ]
    },
    {
      "cell_type": "code",
      "execution_count": 16,
      "metadata": {},
      "outputs": [],
      "source": [
        "model.compile(optimizer=optimizer,\n",
        "              loss={'gender': 'binary_crossentropy'},\n",
        "              metrics={'gender': 'accuracy'})"
      ]
    },
    {
      "cell_type": "code",
      "execution_count": 17,
      "metadata": {
        "id": "wCNqL_9UeJ-R"
      },
      "outputs": [],
      "source": [
        "learning_rate_reduction = ReduceLROnPlateau(monitor='val_accuracy',\n",
        "                                            patience=3,\n",
        "                                            verbose=1,\n",
        "                                            factor=0.5,\n",
        "                                            min_lr=0.00001)\n",
        "early_stop = EarlyStopping(monitor='val_accuracy', mode='auto', patience=3)\n",
        "callbacks=[learning_rate_reduction,early_stop]"
      ]
    },
    {
      "cell_type": "code",
      "execution_count": 18,
      "metadata": {
        "colab": {
          "base_uri": "https://localhost:8080/"
        },
        "id": "T5anQ6oueN9N",
        "outputId": "26a79545-1094-419d-851d-e063d00f4f05"
      },
      "outputs": [
        {
          "name": "stdout",
          "output_type": "stream",
          "text": [
            "Epoch 1/100\n"
          ]
        },
        {
          "name": "stderr",
          "output_type": "stream",
          "text": [
            "2023-09-09 00:20:06.660730: W tensorflow/tsl/platform/profile_utils/cpu_utils.cc:128] Failed to get CPU frequency: 0 Hz\n",
            "2023-09-09 00:20:07.436927: I tensorflow/core/grappler/optimizers/custom_graph_optimizer_registry.cc:114] Plugin optimizer for device_type GPU is enabled.\n"
          ]
        },
        {
          "name": "stdout",
          "output_type": "stream",
          "text": [
            "1678/1678 [==============================] - ETA: 0s - loss: 0.5882 - accuracy: 0.6906"
          ]
        },
        {
          "name": "stderr",
          "output_type": "stream",
          "text": [
            "2023-09-09 00:21:57.521330: I tensorflow/core/grappler/optimizers/custom_graph_optimizer_registry.cc:114] Plugin optimizer for device_type GPU is enabled.\n"
          ]
        },
        {
          "name": "stdout",
          "output_type": "stream",
          "text": [
            "1678/1678 [==============================] - 112s 65ms/step - loss: 0.5882 - accuracy: 0.6906 - val_loss: 0.7792 - val_accuracy: 0.6203 - lr: 0.0010\n",
            "Epoch 2/100\n",
            "1678/1678 [==============================] - 109s 65ms/step - loss: 0.3813 - accuracy: 0.8317 - val_loss: 0.3628 - val_accuracy: 0.8219 - lr: 0.0010\n",
            "Epoch 3/100\n",
            "1678/1678 [==============================] - 108s 64ms/step - loss: 0.2964 - accuracy: 0.8749 - val_loss: 0.2938 - val_accuracy: 0.8768 - lr: 0.0010\n",
            "Epoch 4/100\n",
            "1678/1678 [==============================] - 109s 65ms/step - loss: 0.2480 - accuracy: 0.8983 - val_loss: 0.1997 - val_accuracy: 0.9232 - lr: 0.0010\n",
            "Epoch 5/100\n",
            "1678/1678 [==============================] - 108s 65ms/step - loss: 0.2099 - accuracy: 0.9159 - val_loss: 0.1705 - val_accuracy: 0.9359 - lr: 0.0010\n",
            "Epoch 6/100\n",
            "1678/1678 [==============================] - 108s 65ms/step - loss: 0.1807 - accuracy: 0.9290 - val_loss: 0.1593 - val_accuracy: 0.9418 - lr: 0.0010\n",
            "Epoch 7/100\n",
            "1678/1678 [==============================] - 109s 65ms/step - loss: 0.1552 - accuracy: 0.9387 - val_loss: 0.1087 - val_accuracy: 0.9637 - lr: 0.0010\n",
            "Epoch 8/100\n",
            "1678/1678 [==============================] - 109s 65ms/step - loss: 0.1317 - accuracy: 0.9489 - val_loss: 0.1666 - val_accuracy: 0.9359 - lr: 0.0010\n",
            "Epoch 9/100\n",
            "1678/1678 [==============================] - 108s 64ms/step - loss: 0.1185 - accuracy: 0.9554 - val_loss: 0.2972 - val_accuracy: 0.8844 - lr: 0.0010\n",
            "Epoch 10/100\n",
            "1678/1678 [==============================] - 110s 66ms/step - loss: 0.1188 - accuracy: 0.9556 - val_loss: 0.0741 - val_accuracy: 0.9772 - lr: 0.0010\n",
            "Epoch 11/100\n",
            "1678/1678 [==============================] - 109s 65ms/step - loss: 0.0984 - accuracy: 0.9632 - val_loss: 0.0702 - val_accuracy: 0.9747 - lr: 0.0010\n",
            "Epoch 12/100\n",
            "1678/1678 [==============================] - 109s 65ms/step - loss: 0.0933 - accuracy: 0.9669 - val_loss: 0.0733 - val_accuracy: 0.9755 - lr: 0.0010\n",
            "Epoch 13/100\n",
            "1678/1678 [==============================] - ETA: 0s - loss: 0.0797 - accuracy: 0.9703\n",
            "Epoch 13: ReduceLROnPlateau reducing learning rate to 0.0005000000237487257.\n",
            "1678/1678 [==============================] - 109s 65ms/step - loss: 0.0797 - accuracy: 0.9703 - val_loss: 0.0892 - val_accuracy: 0.9595 - lr: 0.0010\n"
          ]
        }
      ],
      "source": [
        "history = model.fit(x_train, y_train, batch_size=16, epochs=100, validation_data=(x_val, y_val), callbacks=callbacks)"
      ]
    },
    {
      "cell_type": "code",
      "execution_count": 19,
      "metadata": {
        "colab": {
          "base_uri": "https://localhost:8080/"
        },
        "id": "QF3tbzkdePxW",
        "outputId": "d593aab7-2710-4fd4-a76d-5827e9dea947"
      },
      "outputs": [
        {
          "name": "stdout",
          "output_type": "stream",
          "text": [
            "112/112 [==============================] - 3s 27ms/step - loss: 0.1207 - accuracy: 0.9536\n",
            "Accuracy of our model on test data :  95.35603523254395 %\n"
          ]
        }
      ],
      "source": [
        "print(\"Accuracy of our model on test data : \" , model.evaluate(x_test,y_test)[1]*100 , \"%\")"
      ]
    },
    {
      "cell_type": "code",
      "execution_count": 20,
      "metadata": {
        "colab": {
          "base_uri": "https://localhost:8080/",
          "height": 337
        },
        "id": "A7DJGmuJeTyf",
        "outputId": "744a93f7-0784-40da-b70c-f79fe1a52e09"
      },
      "outputs": [],
      "source": [
        "# epochs = list(range(early_stop.stopped_epoch+1))\n",
        "# fig, ax = plt.subplots(1,2)\n",
        "# train_acc = history.history['accuracy']\n",
        "# train_loss = history.history['loss']\n",
        "# test_acc = history.history['val_accuracy']\n",
        "# test_loss = history.history['val_loss']\n",
        "\n",
        "# fig.set_size_inches(20,6)\n",
        "# ax[0].plot(epochs , train_loss , label = 'Training Loss')\n",
        "# ax[0].plot(epochs , test_loss , label = 'Testing Loss')\n",
        "# ax[0].set_title('Training & Testing Loss')\n",
        "# ax[0].legend()\n",
        "# ax[0].set_xlabel(\"Epochs\")\n",
        "\n",
        "# ax[1].plot(epochs , train_acc , label = 'Training Accuracy')\n",
        "# ax[1].plot(epochs , test_acc , label = 'Testing Accuracy')\n",
        "# ax[1].set_title('Training & Testing Accuracy')\n",
        "# ax[1].legend()\n",
        "# ax[1].set_xlabel(\"Epochs\")\n",
        "# plt.show()"
      ]
    },
    {
      "cell_type": "code",
      "execution_count": 21,
      "metadata": {
        "colab": {
          "base_uri": "https://localhost:8080/"
        },
        "id": "N5CQA9JneWHK",
        "outputId": "e78376c8-bc35-40bf-9114-992dd5c4682a"
      },
      "outputs": [
        {
          "name": "stdout",
          "output_type": "stream",
          "text": [
            "  1/112 [..............................] - ETA: 33s"
          ]
        },
        {
          "name": "stderr",
          "output_type": "stream",
          "text": [
            "2023-09-09 00:43:48.707226: I tensorflow/core/grappler/optimizers/custom_graph_optimizer_registry.cc:114] Plugin optimizer for device_type GPU is enabled.\n"
          ]
        },
        {
          "name": "stdout",
          "output_type": "stream",
          "text": [
            "112/112 [==============================] - 3s 26ms/step\n"
          ]
        }
      ],
      "source": [
        "pred_test = model.predict(x_test)\n",
        "\n",
        "y_pred = encoder.inverse_transform(pred_test)\n",
        "\n",
        "y_test = encoder.inverse_transform(y_test)"
      ]
    },
    {
      "cell_type": "code",
      "execution_count": 22,
      "metadata": {
        "colab": {
          "base_uri": "https://localhost:8080/"
        },
        "id": "m6ubNfE5eYIk",
        "outputId": "21bd4de2-de4c-443f-ab56-737ae9f63a67"
      },
      "outputs": [
        {
          "name": "stdout",
          "output_type": "stream",
          "text": [
            "112/112 [==============================] - 3s 25ms/step\n"
          ]
        }
      ],
      "source": [
        "pred_test=model.predict(x_test)"
      ]
    },
    {
      "cell_type": "code",
      "execution_count": 23,
      "metadata": {
        "id": "WCGVzToHeZg9"
      },
      "outputs": [],
      "source": [
        "df_temp = pd.DataFrame(columns=['Predicted Labels', 'Actual Labels'])\n",
        "df_temp['Predicted Labels'] = y_pred.flatten()\n",
        "df_temp['Actual Labels'] = y_test.flatten()"
      ]
    },
    {
      "cell_type": "code",
      "execution_count": 24,
      "metadata": {
        "colab": {
          "base_uri": "https://localhost:8080/",
          "height": 881
        },
        "id": "UMqV4nSMebKZ",
        "outputId": "21c7e733-15b2-4cf9-fb4f-ec5a45b96e76"
      },
      "outputs": [
        {
          "data": {
            "image/png": "[encoded data removed]",
            "text/plain": [
              "<Figure size 1200x1000 with 2 Axes>"
            ]
          },
          "metadata": {},
          "output_type": "display_data"
        }
      ],
      "source": [
        "cm = confusion_matrix(y_test, y_pred)\n",
        "plt.figure(figsize = (12, 10))\n",
        "cm = pd.DataFrame(cm, index=list(encoder.categories_), columns=list(encoder.categories_))\n",
        "sns.heatmap(cm, linecolor='white', cmap='Blues', linewidth=1, annot=True, fmt='')\n",
        "plt.title('Confusion Matrix', size=20)\n",
        "plt.xlabel('Predicted Labels', size=14)\n",
        "plt.ylabel('Actual Labels', size=14)\n",
        "plt.show()"
      ]
    },
    {
      "cell_type": "code",
      "execution_count": 25,
      "metadata": {
        "colab": {
          "base_uri": "https://localhost:8080/"
        },
        "id": "cSVhtYgdecu2",
        "outputId": "53f6bd04-5fcb-4d27-98a5-8ae4d444e083"
      },
      "outputs": [
        {
          "name": "stdout",
          "output_type": "stream",
          "text": [
            "              precision    recall  f1-score   support\n",
            "\n",
            "        male       0.91      1.00      0.95      1696\n",
            "      female       1.00      0.91      0.95      1857\n",
            "\n",
            "    accuracy                           0.95      3553\n",
            "   macro avg       0.96      0.96      0.95      3553\n",
            "weighted avg       0.96      0.95      0.95      3553\n",
            "\n"
          ]
        }
      ],
      "source": [
        "print(classification_report(y_test, y_pred, target_names=['male','female']))"
      ]
    },
    {
      "cell_type": "markdown",
      "metadata": {
        "id": "s19FN11HhVxT"
      },
      "source": [
        "## From voice features and predicted gender, predict age"
      ]
    },
    {
      "cell_type": "code",
      "execution_count": 27,
      "metadata": {
        "id": "HCRlLC01eiz-"
      },
      "outputs": [],
      "source": [
        "Features = pd.read_csv('../../data/features_age_final.csv')"
      ]
    },
    {
      "cell_type": "code",
      "execution_count": 28,
      "metadata": {
        "colab": {
          "base_uri": "https://localhost:8080/"
        },
        "id": "HNpqxGtwhuF4",
        "outputId": "824d9e65-b23c-4677-b233-7e47066d7502"
      },
      "outputs": [
        {
          "name": "stdout",
          "output_type": "stream",
          "text": [
            "0         False\n",
            "1         False\n",
            "2         False\n",
            "3         False\n",
            "4         False\n",
            "          ...  \n",
            "2372      False\n",
            "2373      False\n",
            "2374      False\n",
            "2375      False\n",
            "labels    False\n",
            "Length: 2377, dtype: bool\n"
          ]
        },
        {
          "data": {
            "text/plain": [
              "(20228, 2377)"
            ]
          },
          "execution_count": 28,
          "metadata": {},
          "output_type": "execute_result"
        }
      ],
      "source": [
        "Features = Features.fillna(0)\n",
        "print(Features.isna().any())\n",
        "Features.shape"
      ]
    },
    {
      "cell_type": "code",
      "execution_count": 29,
      "metadata": {
        "id": "pF5CqXnniCNa"
      },
      "outputs": [],
      "source": [
        "X = Features.iloc[: ,:-1].values\n",
        "Y = Features['labels'].values"
      ]
    },
    {
      "cell_type": "code",
      "execution_count": 30,
      "metadata": {
        "id": "Tmtpg7A2iEbw"
      },
      "outputs": [],
      "source": [
        "scaler = StandardScaler()\n",
        "X1 = scaler.fit_transform(X)\n",
        "X1 = np.expand_dims(X1, axis=2)"
      ]
    },
    {
      "cell_type": "code",
      "execution_count": 31,
      "metadata": {
        "colab": {
          "base_uri": "https://localhost:8080/"
        },
        "id": "_rMn6oZdiHad",
        "outputId": "613642fb-45b7-4e3c-f285-fbd69873e21a"
      },
      "outputs": [
        {
          "name": "stdout",
          "output_type": "stream",
          "text": [
            "633/633 [==============================] - 16s 25ms/step\n"
          ]
        }
      ],
      "source": [
        "Z=model.predict(X1)"
      ]
    },
    {
      "cell_type": "code",
      "execution_count": 32,
      "metadata": {
        "id": "UsQ7k0OaiJ1h"
      },
      "outputs": [],
      "source": [
        "Z = encoder.inverse_transform(Z)"
      ]
    },
    {
      "cell_type": "code",
      "execution_count": 33,
      "metadata": {
        "id": "LAtl2nXCiMXU"
      },
      "outputs": [],
      "source": [
        "Z = Z.flatten()"
      ]
    },
    {
      "cell_type": "code",
      "execution_count": 34,
      "metadata": {
        "id": "JdqF5-ahiOGe"
      },
      "outputs": [],
      "source": [
        "Features = pd.DataFrame(X)\n",
        "Features['predicted emotion'] = Z\n",
        "Features['labels'] = Y"
      ]
    },
    {
      "cell_type": "code",
      "execution_count": 35,
      "metadata": {
        "colab": {
          "base_uri": "https://localhost:8080/",
          "height": 505
        },
        "id": "0nDDGHLziP2C",
        "outputId": "8306a120-48a0-4369-a437-26a8a1e93345"
      },
      "outputs": [
        {
          "data": {
            "text/html": [
              "<div>\n",
              "<style scoped>\n",
              "    .dataframe tbody tr th:only-of-type {\n",
              "        vertical-align: middle;\n",
              "    }\n",
              "\n",
              "    .dataframe tbody tr th {\n",
              "        vertical-align: top;\n",
              "    }\n",
              "\n",
              "    .dataframe thead th {\n",
              "        text-align: right;\n",
              "    }\n",
              "</style>\n",
              "<table border=\"1\" class=\"dataframe\">\n",
              "  <thead>\n",
              "    <tr style=\"text-align: right;\">\n",
              "      <th></th>\n",
              "      <th>0</th>\n",
              "      <th>1</th>\n",
              "      <th>2</th>\n",
              "      <th>3</th>\n",
              "      <th>4</th>\n",
              "      <th>5</th>\n",
              "      <th>6</th>\n",
              "      <th>7</th>\n",
              "      <th>8</th>\n",
              "      <th>9</th>\n",
              "      <th>...</th>\n",
              "      <th>2368</th>\n",
              "      <th>2369</th>\n",
              "      <th>2370</th>\n",
              "      <th>2371</th>\n",
              "      <th>2372</th>\n",
              "      <th>2373</th>\n",
              "      <th>2374</th>\n",
              "      <th>2375</th>\n",
              "      <th>predicted emotion</th>\n",
              "      <th>labels</th>\n",
              "    </tr>\n",
              "  </thead>\n",
              "  <tbody>\n",
              "    <tr>\n",
              "      <th>0</th>\n",
              "      <td>0.032715</td>\n",
              "      <td>0.059570</td>\n",
              "      <td>0.076660</td>\n",
              "      <td>0.065918</td>\n",
              "      <td>0.053223</td>\n",
              "      <td>0.031738</td>\n",
              "      <td>0.019531</td>\n",
              "      <td>0.020508</td>\n",
              "      <td>0.020508</td>\n",
              "      <td>0.023926</td>\n",
              "      <td>...</td>\n",
              "      <td>0.0</td>\n",
              "      <td>0.0</td>\n",
              "      <td>0.0</td>\n",
              "      <td>0.0</td>\n",
              "      <td>0.0</td>\n",
              "      <td>0.0</td>\n",
              "      <td>0.0</td>\n",
              "      <td>0.0</td>\n",
              "      <td>male</td>\n",
              "      <td>thirties</td>\n",
              "    </tr>\n",
              "    <tr>\n",
              "      <th>1</th>\n",
              "      <td>0.035645</td>\n",
              "      <td>0.064453</td>\n",
              "      <td>0.087402</td>\n",
              "      <td>0.078125</td>\n",
              "      <td>0.065918</td>\n",
              "      <td>0.047363</td>\n",
              "      <td>0.035156</td>\n",
              "      <td>0.041016</td>\n",
              "      <td>0.042969</td>\n",
              "      <td>0.041504</td>\n",
              "      <td>...</td>\n",
              "      <td>0.0</td>\n",
              "      <td>0.0</td>\n",
              "      <td>0.0</td>\n",
              "      <td>0.0</td>\n",
              "      <td>0.0</td>\n",
              "      <td>0.0</td>\n",
              "      <td>0.0</td>\n",
              "      <td>0.0</td>\n",
              "      <td>male</td>\n",
              "      <td>thirties</td>\n",
              "    </tr>\n",
              "    <tr>\n",
              "      <th>2</th>\n",
              "      <td>0.036621</td>\n",
              "      <td>0.057617</td>\n",
              "      <td>0.082031</td>\n",
              "      <td>0.076660</td>\n",
              "      <td>0.060547</td>\n",
              "      <td>0.044922</td>\n",
              "      <td>0.025879</td>\n",
              "      <td>0.020996</td>\n",
              "      <td>0.024414</td>\n",
              "      <td>0.028320</td>\n",
              "      <td>...</td>\n",
              "      <td>0.0</td>\n",
              "      <td>0.0</td>\n",
              "      <td>0.0</td>\n",
              "      <td>0.0</td>\n",
              "      <td>0.0</td>\n",
              "      <td>0.0</td>\n",
              "      <td>0.0</td>\n",
              "      <td>0.0</td>\n",
              "      <td>female</td>\n",
              "      <td>thirties</td>\n",
              "    </tr>\n",
              "    <tr>\n",
              "      <th>3</th>\n",
              "      <td>0.037598</td>\n",
              "      <td>0.057617</td>\n",
              "      <td>0.083008</td>\n",
              "      <td>0.077637</td>\n",
              "      <td>0.060547</td>\n",
              "      <td>0.045898</td>\n",
              "      <td>0.026855</td>\n",
              "      <td>0.021973</td>\n",
              "      <td>0.025391</td>\n",
              "      <td>0.028320</td>\n",
              "      <td>...</td>\n",
              "      <td>0.0</td>\n",
              "      <td>0.0</td>\n",
              "      <td>0.0</td>\n",
              "      <td>0.0</td>\n",
              "      <td>0.0</td>\n",
              "      <td>0.0</td>\n",
              "      <td>0.0</td>\n",
              "      <td>0.0</td>\n",
              "      <td>female</td>\n",
              "      <td>thirties</td>\n",
              "    </tr>\n",
              "    <tr>\n",
              "      <th>4</th>\n",
              "      <td>0.014648</td>\n",
              "      <td>0.026367</td>\n",
              "      <td>0.039062</td>\n",
              "      <td>0.043457</td>\n",
              "      <td>0.043945</td>\n",
              "      <td>0.039551</td>\n",
              "      <td>0.067383</td>\n",
              "      <td>0.098633</td>\n",
              "      <td>0.099121</td>\n",
              "      <td>0.107910</td>\n",
              "      <td>...</td>\n",
              "      <td>0.0</td>\n",
              "      <td>0.0</td>\n",
              "      <td>0.0</td>\n",
              "      <td>0.0</td>\n",
              "      <td>0.0</td>\n",
              "      <td>0.0</td>\n",
              "      <td>0.0</td>\n",
              "      <td>0.0</td>\n",
              "      <td>male</td>\n",
              "      <td>thirties</td>\n",
              "    </tr>\n",
              "    <tr>\n",
              "      <th>...</th>\n",
              "      <td>...</td>\n",
              "      <td>...</td>\n",
              "      <td>...</td>\n",
              "      <td>...</td>\n",
              "      <td>...</td>\n",
              "      <td>...</td>\n",
              "      <td>...</td>\n",
              "      <td>...</td>\n",
              "      <td>...</td>\n",
              "      <td>...</td>\n",
              "      <td>...</td>\n",
              "      <td>...</td>\n",
              "      <td>...</td>\n",
              "      <td>...</td>\n",
              "      <td>...</td>\n",
              "      <td>...</td>\n",
              "      <td>...</td>\n",
              "      <td>...</td>\n",
              "      <td>...</td>\n",
              "      <td>...</td>\n",
              "      <td>...</td>\n",
              "    </tr>\n",
              "    <tr>\n",
              "      <th>20223</th>\n",
              "      <td>0.020020</td>\n",
              "      <td>0.040527</td>\n",
              "      <td>0.060059</td>\n",
              "      <td>0.062500</td>\n",
              "      <td>0.058105</td>\n",
              "      <td>0.046875</td>\n",
              "      <td>0.037598</td>\n",
              "      <td>0.042480</td>\n",
              "      <td>0.044922</td>\n",
              "      <td>0.047363</td>\n",
              "      <td>...</td>\n",
              "      <td>0.0</td>\n",
              "      <td>0.0</td>\n",
              "      <td>0.0</td>\n",
              "      <td>0.0</td>\n",
              "      <td>0.0</td>\n",
              "      <td>0.0</td>\n",
              "      <td>0.0</td>\n",
              "      <td>0.0</td>\n",
              "      <td>female</td>\n",
              "      <td>twenties</td>\n",
              "    </tr>\n",
              "    <tr>\n",
              "      <th>20224</th>\n",
              "      <td>0.010742</td>\n",
              "      <td>0.017578</td>\n",
              "      <td>0.023926</td>\n",
              "      <td>0.027344</td>\n",
              "      <td>0.033691</td>\n",
              "      <td>0.050293</td>\n",
              "      <td>0.069824</td>\n",
              "      <td>0.083984</td>\n",
              "      <td>0.093750</td>\n",
              "      <td>0.086914</td>\n",
              "      <td>...</td>\n",
              "      <td>0.0</td>\n",
              "      <td>0.0</td>\n",
              "      <td>0.0</td>\n",
              "      <td>0.0</td>\n",
              "      <td>0.0</td>\n",
              "      <td>0.0</td>\n",
              "      <td>0.0</td>\n",
              "      <td>0.0</td>\n",
              "      <td>female</td>\n",
              "      <td>twenties</td>\n",
              "    </tr>\n",
              "    <tr>\n",
              "      <th>20225</th>\n",
              "      <td>0.040039</td>\n",
              "      <td>0.070801</td>\n",
              "      <td>0.101074</td>\n",
              "      <td>0.104004</td>\n",
              "      <td>0.115723</td>\n",
              "      <td>0.110840</td>\n",
              "      <td>0.106934</td>\n",
              "      <td>0.105469</td>\n",
              "      <td>0.096680</td>\n",
              "      <td>0.087891</td>\n",
              "      <td>...</td>\n",
              "      <td>0.0</td>\n",
              "      <td>0.0</td>\n",
              "      <td>0.0</td>\n",
              "      <td>0.0</td>\n",
              "      <td>0.0</td>\n",
              "      <td>0.0</td>\n",
              "      <td>0.0</td>\n",
              "      <td>0.0</td>\n",
              "      <td>female</td>\n",
              "      <td>twenties</td>\n",
              "    </tr>\n",
              "    <tr>\n",
              "      <th>20226</th>\n",
              "      <td>0.011719</td>\n",
              "      <td>0.019043</td>\n",
              "      <td>0.024414</td>\n",
              "      <td>0.031250</td>\n",
              "      <td>0.048340</td>\n",
              "      <td>0.070312</td>\n",
              "      <td>0.087891</td>\n",
              "      <td>0.099609</td>\n",
              "      <td>0.093262</td>\n",
              "      <td>0.080078</td>\n",
              "      <td>...</td>\n",
              "      <td>0.0</td>\n",
              "      <td>0.0</td>\n",
              "      <td>0.0</td>\n",
              "      <td>0.0</td>\n",
              "      <td>0.0</td>\n",
              "      <td>0.0</td>\n",
              "      <td>0.0</td>\n",
              "      <td>0.0</td>\n",
              "      <td>female</td>\n",
              "      <td>twenties</td>\n",
              "    </tr>\n",
              "    <tr>\n",
              "      <th>20227</th>\n",
              "      <td>0.027344</td>\n",
              "      <td>0.040527</td>\n",
              "      <td>0.053711</td>\n",
              "      <td>0.064453</td>\n",
              "      <td>0.078613</td>\n",
              "      <td>0.094727</td>\n",
              "      <td>0.104492</td>\n",
              "      <td>0.103516</td>\n",
              "      <td>0.094238</td>\n",
              "      <td>0.081055</td>\n",
              "      <td>...</td>\n",
              "      <td>0.0</td>\n",
              "      <td>0.0</td>\n",
              "      <td>0.0</td>\n",
              "      <td>0.0</td>\n",
              "      <td>0.0</td>\n",
              "      <td>0.0</td>\n",
              "      <td>0.0</td>\n",
              "      <td>0.0</td>\n",
              "      <td>female</td>\n",
              "      <td>twenties</td>\n",
              "    </tr>\n",
              "  </tbody>\n",
              "</table>\n",
              "<p>20228 rows × 2378 columns</p>\n",
              "</div>"
            ],
            "text/plain": [
              "              0         1         2         3         4         5         6  \\\n",
              "0      0.032715  0.059570  0.076660  0.065918  0.053223  0.031738  0.019531   \n",
              "1      0.035645  0.064453  0.087402  0.078125  0.065918  0.047363  0.035156   \n",
              "2      0.036621  0.057617  0.082031  0.076660  0.060547  0.044922  0.025879   \n",
              "3      0.037598  0.057617  0.083008  0.077637  0.060547  0.045898  0.026855   \n",
              "4      0.014648  0.026367  0.039062  0.043457  0.043945  0.039551  0.067383   \n",
              "...         ...       ...       ...       ...       ...       ...       ...   \n",
              "20223  0.020020  0.040527  0.060059  0.062500  0.058105  0.046875  0.037598   \n",
              "20224  0.010742  0.017578  0.023926  0.027344  0.033691  0.050293  0.069824   \n",
              "20225  0.040039  0.070801  0.101074  0.104004  0.115723  0.110840  0.106934   \n",
              "20226  0.011719  0.019043  0.024414  0.031250  0.048340  0.070312  0.087891   \n",
              "20227  0.027344  0.040527  0.053711  0.064453  0.078613  0.094727  0.104492   \n",
              "\n",
              "              7         8         9  ...  2368  2369  2370  2371  2372  2373  \\\n",
              "0      0.020508  0.020508  0.023926  ...   0.0   0.0   0.0   0.0   0.0   0.0   \n",
              "1      0.041016  0.042969  0.041504  ...   0.0   0.0   0.0   0.0   0.0   0.0   \n",
              "2      0.020996  0.024414  0.028320  ...   0.0   0.0   0.0   0.0   0.0   0.0   \n",
              "3      0.021973  0.025391  0.028320  ...   0.0   0.0   0.0   0.0   0.0   0.0   \n",
              "4      0.098633  0.099121  0.107910  ...   0.0   0.0   0.0   0.0   0.0   0.0   \n",
              "...         ...       ...       ...  ...   ...   ...   ...   ...   ...   ...   \n",
              "20223  0.042480  0.044922  0.047363  ...   0.0   0.0   0.0   0.0   0.0   0.0   \n",
              "20224  0.083984  0.093750  0.086914  ...   0.0   0.0   0.0   0.0   0.0   0.0   \n",
              "20225  0.105469  0.096680  0.087891  ...   0.0   0.0   0.0   0.0   0.0   0.0   \n",
              "20226  0.099609  0.093262  0.080078  ...   0.0   0.0   0.0   0.0   0.0   0.0   \n",
              "20227  0.103516  0.094238  0.081055  ...   0.0   0.0   0.0   0.0   0.0   0.0   \n",
              "\n",
              "       2374  2375  predicted emotion    labels  \n",
              "0       0.0   0.0               male  thirties  \n",
              "1       0.0   0.0               male  thirties  \n",
              "2       0.0   0.0             female  thirties  \n",
              "3       0.0   0.0             female  thirties  \n",
              "4       0.0   0.0               male  thirties  \n",
              "...     ...   ...                ...       ...  \n",
              "20223   0.0   0.0             female  twenties  \n",
              "20224   0.0   0.0             female  twenties  \n",
              "20225   0.0   0.0             female  twenties  \n",
              "20226   0.0   0.0             female  twenties  \n",
              "20227   0.0   0.0             female  twenties  \n",
              "\n",
              "[20228 rows x 2378 columns]"
            ]
          },
          "execution_count": 35,
          "metadata": {},
          "output_type": "execute_result"
        }
      ],
      "source": [
        "Features"
      ]
    },
    {
      "cell_type": "code",
      "execution_count": 36,
      "metadata": {
        "id": "9PSd8vl2liT7"
      },
      "outputs": [],
      "source": [
        "Features['predicted emotion'] = Features['predicted emotion'].astype('category').cat.codes"
      ]
    },
    {
      "cell_type": "code",
      "execution_count": 37,
      "metadata": {
        "id": "Wk_wU4fxlpGO"
      },
      "outputs": [],
      "source": [
        "X = Features.iloc[: ,:-1].values\n",
        "Y = Features['labels'].values"
      ]
    },
    {
      "cell_type": "code",
      "execution_count": 38,
      "metadata": {
        "colab": {
          "base_uri": "https://localhost:8080/"
        },
        "id": "WHexhfe5lr3C",
        "outputId": "54c4ec61-6403-476b-b0c4-8180202eaadc"
      },
      "outputs": [
        {
          "data": {
            "text/plain": [
              "[array(['fifties', 'forties', 'seventies', 'sixties', 'thirties',\n",
              "        'twenties'], dtype=object)]"
            ]
          },
          "execution_count": 38,
          "metadata": {},
          "output_type": "execute_result"
        }
      ],
      "source": [
        "encoder = OneHotEncoder()\n",
        "Y = encoder.fit_transform(np.array(Y).reshape(-1,1)).toarray()\n",
        "encoder.categories_"
      ]
    },
    {
      "cell_type": "code",
      "execution_count": 39,
      "metadata": {
        "colab": {
          "base_uri": "https://localhost:8080/"
        },
        "id": "_dwbj7miltPr",
        "outputId": "b5b1f3c0-6a89-40a4-a560-8761b863f517"
      },
      "outputs": [
        {
          "data": {
            "text/plain": [
              "((17193, 2377), (17193, 6), (3035, 2377), (3035, 6))"
            ]
          },
          "execution_count": 39,
          "metadata": {},
          "output_type": "execute_result"
        }
      ],
      "source": [
        "x_train, x_test, y_train, y_test = train_test_split(X, Y,test_size=0.15, random_state=30, shuffle=True,stratify=Y)\n",
        "x_train.shape, y_train.shape, x_test.shape, y_test.shape"
      ]
    },
    {
      "cell_type": "code",
      "execution_count": 40,
      "metadata": {
        "id": "RXiqCtC_lvj_"
      },
      "outputs": [],
      "source": [
        "scaler = StandardScaler()"
      ]
    },
    {
      "cell_type": "code",
      "execution_count": 41,
      "metadata": {
        "colab": {
          "base_uri": "https://localhost:8080/"
        },
        "id": "gzqneaLflxbx",
        "outputId": "2b5a6aeb-c189-47d7-b9f6-b644535b125a"
      },
      "outputs": [
        {
          "data": {
            "text/plain": [
              "((17193, 2377),\n",
              " (2276, 2377),\n",
              " (759, 2377),\n",
              " (17193, 2377),\n",
              " (2276, 2377),\n",
              " (759, 2377))"
            ]
          },
          "execution_count": 41,
          "metadata": {},
          "output_type": "execute_result"
        }
      ],
      "source": [
        "x_test, x_val, y_test, y_val = train_test_split(x_test, y_test, random_state=30, test_size=0.25, shuffle=True,stratify=y_test)\n",
        "x_train.shape, x_test.shape, x_val.shape, x_train.shape, x_test.shape, x_val.shape"
      ]
    },
    {
      "cell_type": "code",
      "execution_count": 42,
      "metadata": {
        "colab": {
          "base_uri": "https://localhost:8080/"
        },
        "id": "5K_SQ2_Zly95",
        "outputId": "b00c8f10-fcb5-491f-e7a1-aebadcd3cc76"
      },
      "outputs": [
        {
          "data": {
            "text/plain": [
              "((17193, 2377), (17193, 6), (2276, 2377), (2276, 6))"
            ]
          },
          "execution_count": 42,
          "metadata": {},
          "output_type": "execute_result"
        }
      ],
      "source": [
        "x_train = scaler.fit_transform(x_train)\n",
        "x_val=scaler.transform(x_val)\n",
        "x_test = scaler.transform(x_test)\n",
        "\n",
        "x_train.shape, y_train.shape, x_test.shape, y_test.shape"
      ]
    },
    {
      "cell_type": "code",
      "execution_count": 43,
      "metadata": {
        "colab": {
          "base_uri": "https://localhost:8080/"
        },
        "id": "hfHgJBQWl2ck",
        "outputId": "917c60a2-0d53-483f-9023-b28315785570"
      },
      "outputs": [],
      "source": [
        "model2 = CNN_maker(\"age\", x_train, y_train)"
      ]
    },
    {
      "cell_type": "code",
      "execution_count": 44,
      "metadata": {},
      "outputs": [
        {
          "name": "stdout",
          "output_type": "stream",
          "text": [
            "Model: \"model_1\"\n",
            "_________________________________________________________________\n",
            " Layer (type)                Output Shape              Param #   \n",
            "=================================================================\n",
            " input_2 (InputLayer)        [(None, 2377, 1)]         0         \n",
            "                                                                 \n",
            " conv1d_3 (Conv1D)           (None, 2377, 512)         2048      \n",
            "                                                                 \n",
            " batch_normalization_4 (Batc  (None, 2377, 512)        2048      \n",
            " hNormalization)                                                 \n",
            "                                                                 \n",
            " average_pooling1d_3 (Averag  (None, 1189, 512)        0         \n",
            " ePooling1D)                                                     \n",
            "                                                                 \n",
            " dropout_4 (Dropout)         (None, 1189, 512)         0         \n",
            "                                                                 \n",
            " conv1d_4 (Conv1D)           (None, 1189, 256)         393472    \n",
            "                                                                 \n",
            " batch_normalization_5 (Batc  (None, 1189, 256)        1024      \n",
            " hNormalization)                                                 \n",
            "                                                                 \n",
            " average_pooling1d_4 (Averag  (None, 595, 256)         0         \n",
            " ePooling1D)                                                     \n",
            "                                                                 \n",
            " dropout_5 (Dropout)         (None, 595, 256)          0         \n",
            "                                                                 \n",
            " conv1d_5 (Conv1D)           (None, 595, 128)          98432     \n",
            "                                                                 \n",
            " batch_normalization_6 (Batc  (None, 595, 128)         512       \n",
            " hNormalization)                                                 \n",
            "                                                                 \n",
            " average_pooling1d_5 (Averag  (None, 298, 128)         0         \n",
            " ePooling1D)                                                     \n",
            "                                                                 \n",
            " dropout_6 (Dropout)         (None, 298, 128)          0         \n",
            "                                                                 \n",
            " flatten_1 (Flatten)         (None, 38144)             0         \n",
            "                                                                 \n",
            " dense_1 (Dense)             (None, 64)                2441280   \n",
            "                                                                 \n",
            " batch_normalization_7 (Batc  (None, 64)               256       \n",
            " hNormalization)                                                 \n",
            "                                                                 \n",
            " dropout_7 (Dropout)         (None, 64)                0         \n",
            "                                                                 \n",
            " age (Dense)                 (None, 6)                 390       \n",
            "                                                                 \n",
            "=================================================================\n",
            "Total params: 2,939,462\n",
            "Trainable params: 2,937,542\n",
            "Non-trainable params: 1,920\n",
            "_________________________________________________________________\n"
          ]
        }
      ],
      "source": [
        "model2.summary()"
      ]
    },
    {
      "cell_type": "code",
      "execution_count": 45,
      "metadata": {},
      "outputs": [],
      "source": [
        "model2.compile(optimizer=optimizer,\n",
        "              loss={'age': 'categorical_crossentropy'},\n",
        "              metrics={'age': 'accuracy'})"
      ]
    },
    {
      "cell_type": "code",
      "execution_count": 46,
      "metadata": {
        "id": "CbXgooDdl_cm"
      },
      "outputs": [],
      "source": [
        "learning_rate_reduction = ReduceLROnPlateau(monitor='val_accuracy',\n",
        "                                            patience=3,\n",
        "                                            verbose=1,\n",
        "                                            factor=0.5,\n",
        "                                            min_lr=0.00001)\n",
        "early_stop = EarlyStopping(monitor='val_accuracy', mode='auto', patience=5, start_from_epoch=20)\n",
        "callbacks=[learning_rate_reduction,early_stop]\n",
        "\n"
      ]
    },
    {
      "cell_type": "code",
      "execution_count": 47,
      "metadata": {
        "colab": {
          "base_uri": "https://localhost:8080/"
        },
        "id": "nYKmneDQmCca",
        "outputId": "30b5c87b-2cb0-4a75-f529-e2bd9b1399ff"
      },
      "outputs": [
        {
          "name": "stdout",
          "output_type": "stream",
          "text": [
            "Epoch 1/100\n"
          ]
        },
        {
          "name": "stderr",
          "output_type": "stream",
          "text": [
            "2023-09-09 00:50:41.501672: I tensorflow/core/grappler/optimizers/custom_graph_optimizer_registry.cc:114] Plugin optimizer for device_type GPU is enabled.\n"
          ]
        },
        {
          "name": "stdout",
          "output_type": "stream",
          "text": [
            "538/538 [==============================] - ETA: 0s - loss: 1.5839 - accuracy: 0.3396"
          ]
        },
        {
          "name": "stderr",
          "output_type": "stream",
          "text": [
            "2023-09-09 00:51:46.042314: I tensorflow/core/grappler/optimizers/custom_graph_optimizer_registry.cc:114] Plugin optimizer for device_type GPU is enabled.\n"
          ]
        },
        {
          "name": "stdout",
          "output_type": "stream",
          "text": [
            "538/538 [==============================] - 67s 117ms/step - loss: 1.5839 - accuracy: 0.3396 - val_loss: 1.8175 - val_accuracy: 0.3175 - lr: 5.0000e-04\n",
            "Epoch 2/100\n",
            "538/538 [==============================] - 61s 114ms/step - loss: 1.4113 - accuracy: 0.3901 - val_loss: 1.4152 - val_accuracy: 0.3742 - lr: 5.0000e-04\n",
            "Epoch 3/100\n",
            "538/538 [==============================] - 60s 112ms/step - loss: 1.3382 - accuracy: 0.4260 - val_loss: 1.3384 - val_accuracy: 0.4427 - lr: 5.0000e-04\n",
            "Epoch 4/100\n",
            "538/538 [==============================] - 61s 114ms/step - loss: 1.2707 - accuracy: 0.4620 - val_loss: 1.2984 - val_accuracy: 0.4611 - lr: 5.0000e-04\n",
            "Epoch 5/100\n",
            "538/538 [==============================] - 63s 118ms/step - loss: 1.1908 - accuracy: 0.5049 - val_loss: 1.1861 - val_accuracy: 0.5046 - lr: 5.0000e-04\n",
            "Epoch 6/100\n",
            "538/538 [==============================] - 66s 122ms/step - loss: 1.0926 - accuracy: 0.5571 - val_loss: 1.1231 - val_accuracy: 0.5402 - lr: 5.0000e-04\n",
            "Epoch 7/100\n",
            "538/538 [==============================] - 61s 114ms/step - loss: 0.9691 - accuracy: 0.6126 - val_loss: 1.1194 - val_accuracy: 0.5665 - lr: 5.0000e-04\n",
            "Epoch 8/100\n",
            "538/538 [==============================] - 60s 112ms/step - loss: 0.8294 - accuracy: 0.6786 - val_loss: 0.8514 - val_accuracy: 0.6785 - lr: 5.0000e-04\n",
            "Epoch 9/100\n",
            "538/538 [==============================] - 61s 114ms/step - loss: 0.6931 - accuracy: 0.7367 - val_loss: 0.7681 - val_accuracy: 0.7022 - lr: 5.0000e-04\n",
            "Epoch 10/100\n",
            "538/538 [==============================] - 61s 113ms/step - loss: 0.5829 - accuracy: 0.7839 - val_loss: 0.6063 - val_accuracy: 0.7747 - lr: 5.0000e-04\n",
            "Epoch 11/100\n",
            "538/538 [==============================] - 61s 113ms/step - loss: 0.4727 - accuracy: 0.8294 - val_loss: 0.5370 - val_accuracy: 0.7958 - lr: 5.0000e-04\n",
            "Epoch 12/100\n",
            "538/538 [==============================] - 64s 119ms/step - loss: 0.3916 - accuracy: 0.8599 - val_loss: 0.5142 - val_accuracy: 0.8116 - lr: 5.0000e-04\n",
            "Epoch 13/100\n",
            "538/538 [==============================] - 59s 110ms/step - loss: 0.3484 - accuracy: 0.8760 - val_loss: 0.3445 - val_accuracy: 0.8933 - lr: 5.0000e-04\n",
            "Epoch 14/100\n",
            "538/538 [==============================] - 59s 110ms/step - loss: 0.2800 - accuracy: 0.9022 - val_loss: 0.3238 - val_accuracy: 0.8867 - lr: 5.0000e-04\n",
            "Epoch 15/100\n",
            "538/538 [==============================] - 59s 109ms/step - loss: 0.2371 - accuracy: 0.9192 - val_loss: 0.2644 - val_accuracy: 0.9170 - lr: 5.0000e-04\n",
            "Epoch 16/100\n",
            "538/538 [==============================] - 59s 110ms/step - loss: 0.2230 - accuracy: 0.9224 - val_loss: 0.2487 - val_accuracy: 0.9157 - lr: 5.0000e-04\n",
            "Epoch 17/100\n",
            "538/538 [==============================] - 59s 110ms/step - loss: 0.1979 - accuracy: 0.9329 - val_loss: 0.2286 - val_accuracy: 0.9249 - lr: 5.0000e-04\n",
            "Epoch 18/100\n",
            "538/538 [==============================] - 59s 110ms/step - loss: 0.1802 - accuracy: 0.9411 - val_loss: 0.2109 - val_accuracy: 0.9354 - lr: 5.0000e-04\n",
            "Epoch 19/100\n",
            "538/538 [==============================] - 59s 110ms/step - loss: 0.1652 - accuracy: 0.9447 - val_loss: 0.2198 - val_accuracy: 0.9354 - lr: 5.0000e-04\n",
            "Epoch 20/100\n",
            "538/538 [==============================] - 60s 111ms/step - loss: 0.1601 - accuracy: 0.9453 - val_loss: 0.1680 - val_accuracy: 0.9368 - lr: 5.0000e-04\n",
            "Epoch 21/100\n",
            "538/538 [==============================] - 59s 110ms/step - loss: 0.1397 - accuracy: 0.9531 - val_loss: 0.1461 - val_accuracy: 0.9592 - lr: 5.0000e-04\n",
            "Epoch 22/100\n",
            "538/538 [==============================] - 59s 110ms/step - loss: 0.1733 - accuracy: 0.9399 - val_loss: 0.1627 - val_accuracy: 0.9420 - lr: 5.0000e-04\n",
            "Epoch 23/100\n",
            "538/538 [==============================] - 59s 110ms/step - loss: 0.1155 - accuracy: 0.9621 - val_loss: 0.1324 - val_accuracy: 0.9526 - lr: 5.0000e-04\n",
            "Epoch 24/100\n",
            "538/538 [==============================] - 59s 110ms/step - loss: 0.1043 - accuracy: 0.9655 - val_loss: 0.1165 - val_accuracy: 0.9631 - lr: 5.0000e-04\n",
            "Epoch 25/100\n",
            "538/538 [==============================] - 60s 111ms/step - loss: 0.1033 - accuracy: 0.9658 - val_loss: 0.1179 - val_accuracy: 0.9657 - lr: 5.0000e-04\n",
            "Epoch 26/100\n",
            "538/538 [==============================] - 59s 110ms/step - loss: 0.1036 - accuracy: 0.9641 - val_loss: 0.1189 - val_accuracy: 0.9592 - lr: 5.0000e-04\n",
            "Epoch 27/100\n",
            "538/538 [==============================] - 60s 111ms/step - loss: 0.0929 - accuracy: 0.9673 - val_loss: 0.0955 - val_accuracy: 0.9710 - lr: 5.0000e-04\n",
            "Epoch 28/100\n",
            "538/538 [==============================] - 59s 110ms/step - loss: 0.0964 - accuracy: 0.9675 - val_loss: 0.1040 - val_accuracy: 0.9710 - lr: 5.0000e-04\n",
            "Epoch 29/100\n",
            "538/538 [==============================] - 59s 110ms/step - loss: 0.0993 - accuracy: 0.9645 - val_loss: 0.0828 - val_accuracy: 0.9763 - lr: 5.0000e-04\n",
            "Epoch 30/100\n",
            "538/538 [==============================] - 59s 110ms/step - loss: 0.0852 - accuracy: 0.9720 - val_loss: 0.1195 - val_accuracy: 0.9552 - lr: 5.0000e-04\n",
            "Epoch 31/100\n",
            "538/538 [==============================] - 59s 110ms/step - loss: 0.0859 - accuracy: 0.9708 - val_loss: 0.0818 - val_accuracy: 0.9723 - lr: 5.0000e-04\n",
            "Epoch 32/100\n",
            "538/538 [==============================] - ETA: 0s - loss: 0.0792 - accuracy: 0.9741\n",
            "Epoch 32: ReduceLROnPlateau reducing learning rate to 0.0002500000118743628.\n",
            "538/538 [==============================] - 59s 110ms/step - loss: 0.0792 - accuracy: 0.9741 - val_loss: 0.1075 - val_accuracy: 0.9605 - lr: 5.0000e-04\n",
            "Epoch 33/100\n",
            "538/538 [==============================] - 59s 110ms/step - loss: 0.0609 - accuracy: 0.9796 - val_loss: 0.0641 - val_accuracy: 0.9776 - lr: 2.5000e-04\n",
            "Epoch 34/100\n",
            "538/538 [==============================] - 59s 110ms/step - loss: 0.0491 - accuracy: 0.9839 - val_loss: 0.0728 - val_accuracy: 0.9763 - lr: 2.5000e-04\n",
            "Epoch 35/100\n",
            "538/538 [==============================] - 59s 110ms/step - loss: 0.0420 - accuracy: 0.9870 - val_loss: 0.0750 - val_accuracy: 0.9736 - lr: 2.5000e-04\n",
            "Epoch 36/100\n",
            "538/538 [==============================] - 59s 111ms/step - loss: 0.0385 - accuracy: 0.9880 - val_loss: 0.0568 - val_accuracy: 0.9802 - lr: 2.5000e-04\n",
            "Epoch 37/100\n",
            "538/538 [==============================] - 59s 110ms/step - loss: 0.0377 - accuracy: 0.9885 - val_loss: 0.0628 - val_accuracy: 0.9763 - lr: 2.5000e-04\n",
            "Epoch 38/100\n",
            "538/538 [==============================] - 60s 111ms/step - loss: 0.0361 - accuracy: 0.9891 - val_loss: 0.0615 - val_accuracy: 0.9776 - lr: 2.5000e-04\n",
            "Epoch 39/100\n",
            "538/538 [==============================] - ETA: 0s - loss: 0.0363 - accuracy: 0.9885\n",
            "Epoch 39: ReduceLROnPlateau reducing learning rate to 0.0001250000059371814.\n",
            "538/538 [==============================] - 62s 116ms/step - loss: 0.0363 - accuracy: 0.9885 - val_loss: 0.0793 - val_accuracy: 0.9723 - lr: 2.5000e-04\n",
            "Epoch 40/100\n",
            "538/538 [==============================] - 60s 112ms/step - loss: 0.0309 - accuracy: 0.9895 - val_loss: 0.0528 - val_accuracy: 0.9816 - lr: 1.2500e-04\n",
            "Epoch 41/100\n",
            "538/538 [==============================] - 60s 111ms/step - loss: 0.0280 - accuracy: 0.9917 - val_loss: 0.0549 - val_accuracy: 0.9816 - lr: 1.2500e-04\n",
            "Epoch 42/100\n",
            "538/538 [==============================] - 60s 111ms/step - loss: 0.0233 - accuracy: 0.9931 - val_loss: 0.0532 - val_accuracy: 0.9776 - lr: 1.2500e-04\n",
            "Epoch 43/100\n",
            "538/538 [==============================] - ETA: 0s - loss: 0.0240 - accuracy: 0.9929\n",
            "Epoch 43: ReduceLROnPlateau reducing learning rate to 6.25000029685907e-05.\n",
            "538/538 [==============================] - 60s 111ms/step - loss: 0.0240 - accuracy: 0.9929 - val_loss: 0.0589 - val_accuracy: 0.9789 - lr: 1.2500e-04\n",
            "Epoch 44/100\n",
            "538/538 [==============================] - 60s 111ms/step - loss: 0.0203 - accuracy: 0.9947 - val_loss: 0.0534 - val_accuracy: 0.9802 - lr: 6.2500e-05\n",
            "Epoch 45/100\n",
            "538/538 [==============================] - 60s 111ms/step - loss: 0.0187 - accuracy: 0.9955 - val_loss: 0.0560 - val_accuracy: 0.9789 - lr: 6.2500e-05\n"
          ]
        }
      ],
      "source": [
        "history2=model2.fit(x_train, y_train, batch_size=32, epochs=100, validation_data=(x_val, y_val), callbacks=callbacks)"
      ]
    },
    {
      "cell_type": "code",
      "execution_count": 48,
      "metadata": {
        "colab": {
          "base_uri": "https://localhost:8080/"
        },
        "id": "EtxOq7JmmEjj",
        "outputId": "200d055a-9614-4026-d94c-e54c521e6ce0"
      },
      "outputs": [
        {
          "name": "stdout",
          "output_type": "stream",
          "text": [
            "72/72 [==============================] - 2s 29ms/step - loss: 0.0524 - accuracy: 0.9842\n",
            "Accuracy of our model on test data :  98.41827750205994 %\n"
          ]
        }
      ],
      "source": [
        "print(\"Accuracy of our model on test data : \" , model2.evaluate(x_test,y_test)[1]*100 , \"%\")"
      ]
    },
    {
      "cell_type": "code",
      "execution_count": 49,
      "metadata": {
        "colab": {
          "base_uri": "https://localhost:8080/"
        },
        "id": "eiuGhjOqmHRE",
        "outputId": "037f4b43-e262-4067-ed0a-45f3680cc49b"
      },
      "outputs": [
        {
          "name": "stdout",
          "output_type": "stream",
          "text": [
            " 1/72 [..............................] - ETA: 16s"
          ]
        },
        {
          "name": "stderr",
          "output_type": "stream",
          "text": [
            "2023-09-09 01:35:52.598425: I tensorflow/core/grappler/optimizers/custom_graph_optimizer_registry.cc:114] Plugin optimizer for device_type GPU is enabled.\n"
          ]
        },
        {
          "name": "stdout",
          "output_type": "stream",
          "text": [
            "72/72 [==============================] - 2s 25ms/step\n"
          ]
        }
      ],
      "source": [
        "pred_test = model2.predict(x_test)\n",
        "\n",
        "y_pred = encoder.inverse_transform(pred_test)\n",
        "\n",
        "y_test = encoder.inverse_transform(y_test)"
      ]
    },
    {
      "cell_type": "code",
      "execution_count": 61,
      "metadata": {
        "colab": {
          "base_uri": "https://localhost:8080/"
        },
        "id": "zoGnY8bvmI_f",
        "outputId": "72ae37df-9d84-4803-ea79-bdf474d7db55"
      },
      "outputs": [
        {
          "name": "stdout",
          "output_type": "stream",
          "text": [
            "72/72 [==============================] - 2s 27ms/step\n"
          ]
        }
      ],
      "source": [
        "pred_test=model2.predict(x_test)"
      ]
    },
    {
      "cell_type": "code",
      "execution_count": 62,
      "metadata": {
        "id": "Ur604T8KmK1x"
      },
      "outputs": [],
      "source": [
        "df_temp2 = pd.DataFrame(columns=['Predicted Labels', 'Actual Labels'])\n",
        "df_temp2['Predicted Labels'] = y_pred.flatten()\n",
        "df_temp2['Actual Labels'] = y_test.flatten()"
      ]
    },
    {
      "cell_type": "code",
      "execution_count": 63,
      "metadata": {
        "colab": {
          "base_uri": "https://localhost:8080/",
          "height": 885
        },
        "id": "RmjgYF9TmMgb",
        "outputId": "76ccb0c1-2d8e-40f2-81ad-9f1c404a5ba3"
      },
      "outputs": [
        {
          "data": {
            "image/png": "[encoded data removed]",
            "text/plain": [
              "<Figure size 1200x1000 with 2 Axes>"
            ]
          },
          "metadata": {},
          "output_type": "display_data"
        }
      ],
      "source": [
        "cm = confusion_matrix(y_test, y_pred)\n",
        "plt.figure(figsize = (12, 10))\n",
        "cm = pd.DataFrame(cm, index=list(encoder.categories_), columns=list(encoder.categories_))\n",
        "sns.heatmap(cm, linecolor='white', cmap='Blues', linewidth=1, annot=True, fmt='')\n",
        "plt.title('Confusion Matrix', size=20)\n",
        "plt.xlabel('Predicted Labels', size=14)\n",
        "plt.ylabel('Actual Labels', size=14)\n",
        "plt.show()"
      ]
    },
    {
      "cell_type": "code",
      "execution_count": 64,
      "metadata": {
        "colab": {
          "base_uri": "https://localhost:8080/",
          "height": 337
        },
        "id": "NJRnzOnUmOIy",
        "outputId": "ade45dce-7212-4106-cecb-5d4cce69b882"
      },
      "outputs": [
        {
          "data": {
            "image/png": "[encoded data removed]",
            "text/plain": [
              "<Figure size 2000x600 with 2 Axes>"
            ]
          },
          "metadata": {},
          "output_type": "display_data"
        }
      ],
      "source": [
        "epochs = list(range(early_stop.stopped_epoch+1))\n",
        "fig , ax = plt.subplots(1,2)\n",
        "train_acc = history2.history['accuracy']\n",
        "train_loss = history2.history['loss']\n",
        "test_acc = history2.history['val_accuracy']\n",
        "test_loss = history2.history['val_loss']\n",
        "\n",
        "fig.set_size_inches(20,6)\n",
        "ax[0].plot(epochs , train_loss , label = 'Training Loss')\n",
        "ax[0].plot(epochs , test_loss , label = 'Testing Loss')\n",
        "ax[0].set_title('Training & Testing Loss')\n",
        "ax[0].legend()\n",
        "ax[0].set_xlabel(\"Epochs\")\n",
        "\n",
        "ax[1].plot(epochs , train_acc , label = 'Training Accuracy')\n",
        "ax[1].plot(epochs , test_acc , label = 'Testing Accuracy')\n",
        "ax[1].set_title('Training & Testing Accuracy')\n",
        "ax[1].legend()\n",
        "ax[1].set_xlabel(\"Epochs\")\n",
        "plt.show()"
      ]
    },
    {
      "cell_type": "code",
      "execution_count": 65,
      "metadata": {
        "colab": {
          "base_uri": "https://localhost:8080/"
        },
        "id": "Rvau91AymSnk",
        "outputId": "b907d66b-be8a-47a4-e16b-9ee1ca3f455b"
      },
      "outputs": [
        {
          "name": "stdout",
          "output_type": "stream",
          "text": [
            "              precision    recall  f1-score   support\n",
            "\n",
            "    twenties       0.97      0.98      0.98       283\n",
            "    thirties       0.98      0.99      0.98       340\n",
            "     forties       1.00      0.96      0.98        23\n",
            "     fifties       1.00      0.99      0.99       135\n",
            "     sixties       0.99      0.98      0.98       729\n",
            "   seventies       0.98      0.99      0.99       766\n",
            "\n",
            "    accuracy                           0.98      2276\n",
            "   macro avg       0.99      0.98      0.98      2276\n",
            "weighted avg       0.98      0.98      0.98      2276\n",
            "\n"
          ]
        }
      ],
      "source": [
        "print(classification_report(y_test, y_pred, target_names=['twenties', 'thirties', 'forties', 'fifties', 'sixties', 'seventies']))"
      ]
    },
    {
      "cell_type": "markdown",
      "metadata": {
        "id": "fwB8GeCD0Kvl"
      },
      "source": [
        "## From voice features and predicted age, predict emotion"
      ]
    },
    {
      "cell_type": "code",
      "execution_count": 72,
      "metadata": {
        "id": "ROTrVpVWz7OY"
      },
      "outputs": [],
      "source": [
        "Features = pd.read_csv('../../data/features_emotion_final.csv')"
      ]
    },
    {
      "cell_type": "code",
      "execution_count": 73,
      "metadata": {
        "colab": {
          "base_uri": "https://localhost:8080/"
        },
        "id": "V3e_vLAy15El",
        "outputId": "e8aa8b80-06b4-4138-9fb2-c9ad6e80f0dd"
      },
      "outputs": [
        {
          "name": "stdout",
          "output_type": "stream",
          "text": [
            "0         False\n",
            "1         False\n",
            "2         False\n",
            "3         False\n",
            "4         False\n",
            "          ...  \n",
            "2372      False\n",
            "2373      False\n",
            "2374      False\n",
            "2375      False\n",
            "labels    False\n",
            "Length: 2377, dtype: bool\n"
          ]
        },
        {
          "data": {
            "text/plain": [
              "(20228, 2377)"
            ]
          },
          "execution_count": 73,
          "metadata": {},
          "output_type": "execute_result"
        }
      ],
      "source": [
        "Features = Features.fillna(0)\n",
        "print(Features.isna().any())\n",
        "Features.shape"
      ]
    },
    {
      "cell_type": "code",
      "execution_count": 74,
      "metadata": {
        "id": "qy8EOzZG1_c3"
      },
      "outputs": [],
      "source": [
        "X = Features.iloc[: ,:-1].values\n",
        "Y = Features['labels'].values"
      ]
    },
    {
      "cell_type": "code",
      "execution_count": 75,
      "metadata": {
        "id": "9bIzFBB02Bip"
      },
      "outputs": [],
      "source": [
        "scaler = StandardScaler()\n",
        "X1 = scaler.fit_transform(X)\n",
        "X1 = np.expand_dims(X1, axis=2)"
      ]
    },
    {
      "cell_type": "code",
      "execution_count": 76,
      "metadata": {
        "colab": {
          "base_uri": "https://localhost:8080/"
        },
        "id": "i6Woz9b92DxU",
        "outputId": "5214f747-8a2f-41ea-fb37-c90c7940a6bc"
      },
      "outputs": [
        {
          "ename": "InvalidArgumentError",
          "evalue": "Graph execution error:\n\nDetected at node 'model_1/flatten_1/Reshape' defined at (most recent call last):\n    File \"/opt/homebrew/Caskroom/miniforge/base/envs/prismatic/lib/python3.10/runpy.py\", line 196, in _run_module_as_main\n      return _run_code(code, main_globals, None,\n    File \"/opt/homebrew/Caskroom/miniforge/base/envs/prismatic/lib/python3.10/runpy.py\", line 86, in _run_code\n      exec(code, run_globals)\n    File \"/opt/homebrew/Caskroom/miniforge/base/envs/prismatic/lib/python3.10/site-packages/ipykernel_launcher.py\", line 17, in <module>\n      app.launch_new_instance()\n    File \"/opt/homebrew/Caskroom/miniforge/base/envs/prismatic/lib/python3.10/site-packages/traitlets/config/application.py\", line 1043, in launch_instance\n      app.start()\n    File \"/opt/homebrew/Caskroom/miniforge/base/envs/prismatic/lib/python3.10/site-packages/ipykernel/kernelapp.py\", line 728, in start\n      self.io_loop.start()\n    File \"/opt/homebrew/Caskroom/miniforge/base/envs/prismatic/lib/python3.10/site-packages/tornado/platform/asyncio.py\", line 195, in start\n      self.asyncio_loop.run_forever()\n    File \"/opt/homebrew/Caskroom/miniforge/base/envs/prismatic/lib/python3.10/asyncio/base_events.py\", line 603, in run_forever\n      self._run_once()\n    File \"/opt/homebrew/Caskroom/miniforge/base/envs/prismatic/lib/python3.10/asyncio/base_events.py\", line 1909, in _run_once\n      handle._run()\n    File \"/opt/homebrew/Caskroom/miniforge/base/envs/prismatic/lib/python3.10/asyncio/events.py\", line 80, in _run\n      self._context.run(self._callback, *self._args)\n    File \"/opt/homebrew/Caskroom/miniforge/base/envs/prismatic/lib/python3.10/site-packages/ipykernel/kernelbase.py\", line 516, in dispatch_queue\n      await self.process_one()\n    File \"/opt/homebrew/Caskroom/miniforge/base/envs/prismatic/lib/python3.10/site-packages/ipykernel/kernelbase.py\", line 505, in process_one\n      await dispatch(*args)\n    File \"/opt/homebrew/Caskroom/miniforge/base/envs/prismatic/lib/python3.10/site-packages/ipykernel/kernelbase.py\", line 412, in dispatch_shell\n      await result\n    File \"/opt/homebrew/Caskroom/miniforge/base/envs/prismatic/lib/python3.10/site-packages/ipykernel/kernelbase.py\", line 740, in execute_request\n      reply_content = await reply_content\n    File \"/opt/homebrew/Caskroom/miniforge/base/envs/prismatic/lib/python3.10/site-packages/ipykernel/ipkernel.py\", line 422, in do_execute\n      res = shell.run_cell(\n    File \"/opt/homebrew/Caskroom/miniforge/base/envs/prismatic/lib/python3.10/site-packages/ipykernel/zmqshell.py\", line 540, in run_cell\n      return super().run_cell(*args, **kwargs)\n    File \"/opt/homebrew/Caskroom/miniforge/base/envs/prismatic/lib/python3.10/site-packages/IPython/core/interactiveshell.py\", line 3009, in run_cell\n      result = self._run_cell(\n    File \"/opt/homebrew/Caskroom/miniforge/base/envs/prismatic/lib/python3.10/site-packages/IPython/core/interactiveshell.py\", line 3064, in _run_cell\n      result = runner(coro)\n    File \"/opt/homebrew/Caskroom/miniforge/base/envs/prismatic/lib/python3.10/site-packages/IPython/core/async_helpers.py\", line 129, in _pseudo_sync_runner\n      coro.send(None)\n    File \"/opt/homebrew/Caskroom/miniforge/base/envs/prismatic/lib/python3.10/site-packages/IPython/core/interactiveshell.py\", line 3269, in run_cell_async\n      has_raised = await self.run_ast_nodes(code_ast.body, cell_name,\n    File \"/opt/homebrew/Caskroom/miniforge/base/envs/prismatic/lib/python3.10/site-packages/IPython/core/interactiveshell.py\", line 3448, in run_ast_nodes\n      if await self.run_code(code, result, async_=asy):\n    File \"/opt/homebrew/Caskroom/miniforge/base/envs/prismatic/lib/python3.10/site-packages/IPython/core/interactiveshell.py\", line 3508, in run_code\n      exec(code_obj, self.user_global_ns, self.user_ns)\n    File \"/var/folders/kk/vjvtplg11tj3l04qgzpn8mf80000gn/T/ipykernel_76875/3578743921.py\", line 1, in <module>\n      Z=model2.predict(X1)\n    File \"/opt/homebrew/Caskroom/miniforge/base/envs/prismatic/lib/python3.10/site-packages/keras/utils/traceback_utils.py\", line 65, in error_handler\n      return fn(*args, **kwargs)\n    File \"/opt/homebrew/Caskroom/miniforge/base/envs/prismatic/lib/python3.10/site-packages/keras/engine/training.py\", line 2350, in predict\n      tmp_batch_outputs = self.predict_function(iterator)\n    File \"/opt/homebrew/Caskroom/miniforge/base/envs/prismatic/lib/python3.10/site-packages/keras/engine/training.py\", line 2137, in predict_function\n      return step_function(self, iterator)\n    File \"/opt/homebrew/Caskroom/miniforge/base/envs/prismatic/lib/python3.10/site-packages/keras/engine/training.py\", line 2123, in step_function\n      outputs = model.distribute_strategy.run(run_step, args=(data,))\n    File \"/opt/homebrew/Caskroom/miniforge/base/envs/prismatic/lib/python3.10/site-packages/keras/engine/training.py\", line 2111, in run_step\n      outputs = model.predict_step(data)\n    File \"/opt/homebrew/Caskroom/miniforge/base/envs/prismatic/lib/python3.10/site-packages/keras/engine/training.py\", line 2079, in predict_step\n      return self(x, training=False)\n    File \"/opt/homebrew/Caskroom/miniforge/base/envs/prismatic/lib/python3.10/site-packages/keras/utils/traceback_utils.py\", line 65, in error_handler\n      return fn(*args, **kwargs)\n    File \"/opt/homebrew/Caskroom/miniforge/base/envs/prismatic/lib/python3.10/site-packages/keras/engine/training.py\", line 561, in __call__\n      return super().__call__(*args, **kwargs)\n    File \"/opt/homebrew/Caskroom/miniforge/base/envs/prismatic/lib/python3.10/site-packages/keras/utils/traceback_utils.py\", line 65, in error_handler\n      return fn(*args, **kwargs)\n    File \"/opt/homebrew/Caskroom/miniforge/base/envs/prismatic/lib/python3.10/site-packages/keras/engine/base_layer.py\", line 1132, in __call__\n      outputs = call_fn(inputs, *args, **kwargs)\n    File \"/opt/homebrew/Caskroom/miniforge/base/envs/prismatic/lib/python3.10/site-packages/keras/utils/traceback_utils.py\", line 96, in error_handler\n      return fn(*args, **kwargs)\n    File \"/opt/homebrew/Caskroom/miniforge/base/envs/prismatic/lib/python3.10/site-packages/keras/engine/functional.py\", line 511, in call\n      return self._run_internal_graph(inputs, training=training, mask=mask)\n    File \"/opt/homebrew/Caskroom/miniforge/base/envs/prismatic/lib/python3.10/site-packages/keras/engine/functional.py\", line 668, in _run_internal_graph\n      outputs = node.layer(*args, **kwargs)\n    File \"/opt/homebrew/Caskroom/miniforge/base/envs/prismatic/lib/python3.10/site-packages/keras/utils/traceback_utils.py\", line 65, in error_handler\n      return fn(*args, **kwargs)\n    File \"/opt/homebrew/Caskroom/miniforge/base/envs/prismatic/lib/python3.10/site-packages/keras/engine/base_layer.py\", line 1132, in __call__\n      outputs = call_fn(inputs, *args, **kwargs)\n    File \"/opt/homebrew/Caskroom/miniforge/base/envs/prismatic/lib/python3.10/site-packages/keras/utils/traceback_utils.py\", line 96, in error_handler\n      return fn(*args, **kwargs)\n    File \"/opt/homebrew/Caskroom/miniforge/base/envs/prismatic/lib/python3.10/site-packages/keras/layers/reshaping/flatten.py\", line 104, in call\n      return tf.reshape(inputs, flattened_shape)\nNode: 'model_1/flatten_1/Reshape'\nInput to reshape is a tensor with 1216512 values, but the requested shape requires a multiple of 38144\n\t [[{{node model_1/flatten_1/Reshape}}]] [Op:__inference_predict_function_211029]",
          "output_type": "error",
          "traceback": [
            "\u001b[0;31m---------------------------------------------------------------------------\u001b[0m",
            "\u001b[0;31mInvalidArgumentError\u001b[0m                      Traceback (most recent call last)",
            "Cell \u001b[0;32mIn[76], line 1\u001b[0m\n\u001b[0;32m----> 1\u001b[0m Z\u001b[39m=\u001b[39mmodel2\u001b[39m.\u001b[39;49mpredict(X1)\n",
            "File \u001b[0;32m/opt/homebrew/Caskroom/miniforge/base/envs/prismatic/lib/python3.10/site-packages/keras/utils/traceback_utils.py:70\u001b[0m, in \u001b[0;36mfilter_traceback.<locals>.error_handler\u001b[0;34m(*args, **kwargs)\u001b[0m\n\u001b[1;32m     67\u001b[0m     filtered_tb \u001b[39m=\u001b[39m _process_traceback_frames(e\u001b[39m.\u001b[39m__traceback__)\n\u001b[1;32m     68\u001b[0m     \u001b[39m# To get the full stack trace, call:\u001b[39;00m\n\u001b[1;32m     69\u001b[0m     \u001b[39m# `tf.debugging.disable_traceback_filtering()`\u001b[39;00m\n\u001b[0;32m---> 70\u001b[0m     \u001b[39mraise\u001b[39;00m e\u001b[39m.\u001b[39mwith_traceback(filtered_tb) \u001b[39mfrom\u001b[39;00m \u001b[39mNone\u001b[39;00m\n\u001b[1;32m     71\u001b[0m \u001b[39mfinally\u001b[39;00m:\n\u001b[1;32m     72\u001b[0m     \u001b[39mdel\u001b[39;00m filtered_tb\n",
            "File \u001b[0;32m/opt/homebrew/Caskroom/miniforge/base/envs/prismatic/lib/python3.10/site-packages/tensorflow/python/eager/execute.py:52\u001b[0m, in \u001b[0;36mquick_execute\u001b[0;34m(op_name, num_outputs, inputs, attrs, ctx, name)\u001b[0m\n\u001b[1;32m     50\u001b[0m \u001b[39mtry\u001b[39;00m:\n\u001b[1;32m     51\u001b[0m   ctx\u001b[39m.\u001b[39mensure_initialized()\n\u001b[0;32m---> 52\u001b[0m   tensors \u001b[39m=\u001b[39m pywrap_tfe\u001b[39m.\u001b[39mTFE_Py_Execute(ctx\u001b[39m.\u001b[39m_handle, device_name, op_name,\n\u001b[1;32m     53\u001b[0m                                       inputs, attrs, num_outputs)\n\u001b[1;32m     54\u001b[0m \u001b[39mexcept\u001b[39;00m core\u001b[39m.\u001b[39m_NotOkStatusException \u001b[39mas\u001b[39;00m e:\n\u001b[1;32m     55\u001b[0m   \u001b[39mif\u001b[39;00m name \u001b[39mis\u001b[39;00m \u001b[39mnot\u001b[39;00m \u001b[39mNone\u001b[39;00m:\n",
            "\u001b[0;31mInvalidArgumentError\u001b[0m: Graph execution error:\n\nDetected at node 'model_1/flatten_1/Reshape' defined at (most recent call last):\n    File \"/opt/homebrew/Caskroom/miniforge/base/envs/prismatic/lib/python3.10/runpy.py\", line 196, in _run_module_as_main\n      return _run_code(code, main_globals, None,\n    File \"/opt/homebrew/Caskroom/miniforge/base/envs/prismatic/lib/python3.10/runpy.py\", line 86, in _run_code\n      exec(code, run_globals)\n    File \"/opt/homebrew/Caskroom/miniforge/base/envs/prismatic/lib/python3.10/site-packages/ipykernel_launcher.py\", line 17, in <module>\n      app.launch_new_instance()\n    File \"/opt/homebrew/Caskroom/miniforge/base/envs/prismatic/lib/python3.10/site-packages/traitlets/config/application.py\", line 1043, in launch_instance\n      app.start()\n    File \"/opt/homebrew/Caskroom/miniforge/base/envs/prismatic/lib/python3.10/site-packages/ipykernel/kernelapp.py\", line 728, in start\n      self.io_loop.start()\n    File \"/opt/homebrew/Caskroom/miniforge/base/envs/prismatic/lib/python3.10/site-packages/tornado/platform/asyncio.py\", line 195, in start\n      self.asyncio_loop.run_forever()\n    File \"/opt/homebrew/Caskroom/miniforge/base/envs/prismatic/lib/python3.10/asyncio/base_events.py\", line 603, in run_forever\n      self._run_once()\n    File \"/opt/homebrew/Caskroom/miniforge/base/envs/prismatic/lib/python3.10/asyncio/base_events.py\", line 1909, in _run_once\n      handle._run()\n    File \"/opt/homebrew/Caskroom/miniforge/base/envs/prismatic/lib/python3.10/asyncio/events.py\", line 80, in _run\n      self._context.run(self._callback, *self._args)\n    File \"/opt/homebrew/Caskroom/miniforge/base/envs/prismatic/lib/python3.10/site-packages/ipykernel/kernelbase.py\", line 516, in dispatch_queue\n      await self.process_one()\n    File \"/opt/homebrew/Caskroom/miniforge/base/envs/prismatic/lib/python3.10/site-packages/ipykernel/kernelbase.py\", line 505, in process_one\n      await dispatch(*args)\n    File \"/opt/homebrew/Caskroom/miniforge/base/envs/prismatic/lib/python3.10/site-packages/ipykernel/kernelbase.py\", line 412, in dispatch_shell\n      await result\n    File \"/opt/homebrew/Caskroom/miniforge/base/envs/prismatic/lib/python3.10/site-packages/ipykernel/kernelbase.py\", line 740, in execute_request\n      reply_content = await reply_content\n    File \"/opt/homebrew/Caskroom/miniforge/base/envs/prismatic/lib/python3.10/site-packages/ipykernel/ipkernel.py\", line 422, in do_execute\n      res = shell.run_cell(\n    File \"/opt/homebrew/Caskroom/miniforge/base/envs/prismatic/lib/python3.10/site-packages/ipykernel/zmqshell.py\", line 540, in run_cell\n      return super().run_cell(*args, **kwargs)\n    File \"/opt/homebrew/Caskroom/miniforge/base/envs/prismatic/lib/python3.10/site-packages/IPython/core/interactiveshell.py\", line 3009, in run_cell\n      result = self._run_cell(\n    File \"/opt/homebrew/Caskroom/miniforge/base/envs/prismatic/lib/python3.10/site-packages/IPython/core/interactiveshell.py\", line 3064, in _run_cell\n      result = runner(coro)\n    File \"/opt/homebrew/Caskroom/miniforge/base/envs/prismatic/lib/python3.10/site-packages/IPython/core/async_helpers.py\", line 129, in _pseudo_sync_runner\n      coro.send(None)\n    File \"/opt/homebrew/Caskroom/miniforge/base/envs/prismatic/lib/python3.10/site-packages/IPython/core/interactiveshell.py\", line 3269, in run_cell_async\n      has_raised = await self.run_ast_nodes(code_ast.body, cell_name,\n    File \"/opt/homebrew/Caskroom/miniforge/base/envs/prismatic/lib/python3.10/site-packages/IPython/core/interactiveshell.py\", line 3448, in run_ast_nodes\n      if await self.run_code(code, result, async_=asy):\n    File \"/opt/homebrew/Caskroom/miniforge/base/envs/prismatic/lib/python3.10/site-packages/IPython/core/interactiveshell.py\", line 3508, in run_code\n      exec(code_obj, self.user_global_ns, self.user_ns)\n    File \"/var/folders/kk/vjvtplg11tj3l04qgzpn8mf80000gn/T/ipykernel_76875/3578743921.py\", line 1, in <module>\n      Z=model2.predict(X1)\n    File \"/opt/homebrew/Caskroom/miniforge/base/envs/prismatic/lib/python3.10/site-packages/keras/utils/traceback_utils.py\", line 65, in error_handler\n      return fn(*args, **kwargs)\n    File \"/opt/homebrew/Caskroom/miniforge/base/envs/prismatic/lib/python3.10/site-packages/keras/engine/training.py\", line 2350, in predict\n      tmp_batch_outputs = self.predict_function(iterator)\n    File \"/opt/homebrew/Caskroom/miniforge/base/envs/prismatic/lib/python3.10/site-packages/keras/engine/training.py\", line 2137, in predict_function\n      return step_function(self, iterator)\n    File \"/opt/homebrew/Caskroom/miniforge/base/envs/prismatic/lib/python3.10/site-packages/keras/engine/training.py\", line 2123, in step_function\n      outputs = model.distribute_strategy.run(run_step, args=(data,))\n    File \"/opt/homebrew/Caskroom/miniforge/base/envs/prismatic/lib/python3.10/site-packages/keras/engine/training.py\", line 2111, in run_step\n      outputs = model.predict_step(data)\n    File \"/opt/homebrew/Caskroom/miniforge/base/envs/prismatic/lib/python3.10/site-packages/keras/engine/training.py\", line 2079, in predict_step\n      return self(x, training=False)\n    File \"/opt/homebrew/Caskroom/miniforge/base/envs/prismatic/lib/python3.10/site-packages/keras/utils/traceback_utils.py\", line 65, in error_handler\n      return fn(*args, **kwargs)\n    File \"/opt/homebrew/Caskroom/miniforge/base/envs/prismatic/lib/python3.10/site-packages/keras/engine/training.py\", line 561, in __call__\n      return super().__call__(*args, **kwargs)\n    File \"/opt/homebrew/Caskroom/miniforge/base/envs/prismatic/lib/python3.10/site-packages/keras/utils/traceback_utils.py\", line 65, in error_handler\n      return fn(*args, **kwargs)\n    File \"/opt/homebrew/Caskroom/miniforge/base/envs/prismatic/lib/python3.10/site-packages/keras/engine/base_layer.py\", line 1132, in __call__\n      outputs = call_fn(inputs, *args, **kwargs)\n    File \"/opt/homebrew/Caskroom/miniforge/base/envs/prismatic/lib/python3.10/site-packages/keras/utils/traceback_utils.py\", line 96, in error_handler\n      return fn(*args, **kwargs)\n    File \"/opt/homebrew/Caskroom/miniforge/base/envs/prismatic/lib/python3.10/site-packages/keras/engine/functional.py\", line 511, in call\n      return self._run_internal_graph(inputs, training=training, mask=mask)\n    File \"/opt/homebrew/Caskroom/miniforge/base/envs/prismatic/lib/python3.10/site-packages/keras/engine/functional.py\", line 668, in _run_internal_graph\n      outputs = node.layer(*args, **kwargs)\n    File \"/opt/homebrew/Caskroom/miniforge/base/envs/prismatic/lib/python3.10/site-packages/keras/utils/traceback_utils.py\", line 65, in error_handler\n      return fn(*args, **kwargs)\n    File \"/opt/homebrew/Caskroom/miniforge/base/envs/prismatic/lib/python3.10/site-packages/keras/engine/base_layer.py\", line 1132, in __call__\n      outputs = call_fn(inputs, *args, **kwargs)\n    File \"/opt/homebrew/Caskroom/miniforge/base/envs/prismatic/lib/python3.10/site-packages/keras/utils/traceback_utils.py\", line 96, in error_handler\n      return fn(*args, **kwargs)\n    File \"/opt/homebrew/Caskroom/miniforge/base/envs/prismatic/lib/python3.10/site-packages/keras/layers/reshaping/flatten.py\", line 104, in call\n      return tf.reshape(inputs, flattened_shape)\nNode: 'model_1/flatten_1/Reshape'\nInput to reshape is a tensor with 1216512 values, but the requested shape requires a multiple of 38144\n\t [[{{node model_1/flatten_1/Reshape}}]] [Op:__inference_predict_function_211029]"
          ]
        }
      ],
      "source": [
        "Z=model2.predict(X1)"
      ]
    },
    {
      "cell_type": "code",
      "execution_count": null,
      "metadata": {
        "id": "G9fFQzEK2FNB"
      },
      "outputs": [
        {
          "ename": "ValueError",
          "evalue": "could not convert string to float: 'male'",
          "output_type": "error",
          "traceback": [
            "\u001b[0;31m---------------------------------------------------------------------------\u001b[0m",
            "\u001b[0;31mValueError\u001b[0m                                Traceback (most recent call last)",
            "Cell \u001b[0;32mIn[71], line 1\u001b[0m\n\u001b[0;32m----> 1\u001b[0m Z \u001b[39m=\u001b[39m encoder\u001b[39m.\u001b[39;49minverse_transform(Z)\n",
            "File \u001b[0;32m/opt/homebrew/Caskroom/miniforge/base/envs/prismatic/lib/python3.10/site-packages/sklearn/preprocessing/_encoders.py:1084\u001b[0m, in \u001b[0;36mOneHotEncoder.inverse_transform\u001b[0;34m(self, X)\u001b[0m\n\u001b[1;32m   1061\u001b[0m \u001b[39m\u001b[39m\u001b[39m\"\"\"\u001b[39;00m\n\u001b[1;32m   1062\u001b[0m \u001b[39mConvert the data back to the original representation.\u001b[39;00m\n\u001b[1;32m   1063\u001b[0m \n\u001b[0;32m   (...)\u001b[0m\n\u001b[1;32m   1081\u001b[0m \u001b[39m    Inverse transformed array.\u001b[39;00m\n\u001b[1;32m   1082\u001b[0m \u001b[39m\"\"\"\u001b[39;00m\n\u001b[1;32m   1083\u001b[0m check_is_fitted(\u001b[39mself\u001b[39m)\n\u001b[0;32m-> 1084\u001b[0m X \u001b[39m=\u001b[39m check_array(X, accept_sparse\u001b[39m=\u001b[39;49m\u001b[39m\"\u001b[39;49m\u001b[39mcsr\u001b[39;49m\u001b[39m\"\u001b[39;49m)\n\u001b[1;32m   1086\u001b[0m n_samples, _ \u001b[39m=\u001b[39m X\u001b[39m.\u001b[39mshape\n\u001b[1;32m   1087\u001b[0m n_features \u001b[39m=\u001b[39m \u001b[39mlen\u001b[39m(\u001b[39mself\u001b[39m\u001b[39m.\u001b[39mcategories_)\n",
            "File \u001b[0;32m/opt/homebrew/Caskroom/miniforge/base/envs/prismatic/lib/python3.10/site-packages/sklearn/utils/validation.py:917\u001b[0m, in \u001b[0;36mcheck_array\u001b[0;34m(array, accept_sparse, accept_large_sparse, dtype, order, copy, force_all_finite, ensure_2d, allow_nd, ensure_min_samples, ensure_min_features, estimator, input_name)\u001b[0m\n\u001b[1;32m    915\u001b[0m         array \u001b[39m=\u001b[39m xp\u001b[39m.\u001b[39mastype(array, dtype, copy\u001b[39m=\u001b[39m\u001b[39mFalse\u001b[39;00m)\n\u001b[1;32m    916\u001b[0m     \u001b[39melse\u001b[39;00m:\n\u001b[0;32m--> 917\u001b[0m         array \u001b[39m=\u001b[39m _asarray_with_order(array, order\u001b[39m=\u001b[39;49morder, dtype\u001b[39m=\u001b[39;49mdtype, xp\u001b[39m=\u001b[39;49mxp)\n\u001b[1;32m    918\u001b[0m \u001b[39mexcept\u001b[39;00m ComplexWarning \u001b[39mas\u001b[39;00m complex_warning:\n\u001b[1;32m    919\u001b[0m     \u001b[39mraise\u001b[39;00m \u001b[39mValueError\u001b[39;00m(\n\u001b[1;32m    920\u001b[0m         \u001b[39m\"\u001b[39m\u001b[39mComplex data not supported\u001b[39m\u001b[39m\\n\u001b[39;00m\u001b[39m{}\u001b[39;00m\u001b[39m\\n\u001b[39;00m\u001b[39m\"\u001b[39m\u001b[39m.\u001b[39mformat(array)\n\u001b[1;32m    921\u001b[0m     ) \u001b[39mfrom\u001b[39;00m \u001b[39mcomplex_warning\u001b[39;00m\n",
            "File \u001b[0;32m/opt/homebrew/Caskroom/miniforge/base/envs/prismatic/lib/python3.10/site-packages/sklearn/utils/_array_api.py:380\u001b[0m, in \u001b[0;36m_asarray_with_order\u001b[0;34m(array, dtype, order, copy, xp)\u001b[0m\n\u001b[1;32m    378\u001b[0m     array \u001b[39m=\u001b[39m numpy\u001b[39m.\u001b[39marray(array, order\u001b[39m=\u001b[39morder, dtype\u001b[39m=\u001b[39mdtype)\n\u001b[1;32m    379\u001b[0m \u001b[39melse\u001b[39;00m:\n\u001b[0;32m--> 380\u001b[0m     array \u001b[39m=\u001b[39m numpy\u001b[39m.\u001b[39;49masarray(array, order\u001b[39m=\u001b[39;49morder, dtype\u001b[39m=\u001b[39;49mdtype)\n\u001b[1;32m    382\u001b[0m \u001b[39m# At this point array is a NumPy ndarray. We convert it to an array\u001b[39;00m\n\u001b[1;32m    383\u001b[0m \u001b[39m# container that is consistent with the input's namespace.\u001b[39;00m\n\u001b[1;32m    384\u001b[0m \u001b[39mreturn\u001b[39;00m xp\u001b[39m.\u001b[39masarray(array)\n",
            "\u001b[0;31mValueError\u001b[0m: could not convert string to float: 'male'"
          ]
        }
      ],
      "source": [
        "Z = encoder.inverse_transform(Z)"
      ]
    },
    {
      "cell_type": "code",
      "execution_count": null,
      "metadata": {
        "id": "BfxKUi622HI9"
      },
      "outputs": [],
      "source": [
        "Z = Z.flatten()"
      ]
    },
    {
      "cell_type": "code",
      "execution_count": null,
      "metadata": {
        "id": "8WKDE4Cq2IbB"
      },
      "outputs": [],
      "source": [
        "Features = pd.DataFrame(X)\n",
        "Features['predicted gender'] = Z\n",
        "Features['labels'] = Y"
      ]
    },
    {
      "cell_type": "code",
      "execution_count": null,
      "metadata": {
        "id": "J1u-JmTp2J2U"
      },
      "outputs": [],
      "source": [
        "Features['predicted gender'] = Features['predicted gender'].astype('category').cat.codes"
      ]
    },
    {
      "cell_type": "code",
      "execution_count": null,
      "metadata": {
        "colab": {
          "base_uri": "https://localhost:8080/",
          "height": 505
        },
        "id": "7PQgMWip2Lad",
        "outputId": "5d86d5d3-35b8-4c66-de87-ce7ce94d6b14"
      },
      "outputs": [],
      "source": [
        "Features"
      ]
    },
    {
      "cell_type": "code",
      "execution_count": null,
      "metadata": {
        "id": "4Lnb70OB2NHj"
      },
      "outputs": [],
      "source": [
        "X = Features.iloc[: ,:-1].values\n",
        "Y = Features['labels'].values"
      ]
    },
    {
      "cell_type": "code",
      "execution_count": null,
      "metadata": {
        "colab": {
          "base_uri": "https://localhost:8080/"
        },
        "id": "Qf9dGYRg2PDO",
        "outputId": "5a99428e-e821-4811-b052-de9c7ac51ce8"
      },
      "outputs": [],
      "source": [
        "encoder = OneHotEncoder()\n",
        "Y = encoder.fit_transform(np.array(Y).reshape(-1,1)).toarray()\n",
        "encoder.categories_"
      ]
    },
    {
      "cell_type": "code",
      "execution_count": null,
      "metadata": {
        "colab": {
          "base_uri": "https://localhost:8080/"
        },
        "id": "Rn8jPY6v2QZ0",
        "outputId": "9940f02c-c4e8-4a00-ca15-77243aea42f3"
      },
      "outputs": [],
      "source": [
        "x_train, x_test, y_train, y_test = train_test_split(X, Y,test_size=0.15, random_state=30, shuffle=True,stratify=Y)\n",
        "x_train.shape, y_train.shape, x_test.shape, y_test.shape"
      ]
    },
    {
      "cell_type": "code",
      "execution_count": null,
      "metadata": {
        "id": "_63d4SR82TVs"
      },
      "outputs": [],
      "source": [
        "scaler = StandardScaler()"
      ]
    },
    {
      "cell_type": "code",
      "execution_count": null,
      "metadata": {
        "colab": {
          "base_uri": "https://localhost:8080/"
        },
        "id": "Q-1d9rVz2Uxs",
        "outputId": "5730aaeb-610b-4aa9-9c77-75477439a4c4"
      },
      "outputs": [],
      "source": [
        "x_test, x_val, y_test, y_val = train_test_split(x_test, y_test, random_state=30, test_size=0.25, shuffle=True,stratify=y_test)\n",
        "x_train.shape, x_test.shape, x_val.shape, x_train.shape, x_test.shape, x_val.shape"
      ]
    },
    {
      "cell_type": "code",
      "execution_count": null,
      "metadata": {
        "colab": {
          "base_uri": "https://localhost:8080/"
        },
        "id": "mSgVX6P62WKQ",
        "outputId": "a1bb5ea3-569c-4081-fdea-4a6f11ab58a8"
      },
      "outputs": [],
      "source": [
        "x_train = scaler.fit_transform(x_train)\n",
        "x_val=scaler.transform(x_val)\n",
        "x_test = scaler.transform(x_test)\n",
        "\n",
        "x_train.shape, y_train.shape, x_test.shape, y_test.shape"
      ]
    },
    {
      "cell_type": "code",
      "execution_count": null,
      "metadata": {
        "colab": {
          "base_uri": "https://localhost:8080/"
        },
        "id": "aB7sZCJG2Zd3",
        "outputId": "7c65b63f-0e20-482c-f36a-933541ca1c34"
      },
      "outputs": [],
      "source": [
        "model3 = CNN_maker(\"emotion\", x_train, y_train)\n"
      ]
    },
    {
      "cell_type": "code",
      "execution_count": null,
      "metadata": {},
      "outputs": [],
      "source": [
        "model3.summary()"
      ]
    },
    {
      "cell_type": "code",
      "execution_count": null,
      "metadata": {},
      "outputs": [],
      "source": [
        "model3.compile(optimizer=optimizer,\n",
        "              loss={'emotion': 'categorical_crossentropy'},\n",
        "              metrics={'emotion': 'accuracy'})"
      ]
    },
    {
      "cell_type": "code",
      "execution_count": null,
      "metadata": {
        "id": "uTmDOLaU2b-l"
      },
      "outputs": [],
      "source": [
        "learning_rate_reduction = ReduceLROnPlateau(monitor='val_accuracy',\n",
        "                                            patience=3,\n",
        "                                            verbose=1,\n",
        "                                            factor=0.5,\n",
        "                                            min_lr=0.00001)\n",
        "early_stop = EarlyStopping(monitor='val_accuracy', mode='auto', patience=5, start_from_epoch=20)\n",
        "callbacks=[learning_rate_reduction,early_stop]\n",
        "\n"
      ]
    },
    {
      "cell_type": "code",
      "execution_count": null,
      "metadata": {
        "colab": {
          "base_uri": "https://localhost:8080/"
        },
        "id": "MYd0TdYr2elP",
        "outputId": "184bafd3-2690-43c3-988f-d6cccf3838b5"
      },
      "outputs": [],
      "source": [
        "history3=model3.fit(x_train, y_train, batch_size=32, epochs=100, validation_data=(x_val, y_val), callbacks=callbacks)"
      ]
    },
    {
      "cell_type": "code",
      "execution_count": null,
      "metadata": {
        "colab": {
          "base_uri": "https://localhost:8080/"
        },
        "id": "P_sCcqfi2geq",
        "outputId": "0d8dd807-9f78-400a-e1e4-2020936a31a2"
      },
      "outputs": [],
      "source": [
        "print(\"Accuracy of our model on test data : \" , model3.evaluate(x_test,y_test)[1]*100 , \"%\")"
      ]
    },
    {
      "cell_type": "code",
      "execution_count": null,
      "metadata": {
        "colab": {
          "base_uri": "https://localhost:8080/"
        },
        "id": "ASFNZ3z32iyk",
        "outputId": "fd7725f7-8c5d-40ae-917c-55b5b10d86ae"
      },
      "outputs": [],
      "source": [
        "pred_test = model3.predict(x_test)\n",
        "\n",
        "y_pred = encoder.inverse_transform(pred_test)\n",
        "\n",
        "y_test = encoder.inverse_transform(y_test)"
      ]
    },
    {
      "cell_type": "code",
      "execution_count": null,
      "metadata": {
        "colab": {
          "base_uri": "https://localhost:8080/"
        },
        "id": "9VFxpQ8k3PYA",
        "outputId": "56ebb282-8504-4493-af96-5e3241bcffa4"
      },
      "outputs": [],
      "source": [
        "pred_test=model3.predict(x_test)"
      ]
    },
    {
      "cell_type": "code",
      "execution_count": null,
      "metadata": {
        "id": "4u90MLyB3Qzd"
      },
      "outputs": [],
      "source": [
        "df_temp3 = pd.DataFrame(columns=['Predicted Labels', 'Actual Labels'])\n",
        "df_temp3['Predicted Labels'] = y_pred.flatten()\n",
        "df_temp3['Actual Labels'] = y_test.flatten()"
      ]
    },
    {
      "cell_type": "code",
      "execution_count": null,
      "metadata": {
        "colab": {
          "base_uri": "https://localhost:8080/",
          "height": 885
        },
        "id": "wd0jg09O3SVH",
        "outputId": "07f34754-4415-434f-cf3d-49727854d2fa"
      },
      "outputs": [],
      "source": [
        "cm = confusion_matrix(y_test, y_pred)\n",
        "plt.figure(figsize = (12, 10))\n",
        "cm = pd.DataFrame(cm, index=list(encoder.categories_), columns=list(encoder.categories_))\n",
        "sns.heatmap(cm, linecolor='white', cmap='Blues', linewidth=1, annot=True, fmt='')\n",
        "plt.title('Confusion Matrix', size=20)\n",
        "plt.xlabel('Predicted Labels', size=14)\n",
        "plt.ylabel('Actual Labels', size=14)\n",
        "plt.show()"
      ]
    },
    {
      "cell_type": "code",
      "execution_count": null,
      "metadata": {
        "colab": {
          "base_uri": "https://localhost:8080/",
          "height": 337
        },
        "id": "N4BnO1Uc3TrC",
        "outputId": "71b17703-dd89-4ce6-a2c9-a5db9c38eb1d"
      },
      "outputs": [],
      "source": [
        "epochs = list(range(early_stop.stopped_epoch+1))\n",
        "fig , ax = plt.subplots(1,2)\n",
        "train_acc = history3.history['accuracy']\n",
        "train_loss = history3.history['loss']\n",
        "test_acc = history3.history['val_accuracy']\n",
        "test_loss = history3.history['val_loss']\n",
        "\n",
        "fig.set_size_inches(20,6)\n",
        "ax[0].plot(epochs , train_loss , label = 'Training Loss')\n",
        "ax[0].plot(epochs , test_loss , label = 'Testing Loss')\n",
        "ax[0].set_title('Training & Testing Loss')\n",
        "ax[0].legend()\n",
        "ax[0].set_xlabel(\"Epochs\")\n",
        "\n",
        "ax[1].plot(epochs , train_acc , label = 'Training Accuracy')\n",
        "ax[1].plot(epochs , test_acc , label = 'Testing Accuracy')\n",
        "ax[1].set_title('Training & Testing Accuracy')\n",
        "ax[1].legend()\n",
        "ax[1].set_xlabel(\"Epochs\")\n",
        "plt.show()"
      ]
    },
    {
      "cell_type": "code",
      "execution_count": null,
      "metadata": {
        "colab": {
          "base_uri": "https://localhost:8080/"
        },
        "id": "3BYNPDgy3WIS",
        "outputId": "13fc75a2-faeb-48b3-b275-b83077490d6a"
      },
      "outputs": [],
      "source": [
        "print(classification_report(y_test, y_pred, target_names=['anger', 'anxiety/fear', 'disgust', 'happiness', 'neutral', 'sad']))"
      ]
    }
  ],
  "metadata": {
    "accelerator": "GPU",
    "colab": {
      "gpuType": "T4",
      "provenance": []
    },
    "kernelspec": {
      "display_name": "Python 3",
      "name": "python3"
    },
    "language_info": {
      "codemirror_mode": {
        "name": "ipython",
        "version": 3
      },
      "file_extension": ".py",
      "mimetype": "text/x-python",
      "name": "python",
      "nbconvert_exporter": "python",
      "pygments_lexer": "ipython3",
      "version": "3.10.12"
    }
  },
  "nbformat": 4,
  "nbformat_minor": 0
}
