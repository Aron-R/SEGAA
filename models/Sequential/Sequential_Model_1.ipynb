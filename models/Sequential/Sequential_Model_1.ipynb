{
  "nbformat": 4,
  "nbformat_minor": 0,
  "metadata": {
    "colab": {
      "provenance": [],
      "gpuType": "T4"
    },
    "kernelspec": {
      "name": "python3",
      "display_name": "Python 3"
    },
    "language_info": {
      "name": "python"
    },
    "accelerator": "GPU"
  },
  "cells": [
    {
      "cell_type": "code",
      "execution_count": 1,
      "metadata": {
        "id": "xE6x5H4Yc5mQ"
      },
      "outputs": [],
      "source": [
        "\n",
        "\n",
        "import pandas as pd\n",
        "import numpy as np\n",
        "\n",
        "import os\n",
        "import sys\n",
        "import tensorflow as tf\n",
        "import librosa\n",
        "import librosa.display\n",
        "import seaborn as sns\n",
        "import matplotlib.pyplot as plt\n",
        "\n"
      ]
    },
    {
      "cell_type": "code",
      "source": [
        "from sklearn.preprocessing import StandardScaler, OneHotEncoder\n",
        "from sklearn.metrics import confusion_matrix, classification_report\n",
        "from sklearn.model_selection import train_test_split\n",
        "\n",
        "# to play the audio files\n",
        "from IPython.display import Audio\n",
        "\n",
        "import keras\n",
        "from keras.callbacks import EarlyStopping\n",
        "from keras.callbacks import ReduceLROnPlateau\n",
        "from keras.models import Sequential\n",
        "from keras.layers import Dense, Conv1D, MaxPooling1D, Flatten, Dropout, BatchNormalization,LSTM\n",
        "from keras.utils import np_utils, to_categorical\n",
        "from keras.callbacks import ModelCheckpoint\n",
        "\n",
        "import warnings\n",
        "if not sys.warnoptions:\n",
        "    warnings.simplefilter(\"ignore\")\n",
        "warnings.filterwarnings(\"ignore\", category=DeprecationWarning)"
      ],
      "metadata": {
        "id": "_FR4o4mudGWv"
      },
      "execution_count": 2,
      "outputs": []
    },
    {
      "cell_type": "code",
      "source": [
        "Features = pd.read_csv('/content/drive/MyDrive/Prism/features_gender_final.csv')"
      ],
      "metadata": {
        "id": "3xajW_uYdIaO"
      },
      "execution_count": 3,
      "outputs": []
    },
    {
      "cell_type": "code",
      "source": [
        "Features = Features.fillna(0)\n",
        "print(Features.isna().any())\n",
        "Features.shape"
      ],
      "metadata": {
        "colab": {
          "base_uri": "https://localhost:8080/"
        },
        "id": "2lby_f3pdpgf",
        "outputId": "4d00911f-70bd-4a45-aa10-4945c5f4ad6a"
      },
      "execution_count": 4,
      "outputs": [
        {
          "output_type": "stream",
          "name": "stdout",
          "text": [
            "0         False\n",
            "1         False\n",
            "2         False\n",
            "3         False\n",
            "4         False\n",
            "          ...  \n",
            "2372      False\n",
            "2373      False\n",
            "2374      False\n",
            "2375      False\n",
            "labels    False\n",
            "Length: 2377, dtype: bool\n"
          ]
        },
        {
          "output_type": "execute_result",
          "data": {
            "text/plain": [
              "(31584, 2377)"
            ]
          },
          "metadata": {},
          "execution_count": 4
        }
      ]
    },
    {
      "cell_type": "code",
      "source": [
        "X = Features.iloc[: ,:-1].values\n",
        "Y = Features['labels'].values"
      ],
      "metadata": {
        "id": "apu20zGsd5A3"
      },
      "execution_count": 6,
      "outputs": []
    },
    {
      "cell_type": "code",
      "source": [
        "encoder = OneHotEncoder()\n",
        "Y = encoder.fit_transform(np.array(Y).reshape(-1,1)).toarray()\n",
        "encoder.categories_"
      ],
      "metadata": {
        "colab": {
          "base_uri": "https://localhost:8080/"
        },
        "id": "v7AfYHe2dyah",
        "outputId": "bf5a8594-093a-4b16-a601-8d234df8648a"
      },
      "execution_count": 7,
      "outputs": [
        {
          "output_type": "execute_result",
          "data": {
            "text/plain": [
              "[array(['female', 'male'], dtype=object)]"
            ]
          },
          "metadata": {},
          "execution_count": 7
        }
      ]
    },
    {
      "cell_type": "code",
      "source": [
        "x_train, x_test, y_train, y_test = train_test_split(X, Y,test_size=0.15, random_state=30, shuffle=True,stratify=Y)\n",
        "x_train.shape, y_train.shape, x_test.shape, y_test.shape"
      ],
      "metadata": {
        "colab": {
          "base_uri": "https://localhost:8080/"
        },
        "id": "RjHJu8Bbd1_v",
        "outputId": "f5eb1e20-d962-4924-dab3-9070c1bacced"
      },
      "execution_count": 8,
      "outputs": [
        {
          "output_type": "execute_result",
          "data": {
            "text/plain": [
              "((26846, 2376), (26846, 2), (4738, 2376), (4738, 2))"
            ]
          },
          "metadata": {},
          "execution_count": 8
        }
      ]
    },
    {
      "cell_type": "code",
      "source": [
        "scaler = StandardScaler()"
      ],
      "metadata": {
        "id": "J1qK3Kqmd7-8"
      },
      "execution_count": 9,
      "outputs": []
    },
    {
      "cell_type": "code",
      "source": [
        "x_test, x_val, y_test, y_val = train_test_split(x_test, y_test, random_state=30, test_size=0.25, shuffle=True,stratify=y_test)\n",
        "x_train.shape, x_test.shape, x_val.shape, x_train.shape, x_test.shape, x_val.shape"
      ],
      "metadata": {
        "colab": {
          "base_uri": "https://localhost:8080/"
        },
        "id": "PrRqczOnd-us",
        "outputId": "de364d37-f8d5-44c4-991a-8e2e43e8a26d"
      },
      "execution_count": 10,
      "outputs": [
        {
          "output_type": "execute_result",
          "data": {
            "text/plain": [
              "((26846, 2376),\n",
              " (3553, 2376),\n",
              " (1185, 2376),\n",
              " (26846, 2376),\n",
              " (3553, 2376),\n",
              " (1185, 2376))"
            ]
          },
          "metadata": {},
          "execution_count": 10
        }
      ]
    },
    {
      "cell_type": "code",
      "source": [
        "x_train = scaler.fit_transform(x_train)\n",
        "x_val=scaler.transform(x_val)\n",
        "x_test = scaler.transform(x_test)\n",
        "\n",
        "x_train.shape, y_train.shape, x_test.shape, y_test.shape"
      ],
      "metadata": {
        "colab": {
          "base_uri": "https://localhost:8080/"
        },
        "id": "YDil1kWxeBYv",
        "outputId": "3e8c0d3c-5945-4250-aae9-9910664e0ff7"
      },
      "execution_count": 11,
      "outputs": [
        {
          "output_type": "execute_result",
          "data": {
            "text/plain": [
              "((26846, 2376), (26846, 2), (3553, 2376), (3553, 2))"
            ]
          },
          "metadata": {},
          "execution_count": 11
        }
      ]
    },
    {
      "cell_type": "code",
      "source": [
        "x_train = np.expand_dims(x_train, axis=2)\n",
        "x_test = np.expand_dims(x_test, axis=2)\n",
        "x_val = np.expand_dims(x_val, axis=2)\n",
        "x_train.shape, y_train.shape, x_test.shape, y_test.shape"
      ],
      "metadata": {
        "colab": {
          "base_uri": "https://localhost:8080/"
        },
        "id": "1hTWiHhWeDV1",
        "outputId": "68905fef-8eb6-4b96-a2d6-7d18db537e1b"
      },
      "execution_count": 12,
      "outputs": [
        {
          "output_type": "execute_result",
          "data": {
            "text/plain": [
              "((26846, 2376, 1), (26846, 2), (3553, 2376, 1), (3553, 2))"
            ]
          },
          "metadata": {},
          "execution_count": 12
        }
      ]
    },
    {
      "cell_type": "code",
      "source": [
        "optimizer = keras.optimizers.Adam(lr=0.0005)"
      ],
      "metadata": {
        "colab": {
          "base_uri": "https://localhost:8080/"
        },
        "id": "iv1eDU0CeFCl",
        "outputId": "91946bf8-580f-410d-f1a0-5a7c6a79a543"
      },
      "execution_count": 13,
      "outputs": [
        {
          "output_type": "stream",
          "name": "stderr",
          "text": [
            "/usr/local/lib/python3.10/dist-packages/keras/optimizers/legacy/adam.py:117: UserWarning: The `lr` argument is deprecated, use `learning_rate` instead.\n",
            "  super().__init__(name, **kwargs)\n"
          ]
        }
      ]
    },
    {
      "cell_type": "code",
      "source": [
        "model=Sequential()\n",
        "\n",
        "model.add(Conv1D(256, kernel_size=5, strides=1, padding='same', activation='relu', input_shape=(x_train.shape[1], 1)))\n",
        "model.add(BatchNormalization())\n",
        "model.add(MaxPooling1D(pool_size=5, strides = 2, padding = 'same'))\n",
        "\n",
        "model.add(Conv1D(256, kernel_size=5, strides=1, padding='same', activation='relu'))\n",
        "model.add(BatchNormalization())\n",
        "model.add(MaxPooling1D(pool_size=5, strides = 2, padding = 'same'))\n",
        "\n",
        "model.add(Conv1D(128, kernel_size=5, strides=1, padding='same', activation='relu'))\n",
        "model.add(BatchNormalization())\n",
        "model.add(MaxPooling1D(pool_size=5, strides = 2, padding = 'same'))\n",
        "model.add(Dropout(0.2))\n",
        "\n",
        "model.add(Conv1D(64, kernel_size=5, strides=1, padding='same', activation='relu'))\n",
        "model.add(BatchNormalization())\n",
        "model.add(MaxPooling1D(pool_size=5, strides = 2, padding = 'same'))\n",
        "\n",
        "model.add(Flatten())\n",
        "model.add(Dense(32, activation='relu'))\n",
        "model.add(BatchNormalization())\n",
        "model.add(Dropout(0.25))\n",
        "\n",
        "model.add(Dense(2, activation='softmax'))\n",
        "model.compile(optimizer = 'Adam' , loss = 'categorical_crossentropy' , metrics = ['accuracy'])\n",
        "\n",
        "model.summary()"
      ],
      "metadata": {
        "colab": {
          "base_uri": "https://localhost:8080/"
        },
        "id": "MRmrsfS0eGj0",
        "outputId": "11b87b26-d2c5-44bc-b38b-87dbeeef8912"
      },
      "execution_count": 14,
      "outputs": [
        {
          "output_type": "stream",
          "name": "stdout",
          "text": [
            "Model: \"sequential\"\n",
            "_________________________________________________________________\n",
            " Layer (type)                Output Shape              Param #   \n",
            "=================================================================\n",
            " conv1d (Conv1D)             (None, 2376, 256)         1536      \n",
            "                                                                 \n",
            " batch_normalization (BatchN  (None, 2376, 256)        1024      \n",
            " ormalization)                                                   \n",
            "                                                                 \n",
            " max_pooling1d (MaxPooling1D  (None, 1188, 256)        0         \n",
            " )                                                               \n",
            "                                                                 \n",
            " conv1d_1 (Conv1D)           (None, 1188, 256)         327936    \n",
            "                                                                 \n",
            " batch_normalization_1 (Batc  (None, 1188, 256)        1024      \n",
            " hNormalization)                                                 \n",
            "                                                                 \n",
            " max_pooling1d_1 (MaxPooling  (None, 594, 256)         0         \n",
            " 1D)                                                             \n",
            "                                                                 \n",
            " conv1d_2 (Conv1D)           (None, 594, 128)          163968    \n",
            "                                                                 \n",
            " batch_normalization_2 (Batc  (None, 594, 128)         512       \n",
            " hNormalization)                                                 \n",
            "                                                                 \n",
            " max_pooling1d_2 (MaxPooling  (None, 297, 128)         0         \n",
            " 1D)                                                             \n",
            "                                                                 \n",
            " dropout (Dropout)           (None, 297, 128)          0         \n",
            "                                                                 \n",
            " conv1d_3 (Conv1D)           (None, 297, 64)           41024     \n",
            "                                                                 \n",
            " batch_normalization_3 (Batc  (None, 297, 64)          256       \n",
            " hNormalization)                                                 \n",
            "                                                                 \n",
            " max_pooling1d_3 (MaxPooling  (None, 149, 64)          0         \n",
            " 1D)                                                             \n",
            "                                                                 \n",
            " flatten (Flatten)           (None, 9536)              0         \n",
            "                                                                 \n",
            " dense (Dense)               (None, 32)                305184    \n",
            "                                                                 \n",
            " batch_normalization_4 (Batc  (None, 32)               128       \n",
            " hNormalization)                                                 \n",
            "                                                                 \n",
            " dropout_1 (Dropout)         (None, 32)                0         \n",
            "                                                                 \n",
            " dense_1 (Dense)             (None, 2)                 66        \n",
            "                                                                 \n",
            "=================================================================\n",
            "Total params: 842,658\n",
            "Trainable params: 841,186\n",
            "Non-trainable params: 1,472\n",
            "_________________________________________________________________\n"
          ]
        }
      ]
    },
    {
      "cell_type": "code",
      "source": [
        "learning_rate_reduction = ReduceLROnPlateau(monitor='val_accuracy',\n",
        "                                            patience=3,\n",
        "                                            verbose=1,\n",
        "                                            factor=0.5,\n",
        "                                            min_lr=0.00001)\n",
        "early_stop = EarlyStopping(monitor='val_accuracy', mode='auto', patience=5, start_from_epoch=20)\n",
        "callbacks=[learning_rate_reduction,early_stop]\n",
        "\n"
      ],
      "metadata": {
        "id": "wCNqL_9UeJ-R"
      },
      "execution_count": 15,
      "outputs": []
    },
    {
      "cell_type": "code",
      "source": [
        "history=model.fit(x_train, y_train, batch_size=32, epochs=100, validation_data=(x_val, y_val), callbacks=callbacks)"
      ],
      "metadata": {
        "colab": {
          "base_uri": "https://localhost:8080/"
        },
        "id": "T5anQ6oueN9N",
        "outputId": "26a79545-1094-419d-851d-e063d00f4f05"
      },
      "execution_count": 16,
      "outputs": [
        {
          "output_type": "stream",
          "name": "stdout",
          "text": [
            "Epoch 1/100\n",
            "839/839 [==============================] - 76s 70ms/step - loss: 0.4865 - accuracy: 0.7727 - val_loss: 0.3971 - val_accuracy: 0.8152 - lr: 0.0010\n",
            "Epoch 2/100\n",
            "839/839 [==============================] - 55s 65ms/step - loss: 0.3163 - accuracy: 0.8662 - val_loss: 0.2608 - val_accuracy: 0.8937 - lr: 0.0010\n",
            "Epoch 3/100\n",
            "839/839 [==============================] - 54s 65ms/step - loss: 0.2856 - accuracy: 0.8804 - val_loss: 0.2447 - val_accuracy: 0.8987 - lr: 0.0010\n",
            "Epoch 4/100\n",
            "839/839 [==============================] - 54s 65ms/step - loss: 0.2475 - accuracy: 0.9000 - val_loss: 0.2221 - val_accuracy: 0.9122 - lr: 0.0010\n",
            "Epoch 5/100\n",
            "839/839 [==============================] - 55s 65ms/step - loss: 0.2291 - accuracy: 0.9057 - val_loss: 0.2774 - val_accuracy: 0.8835 - lr: 0.0010\n",
            "Epoch 6/100\n",
            "839/839 [==============================] - 54s 65ms/step - loss: 0.2063 - accuracy: 0.9173 - val_loss: 0.3690 - val_accuracy: 0.8354 - lr: 0.0010\n",
            "Epoch 7/100\n",
            "839/839 [==============================] - ETA: 0s - loss: 0.1912 - accuracy: 0.9233\n",
            "Epoch 7: ReduceLROnPlateau reducing learning rate to 0.0005000000237487257.\n",
            "839/839 [==============================] - 54s 65ms/step - loss: 0.1912 - accuracy: 0.9233 - val_loss: 0.5502 - val_accuracy: 0.7831 - lr: 0.0010\n",
            "Epoch 8/100\n",
            "839/839 [==============================] - 54s 64ms/step - loss: 0.1448 - accuracy: 0.9432 - val_loss: 0.1749 - val_accuracy: 0.9350 - lr: 5.0000e-04\n",
            "Epoch 9/100\n",
            "839/839 [==============================] - 53s 64ms/step - loss: 0.1339 - accuracy: 0.9482 - val_loss: 0.1389 - val_accuracy: 0.9401 - lr: 5.0000e-04\n",
            "Epoch 10/100\n",
            "839/839 [==============================] - 54s 65ms/step - loss: 0.1213 - accuracy: 0.9535 - val_loss: 0.3332 - val_accuracy: 0.8667 - lr: 5.0000e-04\n",
            "Epoch 11/100\n",
            "839/839 [==============================] - 54s 65ms/step - loss: 0.1108 - accuracy: 0.9571 - val_loss: 0.1291 - val_accuracy: 0.9435 - lr: 5.0000e-04\n",
            "Epoch 12/100\n",
            "839/839 [==============================] - 54s 64ms/step - loss: 0.1043 - accuracy: 0.9614 - val_loss: 0.1131 - val_accuracy: 0.9578 - lr: 5.0000e-04\n",
            "Epoch 13/100\n",
            "839/839 [==============================] - 54s 64ms/step - loss: 0.1036 - accuracy: 0.9598 - val_loss: 0.0897 - val_accuracy: 0.9646 - lr: 5.0000e-04\n",
            "Epoch 14/100\n",
            "839/839 [==============================] - 54s 64ms/step - loss: 0.0825 - accuracy: 0.9701 - val_loss: 0.1417 - val_accuracy: 0.9409 - lr: 5.0000e-04\n",
            "Epoch 15/100\n",
            "839/839 [==============================] - 55s 66ms/step - loss: 0.0860 - accuracy: 0.9663 - val_loss: 0.1387 - val_accuracy: 0.9468 - lr: 5.0000e-04\n",
            "Epoch 16/100\n",
            "839/839 [==============================] - ETA: 0s - loss: 0.0763 - accuracy: 0.9720\n",
            "Epoch 16: ReduceLROnPlateau reducing learning rate to 0.0002500000118743628.\n",
            "839/839 [==============================] - 57s 67ms/step - loss: 0.0763 - accuracy: 0.9720 - val_loss: 0.1032 - val_accuracy: 0.9637 - lr: 5.0000e-04\n",
            "Epoch 17/100\n",
            "839/839 [==============================] - 54s 65ms/step - loss: 0.0535 - accuracy: 0.9805 - val_loss: 0.0810 - val_accuracy: 0.9679 - lr: 2.5000e-04\n",
            "Epoch 18/100\n",
            "839/839 [==============================] - 55s 65ms/step - loss: 0.0505 - accuracy: 0.9812 - val_loss: 0.0713 - val_accuracy: 0.9662 - lr: 2.5000e-04\n",
            "Epoch 19/100\n",
            "839/839 [==============================] - 56s 67ms/step - loss: 0.0467 - accuracy: 0.9831 - val_loss: 0.0758 - val_accuracy: 0.9662 - lr: 2.5000e-04\n",
            "Epoch 20/100\n",
            "839/839 [==============================] - 54s 64ms/step - loss: 0.0456 - accuracy: 0.9839 - val_loss: 0.0427 - val_accuracy: 0.9848 - lr: 2.5000e-04\n",
            "Epoch 21/100\n",
            "839/839 [==============================] - 54s 64ms/step - loss: 0.0399 - accuracy: 0.9865 - val_loss: 0.0659 - val_accuracy: 0.9764 - lr: 2.5000e-04\n",
            "Epoch 22/100\n",
            "839/839 [==============================] - 54s 65ms/step - loss: 0.0394 - accuracy: 0.9859 - val_loss: 0.0532 - val_accuracy: 0.9789 - lr: 2.5000e-04\n",
            "Epoch 23/100\n",
            "839/839 [==============================] - ETA: 0s - loss: 0.0366 - accuracy: 0.9867\n",
            "Epoch 23: ReduceLROnPlateau reducing learning rate to 0.0001250000059371814.\n",
            "839/839 [==============================] - 54s 64ms/step - loss: 0.0366 - accuracy: 0.9867 - val_loss: 0.0850 - val_accuracy: 0.9671 - lr: 2.5000e-04\n",
            "Epoch 24/100\n",
            "839/839 [==============================] - 54s 65ms/step - loss: 0.0294 - accuracy: 0.9898 - val_loss: 0.0343 - val_accuracy: 0.9857 - lr: 1.2500e-04\n",
            "Epoch 25/100\n",
            "839/839 [==============================] - 54s 64ms/step - loss: 0.0276 - accuracy: 0.9903 - val_loss: 0.0389 - val_accuracy: 0.9840 - lr: 1.2500e-04\n",
            "Epoch 26/100\n",
            "839/839 [==============================] - 54s 64ms/step - loss: 0.0246 - accuracy: 0.9918 - val_loss: 0.0358 - val_accuracy: 0.9873 - lr: 1.2500e-04\n",
            "Epoch 27/100\n",
            "839/839 [==============================] - 53s 64ms/step - loss: 0.0228 - accuracy: 0.9922 - val_loss: 0.0256 - val_accuracy: 0.9907 - lr: 1.2500e-04\n",
            "Epoch 28/100\n",
            "839/839 [==============================] - 53s 64ms/step - loss: 0.0215 - accuracy: 0.9928 - val_loss: 0.0271 - val_accuracy: 0.9899 - lr: 1.2500e-04\n",
            "Epoch 29/100\n",
            "839/839 [==============================] - 54s 64ms/step - loss: 0.0237 - accuracy: 0.9920 - val_loss: 0.0306 - val_accuracy: 0.9882 - lr: 1.2500e-04\n",
            "Epoch 30/100\n",
            "839/839 [==============================] - ETA: 0s - loss: 0.0213 - accuracy: 0.9927\n",
            "Epoch 30: ReduceLROnPlateau reducing learning rate to 6.25000029685907e-05.\n",
            "839/839 [==============================] - 54s 64ms/step - loss: 0.0213 - accuracy: 0.9927 - val_loss: 0.0280 - val_accuracy: 0.9873 - lr: 1.2500e-04\n",
            "Epoch 31/100\n",
            "839/839 [==============================] - 54s 64ms/step - loss: 0.0183 - accuracy: 0.9940 - val_loss: 0.0394 - val_accuracy: 0.9840 - lr: 6.2500e-05\n",
            "Epoch 32/100\n",
            "839/839 [==============================] - 53s 64ms/step - loss: 0.0153 - accuracy: 0.9949 - val_loss: 0.0237 - val_accuracy: 0.9907 - lr: 6.2500e-05\n"
          ]
        }
      ]
    },
    {
      "cell_type": "code",
      "source": [
        "print(\"Accuracy of our model on test data : \" , model.evaluate(x_test,y_test)[1]*100 , \"%\")"
      ],
      "metadata": {
        "colab": {
          "base_uri": "https://localhost:8080/"
        },
        "id": "QF3tbzkdePxW",
        "outputId": "d593aab7-2710-4fd4-a76d-5827e9dea947"
      },
      "execution_count": 17,
      "outputs": [
        {
          "output_type": "stream",
          "name": "stdout",
          "text": [
            "112/112 [==============================] - 2s 19ms/step - loss: 0.0254 - accuracy: 0.9901\n",
            "Accuracy of our model on test data :  99.01491403579712 %\n"
          ]
        }
      ]
    },
    {
      "cell_type": "code",
      "source": [
        "epochs = [i for i in range(early_stop.stopped_epoch+1) ]\n",
        "fig , ax = plt.subplots(1,2)\n",
        "train_acc = history.history['accuracy']\n",
        "train_loss = history.history['loss']\n",
        "test_acc = history.history['val_accuracy']\n",
        "test_loss = history.history['val_loss']\n",
        "\n",
        "fig.set_size_inches(20,6)\n",
        "ax[0].plot(epochs , train_loss , label = 'Training Loss')\n",
        "ax[0].plot(epochs , test_loss , label = 'Testing Loss')\n",
        "ax[0].set_title('Training & Testing Loss')\n",
        "ax[0].legend()\n",
        "ax[0].set_xlabel(\"Epochs\")\n",
        "\n",
        "ax[1].plot(epochs , train_acc , label = 'Training Accuracy')\n",
        "ax[1].plot(epochs , test_acc , label = 'Testing Accuracy')\n",
        "ax[1].set_title('Training & Testing Accuracy')\n",
        "ax[1].legend()\n",
        "ax[1].set_xlabel(\"Epochs\")\n",
        "plt.show()"
      ],
      "metadata": {
        "colab": {
          "base_uri": "https://localhost:8080/",
          "height": 337
        },
        "id": "A7DJGmuJeTyf",
        "outputId": "744a93f7-0784-40da-b70c-f79fe1a52e09"
      },
      "execution_count": 18,
      "outputs": [
        {
          "output_type": "display_data",
          "data": {
            "text/plain": [
              "<Figure size 2000x600 with 2 Axes>"
            ],
            "image/png": "[encoded data removed]"
          },
          "metadata": {}
        }
      ]
    },
    {
      "cell_type": "code",
      "source": [
        "pred_test = model.predict(x_test)\n",
        "\n",
        "y_pred = encoder.inverse_transform(pred_test)\n",
        "\n",
        "y_test = encoder.inverse_transform(y_test)"
      ],
      "metadata": {
        "colab": {
          "base_uri": "https://localhost:8080/"
        },
        "id": "N5CQA9JneWHK",
        "outputId": "e78376c8-bc35-40bf-9114-992dd5c4682a"
      },
      "execution_count": 19,
      "outputs": [
        {
          "output_type": "stream",
          "name": "stdout",
          "text": [
            "112/112 [==============================] - 2s 17ms/step\n"
          ]
        }
      ]
    },
    {
      "cell_type": "code",
      "source": [
        "pred_test=model.predict(x_test)"
      ],
      "metadata": {
        "colab": {
          "base_uri": "https://localhost:8080/"
        },
        "id": "m6ubNfE5eYIk",
        "outputId": "21bd4de2-de4c-443f-ab56-737ae9f63a67"
      },
      "execution_count": 20,
      "outputs": [
        {
          "output_type": "stream",
          "name": "stdout",
          "text": [
            "112/112 [==============================] - 2s 17ms/step\n"
          ]
        }
      ]
    },
    {
      "cell_type": "code",
      "source": [
        "df_temp = pd.DataFrame(columns=['Predicted Labels', 'Actual Labels'])\n",
        "df_temp['Predicted Labels'] = y_pred.flatten()\n",
        "df_temp['Actual Labels'] = y_test.flatten()"
      ],
      "metadata": {
        "id": "WCGVzToHeZg9"
      },
      "execution_count": 21,
      "outputs": []
    },
    {
      "cell_type": "code",
      "source": [
        "cm = confusion_matrix(y_test, y_pred)\n",
        "plt.figure(figsize = (12, 10))\n",
        "cm = pd.DataFrame(cm , index = [i for i in encoder.categories_] , columns = [i for i in encoder.categories_])\n",
        "sns.heatmap(cm, linecolor='white', cmap='Blues', linewidth=1, annot=True, fmt='')\n",
        "plt.title('Confusion Matrix', size=20)\n",
        "plt.xlabel('Predicted Labels', size=14)\n",
        "plt.ylabel('Actual Labels', size=14)\n",
        "plt.show()"
      ],
      "metadata": {
        "colab": {
          "base_uri": "https://localhost:8080/",
          "height": 881
        },
        "id": "UMqV4nSMebKZ",
        "outputId": "21c7e733-15b2-4cf9-fb4f-ec5a45b96e76"
      },
      "execution_count": 22,
      "outputs": [
        {
          "output_type": "display_data",
          "data": {
            "text/plain": [
              "<Figure size 1200x1000 with 2 Axes>"
            ],
            "image/png": "[encoded data removed]"
          },
          "metadata": {}
        }
      ]
    },
    {
      "cell_type": "code",
      "source": [
        "print(classification_report(y_test, y_pred, target_names=['male','female']))"
      ],
      "metadata": {
        "colab": {
          "base_uri": "https://localhost:8080/"
        },
        "id": "cSVhtYgdecu2",
        "outputId": "53f6bd04-5fcb-4d27-98a5-8ae4d444e083"
      },
      "execution_count": 23,
      "outputs": [
        {
          "output_type": "stream",
          "name": "stdout",
          "text": [
            "              precision    recall  f1-score   support\n",
            "\n",
            "        male       0.99      0.99      0.99      1696\n",
            "      female       0.99      0.99      0.99      1857\n",
            "\n",
            "    accuracy                           0.99      3553\n",
            "   macro avg       0.99      0.99      0.99      3553\n",
            "weighted avg       0.99      0.99      0.99      3553\n",
            "\n"
          ]
        }
      ]
    },
    {
      "cell_type": "markdown",
      "source": [
        "## From voice features and predicted gender, predict age"
      ],
      "metadata": {
        "id": "s19FN11HhVxT"
      }
    },
    {
      "cell_type": "code",
      "source": [
        "Features = pd.read_csv('/content/drive/MyDrive/Prism/features_age_final.csv')"
      ],
      "metadata": {
        "id": "HCRlLC01eiz-"
      },
      "execution_count": 24,
      "outputs": []
    },
    {
      "cell_type": "code",
      "source": [
        "Features = Features.fillna(0)\n",
        "print(Features.isna().any())\n",
        "Features.shape"
      ],
      "metadata": {
        "colab": {
          "base_uri": "https://localhost:8080/"
        },
        "id": "HNpqxGtwhuF4",
        "outputId": "824d9e65-b23c-4677-b233-7e47066d7502"
      },
      "execution_count": 25,
      "outputs": [
        {
          "output_type": "stream",
          "name": "stdout",
          "text": [
            "0         False\n",
            "1         False\n",
            "2         False\n",
            "3         False\n",
            "4         False\n",
            "          ...  \n",
            "2372      False\n",
            "2373      False\n",
            "2374      False\n",
            "2375      False\n",
            "labels    False\n",
            "Length: 2377, dtype: bool\n"
          ]
        },
        {
          "output_type": "execute_result",
          "data": {
            "text/plain": [
              "(20228, 2377)"
            ]
          },
          "metadata": {},
          "execution_count": 25
        }
      ]
    },
    {
      "cell_type": "code",
      "source": [
        "X = Features.iloc[: ,:-1].values\n",
        "Y = Features['labels'].values"
      ],
      "metadata": {
        "id": "pF5CqXnniCNa"
      },
      "execution_count": 26,
      "outputs": []
    },
    {
      "cell_type": "code",
      "source": [
        "scaler = StandardScaler()\n",
        "X1 = scaler.fit_transform(X)\n",
        "X1 = np.expand_dims(X1, axis=2)"
      ],
      "metadata": {
        "id": "Tmtpg7A2iEbw"
      },
      "execution_count": 27,
      "outputs": []
    },
    {
      "cell_type": "code",
      "source": [
        "Z=model.predict(X1)"
      ],
      "metadata": {
        "colab": {
          "base_uri": "https://localhost:8080/"
        },
        "id": "_rMn6oZdiHad",
        "outputId": "613642fb-45b7-4e3c-f285-fbd69873e21a"
      },
      "execution_count": 28,
      "outputs": [
        {
          "output_type": "stream",
          "name": "stdout",
          "text": [
            "633/633 [==============================] - 11s 17ms/step\n"
          ]
        }
      ]
    },
    {
      "cell_type": "code",
      "source": [
        "Z = encoder.inverse_transform(Z)"
      ],
      "metadata": {
        "id": "UsQ7k0OaiJ1h"
      },
      "execution_count": 29,
      "outputs": []
    },
    {
      "cell_type": "code",
      "source": [
        "Z = Z.flatten()"
      ],
      "metadata": {
        "id": "LAtl2nXCiMXU"
      },
      "execution_count": 30,
      "outputs": []
    },
    {
      "cell_type": "code",
      "source": [
        "Features = pd.DataFrame(X)\n",
        "Features['predicted emotion'] = Z\n",
        "Features['labels'] = Y"
      ],
      "metadata": {
        "id": "JdqF5-ahiOGe"
      },
      "execution_count": 31,
      "outputs": []
    },
    {
      "cell_type": "code",
      "source": [
        "Features"
      ],
      "metadata": {
        "colab": {
          "base_uri": "https://localhost:8080/",
          "height": 505
        },
        "id": "0nDDGHLziP2C",
        "outputId": "8306a120-48a0-4369-a437-26a8a1e93345"
      },
      "execution_count": 32,
      "outputs": [
        {
          "output_type": "execute_result",
          "data": {
            "text/plain": [
              "              0         1         2         3         4         5         6  \\\n",
              "0      0.032715  0.059570  0.076660  0.065918  0.053223  0.031738  0.019531   \n",
              "1      0.035645  0.064453  0.087402  0.078125  0.065918  0.047363  0.035156   \n",
              "2      0.036621  0.057617  0.082031  0.076660  0.060547  0.044922  0.025879   \n",
              "3      0.037598  0.057617  0.083008  0.077637  0.060547  0.045898  0.026855   \n",
              "4      0.014648  0.026367  0.039062  0.043457  0.043945  0.039551  0.067383   \n",
              "...         ...       ...       ...       ...       ...       ...       ...   \n",
              "20223  0.020020  0.040527  0.060059  0.062500  0.058105  0.046875  0.037598   \n",
              "20224  0.010742  0.017578  0.023926  0.027344  0.033691  0.050293  0.069824   \n",
              "20225  0.040039  0.070801  0.101074  0.104004  0.115723  0.110840  0.106934   \n",
              "20226  0.011719  0.019043  0.024414  0.031250  0.048340  0.070312  0.087891   \n",
              "20227  0.027344  0.040527  0.053711  0.064453  0.078613  0.094727  0.104492   \n",
              "\n",
              "              7         8         9  ...  2368  2369  2370  2371  2372  2373  \\\n",
              "0      0.020508  0.020508  0.023926  ...   0.0   0.0   0.0   0.0   0.0   0.0   \n",
              "1      0.041016  0.042969  0.041504  ...   0.0   0.0   0.0   0.0   0.0   0.0   \n",
              "2      0.020996  0.024414  0.028320  ...   0.0   0.0   0.0   0.0   0.0   0.0   \n",
              "3      0.021973  0.025391  0.028320  ...   0.0   0.0   0.0   0.0   0.0   0.0   \n",
              "4      0.098633  0.099121  0.107910  ...   0.0   0.0   0.0   0.0   0.0   0.0   \n",
              "...         ...       ...       ...  ...   ...   ...   ...   ...   ...   ...   \n",
              "20223  0.042480  0.044922  0.047363  ...   0.0   0.0   0.0   0.0   0.0   0.0   \n",
              "20224  0.083984  0.093750  0.086914  ...   0.0   0.0   0.0   0.0   0.0   0.0   \n",
              "20225  0.105469  0.096680  0.087891  ...   0.0   0.0   0.0   0.0   0.0   0.0   \n",
              "20226  0.099609  0.093262  0.080078  ...   0.0   0.0   0.0   0.0   0.0   0.0   \n",
              "20227  0.103516  0.094238  0.081055  ...   0.0   0.0   0.0   0.0   0.0   0.0   \n",
              "\n",
              "       2374  2375  predicted emotion    labels  \n",
              "0       0.0   0.0               male  thirties  \n",
              "1       0.0   0.0               male  thirties  \n",
              "2       0.0   0.0             female  thirties  \n",
              "3       0.0   0.0             female  thirties  \n",
              "4       0.0   0.0               male  thirties  \n",
              "...     ...   ...                ...       ...  \n",
              "20223   0.0   0.0             female  twenties  \n",
              "20224   0.0   0.0             female  twenties  \n",
              "20225   0.0   0.0             female  twenties  \n",
              "20226   0.0   0.0             female  twenties  \n",
              "20227   0.0   0.0             female  twenties  \n",
              "\n",
              "[20228 rows x 2378 columns]"
            ],
            "text/html": [
              "\n",
              "\n",
              "  <div id=\"df-cd7757f8-8da9-4ad4-b0cf-70ac6a0d64fe\">\n",
              "    <div class=\"colab-df-container\">\n",
              "      <div>\n",
              "<style scoped>\n",
              "    .dataframe tbody tr th:only-of-type {\n",
              "        vertical-align: middle;\n",
              "    }\n",
              "\n",
              "    .dataframe tbody tr th {\n",
              "        vertical-align: top;\n",
              "    }\n",
              "\n",
              "    .dataframe thead th {\n",
              "        text-align: right;\n",
              "    }\n",
              "</style>\n",
              "<table border=\"1\" class=\"dataframe\">\n",
              "  <thead>\n",
              "    <tr style=\"text-align: right;\">\n",
              "      <th></th>\n",
              "      <th>0</th>\n",
              "      <th>1</th>\n",
              "      <th>2</th>\n",
              "      <th>3</th>\n",
              "      <th>4</th>\n",
              "      <th>5</th>\n",
              "      <th>6</th>\n",
              "      <th>7</th>\n",
              "      <th>8</th>\n",
              "      <th>9</th>\n",
              "      <th>...</th>\n",
              "      <th>2368</th>\n",
              "      <th>2369</th>\n",
              "      <th>2370</th>\n",
              "      <th>2371</th>\n",
              "      <th>2372</th>\n",
              "      <th>2373</th>\n",
              "      <th>2374</th>\n",
              "      <th>2375</th>\n",
              "      <th>predicted emotion</th>\n",
              "      <th>labels</th>\n",
              "    </tr>\n",
              "  </thead>\n",
              "  <tbody>\n",
              "    <tr>\n",
              "      <th>0</th>\n",
              "      <td>0.032715</td>\n",
              "      <td>0.059570</td>\n",
              "      <td>0.076660</td>\n",
              "      <td>0.065918</td>\n",
              "      <td>0.053223</td>\n",
              "      <td>0.031738</td>\n",
              "      <td>0.019531</td>\n",
              "      <td>0.020508</td>\n",
              "      <td>0.020508</td>\n",
              "      <td>0.023926</td>\n",
              "      <td>...</td>\n",
              "      <td>0.0</td>\n",
              "      <td>0.0</td>\n",
              "      <td>0.0</td>\n",
              "      <td>0.0</td>\n",
              "      <td>0.0</td>\n",
              "      <td>0.0</td>\n",
              "      <td>0.0</td>\n",
              "      <td>0.0</td>\n",
              "      <td>male</td>\n",
              "      <td>thirties</td>\n",
              "    </tr>\n",
              "    <tr>\n",
              "      <th>1</th>\n",
              "      <td>0.035645</td>\n",
              "      <td>0.064453</td>\n",
              "      <td>0.087402</td>\n",
              "      <td>0.078125</td>\n",
              "      <td>0.065918</td>\n",
              "      <td>0.047363</td>\n",
              "      <td>0.035156</td>\n",
              "      <td>0.041016</td>\n",
              "      <td>0.042969</td>\n",
              "      <td>0.041504</td>\n",
              "      <td>...</td>\n",
              "      <td>0.0</td>\n",
              "      <td>0.0</td>\n",
              "      <td>0.0</td>\n",
              "      <td>0.0</td>\n",
              "      <td>0.0</td>\n",
              "      <td>0.0</td>\n",
              "      <td>0.0</td>\n",
              "      <td>0.0</td>\n",
              "      <td>male</td>\n",
              "      <td>thirties</td>\n",
              "    </tr>\n",
              "    <tr>\n",
              "      <th>2</th>\n",
              "      <td>0.036621</td>\n",
              "      <td>0.057617</td>\n",
              "      <td>0.082031</td>\n",
              "      <td>0.076660</td>\n",
              "      <td>0.060547</td>\n",
              "      <td>0.044922</td>\n",
              "      <td>0.025879</td>\n",
              "      <td>0.020996</td>\n",
              "      <td>0.024414</td>\n",
              "      <td>0.028320</td>\n",
              "      <td>...</td>\n",
              "      <td>0.0</td>\n",
              "      <td>0.0</td>\n",
              "      <td>0.0</td>\n",
              "      <td>0.0</td>\n",
              "      <td>0.0</td>\n",
              "      <td>0.0</td>\n",
              "      <td>0.0</td>\n",
              "      <td>0.0</td>\n",
              "      <td>female</td>\n",
              "      <td>thirties</td>\n",
              "    </tr>\n",
              "    <tr>\n",
              "      <th>3</th>\n",
              "      <td>0.037598</td>\n",
              "      <td>0.057617</td>\n",
              "      <td>0.083008</td>\n",
              "      <td>0.077637</td>\n",
              "      <td>0.060547</td>\n",
              "      <td>0.045898</td>\n",
              "      <td>0.026855</td>\n",
              "      <td>0.021973</td>\n",
              "      <td>0.025391</td>\n",
              "      <td>0.028320</td>\n",
              "      <td>...</td>\n",
              "      <td>0.0</td>\n",
              "      <td>0.0</td>\n",
              "      <td>0.0</td>\n",
              "      <td>0.0</td>\n",
              "      <td>0.0</td>\n",
              "      <td>0.0</td>\n",
              "      <td>0.0</td>\n",
              "      <td>0.0</td>\n",
              "      <td>female</td>\n",
              "      <td>thirties</td>\n",
              "    </tr>\n",
              "    <tr>\n",
              "      <th>4</th>\n",
              "      <td>0.014648</td>\n",
              "      <td>0.026367</td>\n",
              "      <td>0.039062</td>\n",
              "      <td>0.043457</td>\n",
              "      <td>0.043945</td>\n",
              "      <td>0.039551</td>\n",
              "      <td>0.067383</td>\n",
              "      <td>0.098633</td>\n",
              "      <td>0.099121</td>\n",
              "      <td>0.107910</td>\n",
              "      <td>...</td>\n",
              "      <td>0.0</td>\n",
              "      <td>0.0</td>\n",
              "      <td>0.0</td>\n",
              "      <td>0.0</td>\n",
              "      <td>0.0</td>\n",
              "      <td>0.0</td>\n",
              "      <td>0.0</td>\n",
              "      <td>0.0</td>\n",
              "      <td>male</td>\n",
              "      <td>thirties</td>\n",
              "    </tr>\n",
              "    <tr>\n",
              "      <th>...</th>\n",
              "      <td>...</td>\n",
              "      <td>...</td>\n",
              "      <td>...</td>\n",
              "      <td>...</td>\n",
              "      <td>...</td>\n",
              "      <td>...</td>\n",
              "      <td>...</td>\n",
              "      <td>...</td>\n",
              "      <td>...</td>\n",
              "      <td>...</td>\n",
              "      <td>...</td>\n",
              "      <td>...</td>\n",
              "      <td>...</td>\n",
              "      <td>...</td>\n",
              "      <td>...</td>\n",
              "      <td>...</td>\n",
              "      <td>...</td>\n",
              "      <td>...</td>\n",
              "      <td>...</td>\n",
              "      <td>...</td>\n",
              "      <td>...</td>\n",
              "    </tr>\n",
              "    <tr>\n",
              "      <th>20223</th>\n",
              "      <td>0.020020</td>\n",
              "      <td>0.040527</td>\n",
              "      <td>0.060059</td>\n",
              "      <td>0.062500</td>\n",
              "      <td>0.058105</td>\n",
              "      <td>0.046875</td>\n",
              "      <td>0.037598</td>\n",
              "      <td>0.042480</td>\n",
              "      <td>0.044922</td>\n",
              "      <td>0.047363</td>\n",
              "      <td>...</td>\n",
              "      <td>0.0</td>\n",
              "      <td>0.0</td>\n",
              "      <td>0.0</td>\n",
              "      <td>0.0</td>\n",
              "      <td>0.0</td>\n",
              "      <td>0.0</td>\n",
              "      <td>0.0</td>\n",
              "      <td>0.0</td>\n",
              "      <td>female</td>\n",
              "      <td>twenties</td>\n",
              "    </tr>\n",
              "    <tr>\n",
              "      <th>20224</th>\n",
              "      <td>0.010742</td>\n",
              "      <td>0.017578</td>\n",
              "      <td>0.023926</td>\n",
              "      <td>0.027344</td>\n",
              "      <td>0.033691</td>\n",
              "      <td>0.050293</td>\n",
              "      <td>0.069824</td>\n",
              "      <td>0.083984</td>\n",
              "      <td>0.093750</td>\n",
              "      <td>0.086914</td>\n",
              "      <td>...</td>\n",
              "      <td>0.0</td>\n",
              "      <td>0.0</td>\n",
              "      <td>0.0</td>\n",
              "      <td>0.0</td>\n",
              "      <td>0.0</td>\n",
              "      <td>0.0</td>\n",
              "      <td>0.0</td>\n",
              "      <td>0.0</td>\n",
              "      <td>female</td>\n",
              "      <td>twenties</td>\n",
              "    </tr>\n",
              "    <tr>\n",
              "      <th>20225</th>\n",
              "      <td>0.040039</td>\n",
              "      <td>0.070801</td>\n",
              "      <td>0.101074</td>\n",
              "      <td>0.104004</td>\n",
              "      <td>0.115723</td>\n",
              "      <td>0.110840</td>\n",
              "      <td>0.106934</td>\n",
              "      <td>0.105469</td>\n",
              "      <td>0.096680</td>\n",
              "      <td>0.087891</td>\n",
              "      <td>...</td>\n",
              "      <td>0.0</td>\n",
              "      <td>0.0</td>\n",
              "      <td>0.0</td>\n",
              "      <td>0.0</td>\n",
              "      <td>0.0</td>\n",
              "      <td>0.0</td>\n",
              "      <td>0.0</td>\n",
              "      <td>0.0</td>\n",
              "      <td>female</td>\n",
              "      <td>twenties</td>\n",
              "    </tr>\n",
              "    <tr>\n",
              "      <th>20226</th>\n",
              "      <td>0.011719</td>\n",
              "      <td>0.019043</td>\n",
              "      <td>0.024414</td>\n",
              "      <td>0.031250</td>\n",
              "      <td>0.048340</td>\n",
              "      <td>0.070312</td>\n",
              "      <td>0.087891</td>\n",
              "      <td>0.099609</td>\n",
              "      <td>0.093262</td>\n",
              "      <td>0.080078</td>\n",
              "      <td>...</td>\n",
              "      <td>0.0</td>\n",
              "      <td>0.0</td>\n",
              "      <td>0.0</td>\n",
              "      <td>0.0</td>\n",
              "      <td>0.0</td>\n",
              "      <td>0.0</td>\n",
              "      <td>0.0</td>\n",
              "      <td>0.0</td>\n",
              "      <td>female</td>\n",
              "      <td>twenties</td>\n",
              "    </tr>\n",
              "    <tr>\n",
              "      <th>20227</th>\n",
              "      <td>0.027344</td>\n",
              "      <td>0.040527</td>\n",
              "      <td>0.053711</td>\n",
              "      <td>0.064453</td>\n",
              "      <td>0.078613</td>\n",
              "      <td>0.094727</td>\n",
              "      <td>0.104492</td>\n",
              "      <td>0.103516</td>\n",
              "      <td>0.094238</td>\n",
              "      <td>0.081055</td>\n",
              "      <td>...</td>\n",
              "      <td>0.0</td>\n",
              "      <td>0.0</td>\n",
              "      <td>0.0</td>\n",
              "      <td>0.0</td>\n",
              "      <td>0.0</td>\n",
              "      <td>0.0</td>\n",
              "      <td>0.0</td>\n",
              "      <td>0.0</td>\n",
              "      <td>female</td>\n",
              "      <td>twenties</td>\n",
              "    </tr>\n",
              "  </tbody>\n",
              "</table>\n",
              "<p>20228 rows × 2378 columns</p>\n",
              "</div>\n",
              "      <button class=\"colab-df-convert\" onclick=\"convertToInteractive('df-cd7757f8-8da9-4ad4-b0cf-70ac6a0d64fe')\"\n",
              "              title=\"Convert this dataframe to an interactive table.\"\n",
              "              style=\"display:none;\">\n",
              "\n",
              "  <svg xmlns=\"http://www.w3.org/2000/svg\" height=\"24px\"viewBox=\"0 0 24 24\"\n",
              "       width=\"24px\">\n",
              "    <path d=\"M0 0h24v24H0V0z\" fill=\"none\"/>\n",
              "    <path d=\"M18.56 5.44l.94 2.06.94-2.06 2.06-.94-2.06-.94-.94-2.06-.94 2.06-2.06.94zm-11 1L8.5 8.5l.94-2.06 2.06-.94-2.06-.94L8.5 2.5l-.94 2.06-2.06.94zm10 10l.94 2.06.94-2.06 2.06-.94-2.06-.94-.94-2.06-.94 2.06-2.06.94z\"/><path d=\"M17.41 7.96l-1.37-1.37c-.4-.4-.92-.59-1.43-.59-.52 0-1.04.2-1.43.59L10.3 9.45l-7.72 7.72c-.78.78-.78 2.05 0 2.83L4 21.41c.39.39.9.59 1.41.59.51 0 1.02-.2 1.41-.59l7.78-7.78 2.81-2.81c.8-.78.8-2.07 0-2.86zM5.41 20L4 18.59l7.72-7.72 1.47 1.35L5.41 20z\"/>\n",
              "  </svg>\n",
              "      </button>\n",
              "\n",
              "\n",
              "\n",
              "    <div id=\"df-0206b21d-8524-4891-b9f9-e22d618d32ac\">\n",
              "      <button class=\"colab-df-quickchart\" onclick=\"quickchart('df-0206b21d-8524-4891-b9f9-e22d618d32ac')\"\n",
              "              title=\"Suggest charts.\"\n",
              "              style=\"display:none;\">\n",
              "\n",
              "<svg xmlns=\"http://www.w3.org/2000/svg\" height=\"24px\"viewBox=\"0 0 24 24\"\n",
              "     width=\"24px\">\n",
              "    <g>\n",
              "        <path d=\"M19 3H5c-1.1 0-2 .9-2 2v14c0 1.1.9 2 2 2h14c1.1 0 2-.9 2-2V5c0-1.1-.9-2-2-2zM9 17H7v-7h2v7zm4 0h-2V7h2v10zm4 0h-2v-4h2v4z\"/>\n",
              "    </g>\n",
              "</svg>\n",
              "      </button>\n",
              "    </div>\n",
              "\n",
              "<style>\n",
              "  .colab-df-quickchart {\n",
              "    background-color: #E8F0FE;\n",
              "    border: none;\n",
              "    border-radius: 50%;\n",
              "    cursor: pointer;\n",
              "    display: none;\n",
              "    fill: #1967D2;\n",
              "    height: 32px;\n",
              "    padding: 0 0 0 0;\n",
              "    width: 32px;\n",
              "  }\n",
              "\n",
              "  .colab-df-quickchart:hover {\n",
              "    background-color: #E2EBFA;\n",
              "    box-shadow: 0px 1px 2px rgba(60, 64, 67, 0.3), 0px 1px 3px 1px rgba(60, 64, 67, 0.15);\n",
              "    fill: #174EA6;\n",
              "  }\n",
              "\n",
              "  [theme=dark] .colab-df-quickchart {\n",
              "    background-color: #3B4455;\n",
              "    fill: #D2E3FC;\n",
              "  }\n",
              "\n",
              "  [theme=dark] .colab-df-quickchart:hover {\n",
              "    background-color: #434B5C;\n",
              "    box-shadow: 0px 1px 3px 1px rgba(0, 0, 0, 0.15);\n",
              "    filter: drop-shadow(0px 1px 2px rgba(0, 0, 0, 0.3));\n",
              "    fill: #FFFFFF;\n",
              "  }\n",
              "</style>\n",
              "\n",
              "    <script>\n",
              "      async function quickchart(key) {\n",
              "        const containerElement = document.querySelector('#' + key);\n",
              "        const charts = await google.colab.kernel.invokeFunction(\n",
              "            'suggestCharts', [key], {});\n",
              "      }\n",
              "    </script>\n",
              "\n",
              "      <script>\n",
              "\n",
              "function displayQuickchartButton(domScope) {\n",
              "  let quickchartButtonEl =\n",
              "    domScope.querySelector('#df-0206b21d-8524-4891-b9f9-e22d618d32ac button.colab-df-quickchart');\n",
              "  quickchartButtonEl.style.display =\n",
              "    google.colab.kernel.accessAllowed ? 'block' : 'none';\n",
              "}\n",
              "\n",
              "        displayQuickchartButton(document);\n",
              "      </script>\n",
              "      <style>\n",
              "    .colab-df-container {\n",
              "      display:flex;\n",
              "      flex-wrap:wrap;\n",
              "      gap: 12px;\n",
              "    }\n",
              "\n",
              "    .colab-df-convert {\n",
              "      background-color: #E8F0FE;\n",
              "      border: none;\n",
              "      border-radius: 50%;\n",
              "      cursor: pointer;\n",
              "      display: none;\n",
              "      fill: #1967D2;\n",
              "      height: 32px;\n",
              "      padding: 0 0 0 0;\n",
              "      width: 32px;\n",
              "    }\n",
              "\n",
              "    .colab-df-convert:hover {\n",
              "      background-color: #E2EBFA;\n",
              "      box-shadow: 0px 1px 2px rgba(60, 64, 67, 0.3), 0px 1px 3px 1px rgba(60, 64, 67, 0.15);\n",
              "      fill: #174EA6;\n",
              "    }\n",
              "\n",
              "    [theme=dark] .colab-df-convert {\n",
              "      background-color: #3B4455;\n",
              "      fill: #D2E3FC;\n",
              "    }\n",
              "\n",
              "    [theme=dark] .colab-df-convert:hover {\n",
              "      background-color: #434B5C;\n",
              "      box-shadow: 0px 1px 3px 1px rgba(0, 0, 0, 0.15);\n",
              "      filter: drop-shadow(0px 1px 2px rgba(0, 0, 0, 0.3));\n",
              "      fill: #FFFFFF;\n",
              "    }\n",
              "  </style>\n",
              "\n",
              "      <script>\n",
              "        const buttonEl =\n",
              "          document.querySelector('#df-cd7757f8-8da9-4ad4-b0cf-70ac6a0d64fe button.colab-df-convert');\n",
              "        buttonEl.style.display =\n",
              "          google.colab.kernel.accessAllowed ? 'block' : 'none';\n",
              "\n",
              "        async function convertToInteractive(key) {\n",
              "          const element = document.querySelector('#df-cd7757f8-8da9-4ad4-b0cf-70ac6a0d64fe');\n",
              "          const dataTable =\n",
              "            await google.colab.kernel.invokeFunction('convertToInteractive',\n",
              "                                                     [key], {});\n",
              "          if (!dataTable) return;\n",
              "\n",
              "          const docLinkHtml = 'Like what you see? Visit the ' +\n",
              "            '<a target=\"_blank\" href=https://colab.research.google.com/notebooks/data_table.ipynb>data table notebook</a>'\n",
              "            + ' to learn more about interactive tables.';\n",
              "          element.innerHTML = '';\n",
              "          dataTable['output_type'] = 'display_data';\n",
              "          await google.colab.output.renderOutput(dataTable, element);\n",
              "          const docLink = document.createElement('div');\n",
              "          docLink.innerHTML = docLinkHtml;\n",
              "          element.appendChild(docLink);\n",
              "        }\n",
              "      </script>\n",
              "    </div>\n",
              "  </div>\n"
            ]
          },
          "metadata": {},
          "execution_count": 32
        }
      ]
    },
    {
      "cell_type": "code",
      "source": [
        "Features['predicted emotion'] = Features['predicted emotion'].astype('category').cat.codes"
      ],
      "metadata": {
        "id": "9PSd8vl2liT7"
      },
      "execution_count": 33,
      "outputs": []
    },
    {
      "cell_type": "code",
      "source": [
        "X = Features.iloc[: ,:-1].values\n",
        "Y = Features['labels'].values"
      ],
      "metadata": {
        "id": "Wk_wU4fxlpGO"
      },
      "execution_count": 34,
      "outputs": []
    },
    {
      "cell_type": "code",
      "source": [
        "encoder = OneHotEncoder()\n",
        "Y = encoder.fit_transform(np.array(Y).reshape(-1,1)).toarray()\n",
        "encoder.categories_"
      ],
      "metadata": {
        "colab": {
          "base_uri": "https://localhost:8080/"
        },
        "id": "WHexhfe5lr3C",
        "outputId": "54c4ec61-6403-476b-b0c4-8180202eaadc"
      },
      "execution_count": 35,
      "outputs": [
        {
          "output_type": "execute_result",
          "data": {
            "text/plain": [
              "[array(['fifties', 'forties', 'seventies', 'sixties', 'thirties',\n",
              "        'twenties'], dtype=object)]"
            ]
          },
          "metadata": {},
          "execution_count": 35
        }
      ]
    },
    {
      "cell_type": "code",
      "source": [
        "x_train, x_test, y_train, y_test = train_test_split(X, Y,test_size=0.15, random_state=30, shuffle=True,stratify=Y)\n",
        "x_train.shape, y_train.shape, x_test.shape, y_test.shape"
      ],
      "metadata": {
        "colab": {
          "base_uri": "https://localhost:8080/"
        },
        "id": "_dwbj7miltPr",
        "outputId": "b5b1f3c0-6a89-40a4-a560-8761b863f517"
      },
      "execution_count": 36,
      "outputs": [
        {
          "output_type": "execute_result",
          "data": {
            "text/plain": [
              "((17193, 2377), (17193, 6), (3035, 2377), (3035, 6))"
            ]
          },
          "metadata": {},
          "execution_count": 36
        }
      ]
    },
    {
      "cell_type": "code",
      "source": [
        "scaler = StandardScaler()"
      ],
      "metadata": {
        "id": "RXiqCtC_lvj_"
      },
      "execution_count": 37,
      "outputs": []
    },
    {
      "cell_type": "code",
      "source": [
        "x_test, x_val, y_test, y_val = train_test_split(x_test, y_test, random_state=30, test_size=0.25, shuffle=True,stratify=y_test)\n",
        "x_train.shape, x_test.shape, x_val.shape, x_train.shape, x_test.shape, x_val.shape"
      ],
      "metadata": {
        "colab": {
          "base_uri": "https://localhost:8080/"
        },
        "id": "gzqneaLflxbx",
        "outputId": "2b5a6aeb-c189-47d7-b9f6-b644535b125a"
      },
      "execution_count": 38,
      "outputs": [
        {
          "output_type": "execute_result",
          "data": {
            "text/plain": [
              "((17193, 2377),\n",
              " (2276, 2377),\n",
              " (759, 2377),\n",
              " (17193, 2377),\n",
              " (2276, 2377),\n",
              " (759, 2377))"
            ]
          },
          "metadata": {},
          "execution_count": 38
        }
      ]
    },
    {
      "cell_type": "code",
      "source": [
        "x_train = scaler.fit_transform(x_train)\n",
        "x_val=scaler.transform(x_val)\n",
        "x_test = scaler.transform(x_test)\n",
        "\n",
        "x_train.shape, y_train.shape, x_test.shape, y_test.shape"
      ],
      "metadata": {
        "colab": {
          "base_uri": "https://localhost:8080/"
        },
        "id": "5K_SQ2_Zly95",
        "outputId": "b00c8f10-fcb5-491f-e7a1-aebadcd3cc76"
      },
      "execution_count": 39,
      "outputs": [
        {
          "output_type": "execute_result",
          "data": {
            "text/plain": [
              "((17193, 2377), (17193, 6), (2276, 2377), (2276, 6))"
            ]
          },
          "metadata": {},
          "execution_count": 39
        }
      ]
    },
    {
      "cell_type": "code",
      "source": [
        "optimizer = keras.optimizers.Adam(lr=0.0005)"
      ],
      "metadata": {
        "colab": {
          "base_uri": "https://localhost:8080/"
        },
        "id": "XcRvxsOrl0uD",
        "outputId": "dc6196e3-e8a4-4d82-9fee-4031c0ac4aee"
      },
      "execution_count": 40,
      "outputs": [
        {
          "output_type": "stream",
          "name": "stderr",
          "text": [
            "/usr/local/lib/python3.10/dist-packages/keras/optimizers/legacy/adam.py:117: UserWarning: The `lr` argument is deprecated, use `learning_rate` instead.\n",
            "  super().__init__(name, **kwargs)\n"
          ]
        }
      ]
    },
    {
      "cell_type": "code",
      "source": [
        "model2=Sequential()\n",
        "\n",
        "model2.add(Conv1D(256, kernel_size=5, strides=1, padding='same', activation='relu', input_shape=(x_train.shape[1], 1)))\n",
        "model2.add(BatchNormalization())\n",
        "model2.add(MaxPooling1D(pool_size=5, strides = 2, padding = 'same'))\n",
        "\n",
        "model2.add(Conv1D(256, kernel_size=5, strides=1, padding='same', activation='relu'))\n",
        "model2.add(BatchNormalization())\n",
        "model2.add(MaxPooling1D(pool_size=5, strides = 2, padding = 'same'))\n",
        "\n",
        "model2.add(Conv1D(128, kernel_size=5, strides=1, padding='same', activation='relu'))\n",
        "model2.add(BatchNormalization())\n",
        "model2.add(MaxPooling1D(pool_size=5, strides = 2, padding = 'same'))\n",
        "model2.add(Dropout(0.2))\n",
        "\n",
        "model2.add(Conv1D(64, kernel_size=5, strides=1, padding='same', activation='relu'))\n",
        "model2.add(BatchNormalization())\n",
        "model2.add(MaxPooling1D(pool_size=5, strides = 2, padding = 'same'))\n",
        "\n",
        "model2.add(Flatten())\n",
        "model2.add(Dense(32, activation='relu'))\n",
        "model2.add(BatchNormalization())\n",
        "model2.add(Dropout(0.25))\n",
        "\n",
        "model2.add(Dense(6, activation='softmax'))\n",
        "model2.compile(optimizer = 'Adam' , loss = 'categorical_crossentropy' , metrics = ['accuracy'])\n",
        "\n",
        "model2.summary()"
      ],
      "metadata": {
        "colab": {
          "base_uri": "https://localhost:8080/"
        },
        "id": "hfHgJBQWl2ck",
        "outputId": "917c60a2-0d53-483f-9023-b28315785570"
      },
      "execution_count": 41,
      "outputs": [
        {
          "output_type": "stream",
          "name": "stdout",
          "text": [
            "Model: \"sequential_1\"\n",
            "_________________________________________________________________\n",
            " Layer (type)                Output Shape              Param #   \n",
            "=================================================================\n",
            " conv1d_4 (Conv1D)           (None, 2377, 256)         1536      \n",
            "                                                                 \n",
            " batch_normalization_5 (Batc  (None, 2377, 256)        1024      \n",
            " hNormalization)                                                 \n",
            "                                                                 \n",
            " max_pooling1d_4 (MaxPooling  (None, 1189, 256)        0         \n",
            " 1D)                                                             \n",
            "                                                                 \n",
            " conv1d_5 (Conv1D)           (None, 1189, 256)         327936    \n",
            "                                                                 \n",
            " batch_normalization_6 (Batc  (None, 1189, 256)        1024      \n",
            " hNormalization)                                                 \n",
            "                                                                 \n",
            " max_pooling1d_5 (MaxPooling  (None, 595, 256)         0         \n",
            " 1D)                                                             \n",
            "                                                                 \n",
            " conv1d_6 (Conv1D)           (None, 595, 128)          163968    \n",
            "                                                                 \n",
            " batch_normalization_7 (Batc  (None, 595, 128)         512       \n",
            " hNormalization)                                                 \n",
            "                                                                 \n",
            " max_pooling1d_6 (MaxPooling  (None, 298, 128)         0         \n",
            " 1D)                                                             \n",
            "                                                                 \n",
            " dropout_2 (Dropout)         (None, 298, 128)          0         \n",
            "                                                                 \n",
            " conv1d_7 (Conv1D)           (None, 298, 64)           41024     \n",
            "                                                                 \n",
            " batch_normalization_8 (Batc  (None, 298, 64)          256       \n",
            " hNormalization)                                                 \n",
            "                                                                 \n",
            " max_pooling1d_7 (MaxPooling  (None, 149, 64)          0         \n",
            " 1D)                                                             \n",
            "                                                                 \n",
            " flatten_1 (Flatten)         (None, 9536)              0         \n",
            "                                                                 \n",
            " dense_2 (Dense)             (None, 32)                305184    \n",
            "                                                                 \n",
            " batch_normalization_9 (Batc  (None, 32)               128       \n",
            " hNormalization)                                                 \n",
            "                                                                 \n",
            " dropout_3 (Dropout)         (None, 32)                0         \n",
            "                                                                 \n",
            " dense_3 (Dense)             (None, 6)                 198       \n",
            "                                                                 \n",
            "=================================================================\n",
            "Total params: 842,790\n",
            "Trainable params: 841,318\n",
            "Non-trainable params: 1,472\n",
            "_________________________________________________________________\n"
          ]
        }
      ]
    },
    {
      "cell_type": "code",
      "source": [
        "learning_rate_reduction = ReduceLROnPlateau(monitor='val_accuracy',\n",
        "                                            patience=3,\n",
        "                                            verbose=1,\n",
        "                                            factor=0.5,\n",
        "                                            min_lr=0.00001)\n",
        "early_stop = EarlyStopping(monitor='val_accuracy', mode='auto', patience=5, start_from_epoch=20)\n",
        "callbacks=[learning_rate_reduction,early_stop]\n",
        "\n"
      ],
      "metadata": {
        "id": "CbXgooDdl_cm"
      },
      "execution_count": 42,
      "outputs": []
    },
    {
      "cell_type": "code",
      "source": [
        "history2=model2.fit(x_train, y_train, batch_size=32, epochs=100, validation_data=(x_val, y_val), callbacks=callbacks)"
      ],
      "metadata": {
        "colab": {
          "base_uri": "https://localhost:8080/"
        },
        "id": "nYKmneDQmCca",
        "outputId": "30b5c87b-2cb0-4a75-f529-e2bd9b1399ff"
      },
      "execution_count": 43,
      "outputs": [
        {
          "output_type": "stream",
          "name": "stdout",
          "text": [
            "Epoch 1/100\n",
            "538/538 [==============================] - 43s 69ms/step - loss: 1.6885 - accuracy: 0.3207 - val_loss: 1.5078 - val_accuracy: 0.3623 - lr: 0.0010\n",
            "Epoch 2/100\n",
            "538/538 [==============================] - 34s 64ms/step - loss: 1.4758 - accuracy: 0.3637 - val_loss: 1.5196 - val_accuracy: 0.3412 - lr: 0.0010\n",
            "Epoch 3/100\n",
            "538/538 [==============================] - 34s 64ms/step - loss: 1.3847 - accuracy: 0.3957 - val_loss: 1.4079 - val_accuracy: 0.3860 - lr: 0.0010\n",
            "Epoch 4/100\n",
            "538/538 [==============================] - 34s 63ms/step - loss: 1.3136 - accuracy: 0.4368 - val_loss: 2.1614 - val_accuracy: 0.3202 - lr: 0.0010\n",
            "Epoch 5/100\n",
            "538/538 [==============================] - 35s 64ms/step - loss: 1.3646 - accuracy: 0.4135 - val_loss: 1.4088 - val_accuracy: 0.4097 - lr: 0.0010\n",
            "Epoch 6/100\n",
            "538/538 [==============================] - 35s 64ms/step - loss: 1.2813 - accuracy: 0.4538 - val_loss: 1.4062 - val_accuracy: 0.3979 - lr: 0.0010\n",
            "Epoch 7/100\n",
            "538/538 [==============================] - 35s 65ms/step - loss: 1.2632 - accuracy: 0.4605 - val_loss: 1.2754 - val_accuracy: 0.4519 - lr: 0.0010\n",
            "Epoch 8/100\n",
            "538/538 [==============================] - 34s 64ms/step - loss: 1.1563 - accuracy: 0.5150 - val_loss: 1.3823 - val_accuracy: 0.4321 - lr: 0.0010\n",
            "Epoch 9/100\n",
            "538/538 [==============================] - 35s 65ms/step - loss: 1.0884 - accuracy: 0.5453 - val_loss: 1.1657 - val_accuracy: 0.5086 - lr: 0.0010\n",
            "Epoch 10/100\n",
            "538/538 [==============================] - 35s 65ms/step - loss: 1.0355 - accuracy: 0.5755 - val_loss: 1.1085 - val_accuracy: 0.5296 - lr: 0.0010\n",
            "Epoch 11/100\n",
            "538/538 [==============================] - 35s 64ms/step - loss: 0.9427 - accuracy: 0.6186 - val_loss: 1.1929 - val_accuracy: 0.5138 - lr: 0.0010\n",
            "Epoch 12/100\n",
            "538/538 [==============================] - 34s 64ms/step - loss: 0.9053 - accuracy: 0.6344 - val_loss: 1.0016 - val_accuracy: 0.5850 - lr: 0.0010\n",
            "Epoch 13/100\n",
            "538/538 [==============================] - 35s 65ms/step - loss: 0.7843 - accuracy: 0.6876 - val_loss: 0.9735 - val_accuracy: 0.5837 - lr: 0.0010\n",
            "Epoch 14/100\n",
            "538/538 [==============================] - 35s 64ms/step - loss: 0.7245 - accuracy: 0.7168 - val_loss: 0.8805 - val_accuracy: 0.6403 - lr: 0.0010\n",
            "Epoch 15/100\n",
            "538/538 [==============================] - 35s 65ms/step - loss: 0.6627 - accuracy: 0.7448 - val_loss: 0.7910 - val_accuracy: 0.6759 - lr: 0.0010\n",
            "Epoch 16/100\n",
            "538/538 [==============================] - 35s 64ms/step - loss: 0.6165 - accuracy: 0.7626 - val_loss: 0.7094 - val_accuracy: 0.7260 - lr: 0.0010\n",
            "Epoch 17/100\n",
            "538/538 [==============================] - 35s 65ms/step - loss: 0.5531 - accuracy: 0.7884 - val_loss: 0.7161 - val_accuracy: 0.7233 - lr: 0.0010\n",
            "Epoch 18/100\n",
            "538/538 [==============================] - 35s 64ms/step - loss: 0.5247 - accuracy: 0.8022 - val_loss: 0.9113 - val_accuracy: 0.6614 - lr: 0.0010\n",
            "Epoch 19/100\n",
            "538/538 [==============================] - 35s 64ms/step - loss: 0.5078 - accuracy: 0.8109 - val_loss: 0.5710 - val_accuracy: 0.7773 - lr: 0.0010\n",
            "Epoch 20/100\n",
            "538/538 [==============================] - 35s 64ms/step - loss: 0.4564 - accuracy: 0.8288 - val_loss: 0.8743 - val_accuracy: 0.6706 - lr: 0.0010\n",
            "Epoch 21/100\n",
            "538/538 [==============================] - 35s 64ms/step - loss: 0.4288 - accuracy: 0.8369 - val_loss: 0.4846 - val_accuracy: 0.8261 - lr: 0.0010\n",
            "Epoch 22/100\n",
            "538/538 [==============================] - 34s 64ms/step - loss: 0.4110 - accuracy: 0.8462 - val_loss: 0.5535 - val_accuracy: 0.7945 - lr: 0.0010\n",
            "Epoch 23/100\n",
            "538/538 [==============================] - 35s 65ms/step - loss: 0.3951 - accuracy: 0.8522 - val_loss: 0.8376 - val_accuracy: 0.7194 - lr: 0.0010\n",
            "Epoch 24/100\n",
            "537/538 [============================>.] - ETA: 0s - loss: 0.3845 - accuracy: 0.8593\n",
            "Epoch 24: ReduceLROnPlateau reducing learning rate to 0.0005000000237487257.\n",
            "538/538 [==============================] - 35s 64ms/step - loss: 0.3846 - accuracy: 0.8592 - val_loss: 0.5227 - val_accuracy: 0.7971 - lr: 0.0010\n",
            "Epoch 25/100\n",
            "538/538 [==============================] - 35s 65ms/step - loss: 0.2865 - accuracy: 0.8957 - val_loss: 0.2858 - val_accuracy: 0.9065 - lr: 5.0000e-04\n",
            "Epoch 26/100\n",
            "538/538 [==============================] - 35s 64ms/step - loss: 0.2590 - accuracy: 0.9044 - val_loss: 0.2922 - val_accuracy: 0.9038 - lr: 5.0000e-04\n",
            "Epoch 27/100\n",
            "538/538 [==============================] - 35s 65ms/step - loss: 0.2456 - accuracy: 0.9133 - val_loss: 0.2910 - val_accuracy: 0.9051 - lr: 5.0000e-04\n",
            "Epoch 28/100\n",
            "538/538 [==============================] - 35s 64ms/step - loss: 0.2389 - accuracy: 0.9125 - val_loss: 0.2778 - val_accuracy: 0.9144 - lr: 5.0000e-04\n",
            "Epoch 29/100\n",
            "538/538 [==============================] - 35s 65ms/step - loss: 0.2227 - accuracy: 0.9214 - val_loss: 0.2535 - val_accuracy: 0.9183 - lr: 5.0000e-04\n",
            "Epoch 30/100\n",
            "538/538 [==============================] - 34s 64ms/step - loss: 0.2213 - accuracy: 0.9208 - val_loss: 0.3268 - val_accuracy: 0.8854 - lr: 5.0000e-04\n",
            "Epoch 31/100\n",
            "538/538 [==============================] - 35s 65ms/step - loss: 0.2153 - accuracy: 0.9239 - val_loss: 0.4644 - val_accuracy: 0.8485 - lr: 5.0000e-04\n",
            "Epoch 32/100\n",
            "538/538 [==============================] - 35s 65ms/step - loss: 0.2269 - accuracy: 0.9155 - val_loss: 0.2495 - val_accuracy: 0.9223 - lr: 5.0000e-04\n",
            "Epoch 33/100\n",
            "538/538 [==============================] - 34s 64ms/step - loss: 0.1935 - accuracy: 0.9293 - val_loss: 0.2439 - val_accuracy: 0.9275 - lr: 5.0000e-04\n",
            "Epoch 34/100\n",
            "538/538 [==============================] - 35s 64ms/step - loss: 0.1835 - accuracy: 0.9346 - val_loss: 0.2362 - val_accuracy: 0.9262 - lr: 5.0000e-04\n",
            "Epoch 35/100\n",
            "538/538 [==============================] - 35s 64ms/step - loss: 0.1840 - accuracy: 0.9351 - val_loss: 0.2796 - val_accuracy: 0.9065 - lr: 5.0000e-04\n",
            "Epoch 36/100\n",
            "537/538 [============================>.] - ETA: 0s - loss: 0.1796 - accuracy: 0.9350\n",
            "Epoch 36: ReduceLROnPlateau reducing learning rate to 0.0002500000118743628.\n",
            "538/538 [==============================] - 34s 64ms/step - loss: 0.1795 - accuracy: 0.9350 - val_loss: 0.2597 - val_accuracy: 0.9249 - lr: 5.0000e-04\n",
            "Epoch 37/100\n",
            "538/538 [==============================] - 34s 64ms/step - loss: 0.1639 - accuracy: 0.9429 - val_loss: 0.2052 - val_accuracy: 0.9368 - lr: 2.5000e-04\n",
            "Epoch 38/100\n",
            "538/538 [==============================] - 34s 64ms/step - loss: 0.1449 - accuracy: 0.9494 - val_loss: 0.2284 - val_accuracy: 0.9236 - lr: 2.5000e-04\n",
            "Epoch 39/100\n",
            "538/538 [==============================] - 35s 64ms/step - loss: 0.1443 - accuracy: 0.9489 - val_loss: 0.1772 - val_accuracy: 0.9513 - lr: 2.5000e-04\n",
            "Epoch 40/100\n",
            "538/538 [==============================] - 35s 64ms/step - loss: 0.1409 - accuracy: 0.9514 - val_loss: 0.1821 - val_accuracy: 0.9486 - lr: 2.5000e-04\n",
            "Epoch 41/100\n",
            "538/538 [==============================] - 34s 64ms/step - loss: 0.1378 - accuracy: 0.9498 - val_loss: 0.1857 - val_accuracy: 0.9513 - lr: 2.5000e-04\n",
            "Epoch 42/100\n",
            "537/538 [============================>.] - ETA: 0s - loss: 0.1287 - accuracy: 0.9536\n",
            "Epoch 42: ReduceLROnPlateau reducing learning rate to 0.0001250000059371814.\n",
            "538/538 [==============================] - 35s 64ms/step - loss: 0.1288 - accuracy: 0.9536 - val_loss: 0.1841 - val_accuracy: 0.9473 - lr: 2.5000e-04\n",
            "Epoch 43/100\n",
            "538/538 [==============================] - 35s 64ms/step - loss: 0.1179 - accuracy: 0.9593 - val_loss: 0.1635 - val_accuracy: 0.9486 - lr: 1.2500e-04\n",
            "Epoch 44/100\n",
            "538/538 [==============================] - 35s 64ms/step - loss: 0.1142 - accuracy: 0.9593 - val_loss: 0.1821 - val_accuracy: 0.9407 - lr: 1.2500e-04\n"
          ]
        }
      ]
    },
    {
      "cell_type": "code",
      "source": [
        "print(\"Accuracy of our model on test data : \" , model2.evaluate(x_test,y_test)[1]*100 , \"%\")"
      ],
      "metadata": {
        "colab": {
          "base_uri": "https://localhost:8080/"
        },
        "id": "EtxOq7JmmEjj",
        "outputId": "200d055a-9614-4026-d94c-e54c521e6ce0"
      },
      "execution_count": 44,
      "outputs": [
        {
          "output_type": "stream",
          "name": "stdout",
          "text": [
            "72/72 [==============================] - 2s 21ms/step - loss: 0.1956 - accuracy: 0.9416\n",
            "Accuracy of our model on test data :  94.156414270401 %\n"
          ]
        }
      ]
    },
    {
      "cell_type": "code",
      "source": [
        "pred_test = model2.predict(x_test)\n",
        "\n",
        "y_pred = encoder.inverse_transform(pred_test)\n",
        "\n",
        "y_test = encoder.inverse_transform(y_test)"
      ],
      "metadata": {
        "colab": {
          "base_uri": "https://localhost:8080/"
        },
        "id": "eiuGhjOqmHRE",
        "outputId": "037f4b43-e262-4067-ed0a-45f3680cc49b"
      },
      "execution_count": 45,
      "outputs": [
        {
          "output_type": "stream",
          "name": "stdout",
          "text": [
            "72/72 [==============================] - 1s 17ms/step\n"
          ]
        }
      ]
    },
    {
      "cell_type": "code",
      "source": [
        "pred_test=model2.predict(x_test)"
      ],
      "metadata": {
        "colab": {
          "base_uri": "https://localhost:8080/"
        },
        "id": "zoGnY8bvmI_f",
        "outputId": "72ae37df-9d84-4803-ea79-bdf474d7db55"
      },
      "execution_count": 46,
      "outputs": [
        {
          "output_type": "stream",
          "name": "stdout",
          "text": [
            "72/72 [==============================] - 1s 18ms/step\n"
          ]
        }
      ]
    },
    {
      "cell_type": "code",
      "source": [
        "df_temp2 = pd.DataFrame(columns=['Predicted Labels', 'Actual Labels'])\n",
        "df_temp2['Predicted Labels'] = y_pred.flatten()\n",
        "df_temp2['Actual Labels'] = y_test.flatten()"
      ],
      "metadata": {
        "id": "Ur604T8KmK1x"
      },
      "execution_count": 47,
      "outputs": []
    },
    {
      "cell_type": "code",
      "source": [
        "cm = confusion_matrix(y_test, y_pred)\n",
        "plt.figure(figsize = (12, 10))\n",
        "cm = pd.DataFrame(cm , index = [i for i in encoder.categories_] , columns = [i for i in encoder.categories_])\n",
        "sns.heatmap(cm, linecolor='white', cmap='Blues', linewidth=1, annot=True, fmt='')\n",
        "plt.title('Confusion Matrix', size=20)\n",
        "plt.xlabel('Predicted Labels', size=14)\n",
        "plt.ylabel('Actual Labels', size=14)\n",
        "plt.show()"
      ],
      "metadata": {
        "colab": {
          "base_uri": "https://localhost:8080/",
          "height": 885
        },
        "id": "RmjgYF9TmMgb",
        "outputId": "76ccb0c1-2d8e-40f2-81ad-9f1c404a5ba3"
      },
      "execution_count": 48,
      "outputs": [
        {
          "output_type": "display_data",
          "data": {
            "text/plain": [
              "<Figure size 1200x1000 with 2 Axes>"
            ],
            "image/png": "[encoded data removed]"
          },
          "metadata": {}
        }
      ]
    },
    {
      "cell_type": "code",
      "source": [
        "epochs = [i for i in range(early_stop.stopped_epoch+1) ]\n",
        "fig , ax = plt.subplots(1,2)\n",
        "train_acc = history2.history['accuracy']\n",
        "train_loss = history2.history['loss']\n",
        "test_acc = history2.history['val_accuracy']\n",
        "test_loss = history2.history['val_loss']\n",
        "\n",
        "fig.set_size_inches(20,6)\n",
        "ax[0].plot(epochs , train_loss , label = 'Training Loss')\n",
        "ax[0].plot(epochs , test_loss , label = 'Testing Loss')\n",
        "ax[0].set_title('Training & Testing Loss')\n",
        "ax[0].legend()\n",
        "ax[0].set_xlabel(\"Epochs\")\n",
        "\n",
        "ax[1].plot(epochs , train_acc , label = 'Training Accuracy')\n",
        "ax[1].plot(epochs , test_acc , label = 'Testing Accuracy')\n",
        "ax[1].set_title('Training & Testing Accuracy')\n",
        "ax[1].legend()\n",
        "ax[1].set_xlabel(\"Epochs\")\n",
        "plt.show()"
      ],
      "metadata": {
        "colab": {
          "base_uri": "https://localhost:8080/",
          "height": 337
        },
        "id": "NJRnzOnUmOIy",
        "outputId": "ade45dce-7212-4106-cecb-5d4cce69b882"
      },
      "execution_count": 49,
      "outputs": [
        {
          "output_type": "display_data",
          "data": {
            "text/plain": [
              "<Figure size 2000x600 with 2 Axes>"
            ],
            "image/png": "[encoded data removed]"
          },
          "metadata": {}
        }
      ]
    },
    {
      "cell_type": "code",
      "source": [
        "print(classification_report(y_test, y_pred, target_names=['twenties', 'thirties', 'forties', 'fifties', 'sixties', 'seventies']))"
      ],
      "metadata": {
        "colab": {
          "base_uri": "https://localhost:8080/"
        },
        "id": "Rvau91AymSnk",
        "outputId": "b907d66b-be8a-47a4-e16b-9ee1ca3f455b"
      },
      "execution_count": 51,
      "outputs": [
        {
          "output_type": "stream",
          "name": "stdout",
          "text": [
            "              precision    recall  f1-score   support\n",
            "\n",
            "    twenties       0.89      0.94      0.92       283\n",
            "    thirties       0.92      0.93      0.93       340\n",
            "     forties       1.00      1.00      1.00        23\n",
            "     fifties       0.96      0.97      0.96       135\n",
            "     sixties       0.96      0.95      0.95       729\n",
            "   seventies       0.95      0.93      0.94       766\n",
            "\n",
            "    accuracy                           0.94      2276\n",
            "   macro avg       0.95      0.95      0.95      2276\n",
            "weighted avg       0.94      0.94      0.94      2276\n",
            "\n"
          ]
        }
      ]
    },
    {
      "cell_type": "markdown",
      "source": [
        "## From voice features and predicted age, predict emotion"
      ],
      "metadata": {
        "id": "fwB8GeCD0Kvl"
      }
    },
    {
      "cell_type": "code",
      "source": [
        "Features = pd.read_csv('/content/drive/MyDrive/Prism/features_emotion_final.csv')"
      ],
      "metadata": {
        "id": "ROTrVpVWz7OY"
      },
      "execution_count": 52,
      "outputs": []
    },
    {
      "cell_type": "code",
      "source": [
        "Features = Features.fillna(0)\n",
        "print(Features.isna().any())\n",
        "Features.shape"
      ],
      "metadata": {
        "colab": {
          "base_uri": "https://localhost:8080/"
        },
        "id": "V3e_vLAy15El",
        "outputId": "e8aa8b80-06b4-4138-9fb2-c9ad6e80f0dd"
      },
      "execution_count": 53,
      "outputs": [
        {
          "output_type": "stream",
          "name": "stdout",
          "text": [
            "0         False\n",
            "1         False\n",
            "2         False\n",
            "3         False\n",
            "4         False\n",
            "          ...  \n",
            "2372      False\n",
            "2373      False\n",
            "2374      False\n",
            "2375      False\n",
            "labels    False\n",
            "Length: 2377, dtype: bool\n"
          ]
        },
        {
          "output_type": "execute_result",
          "data": {
            "text/plain": [
              "(20228, 2377)"
            ]
          },
          "metadata": {},
          "execution_count": 53
        }
      ]
    },
    {
      "cell_type": "code",
      "source": [
        "X = Features.iloc[: ,:-1].values\n",
        "Y = Features['labels'].values"
      ],
      "metadata": {
        "id": "qy8EOzZG1_c3"
      },
      "execution_count": 54,
      "outputs": []
    },
    {
      "cell_type": "code",
      "source": [
        "scaler = StandardScaler()\n",
        "X1 = scaler.fit_transform(X)\n",
        "X1 = np.expand_dims(X1, axis=2)"
      ],
      "metadata": {
        "id": "9bIzFBB02Bip"
      },
      "execution_count": 55,
      "outputs": []
    },
    {
      "cell_type": "code",
      "source": [
        "Z=model2.predict(X1)"
      ],
      "metadata": {
        "colab": {
          "base_uri": "https://localhost:8080/"
        },
        "id": "i6Woz9b92DxU",
        "outputId": "5214f747-8a2f-41ea-fb37-c90c7940a6bc"
      },
      "execution_count": 56,
      "outputs": [
        {
          "output_type": "stream",
          "name": "stdout",
          "text": [
            "633/633 [==============================] - 12s 19ms/step\n"
          ]
        }
      ]
    },
    {
      "cell_type": "code",
      "source": [
        "Z = encoder.inverse_transform(Z)"
      ],
      "metadata": {
        "id": "G9fFQzEK2FNB"
      },
      "execution_count": 57,
      "outputs": []
    },
    {
      "cell_type": "code",
      "source": [
        "Z = Z.flatten()"
      ],
      "metadata": {
        "id": "BfxKUi622HI9"
      },
      "execution_count": 58,
      "outputs": []
    },
    {
      "cell_type": "code",
      "source": [
        "Features = pd.DataFrame(X)\n",
        "Features['predicted gender'] = Z\n",
        "Features['labels'] = Y"
      ],
      "metadata": {
        "id": "8WKDE4Cq2IbB"
      },
      "execution_count": 59,
      "outputs": []
    },
    {
      "cell_type": "code",
      "source": [
        "Features['predicted gender'] = Features['predicted gender'].astype('category').cat.codes"
      ],
      "metadata": {
        "id": "J1u-JmTp2J2U"
      },
      "execution_count": 60,
      "outputs": []
    },
    {
      "cell_type": "code",
      "source": [
        "Features"
      ],
      "metadata": {
        "colab": {
          "base_uri": "https://localhost:8080/",
          "height": 505
        },
        "id": "7PQgMWip2Lad",
        "outputId": "5d86d5d3-35b8-4c66-de87-ce7ce94d6b14"
      },
      "execution_count": 61,
      "outputs": [
        {
          "output_type": "execute_result",
          "data": {
            "text/plain": [
              "              0         1         2         3         4         5         6  \\\n",
              "0      0.032715  0.059570  0.076660  0.065918  0.053223  0.031738  0.019531   \n",
              "1      0.032715  0.059570  0.076660  0.065918  0.053223  0.031738  0.019531   \n",
              "2      0.036621  0.057617  0.082031  0.076660  0.060547  0.044922  0.025879   \n",
              "3      0.036621  0.057617  0.083008  0.079590  0.064453  0.050781  0.032715   \n",
              "4      0.014648  0.026367  0.039062  0.043457  0.043945  0.039551  0.067383   \n",
              "...         ...       ...       ...       ...       ...       ...       ...   \n",
              "20223  0.020996  0.042480  0.063965  0.067383  0.062012  0.048828  0.036621   \n",
              "20224  0.010742  0.017578  0.023926  0.027344  0.033691  0.050293  0.069824   \n",
              "20225  0.039062  0.068848  0.100098  0.098633  0.108887  0.101074  0.095215   \n",
              "20226  0.011719  0.019043  0.024414  0.031250  0.048340  0.070312  0.087891   \n",
              "20227  0.038086  0.070801  0.097168  0.118164  0.129883  0.126953  0.124023   \n",
              "\n",
              "              7         8         9  ...  2368  2369  2370  2371  2372  2373  \\\n",
              "0      0.020508  0.020508  0.023926  ...   0.0   0.0   0.0   0.0   0.0   0.0   \n",
              "1      0.020508  0.020508  0.023926  ...   0.0   0.0   0.0   0.0   0.0   0.0   \n",
              "2      0.020996  0.024414  0.028320  ...   0.0   0.0   0.0   0.0   0.0   0.0   \n",
              "3      0.028809  0.038086  0.040039  ...   0.0   0.0   0.0   0.0   0.0   0.0   \n",
              "4      0.098633  0.099121  0.107910  ...   0.0   0.0   0.0   0.0   0.0   0.0   \n",
              "...         ...       ...       ...  ...   ...   ...   ...   ...   ...   ...   \n",
              "20223  0.041504  0.042969  0.047363  ...   0.0   0.0   0.0   0.0   0.0   0.0   \n",
              "20224  0.083984  0.093750  0.086914  ...   0.0   0.0   0.0   0.0   0.0   0.0   \n",
              "20225  0.097168  0.091797  0.085938  ...   0.0   0.0   0.0   0.0   0.0   0.0   \n",
              "20226  0.099609  0.093262  0.080078  ...   0.0   0.0   0.0   0.0   0.0   0.0   \n",
              "20227  0.112305  0.095215  0.082031  ...   0.0   0.0   0.0   0.0   0.0   0.0   \n",
              "\n",
              "       2374  2375  predicted gender        labels  \n",
              "0       0.0   0.0                 4     happiness  \n",
              "1       0.0   0.0                 4     happiness  \n",
              "2       0.0   0.0                 4     happiness  \n",
              "3       0.0   0.0                 4     happiness  \n",
              "4       0.0   0.0                 5     happiness  \n",
              "...     ...   ...               ...           ...  \n",
              "20223   0.0   0.0                 3  anxiety/fear  \n",
              "20224   0.0   0.0                 0       neutral  \n",
              "20225   0.0   0.0                 5       neutral  \n",
              "20226   0.0   0.0                 5       neutral  \n",
              "20227   0.0   0.0                 5       neutral  \n",
              "\n",
              "[20228 rows x 2378 columns]"
            ],
            "text/html": [
              "\n",
              "\n",
              "  <div id=\"df-50580145-3e14-44f1-b8d2-9f5f7650f88e\">\n",
              "    <div class=\"colab-df-container\">\n",
              "      <div>\n",
              "<style scoped>\n",
              "    .dataframe tbody tr th:only-of-type {\n",
              "        vertical-align: middle;\n",
              "    }\n",
              "\n",
              "    .dataframe tbody tr th {\n",
              "        vertical-align: top;\n",
              "    }\n",
              "\n",
              "    .dataframe thead th {\n",
              "        text-align: right;\n",
              "    }\n",
              "</style>\n",
              "<table border=\"1\" class=\"dataframe\">\n",
              "  <thead>\n",
              "    <tr style=\"text-align: right;\">\n",
              "      <th></th>\n",
              "      <th>0</th>\n",
              "      <th>1</th>\n",
              "      <th>2</th>\n",
              "      <th>3</th>\n",
              "      <th>4</th>\n",
              "      <th>5</th>\n",
              "      <th>6</th>\n",
              "      <th>7</th>\n",
              "      <th>8</th>\n",
              "      <th>9</th>\n",
              "      <th>...</th>\n",
              "      <th>2368</th>\n",
              "      <th>2369</th>\n",
              "      <th>2370</th>\n",
              "      <th>2371</th>\n",
              "      <th>2372</th>\n",
              "      <th>2373</th>\n",
              "      <th>2374</th>\n",
              "      <th>2375</th>\n",
              "      <th>predicted gender</th>\n",
              "      <th>labels</th>\n",
              "    </tr>\n",
              "  </thead>\n",
              "  <tbody>\n",
              "    <tr>\n",
              "      <th>0</th>\n",
              "      <td>0.032715</td>\n",
              "      <td>0.059570</td>\n",
              "      <td>0.076660</td>\n",
              "      <td>0.065918</td>\n",
              "      <td>0.053223</td>\n",
              "      <td>0.031738</td>\n",
              "      <td>0.019531</td>\n",
              "      <td>0.020508</td>\n",
              "      <td>0.020508</td>\n",
              "      <td>0.023926</td>\n",
              "      <td>...</td>\n",
              "      <td>0.0</td>\n",
              "      <td>0.0</td>\n",
              "      <td>0.0</td>\n",
              "      <td>0.0</td>\n",
              "      <td>0.0</td>\n",
              "      <td>0.0</td>\n",
              "      <td>0.0</td>\n",
              "      <td>0.0</td>\n",
              "      <td>4</td>\n",
              "      <td>happiness</td>\n",
              "    </tr>\n",
              "    <tr>\n",
              "      <th>1</th>\n",
              "      <td>0.032715</td>\n",
              "      <td>0.059570</td>\n",
              "      <td>0.076660</td>\n",
              "      <td>0.065918</td>\n",
              "      <td>0.053223</td>\n",
              "      <td>0.031738</td>\n",
              "      <td>0.019531</td>\n",
              "      <td>0.020508</td>\n",
              "      <td>0.020508</td>\n",
              "      <td>0.023926</td>\n",
              "      <td>...</td>\n",
              "      <td>0.0</td>\n",
              "      <td>0.0</td>\n",
              "      <td>0.0</td>\n",
              "      <td>0.0</td>\n",
              "      <td>0.0</td>\n",
              "      <td>0.0</td>\n",
              "      <td>0.0</td>\n",
              "      <td>0.0</td>\n",
              "      <td>4</td>\n",
              "      <td>happiness</td>\n",
              "    </tr>\n",
              "    <tr>\n",
              "      <th>2</th>\n",
              "      <td>0.036621</td>\n",
              "      <td>0.057617</td>\n",
              "      <td>0.082031</td>\n",
              "      <td>0.076660</td>\n",
              "      <td>0.060547</td>\n",
              "      <td>0.044922</td>\n",
              "      <td>0.025879</td>\n",
              "      <td>0.020996</td>\n",
              "      <td>0.024414</td>\n",
              "      <td>0.028320</td>\n",
              "      <td>...</td>\n",
              "      <td>0.0</td>\n",
              "      <td>0.0</td>\n",
              "      <td>0.0</td>\n",
              "      <td>0.0</td>\n",
              "      <td>0.0</td>\n",
              "      <td>0.0</td>\n",
              "      <td>0.0</td>\n",
              "      <td>0.0</td>\n",
              "      <td>4</td>\n",
              "      <td>happiness</td>\n",
              "    </tr>\n",
              "    <tr>\n",
              "      <th>3</th>\n",
              "      <td>0.036621</td>\n",
              "      <td>0.057617</td>\n",
              "      <td>0.083008</td>\n",
              "      <td>0.079590</td>\n",
              "      <td>0.064453</td>\n",
              "      <td>0.050781</td>\n",
              "      <td>0.032715</td>\n",
              "      <td>0.028809</td>\n",
              "      <td>0.038086</td>\n",
              "      <td>0.040039</td>\n",
              "      <td>...</td>\n",
              "      <td>0.0</td>\n",
              "      <td>0.0</td>\n",
              "      <td>0.0</td>\n",
              "      <td>0.0</td>\n",
              "      <td>0.0</td>\n",
              "      <td>0.0</td>\n",
              "      <td>0.0</td>\n",
              "      <td>0.0</td>\n",
              "      <td>4</td>\n",
              "      <td>happiness</td>\n",
              "    </tr>\n",
              "    <tr>\n",
              "      <th>4</th>\n",
              "      <td>0.014648</td>\n",
              "      <td>0.026367</td>\n",
              "      <td>0.039062</td>\n",
              "      <td>0.043457</td>\n",
              "      <td>0.043945</td>\n",
              "      <td>0.039551</td>\n",
              "      <td>0.067383</td>\n",
              "      <td>0.098633</td>\n",
              "      <td>0.099121</td>\n",
              "      <td>0.107910</td>\n",
              "      <td>...</td>\n",
              "      <td>0.0</td>\n",
              "      <td>0.0</td>\n",
              "      <td>0.0</td>\n",
              "      <td>0.0</td>\n",
              "      <td>0.0</td>\n",
              "      <td>0.0</td>\n",
              "      <td>0.0</td>\n",
              "      <td>0.0</td>\n",
              "      <td>5</td>\n",
              "      <td>happiness</td>\n",
              "    </tr>\n",
              "    <tr>\n",
              "      <th>...</th>\n",
              "      <td>...</td>\n",
              "      <td>...</td>\n",
              "      <td>...</td>\n",
              "      <td>...</td>\n",
              "      <td>...</td>\n",
              "      <td>...</td>\n",
              "      <td>...</td>\n",
              "      <td>...</td>\n",
              "      <td>...</td>\n",
              "      <td>...</td>\n",
              "      <td>...</td>\n",
              "      <td>...</td>\n",
              "      <td>...</td>\n",
              "      <td>...</td>\n",
              "      <td>...</td>\n",
              "      <td>...</td>\n",
              "      <td>...</td>\n",
              "      <td>...</td>\n",
              "      <td>...</td>\n",
              "      <td>...</td>\n",
              "      <td>...</td>\n",
              "    </tr>\n",
              "    <tr>\n",
              "      <th>20223</th>\n",
              "      <td>0.020996</td>\n",
              "      <td>0.042480</td>\n",
              "      <td>0.063965</td>\n",
              "      <td>0.067383</td>\n",
              "      <td>0.062012</td>\n",
              "      <td>0.048828</td>\n",
              "      <td>0.036621</td>\n",
              "      <td>0.041504</td>\n",
              "      <td>0.042969</td>\n",
              "      <td>0.047363</td>\n",
              "      <td>...</td>\n",
              "      <td>0.0</td>\n",
              "      <td>0.0</td>\n",
              "      <td>0.0</td>\n",
              "      <td>0.0</td>\n",
              "      <td>0.0</td>\n",
              "      <td>0.0</td>\n",
              "      <td>0.0</td>\n",
              "      <td>0.0</td>\n",
              "      <td>3</td>\n",
              "      <td>anxiety/fear</td>\n",
              "    </tr>\n",
              "    <tr>\n",
              "      <th>20224</th>\n",
              "      <td>0.010742</td>\n",
              "      <td>0.017578</td>\n",
              "      <td>0.023926</td>\n",
              "      <td>0.027344</td>\n",
              "      <td>0.033691</td>\n",
              "      <td>0.050293</td>\n",
              "      <td>0.069824</td>\n",
              "      <td>0.083984</td>\n",
              "      <td>0.093750</td>\n",
              "      <td>0.086914</td>\n",
              "      <td>...</td>\n",
              "      <td>0.0</td>\n",
              "      <td>0.0</td>\n",
              "      <td>0.0</td>\n",
              "      <td>0.0</td>\n",
              "      <td>0.0</td>\n",
              "      <td>0.0</td>\n",
              "      <td>0.0</td>\n",
              "      <td>0.0</td>\n",
              "      <td>0</td>\n",
              "      <td>neutral</td>\n",
              "    </tr>\n",
              "    <tr>\n",
              "      <th>20225</th>\n",
              "      <td>0.039062</td>\n",
              "      <td>0.068848</td>\n",
              "      <td>0.100098</td>\n",
              "      <td>0.098633</td>\n",
              "      <td>0.108887</td>\n",
              "      <td>0.101074</td>\n",
              "      <td>0.095215</td>\n",
              "      <td>0.097168</td>\n",
              "      <td>0.091797</td>\n",
              "      <td>0.085938</td>\n",
              "      <td>...</td>\n",
              "      <td>0.0</td>\n",
              "      <td>0.0</td>\n",
              "      <td>0.0</td>\n",
              "      <td>0.0</td>\n",
              "      <td>0.0</td>\n",
              "      <td>0.0</td>\n",
              "      <td>0.0</td>\n",
              "      <td>0.0</td>\n",
              "      <td>5</td>\n",
              "      <td>neutral</td>\n",
              "    </tr>\n",
              "    <tr>\n",
              "      <th>20226</th>\n",
              "      <td>0.011719</td>\n",
              "      <td>0.019043</td>\n",
              "      <td>0.024414</td>\n",
              "      <td>0.031250</td>\n",
              "      <td>0.048340</td>\n",
              "      <td>0.070312</td>\n",
              "      <td>0.087891</td>\n",
              "      <td>0.099609</td>\n",
              "      <td>0.093262</td>\n",
              "      <td>0.080078</td>\n",
              "      <td>...</td>\n",
              "      <td>0.0</td>\n",
              "      <td>0.0</td>\n",
              "      <td>0.0</td>\n",
              "      <td>0.0</td>\n",
              "      <td>0.0</td>\n",
              "      <td>0.0</td>\n",
              "      <td>0.0</td>\n",
              "      <td>0.0</td>\n",
              "      <td>5</td>\n",
              "      <td>neutral</td>\n",
              "    </tr>\n",
              "    <tr>\n",
              "      <th>20227</th>\n",
              "      <td>0.038086</td>\n",
              "      <td>0.070801</td>\n",
              "      <td>0.097168</td>\n",
              "      <td>0.118164</td>\n",
              "      <td>0.129883</td>\n",
              "      <td>0.126953</td>\n",
              "      <td>0.124023</td>\n",
              "      <td>0.112305</td>\n",
              "      <td>0.095215</td>\n",
              "      <td>0.082031</td>\n",
              "      <td>...</td>\n",
              "      <td>0.0</td>\n",
              "      <td>0.0</td>\n",
              "      <td>0.0</td>\n",
              "      <td>0.0</td>\n",
              "      <td>0.0</td>\n",
              "      <td>0.0</td>\n",
              "      <td>0.0</td>\n",
              "      <td>0.0</td>\n",
              "      <td>5</td>\n",
              "      <td>neutral</td>\n",
              "    </tr>\n",
              "  </tbody>\n",
              "</table>\n",
              "<p>20228 rows × 2378 columns</p>\n",
              "</div>\n",
              "      <button class=\"colab-df-convert\" onclick=\"convertToInteractive('df-50580145-3e14-44f1-b8d2-9f5f7650f88e')\"\n",
              "              title=\"Convert this dataframe to an interactive table.\"\n",
              "              style=\"display:none;\">\n",
              "\n",
              "  <svg xmlns=\"http://www.w3.org/2000/svg\" height=\"24px\"viewBox=\"0 0 24 24\"\n",
              "       width=\"24px\">\n",
              "    <path d=\"M0 0h24v24H0V0z\" fill=\"none\"/>\n",
              "    <path d=\"M18.56 5.44l.94 2.06.94-2.06 2.06-.94-2.06-.94-.94-2.06-.94 2.06-2.06.94zm-11 1L8.5 8.5l.94-2.06 2.06-.94-2.06-.94L8.5 2.5l-.94 2.06-2.06.94zm10 10l.94 2.06.94-2.06 2.06-.94-2.06-.94-.94-2.06-.94 2.06-2.06.94z\"/><path d=\"M17.41 7.96l-1.37-1.37c-.4-.4-.92-.59-1.43-.59-.52 0-1.04.2-1.43.59L10.3 9.45l-7.72 7.72c-.78.78-.78 2.05 0 2.83L4 21.41c.39.39.9.59 1.41.59.51 0 1.02-.2 1.41-.59l7.78-7.78 2.81-2.81c.8-.78.8-2.07 0-2.86zM5.41 20L4 18.59l7.72-7.72 1.47 1.35L5.41 20z\"/>\n",
              "  </svg>\n",
              "      </button>\n",
              "\n",
              "\n",
              "\n",
              "    <div id=\"df-ce982e71-ea97-4fc0-8a4c-5a6da32dce8b\">\n",
              "      <button class=\"colab-df-quickchart\" onclick=\"quickchart('df-ce982e71-ea97-4fc0-8a4c-5a6da32dce8b')\"\n",
              "              title=\"Suggest charts.\"\n",
              "              style=\"display:none;\">\n",
              "\n",
              "<svg xmlns=\"http://www.w3.org/2000/svg\" height=\"24px\"viewBox=\"0 0 24 24\"\n",
              "     width=\"24px\">\n",
              "    <g>\n",
              "        <path d=\"M19 3H5c-1.1 0-2 .9-2 2v14c0 1.1.9 2 2 2h14c1.1 0 2-.9 2-2V5c0-1.1-.9-2-2-2zM9 17H7v-7h2v7zm4 0h-2V7h2v10zm4 0h-2v-4h2v4z\"/>\n",
              "    </g>\n",
              "</svg>\n",
              "      </button>\n",
              "    </div>\n",
              "\n",
              "<style>\n",
              "  .colab-df-quickchart {\n",
              "    background-color: #E8F0FE;\n",
              "    border: none;\n",
              "    border-radius: 50%;\n",
              "    cursor: pointer;\n",
              "    display: none;\n",
              "    fill: #1967D2;\n",
              "    height: 32px;\n",
              "    padding: 0 0 0 0;\n",
              "    width: 32px;\n",
              "  }\n",
              "\n",
              "  .colab-df-quickchart:hover {\n",
              "    background-color: #E2EBFA;\n",
              "    box-shadow: 0px 1px 2px rgba(60, 64, 67, 0.3), 0px 1px 3px 1px rgba(60, 64, 67, 0.15);\n",
              "    fill: #174EA6;\n",
              "  }\n",
              "\n",
              "  [theme=dark] .colab-df-quickchart {\n",
              "    background-color: #3B4455;\n",
              "    fill: #D2E3FC;\n",
              "  }\n",
              "\n",
              "  [theme=dark] .colab-df-quickchart:hover {\n",
              "    background-color: #434B5C;\n",
              "    box-shadow: 0px 1px 3px 1px rgba(0, 0, 0, 0.15);\n",
              "    filter: drop-shadow(0px 1px 2px rgba(0, 0, 0, 0.3));\n",
              "    fill: #FFFFFF;\n",
              "  }\n",
              "</style>\n",
              "\n",
              "    <script>\n",
              "      async function quickchart(key) {\n",
              "        const containerElement = document.querySelector('#' + key);\n",
              "        const charts = await google.colab.kernel.invokeFunction(\n",
              "            'suggestCharts', [key], {});\n",
              "      }\n",
              "    </script>\n",
              "\n",
              "      <script>\n",
              "\n",
              "function displayQuickchartButton(domScope) {\n",
              "  let quickchartButtonEl =\n",
              "    domScope.querySelector('#df-ce982e71-ea97-4fc0-8a4c-5a6da32dce8b button.colab-df-quickchart');\n",
              "  quickchartButtonEl.style.display =\n",
              "    google.colab.kernel.accessAllowed ? 'block' : 'none';\n",
              "}\n",
              "\n",
              "        displayQuickchartButton(document);\n",
              "      </script>\n",
              "      <style>\n",
              "    .colab-df-container {\n",
              "      display:flex;\n",
              "      flex-wrap:wrap;\n",
              "      gap: 12px;\n",
              "    }\n",
              "\n",
              "    .colab-df-convert {\n",
              "      background-color: #E8F0FE;\n",
              "      border: none;\n",
              "      border-radius: 50%;\n",
              "      cursor: pointer;\n",
              "      display: none;\n",
              "      fill: #1967D2;\n",
              "      height: 32px;\n",
              "      padding: 0 0 0 0;\n",
              "      width: 32px;\n",
              "    }\n",
              "\n",
              "    .colab-df-convert:hover {\n",
              "      background-color: #E2EBFA;\n",
              "      box-shadow: 0px 1px 2px rgba(60, 64, 67, 0.3), 0px 1px 3px 1px rgba(60, 64, 67, 0.15);\n",
              "      fill: #174EA6;\n",
              "    }\n",
              "\n",
              "    [theme=dark] .colab-df-convert {\n",
              "      background-color: #3B4455;\n",
              "      fill: #D2E3FC;\n",
              "    }\n",
              "\n",
              "    [theme=dark] .colab-df-convert:hover {\n",
              "      background-color: #434B5C;\n",
              "      box-shadow: 0px 1px 3px 1px rgba(0, 0, 0, 0.15);\n",
              "      filter: drop-shadow(0px 1px 2px rgba(0, 0, 0, 0.3));\n",
              "      fill: #FFFFFF;\n",
              "    }\n",
              "  </style>\n",
              "\n",
              "      <script>\n",
              "        const buttonEl =\n",
              "          document.querySelector('#df-50580145-3e14-44f1-b8d2-9f5f7650f88e button.colab-df-convert');\n",
              "        buttonEl.style.display =\n",
              "          google.colab.kernel.accessAllowed ? 'block' : 'none';\n",
              "\n",
              "        async function convertToInteractive(key) {\n",
              "          const element = document.querySelector('#df-50580145-3e14-44f1-b8d2-9f5f7650f88e');\n",
              "          const dataTable =\n",
              "            await google.colab.kernel.invokeFunction('convertToInteractive',\n",
              "                                                     [key], {});\n",
              "          if (!dataTable) return;\n",
              "\n",
              "          const docLinkHtml = 'Like what you see? Visit the ' +\n",
              "            '<a target=\"_blank\" href=https://colab.research.google.com/notebooks/data_table.ipynb>data table notebook</a>'\n",
              "            + ' to learn more about interactive tables.';\n",
              "          element.innerHTML = '';\n",
              "          dataTable['output_type'] = 'display_data';\n",
              "          await google.colab.output.renderOutput(dataTable, element);\n",
              "          const docLink = document.createElement('div');\n",
              "          docLink.innerHTML = docLinkHtml;\n",
              "          element.appendChild(docLink);\n",
              "        }\n",
              "      </script>\n",
              "    </div>\n",
              "  </div>\n"
            ]
          },
          "metadata": {},
          "execution_count": 61
        }
      ]
    },
    {
      "cell_type": "code",
      "source": [
        "X = Features.iloc[: ,:-1].values\n",
        "Y = Features['labels'].values"
      ],
      "metadata": {
        "id": "4Lnb70OB2NHj"
      },
      "execution_count": 62,
      "outputs": []
    },
    {
      "cell_type": "code",
      "source": [
        "encoder = OneHotEncoder()\n",
        "Y = encoder.fit_transform(np.array(Y).reshape(-1,1)).toarray()\n",
        "encoder.categories_"
      ],
      "metadata": {
        "colab": {
          "base_uri": "https://localhost:8080/"
        },
        "id": "Qf9dGYRg2PDO",
        "outputId": "5a99428e-e821-4811-b052-de9c7ac51ce8"
      },
      "execution_count": 63,
      "outputs": [
        {
          "output_type": "execute_result",
          "data": {
            "text/plain": [
              "[array(['anger', 'anxiety/fear', 'disgust', 'happiness', 'neutral', 'sad'],\n",
              "       dtype=object)]"
            ]
          },
          "metadata": {},
          "execution_count": 63
        }
      ]
    },
    {
      "cell_type": "code",
      "source": [
        "x_train, x_test, y_train, y_test = train_test_split(X, Y,test_size=0.15, random_state=30, shuffle=True,stratify=Y)\n",
        "x_train.shape, y_train.shape, x_test.shape, y_test.shape"
      ],
      "metadata": {
        "colab": {
          "base_uri": "https://localhost:8080/"
        },
        "id": "Rn8jPY6v2QZ0",
        "outputId": "9940f02c-c4e8-4a00-ca15-77243aea42f3"
      },
      "execution_count": 64,
      "outputs": [
        {
          "output_type": "execute_result",
          "data": {
            "text/plain": [
              "((17193, 2377), (17193, 6), (3035, 2377), (3035, 6))"
            ]
          },
          "metadata": {},
          "execution_count": 64
        }
      ]
    },
    {
      "cell_type": "code",
      "source": [
        "scaler = StandardScaler()"
      ],
      "metadata": {
        "id": "_63d4SR82TVs"
      },
      "execution_count": 65,
      "outputs": []
    },
    {
      "cell_type": "code",
      "source": [
        "x_test, x_val, y_test, y_val = train_test_split(x_test, y_test, random_state=30, test_size=0.25, shuffle=True,stratify=y_test)\n",
        "x_train.shape, x_test.shape, x_val.shape, x_train.shape, x_test.shape, x_val.shape"
      ],
      "metadata": {
        "colab": {
          "base_uri": "https://localhost:8080/"
        },
        "id": "Q-1d9rVz2Uxs",
        "outputId": "5730aaeb-610b-4aa9-9c77-75477439a4c4"
      },
      "execution_count": 66,
      "outputs": [
        {
          "output_type": "execute_result",
          "data": {
            "text/plain": [
              "((17193, 2377),\n",
              " (2276, 2377),\n",
              " (759, 2377),\n",
              " (17193, 2377),\n",
              " (2276, 2377),\n",
              " (759, 2377))"
            ]
          },
          "metadata": {},
          "execution_count": 66
        }
      ]
    },
    {
      "cell_type": "code",
      "source": [
        "x_train = scaler.fit_transform(x_train)\n",
        "x_val=scaler.transform(x_val)\n",
        "x_test = scaler.transform(x_test)\n",
        "\n",
        "x_train.shape, y_train.shape, x_test.shape, y_test.shape"
      ],
      "metadata": {
        "colab": {
          "base_uri": "https://localhost:8080/"
        },
        "id": "mSgVX6P62WKQ",
        "outputId": "a1bb5ea3-569c-4081-fdea-4a6f11ab58a8"
      },
      "execution_count": 67,
      "outputs": [
        {
          "output_type": "execute_result",
          "data": {
            "text/plain": [
              "((17193, 2377), (17193, 6), (2276, 2377), (2276, 6))"
            ]
          },
          "metadata": {},
          "execution_count": 67
        }
      ]
    },
    {
      "cell_type": "code",
      "source": [
        "optimizer = keras.optimizers.Adam(lr=0.0005)"
      ],
      "metadata": {
        "colab": {
          "base_uri": "https://localhost:8080/"
        },
        "id": "EB6caKkG2Xn2",
        "outputId": "9a1b6068-6134-4495-e727-ee980bf0382d"
      },
      "execution_count": 68,
      "outputs": [
        {
          "output_type": "stream",
          "name": "stderr",
          "text": [
            "/usr/local/lib/python3.10/dist-packages/keras/optimizers/legacy/adam.py:117: UserWarning: The `lr` argument is deprecated, use `learning_rate` instead.\n",
            "  super().__init__(name, **kwargs)\n"
          ]
        }
      ]
    },
    {
      "cell_type": "code",
      "source": [
        "model3=Sequential()\n",
        "\n",
        "model3.add(Conv1D(256, kernel_size=5, strides=1, padding='same', activation='relu', input_shape=(x_train.shape[1], 1)))\n",
        "model3.add(BatchNormalization())\n",
        "model3.add(MaxPooling1D(pool_size=5, strides = 2, padding = 'same'))\n",
        "\n",
        "model3.add(Conv1D(256, kernel_size=5, strides=1, padding='same', activation='relu'))\n",
        "model3.add(BatchNormalization())\n",
        "model3.add(MaxPooling1D(pool_size=5, strides = 2, padding = 'same'))\n",
        "\n",
        "model3.add(Conv1D(128, kernel_size=5, strides=1, padding='same', activation='relu'))\n",
        "model3.add(BatchNormalization())\n",
        "model3.add(MaxPooling1D(pool_size=5, strides = 2, padding = 'same'))\n",
        "model3.add(Dropout(0.2))\n",
        "\n",
        "model3.add(Conv1D(64, kernel_size=5, strides=1, padding='same', activation='relu'))\n",
        "model3.add(BatchNormalization())\n",
        "model3.add(MaxPooling1D(pool_size=5, strides = 2, padding = 'same'))\n",
        "\n",
        "model3.add(Flatten())\n",
        "model3.add(Dense(32, activation='relu'))\n",
        "model3.add(BatchNormalization())\n",
        "model3.add(Dropout(0.25))\n",
        "\n",
        "model3.add(Dense(6, activation='softmax'))\n",
        "model3.compile(optimizer = 'Adam' , loss = 'categorical_crossentropy' , metrics = ['accuracy'])\n",
        "\n",
        "model3.summary()"
      ],
      "metadata": {
        "colab": {
          "base_uri": "https://localhost:8080/"
        },
        "id": "aB7sZCJG2Zd3",
        "outputId": "7c65b63f-0e20-482c-f36a-933541ca1c34"
      },
      "execution_count": 69,
      "outputs": [
        {
          "output_type": "stream",
          "name": "stdout",
          "text": [
            "Model: \"sequential_2\"\n",
            "_________________________________________________________________\n",
            " Layer (type)                Output Shape              Param #   \n",
            "=================================================================\n",
            " conv1d_8 (Conv1D)           (None, 2377, 256)         1536      \n",
            "                                                                 \n",
            " batch_normalization_10 (Bat  (None, 2377, 256)        1024      \n",
            " chNormalization)                                                \n",
            "                                                                 \n",
            " max_pooling1d_8 (MaxPooling  (None, 1189, 256)        0         \n",
            " 1D)                                                             \n",
            "                                                                 \n",
            " conv1d_9 (Conv1D)           (None, 1189, 256)         327936    \n",
            "                                                                 \n",
            " batch_normalization_11 (Bat  (None, 1189, 256)        1024      \n",
            " chNormalization)                                                \n",
            "                                                                 \n",
            " max_pooling1d_9 (MaxPooling  (None, 595, 256)         0         \n",
            " 1D)                                                             \n",
            "                                                                 \n",
            " conv1d_10 (Conv1D)          (None, 595, 128)          163968    \n",
            "                                                                 \n",
            " batch_normalization_12 (Bat  (None, 595, 128)         512       \n",
            " chNormalization)                                                \n",
            "                                                                 \n",
            " max_pooling1d_10 (MaxPoolin  (None, 298, 128)         0         \n",
            " g1D)                                                            \n",
            "                                                                 \n",
            " dropout_4 (Dropout)         (None, 298, 128)          0         \n",
            "                                                                 \n",
            " conv1d_11 (Conv1D)          (None, 298, 64)           41024     \n",
            "                                                                 \n",
            " batch_normalization_13 (Bat  (None, 298, 64)          256       \n",
            " chNormalization)                                                \n",
            "                                                                 \n",
            " max_pooling1d_11 (MaxPoolin  (None, 149, 64)          0         \n",
            " g1D)                                                            \n",
            "                                                                 \n",
            " flatten_2 (Flatten)         (None, 9536)              0         \n",
            "                                                                 \n",
            " dense_4 (Dense)             (None, 32)                305184    \n",
            "                                                                 \n",
            " batch_normalization_14 (Bat  (None, 32)               128       \n",
            " chNormalization)                                                \n",
            "                                                                 \n",
            " dropout_5 (Dropout)         (None, 32)                0         \n",
            "                                                                 \n",
            " dense_5 (Dense)             (None, 6)                 198       \n",
            "                                                                 \n",
            "=================================================================\n",
            "Total params: 842,790\n",
            "Trainable params: 841,318\n",
            "Non-trainable params: 1,472\n",
            "_________________________________________________________________\n"
          ]
        }
      ]
    },
    {
      "cell_type": "code",
      "source": [
        "learning_rate_reduction = ReduceLROnPlateau(monitor='val_accuracy',\n",
        "                                            patience=3,\n",
        "                                            verbose=1,\n",
        "                                            factor=0.5,\n",
        "                                            min_lr=0.00001)\n",
        "early_stop = EarlyStopping(monitor='val_accuracy', mode='auto', patience=5, start_from_epoch=20)\n",
        "callbacks=[learning_rate_reduction,early_stop]\n",
        "\n"
      ],
      "metadata": {
        "id": "uTmDOLaU2b-l"
      },
      "execution_count": 70,
      "outputs": []
    },
    {
      "cell_type": "code",
      "source": [
        "history3=model3.fit(x_train, y_train, batch_size=32, epochs=100, validation_data=(x_val, y_val), callbacks=callbacks)"
      ],
      "metadata": {
        "colab": {
          "base_uri": "https://localhost:8080/"
        },
        "id": "MYd0TdYr2elP",
        "outputId": "184bafd3-2690-43c3-988f-d6cccf3838b5"
      },
      "execution_count": 71,
      "outputs": [
        {
          "output_type": "stream",
          "name": "stdout",
          "text": [
            "Epoch 1/100\n",
            "538/538 [==============================] - 44s 67ms/step - loss: 1.5865 - accuracy: 0.3645 - val_loss: 1.5472 - val_accuracy: 0.4058 - lr: 0.0010\n",
            "Epoch 2/100\n",
            "538/538 [==============================] - 35s 65ms/step - loss: 1.4202 - accuracy: 0.4265 - val_loss: 1.3804 - val_accuracy: 0.4361 - lr: 0.0010\n",
            "Epoch 3/100\n",
            "538/538 [==============================] - 34s 64ms/step - loss: 1.3449 - accuracy: 0.4620 - val_loss: 1.3021 - val_accuracy: 0.4717 - lr: 0.0010\n",
            "Epoch 4/100\n",
            "538/538 [==============================] - 35s 65ms/step - loss: 1.2738 - accuracy: 0.4956 - val_loss: 1.4460 - val_accuracy: 0.4058 - lr: 0.0010\n",
            "Epoch 5/100\n",
            "538/538 [==============================] - 34s 64ms/step - loss: 1.2163 - accuracy: 0.5204 - val_loss: 1.3869 - val_accuracy: 0.4480 - lr: 0.0010\n",
            "Epoch 6/100\n",
            "538/538 [==============================] - 36s 67ms/step - loss: 1.1786 - accuracy: 0.5359 - val_loss: 1.1781 - val_accuracy: 0.5270 - lr: 0.0010\n",
            "Epoch 7/100\n",
            "538/538 [==============================] - 36s 67ms/step - loss: 1.1445 - accuracy: 0.5514 - val_loss: 1.1555 - val_accuracy: 0.5613 - lr: 0.0010\n",
            "Epoch 8/100\n",
            "538/538 [==============================] - 35s 65ms/step - loss: 1.0569 - accuracy: 0.5925 - val_loss: 1.0423 - val_accuracy: 0.5850 - lr: 0.0010\n",
            "Epoch 9/100\n",
            "538/538 [==============================] - 35s 65ms/step - loss: 0.9750 - accuracy: 0.6268 - val_loss: 1.0693 - val_accuracy: 0.5771 - lr: 0.0010\n",
            "Epoch 10/100\n",
            "538/538 [==============================] - 35s 65ms/step - loss: 0.9117 - accuracy: 0.6490 - val_loss: 0.9574 - val_accuracy: 0.6179 - lr: 0.0010\n",
            "Epoch 11/100\n",
            "538/538 [==============================] - 35s 64ms/step - loss: 0.8379 - accuracy: 0.6821 - val_loss: 0.9981 - val_accuracy: 0.6192 - lr: 0.0010\n",
            "Epoch 12/100\n",
            "538/538 [==============================] - 35s 65ms/step - loss: 0.7784 - accuracy: 0.7070 - val_loss: 0.8036 - val_accuracy: 0.6957 - lr: 0.0010\n",
            "Epoch 13/100\n",
            "538/538 [==============================] - 35s 64ms/step - loss: 0.7141 - accuracy: 0.7304 - val_loss: 0.8338 - val_accuracy: 0.6719 - lr: 0.0010\n",
            "Epoch 14/100\n",
            "538/538 [==============================] - 35s 64ms/step - loss: 0.6745 - accuracy: 0.7509 - val_loss: 0.8977 - val_accuracy: 0.6574 - lr: 0.0010\n",
            "Epoch 15/100\n",
            "538/538 [==============================] - 35s 64ms/step - loss: 0.6159 - accuracy: 0.7704 - val_loss: 0.6497 - val_accuracy: 0.7510 - lr: 0.0010\n",
            "Epoch 16/100\n",
            "538/538 [==============================] - 34s 64ms/step - loss: 0.5678 - accuracy: 0.7890 - val_loss: 0.5719 - val_accuracy: 0.8129 - lr: 0.0010\n",
            "Epoch 17/100\n",
            "538/538 [==============================] - 35s 64ms/step - loss: 0.5308 - accuracy: 0.8038 - val_loss: 0.6043 - val_accuracy: 0.7918 - lr: 0.0010\n",
            "Epoch 18/100\n",
            "538/538 [==============================] - 35s 64ms/step - loss: 0.4909 - accuracy: 0.8189 - val_loss: 0.6797 - val_accuracy: 0.7339 - lr: 0.0010\n",
            "Epoch 19/100\n",
            "538/538 [==============================] - 35s 64ms/step - loss: 0.4604 - accuracy: 0.8308 - val_loss: 0.4652 - val_accuracy: 0.8300 - lr: 0.0010\n",
            "Epoch 20/100\n",
            "538/538 [==============================] - 35s 64ms/step - loss: 0.4177 - accuracy: 0.8481 - val_loss: 0.6296 - val_accuracy: 0.7826 - lr: 0.0010\n",
            "Epoch 21/100\n",
            "538/538 [==============================] - 35s 64ms/step - loss: 0.3996 - accuracy: 0.8533 - val_loss: 0.4820 - val_accuracy: 0.8155 - lr: 0.0010\n",
            "Epoch 22/100\n",
            "537/538 [============================>.] - ETA: 0s - loss: 0.3793 - accuracy: 0.8633\n",
            "Epoch 22: ReduceLROnPlateau reducing learning rate to 0.0005000000237487257.\n",
            "538/538 [==============================] - 35s 64ms/step - loss: 0.3792 - accuracy: 0.8634 - val_loss: 0.6630 - val_accuracy: 0.7694 - lr: 0.0010\n",
            "Epoch 23/100\n",
            "538/538 [==============================] - 35s 64ms/step - loss: 0.2953 - accuracy: 0.8957 - val_loss: 0.3093 - val_accuracy: 0.8920 - lr: 5.0000e-04\n",
            "Epoch 24/100\n",
            "538/538 [==============================] - 35s 65ms/step - loss: 0.2660 - accuracy: 0.9051 - val_loss: 0.2898 - val_accuracy: 0.9157 - lr: 5.0000e-04\n",
            "Epoch 25/100\n",
            "538/538 [==============================] - 35s 64ms/step - loss: 0.2948 - accuracy: 0.8956 - val_loss: 0.3384 - val_accuracy: 0.8867 - lr: 5.0000e-04\n",
            "Epoch 26/100\n",
            "538/538 [==============================] - 35s 64ms/step - loss: 0.2250 - accuracy: 0.9211 - val_loss: 0.2648 - val_accuracy: 0.9038 - lr: 5.0000e-04\n",
            "Epoch 27/100\n",
            "537/538 [============================>.] - ETA: 0s - loss: 0.2160 - accuracy: 0.9245\n",
            "Epoch 27: ReduceLROnPlateau reducing learning rate to 0.0002500000118743628.\n",
            "538/538 [==============================] - 35s 64ms/step - loss: 0.2162 - accuracy: 0.9244 - val_loss: 0.2612 - val_accuracy: 0.9144 - lr: 5.0000e-04\n",
            "Epoch 28/100\n",
            "538/538 [==============================] - 35s 65ms/step - loss: 0.1980 - accuracy: 0.9294 - val_loss: 0.1962 - val_accuracy: 0.9381 - lr: 2.5000e-04\n",
            "Epoch 29/100\n",
            "538/538 [==============================] - 35s 65ms/step - loss: 0.1787 - accuracy: 0.9385 - val_loss: 0.1893 - val_accuracy: 0.9341 - lr: 2.5000e-04\n",
            "Epoch 30/100\n",
            "538/538 [==============================] - 34s 64ms/step - loss: 0.1628 - accuracy: 0.9450 - val_loss: 0.2228 - val_accuracy: 0.9354 - lr: 2.5000e-04\n",
            "Epoch 31/100\n",
            "538/538 [==============================] - 35s 64ms/step - loss: 0.1635 - accuracy: 0.9436 - val_loss: 0.1898 - val_accuracy: 0.9526 - lr: 2.5000e-04\n",
            "Epoch 32/100\n",
            "538/538 [==============================] - 34s 64ms/step - loss: 0.1575 - accuracy: 0.9474 - val_loss: 0.1936 - val_accuracy: 0.9447 - lr: 2.5000e-04\n",
            "Epoch 33/100\n",
            "538/538 [==============================] - 35s 64ms/step - loss: 0.1519 - accuracy: 0.9468 - val_loss: 0.1979 - val_accuracy: 0.9420 - lr: 2.5000e-04\n",
            "Epoch 34/100\n",
            "537/538 [============================>.] - ETA: 0s - loss: 0.1480 - accuracy: 0.9487\n",
            "Epoch 34: ReduceLROnPlateau reducing learning rate to 0.0001250000059371814.\n",
            "538/538 [==============================] - 34s 64ms/step - loss: 0.1479 - accuracy: 0.9488 - val_loss: 0.2031 - val_accuracy: 0.9394 - lr: 2.5000e-04\n",
            "Epoch 35/100\n",
            "538/538 [==============================] - 35s 65ms/step - loss: 0.1416 - accuracy: 0.9497 - val_loss: 0.1816 - val_accuracy: 0.9473 - lr: 1.2500e-04\n",
            "Epoch 36/100\n",
            "538/538 [==============================] - 34s 64ms/step - loss: 0.1317 - accuracy: 0.9535 - val_loss: 0.1835 - val_accuracy: 0.9473 - lr: 1.2500e-04\n"
          ]
        }
      ]
    },
    {
      "cell_type": "code",
      "source": [
        "print(\"Accuracy of our model on test data : \" , model3.evaluate(x_test,y_test)[1]*100 , \"%\")"
      ],
      "metadata": {
        "colab": {
          "base_uri": "https://localhost:8080/"
        },
        "id": "P_sCcqfi2geq",
        "outputId": "0d8dd807-9f78-400a-e1e4-2020936a31a2"
      },
      "execution_count": 72,
      "outputs": [
        {
          "output_type": "stream",
          "name": "stdout",
          "text": [
            "72/72 [==============================] - 1s 20ms/step - loss: 0.1951 - accuracy: 0.9380\n",
            "Accuracy of our model on test data :  93.80491971969604 %\n"
          ]
        }
      ]
    },
    {
      "cell_type": "code",
      "source": [
        "pred_test = model3.predict(x_test)\n",
        "\n",
        "y_pred = encoder.inverse_transform(pred_test)\n",
        "\n",
        "y_test = encoder.inverse_transform(y_test)"
      ],
      "metadata": {
        "colab": {
          "base_uri": "https://localhost:8080/"
        },
        "id": "ASFNZ3z32iyk",
        "outputId": "fd7725f7-8c5d-40ae-917c-55b5b10d86ae"
      },
      "execution_count": 73,
      "outputs": [
        {
          "output_type": "stream",
          "name": "stdout",
          "text": [
            "72/72 [==============================] - 2s 18ms/step\n"
          ]
        }
      ]
    },
    {
      "cell_type": "code",
      "source": [
        "pred_test=model3.predict(x_test)"
      ],
      "metadata": {
        "colab": {
          "base_uri": "https://localhost:8080/"
        },
        "id": "9VFxpQ8k3PYA",
        "outputId": "56ebb282-8504-4493-af96-5e3241bcffa4"
      },
      "execution_count": 74,
      "outputs": [
        {
          "output_type": "stream",
          "name": "stdout",
          "text": [
            "72/72 [==============================] - 1s 17ms/step\n"
          ]
        }
      ]
    },
    {
      "cell_type": "code",
      "source": [
        "df_temp3 = pd.DataFrame(columns=['Predicted Labels', 'Actual Labels'])\n",
        "df_temp3['Predicted Labels'] = y_pred.flatten()\n",
        "df_temp3['Actual Labels'] = y_test.flatten()"
      ],
      "metadata": {
        "id": "4u90MLyB3Qzd"
      },
      "execution_count": 75,
      "outputs": []
    },
    {
      "cell_type": "code",
      "source": [
        "cm = confusion_matrix(y_test, y_pred)\n",
        "plt.figure(figsize = (12, 10))\n",
        "cm = pd.DataFrame(cm , index = [i for i in encoder.categories_] , columns = [i for i in encoder.categories_])\n",
        "sns.heatmap(cm, linecolor='white', cmap='Blues', linewidth=1, annot=True, fmt='')\n",
        "plt.title('Confusion Matrix', size=20)\n",
        "plt.xlabel('Predicted Labels', size=14)\n",
        "plt.ylabel('Actual Labels', size=14)\n",
        "plt.show()"
      ],
      "metadata": {
        "colab": {
          "base_uri": "https://localhost:8080/",
          "height": 885
        },
        "id": "wd0jg09O3SVH",
        "outputId": "07f34754-4415-434f-cf3d-49727854d2fa"
      },
      "execution_count": 76,
      "outputs": [
        {
          "output_type": "display_data",
          "data": {
            "text/plain": [
              "<Figure size 1200x1000 with 2 Axes>"
            ],
            "image/png": "[encoded data removed]"
          },
          "metadata": {}
        }
      ]
    },
    {
      "cell_type": "code",
      "source": [
        "epochs = [i for i in range(early_stop.stopped_epoch+1) ]\n",
        "fig , ax = plt.subplots(1,2)\n",
        "train_acc = history3.history['accuracy']\n",
        "train_loss = history3.history['loss']\n",
        "test_acc = history3.history['val_accuracy']\n",
        "test_loss = history3.history['val_loss']\n",
        "\n",
        "fig.set_size_inches(20,6)\n",
        "ax[0].plot(epochs , train_loss , label = 'Training Loss')\n",
        "ax[0].plot(epochs , test_loss , label = 'Testing Loss')\n",
        "ax[0].set_title('Training & Testing Loss')\n",
        "ax[0].legend()\n",
        "ax[0].set_xlabel(\"Epochs\")\n",
        "\n",
        "ax[1].plot(epochs , train_acc , label = 'Training Accuracy')\n",
        "ax[1].plot(epochs , test_acc , label = 'Testing Accuracy')\n",
        "ax[1].set_title('Training & Testing Accuracy')\n",
        "ax[1].legend()\n",
        "ax[1].set_xlabel(\"Epochs\")\n",
        "plt.show()"
      ],
      "metadata": {
        "colab": {
          "base_uri": "https://localhost:8080/",
          "height": 337
        },
        "id": "N4BnO1Uc3TrC",
        "outputId": "71b17703-dd89-4ce6-a2c9-a5db9c38eb1d"
      },
      "execution_count": 77,
      "outputs": [
        {
          "output_type": "display_data",
          "data": {
            "text/plain": [
              "<Figure size 2000x600 with 2 Axes>"
            ],
            "image/png": "[encoded data removed]"
          },
          "metadata": {}
        }
      ]
    },
    {
      "cell_type": "code",
      "source": [
        "print(classification_report(y_test, y_pred, target_names=['anger', 'anxiety/fear', 'disgust', 'happiness', 'neutral', 'sad']))"
      ],
      "metadata": {
        "colab": {
          "base_uri": "https://localhost:8080/"
        },
        "id": "3BYNPDgy3WIS",
        "outputId": "13fc75a2-faeb-48b3-b275-b83077490d6a"
      },
      "execution_count": 78,
      "outputs": [
        {
          "output_type": "stream",
          "name": "stdout",
          "text": [
            "              precision    recall  f1-score   support\n",
            "\n",
            "       anger       0.95      0.96      0.95       405\n",
            "anxiety/fear       0.93      0.93      0.93       399\n",
            "     disgust       0.95      0.92      0.93       366\n",
            "   happiness       0.94      0.91      0.92       391\n",
            "     neutral       0.93      0.95      0.94       340\n",
            "         sad       0.93      0.96      0.94       375\n",
            "\n",
            "    accuracy                           0.94      2276\n",
            "   macro avg       0.94      0.94      0.94      2276\n",
            "weighted avg       0.94      0.94      0.94      2276\n",
            "\n"
          ]
        }
      ]
    },
    {
      "cell_type": "code",
      "source": [],
      "metadata": {
        "id": "Xv_zHmqw3th3"
      },
      "execution_count": null,
      "outputs": []
    }
  ]
}