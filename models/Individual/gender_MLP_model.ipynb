{
  "cells": [
    {
      "cell_type": "code",
      "execution_count": 1,
      "metadata": {
        "id": "i1aq_TY0geND"
      },
      "outputs": [],
      "source": [
        "import numpy as np\n",
        "import pandas as pd\n",
        "from sklearn.decomposition import PCA\n",
        "from sklearn.model_selection import train_test_split\n",
        "import seaborn as sns\n",
        "from tensorflow.keras.models import Model\n",
        "from tensorflow.keras.layers import Input, Dense,BatchNormalization, Dropout\n",
        "from keras.optimizers import SGD"
      ]
    },
    {
      "cell_type": "code",
      "execution_count": 2,
      "metadata": {
        "id": "QlzKsVO1g695"
      },
      "outputs": [],
      "source": [
        "dataset_path = '../../data/features_age_emotion.csv'\n",
        "data = pd.read_csv(dataset_path)"
      ]
    },
    {
      "cell_type": "code",
      "execution_count": 3,
      "metadata": {
        "colab": {
          "base_uri": "https://localhost:8080/",
          "height": 236
        },
        "id": "yVtX6jERhMt5",
        "outputId": "96cbe5fb-7254-47d0-d3a2-af8d84a96267"
      },
      "outputs": [
        {
          "data": {
            "text/html": [
              "<div>\n",
              "<style scoped>\n",
              "    .dataframe tbody tr th:only-of-type {\n",
              "        vertical-align: middle;\n",
              "    }\n",
              "\n",
              "    .dataframe tbody tr th {\n",
              "        vertical-align: top;\n",
              "    }\n",
              "\n",
              "    .dataframe thead th {\n",
              "        text-align: right;\n",
              "    }\n",
              "</style>\n",
              "<table border=\"1\" class=\"dataframe\">\n",
              "  <thead>\n",
              "    <tr style=\"text-align: right;\">\n",
              "      <th></th>\n",
              "      <th>0</th>\n",
              "      <th>1</th>\n",
              "      <th>2</th>\n",
              "      <th>3</th>\n",
              "      <th>4</th>\n",
              "      <th>5</th>\n",
              "      <th>6</th>\n",
              "      <th>7</th>\n",
              "      <th>8</th>\n",
              "      <th>9</th>\n",
              "      <th>...</th>\n",
              "      <th>2853</th>\n",
              "      <th>2854</th>\n",
              "      <th>2855</th>\n",
              "      <th>2856</th>\n",
              "      <th>2857</th>\n",
              "      <th>2858</th>\n",
              "      <th>2859</th>\n",
              "      <th>age</th>\n",
              "      <th>gender</th>\n",
              "      <th>emotion</th>\n",
              "    </tr>\n",
              "  </thead>\n",
              "  <tbody>\n",
              "    <tr>\n",
              "      <th>0</th>\n",
              "      <td>0.017090</td>\n",
              "      <td>0.024902</td>\n",
              "      <td>0.028809</td>\n",
              "      <td>0.045410</td>\n",
              "      <td>0.074707</td>\n",
              "      <td>0.100098</td>\n",
              "      <td>0.119141</td>\n",
              "      <td>0.110840</td>\n",
              "      <td>0.088867</td>\n",
              "      <td>0.067383</td>\n",
              "      <td>...</td>\n",
              "      <td>NaN</td>\n",
              "      <td>NaN</td>\n",
              "      <td>NaN</td>\n",
              "      <td>NaN</td>\n",
              "      <td>NaN</td>\n",
              "      <td>NaN</td>\n",
              "      <td>NaN</td>\n",
              "      <td>51</td>\n",
              "      <td>male</td>\n",
              "      <td>anger</td>\n",
              "    </tr>\n",
              "    <tr>\n",
              "      <th>1</th>\n",
              "      <td>0.182129</td>\n",
              "      <td>0.256836</td>\n",
              "      <td>0.350098</td>\n",
              "      <td>0.351074</td>\n",
              "      <td>0.281738</td>\n",
              "      <td>0.240234</td>\n",
              "      <td>0.170410</td>\n",
              "      <td>0.110840</td>\n",
              "      <td>0.089844</td>\n",
              "      <td>0.068359</td>\n",
              "      <td>...</td>\n",
              "      <td>NaN</td>\n",
              "      <td>NaN</td>\n",
              "      <td>NaN</td>\n",
              "      <td>NaN</td>\n",
              "      <td>NaN</td>\n",
              "      <td>NaN</td>\n",
              "      <td>NaN</td>\n",
              "      <td>51</td>\n",
              "      <td>male</td>\n",
              "      <td>anger</td>\n",
              "    </tr>\n",
              "    <tr>\n",
              "      <th>2</th>\n",
              "      <td>0.015625</td>\n",
              "      <td>0.029297</td>\n",
              "      <td>0.070801</td>\n",
              "      <td>0.104004</td>\n",
              "      <td>0.132324</td>\n",
              "      <td>0.149414</td>\n",
              "      <td>0.131836</td>\n",
              "      <td>0.109863</td>\n",
              "      <td>0.092773</td>\n",
              "      <td>0.076660</td>\n",
              "      <td>...</td>\n",
              "      <td>NaN</td>\n",
              "      <td>NaN</td>\n",
              "      <td>NaN</td>\n",
              "      <td>NaN</td>\n",
              "      <td>NaN</td>\n",
              "      <td>NaN</td>\n",
              "      <td>NaN</td>\n",
              "      <td>51</td>\n",
              "      <td>male</td>\n",
              "      <td>anger</td>\n",
              "    </tr>\n",
              "    <tr>\n",
              "      <th>3</th>\n",
              "      <td>0.076660</td>\n",
              "      <td>0.113770</td>\n",
              "      <td>0.167969</td>\n",
              "      <td>0.180176</td>\n",
              "      <td>0.173340</td>\n",
              "      <td>0.166992</td>\n",
              "      <td>0.136719</td>\n",
              "      <td>0.109863</td>\n",
              "      <td>0.091309</td>\n",
              "      <td>0.075684</td>\n",
              "      <td>...</td>\n",
              "      <td>NaN</td>\n",
              "      <td>NaN</td>\n",
              "      <td>NaN</td>\n",
              "      <td>NaN</td>\n",
              "      <td>NaN</td>\n",
              "      <td>NaN</td>\n",
              "      <td>NaN</td>\n",
              "      <td>51</td>\n",
              "      <td>male</td>\n",
              "      <td>anger</td>\n",
              "    </tr>\n",
              "    <tr>\n",
              "      <th>4</th>\n",
              "      <td>0.015137</td>\n",
              "      <td>0.031738</td>\n",
              "      <td>0.036621</td>\n",
              "      <td>0.041504</td>\n",
              "      <td>0.037109</td>\n",
              "      <td>0.026855</td>\n",
              "      <td>0.029297</td>\n",
              "      <td>0.029297</td>\n",
              "      <td>0.035645</td>\n",
              "      <td>0.067383</td>\n",
              "      <td>...</td>\n",
              "      <td>NaN</td>\n",
              "      <td>NaN</td>\n",
              "      <td>NaN</td>\n",
              "      <td>NaN</td>\n",
              "      <td>NaN</td>\n",
              "      <td>NaN</td>\n",
              "      <td>NaN</td>\n",
              "      <td>51</td>\n",
              "      <td>male</td>\n",
              "      <td>disgust</td>\n",
              "    </tr>\n",
              "  </tbody>\n",
              "</table>\n",
              "<p>5 rows × 2863 columns</p>\n",
              "</div>"
            ],
            "text/plain": [
              "          0         1         2         3         4         5         6  \\\n",
              "0  0.017090  0.024902  0.028809  0.045410  0.074707  0.100098  0.119141   \n",
              "1  0.182129  0.256836  0.350098  0.351074  0.281738  0.240234  0.170410   \n",
              "2  0.015625  0.029297  0.070801  0.104004  0.132324  0.149414  0.131836   \n",
              "3  0.076660  0.113770  0.167969  0.180176  0.173340  0.166992  0.136719   \n",
              "4  0.015137  0.031738  0.036621  0.041504  0.037109  0.026855  0.029297   \n",
              "\n",
              "          7         8         9  ...  2853  2854  2855  2856  2857  2858  \\\n",
              "0  0.110840  0.088867  0.067383  ...   NaN   NaN   NaN   NaN   NaN   NaN   \n",
              "1  0.110840  0.089844  0.068359  ...   NaN   NaN   NaN   NaN   NaN   NaN   \n",
              "2  0.109863  0.092773  0.076660  ...   NaN   NaN   NaN   NaN   NaN   NaN   \n",
              "3  0.109863  0.091309  0.075684  ...   NaN   NaN   NaN   NaN   NaN   NaN   \n",
              "4  0.029297  0.035645  0.067383  ...   NaN   NaN   NaN   NaN   NaN   NaN   \n",
              "\n",
              "   2859  age  gender  emotion  \n",
              "0   NaN   51    male    anger  \n",
              "1   NaN   51    male    anger  \n",
              "2   NaN   51    male    anger  \n",
              "3   NaN   51    male    anger  \n",
              "4   NaN   51    male  disgust  \n",
              "\n",
              "[5 rows x 2863 columns]"
            ]
          },
          "execution_count": 3,
          "metadata": {},
          "output_type": "execute_result"
        }
      ],
      "source": [
        "data.head()"
      ]
    },
    {
      "cell_type": "code",
      "execution_count": 4,
      "metadata": {
        "id": "I5fKq_epihnt"
      },
      "outputs": [],
      "source": [
        "data['age'] = pd.cut(data['age'], bins=[20, 29, 39, 49, 59, 69, 79],\n",
        "                           labels=['twenties', 'thirties', 'forties', 'fifties', 'sixties', 'seventies'],\n",
        "                           right=False)"
      ]
    },
    {
      "cell_type": "code",
      "execution_count": 5,
      "metadata": {
        "id": "KXdhkFlgi67j"
      },
      "outputs": [],
      "source": [
        "data = data.replace(np.nan, 0)"
      ]
    },
    {
      "cell_type": "code",
      "execution_count": 6,
      "metadata": {
        "colab": {
          "base_uri": "https://localhost:8080/",
          "height": 236
        },
        "id": "og3hp_eEjJ5_",
        "outputId": "27fe01d2-1615-4d11-d89a-639cbedf2580"
      },
      "outputs": [
        {
          "data": {
            "text/html": [
              "<div>\n",
              "<style scoped>\n",
              "    .dataframe tbody tr th:only-of-type {\n",
              "        vertical-align: middle;\n",
              "    }\n",
              "\n",
              "    .dataframe tbody tr th {\n",
              "        vertical-align: top;\n",
              "    }\n",
              "\n",
              "    .dataframe thead th {\n",
              "        text-align: right;\n",
              "    }\n",
              "</style>\n",
              "<table border=\"1\" class=\"dataframe\">\n",
              "  <thead>\n",
              "    <tr style=\"text-align: right;\">\n",
              "      <th></th>\n",
              "      <th>0</th>\n",
              "      <th>1</th>\n",
              "      <th>2</th>\n",
              "      <th>3</th>\n",
              "      <th>4</th>\n",
              "      <th>5</th>\n",
              "      <th>6</th>\n",
              "      <th>7</th>\n",
              "      <th>8</th>\n",
              "      <th>9</th>\n",
              "      <th>...</th>\n",
              "      <th>2853</th>\n",
              "      <th>2854</th>\n",
              "      <th>2855</th>\n",
              "      <th>2856</th>\n",
              "      <th>2857</th>\n",
              "      <th>2858</th>\n",
              "      <th>2859</th>\n",
              "      <th>age</th>\n",
              "      <th>gender</th>\n",
              "      <th>emotion</th>\n",
              "    </tr>\n",
              "  </thead>\n",
              "  <tbody>\n",
              "    <tr>\n",
              "      <th>0</th>\n",
              "      <td>0.017090</td>\n",
              "      <td>0.024902</td>\n",
              "      <td>0.028809</td>\n",
              "      <td>0.045410</td>\n",
              "      <td>0.074707</td>\n",
              "      <td>0.100098</td>\n",
              "      <td>0.119141</td>\n",
              "      <td>0.110840</td>\n",
              "      <td>0.088867</td>\n",
              "      <td>0.067383</td>\n",
              "      <td>...</td>\n",
              "      <td>0.0</td>\n",
              "      <td>0.0</td>\n",
              "      <td>0.0</td>\n",
              "      <td>0.0</td>\n",
              "      <td>0.0</td>\n",
              "      <td>0.0</td>\n",
              "      <td>0.0</td>\n",
              "      <td>fifties</td>\n",
              "      <td>male</td>\n",
              "      <td>anger</td>\n",
              "    </tr>\n",
              "    <tr>\n",
              "      <th>1</th>\n",
              "      <td>0.182129</td>\n",
              "      <td>0.256836</td>\n",
              "      <td>0.350098</td>\n",
              "      <td>0.351074</td>\n",
              "      <td>0.281738</td>\n",
              "      <td>0.240234</td>\n",
              "      <td>0.170410</td>\n",
              "      <td>0.110840</td>\n",
              "      <td>0.089844</td>\n",
              "      <td>0.068359</td>\n",
              "      <td>...</td>\n",
              "      <td>0.0</td>\n",
              "      <td>0.0</td>\n",
              "      <td>0.0</td>\n",
              "      <td>0.0</td>\n",
              "      <td>0.0</td>\n",
              "      <td>0.0</td>\n",
              "      <td>0.0</td>\n",
              "      <td>fifties</td>\n",
              "      <td>male</td>\n",
              "      <td>anger</td>\n",
              "    </tr>\n",
              "    <tr>\n",
              "      <th>2</th>\n",
              "      <td>0.015625</td>\n",
              "      <td>0.029297</td>\n",
              "      <td>0.070801</td>\n",
              "      <td>0.104004</td>\n",
              "      <td>0.132324</td>\n",
              "      <td>0.149414</td>\n",
              "      <td>0.131836</td>\n",
              "      <td>0.109863</td>\n",
              "      <td>0.092773</td>\n",
              "      <td>0.076660</td>\n",
              "      <td>...</td>\n",
              "      <td>0.0</td>\n",
              "      <td>0.0</td>\n",
              "      <td>0.0</td>\n",
              "      <td>0.0</td>\n",
              "      <td>0.0</td>\n",
              "      <td>0.0</td>\n",
              "      <td>0.0</td>\n",
              "      <td>fifties</td>\n",
              "      <td>male</td>\n",
              "      <td>anger</td>\n",
              "    </tr>\n",
              "    <tr>\n",
              "      <th>3</th>\n",
              "      <td>0.076660</td>\n",
              "      <td>0.113770</td>\n",
              "      <td>0.167969</td>\n",
              "      <td>0.180176</td>\n",
              "      <td>0.173340</td>\n",
              "      <td>0.166992</td>\n",
              "      <td>0.136719</td>\n",
              "      <td>0.109863</td>\n",
              "      <td>0.091309</td>\n",
              "      <td>0.075684</td>\n",
              "      <td>...</td>\n",
              "      <td>0.0</td>\n",
              "      <td>0.0</td>\n",
              "      <td>0.0</td>\n",
              "      <td>0.0</td>\n",
              "      <td>0.0</td>\n",
              "      <td>0.0</td>\n",
              "      <td>0.0</td>\n",
              "      <td>fifties</td>\n",
              "      <td>male</td>\n",
              "      <td>anger</td>\n",
              "    </tr>\n",
              "    <tr>\n",
              "      <th>4</th>\n",
              "      <td>0.015137</td>\n",
              "      <td>0.031738</td>\n",
              "      <td>0.036621</td>\n",
              "      <td>0.041504</td>\n",
              "      <td>0.037109</td>\n",
              "      <td>0.026855</td>\n",
              "      <td>0.029297</td>\n",
              "      <td>0.029297</td>\n",
              "      <td>0.035645</td>\n",
              "      <td>0.067383</td>\n",
              "      <td>...</td>\n",
              "      <td>0.0</td>\n",
              "      <td>0.0</td>\n",
              "      <td>0.0</td>\n",
              "      <td>0.0</td>\n",
              "      <td>0.0</td>\n",
              "      <td>0.0</td>\n",
              "      <td>0.0</td>\n",
              "      <td>fifties</td>\n",
              "      <td>male</td>\n",
              "      <td>disgust</td>\n",
              "    </tr>\n",
              "  </tbody>\n",
              "</table>\n",
              "<p>5 rows × 2863 columns</p>\n",
              "</div>"
            ],
            "text/plain": [
              "          0         1         2         3         4         5         6  \\\n",
              "0  0.017090  0.024902  0.028809  0.045410  0.074707  0.100098  0.119141   \n",
              "1  0.182129  0.256836  0.350098  0.351074  0.281738  0.240234  0.170410   \n",
              "2  0.015625  0.029297  0.070801  0.104004  0.132324  0.149414  0.131836   \n",
              "3  0.076660  0.113770  0.167969  0.180176  0.173340  0.166992  0.136719   \n",
              "4  0.015137  0.031738  0.036621  0.041504  0.037109  0.026855  0.029297   \n",
              "\n",
              "          7         8         9  ...  2853  2854  2855  2856  2857  2858  \\\n",
              "0  0.110840  0.088867  0.067383  ...   0.0   0.0   0.0   0.0   0.0   0.0   \n",
              "1  0.110840  0.089844  0.068359  ...   0.0   0.0   0.0   0.0   0.0   0.0   \n",
              "2  0.109863  0.092773  0.076660  ...   0.0   0.0   0.0   0.0   0.0   0.0   \n",
              "3  0.109863  0.091309  0.075684  ...   0.0   0.0   0.0   0.0   0.0   0.0   \n",
              "4  0.029297  0.035645  0.067383  ...   0.0   0.0   0.0   0.0   0.0   0.0   \n",
              "\n",
              "   2859      age  gender  emotion  \n",
              "0   0.0  fifties    male    anger  \n",
              "1   0.0  fifties    male    anger  \n",
              "2   0.0  fifties    male    anger  \n",
              "3   0.0  fifties    male    anger  \n",
              "4   0.0  fifties    male  disgust  \n",
              "\n",
              "[5 rows x 2863 columns]"
            ]
          },
          "execution_count": 6,
          "metadata": {},
          "output_type": "execute_result"
        }
      ],
      "source": [
        "data.head()"
      ]
    },
    {
      "cell_type": "code",
      "execution_count": 7,
      "metadata": {
        "id": "TSgkgCSljLmq"
      },
      "outputs": [],
      "source": [
        "data['gender'] = data['gender'].replace(\"female\",0)\n",
        "data['gender'] = data['gender'].replace(\"male\",1)"
      ]
    },
    {
      "cell_type": "code",
      "execution_count": 8,
      "metadata": {
        "colab": {
          "base_uri": "https://localhost:8080/",
          "height": 236
        },
        "id": "nB1DvK4rjYYL",
        "outputId": "b3955ef4-035a-4fd6-ab0a-ee94931e292a"
      },
      "outputs": [
        {
          "data": {
            "text/html": [
              "<div>\n",
              "<style scoped>\n",
              "    .dataframe tbody tr th:only-of-type {\n",
              "        vertical-align: middle;\n",
              "    }\n",
              "\n",
              "    .dataframe tbody tr th {\n",
              "        vertical-align: top;\n",
              "    }\n",
              "\n",
              "    .dataframe thead th {\n",
              "        text-align: right;\n",
              "    }\n",
              "</style>\n",
              "<table border=\"1\" class=\"dataframe\">\n",
              "  <thead>\n",
              "    <tr style=\"text-align: right;\">\n",
              "      <th></th>\n",
              "      <th>0</th>\n",
              "      <th>1</th>\n",
              "      <th>2</th>\n",
              "      <th>3</th>\n",
              "      <th>4</th>\n",
              "      <th>5</th>\n",
              "      <th>6</th>\n",
              "      <th>7</th>\n",
              "      <th>8</th>\n",
              "      <th>9</th>\n",
              "      <th>...</th>\n",
              "      <th>2853</th>\n",
              "      <th>2854</th>\n",
              "      <th>2855</th>\n",
              "      <th>2856</th>\n",
              "      <th>2857</th>\n",
              "      <th>2858</th>\n",
              "      <th>2859</th>\n",
              "      <th>age</th>\n",
              "      <th>gender</th>\n",
              "      <th>emotion</th>\n",
              "    </tr>\n",
              "  </thead>\n",
              "  <tbody>\n",
              "    <tr>\n",
              "      <th>0</th>\n",
              "      <td>0.017090</td>\n",
              "      <td>0.024902</td>\n",
              "      <td>0.028809</td>\n",
              "      <td>0.045410</td>\n",
              "      <td>0.074707</td>\n",
              "      <td>0.100098</td>\n",
              "      <td>0.119141</td>\n",
              "      <td>0.110840</td>\n",
              "      <td>0.088867</td>\n",
              "      <td>0.067383</td>\n",
              "      <td>...</td>\n",
              "      <td>0.0</td>\n",
              "      <td>0.0</td>\n",
              "      <td>0.0</td>\n",
              "      <td>0.0</td>\n",
              "      <td>0.0</td>\n",
              "      <td>0.0</td>\n",
              "      <td>0.0</td>\n",
              "      <td>fifties</td>\n",
              "      <td>1</td>\n",
              "      <td>anger</td>\n",
              "    </tr>\n",
              "    <tr>\n",
              "      <th>1</th>\n",
              "      <td>0.182129</td>\n",
              "      <td>0.256836</td>\n",
              "      <td>0.350098</td>\n",
              "      <td>0.351074</td>\n",
              "      <td>0.281738</td>\n",
              "      <td>0.240234</td>\n",
              "      <td>0.170410</td>\n",
              "      <td>0.110840</td>\n",
              "      <td>0.089844</td>\n",
              "      <td>0.068359</td>\n",
              "      <td>...</td>\n",
              "      <td>0.0</td>\n",
              "      <td>0.0</td>\n",
              "      <td>0.0</td>\n",
              "      <td>0.0</td>\n",
              "      <td>0.0</td>\n",
              "      <td>0.0</td>\n",
              "      <td>0.0</td>\n",
              "      <td>fifties</td>\n",
              "      <td>1</td>\n",
              "      <td>anger</td>\n",
              "    </tr>\n",
              "    <tr>\n",
              "      <th>2</th>\n",
              "      <td>0.015625</td>\n",
              "      <td>0.029297</td>\n",
              "      <td>0.070801</td>\n",
              "      <td>0.104004</td>\n",
              "      <td>0.132324</td>\n",
              "      <td>0.149414</td>\n",
              "      <td>0.131836</td>\n",
              "      <td>0.109863</td>\n",
              "      <td>0.092773</td>\n",
              "      <td>0.076660</td>\n",
              "      <td>...</td>\n",
              "      <td>0.0</td>\n",
              "      <td>0.0</td>\n",
              "      <td>0.0</td>\n",
              "      <td>0.0</td>\n",
              "      <td>0.0</td>\n",
              "      <td>0.0</td>\n",
              "      <td>0.0</td>\n",
              "      <td>fifties</td>\n",
              "      <td>1</td>\n",
              "      <td>anger</td>\n",
              "    </tr>\n",
              "    <tr>\n",
              "      <th>3</th>\n",
              "      <td>0.076660</td>\n",
              "      <td>0.113770</td>\n",
              "      <td>0.167969</td>\n",
              "      <td>0.180176</td>\n",
              "      <td>0.173340</td>\n",
              "      <td>0.166992</td>\n",
              "      <td>0.136719</td>\n",
              "      <td>0.109863</td>\n",
              "      <td>0.091309</td>\n",
              "      <td>0.075684</td>\n",
              "      <td>...</td>\n",
              "      <td>0.0</td>\n",
              "      <td>0.0</td>\n",
              "      <td>0.0</td>\n",
              "      <td>0.0</td>\n",
              "      <td>0.0</td>\n",
              "      <td>0.0</td>\n",
              "      <td>0.0</td>\n",
              "      <td>fifties</td>\n",
              "      <td>1</td>\n",
              "      <td>anger</td>\n",
              "    </tr>\n",
              "    <tr>\n",
              "      <th>4</th>\n",
              "      <td>0.015137</td>\n",
              "      <td>0.031738</td>\n",
              "      <td>0.036621</td>\n",
              "      <td>0.041504</td>\n",
              "      <td>0.037109</td>\n",
              "      <td>0.026855</td>\n",
              "      <td>0.029297</td>\n",
              "      <td>0.029297</td>\n",
              "      <td>0.035645</td>\n",
              "      <td>0.067383</td>\n",
              "      <td>...</td>\n",
              "      <td>0.0</td>\n",
              "      <td>0.0</td>\n",
              "      <td>0.0</td>\n",
              "      <td>0.0</td>\n",
              "      <td>0.0</td>\n",
              "      <td>0.0</td>\n",
              "      <td>0.0</td>\n",
              "      <td>fifties</td>\n",
              "      <td>1</td>\n",
              "      <td>disgust</td>\n",
              "    </tr>\n",
              "  </tbody>\n",
              "</table>\n",
              "<p>5 rows × 2863 columns</p>\n",
              "</div>"
            ],
            "text/plain": [
              "          0         1         2         3         4         5         6  \\\n",
              "0  0.017090  0.024902  0.028809  0.045410  0.074707  0.100098  0.119141   \n",
              "1  0.182129  0.256836  0.350098  0.351074  0.281738  0.240234  0.170410   \n",
              "2  0.015625  0.029297  0.070801  0.104004  0.132324  0.149414  0.131836   \n",
              "3  0.076660  0.113770  0.167969  0.180176  0.173340  0.166992  0.136719   \n",
              "4  0.015137  0.031738  0.036621  0.041504  0.037109  0.026855  0.029297   \n",
              "\n",
              "          7         8         9  ...  2853  2854  2855  2856  2857  2858  \\\n",
              "0  0.110840  0.088867  0.067383  ...   0.0   0.0   0.0   0.0   0.0   0.0   \n",
              "1  0.110840  0.089844  0.068359  ...   0.0   0.0   0.0   0.0   0.0   0.0   \n",
              "2  0.109863  0.092773  0.076660  ...   0.0   0.0   0.0   0.0   0.0   0.0   \n",
              "3  0.109863  0.091309  0.075684  ...   0.0   0.0   0.0   0.0   0.0   0.0   \n",
              "4  0.029297  0.035645  0.067383  ...   0.0   0.0   0.0   0.0   0.0   0.0   \n",
              "\n",
              "   2859      age  gender  emotion  \n",
              "0   0.0  fifties       1    anger  \n",
              "1   0.0  fifties       1    anger  \n",
              "2   0.0  fifties       1    anger  \n",
              "3   0.0  fifties       1    anger  \n",
              "4   0.0  fifties       1  disgust  \n",
              "\n",
              "[5 rows x 2863 columns]"
            ]
          },
          "execution_count": 8,
          "metadata": {},
          "output_type": "execute_result"
        }
      ],
      "source": [
        "data.head()"
      ]
    },
    {
      "cell_type": "code",
      "execution_count": 9,
      "metadata": {
        "colab": {
          "base_uri": "https://localhost:8080/"
        },
        "id": "-4lj04DUjaQA",
        "outputId": "d4dbb5f9-c174-42a0-f6b0-5ce657227405"
      },
      "outputs": [
        {
          "data": {
            "text/plain": [
              "emotion\n",
              "anger           5592\n",
              "happiness       5368\n",
              "anxiety/fear    5360\n",
              "sadness         5332\n",
              "disgust         5268\n",
              "neutral         4664\n",
              "Name: count, dtype: int64"
            ]
          },
          "execution_count": 9,
          "metadata": {},
          "output_type": "execute_result"
        }
      ],
      "source": [
        "data.emotion.value_counts()"
      ]
    },
    {
      "cell_type": "code",
      "execution_count": 10,
      "metadata": {
        "colab": {
          "base_uri": "https://localhost:8080/",
          "height": 236
        },
        "id": "yN6AXkY4jeAX",
        "outputId": "7d458c82-0df9-44c9-ebdf-18151537d313"
      },
      "outputs": [],
      "source": [
        "# encoded_df = pd.get_dummies(data['emotion'])\n",
        "# df_encoded = pd.concat([data, encoded_df], axis=1)\n",
        "# df_encoded.head()"
      ]
    },
    {
      "cell_type": "code",
      "execution_count": 11,
      "metadata": {
        "colab": {
          "base_uri": "https://localhost:8080/",
          "height": 236
        },
        "id": "VzaU9C5qmZRE",
        "outputId": "bf13ebf6-217c-4714-975a-6e294627e4e3"
      },
      "outputs": [],
      "source": [
        "# encoded_df = pd.get_dummies(data['age'])\n",
        "# df_encoded = pd.concat([df_encoded, encoded_df], axis=1)\n",
        "# df_encoded.head()\n",
        "df_encoded = data"
      ]
    },
    {
      "cell_type": "code",
      "execution_count": 12,
      "metadata": {
        "id": "DzLfRs8mmxjF"
      },
      "outputs": [],
      "source": [
        "df_encoded.drop(['age','emotion'],axis=1,inplace=True)"
      ]
    },
    {
      "cell_type": "code",
      "execution_count": 13,
      "metadata": {
        "colab": {
          "base_uri": "https://localhost:8080/",
          "height": 206
        },
        "id": "mt3ZjEHKnBX-",
        "outputId": "6567ad5a-c89d-46d7-ace6-db99abb8ae88"
      },
      "outputs": [
        {
          "data": {
            "text/html": [
              "<div>\n",
              "<style scoped>\n",
              "    .dataframe tbody tr th:only-of-type {\n",
              "        vertical-align: middle;\n",
              "    }\n",
              "\n",
              "    .dataframe tbody tr th {\n",
              "        vertical-align: top;\n",
              "    }\n",
              "\n",
              "    .dataframe thead th {\n",
              "        text-align: right;\n",
              "    }\n",
              "</style>\n",
              "<table border=\"1\" class=\"dataframe\">\n",
              "  <thead>\n",
              "    <tr style=\"text-align: right;\">\n",
              "      <th></th>\n",
              "      <th>gender</th>\n",
              "    </tr>\n",
              "  </thead>\n",
              "  <tbody>\n",
              "    <tr>\n",
              "      <th>0</th>\n",
              "      <td>1</td>\n",
              "    </tr>\n",
              "    <tr>\n",
              "      <th>1</th>\n",
              "      <td>1</td>\n",
              "    </tr>\n",
              "    <tr>\n",
              "      <th>2</th>\n",
              "      <td>1</td>\n",
              "    </tr>\n",
              "    <tr>\n",
              "      <th>3</th>\n",
              "      <td>1</td>\n",
              "    </tr>\n",
              "    <tr>\n",
              "      <th>4</th>\n",
              "      <td>1</td>\n",
              "    </tr>\n",
              "  </tbody>\n",
              "</table>\n",
              "</div>"
            ],
            "text/plain": [
              "   gender\n",
              "0       1\n",
              "1       1\n",
              "2       1\n",
              "3       1\n",
              "4       1"
            ]
          },
          "execution_count": 13,
          "metadata": {},
          "output_type": "execute_result"
        }
      ],
      "source": [
        "df_encoded.iloc[:,2860:].head()"
      ]
    },
    {
      "cell_type": "code",
      "execution_count": 14,
      "metadata": {
        "colab": {
          "base_uri": "https://localhost:8080/"
        },
        "id": "k7LQ1IOYpp51",
        "outputId": "320b5e3f-1a8c-4645-ad72-64e5253cec24"
      },
      "outputs": [
        {
          "data": {
            "text/plain": [
              "(31584, 2861)"
            ]
          },
          "execution_count": 14,
          "metadata": {},
          "output_type": "execute_result"
        }
      ],
      "source": [
        "df_encoded.shape"
      ]
    },
    {
      "cell_type": "code",
      "execution_count": 16,
      "metadata": {
        "colab": {
          "base_uri": "https://localhost:8080/"
        },
        "id": "E_PX2wUprSFb",
        "outputId": "031c895f-327d-4245-e07f-6e944e23b0a2"
      },
      "outputs": [],
      "source": [
        "X = df_encoded.drop(['gender'], axis=1).values"
      ]
    },
    {
      "cell_type": "code",
      "execution_count": 17,
      "metadata": {
        "id": "cd9JaDz94G1h"
      },
      "outputs": [],
      "source": [
        "y = df_encoded[['gender']].values"
      ]
    },
    {
      "cell_type": "code",
      "execution_count": 18,
      "metadata": {
        "id": "ClhkSSYeiQmK"
      },
      "outputs": [],
      "source": [
        "# X = df_encoded.iloc[:, :-13].values  # Audio features\n",
        "y_gender = df_encoded.iloc[:, -1:].values  # Gender labels\n",
        "# y_emotion = df_encoded.iloc[:, -12:-6].values  # Emotion labels\n",
        "# y_age = df_encoded.iloc[:, -6:].values  # Age labels"
      ]
    },
    {
      "cell_type": "code",
      "execution_count": 19,
      "metadata": {
        "colab": {
          "base_uri": "https://localhost:8080/"
        },
        "id": "jOhiEHjviRl5",
        "outputId": "10237b31-b0fd-446d-d7fc-cfad5bda5e14"
      },
      "outputs": [],
      "source": [
        "# y_emotion"
      ]
    },
    {
      "cell_type": "code",
      "execution_count": 20,
      "metadata": {
        "colab": {
          "base_uri": "https://localhost:8080/"
        },
        "id": "iH0K5HyFiRpf",
        "outputId": "60507736-c1e5-43de-8311-0dd2a2410472"
      },
      "outputs": [
        {
          "data": {
            "text/plain": [
              "array([[1],\n",
              "       [1],\n",
              "       [1],\n",
              "       ...,\n",
              "       [0],\n",
              "       [0],\n",
              "       [0]])"
            ]
          },
          "execution_count": 20,
          "metadata": {},
          "output_type": "execute_result"
        }
      ],
      "source": [
        "y_gender"
      ]
    },
    {
      "cell_type": "code",
      "execution_count": 21,
      "metadata": {
        "colab": {
          "base_uri": "https://localhost:8080/"
        },
        "id": "jw7Xrak6iRsU",
        "outputId": "07827e33-587c-4866-f15d-a2065abadc91"
      },
      "outputs": [],
      "source": [
        "# y_age"
      ]
    },
    {
      "cell_type": "code",
      "execution_count": 22,
      "metadata": {
        "id": "7aqZFCx1FWnW"
      },
      "outputs": [],
      "source": [
        "X_train, X_val_test, y_gender_train, y_gender_val_test = train_test_split(X, y_gender, test_size=0.3, random_state=30)\n",
        "X_test, X_val, y_gender_test, y_gender_val = train_test_split(X_val_test, y_gender_val_test, test_size=0.5, random_state=30)\n"
      ]
    },
    {
      "cell_type": "code",
      "execution_count": 23,
      "metadata": {
        "id": "xV6jWzYTjHHU"
      },
      "outputs": [
        {
          "name": "stdout",
          "output_type": "stream",
          "text": [
            "Metal device set to: Apple M1 Pro\n",
            "\n",
            "systemMemory: 16.00 GB\n",
            "maxCacheSize: 5.33 GB\n",
            "\n"
          ]
        },
        {
          "name": "stderr",
          "output_type": "stream",
          "text": [
            "2023-09-07 23:47:34.043964: I tensorflow/core/common_runtime/pluggable_device/pluggable_device_factory.cc:306] Could not identify NUMA node of platform GPU ID 0, defaulting to 0. Your kernel may not have been built with NUMA support.\n",
            "2023-09-07 23:47:34.043994: I tensorflow/core/common_runtime/pluggable_device/pluggable_device_factory.cc:272] Created TensorFlow device (/job:localhost/replica:0/task:0/device:GPU:0 with 0 MB memory) -> physical PluggableDevice (device: 0, name: METAL, pci bus id: <undefined>)\n"
          ]
        }
      ],
      "source": [
        "input_layer = Input(shape=(X_train.shape[1],))\n",
        "hidden_layer = Dense(2048, activation='relu')(input_layer)\n",
        "hidden_layer = BatchNormalization()(hidden_layer)\n",
        "hidden_layer = Dense(1024, activation='relu')(hidden_layer)\n",
        "hidden_layer = Dense(512, activation='relu')(hidden_layer)\n",
        "hidden_layer = Dense(64, activation='relu')(hidden_layer)\n",
        "hidden_layer = Dropout(0.25)(hidden_layer)"
      ]
    },
    {
      "cell_type": "code",
      "execution_count": 24,
      "metadata": {
        "id": "WSOmqcJLjZKc"
      },
      "outputs": [],
      "source": [
        "gender_output = Dense(y_gender_train.shape[1], activation='sigmoid', name='gender')(hidden_layer)"
      ]
    },
    {
      "cell_type": "code",
      "execution_count": 25,
      "metadata": {
        "id": "4a1Ee-rfjh_-"
      },
      "outputs": [],
      "source": [
        "# emotion_output = Dense(y_emotion_train.shape[1], activation='softmax', name='emotion')(hidden_layer)"
      ]
    },
    {
      "cell_type": "code",
      "execution_count": 26,
      "metadata": {
        "id": "Z-AgWvJejktM"
      },
      "outputs": [],
      "source": [
        "# age_output = Dense(y_age_train.shape[1], activation='softmax', name='age')(hidden_layer)"
      ]
    },
    {
      "cell_type": "code",
      "execution_count": 27,
      "metadata": {
        "id": "XWxrehohj5p-"
      },
      "outputs": [],
      "source": [
        "model = Model(inputs=input_layer, outputs=[gender_output])\n"
      ]
    },
    {
      "cell_type": "code",
      "execution_count": 28,
      "metadata": {
        "colab": {
          "base_uri": "https://localhost:8080/"
        },
        "id": "poXQMSmhkJ9I",
        "outputId": "62233ab5-4f0e-4d42-e143-2a1ea2a77504"
      },
      "outputs": [
        {
          "name": "stdout",
          "output_type": "stream",
          "text": [
            "Model: \"model\"\n",
            "_________________________________________________________________\n",
            " Layer (type)                Output Shape              Param #   \n",
            "=================================================================\n",
            " input_1 (InputLayer)        [(None, 2860)]            0         \n",
            "                                                                 \n",
            " dense (Dense)               (None, 2048)              5859328   \n",
            "                                                                 \n",
            " batch_normalization (BatchN  (None, 2048)             8192      \n",
            " ormalization)                                                   \n",
            "                                                                 \n",
            " dense_1 (Dense)             (None, 1024)              2098176   \n",
            "                                                                 \n",
            " dense_2 (Dense)             (None, 512)               524800    \n",
            "                                                                 \n",
            " dense_3 (Dense)             (None, 64)                32832     \n",
            "                                                                 \n",
            " dropout (Dropout)           (None, 64)                0         \n",
            "                                                                 \n",
            " gender (Dense)              (None, 1)                 65        \n",
            "                                                                 \n",
            "=================================================================\n",
            "Total params: 8,523,393\n",
            "Trainable params: 8,519,297\n",
            "Non-trainable params: 4,096\n",
            "_________________________________________________________________\n"
          ]
        }
      ],
      "source": [
        "model.summary()"
      ]
    },
    {
      "cell_type": "code",
      "execution_count": 29,
      "metadata": {
        "id": "0jnAAC1mj_O_"
      },
      "outputs": [],
      "source": [
        "opt = SGD(learning_rate=0.0005, decay=1e-6, momentum=0.9, nesterov=True)\n",
        "model.compile(optimizer=opt,\n",
        "              loss={'gender': 'binary_crossentropy',\n",
        "                  #   'emotion': 'categorical_crossentropy',\n",
        "                  #   'age': 'categorical_crossentropy'\n",
        "                    },\n",
        "              metrics={'gender': 'accuracy',\n",
        "                  #      'emotion': 'accuracy',\n",
        "                  #      'age': 'accuracy'\n",
        "                       })"
      ]
    },
    {
      "cell_type": "code",
      "execution_count": 30,
      "metadata": {
        "colab": {
          "base_uri": "https://localhost:8080/"
        },
        "id": "ztC_nnPYkDgI",
        "outputId": "5364e2da-065a-417a-af49-4b2dd8cd655b"
      },
      "outputs": [
        {
          "name": "stdout",
          "output_type": "stream",
          "text": [
            "Epoch 1/200\n"
          ]
        },
        {
          "name": "stderr",
          "output_type": "stream",
          "text": [
            "2023-09-07 23:47:34.824023: W tensorflow/tsl/platform/profile_utils/cpu_utils.cc:128] Failed to get CPU frequency: 0 Hz\n",
            "2023-09-07 23:47:35.081711: I tensorflow/core/grappler/optimizers/custom_graph_optimizer_registry.cc:114] Plugin optimizer for device_type GPU is enabled.\n"
          ]
        },
        {
          "name": "stdout",
          "output_type": "stream",
          "text": [
            "691/691 [==============================] - ETA: 0s - loss: 0.6788 - accuracy: 0.5728"
          ]
        },
        {
          "name": "stderr",
          "output_type": "stream",
          "text": [
            "2023-09-07 23:47:45.215710: I tensorflow/core/grappler/optimizers/custom_graph_optimizer_registry.cc:114] Plugin optimizer for device_type GPU is enabled.\n"
          ]
        },
        {
          "name": "stdout",
          "output_type": "stream",
          "text": [
            "691/691 [==============================] - 11s 14ms/step - loss: 0.6788 - accuracy: 0.5728 - val_loss: 0.6609 - val_accuracy: 0.6064\n",
            "Epoch 2/200\n",
            "691/691 [==============================] - 9s 13ms/step - loss: 0.6325 - accuracy: 0.6398 - val_loss: 0.6190 - val_accuracy: 0.6644\n",
            "Epoch 3/200\n",
            "691/691 [==============================] - 9s 12ms/step - loss: 0.5940 - accuracy: 0.6792 - val_loss: 0.5970 - val_accuracy: 0.6773\n",
            "Epoch 4/200\n",
            "691/691 [==============================] - 8s 12ms/step - loss: 0.5537 - accuracy: 0.7119 - val_loss: 0.5598 - val_accuracy: 0.7022\n",
            "Epoch 5/200\n",
            "691/691 [==============================] - 9s 12ms/step - loss: 0.5147 - accuracy: 0.7445 - val_loss: 0.5171 - val_accuracy: 0.7275\n",
            "Epoch 6/200\n",
            "691/691 [==============================] - 8s 12ms/step - loss: 0.4802 - accuracy: 0.7690 - val_loss: 0.4664 - val_accuracy: 0.7813\n",
            "Epoch 7/200\n",
            "691/691 [==============================] - 8s 12ms/step - loss: 0.4494 - accuracy: 0.7838 - val_loss: 0.4507 - val_accuracy: 0.7805\n",
            "Epoch 8/200\n",
            "691/691 [==============================] - 9s 13ms/step - loss: 0.4280 - accuracy: 0.7968 - val_loss: 0.4370 - val_accuracy: 0.7858\n",
            "Epoch 9/200\n",
            "691/691 [==============================] - 9s 13ms/step - loss: 0.4038 - accuracy: 0.8112 - val_loss: 0.4131 - val_accuracy: 0.7972\n",
            "Epoch 10/200\n",
            "691/691 [==============================] - 9s 13ms/step - loss: 0.3872 - accuracy: 0.8218 - val_loss: 0.3932 - val_accuracy: 0.8115\n",
            "Epoch 11/200\n",
            "691/691 [==============================] - 9s 12ms/step - loss: 0.3629 - accuracy: 0.8330 - val_loss: 0.3926 - val_accuracy: 0.8071\n",
            "Epoch 12/200\n",
            "691/691 [==============================] - 9s 14ms/step - loss: 0.3454 - accuracy: 0.8432 - val_loss: 0.3435 - val_accuracy: 0.8421\n",
            "Epoch 13/200\n",
            "691/691 [==============================] - 9s 13ms/step - loss: 0.3353 - accuracy: 0.8491 - val_loss: 0.3308 - val_accuracy: 0.8438\n",
            "Epoch 14/200\n",
            "691/691 [==============================] - 9s 13ms/step - loss: 0.3270 - accuracy: 0.8508 - val_loss: 0.3406 - val_accuracy: 0.8563\n",
            "Epoch 15/200\n",
            "691/691 [==============================] - 9s 13ms/step - loss: 0.3096 - accuracy: 0.8626 - val_loss: 0.3409 - val_accuracy: 0.8383\n",
            "Epoch 16/200\n",
            "691/691 [==============================] - 9s 13ms/step - loss: 0.3006 - accuracy: 0.8666 - val_loss: 0.3483 - val_accuracy: 0.8333\n",
            "Epoch 17/200\n",
            "691/691 [==============================] - 9s 13ms/step - loss: 0.2899 - accuracy: 0.8709 - val_loss: 0.3109 - val_accuracy: 0.8630\n",
            "Epoch 18/200\n",
            "691/691 [==============================] - 9s 13ms/step - loss: 0.2786 - accuracy: 0.8785 - val_loss: 0.3120 - val_accuracy: 0.8637\n",
            "Epoch 19/200\n",
            "691/691 [==============================] - 9s 13ms/step - loss: 0.2791 - accuracy: 0.8766 - val_loss: 0.3022 - val_accuracy: 0.8599\n",
            "Epoch 20/200\n",
            "691/691 [==============================] - 9s 13ms/step - loss: 0.2643 - accuracy: 0.8823 - val_loss: 0.3618 - val_accuracy: 0.8360\n",
            "Epoch 21/200\n",
            "691/691 [==============================] - 9s 13ms/step - loss: 0.2606 - accuracy: 0.8863 - val_loss: 0.3266 - val_accuracy: 0.8653\n",
            "Epoch 22/200\n",
            "691/691 [==============================] - 9s 13ms/step - loss: 0.2521 - accuracy: 0.8927 - val_loss: 0.2573 - val_accuracy: 0.8860\n",
            "Epoch 23/200\n",
            "691/691 [==============================] - 9s 13ms/step - loss: 0.2429 - accuracy: 0.8950 - val_loss: 0.2872 - val_accuracy: 0.8746\n",
            "Epoch 24/200\n",
            "691/691 [==============================] - 9s 13ms/step - loss: 0.2411 - accuracy: 0.8973 - val_loss: 0.2704 - val_accuracy: 0.8858\n",
            "Epoch 25/200\n",
            "691/691 [==============================] - 9s 13ms/step - loss: 0.2365 - accuracy: 0.8986 - val_loss: 0.2839 - val_accuracy: 0.8767\n",
            "Epoch 26/200\n",
            "691/691 [==============================] - 9s 13ms/step - loss: 0.2284 - accuracy: 0.9014 - val_loss: 0.2586 - val_accuracy: 0.8833\n",
            "Epoch 27/200\n",
            "691/691 [==============================] - 9s 13ms/step - loss: 0.2224 - accuracy: 0.9058 - val_loss: 0.2368 - val_accuracy: 0.9012\n",
            "Epoch 28/200\n",
            "691/691 [==============================] - 9s 13ms/step - loss: 0.2174 - accuracy: 0.9052 - val_loss: 0.2741 - val_accuracy: 0.8772\n",
            "Epoch 29/200\n",
            "691/691 [==============================] - 9s 13ms/step - loss: 0.2131 - accuracy: 0.9099 - val_loss: 0.2450 - val_accuracy: 0.8976\n",
            "Epoch 30/200\n",
            "691/691 [==============================] - 9s 13ms/step - loss: 0.2062 - accuracy: 0.9123 - val_loss: 0.2930 - val_accuracy: 0.8677\n",
            "Epoch 31/200\n",
            "691/691 [==============================] - 9s 13ms/step - loss: 0.2055 - accuracy: 0.9132 - val_loss: 0.2417 - val_accuracy: 0.8924\n",
            "Epoch 32/200\n",
            "691/691 [==============================] - 9s 13ms/step - loss: 0.2002 - accuracy: 0.9149 - val_loss: 0.3138 - val_accuracy: 0.8641\n",
            "Epoch 33/200\n",
            "691/691 [==============================] - 9s 13ms/step - loss: 0.1988 - accuracy: 0.9175 - val_loss: 0.2481 - val_accuracy: 0.8888\n",
            "Epoch 34/200\n",
            "691/691 [==============================] - 9s 13ms/step - loss: 0.1953 - accuracy: 0.9193 - val_loss: 0.2542 - val_accuracy: 0.8934\n",
            "Epoch 35/200\n",
            "691/691 [==============================] - 9s 13ms/step - loss: 0.1881 - accuracy: 0.9210 - val_loss: 0.2359 - val_accuracy: 0.9004\n",
            "Epoch 36/200\n",
            "691/691 [==============================] - 9s 13ms/step - loss: 0.1849 - accuracy: 0.9233 - val_loss: 0.2837 - val_accuracy: 0.8793\n",
            "Epoch 37/200\n",
            "691/691 [==============================] - 9s 13ms/step - loss: 0.1853 - accuracy: 0.9233 - val_loss: 0.2719 - val_accuracy: 0.8795\n",
            "Epoch 38/200\n",
            "691/691 [==============================] - 9s 13ms/step - loss: 0.1775 - accuracy: 0.9266 - val_loss: 0.2710 - val_accuracy: 0.8852\n",
            "Epoch 39/200\n",
            "691/691 [==============================] - 9s 13ms/step - loss: 0.1780 - accuracy: 0.9265 - val_loss: 0.2752 - val_accuracy: 0.8921\n",
            "Epoch 40/200\n",
            "691/691 [==============================] - 9s 13ms/step - loss: 0.1740 - accuracy: 0.9275 - val_loss: 0.2274 - val_accuracy: 0.9040\n",
            "Epoch 41/200\n",
            "691/691 [==============================] - 9s 13ms/step - loss: 0.1712 - accuracy: 0.9298 - val_loss: 0.2841 - val_accuracy: 0.8864\n",
            "Epoch 42/200\n",
            "691/691 [==============================] - 9s 13ms/step - loss: 0.1618 - accuracy: 0.9335 - val_loss: 0.2087 - val_accuracy: 0.9137\n",
            "Epoch 43/200\n",
            "691/691 [==============================] - 9s 13ms/step - loss: 0.1629 - accuracy: 0.9329 - val_loss: 0.1885 - val_accuracy: 0.9230\n",
            "Epoch 44/200\n",
            "691/691 [==============================] - 9s 13ms/step - loss: 0.1658 - accuracy: 0.9335 - val_loss: 0.1925 - val_accuracy: 0.9187\n",
            "Epoch 45/200\n",
            "691/691 [==============================] - 9s 13ms/step - loss: 0.1593 - accuracy: 0.9362 - val_loss: 0.2294 - val_accuracy: 0.9019\n",
            "Epoch 46/200\n",
            "691/691 [==============================] - 10s 14ms/step - loss: 0.1590 - accuracy: 0.9345 - val_loss: 0.2236 - val_accuracy: 0.9084\n",
            "Epoch 47/200\n",
            "691/691 [==============================] - 9s 13ms/step - loss: 0.1445 - accuracy: 0.9422 - val_loss: 0.2482 - val_accuracy: 0.9067\n",
            "Epoch 48/200\n",
            "691/691 [==============================] - 9s 13ms/step - loss: 0.1476 - accuracy: 0.9416 - val_loss: 0.2015 - val_accuracy: 0.9181\n",
            "Epoch 49/200\n",
            "691/691 [==============================] - 9s 13ms/step - loss: 0.1456 - accuracy: 0.9424 - val_loss: 0.1987 - val_accuracy: 0.9236\n",
            "Epoch 50/200\n",
            "691/691 [==============================] - 9s 13ms/step - loss: 0.1520 - accuracy: 0.9378 - val_loss: 0.3117 - val_accuracy: 0.8681\n",
            "Epoch 51/200\n",
            "691/691 [==============================] - 9s 13ms/step - loss: 0.1431 - accuracy: 0.9420 - val_loss: 0.1619 - val_accuracy: 0.9392\n",
            "Epoch 52/200\n",
            "691/691 [==============================] - 9s 13ms/step - loss: 0.1425 - accuracy: 0.9417 - val_loss: 0.2119 - val_accuracy: 0.9177\n",
            "Epoch 53/200\n",
            "691/691 [==============================] - 9s 13ms/step - loss: 0.1366 - accuracy: 0.9450 - val_loss: 0.2388 - val_accuracy: 0.9092\n",
            "Epoch 54/200\n",
            "691/691 [==============================] - 9s 13ms/step - loss: 0.1382 - accuracy: 0.9446 - val_loss: 0.2212 - val_accuracy: 0.9175\n",
            "Epoch 55/200\n",
            "691/691 [==============================] - 9s 13ms/step - loss: 0.1279 - accuracy: 0.9488 - val_loss: 0.1713 - val_accuracy: 0.9327\n",
            "Epoch 56/200\n",
            "691/691 [==============================] - 9s 13ms/step - loss: 0.1303 - accuracy: 0.9485 - val_loss: 0.1822 - val_accuracy: 0.9251\n",
            "Epoch 57/200\n",
            "691/691 [==============================] - 9s 13ms/step - loss: 0.1279 - accuracy: 0.9481 - val_loss: 0.1730 - val_accuracy: 0.9316\n",
            "Epoch 58/200\n",
            "691/691 [==============================] - 9s 13ms/step - loss: 0.1272 - accuracy: 0.9492 - val_loss: 0.1587 - val_accuracy: 0.9396\n",
            "Epoch 59/200\n",
            "691/691 [==============================] - 9s 14ms/step - loss: 0.1239 - accuracy: 0.9505 - val_loss: 0.2116 - val_accuracy: 0.9084\n",
            "Epoch 60/200\n",
            "691/691 [==============================] - 9s 13ms/step - loss: 0.1210 - accuracy: 0.9518 - val_loss: 0.1837 - val_accuracy: 0.9322\n",
            "Epoch 61/200\n",
            "691/691 [==============================] - 9s 13ms/step - loss: 0.1221 - accuracy: 0.9525 - val_loss: 0.1449 - val_accuracy: 0.9451\n",
            "Epoch 62/200\n",
            "691/691 [==============================] - 9s 13ms/step - loss: 0.1241 - accuracy: 0.9512 - val_loss: 0.2513 - val_accuracy: 0.9038\n",
            "Epoch 63/200\n",
            "691/691 [==============================] - 9s 13ms/step - loss: 0.1168 - accuracy: 0.9535 - val_loss: 0.1435 - val_accuracy: 0.9439\n",
            "Epoch 64/200\n",
            "691/691 [==============================] - 9s 13ms/step - loss: 0.1202 - accuracy: 0.9523 - val_loss: 0.1738 - val_accuracy: 0.9282\n",
            "Epoch 65/200\n",
            "691/691 [==============================] - 9s 13ms/step - loss: 0.1172 - accuracy: 0.9537 - val_loss: 0.1959 - val_accuracy: 0.9240\n",
            "Epoch 66/200\n",
            "691/691 [==============================] - 9s 13ms/step - loss: 0.1160 - accuracy: 0.9549 - val_loss: 0.2930 - val_accuracy: 0.9006\n",
            "Epoch 67/200\n",
            "691/691 [==============================] - 9s 13ms/step - loss: 0.1135 - accuracy: 0.9552 - val_loss: 0.2118 - val_accuracy: 0.9238\n",
            "Epoch 68/200\n",
            "691/691 [==============================] - 9s 13ms/step - loss: 0.1085 - accuracy: 0.9567 - val_loss: 0.2151 - val_accuracy: 0.9225\n",
            "Epoch 69/200\n",
            "691/691 [==============================] - 9s 13ms/step - loss: 0.1137 - accuracy: 0.9548 - val_loss: 0.1715 - val_accuracy: 0.9312\n",
            "Epoch 70/200\n",
            "691/691 [==============================] - 9s 12ms/step - loss: 0.1092 - accuracy: 0.9582 - val_loss: 0.2354 - val_accuracy: 0.9114\n",
            "Epoch 71/200\n",
            "691/691 [==============================] - 9s 12ms/step - loss: 0.1137 - accuracy: 0.9540 - val_loss: 0.1871 - val_accuracy: 0.9221\n",
            "Epoch 72/200\n",
            "691/691 [==============================] - 9s 12ms/step - loss: 0.1067 - accuracy: 0.9599 - val_loss: 0.1451 - val_accuracy: 0.9405\n",
            "Epoch 73/200\n",
            "691/691 [==============================] - 9s 12ms/step - loss: 0.1000 - accuracy: 0.9616 - val_loss: 0.1619 - val_accuracy: 0.9379\n",
            "Epoch 74/200\n",
            "691/691 [==============================] - 9s 12ms/step - loss: 0.1065 - accuracy: 0.9572 - val_loss: 0.1951 - val_accuracy: 0.9266\n",
            "Epoch 75/200\n",
            "691/691 [==============================] - 9s 12ms/step - loss: 0.1009 - accuracy: 0.9607 - val_loss: 0.1703 - val_accuracy: 0.9348\n",
            "Epoch 76/200\n",
            "691/691 [==============================] - 9s 12ms/step - loss: 0.1034 - accuracy: 0.9586 - val_loss: 0.1452 - val_accuracy: 0.9474\n",
            "Epoch 77/200\n",
            "691/691 [==============================] - 9s 12ms/step - loss: 0.1060 - accuracy: 0.9588 - val_loss: 0.1772 - val_accuracy: 0.9312\n",
            "Epoch 78/200\n",
            "691/691 [==============================] - 9s 12ms/step - loss: 0.1005 - accuracy: 0.9623 - val_loss: 0.1631 - val_accuracy: 0.9344\n",
            "Epoch 79/200\n",
            "691/691 [==============================] - 9s 12ms/step - loss: 0.0968 - accuracy: 0.9609 - val_loss: 0.2466 - val_accuracy: 0.9090\n",
            "Epoch 80/200\n",
            "691/691 [==============================] - 9s 12ms/step - loss: 0.1016 - accuracy: 0.9619 - val_loss: 0.1752 - val_accuracy: 0.9335\n",
            "Epoch 81/200\n",
            "691/691 [==============================] - 9s 12ms/step - loss: 0.1010 - accuracy: 0.9604 - val_loss: 0.1911 - val_accuracy: 0.9225\n",
            "Epoch 82/200\n",
            "691/691 [==============================] - 9s 12ms/step - loss: 0.0957 - accuracy: 0.9622 - val_loss: 0.1328 - val_accuracy: 0.9521\n",
            "Epoch 83/200\n",
            "691/691 [==============================] - 9s 12ms/step - loss: 0.0907 - accuracy: 0.9654 - val_loss: 0.1136 - val_accuracy: 0.9567\n",
            "Epoch 84/200\n",
            "691/691 [==============================] - 9s 12ms/step - loss: 0.0885 - accuracy: 0.9657 - val_loss: 0.1087 - val_accuracy: 0.9612\n",
            "Epoch 85/200\n",
            "691/691 [==============================] - 9s 12ms/step - loss: 0.0927 - accuracy: 0.9635 - val_loss: 0.1780 - val_accuracy: 0.9346\n",
            "Epoch 86/200\n",
            "691/691 [==============================] - 9s 12ms/step - loss: 0.0870 - accuracy: 0.9678 - val_loss: 0.1209 - val_accuracy: 0.9597\n",
            "Epoch 87/200\n",
            "691/691 [==============================] - 9s 12ms/step - loss: 0.0833 - accuracy: 0.9676 - val_loss: 0.1220 - val_accuracy: 0.9553\n",
            "Epoch 88/200\n",
            "691/691 [==============================] - 9s 12ms/step - loss: 0.0858 - accuracy: 0.9677 - val_loss: 0.1661 - val_accuracy: 0.9346\n",
            "Epoch 89/200\n",
            "691/691 [==============================] - 9s 12ms/step - loss: 0.0911 - accuracy: 0.9646 - val_loss: 0.1358 - val_accuracy: 0.9491\n",
            "Epoch 90/200\n",
            "691/691 [==============================] - 9s 12ms/step - loss: 0.0851 - accuracy: 0.9676 - val_loss: 0.1607 - val_accuracy: 0.9363\n",
            "Epoch 91/200\n",
            "691/691 [==============================] - 9s 12ms/step - loss: 0.0846 - accuracy: 0.9675 - val_loss: 0.1693 - val_accuracy: 0.9394\n",
            "Epoch 92/200\n",
            "691/691 [==============================] - 9s 12ms/step - loss: 0.0806 - accuracy: 0.9699 - val_loss: 0.1452 - val_accuracy: 0.9447\n",
            "Epoch 93/200\n",
            "691/691 [==============================] - 9s 12ms/step - loss: 0.0794 - accuracy: 0.9703 - val_loss: 0.1183 - val_accuracy: 0.9531\n",
            "Epoch 94/200\n",
            "691/691 [==============================] - 9s 12ms/step - loss: 0.0837 - accuracy: 0.9685 - val_loss: 0.1437 - val_accuracy: 0.9462\n",
            "Epoch 95/200\n",
            "691/691 [==============================] - 9s 12ms/step - loss: 0.0813 - accuracy: 0.9695 - val_loss: 0.1276 - val_accuracy: 0.9479\n",
            "Epoch 96/200\n",
            "691/691 [==============================] - 9s 12ms/step - loss: 0.0774 - accuracy: 0.9707 - val_loss: 0.1247 - val_accuracy: 0.9544\n",
            "Epoch 97/200\n",
            "691/691 [==============================] - 9s 12ms/step - loss: 0.0694 - accuracy: 0.9736 - val_loss: 0.1571 - val_accuracy: 0.9420\n",
            "Epoch 98/200\n",
            "691/691 [==============================] - 9s 12ms/step - loss: 0.0773 - accuracy: 0.9698 - val_loss: 0.3161 - val_accuracy: 0.9141\n",
            "Epoch 99/200\n",
            "691/691 [==============================] - 9s 12ms/step - loss: 0.0825 - accuracy: 0.9687 - val_loss: 0.1129 - val_accuracy: 0.9591\n",
            "Epoch 100/200\n",
            "691/691 [==============================] - 9s 12ms/step - loss: 0.0716 - accuracy: 0.9733 - val_loss: 0.1253 - val_accuracy: 0.9510\n",
            "Epoch 101/200\n",
            "691/691 [==============================] - 9s 12ms/step - loss: 0.0775 - accuracy: 0.9699 - val_loss: 0.1471 - val_accuracy: 0.9470\n",
            "Epoch 102/200\n",
            "691/691 [==============================] - 9s 13ms/step - loss: 0.0782 - accuracy: 0.9704 - val_loss: 0.1249 - val_accuracy: 0.9529\n",
            "Epoch 103/200\n",
            "691/691 [==============================] - 9s 12ms/step - loss: 0.0718 - accuracy: 0.9732 - val_loss: 0.1581 - val_accuracy: 0.9430\n",
            "Epoch 104/200\n",
            "691/691 [==============================] - 9s 12ms/step - loss: 0.0708 - accuracy: 0.9727 - val_loss: 0.1401 - val_accuracy: 0.9466\n",
            "Epoch 105/200\n",
            "691/691 [==============================] - 9s 12ms/step - loss: 0.0717 - accuracy: 0.9732 - val_loss: 0.0988 - val_accuracy: 0.9622\n",
            "Epoch 106/200\n",
            "691/691 [==============================] - 9s 12ms/step - loss: 0.0717 - accuracy: 0.9719 - val_loss: 0.1205 - val_accuracy: 0.9582\n",
            "Epoch 107/200\n",
            "691/691 [==============================] - 9s 12ms/step - loss: 0.0734 - accuracy: 0.9723 - val_loss: 0.2101 - val_accuracy: 0.9320\n",
            "Epoch 108/200\n",
            "691/691 [==============================] - 9s 12ms/step - loss: 0.0695 - accuracy: 0.9736 - val_loss: 0.1292 - val_accuracy: 0.9515\n",
            "Epoch 109/200\n",
            "691/691 [==============================] - 9s 12ms/step - loss: 0.0689 - accuracy: 0.9750 - val_loss: 0.1363 - val_accuracy: 0.9498\n",
            "Epoch 110/200\n",
            "691/691 [==============================] - 9s 12ms/step - loss: 0.0676 - accuracy: 0.9751 - val_loss: 0.1278 - val_accuracy: 0.9567\n",
            "Epoch 111/200\n",
            "691/691 [==============================] - 9s 12ms/step - loss: 0.0658 - accuracy: 0.9754 - val_loss: 0.1148 - val_accuracy: 0.9563\n",
            "Epoch 112/200\n",
            "691/691 [==============================] - 9s 12ms/step - loss: 0.0716 - accuracy: 0.9725 - val_loss: 0.1206 - val_accuracy: 0.9597\n",
            "Epoch 113/200\n",
            "691/691 [==============================] - 9s 13ms/step - loss: 0.0727 - accuracy: 0.9724 - val_loss: 0.1690 - val_accuracy: 0.9352\n",
            "Epoch 114/200\n",
            "691/691 [==============================] - 9s 12ms/step - loss: 0.0648 - accuracy: 0.9755 - val_loss: 0.1679 - val_accuracy: 0.9369\n",
            "Epoch 115/200\n",
            "691/691 [==============================] - 9s 12ms/step - loss: 0.0690 - accuracy: 0.9737 - val_loss: 0.1382 - val_accuracy: 0.9521\n",
            "Epoch 116/200\n",
            "691/691 [==============================] - 9s 12ms/step - loss: 0.0573 - accuracy: 0.9779 - val_loss: 0.1177 - val_accuracy: 0.9605\n",
            "Epoch 117/200\n",
            "691/691 [==============================] - 9s 12ms/step - loss: 0.0640 - accuracy: 0.9772 - val_loss: 0.1009 - val_accuracy: 0.9660\n",
            "Epoch 118/200\n",
            "691/691 [==============================] - 9s 12ms/step - loss: 0.0627 - accuracy: 0.9772 - val_loss: 0.1263 - val_accuracy: 0.9548\n",
            "Epoch 119/200\n",
            "691/691 [==============================] - 9s 13ms/step - loss: 0.0606 - accuracy: 0.9782 - val_loss: 0.1308 - val_accuracy: 0.9498\n",
            "Epoch 120/200\n",
            "691/691 [==============================] - 9s 13ms/step - loss: 0.0601 - accuracy: 0.9776 - val_loss: 0.1414 - val_accuracy: 0.9472\n",
            "Epoch 121/200\n",
            "691/691 [==============================] - 9s 13ms/step - loss: 0.0636 - accuracy: 0.9763 - val_loss: 0.1234 - val_accuracy: 0.9607\n",
            "Epoch 122/200\n",
            "691/691 [==============================] - 9s 12ms/step - loss: 0.0577 - accuracy: 0.9787 - val_loss: 0.1697 - val_accuracy: 0.9432\n",
            "Epoch 123/200\n",
            "691/691 [==============================] - 9s 12ms/step - loss: 0.0589 - accuracy: 0.9776 - val_loss: 0.1598 - val_accuracy: 0.9487\n",
            "Epoch 124/200\n",
            "691/691 [==============================] - 9s 12ms/step - loss: 0.0593 - accuracy: 0.9781 - val_loss: 0.2096 - val_accuracy: 0.9325\n",
            "Epoch 125/200\n",
            "691/691 [==============================] - 9s 12ms/step - loss: 0.0607 - accuracy: 0.9779 - val_loss: 0.1384 - val_accuracy: 0.9555\n",
            "Epoch 126/200\n",
            "691/691 [==============================] - 9s 12ms/step - loss: 0.0605 - accuracy: 0.9775 - val_loss: 0.1845 - val_accuracy: 0.9422\n",
            "Epoch 127/200\n",
            "691/691 [==============================] - 9s 13ms/step - loss: 0.0601 - accuracy: 0.9779 - val_loss: 0.0969 - val_accuracy: 0.9656\n",
            "Epoch 128/200\n",
            "691/691 [==============================] - 9s 12ms/step - loss: 0.0484 - accuracy: 0.9826 - val_loss: 0.1470 - val_accuracy: 0.9493\n",
            "Epoch 129/200\n",
            "691/691 [==============================] - 9s 12ms/step - loss: 0.0613 - accuracy: 0.9772 - val_loss: 0.1387 - val_accuracy: 0.9506\n",
            "Epoch 130/200\n",
            "691/691 [==============================] - 9s 12ms/step - loss: 0.0550 - accuracy: 0.9802 - val_loss: 0.1217 - val_accuracy: 0.9565\n",
            "Epoch 131/200\n",
            "691/691 [==============================] - 9s 12ms/step - loss: 0.0548 - accuracy: 0.9804 - val_loss: 0.1461 - val_accuracy: 0.9487\n",
            "Epoch 132/200\n",
            "691/691 [==============================] - 9s 12ms/step - loss: 0.0548 - accuracy: 0.9801 - val_loss: 0.1164 - val_accuracy: 0.9576\n",
            "Epoch 133/200\n",
            "691/691 [==============================] - 9s 12ms/step - loss: 0.0574 - accuracy: 0.9785 - val_loss: 0.1218 - val_accuracy: 0.9626\n",
            "Epoch 134/200\n",
            "691/691 [==============================] - 9s 12ms/step - loss: 0.0529 - accuracy: 0.9813 - val_loss: 0.1359 - val_accuracy: 0.9493\n",
            "Epoch 135/200\n",
            "691/691 [==============================] - 9s 12ms/step - loss: 0.0521 - accuracy: 0.9808 - val_loss: 0.0908 - val_accuracy: 0.9696\n",
            "Epoch 136/200\n",
            "691/691 [==============================] - 9s 12ms/step - loss: 0.0505 - accuracy: 0.9818 - val_loss: 0.1528 - val_accuracy: 0.9451\n",
            "Epoch 137/200\n",
            "691/691 [==============================] - 9s 12ms/step - loss: 0.0526 - accuracy: 0.9800 - val_loss: 0.1103 - val_accuracy: 0.9588\n",
            "Epoch 138/200\n",
            "691/691 [==============================] - 9s 12ms/step - loss: 0.0501 - accuracy: 0.9818 - val_loss: 0.1498 - val_accuracy: 0.9458\n",
            "Epoch 139/200\n",
            "691/691 [==============================] - 9s 12ms/step - loss: 0.0505 - accuracy: 0.9815 - val_loss: 0.1106 - val_accuracy: 0.9622\n",
            "Epoch 140/200\n",
            "691/691 [==============================] - 9s 12ms/step - loss: 0.0508 - accuracy: 0.9803 - val_loss: 0.1032 - val_accuracy: 0.9643\n",
            "Epoch 141/200\n",
            "691/691 [==============================] - 9s 12ms/step - loss: 0.0544 - accuracy: 0.9809 - val_loss: 0.1181 - val_accuracy: 0.9578\n",
            "Epoch 142/200\n",
            "691/691 [==============================] - 9s 14ms/step - loss: 0.0517 - accuracy: 0.9806 - val_loss: 0.1345 - val_accuracy: 0.9491\n",
            "Epoch 143/200\n",
            "691/691 [==============================] - 9s 13ms/step - loss: 0.0496 - accuracy: 0.9820 - val_loss: 0.1732 - val_accuracy: 0.9504\n",
            "Epoch 144/200\n",
            "691/691 [==============================] - 9s 12ms/step - loss: 0.0486 - accuracy: 0.9825 - val_loss: 0.1145 - val_accuracy: 0.9641\n",
            "Epoch 145/200\n",
            "691/691 [==============================] - 9s 12ms/step - loss: 0.0464 - accuracy: 0.9831 - val_loss: 0.1594 - val_accuracy: 0.9447\n",
            "Epoch 146/200\n",
            "691/691 [==============================] - 9s 12ms/step - loss: 0.0494 - accuracy: 0.9817 - val_loss: 0.0924 - val_accuracy: 0.9679\n",
            "Epoch 147/200\n",
            "691/691 [==============================] - 9s 12ms/step - loss: 0.0481 - accuracy: 0.9820 - val_loss: 0.1081 - val_accuracy: 0.9605\n",
            "Epoch 148/200\n",
            "691/691 [==============================] - 9s 12ms/step - loss: 0.0478 - accuracy: 0.9822 - val_loss: 0.1059 - val_accuracy: 0.9664\n",
            "Epoch 149/200\n",
            "691/691 [==============================] - 9s 12ms/step - loss: 0.0443 - accuracy: 0.9839 - val_loss: 0.1215 - val_accuracy: 0.9559\n",
            "Epoch 150/200\n",
            "691/691 [==============================] - 9s 12ms/step - loss: 0.0487 - accuracy: 0.9822 - val_loss: 0.1152 - val_accuracy: 0.9599\n",
            "Epoch 151/200\n",
            "691/691 [==============================] - 8s 12ms/step - loss: 0.0452 - accuracy: 0.9836 - val_loss: 0.1292 - val_accuracy: 0.9591\n",
            "Epoch 152/200\n",
            "691/691 [==============================] - 9s 12ms/step - loss: 0.0511 - accuracy: 0.9812 - val_loss: 0.1062 - val_accuracy: 0.9637\n",
            "Epoch 153/200\n",
            "691/691 [==============================] - 9s 12ms/step - loss: 0.0470 - accuracy: 0.9826 - val_loss: 0.1097 - val_accuracy: 0.9607\n",
            "Epoch 154/200\n",
            "691/691 [==============================] - 9s 12ms/step - loss: 0.0462 - accuracy: 0.9836 - val_loss: 0.1369 - val_accuracy: 0.9472\n",
            "Epoch 155/200\n",
            "691/691 [==============================] - 9s 12ms/step - loss: 0.0425 - accuracy: 0.9838 - val_loss: 0.1505 - val_accuracy: 0.9441\n",
            "Epoch 156/200\n",
            "691/691 [==============================] - 9s 12ms/step - loss: 0.0423 - accuracy: 0.9854 - val_loss: 0.1284 - val_accuracy: 0.9580\n",
            "Epoch 157/200\n",
            "691/691 [==============================] - 9s 12ms/step - loss: 0.0472 - accuracy: 0.9830 - val_loss: 0.1844 - val_accuracy: 0.9396\n",
            "Epoch 158/200\n",
            "691/691 [==============================] - 9s 12ms/step - loss: 0.0436 - accuracy: 0.9841 - val_loss: 0.1176 - val_accuracy: 0.9572\n",
            "Epoch 159/200\n",
            "691/691 [==============================] - 9s 12ms/step - loss: 0.0409 - accuracy: 0.9854 - val_loss: 0.0797 - val_accuracy: 0.9705\n",
            "Epoch 160/200\n",
            "691/691 [==============================] - 9s 12ms/step - loss: 0.0469 - accuracy: 0.9834 - val_loss: 0.0870 - val_accuracy: 0.9669\n",
            "Epoch 161/200\n",
            "691/691 [==============================] - 9s 12ms/step - loss: 0.0393 - accuracy: 0.9864 - val_loss: 0.1399 - val_accuracy: 0.9536\n",
            "Epoch 162/200\n",
            "691/691 [==============================] - 9s 12ms/step - loss: 0.0432 - accuracy: 0.9841 - val_loss: 0.1024 - val_accuracy: 0.9671\n",
            "Epoch 163/200\n",
            "691/691 [==============================] - 9s 12ms/step - loss: 0.0397 - accuracy: 0.9862 - val_loss: 0.1011 - val_accuracy: 0.9654\n",
            "Epoch 164/200\n",
            "691/691 [==============================] - 9s 12ms/step - loss: 0.0365 - accuracy: 0.9866 - val_loss: 0.1100 - val_accuracy: 0.9614\n",
            "Epoch 165/200\n",
            "691/691 [==============================] - 9s 12ms/step - loss: 0.0347 - accuracy: 0.9879 - val_loss: 0.1040 - val_accuracy: 0.9669\n",
            "Epoch 166/200\n",
            "691/691 [==============================] - 9s 12ms/step - loss: 0.0392 - accuracy: 0.9851 - val_loss: 0.0938 - val_accuracy: 0.9702\n",
            "Epoch 167/200\n",
            "691/691 [==============================] - 9s 12ms/step - loss: 0.0424 - accuracy: 0.9847 - val_loss: 0.0976 - val_accuracy: 0.9662\n",
            "Epoch 168/200\n",
            "691/691 [==============================] - 9s 12ms/step - loss: 0.0412 - accuracy: 0.9854 - val_loss: 0.1505 - val_accuracy: 0.9544\n",
            "Epoch 169/200\n",
            "691/691 [==============================] - 9s 12ms/step - loss: 0.0387 - accuracy: 0.9856 - val_loss: 0.0950 - val_accuracy: 0.9643\n",
            "Epoch 170/200\n",
            "691/691 [==============================] - 9s 14ms/step - loss: 0.0363 - accuracy: 0.9864 - val_loss: 0.1174 - val_accuracy: 0.9629\n",
            "Epoch 171/200\n",
            "691/691 [==============================] - 9s 12ms/step - loss: 0.0378 - accuracy: 0.9862 - val_loss: 0.1493 - val_accuracy: 0.9521\n",
            "Epoch 172/200\n",
            "691/691 [==============================] - 9s 12ms/step - loss: 0.0358 - accuracy: 0.9878 - val_loss: 0.1081 - val_accuracy: 0.9643\n",
            "Epoch 173/200\n",
            "691/691 [==============================] - 9s 12ms/step - loss: 0.0368 - accuracy: 0.9874 - val_loss: 0.0813 - val_accuracy: 0.9749\n",
            "Epoch 174/200\n",
            "691/691 [==============================] - 9s 12ms/step - loss: 0.0333 - accuracy: 0.9884 - val_loss: 0.0926 - val_accuracy: 0.9675\n",
            "Epoch 175/200\n",
            "691/691 [==============================] - 9s 12ms/step - loss: 0.0424 - accuracy: 0.9843 - val_loss: 0.1191 - val_accuracy: 0.9612\n",
            "Epoch 176/200\n",
            "691/691 [==============================] - 9s 12ms/step - loss: 0.0301 - accuracy: 0.9891 - val_loss: 0.0895 - val_accuracy: 0.9719\n",
            "Epoch 177/200\n",
            "691/691 [==============================] - 9s 12ms/step - loss: 0.0311 - accuracy: 0.9886 - val_loss: 0.0780 - val_accuracy: 0.9740\n",
            "Epoch 178/200\n",
            "691/691 [==============================] - 9s 12ms/step - loss: 0.0364 - accuracy: 0.9873 - val_loss: 0.0712 - val_accuracy: 0.9738\n",
            "Epoch 179/200\n",
            "691/691 [==============================] - 9s 12ms/step - loss: 0.0317 - accuracy: 0.9886 - val_loss: 0.1066 - val_accuracy: 0.9664\n",
            "Epoch 180/200\n",
            "691/691 [==============================] - 9s 12ms/step - loss: 0.0346 - accuracy: 0.9872 - val_loss: 0.0826 - val_accuracy: 0.9728\n",
            "Epoch 181/200\n",
            "691/691 [==============================] - 10s 15ms/step - loss: 0.0281 - accuracy: 0.9900 - val_loss: 0.0940 - val_accuracy: 0.9690\n",
            "Epoch 182/200\n",
            "691/691 [==============================] - 9s 12ms/step - loss: 0.0412 - accuracy: 0.9846 - val_loss: 0.0693 - val_accuracy: 0.9770\n",
            "Epoch 183/200\n",
            "691/691 [==============================] - 9s 12ms/step - loss: 0.0303 - accuracy: 0.9887 - val_loss: 0.0825 - val_accuracy: 0.9734\n",
            "Epoch 184/200\n",
            "691/691 [==============================] - 9s 13ms/step - loss: 0.0284 - accuracy: 0.9905 - val_loss: 0.1168 - val_accuracy: 0.9633\n",
            "Epoch 185/200\n",
            "691/691 [==============================] - 9s 13ms/step - loss: 0.0350 - accuracy: 0.9873 - val_loss: 0.1136 - val_accuracy: 0.9658\n",
            "Epoch 186/200\n",
            "691/691 [==============================] - 9s 12ms/step - loss: 0.0358 - accuracy: 0.9869 - val_loss: 0.0892 - val_accuracy: 0.9664\n",
            "Epoch 187/200\n",
            "691/691 [==============================] - 9s 13ms/step - loss: 0.0373 - accuracy: 0.9867 - val_loss: 0.1476 - val_accuracy: 0.9550\n",
            "Epoch 188/200\n",
            "691/691 [==============================] - 9s 13ms/step - loss: 0.0372 - accuracy: 0.9872 - val_loss: 0.1161 - val_accuracy: 0.9588\n",
            "Epoch 189/200\n",
            "691/691 [==============================] - 9s 12ms/step - loss: 0.0267 - accuracy: 0.9906 - val_loss: 0.0819 - val_accuracy: 0.9730\n",
            "Epoch 190/200\n",
            "691/691 [==============================] - 9s 12ms/step - loss: 0.0325 - accuracy: 0.9885 - val_loss: 0.1103 - val_accuracy: 0.9671\n",
            "Epoch 191/200\n",
            "691/691 [==============================] - 9s 12ms/step - loss: 0.0320 - accuracy: 0.9888 - val_loss: 0.0863 - val_accuracy: 0.9726\n",
            "Epoch 192/200\n",
            "691/691 [==============================] - 9s 13ms/step - loss: 0.0343 - accuracy: 0.9880 - val_loss: 0.0995 - val_accuracy: 0.9669\n",
            "Epoch 193/200\n",
            "691/691 [==============================] - 9s 12ms/step - loss: 0.0274 - accuracy: 0.9896 - val_loss: 0.1009 - val_accuracy: 0.9667\n",
            "Epoch 194/200\n",
            "691/691 [==============================] - 9s 12ms/step - loss: 0.0378 - accuracy: 0.9865 - val_loss: 0.0792 - val_accuracy: 0.9751\n",
            "Epoch 195/200\n",
            "691/691 [==============================] - 9s 12ms/step - loss: 0.0275 - accuracy: 0.9900 - val_loss: 0.0971 - val_accuracy: 0.9679\n",
            "Epoch 196/200\n",
            "691/691 [==============================] - 9s 12ms/step - loss: 0.0375 - accuracy: 0.9866 - val_loss: 0.0753 - val_accuracy: 0.9762\n",
            "Epoch 197/200\n",
            "691/691 [==============================] - 9s 13ms/step - loss: 0.0327 - accuracy: 0.9887 - val_loss: 0.0804 - val_accuracy: 0.9755\n",
            "Epoch 198/200\n",
            "691/691 [==============================] - 10s 14ms/step - loss: 0.0262 - accuracy: 0.9908 - val_loss: 0.0832 - val_accuracy: 0.9743\n",
            "Epoch 199/200\n",
            "691/691 [==============================] - 10s 14ms/step - loss: 0.0250 - accuracy: 0.9915 - val_loss: 0.1179 - val_accuracy: 0.9652\n",
            "Epoch 200/200\n",
            "691/691 [==============================] - 9s 13ms/step - loss: 0.0327 - accuracy: 0.9888 - val_loss: 0.0841 - val_accuracy: 0.9749\n"
          ]
        },
        {
          "data": {
            "text/plain": [
              "<keras.callbacks.History at 0x2dbbbb6d0>"
            ]
          },
          "execution_count": 30,
          "metadata": {},
          "output_type": "execute_result"
        }
      ],
      "source": [
        "model.fit(X_train, {'gender': y_gender_train,\n",
        "                    # 'emotion': y_emotion_train,\n",
        "                    # 'age': y_age_train\n",
        "                    },\n",
        "          validation_data=(X_val, {'gender': y_gender_val,\n",
        "                                    # 'emotion': y_emotion_val,\n",
        "                                    # 'age': y_age_val\n",
        "                                    }),\n",
        "          epochs=200, batch_size=32)"
      ]
    },
    {
      "cell_type": "code",
      "execution_count": 31,
      "metadata": {},
      "outputs": [],
      "source": [
        "model.save(\"../../pre-trained_models/Individual Models/gender_MLP_model.keras\")"
      ]
    },
    {
      "cell_type": "code",
      "execution_count": 33,
      "metadata": {
        "colab": {
          "base_uri": "https://localhost:8080/"
        },
        "id": "zeN-Ct6PkHWI",
        "outputId": "66e52a2a-1013-451a-f64d-1bec5caf17db"
      },
      "outputs": [
        {
          "ename": "NameError",
          "evalue": "name 'y_emotion_test' is not defined",
          "output_type": "error",
          "traceback": [
            "\u001b[0;31m---------------------------------------------------------------------------\u001b[0m",
            "\u001b[0;31mNameError\u001b[0m                                 Traceback (most recent call last)",
            "Cell \u001b[0;32mIn[33], line 3\u001b[0m\n\u001b[1;32m      1\u001b[0m \u001b[39m# Evaluate the model\u001b[39;00m\n\u001b[1;32m      2\u001b[0m losses \u001b[39m=\u001b[39m model\u001b[39m.\u001b[39mevaluate(X_test, {\u001b[39m'\u001b[39m\u001b[39mgender\u001b[39m\u001b[39m'\u001b[39m: y_gender_test,\n\u001b[0;32m----> 3\u001b[0m                                  \u001b[39m'\u001b[39m\u001b[39memotion\u001b[39m\u001b[39m'\u001b[39m: y_emotion_test,\n\u001b[1;32m      4\u001b[0m                                  \u001b[39m'\u001b[39m\u001b[39mage\u001b[39m\u001b[39m'\u001b[39m: y_age_test})\n\u001b[1;32m      5\u001b[0m \u001b[39mprint\u001b[39m(\u001b[39m'\u001b[39m\u001b[39mGender Loss:\u001b[39m\u001b[39m'\u001b[39m, losses[\u001b[39m1\u001b[39m])\n\u001b[1;32m      6\u001b[0m \u001b[39mprint\u001b[39m(\u001b[39m'\u001b[39m\u001b[39mEmotion Loss:\u001b[39m\u001b[39m'\u001b[39m, losses[\u001b[39m2\u001b[39m])\n",
            "\u001b[0;31mNameError\u001b[0m: name 'y_emotion_test' is not defined"
          ]
        }
      ],
      "source": [
        "# Evaluate the model\n",
        "losses = model.evaluate(X_test, {'gender': y_gender_test,\n",
        "                                 'emotion': y_emotion_test,\n",
        "                                 'age': y_age_test})\n",
        "print('Gender Loss:', losses[1])\n",
        "print('Emotion Loss:', losses[2])\n",
        "print('Age Loss:', losses[3])\n",
        "print('Gender Accuracy:', losses[4])\n",
        "print('Emotion Accuracy:', losses[5])\n",
        "print('Age Accuracy:', losses[6])\n"
      ]
    },
    {
      "cell_type": "code",
      "execution_count": null,
      "metadata": {
        "id": "rhJylXWFAoYT"
      },
      "outputs": [],
      "source": [
        "from sklearn.metrics import confusion_matrix, f1_score\n",
        "import numpy as np\n",
        "import matplotlib.pyplot as plt"
      ]
    },
    {
      "cell_type": "code",
      "execution_count": null,
      "metadata": {
        "colab": {
          "base_uri": "https://localhost:8080/"
        },
        "id": "FVWgjdqWApDX",
        "outputId": "e7d8b3cd-7b0a-4889-bcae-924861e5b866"
      },
      "outputs": [],
      "source": [
        "y_pred = model.predict(X_test)"
      ]
    },
    {
      "cell_type": "code",
      "execution_count": null,
      "metadata": {
        "id": "xr0ucgDmAqs1"
      },
      "outputs": [],
      "source": [
        "y_gender_pred = (y_pred[0] > 0.5).astype(int)\n",
        "y_emotion_pred = np.argmax(y_pred[1], axis=1)\n",
        "y_age_pred = np.argmax(y_pred[2], axis=1)\n"
      ]
    },
    {
      "cell_type": "code",
      "execution_count": null,
      "metadata": {
        "colab": {
          "base_uri": "https://localhost:8080/"
        },
        "id": "z0YcdZHPBpkP",
        "outputId": "8fcf5553-66f3-4a4e-fa20-2ba4106d4c6d"
      },
      "outputs": [],
      "source": [
        "set(y_age_pred)"
      ]
    },
    {
      "cell_type": "code",
      "execution_count": null,
      "metadata": {
        "colab": {
          "base_uri": "https://localhost:8080/"
        },
        "id": "VX5jOYfdDGTo",
        "outputId": "344de392-5459-48d8-87c9-ee9dc8dd6972"
      },
      "outputs": [],
      "source": [
        "y_gender_test.shape"
      ]
    },
    {
      "cell_type": "code",
      "execution_count": null,
      "metadata": {
        "colab": {
          "base_uri": "https://localhost:8080/"
        },
        "id": "be54ROyZDOuD",
        "outputId": "9c4901bb-98ab-4015-9e40-90b138b3d7f9"
      },
      "outputs": [],
      "source": [
        "y_gender_pred.shape"
      ]
    },
    {
      "cell_type": "code",
      "execution_count": null,
      "metadata": {
        "id": "oKXJ7bljCBpV"
      },
      "outputs": [],
      "source": [
        "gender_cm = confusion_matrix(y_gender_test, y_gender_pred)\n",
        "emotion_cm = confusion_matrix(np.argmax(y_emotion_test, axis=1), y_emotion_pred)\n",
        "age_cm = confusion_matrix(np.argmax(y_age_test, axis=1), y_age_pred)"
      ]
    },
    {
      "cell_type": "code",
      "execution_count": null,
      "metadata": {
        "id": "epzdaREbCq79"
      },
      "outputs": [],
      "source": [
        "gender_f1 = f1_score(y_gender_test, y_gender_pred, average='macro')\n",
        "emotion_f1 = f1_score(np.argmax(y_emotion_test, axis=1), y_emotion_pred, average='macro')\n",
        "age_f1 = f1_score(np.argmax(y_age_test, axis=1), y_age_pred, average='macro')"
      ]
    },
    {
      "cell_type": "code",
      "execution_count": null,
      "metadata": {
        "colab": {
          "base_uri": "https://localhost:8080/",
          "height": 557
        },
        "id": "TK3JNz1JDaic",
        "outputId": "f7aa2302-ca7a-4be7-ebcf-55d1c103428c"
      },
      "outputs": [],
      "source": [
        "labels_gender = ['Male', 'Female']\n",
        "labels_emotion = ['Anger', 'Anxiety/Fear', 'Disgust', 'Happiness', 'Neutral', 'Sadness']\n",
        "labels_age = ['Twenties', 'Thirties', 'Forties', 'Fifties', 'Sixties', 'Seventies']\n",
        "\n",
        "\n",
        "fig, axes = plt.subplots(1, 3, figsize=(20, 6))\n",
        "sns.heatmap(gender_cm, annot=True, cmap='Blues', fmt='d', ax=axes[0])\n",
        "axes[0].set_xticks(np.arange(len(labels_gender)) + 0.5)\n",
        "axes[0].set_yticks(np.arange(len(labels_gender)) + 0.5)\n",
        "axes[0].set_xticklabels(labels_gender)\n",
        "axes[0].set_yticklabels(labels_gender)\n",
        "axes[0].set_xlabel('Predicted')\n",
        "axes[0].set_ylabel('True')\n",
        "axes[0].set_title('Gender Confusion Matrix')\n",
        "\n",
        "sns.heatmap(emotion_cm, annot=True, cmap='Blues', fmt='d', ax=axes[1])\n",
        "axes[1].set_xticks(np.arange(len(labels_emotion)) + 0.5)\n",
        "axes[1].set_yticks(np.arange(len(labels_emotion)) + 0.5)\n",
        "axes[1].set_xticklabels(labels_emotion, rotation=45)\n",
        "axes[1].set_yticklabels(labels_emotion)\n",
        "axes[1].set_xlabel('Predicted')\n",
        "axes[1].set_ylabel('True')\n",
        "axes[1].set_title('Emotion Confusion Matrix')\n",
        "\n",
        "sns.heatmap(age_cm, annot=True, cmap='Blues', fmt='d', ax=axes[2])\n",
        "axes[2].set_xticks(np.arange(len(labels_age)) + 0.5)\n",
        "axes[2].set_yticks(np.arange(len(labels_age)) + 0.5)\n",
        "axes[2].set_xticklabels(labels_age, rotation=45)\n",
        "axes[2].set_yticklabels(labels_age)\n",
        "axes[2].set_xlabel('Predicted')\n",
        "axes[2].set_ylabel('True')\n",
        "axes[2].set_title('Age Confusion Matrix')\n",
        "\n",
        "plt.tight_layout()\n",
        "plt.show()"
      ]
    },
    {
      "cell_type": "code",
      "execution_count": null,
      "metadata": {
        "colab": {
          "base_uri": "https://localhost:8080/"
        },
        "id": "tseov2bRDdpE",
        "outputId": "bad7a2f2-eaa5-407e-9472-2036fc9e4ca7"
      },
      "outputs": [],
      "source": [
        "print('Gender F1 Score:', gender_f1)\n",
        "print('Emotion F1 Score:', emotion_f1)\n",
        "print('Age F1 Score:', age_f1)"
      ]
    },
    {
      "cell_type": "code",
      "execution_count": null,
      "metadata": {
        "id": "Rhtg-QGYO2gg"
      },
      "outputs": [],
      "source": []
    },
    {
      "cell_type": "code",
      "execution_count": null,
      "metadata": {},
      "outputs": [],
      "source": []
    }
  ],
  "metadata": {
    "accelerator": "GPU",
    "colab": {
      "gpuType": "T4",
      "provenance": []
    },
    "kernelspec": {
      "display_name": "Python 3",
      "name": "python3"
    },
    "language_info": {
      "codemirror_mode": {
        "name": "ipython",
        "version": 3
      },
      "file_extension": ".py",
      "mimetype": "text/x-python",
      "name": "python",
      "nbconvert_exporter": "python",
      "pygments_lexer": "ipython3",
      "version": "3.10.12"
    }
  },
  "nbformat": 4,
  "nbformat_minor": 0
}
