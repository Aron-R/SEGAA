{
 "cells": [
  {
   "cell_type": "code",
   "execution_count": 1,
   "id": "0fedfb80",
   "metadata": {
    "execution": {
     "iopub.execute_input": "2023-09-06T09:11:28.685230Z",
     "iopub.status.busy": "2023-09-06T09:11:28.684694Z",
     "iopub.status.idle": "2023-09-06T09:11:28.699643Z",
     "shell.execute_reply": "2023-09-06T09:11:28.697831Z",
     "shell.execute_reply.started": "2023-09-06T09:11:28.685176Z"
    },
    "papermill": {
     "duration": null,
     "end_time": null,
     "exception": null,
     "start_time": null,
     "status": "pending"
    },
    "tags": []
   },
   "outputs": [],
   "source": [
    "import numpy as np # linear algebra\n",
    "import pandas as pd # data processing, CSV file I/O (e.g. pd.read_csv)"
   ]
  },
  {
   "cell_type": "code",
   "execution_count": 2,
   "id": "f2315fa3",
   "metadata": {
    "execution": {
     "iopub.execute_input": "2023-09-06T09:11:30.130598Z",
     "iopub.status.busy": "2023-09-06T09:11:30.129426Z",
     "iopub.status.idle": "2023-09-06T09:11:34.013391Z",
     "shell.execute_reply": "2023-09-06T09:11:34.012364Z",
     "shell.execute_reply.started": "2023-09-06T09:11:30.130529Z"
    },
    "id": "1J_4tBeOCRYK",
    "papermill": {
     "duration": null,
     "end_time": null,
     "exception": null,
     "start_time": null,
     "status": "pending"
    },
    "tags": []
   },
   "outputs": [
    {
     "name": "stderr",
     "output_type": "stream",
     "text": [
      "/opt/homebrew/Caskroom/miniforge/base/envs/prismatic/lib/python3.10/site-packages/lazy_loader/__init__.py:185: RuntimeWarning: subpackages can technically be lazily loaded, but it causes the package to be eagerly loaded even if it is already lazily loaded.So, you probably shouldn't use subpackages with this lazy feature.\n",
      "  warnings.warn(msg, RuntimeWarning)\n",
      "/opt/homebrew/Caskroom/miniforge/base/envs/prismatic/lib/python3.10/site-packages/lazy_loader/__init__.py:185: RuntimeWarning: subpackages can technically be lazily loaded, but it causes the package to be eagerly loaded even if it is already lazily loaded.So, you probably shouldn't use subpackages with this lazy feature.\n",
      "  warnings.warn(msg, RuntimeWarning)\n"
     ]
    }
   ],
   "source": [
    "import os\n",
    "import sys\n",
    "import tensorflow as tf\n",
    "import librosa\n",
    "import librosa.display\n",
    "import seaborn as sns\n",
    "import matplotlib.pyplot as plt"
   ]
  },
  {
   "cell_type": "code",
   "execution_count": 3,
   "id": "548264a5",
   "metadata": {
    "execution": {
     "iopub.execute_input": "2023-09-06T09:11:34.016079Z",
     "iopub.status.busy": "2023-09-06T09:11:34.015413Z",
     "iopub.status.idle": "2023-09-06T09:11:34.180156Z",
     "shell.execute_reply": "2023-09-06T09:11:34.179013Z",
     "shell.execute_reply.started": "2023-09-06T09:11:34.016040Z"
    },
    "id": "yzsZ-H8PCRYL",
    "papermill": {
     "duration": null,
     "end_time": null,
     "exception": null,
     "start_time": null,
     "status": "pending"
    },
    "tags": []
   },
   "outputs": [],
   "source": [
    "from sklearn.preprocessing import StandardScaler, OneHotEncoder\n",
    "from sklearn.metrics import confusion_matrix, classification_report\n",
    "from sklearn.model_selection import train_test_split\n",
    "\n",
    "# to play the audio files\n",
    "from IPython.display import Audio\n",
    "\n",
    "import keras\n",
    "from keras.callbacks import EarlyStopping\n",
    "from keras.callbacks import ReduceLROnPlateau\n",
    "from keras.models import Sequential\n",
    "from keras.layers import Dense, Conv1D, MaxPooling1D, Flatten, Dropout, BatchNormalization\n",
    "from keras.utils import to_categorical\n",
    "from keras.callbacks import ModelCheckpoint\n",
    "\n",
    "import warnings\n",
    "if not sys.warnoptions:\n",
    "    warnings.simplefilter(\"ignore\")\n",
    "warnings.filterwarnings(\"ignore\", category=DeprecationWarning)"
   ]
  },
  {
   "cell_type": "code",
   "execution_count": 4,
   "id": "044514b8",
   "metadata": {
    "execution": {
     "iopub.execute_input": "2023-09-06T09:11:34.182408Z",
     "iopub.status.busy": "2023-09-06T09:11:34.181932Z",
     "iopub.status.idle": "2023-09-06T09:12:10.185756Z",
     "shell.execute_reply": "2023-09-06T09:12:10.184744Z",
     "shell.execute_reply.started": "2023-09-06T09:11:34.182364Z"
    },
    "id": "rPfCyGq2CRYL",
    "papermill": {
     "duration": null,
     "end_time": null,
     "exception": null,
     "start_time": null,
     "status": "pending"
    },
    "tags": []
   },
   "outputs": [],
   "source": [
    "dataset_path = './data/features_age_emotion.csv'\n",
    "\n",
    "data = pd.read_csv(dataset_path)"
   ]
  },
  {
   "cell_type": "code",
   "execution_count": 5,
   "id": "bd4e1bb4",
   "metadata": {
    "execution": {
     "iopub.execute_input": "2023-09-06T09:12:10.189188Z",
     "iopub.status.busy": "2023-09-06T09:12:10.188346Z",
     "iopub.status.idle": "2023-09-06T09:12:10.206302Z",
     "shell.execute_reply": "2023-09-06T09:12:10.205225Z",
     "shell.execute_reply.started": "2023-09-06T09:12:10.189151Z"
    },
    "id": "4ff2SRqYCRYL",
    "papermill": {
     "duration": null,
     "end_time": null,
     "exception": null,
     "start_time": null,
     "status": "pending"
    },
    "tags": []
   },
   "outputs": [],
   "source": [
    "data['age'] = pd.cut(data['age'], bins=[20, 29, 39, 49, 59, 69, 79],\n",
    "                           labels=['twenties', 'thirties', 'forties', 'fifties', 'sixties', 'seventies'],\n",
    "                           right=False)"
   ]
  },
  {
   "cell_type": "code",
   "execution_count": 6,
   "id": "bada4dc6",
   "metadata": {
    "execution": {
     "iopub.execute_input": "2023-09-06T09:12:10.208297Z",
     "iopub.status.busy": "2023-09-06T09:12:10.207868Z",
     "iopub.status.idle": "2023-09-06T09:12:10.665938Z",
     "shell.execute_reply": "2023-09-06T09:12:10.664901Z",
     "shell.execute_reply.started": "2023-09-06T09:12:10.208263Z"
    },
    "id": "qy1Yte97CRYM",
    "papermill": {
     "duration": null,
     "end_time": null,
     "exception": null,
     "start_time": null,
     "status": "pending"
    },
    "tags": []
   },
   "outputs": [],
   "source": [
    "data = data.replace(np.nan, 0)"
   ]
  },
  {
   "cell_type": "code",
   "execution_count": 7,
   "id": "d2c70354",
   "metadata": {
    "execution": {
     "iopub.execute_input": "2023-09-06T09:12:10.667869Z",
     "iopub.status.busy": "2023-09-06T09:12:10.667527Z",
     "iopub.status.idle": "2023-09-06T09:12:10.691246Z",
     "shell.execute_reply": "2023-09-06T09:12:10.690189Z",
     "shell.execute_reply.started": "2023-09-06T09:12:10.667836Z"
    },
    "id": "IZlMZDOACRYM",
    "papermill": {
     "duration": null,
     "end_time": null,
     "exception": null,
     "start_time": null,
     "status": "pending"
    },
    "tags": []
   },
   "outputs": [],
   "source": [
    "data['gender'] = data['gender'].replace(\"female\",0)\n",
    "data['gender'] = data['gender'].replace(\"male\",1)"
   ]
  },
  {
   "cell_type": "code",
   "execution_count": 8,
   "id": "9b87c593",
   "metadata": {
    "execution": {
     "iopub.execute_input": "2023-09-06T09:12:10.693392Z",
     "iopub.status.busy": "2023-09-06T09:12:10.692952Z",
     "iopub.status.idle": "2023-09-06T09:12:10.713595Z",
     "shell.execute_reply": "2023-09-06T09:12:10.712559Z",
     "shell.execute_reply.started": "2023-09-06T09:12:10.693358Z"
    },
    "id": "esb-O5ITCRYM",
    "outputId": "898bb6e1-5161-4184-fa22-cbf020693603",
    "papermill": {
     "duration": null,
     "end_time": null,
     "exception": null,
     "start_time": null,
     "status": "pending"
    },
    "tags": []
   },
   "outputs": [
    {
     "data": {
      "text/plain": [
       "emotion\n",
       "anger           5592\n",
       "happiness       5368\n",
       "anxiety/fear    5360\n",
       "sadness         5332\n",
       "disgust         5268\n",
       "neutral         4664\n",
       "Name: count, dtype: int64"
      ]
     },
     "execution_count": 8,
     "metadata": {},
     "output_type": "execute_result"
    }
   ],
   "source": [
    "data.emotion.value_counts()"
   ]
  },
  {
   "cell_type": "code",
   "execution_count": 9,
   "id": "9078801d",
   "metadata": {
    "execution": {
     "iopub.execute_input": "2023-09-06T09:12:10.715574Z",
     "iopub.status.busy": "2023-09-06T09:12:10.715039Z",
     "iopub.status.idle": "2023-09-06T09:12:11.001122Z",
     "shell.execute_reply": "2023-09-06T09:12:10.999938Z",
     "shell.execute_reply.started": "2023-09-06T09:12:10.715540Z"
    },
    "id": "yGb66MuPCRYN",
    "outputId": "a62f5964-ac09-44d4-b39b-fb6860adb3a3",
    "papermill": {
     "duration": null,
     "end_time": null,
     "exception": null,
     "start_time": null,
     "status": "pending"
    },
    "tags": []
   },
   "outputs": [],
   "source": [
    "# encoded_df = pd.get_dummies(data['emotion'])\n",
    "# df_encoded = pd.concat([data, encoded_df], axis=1)\n",
    "# df_encoded.head()\n",
    "# data.head()"
   ]
  },
  {
   "cell_type": "code",
   "execution_count": 10,
   "id": "3456a0ef",
   "metadata": {
    "execution": {
     "iopub.execute_input": "2023-09-06T09:12:11.004234Z",
     "iopub.status.busy": "2023-09-06T09:12:11.002757Z",
     "iopub.status.idle": "2023-09-06T09:12:11.285122Z",
     "shell.execute_reply": "2023-09-06T09:12:11.283931Z",
     "shell.execute_reply.started": "2023-09-06T09:12:11.004196Z"
    },
    "id": "MUZz2ml9CRYN",
    "outputId": "adca5b6c-ed7e-45ae-8b02-14d36fa32b8c",
    "papermill": {
     "duration": null,
     "end_time": null,
     "exception": null,
     "start_time": null,
     "status": "pending"
    },
    "tags": []
   },
   "outputs": [
    {
     "data": {
      "text/html": [
       "<div>\n",
       "<style scoped>\n",
       "    .dataframe tbody tr th:only-of-type {\n",
       "        vertical-align: middle;\n",
       "    }\n",
       "\n",
       "    .dataframe tbody tr th {\n",
       "        vertical-align: top;\n",
       "    }\n",
       "\n",
       "    .dataframe thead th {\n",
       "        text-align: right;\n",
       "    }\n",
       "</style>\n",
       "<table border=\"1\" class=\"dataframe\">\n",
       "  <thead>\n",
       "    <tr style=\"text-align: right;\">\n",
       "      <th></th>\n",
       "      <th>0</th>\n",
       "      <th>1</th>\n",
       "      <th>2</th>\n",
       "      <th>3</th>\n",
       "      <th>4</th>\n",
       "      <th>5</th>\n",
       "      <th>6</th>\n",
       "      <th>7</th>\n",
       "      <th>8</th>\n",
       "      <th>9</th>\n",
       "      <th>...</th>\n",
       "      <th>2859</th>\n",
       "      <th>age</th>\n",
       "      <th>gender</th>\n",
       "      <th>emotion</th>\n",
       "      <th>twenties</th>\n",
       "      <th>thirties</th>\n",
       "      <th>forties</th>\n",
       "      <th>fifties</th>\n",
       "      <th>sixties</th>\n",
       "      <th>seventies</th>\n",
       "    </tr>\n",
       "  </thead>\n",
       "  <tbody>\n",
       "    <tr>\n",
       "      <th>0</th>\n",
       "      <td>0.017090</td>\n",
       "      <td>0.024902</td>\n",
       "      <td>0.028809</td>\n",
       "      <td>0.045410</td>\n",
       "      <td>0.074707</td>\n",
       "      <td>0.100098</td>\n",
       "      <td>0.119141</td>\n",
       "      <td>0.110840</td>\n",
       "      <td>0.088867</td>\n",
       "      <td>0.067383</td>\n",
       "      <td>...</td>\n",
       "      <td>0.0</td>\n",
       "      <td>fifties</td>\n",
       "      <td>1</td>\n",
       "      <td>anger</td>\n",
       "      <td>False</td>\n",
       "      <td>False</td>\n",
       "      <td>False</td>\n",
       "      <td>True</td>\n",
       "      <td>False</td>\n",
       "      <td>False</td>\n",
       "    </tr>\n",
       "    <tr>\n",
       "      <th>1</th>\n",
       "      <td>0.182129</td>\n",
       "      <td>0.256836</td>\n",
       "      <td>0.350098</td>\n",
       "      <td>0.351074</td>\n",
       "      <td>0.281738</td>\n",
       "      <td>0.240234</td>\n",
       "      <td>0.170410</td>\n",
       "      <td>0.110840</td>\n",
       "      <td>0.089844</td>\n",
       "      <td>0.068359</td>\n",
       "      <td>...</td>\n",
       "      <td>0.0</td>\n",
       "      <td>fifties</td>\n",
       "      <td>1</td>\n",
       "      <td>anger</td>\n",
       "      <td>False</td>\n",
       "      <td>False</td>\n",
       "      <td>False</td>\n",
       "      <td>True</td>\n",
       "      <td>False</td>\n",
       "      <td>False</td>\n",
       "    </tr>\n",
       "    <tr>\n",
       "      <th>2</th>\n",
       "      <td>0.015625</td>\n",
       "      <td>0.029297</td>\n",
       "      <td>0.070801</td>\n",
       "      <td>0.104004</td>\n",
       "      <td>0.132324</td>\n",
       "      <td>0.149414</td>\n",
       "      <td>0.131836</td>\n",
       "      <td>0.109863</td>\n",
       "      <td>0.092773</td>\n",
       "      <td>0.076660</td>\n",
       "      <td>...</td>\n",
       "      <td>0.0</td>\n",
       "      <td>fifties</td>\n",
       "      <td>1</td>\n",
       "      <td>anger</td>\n",
       "      <td>False</td>\n",
       "      <td>False</td>\n",
       "      <td>False</td>\n",
       "      <td>True</td>\n",
       "      <td>False</td>\n",
       "      <td>False</td>\n",
       "    </tr>\n",
       "    <tr>\n",
       "      <th>3</th>\n",
       "      <td>0.076660</td>\n",
       "      <td>0.113770</td>\n",
       "      <td>0.167969</td>\n",
       "      <td>0.180176</td>\n",
       "      <td>0.173340</td>\n",
       "      <td>0.166992</td>\n",
       "      <td>0.136719</td>\n",
       "      <td>0.109863</td>\n",
       "      <td>0.091309</td>\n",
       "      <td>0.075684</td>\n",
       "      <td>...</td>\n",
       "      <td>0.0</td>\n",
       "      <td>fifties</td>\n",
       "      <td>1</td>\n",
       "      <td>anger</td>\n",
       "      <td>False</td>\n",
       "      <td>False</td>\n",
       "      <td>False</td>\n",
       "      <td>True</td>\n",
       "      <td>False</td>\n",
       "      <td>False</td>\n",
       "    </tr>\n",
       "    <tr>\n",
       "      <th>4</th>\n",
       "      <td>0.015137</td>\n",
       "      <td>0.031738</td>\n",
       "      <td>0.036621</td>\n",
       "      <td>0.041504</td>\n",
       "      <td>0.037109</td>\n",
       "      <td>0.026855</td>\n",
       "      <td>0.029297</td>\n",
       "      <td>0.029297</td>\n",
       "      <td>0.035645</td>\n",
       "      <td>0.067383</td>\n",
       "      <td>...</td>\n",
       "      <td>0.0</td>\n",
       "      <td>fifties</td>\n",
       "      <td>1</td>\n",
       "      <td>disgust</td>\n",
       "      <td>False</td>\n",
       "      <td>False</td>\n",
       "      <td>False</td>\n",
       "      <td>True</td>\n",
       "      <td>False</td>\n",
       "      <td>False</td>\n",
       "    </tr>\n",
       "  </tbody>\n",
       "</table>\n",
       "<p>5 rows × 2869 columns</p>\n",
       "</div>"
      ],
      "text/plain": [
       "          0         1         2         3         4         5         6  \\\n",
       "0  0.017090  0.024902  0.028809  0.045410  0.074707  0.100098  0.119141   \n",
       "1  0.182129  0.256836  0.350098  0.351074  0.281738  0.240234  0.170410   \n",
       "2  0.015625  0.029297  0.070801  0.104004  0.132324  0.149414  0.131836   \n",
       "3  0.076660  0.113770  0.167969  0.180176  0.173340  0.166992  0.136719   \n",
       "4  0.015137  0.031738  0.036621  0.041504  0.037109  0.026855  0.029297   \n",
       "\n",
       "          7         8         9  ...  2859      age  gender  emotion  \\\n",
       "0  0.110840  0.088867  0.067383  ...   0.0  fifties       1    anger   \n",
       "1  0.110840  0.089844  0.068359  ...   0.0  fifties       1    anger   \n",
       "2  0.109863  0.092773  0.076660  ...   0.0  fifties       1    anger   \n",
       "3  0.109863  0.091309  0.075684  ...   0.0  fifties       1    anger   \n",
       "4  0.029297  0.035645  0.067383  ...   0.0  fifties       1  disgust   \n",
       "\n",
       "   twenties  thirties  forties  fifties  sixties  seventies  \n",
       "0     False     False    False     True    False      False  \n",
       "1     False     False    False     True    False      False  \n",
       "2     False     False    False     True    False      False  \n",
       "3     False     False    False     True    False      False  \n",
       "4     False     False    False     True    False      False  \n",
       "\n",
       "[5 rows x 2869 columns]"
      ]
     },
     "execution_count": 10,
     "metadata": {},
     "output_type": "execute_result"
    }
   ],
   "source": [
    "encoded_df = pd.get_dummies(data['age'])\n",
    "df_encoded = pd.concat([data, encoded_df], axis=1)\n",
    "df_encoded.head()"
   ]
  },
  {
   "cell_type": "code",
   "execution_count": 11,
   "id": "8950028b",
   "metadata": {
    "execution": {
     "iopub.execute_input": "2023-09-06T09:12:11.290714Z",
     "iopub.status.busy": "2023-09-06T09:12:11.290371Z",
     "iopub.status.idle": "2023-09-06T09:12:11.508232Z",
     "shell.execute_reply": "2023-09-06T09:12:11.507026Z",
     "shell.execute_reply.started": "2023-09-06T09:12:11.290684Z"
    },
    "id": "rFIlJe5TCRYN",
    "papermill": {
     "duration": null,
     "end_time": null,
     "exception": null,
     "start_time": null,
     "status": "pending"
    },
    "tags": []
   },
   "outputs": [
    {
     "data": {
      "text/html": [
       "<div>\n",
       "<style scoped>\n",
       "    .dataframe tbody tr th:only-of-type {\n",
       "        vertical-align: middle;\n",
       "    }\n",
       "\n",
       "    .dataframe tbody tr th {\n",
       "        vertical-align: top;\n",
       "    }\n",
       "\n",
       "    .dataframe thead th {\n",
       "        text-align: right;\n",
       "    }\n",
       "</style>\n",
       "<table border=\"1\" class=\"dataframe\">\n",
       "  <thead>\n",
       "    <tr style=\"text-align: right;\">\n",
       "      <th></th>\n",
       "      <th>0</th>\n",
       "      <th>1</th>\n",
       "      <th>2</th>\n",
       "      <th>3</th>\n",
       "      <th>4</th>\n",
       "      <th>5</th>\n",
       "      <th>6</th>\n",
       "      <th>7</th>\n",
       "      <th>8</th>\n",
       "      <th>9</th>\n",
       "      <th>...</th>\n",
       "      <th>2857</th>\n",
       "      <th>2858</th>\n",
       "      <th>2859</th>\n",
       "      <th>age</th>\n",
       "      <th>twenties</th>\n",
       "      <th>thirties</th>\n",
       "      <th>forties</th>\n",
       "      <th>fifties</th>\n",
       "      <th>sixties</th>\n",
       "      <th>seventies</th>\n",
       "    </tr>\n",
       "  </thead>\n",
       "  <tbody>\n",
       "    <tr>\n",
       "      <th>0</th>\n",
       "      <td>0.017090</td>\n",
       "      <td>0.024902</td>\n",
       "      <td>0.028809</td>\n",
       "      <td>0.045410</td>\n",
       "      <td>0.074707</td>\n",
       "      <td>0.100098</td>\n",
       "      <td>0.119141</td>\n",
       "      <td>0.110840</td>\n",
       "      <td>0.088867</td>\n",
       "      <td>0.067383</td>\n",
       "      <td>...</td>\n",
       "      <td>0.0</td>\n",
       "      <td>0.0</td>\n",
       "      <td>0.0</td>\n",
       "      <td>fifties</td>\n",
       "      <td>False</td>\n",
       "      <td>False</td>\n",
       "      <td>False</td>\n",
       "      <td>True</td>\n",
       "      <td>False</td>\n",
       "      <td>False</td>\n",
       "    </tr>\n",
       "    <tr>\n",
       "      <th>1</th>\n",
       "      <td>0.182129</td>\n",
       "      <td>0.256836</td>\n",
       "      <td>0.350098</td>\n",
       "      <td>0.351074</td>\n",
       "      <td>0.281738</td>\n",
       "      <td>0.240234</td>\n",
       "      <td>0.170410</td>\n",
       "      <td>0.110840</td>\n",
       "      <td>0.089844</td>\n",
       "      <td>0.068359</td>\n",
       "      <td>...</td>\n",
       "      <td>0.0</td>\n",
       "      <td>0.0</td>\n",
       "      <td>0.0</td>\n",
       "      <td>fifties</td>\n",
       "      <td>False</td>\n",
       "      <td>False</td>\n",
       "      <td>False</td>\n",
       "      <td>True</td>\n",
       "      <td>False</td>\n",
       "      <td>False</td>\n",
       "    </tr>\n",
       "    <tr>\n",
       "      <th>2</th>\n",
       "      <td>0.015625</td>\n",
       "      <td>0.029297</td>\n",
       "      <td>0.070801</td>\n",
       "      <td>0.104004</td>\n",
       "      <td>0.132324</td>\n",
       "      <td>0.149414</td>\n",
       "      <td>0.131836</td>\n",
       "      <td>0.109863</td>\n",
       "      <td>0.092773</td>\n",
       "      <td>0.076660</td>\n",
       "      <td>...</td>\n",
       "      <td>0.0</td>\n",
       "      <td>0.0</td>\n",
       "      <td>0.0</td>\n",
       "      <td>fifties</td>\n",
       "      <td>False</td>\n",
       "      <td>False</td>\n",
       "      <td>False</td>\n",
       "      <td>True</td>\n",
       "      <td>False</td>\n",
       "      <td>False</td>\n",
       "    </tr>\n",
       "    <tr>\n",
       "      <th>3</th>\n",
       "      <td>0.076660</td>\n",
       "      <td>0.113770</td>\n",
       "      <td>0.167969</td>\n",
       "      <td>0.180176</td>\n",
       "      <td>0.173340</td>\n",
       "      <td>0.166992</td>\n",
       "      <td>0.136719</td>\n",
       "      <td>0.109863</td>\n",
       "      <td>0.091309</td>\n",
       "      <td>0.075684</td>\n",
       "      <td>...</td>\n",
       "      <td>0.0</td>\n",
       "      <td>0.0</td>\n",
       "      <td>0.0</td>\n",
       "      <td>fifties</td>\n",
       "      <td>False</td>\n",
       "      <td>False</td>\n",
       "      <td>False</td>\n",
       "      <td>True</td>\n",
       "      <td>False</td>\n",
       "      <td>False</td>\n",
       "    </tr>\n",
       "    <tr>\n",
       "      <th>4</th>\n",
       "      <td>0.015137</td>\n",
       "      <td>0.031738</td>\n",
       "      <td>0.036621</td>\n",
       "      <td>0.041504</td>\n",
       "      <td>0.037109</td>\n",
       "      <td>0.026855</td>\n",
       "      <td>0.029297</td>\n",
       "      <td>0.029297</td>\n",
       "      <td>0.035645</td>\n",
       "      <td>0.067383</td>\n",
       "      <td>...</td>\n",
       "      <td>0.0</td>\n",
       "      <td>0.0</td>\n",
       "      <td>0.0</td>\n",
       "      <td>fifties</td>\n",
       "      <td>False</td>\n",
       "      <td>False</td>\n",
       "      <td>False</td>\n",
       "      <td>True</td>\n",
       "      <td>False</td>\n",
       "      <td>False</td>\n",
       "    </tr>\n",
       "  </tbody>\n",
       "</table>\n",
       "<p>5 rows × 2867 columns</p>\n",
       "</div>"
      ],
      "text/plain": [
       "          0         1         2         3         4         5         6  \\\n",
       "0  0.017090  0.024902  0.028809  0.045410  0.074707  0.100098  0.119141   \n",
       "1  0.182129  0.256836  0.350098  0.351074  0.281738  0.240234  0.170410   \n",
       "2  0.015625  0.029297  0.070801  0.104004  0.132324  0.149414  0.131836   \n",
       "3  0.076660  0.113770  0.167969  0.180176  0.173340  0.166992  0.136719   \n",
       "4  0.015137  0.031738  0.036621  0.041504  0.037109  0.026855  0.029297   \n",
       "\n",
       "          7         8         9  ...  2857  2858  2859      age  twenties  \\\n",
       "0  0.110840  0.088867  0.067383  ...   0.0   0.0   0.0  fifties     False   \n",
       "1  0.110840  0.089844  0.068359  ...   0.0   0.0   0.0  fifties     False   \n",
       "2  0.109863  0.092773  0.076660  ...   0.0   0.0   0.0  fifties     False   \n",
       "3  0.109863  0.091309  0.075684  ...   0.0   0.0   0.0  fifties     False   \n",
       "4  0.029297  0.035645  0.067383  ...   0.0   0.0   0.0  fifties     False   \n",
       "\n",
       "   thirties  forties  fifties  sixties  seventies  \n",
       "0     False    False     True    False      False  \n",
       "1     False    False     True    False      False  \n",
       "2     False    False     True    False      False  \n",
       "3     False    False     True    False      False  \n",
       "4     False    False     True    False      False  \n",
       "\n",
       "[5 rows x 2867 columns]"
      ]
     },
     "execution_count": 11,
     "metadata": {},
     "output_type": "execute_result"
    }
   ],
   "source": [
    "df_encoded = df_encoded.drop(['gender','emotion'], axis=1)\n",
    "df_encoded.head()"
   ]
  },
  {
   "cell_type": "code",
   "execution_count": 12,
   "id": "96fb5949",
   "metadata": {
    "execution": {
     "iopub.execute_input": "2023-09-06T09:12:11.510770Z",
     "iopub.status.busy": "2023-09-06T09:12:11.509959Z",
     "iopub.status.idle": "2023-09-06T09:12:11.792351Z",
     "shell.execute_reply": "2023-09-06T09:12:11.790350Z",
     "shell.execute_reply.started": "2023-09-06T09:12:11.510733Z"
    },
    "id": "hIrsIZ5xCRYN",
    "outputId": "b771c10e-924d-43ca-dc26-4677e18cd1fc",
    "papermill": {
     "duration": null,
     "end_time": null,
     "exception": null,
     "start_time": null,
     "status": "pending"
    },
    "tags": []
   },
   "outputs": [],
   "source": [
    "# encoded_df = pd.get_dummies(data['gender'])\n",
    "# df_encoded = pd.concat([df_encoded, encoded_df], axis=1)\n",
    "# df_encoded.head()"
   ]
  },
  {
   "cell_type": "code",
   "execution_count": 13,
   "id": "50009888",
   "metadata": {
    "execution": {
     "iopub.execute_input": "2023-09-06T09:12:11.795909Z",
     "iopub.status.busy": "2023-09-06T09:12:11.795275Z",
     "iopub.status.idle": "2023-09-06T09:12:11.822002Z",
     "shell.execute_reply": "2023-09-06T09:12:11.820950Z",
     "shell.execute_reply.started": "2023-09-06T09:12:11.795870Z"
    },
    "id": "GosLUAHSCRYN",
    "outputId": "7777cef0-8770-46fe-bdd4-8d46f6eeb85e",
    "papermill": {
     "duration": null,
     "end_time": null,
     "exception": null,
     "start_time": null,
     "status": "pending"
    },
    "tags": []
   },
   "outputs": [],
   "source": [
    "# df_encoded.rename(columns={df_encoded.columns[-2]: 'female', df_encoded.columns[-1]: 'male'}, inplace=True)\n",
    "# df_encoded.head()"
   ]
  },
  {
   "cell_type": "code",
   "execution_count": 14,
   "id": "da9ae0ab",
   "metadata": {
    "execution": {
     "iopub.execute_input": "2023-09-06T09:12:11.823939Z",
     "iopub.status.busy": "2023-09-06T09:12:11.823579Z",
     "iopub.status.idle": "2023-09-06T09:12:12.038883Z",
     "shell.execute_reply": "2023-09-06T09:12:12.037659Z",
     "shell.execute_reply.started": "2023-09-06T09:12:11.823905Z"
    },
    "id": "LLZb83ExCRYN",
    "papermill": {
     "duration": null,
     "end_time": null,
     "exception": null,
     "start_time": null,
     "status": "pending"
    },
    "tags": []
   },
   "outputs": [
    {
     "data": {
      "text/html": [
       "<div>\n",
       "<style scoped>\n",
       "    .dataframe tbody tr th:only-of-type {\n",
       "        vertical-align: middle;\n",
       "    }\n",
       "\n",
       "    .dataframe tbody tr th {\n",
       "        vertical-align: top;\n",
       "    }\n",
       "\n",
       "    .dataframe thead th {\n",
       "        text-align: right;\n",
       "    }\n",
       "</style>\n",
       "<table border=\"1\" class=\"dataframe\">\n",
       "  <thead>\n",
       "    <tr style=\"text-align: right;\">\n",
       "      <th></th>\n",
       "      <th>0</th>\n",
       "      <th>1</th>\n",
       "      <th>2</th>\n",
       "      <th>3</th>\n",
       "      <th>4</th>\n",
       "      <th>5</th>\n",
       "      <th>6</th>\n",
       "      <th>7</th>\n",
       "      <th>8</th>\n",
       "      <th>9</th>\n",
       "      <th>...</th>\n",
       "      <th>2856</th>\n",
       "      <th>2857</th>\n",
       "      <th>2858</th>\n",
       "      <th>2859</th>\n",
       "      <th>twenties</th>\n",
       "      <th>thirties</th>\n",
       "      <th>forties</th>\n",
       "      <th>fifties</th>\n",
       "      <th>sixties</th>\n",
       "      <th>seventies</th>\n",
       "    </tr>\n",
       "  </thead>\n",
       "  <tbody>\n",
       "    <tr>\n",
       "      <th>0</th>\n",
       "      <td>0.017090</td>\n",
       "      <td>0.024902</td>\n",
       "      <td>0.028809</td>\n",
       "      <td>0.045410</td>\n",
       "      <td>0.074707</td>\n",
       "      <td>0.100098</td>\n",
       "      <td>0.119141</td>\n",
       "      <td>0.110840</td>\n",
       "      <td>0.088867</td>\n",
       "      <td>0.067383</td>\n",
       "      <td>...</td>\n",
       "      <td>0.0</td>\n",
       "      <td>0.0</td>\n",
       "      <td>0.0</td>\n",
       "      <td>0.0</td>\n",
       "      <td>False</td>\n",
       "      <td>False</td>\n",
       "      <td>False</td>\n",
       "      <td>True</td>\n",
       "      <td>False</td>\n",
       "      <td>False</td>\n",
       "    </tr>\n",
       "    <tr>\n",
       "      <th>1</th>\n",
       "      <td>0.182129</td>\n",
       "      <td>0.256836</td>\n",
       "      <td>0.350098</td>\n",
       "      <td>0.351074</td>\n",
       "      <td>0.281738</td>\n",
       "      <td>0.240234</td>\n",
       "      <td>0.170410</td>\n",
       "      <td>0.110840</td>\n",
       "      <td>0.089844</td>\n",
       "      <td>0.068359</td>\n",
       "      <td>...</td>\n",
       "      <td>0.0</td>\n",
       "      <td>0.0</td>\n",
       "      <td>0.0</td>\n",
       "      <td>0.0</td>\n",
       "      <td>False</td>\n",
       "      <td>False</td>\n",
       "      <td>False</td>\n",
       "      <td>True</td>\n",
       "      <td>False</td>\n",
       "      <td>False</td>\n",
       "    </tr>\n",
       "    <tr>\n",
       "      <th>2</th>\n",
       "      <td>0.015625</td>\n",
       "      <td>0.029297</td>\n",
       "      <td>0.070801</td>\n",
       "      <td>0.104004</td>\n",
       "      <td>0.132324</td>\n",
       "      <td>0.149414</td>\n",
       "      <td>0.131836</td>\n",
       "      <td>0.109863</td>\n",
       "      <td>0.092773</td>\n",
       "      <td>0.076660</td>\n",
       "      <td>...</td>\n",
       "      <td>0.0</td>\n",
       "      <td>0.0</td>\n",
       "      <td>0.0</td>\n",
       "      <td>0.0</td>\n",
       "      <td>False</td>\n",
       "      <td>False</td>\n",
       "      <td>False</td>\n",
       "      <td>True</td>\n",
       "      <td>False</td>\n",
       "      <td>False</td>\n",
       "    </tr>\n",
       "    <tr>\n",
       "      <th>3</th>\n",
       "      <td>0.076660</td>\n",
       "      <td>0.113770</td>\n",
       "      <td>0.167969</td>\n",
       "      <td>0.180176</td>\n",
       "      <td>0.173340</td>\n",
       "      <td>0.166992</td>\n",
       "      <td>0.136719</td>\n",
       "      <td>0.109863</td>\n",
       "      <td>0.091309</td>\n",
       "      <td>0.075684</td>\n",
       "      <td>...</td>\n",
       "      <td>0.0</td>\n",
       "      <td>0.0</td>\n",
       "      <td>0.0</td>\n",
       "      <td>0.0</td>\n",
       "      <td>False</td>\n",
       "      <td>False</td>\n",
       "      <td>False</td>\n",
       "      <td>True</td>\n",
       "      <td>False</td>\n",
       "      <td>False</td>\n",
       "    </tr>\n",
       "    <tr>\n",
       "      <th>4</th>\n",
       "      <td>0.015137</td>\n",
       "      <td>0.031738</td>\n",
       "      <td>0.036621</td>\n",
       "      <td>0.041504</td>\n",
       "      <td>0.037109</td>\n",
       "      <td>0.026855</td>\n",
       "      <td>0.029297</td>\n",
       "      <td>0.029297</td>\n",
       "      <td>0.035645</td>\n",
       "      <td>0.067383</td>\n",
       "      <td>...</td>\n",
       "      <td>0.0</td>\n",
       "      <td>0.0</td>\n",
       "      <td>0.0</td>\n",
       "      <td>0.0</td>\n",
       "      <td>False</td>\n",
       "      <td>False</td>\n",
       "      <td>False</td>\n",
       "      <td>True</td>\n",
       "      <td>False</td>\n",
       "      <td>False</td>\n",
       "    </tr>\n",
       "  </tbody>\n",
       "</table>\n",
       "<p>5 rows × 2866 columns</p>\n",
       "</div>"
      ],
      "text/plain": [
       "          0         1         2         3         4         5         6  \\\n",
       "0  0.017090  0.024902  0.028809  0.045410  0.074707  0.100098  0.119141   \n",
       "1  0.182129  0.256836  0.350098  0.351074  0.281738  0.240234  0.170410   \n",
       "2  0.015625  0.029297  0.070801  0.104004  0.132324  0.149414  0.131836   \n",
       "3  0.076660  0.113770  0.167969  0.180176  0.173340  0.166992  0.136719   \n",
       "4  0.015137  0.031738  0.036621  0.041504  0.037109  0.026855  0.029297   \n",
       "\n",
       "          7         8         9  ...  2856  2857  2858  2859  twenties  \\\n",
       "0  0.110840  0.088867  0.067383  ...   0.0   0.0   0.0   0.0     False   \n",
       "1  0.110840  0.089844  0.068359  ...   0.0   0.0   0.0   0.0     False   \n",
       "2  0.109863  0.092773  0.076660  ...   0.0   0.0   0.0   0.0     False   \n",
       "3  0.109863  0.091309  0.075684  ...   0.0   0.0   0.0   0.0     False   \n",
       "4  0.029297  0.035645  0.067383  ...   0.0   0.0   0.0   0.0     False   \n",
       "\n",
       "   thirties  forties  fifties  sixties  seventies  \n",
       "0     False    False     True    False      False  \n",
       "1     False    False     True    False      False  \n",
       "2     False    False     True    False      False  \n",
       "3     False    False     True    False      False  \n",
       "4     False    False     True    False      False  \n",
       "\n",
       "[5 rows x 2866 columns]"
      ]
     },
     "execution_count": 14,
     "metadata": {},
     "output_type": "execute_result"
    }
   ],
   "source": [
    "df_encoded.drop(['age'],axis=1,inplace=True)\n",
    "df_encoded.head()"
   ]
  },
  {
   "cell_type": "code",
   "execution_count": 15,
   "id": "12587b97",
   "metadata": {
    "execution": {
     "iopub.execute_input": "2023-09-06T09:12:12.041105Z",
     "iopub.status.busy": "2023-09-06T09:12:12.040676Z",
     "iopub.status.idle": "2023-09-06T09:12:12.265490Z",
     "shell.execute_reply": "2023-09-06T09:12:12.264299Z",
     "shell.execute_reply.started": "2023-09-06T09:12:12.041024Z"
    },
    "id": "wTLuZKtRCRYN",
    "papermill": {
     "duration": null,
     "end_time": null,
     "exception": null,
     "start_time": null,
     "status": "pending"
    },
    "tags": []
   },
   "outputs": [],
   "source": [
    "X = df_encoded.drop(['twenties', 'thirties', 'forties', 'fifties', 'sixties', 'seventies'], axis=1).values"
   ]
  },
  {
   "cell_type": "code",
   "execution_count": 16,
   "id": "41c8641e",
   "metadata": {
    "execution": {
     "iopub.execute_input": "2023-09-06T09:12:12.267730Z",
     "iopub.status.busy": "2023-09-06T09:12:12.267288Z",
     "iopub.status.idle": "2023-09-06T09:12:12.278054Z",
     "shell.execute_reply": "2023-09-06T09:12:12.276659Z",
     "shell.execute_reply.started": "2023-09-06T09:12:12.267686Z"
    },
    "id": "zbziviCtCRYN",
    "papermill": {
     "duration": null,
     "end_time": null,
     "exception": null,
     "start_time": null,
     "status": "pending"
    },
    "tags": []
   },
   "outputs": [],
   "source": [
    "y = df_encoded[['twenties', 'thirties', 'forties', 'fifties', 'sixties', 'seventies']].values\n"
   ]
  },
  {
   "cell_type": "code",
   "execution_count": 17,
   "id": "65a38efd",
   "metadata": {
    "execution": {
     "iopub.execute_input": "2023-09-06T09:12:12.280594Z",
     "iopub.status.busy": "2023-09-06T09:12:12.279764Z",
     "iopub.status.idle": "2023-09-06T09:12:12.289353Z",
     "shell.execute_reply": "2023-09-06T09:12:12.288130Z",
     "shell.execute_reply.started": "2023-09-06T09:12:12.280549Z"
    },
    "id": "8lz1JSB6CRYN",
    "papermill": {
     "duration": null,
     "end_time": null,
     "exception": null,
     "start_time": null,
     "status": "pending"
    },
    "tags": []
   },
   "outputs": [],
   "source": [
    "# y_emotion = df_encoded.iloc[:, -14:-8].values  # Emotion labels\n",
    "y_age = df_encoded.iloc[:, -6:].values  # Age labels\n",
    "# y_gender = df_encoded.iloc[:, -2:].values  # Gender labels"
   ]
  },
  {
   "cell_type": "code",
   "execution_count": 18,
   "id": "80bc6216",
   "metadata": {
    "execution": {
     "iopub.execute_input": "2023-09-06T09:12:12.291718Z",
     "iopub.status.busy": "2023-09-06T09:12:12.291053Z",
     "iopub.status.idle": "2023-09-06T09:12:12.302347Z",
     "shell.execute_reply": "2023-09-06T09:12:12.301107Z",
     "shell.execute_reply.started": "2023-09-06T09:12:12.291680Z"
    },
    "id": "7LgxwGGqCRYN",
    "outputId": "5686e844-5807-4ec2-f982-2dbff6bbd74b",
    "papermill": {
     "duration": null,
     "end_time": null,
     "exception": null,
     "start_time": null,
     "status": "pending"
    },
    "tags": []
   },
   "outputs": [],
   "source": [
    "# y_gender.shape, y_emotion.shape, y_age.shape"
   ]
  },
  {
   "cell_type": "code",
   "execution_count": 19,
   "id": "cb1e958a",
   "metadata": {
    "execution": {
     "iopub.execute_input": "2023-09-06T09:12:12.304905Z",
     "iopub.status.busy": "2023-09-06T09:12:12.304551Z",
     "iopub.status.idle": "2023-09-06T09:12:13.422360Z",
     "shell.execute_reply": "2023-09-06T09:12:13.421342Z",
     "shell.execute_reply.started": "2023-09-06T09:12:12.304875Z"
    },
    "id": "hdEjj6ADCRYN",
    "papermill": {
     "duration": null,
     "end_time": null,
     "exception": null,
     "start_time": null,
     "status": "pending"
    },
    "tags": []
   },
   "outputs": [],
   "source": [
    "x_train, x_val_test, y_age_train, y_age_val_test = train_test_split(X, y_age, test_size=0.3, random_state=30)\n",
    "x_test, x_val, y_age_test, y_age_val = train_test_split(x_val_test, y_age_val_test, test_size=0.5, random_state=30)\n"
   ]
  },
  {
   "cell_type": "code",
   "execution_count": 20,
   "id": "b6eaf051",
   "metadata": {
    "execution": {
     "iopub.execute_input": "2023-09-06T09:12:13.424395Z",
     "iopub.status.busy": "2023-09-06T09:12:13.424006Z",
     "iopub.status.idle": "2023-09-06T09:12:13.430133Z",
     "shell.execute_reply": "2023-09-06T09:12:13.429206Z",
     "shell.execute_reply.started": "2023-09-06T09:12:13.424358Z"
    },
    "id": "32y0cSuMCRYN",
    "papermill": {
     "duration": null,
     "end_time": null,
     "exception": null,
     "start_time": null,
     "status": "pending"
    },
    "tags": []
   },
   "outputs": [],
   "source": [
    "scaler = StandardScaler()"
   ]
  },
  {
   "cell_type": "code",
   "execution_count": 21,
   "id": "265f5ae4",
   "metadata": {
    "execution": {
     "iopub.execute_input": "2023-09-06T09:12:13.432855Z",
     "iopub.status.busy": "2023-09-06T09:12:13.431813Z",
     "iopub.status.idle": "2023-09-06T09:12:14.449655Z",
     "shell.execute_reply": "2023-09-06T09:12:14.448445Z",
     "shell.execute_reply.started": "2023-09-06T09:12:13.432801Z"
    },
    "id": "R74reKsqCRYN",
    "outputId": "7650df47-c2ab-4de1-94fa-c90a06395470",
    "papermill": {
     "duration": null,
     "end_time": null,
     "exception": null,
     "start_time": null,
     "status": "pending"
    },
    "tags": []
   },
   "outputs": [
    {
     "data": {
      "text/plain": [
       "((22108, 2860), (4738, 2860), (4738, 2860))"
      ]
     },
     "execution_count": 21,
     "metadata": {},
     "output_type": "execute_result"
    }
   ],
   "source": [
    "x_train = scaler.fit_transform(x_train)\n",
    "x_val=scaler.transform(x_val)\n",
    "x_test = scaler.transform(x_test)\n",
    "\n",
    "x_train.shape, x_test.shape, x_val.shape"
   ]
  },
  {
   "cell_type": "code",
   "execution_count": 22,
   "id": "d2a83826",
   "metadata": {
    "execution": {
     "iopub.execute_input": "2023-09-06T09:12:14.451866Z",
     "iopub.status.busy": "2023-09-06T09:12:14.451494Z",
     "iopub.status.idle": "2023-09-06T09:12:17.165314Z",
     "shell.execute_reply": "2023-09-06T09:12:17.164303Z",
     "shell.execute_reply.started": "2023-09-06T09:12:14.451832Z"
    },
    "id": "8bmNVGBzCRYO",
    "papermill": {
     "duration": null,
     "end_time": null,
     "exception": null,
     "start_time": null,
     "status": "pending"
    },
    "tags": []
   },
   "outputs": [
    {
     "name": "stderr",
     "output_type": "stream",
     "text": [
      "2023-09-07 16:27:07.044894: I tensorflow/core/common_runtime/pluggable_device/pluggable_device_factory.cc:306] Could not identify NUMA node of platform GPU ID 0, defaulting to 0. Your kernel may not have been built with NUMA support.\n",
      "2023-09-07 16:27:07.045280: I tensorflow/core/common_runtime/pluggable_device/pluggable_device_factory.cc:272] Created TensorFlow device (/job:localhost/replica:0/task:0/device:GPU:0 with 0 MB memory) -> physical PluggableDevice (device: 0, name: METAL, pci bus id: <undefined>)\n"
     ]
    },
    {
     "name": "stdout",
     "output_type": "stream",
     "text": [
      "Metal device set to: Apple M1 Pro\n",
      "\n",
      "systemMemory: 16.00 GB\n",
      "maxCacheSize: 5.33 GB\n",
      "\n"
     ]
    }
   ],
   "source": [
    "from tensorflow.keras.models import Model\n",
    "from tensorflow.keras.layers import Conv1D, BatchNormalization, MaxPooling1D, AveragePooling1D, Dropout, Flatten, Dense, Input\n",
    "\n",
    "input_layer = Input(shape=(x_train.shape[1], 1))\n",
    "\n",
    "# 1\n",
    "hl = Conv1D(512, kernel_size=3, strides=1, padding='same', activation='relu')(input_layer)\n",
    "hl = BatchNormalization()(hl)\n",
    "hl = AveragePooling1D(pool_size=3, strides=2, padding='same')(hl)\n",
    "hl = Dropout(0.3)(hl)\n",
    "\n",
    "#2\n",
    "\n",
    "hl = Conv1D(256, kernel_size=3, strides=1, padding='same', activation='relu')(hl)\n",
    "hl = BatchNormalization()(hl)\n",
    "hl = AveragePooling1D(pool_size=3, strides=2, padding='same')(hl)\n",
    "hl = Dropout(0.3)(hl)\n",
    "\n",
    "#3\n",
    "\n",
    "hl = Conv1D(128, kernel_size=3, strides=1, padding='same', activation='relu')(hl)\n",
    "hl = BatchNormalization()(hl)\n",
    "hl = AveragePooling1D(pool_size=3, strides=2, padding='same')(hl)\n",
    "hl = Dropout(0.3)(hl)\n",
    "\n",
    "# Flatten layer\n",
    "hl = Flatten()(hl)\n",
    "\n",
    "# Dense layers for the shared layer\n",
    "hl = Dense(64, activation='relu')(hl)\n",
    "hl = BatchNormalization()(hl)\n",
    "hl = Dropout(0.3)(hl)\n",
    "\n",
    "# Output layers for each task\n",
    "# emotion_output = Dense(y_emotion_train.shape[1], activation='softmax', name='emotion')(hl)\n",
    "age_output = Dense(y_age_train.shape[1], activation='softmax', name='age')(hl)\n",
    "# gender_output = Dense(y_gender_train.shape[1], activation='softmax', name='gender')(hl)\n",
    "\n",
    "# Create the model with multiple outputs\n",
    "model = Model(inputs=input_layer, outputs=[age_output])"
   ]
  },
  {
   "cell_type": "code",
   "execution_count": 23,
   "id": "b4845b1a",
   "metadata": {
    "execution": {
     "iopub.execute_input": "2023-09-06T09:12:17.167071Z",
     "iopub.status.busy": "2023-09-06T09:12:17.166701Z",
     "iopub.status.idle": "2023-09-06T09:12:17.213788Z",
     "shell.execute_reply": "2023-09-06T09:12:17.213103Z",
     "shell.execute_reply.started": "2023-09-06T09:12:17.167035Z"
    },
    "id": "9DRDNzyWCRYO",
    "outputId": "11913634-a124-4a61-853b-da6e054bb3d4",
    "papermill": {
     "duration": null,
     "end_time": null,
     "exception": null,
     "start_time": null,
     "status": "pending"
    },
    "tags": []
   },
   "outputs": [
    {
     "name": "stdout",
     "output_type": "stream",
     "text": [
      "Model: \"model\"\n",
      "_________________________________________________________________\n",
      " Layer (type)                Output Shape              Param #   \n",
      "=================================================================\n",
      " input_1 (InputLayer)        [(None, 2860, 1)]         0         \n",
      "                                                                 \n",
      " conv1d (Conv1D)             (None, 2860, 512)         2048      \n",
      "                                                                 \n",
      " batch_normalization (BatchN  (None, 2860, 512)        2048      \n",
      " ormalization)                                                   \n",
      "                                                                 \n",
      " average_pooling1d (AverageP  (None, 1430, 512)        0         \n",
      " ooling1D)                                                       \n",
      "                                                                 \n",
      " dropout (Dropout)           (None, 1430, 512)         0         \n",
      "                                                                 \n",
      " conv1d_1 (Conv1D)           (None, 1430, 256)         393472    \n",
      "                                                                 \n",
      " batch_normalization_1 (Batc  (None, 1430, 256)        1024      \n",
      " hNormalization)                                                 \n",
      "                                                                 \n",
      " average_pooling1d_1 (Averag  (None, 715, 256)         0         \n",
      " ePooling1D)                                                     \n",
      "                                                                 \n",
      " dropout_1 (Dropout)         (None, 715, 256)          0         \n",
      "                                                                 \n",
      " conv1d_2 (Conv1D)           (None, 715, 128)          98432     \n",
      "                                                                 \n",
      " batch_normalization_2 (Batc  (None, 715, 128)         512       \n",
      " hNormalization)                                                 \n",
      "                                                                 \n",
      " average_pooling1d_2 (Averag  (None, 358, 128)         0         \n",
      " ePooling1D)                                                     \n",
      "                                                                 \n",
      " dropout_2 (Dropout)         (None, 358, 128)          0         \n",
      "                                                                 \n",
      " flatten (Flatten)           (None, 45824)             0         \n",
      "                                                                 \n",
      " dense (Dense)               (None, 64)                2932800   \n",
      "                                                                 \n",
      " batch_normalization_3 (Batc  (None, 64)               256       \n",
      " hNormalization)                                                 \n",
      "                                                                 \n",
      " dropout_3 (Dropout)         (None, 64)                0         \n",
      "                                                                 \n",
      " age (Dense)                 (None, 6)                 390       \n",
      "                                                                 \n",
      "=================================================================\n",
      "Total params: 3,430,982\n",
      "Trainable params: 3,429,062\n",
      "Non-trainable params: 1,920\n",
      "_________________________________________________________________\n"
     ]
    }
   ],
   "source": [
    "model.summary()"
   ]
  },
  {
   "cell_type": "code",
   "execution_count": 24,
   "id": "3f7c727e",
   "metadata": {
    "execution": {
     "iopub.execute_input": "2023-09-06T09:12:17.215165Z",
     "iopub.status.busy": "2023-09-06T09:12:17.214791Z",
     "iopub.status.idle": "2023-09-06T09:12:17.221425Z",
     "shell.execute_reply": "2023-09-06T09:12:17.220702Z",
     "shell.execute_reply.started": "2023-09-06T09:12:17.215131Z"
    },
    "id": "oE-NOBQACRYO",
    "papermill": {
     "duration": null,
     "end_time": null,
     "exception": null,
     "start_time": null,
     "status": "pending"
    },
    "tags": []
   },
   "outputs": [],
   "source": [
    "# early_stop_emotion = EarlyStopping(monitor='val_emotion_accuracy', mode='auto', patience=10, restore_best_weights=True)\n",
    "early_stop_age = EarlyStopping(monitor='val_accuracy', mode='auto', patience=10, restore_best_weights=True)\n",
    "# early_stop_gender = EarlyStopping(monitor='val_accuracy', mode='auto', patience=10, restore_best_weights=True)\n"
   ]
  },
  {
   "cell_type": "code",
   "execution_count": 25,
   "id": "d550daa4",
   "metadata": {
    "execution": {
     "iopub.execute_input": "2023-09-06T09:12:17.222805Z",
     "iopub.status.busy": "2023-09-06T09:12:17.222478Z",
     "iopub.status.idle": "2023-09-06T09:12:17.231989Z",
     "shell.execute_reply": "2023-09-06T09:12:17.231247Z",
     "shell.execute_reply.started": "2023-09-06T09:12:17.222773Z"
    },
    "id": "prsrzxZcCRYO",
    "papermill": {
     "duration": null,
     "end_time": null,
     "exception": null,
     "start_time": null,
     "status": "pending"
    },
    "tags": []
   },
   "outputs": [],
   "source": [
    "# lr_reduction_emotion = ReduceLROnPlateau(monitor='val_emotion_accuracy', patience=3, verbose=1, factor=0.5)\n",
    "lr_reduction_age = ReduceLROnPlateau(monitor='val_accuracy', patience=3, verbose=1, factor=0.5)\n",
    "# lr_reduction_gender = ReduceLROnPlateau(monitor='val_accuracy', patience=3, verbose=1, factor=0.5)\n"
   ]
  },
  {
   "cell_type": "code",
   "execution_count": 26,
   "id": "1f455b78",
   "metadata": {
    "execution": {
     "iopub.execute_input": "2023-09-06T09:12:17.248248Z",
     "iopub.status.busy": "2023-09-06T09:12:17.247802Z",
     "iopub.status.idle": "2023-09-06T09:12:17.257492Z",
     "shell.execute_reply": "2023-09-06T09:12:17.256702Z",
     "shell.execute_reply.started": "2023-09-06T09:12:17.248194Z"
    },
    "id": "rYpmmyANCRYO",
    "papermill": {
     "duration": null,
     "end_time": null,
     "exception": null,
     "start_time": null,
     "status": "pending"
    },
    "tags": []
   },
   "outputs": [],
   "source": [
    "callbacks = [\n",
    "    # lr_reduction_emotion,\n",
    "    lr_reduction_age,\n",
    "    # lr_reduction_gender,\n",
    "    # early_stop_emotion,\n",
    "    early_stop_age,\n",
    "    # early_stop_gender\n",
    "]"
   ]
  },
  {
   "cell_type": "code",
   "execution_count": 27,
   "id": "59fcd832",
   "metadata": {
    "execution": {
     "iopub.execute_input": "2023-09-06T09:12:17.259037Z",
     "iopub.status.busy": "2023-09-06T09:12:17.258446Z",
     "iopub.status.idle": "2023-09-06T09:12:17.268205Z",
     "shell.execute_reply": "2023-09-06T09:12:17.267234Z",
     "shell.execute_reply.started": "2023-09-06T09:12:17.258999Z"
    },
    "id": "T3KYL1C_CRYO",
    "papermill": {
     "duration": null,
     "end_time": null,
     "exception": null,
     "start_time": null,
     "status": "pending"
    },
    "tags": []
   },
   "outputs": [],
   "source": [
    "optimizer = keras.optimizers.Nadam()"
   ]
  },
  {
   "cell_type": "code",
   "execution_count": 28,
   "id": "99bd983a",
   "metadata": {
    "execution": {
     "iopub.execute_input": "2023-09-06T09:12:17.276944Z",
     "iopub.status.busy": "2023-09-06T09:12:17.276450Z",
     "iopub.status.idle": "2023-09-06T09:12:17.300901Z",
     "shell.execute_reply": "2023-09-06T09:12:17.299673Z",
     "shell.execute_reply.started": "2023-09-06T09:12:17.276911Z"
    },
    "id": "DmsanMuGCRYO",
    "papermill": {
     "duration": null,
     "end_time": null,
     "exception": null,
     "start_time": null,
     "status": "pending"
    },
    "tags": []
   },
   "outputs": [],
   "source": [
    "model.compile(optimizer=optimizer,\n",
    "              loss={\n",
    "                  # 'emotion': 'categorical_crossentropy',\n",
    "                    'age': 'categorical_crossentropy',\n",
    "                    # 'gender': 'binary_crossentropy'\n",
    "                    },\n",
    "              metrics={\n",
    "                  # 'emotion': 'accuracy',\n",
    "                       'age': 'accuracy',\n",
    "                      #  'gender': 'accuracy'\n",
    "                       })"
   ]
  },
  {
   "cell_type": "code",
   "execution_count": 29,
   "id": "36f9614c",
   "metadata": {
    "execution": {
     "iopub.execute_input": "2023-09-06T09:12:17.302834Z",
     "iopub.status.busy": "2023-09-06T09:12:17.302113Z",
     "iopub.status.idle": "2023-09-06T09:53:02.697081Z",
     "shell.execute_reply": "2023-09-06T09:53:02.696017Z",
     "shell.execute_reply.started": "2023-09-06T09:12:17.302791Z"
    },
    "id": "Fmb36O7HCRYO",
    "outputId": "95f0153a-d9b8-4fa6-81ff-9edc2d873c99",
    "papermill": {
     "duration": null,
     "end_time": null,
     "exception": null,
     "start_time": null,
     "status": "pending"
    },
    "tags": []
   },
   "outputs": [
    {
     "name": "stdout",
     "output_type": "stream",
     "text": [
      "Epoch 1/200\n"
     ]
    },
    {
     "name": "stderr",
     "output_type": "stream",
     "text": [
      "2023-09-07 16:27:08.070018: W tensorflow/tsl/platform/profile_utils/cpu_utils.cc:128] Failed to get CPU frequency: 0 Hz\n",
      "2023-09-07 16:27:08.868900: I tensorflow/core/grappler/optimizers/custom_graph_optimizer_registry.cc:114] Plugin optimizer for device_type GPU is enabled.\n"
     ]
    },
    {
     "name": "stdout",
     "output_type": "stream",
     "text": [
      "1382/1382 [==============================] - ETA: 0s - loss: 1.5877 - accuracy: 0.3232"
     ]
    },
    {
     "name": "stderr",
     "output_type": "stream",
     "text": [
      "2023-09-07 16:28:59.697543: I tensorflow/core/grappler/optimizers/custom_graph_optimizer_registry.cc:114] Plugin optimizer for device_type GPU is enabled.\n"
     ]
    },
    {
     "name": "stdout",
     "output_type": "stream",
     "text": [
      "1382/1382 [==============================] - 117s 81ms/step - loss: 1.5877 - accuracy: 0.3232 - val_loss: 1.5685 - val_accuracy: 0.2879 - lr: 0.0010\n",
      "Epoch 2/200\n",
      "1382/1382 [==============================] - 129s 93ms/step - loss: 1.4532 - accuracy: 0.3578 - val_loss: 1.5053 - val_accuracy: 0.3356 - lr: 0.0010\n",
      "Epoch 3/200\n",
      "1382/1382 [==============================] - 119s 86ms/step - loss: 1.3986 - accuracy: 0.3857 - val_loss: 1.3542 - val_accuracy: 0.4097 - lr: 0.0010\n",
      "Epoch 4/200\n",
      "1382/1382 [==============================] - 108s 78ms/step - loss: 1.3361 - accuracy: 0.4213 - val_loss: 1.3044 - val_accuracy: 0.4365 - lr: 0.0010\n",
      "Epoch 5/200\n",
      "1382/1382 [==============================] - 106s 77ms/step - loss: 1.2611 - accuracy: 0.4624 - val_loss: 1.2853 - val_accuracy: 0.4320 - lr: 0.0010\n",
      "Epoch 6/200\n",
      "1382/1382 [==============================] - 106s 77ms/step - loss: 1.1882 - accuracy: 0.4994 - val_loss: 1.5072 - val_accuracy: 0.4496 - lr: 0.0010\n",
      "Epoch 7/200\n",
      "1382/1382 [==============================] - 110s 80ms/step - loss: 1.1316 - accuracy: 0.5349 - val_loss: 1.1077 - val_accuracy: 0.5540 - lr: 0.0010\n",
      "Epoch 8/200\n",
      "1382/1382 [==============================] - 108s 78ms/step - loss: 0.9647 - accuracy: 0.6124 - val_loss: 0.9836 - val_accuracy: 0.6083 - lr: 0.0010\n",
      "Epoch 9/200\n",
      "1382/1382 [==============================] - 108s 78ms/step - loss: 0.8307 - accuracy: 0.6739 - val_loss: 1.3358 - val_accuracy: 0.4776 - lr: 0.0010\n",
      "Epoch 10/200\n",
      "1382/1382 [==============================] - 108s 78ms/step - loss: 0.7488 - accuracy: 0.7080 - val_loss: 0.7899 - val_accuracy: 0.6912 - lr: 0.0010\n",
      "Epoch 11/200\n",
      "1382/1382 [==============================] - 108s 78ms/step - loss: 0.6026 - accuracy: 0.7706 - val_loss: 0.6791 - val_accuracy: 0.7488 - lr: 0.0010\n",
      "Epoch 12/200\n",
      "1382/1382 [==============================] - 110s 79ms/step - loss: 0.6220 - accuracy: 0.7651 - val_loss: 0.7272 - val_accuracy: 0.7303 - lr: 0.0010\n",
      "Epoch 13/200\n",
      "1382/1382 [==============================] - 110s 80ms/step - loss: 0.5106 - accuracy: 0.8071 - val_loss: 0.5969 - val_accuracy: 0.7818 - lr: 0.0010\n",
      "Epoch 14/200\n",
      "1382/1382 [==============================] - 109s 79ms/step - loss: 0.4320 - accuracy: 0.8418 - val_loss: 0.5432 - val_accuracy: 0.8094 - lr: 0.0010\n",
      "Epoch 15/200\n",
      "1382/1382 [==============================] - 109s 79ms/step - loss: 0.3718 - accuracy: 0.8646 - val_loss: 0.5173 - val_accuracy: 0.8229 - lr: 0.0010\n",
      "Epoch 16/200\n",
      "1382/1382 [==============================] - 109s 79ms/step - loss: 0.3456 - accuracy: 0.8758 - val_loss: 0.4688 - val_accuracy: 0.8430 - lr: 0.0010\n",
      "Epoch 17/200\n",
      "1382/1382 [==============================] - 109s 79ms/step - loss: 0.3081 - accuracy: 0.8889 - val_loss: 0.4608 - val_accuracy: 0.8476 - lr: 0.0010\n",
      "Epoch 18/200\n",
      "1382/1382 [==============================] - 110s 79ms/step - loss: 0.2794 - accuracy: 0.8988 - val_loss: 0.4441 - val_accuracy: 0.8497 - lr: 0.0010\n",
      "Epoch 19/200\n",
      "1382/1382 [==============================] - 109s 79ms/step - loss: 0.2643 - accuracy: 0.9038 - val_loss: 0.4000 - val_accuracy: 0.8757 - lr: 0.0010\n",
      "Epoch 20/200\n",
      "1382/1382 [==============================] - 110s 80ms/step - loss: 0.2440 - accuracy: 0.9092 - val_loss: 0.4232 - val_accuracy: 0.8685 - lr: 0.0010\n",
      "Epoch 21/200\n",
      "1382/1382 [==============================] - 109s 79ms/step - loss: 0.2171 - accuracy: 0.9217 - val_loss: 0.3693 - val_accuracy: 0.8786 - lr: 0.0010\n",
      "Epoch 22/200\n",
      "1382/1382 [==============================] - 109s 79ms/step - loss: 0.2037 - accuracy: 0.9267 - val_loss: 0.3757 - val_accuracy: 0.8786 - lr: 0.0010\n",
      "Epoch 23/200\n",
      "1382/1382 [==============================] - 112s 81ms/step - loss: 0.1965 - accuracy: 0.9306 - val_loss: 0.3558 - val_accuracy: 0.8864 - lr: 0.0010\n",
      "Epoch 24/200\n",
      "1382/1382 [==============================] - 109s 79ms/step - loss: 0.1859 - accuracy: 0.9364 - val_loss: 0.3640 - val_accuracy: 0.8799 - lr: 0.0010\n",
      "Epoch 25/200\n",
      "1382/1382 [==============================] - 118s 85ms/step - loss: 0.1760 - accuracy: 0.9368 - val_loss: 0.3491 - val_accuracy: 0.8919 - lr: 0.0010\n",
      "Epoch 26/200\n",
      "1382/1382 [==============================] - 113s 82ms/step - loss: 0.1679 - accuracy: 0.9396 - val_loss: 0.2991 - val_accuracy: 0.9133 - lr: 0.0010\n",
      "Epoch 27/200\n",
      "1382/1382 [==============================] - 112s 81ms/step - loss: 0.1637 - accuracy: 0.9430 - val_loss: 0.3781 - val_accuracy: 0.8818 - lr: 0.0010\n",
      "Epoch 28/200\n",
      "1382/1382 [==============================] - 114s 83ms/step - loss: 0.1512 - accuracy: 0.9470 - val_loss: 0.3634 - val_accuracy: 0.8894 - lr: 0.0010\n",
      "Epoch 29/200\n",
      "1382/1382 [==============================] - ETA: 0s - loss: 0.1382 - accuracy: 0.9522\n",
      "Epoch 29: ReduceLROnPlateau reducing learning rate to 0.0005000000237487257.\n",
      "1382/1382 [==============================] - 108s 78ms/step - loss: 0.1382 - accuracy: 0.9522 - val_loss: 0.3383 - val_accuracy: 0.9004 - lr: 0.0010\n",
      "Epoch 30/200\n",
      "1382/1382 [==============================] - 109s 79ms/step - loss: 0.1099 - accuracy: 0.9618 - val_loss: 0.2814 - val_accuracy: 0.9257 - lr: 5.0000e-04\n",
      "Epoch 31/200\n",
      "1382/1382 [==============================] - 108s 78ms/step - loss: 0.0845 - accuracy: 0.9706 - val_loss: 0.2764 - val_accuracy: 0.9192 - lr: 5.0000e-04\n",
      "Epoch 32/200\n",
      "1382/1382 [==============================] - 110s 80ms/step - loss: 0.0845 - accuracy: 0.9717 - val_loss: 0.2549 - val_accuracy: 0.9299 - lr: 5.0000e-04\n",
      "Epoch 33/200\n",
      "1382/1382 [==============================] - 110s 79ms/step - loss: 0.0761 - accuracy: 0.9749 - val_loss: 0.2990 - val_accuracy: 0.9196 - lr: 5.0000e-04\n",
      "Epoch 34/200\n",
      "1382/1382 [==============================] - 105s 76ms/step - loss: 0.0724 - accuracy: 0.9746 - val_loss: 0.2862 - val_accuracy: 0.9249 - lr: 5.0000e-04\n",
      "Epoch 35/200\n",
      "1382/1382 [==============================] - ETA: 0s - loss: 0.0690 - accuracy: 0.9763\n",
      "Epoch 35: ReduceLROnPlateau reducing learning rate to 0.0002500000118743628.\n",
      "1382/1382 [==============================] - 105s 76ms/step - loss: 0.0690 - accuracy: 0.9763 - val_loss: 0.2622 - val_accuracy: 0.9253 - lr: 5.0000e-04\n",
      "Epoch 36/200\n",
      "1382/1382 [==============================] - 104s 75ms/step - loss: 0.0556 - accuracy: 0.9818 - val_loss: 0.2503 - val_accuracy: 0.9365 - lr: 2.5000e-04\n",
      "Epoch 37/200\n",
      "1382/1382 [==============================] - 104s 75ms/step - loss: 0.0479 - accuracy: 0.9834 - val_loss: 0.2531 - val_accuracy: 0.9360 - lr: 2.5000e-04\n",
      "Epoch 38/200\n",
      "1382/1382 [==============================] - 104s 75ms/step - loss: 0.0407 - accuracy: 0.9865 - val_loss: 0.2426 - val_accuracy: 0.9348 - lr: 2.5000e-04\n",
      "Epoch 39/200\n",
      "1382/1382 [==============================] - ETA: 0s - loss: 0.0422 - accuracy: 0.9858\n",
      "Epoch 39: ReduceLROnPlateau reducing learning rate to 0.0001250000059371814.\n",
      "1382/1382 [==============================] - 104s 76ms/step - loss: 0.0422 - accuracy: 0.9858 - val_loss: 0.2465 - val_accuracy: 0.9322 - lr: 2.5000e-04\n",
      "Epoch 40/200\n",
      "1382/1382 [==============================] - 104s 75ms/step - loss: 0.0400 - accuracy: 0.9868 - val_loss: 0.2364 - val_accuracy: 0.9398 - lr: 1.2500e-04\n",
      "Epoch 41/200\n",
      "1382/1382 [==============================] - 104s 75ms/step - loss: 0.0342 - accuracy: 0.9894 - val_loss: 0.2358 - val_accuracy: 0.9422 - lr: 1.2500e-04\n",
      "Epoch 42/200\n",
      "1382/1382 [==============================] - 104s 75ms/step - loss: 0.0336 - accuracy: 0.9891 - val_loss: 0.2348 - val_accuracy: 0.9392 - lr: 1.2500e-04\n",
      "Epoch 43/200\n",
      "1382/1382 [==============================] - 104s 76ms/step - loss: 0.0332 - accuracy: 0.9895 - val_loss: 0.2354 - val_accuracy: 0.9432 - lr: 1.2500e-04\n",
      "Epoch 44/200\n",
      "1382/1382 [==============================] - 104s 75ms/step - loss: 0.0324 - accuracy: 0.9897 - val_loss: 0.2306 - val_accuracy: 0.9434 - lr: 1.2500e-04\n",
      "Epoch 45/200\n",
      "1382/1382 [==============================] - 104s 75ms/step - loss: 0.0283 - accuracy: 0.9904 - val_loss: 0.2370 - val_accuracy: 0.9422 - lr: 1.2500e-04\n",
      "Epoch 46/200\n",
      "1382/1382 [==============================] - 104s 75ms/step - loss: 0.0303 - accuracy: 0.9900 - val_loss: 0.2404 - val_accuracy: 0.9405 - lr: 1.2500e-04\n",
      "Epoch 47/200\n",
      "1382/1382 [==============================] - ETA: 0s - loss: 0.0315 - accuracy: 0.9906\n",
      "Epoch 47: ReduceLROnPlateau reducing learning rate to 6.25000029685907e-05.\n",
      "1382/1382 [==============================] - 104s 75ms/step - loss: 0.0315 - accuracy: 0.9906 - val_loss: 0.2325 - val_accuracy: 0.9432 - lr: 1.2500e-04\n",
      "Epoch 48/200\n",
      "1382/1382 [==============================] - 104s 75ms/step - loss: 0.0283 - accuracy: 0.9911 - val_loss: 0.2307 - val_accuracy: 0.9411 - lr: 6.2500e-05\n",
      "Epoch 49/200\n",
      "1382/1382 [==============================] - 104s 75ms/step - loss: 0.0248 - accuracy: 0.9924 - val_loss: 0.2311 - val_accuracy: 0.9434 - lr: 6.2500e-05\n",
      "Epoch 50/200\n",
      "1382/1382 [==============================] - 104s 76ms/step - loss: 0.0263 - accuracy: 0.9923 - val_loss: 0.2268 - val_accuracy: 0.9441 - lr: 6.2500e-05\n",
      "Epoch 51/200\n",
      "1382/1382 [==============================] - 105s 76ms/step - loss: 0.0245 - accuracy: 0.9927 - val_loss: 0.2320 - val_accuracy: 0.9447 - lr: 6.2500e-05\n",
      "Epoch 52/200\n",
      "1382/1382 [==============================] - 105s 76ms/step - loss: 0.0228 - accuracy: 0.9930 - val_loss: 0.2267 - val_accuracy: 0.9470 - lr: 6.2500e-05\n",
      "Epoch 53/200\n",
      "1382/1382 [==============================] - 105s 76ms/step - loss: 0.0251 - accuracy: 0.9927 - val_loss: 0.2268 - val_accuracy: 0.9443 - lr: 6.2500e-05\n",
      "Epoch 54/200\n",
      "1382/1382 [==============================] - 104s 76ms/step - loss: 0.0215 - accuracy: 0.9938 - val_loss: 0.2287 - val_accuracy: 0.9462 - lr: 6.2500e-05\n",
      "Epoch 55/200\n",
      "1382/1382 [==============================] - ETA: 0s - loss: 0.0215 - accuracy: 0.9932\n",
      "Epoch 55: ReduceLROnPlateau reducing learning rate to 3.125000148429535e-05.\n",
      "1382/1382 [==============================] - 104s 75ms/step - loss: 0.0215 - accuracy: 0.9932 - val_loss: 0.2310 - val_accuracy: 0.9447 - lr: 6.2500e-05\n",
      "Epoch 56/200\n",
      "1382/1382 [==============================] - 105s 76ms/step - loss: 0.0200 - accuracy: 0.9945 - val_loss: 0.2309 - val_accuracy: 0.9445 - lr: 3.1250e-05\n",
      "Epoch 57/200\n",
      "1382/1382 [==============================] - 106s 77ms/step - loss: 0.0212 - accuracy: 0.9936 - val_loss: 0.2271 - val_accuracy: 0.9453 - lr: 3.1250e-05\n",
      "Epoch 58/200\n",
      "1382/1382 [==============================] - ETA: 0s - loss: 0.0199 - accuracy: 0.9938\n",
      "Epoch 58: ReduceLROnPlateau reducing learning rate to 1.5625000742147677e-05.\n",
      "1382/1382 [==============================] - 105s 76ms/step - loss: 0.0199 - accuracy: 0.9938 - val_loss: 0.2328 - val_accuracy: 0.9441 - lr: 3.1250e-05\n",
      "Epoch 59/200\n",
      "1382/1382 [==============================] - 108s 78ms/step - loss: 0.0194 - accuracy: 0.9953 - val_loss: 0.2306 - val_accuracy: 0.9449 - lr: 1.5625e-05\n",
      "Epoch 60/200\n",
      "1382/1382 [==============================] - 105s 76ms/step - loss: 0.0193 - accuracy: 0.9944 - val_loss: 0.2313 - val_accuracy: 0.9470 - lr: 1.5625e-05\n",
      "Epoch 61/200\n",
      "1382/1382 [==============================] - ETA: 0s - loss: 0.0202 - accuracy: 0.9939\n",
      "Epoch 61: ReduceLROnPlateau reducing learning rate to 7.812500371073838e-06.\n",
      "1382/1382 [==============================] - 105s 76ms/step - loss: 0.0202 - accuracy: 0.9939 - val_loss: 0.2324 - val_accuracy: 0.9462 - lr: 1.5625e-05\n",
      "Epoch 62/200\n",
      "1382/1382 [==============================] - 105s 76ms/step - loss: 0.0185 - accuracy: 0.9950 - val_loss: 0.2313 - val_accuracy: 0.9460 - lr: 7.8125e-06\n"
     ]
    }
   ],
   "source": [
    "history = model.fit(x_train, {\n",
    "                            # 'emotion': y_emotion_train,\n",
    "                              'age': y_age_train,\n",
    "                              # 'gender': y_gender_train\n",
    "                              },\n",
    "\n",
    "          validation_data=(x_val, {\n",
    "                                # 'emotion': y_emotion_val,\n",
    "                                   'age': y_age_val,\n",
    "                                  #  'gender': y_gender_val\n",
    "                                   }),\n",
    "\n",
    "          epochs=200, batch_size=16, callbacks=callbacks)"
   ]
  },
  {
   "cell_type": "code",
   "execution_count": 30,
   "id": "dd18710e",
   "metadata": {},
   "outputs": [],
   "source": [
    "model.save(\"age_model.keras\")"
   ]
  },
  {
   "cell_type": "code",
   "execution_count": 32,
   "id": "c7942fa6",
   "metadata": {
    "execution": {
     "iopub.execute_input": "2023-09-06T09:53:02.699685Z",
     "iopub.status.busy": "2023-09-06T09:53:02.698943Z",
     "iopub.status.idle": "2023-09-06T09:53:08.045769Z",
     "shell.execute_reply": "2023-09-06T09:53:08.044572Z",
     "shell.execute_reply.started": "2023-09-06T09:53:02.699646Z"
    },
    "id": "7CEa2YcdCRYO",
    "papermill": {
     "duration": null,
     "end_time": null,
     "exception": null,
     "start_time": null,
     "status": "pending"
    },
    "tags": []
   },
   "outputs": [
    {
     "name": "stdout",
     "output_type": "stream",
     "text": [
      "149/149 [==============================] - 5s 32ms/step - loss: 0.2027 - accuracy: 0.9466\n",
      "Emotion Loss: 0.946601927280426\n"
     ]
    },
    {
     "ename": "IndexError",
     "evalue": "list index out of range",
     "output_type": "error",
     "traceback": [
      "\u001b[0;31m---------------------------------------------------------------------------\u001b[0m",
      "\u001b[0;31mIndexError\u001b[0m                                Traceback (most recent call last)",
      "Cell \u001b[0;32mIn[32], line 7\u001b[0m\n\u001b[1;32m      1\u001b[0m losses \u001b[39m=\u001b[39m model\u001b[39m.\u001b[39mevaluate(x_test, {\n\u001b[1;32m      2\u001b[0m                                 \u001b[39m# 'emotion': y_emotion_test,\u001b[39;00m\n\u001b[1;32m      3\u001b[0m                                  \u001b[39m'\u001b[39m\u001b[39mage\u001b[39m\u001b[39m'\u001b[39m: y_age_test,\n\u001b[1;32m      4\u001b[0m                                 \u001b[39m#  'gender': y_gender_test\u001b[39;00m\n\u001b[1;32m      5\u001b[0m                                  })\n\u001b[1;32m      6\u001b[0m \u001b[39mprint\u001b[39m(\u001b[39m'\u001b[39m\u001b[39mEmotion Loss:\u001b[39m\u001b[39m'\u001b[39m, losses[\u001b[39m1\u001b[39m])\n\u001b[0;32m----> 7\u001b[0m \u001b[39mprint\u001b[39m(\u001b[39m'\u001b[39m\u001b[39mAge Loss:\u001b[39m\u001b[39m'\u001b[39m, losses[\u001b[39m2\u001b[39;49m])\n\u001b[1;32m      8\u001b[0m \u001b[39mprint\u001b[39m(\u001b[39m'\u001b[39m\u001b[39mGender Loss:\u001b[39m\u001b[39m'\u001b[39m, losses[\u001b[39m3\u001b[39m])\n\u001b[1;32m      9\u001b[0m \u001b[39mprint\u001b[39m(\u001b[39m'\u001b[39m\u001b[39mEmotion Accuracy:\u001b[39m\u001b[39m'\u001b[39m, losses[\u001b[39m4\u001b[39m])\n",
      "\u001b[0;31mIndexError\u001b[0m: list index out of range"
     ]
    }
   ],
   "source": [
    "losses = model.evaluate(x_test, {\n",
    "                                # 'emotion': y_emotion_test,\n",
    "                                 'age': y_age_test,\n",
    "                                #  'gender': y_gender_test\n",
    "                                 })\n",
    "print('Emotion Loss:', losses[1])\n",
    "print('Age Loss:', losses[2])\n",
    "print('Gender Loss:', losses[3])\n",
    "print('Emotion Accuracy:', losses[4])\n",
    "print('Age Accuracy:', losses[5])\n",
    "print('Gender Accuracy:', losses[6])"
   ]
  },
  {
   "cell_type": "code",
   "execution_count": null,
   "id": "5bf000ce",
   "metadata": {
    "execution": {
     "iopub.execute_input": "2023-09-06T09:53:08.047904Z",
     "iopub.status.busy": "2023-09-06T09:53:08.047538Z",
     "iopub.status.idle": "2023-09-06T09:53:08.052733Z",
     "shell.execute_reply": "2023-09-06T09:53:08.051688Z",
     "shell.execute_reply.started": "2023-09-06T09:53:08.047869Z"
    },
    "id": "m0ebjOpwnKE4",
    "papermill": {
     "duration": null,
     "end_time": null,
     "exception": null,
     "start_time": null,
     "status": "pending"
    },
    "tags": []
   },
   "outputs": [],
   "source": [
    "from sklearn.metrics import classification_report, confusion_matrix, f1_score\n",
    "import numpy as np\n",
    "import matplotlib.pyplot as plt"
   ]
  },
  {
   "cell_type": "code",
   "execution_count": null,
   "id": "e2ff45ef",
   "metadata": {
    "execution": {
     "iopub.execute_input": "2023-09-06T09:53:08.054844Z",
     "iopub.status.busy": "2023-09-06T09:53:08.054505Z",
     "iopub.status.idle": "2023-09-06T09:53:11.009376Z",
     "shell.execute_reply": "2023-09-06T09:53:11.008292Z",
     "shell.execute_reply.started": "2023-09-06T09:53:08.054811Z"
    },
    "papermill": {
     "duration": null,
     "end_time": null,
     "exception": null,
     "start_time": null,
     "status": "pending"
    },
    "tags": []
   },
   "outputs": [],
   "source": [
    "y_pred = model.predict(x_test)"
   ]
  },
  {
   "cell_type": "code",
   "execution_count": null,
   "id": "3fe3d315",
   "metadata": {
    "execution": {
     "iopub.execute_input": "2023-09-06T09:53:11.011180Z",
     "iopub.status.busy": "2023-09-06T09:53:11.010813Z",
     "iopub.status.idle": "2023-09-06T09:53:11.018722Z",
     "shell.execute_reply": "2023-09-06T09:53:11.017641Z",
     "shell.execute_reply.started": "2023-09-06T09:53:11.011145Z"
    },
    "papermill": {
     "duration": null,
     "end_time": null,
     "exception": null,
     "start_time": null,
     "status": "pending"
    },
    "tags": []
   },
   "outputs": [],
   "source": [
    "y_emotion_pred = np.argmax(y_pred[0], axis=1)\n",
    "y_age_pred = np.argmax(y_pred[1], axis=1)\n",
    "y_gender_pred = (y_pred[2] > 0.5).astype(int)"
   ]
  },
  {
   "cell_type": "code",
   "execution_count": null,
   "id": "fc48f29f",
   "metadata": {
    "execution": {
     "iopub.execute_input": "2023-09-06T09:53:11.021015Z",
     "iopub.status.busy": "2023-09-06T09:53:11.020479Z",
     "iopub.status.idle": "2023-09-06T09:53:11.030500Z",
     "shell.execute_reply": "2023-09-06T09:53:11.029377Z",
     "shell.execute_reply.started": "2023-09-06T09:53:11.020980Z"
    },
    "papermill": {
     "duration": null,
     "end_time": null,
     "exception": null,
     "start_time": null,
     "status": "pending"
    },
    "tags": []
   },
   "outputs": [],
   "source": [
    "set(y_age_pred)"
   ]
  },
  {
   "cell_type": "code",
   "execution_count": null,
   "id": "3d64c556",
   "metadata": {
    "execution": {
     "iopub.execute_input": "2023-09-06T09:53:11.032636Z",
     "iopub.status.busy": "2023-09-06T09:53:11.032247Z",
     "iopub.status.idle": "2023-09-06T09:53:11.046222Z",
     "shell.execute_reply": "2023-09-06T09:53:11.045038Z",
     "shell.execute_reply.started": "2023-09-06T09:53:11.032603Z"
    },
    "papermill": {
     "duration": null,
     "end_time": null,
     "exception": null,
     "start_time": null,
     "status": "pending"
    },
    "tags": []
   },
   "outputs": [],
   "source": [
    "y_gender_test.shape, y_age_test.shape, y_emotion_test.shape"
   ]
  },
  {
   "cell_type": "code",
   "execution_count": null,
   "id": "08f7a132",
   "metadata": {
    "execution": {
     "iopub.execute_input": "2023-09-06T09:53:11.048634Z",
     "iopub.status.busy": "2023-09-06T09:53:11.048350Z",
     "iopub.status.idle": "2023-09-06T09:53:11.062498Z",
     "shell.execute_reply": "2023-09-06T09:53:11.061517Z",
     "shell.execute_reply.started": "2023-09-06T09:53:11.048610Z"
    },
    "papermill": {
     "duration": null,
     "end_time": null,
     "exception": null,
     "start_time": null,
     "status": "pending"
    },
    "tags": []
   },
   "outputs": [],
   "source": [
    "emotion_cm = confusion_matrix(np.argmax(y_emotion_test, axis=1), y_emotion_pred)\n",
    "age_cm = confusion_matrix(np.argmax(y_age_test, axis=1), y_age_pred)\n",
    "gender_cm = confusion_matrix(np.argmax(y_gender_test, axis=1), np.argmax(y_gender_pred, axis=1))"
   ]
  },
  {
   "cell_type": "code",
   "execution_count": null,
   "id": "870f7504",
   "metadata": {
    "execution": {
     "iopub.execute_input": "2023-09-06T09:53:11.064566Z",
     "iopub.status.busy": "2023-09-06T09:53:11.063789Z",
     "iopub.status.idle": "2023-09-06T09:53:12.428084Z",
     "shell.execute_reply": "2023-09-06T09:53:12.427141Z",
     "shell.execute_reply.started": "2023-09-06T09:53:11.064525Z"
    },
    "papermill": {
     "duration": null,
     "end_time": null,
     "exception": null,
     "start_time": null,
     "status": "pending"
    },
    "tags": []
   },
   "outputs": [],
   "source": [
    "labels_emotion = ['Anger', 'Anxiety/Fear', 'Disgust', 'Happiness', 'Neutral', 'Sadness']\n",
    "labels_age = ['Twenties', 'Thirties', 'Forties', 'Fifties', 'Sixties', 'Seventies']\n",
    "labels_gender = ['Male', 'Female']\n",
    "\n",
    "fig, axes = plt.subplots(1, 3, figsize=(20, 6))\n",
    "sns.heatmap(emotion_cm, annot=True, cmap='Blues', fmt='d', ax=axes[0])\n",
    "axes[0].set_xticks(np.arange(len(labels_emotion)) + 0.5)\n",
    "axes[0].set_yticks(np.arange(len(labels_emotion)) + 0.5)\n",
    "axes[0].set_xticklabels(labels_emotion, rotation=45)\n",
    "axes[0].set_yticklabels(labels_emotion)\n",
    "axes[0].set_xlabel('Predicted')\n",
    "axes[0].set_ylabel('True')\n",
    "axes[0].set_title('Emotion Confusion Matrix')\n",
    "\n",
    "sns.heatmap(age_cm, annot=True, cmap='Blues', fmt='d', ax=axes[1])\n",
    "axes[1].set_xticks(np.arange(len(labels_age)) + 0.5)\n",
    "axes[1].set_yticks(np.arange(len(labels_age)) + 0.5)\n",
    "axes[1].set_xticklabels(labels_age, rotation=45)\n",
    "axes[1].set_yticklabels(labels_age)\n",
    "axes[1].set_xlabel('Predicted')\n",
    "axes[1].set_ylabel('True')\n",
    "axes[1].set_title('Age Confusion Matrix')\n",
    "\n",
    "sns.heatmap(gender_cm, annot=True, cmap='Blues', fmt='d', ax=axes[2])\n",
    "axes[2].set_xticks(np.arange(len(labels_gender)) + 0.5)\n",
    "axes[2].set_yticks(np.arange(len(labels_gender)) + 0.5)\n",
    "axes[2].set_xticklabels(labels_gender)\n",
    "axes[2].set_yticklabels(labels_gender)\n",
    "axes[2].set_xlabel('Predicted')\n",
    "axes[2].set_ylabel('True')\n",
    "axes[2].set_title('Gender Confusion Matrix')\n",
    "\n",
    "\n",
    "plt.tight_layout()\n",
    "plt.show()"
   ]
  },
  {
   "cell_type": "code",
   "execution_count": null,
   "id": "72cc820f",
   "metadata": {
    "execution": {
     "iopub.execute_input": "2023-09-06T09:53:12.429469Z",
     "iopub.status.busy": "2023-09-06T09:53:12.429124Z",
     "iopub.status.idle": "2023-09-06T09:53:12.483177Z",
     "shell.execute_reply": "2023-09-06T09:53:12.482242Z",
     "shell.execute_reply.started": "2023-09-06T09:53:12.429435Z"
    },
    "papermill": {
     "duration": null,
     "end_time": null,
     "exception": null,
     "start_time": null,
     "status": "pending"
    },
    "tags": []
   },
   "outputs": [],
   "source": [
    "print(classification_report(np.argmax(y_emotion_test, axis=1), y_emotion_pred))\n",
    "print(classification_report(np.argmax(y_age_test, axis=1), y_age_pred))\n",
    "print(classification_report(y_gender_test, y_gender_pred, target_names=['male','female']))"
   ]
  }
 ],
 "kernelspec": {
  "display_name": "Python 3",
  "language": "python",
  "name": "python3"
 },
 "language_info": {
  "codemirror_mode": {
   "name": "ipython",
   "version": 3
  },
  "file_extension": ".py",
  "mimetype": "text/x-python",
  "name": "python",
  "nbconvert_exporter": "python",
  "pygments_lexer": "ipython3",
  "version": "3.6.4"
 },
 "metadata": {
  "accelerator": "GPU",
  "colab": {
   "provenance": []
  },
  "kernelspec": {
   "display_name": "Python 3",
   "language": "python",
   "name": "python3"
  },
  "language_info": {
   "codemirror_mode": {
    "name": "ipython",
    "version": 3
   },
   "file_extension": ".py",
   "mimetype": "text/x-python",
   "name": "python",
   "nbconvert_exporter": "python",
   "pygments_lexer": "ipython3",
   "version": "3.10.12"
  },
  "papermill": {
   "default_parameters": {},
   "duration": null,
   "end_time": null,
   "environment_variables": {},
   "exception": null,
   "input_path": "__notebook__.ipynb",
   "output_path": "__notebook__.ipynb",
   "parameters": {},
   "start_time": "2023-09-06T09:55:30.018439",
   "version": "2.4.0"
  }
 },
 "nbformat": 4,
 "nbformat_minor": 5
}
