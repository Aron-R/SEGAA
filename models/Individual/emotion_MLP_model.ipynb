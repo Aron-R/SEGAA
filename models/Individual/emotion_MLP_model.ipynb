{
  "cells": [
    {
      "cell_type": "code",
      "execution_count": 1,
      "metadata": {
        "id": "i1aq_TY0geND"
      },
      "outputs": [],
      "source": [
        "import numpy as np\n",
        "import pandas as pd\n",
        "from sklearn.decomposition import PCA\n",
        "from sklearn.model_selection import train_test_split\n",
        "import seaborn as sns\n",
        "from tensorflow.keras.models import Model\n",
        "from tensorflow.keras.layers import Input, Dense,BatchNormalization, Dropout\n",
        "from keras.optimizers import SGD"
      ]
    },
    {
      "cell_type": "code",
      "execution_count": 2,
      "metadata": {
        "id": "QlzKsVO1g695"
      },
      "outputs": [],
      "source": [
        "dataset_path = '../../data/features_age_emotion.csv'\n",
        "data = pd.read_csv(dataset_path)"
      ]
    },
    {
      "cell_type": "code",
      "execution_count": 3,
      "metadata": {
        "colab": {
          "base_uri": "https://localhost:8080/",
          "height": 236
        },
        "id": "yVtX6jERhMt5",
        "outputId": "96cbe5fb-7254-47d0-d3a2-af8d84a96267"
      },
      "outputs": [
        {
          "data": {
            "text/html": [
              "<div>\n",
              "<style scoped>\n",
              "    .dataframe tbody tr th:only-of-type {\n",
              "        vertical-align: middle;\n",
              "    }\n",
              "\n",
              "    .dataframe tbody tr th {\n",
              "        vertical-align: top;\n",
              "    }\n",
              "\n",
              "    .dataframe thead th {\n",
              "        text-align: right;\n",
              "    }\n",
              "</style>\n",
              "<table border=\"1\" class=\"dataframe\">\n",
              "  <thead>\n",
              "    <tr style=\"text-align: right;\">\n",
              "      <th></th>\n",
              "      <th>0</th>\n",
              "      <th>1</th>\n",
              "      <th>2</th>\n",
              "      <th>3</th>\n",
              "      <th>4</th>\n",
              "      <th>5</th>\n",
              "      <th>6</th>\n",
              "      <th>7</th>\n",
              "      <th>8</th>\n",
              "      <th>9</th>\n",
              "      <th>...</th>\n",
              "      <th>2853</th>\n",
              "      <th>2854</th>\n",
              "      <th>2855</th>\n",
              "      <th>2856</th>\n",
              "      <th>2857</th>\n",
              "      <th>2858</th>\n",
              "      <th>2859</th>\n",
              "      <th>age</th>\n",
              "      <th>gender</th>\n",
              "      <th>emotion</th>\n",
              "    </tr>\n",
              "  </thead>\n",
              "  <tbody>\n",
              "    <tr>\n",
              "      <th>0</th>\n",
              "      <td>0.017090</td>\n",
              "      <td>0.024902</td>\n",
              "      <td>0.028809</td>\n",
              "      <td>0.045410</td>\n",
              "      <td>0.074707</td>\n",
              "      <td>0.100098</td>\n",
              "      <td>0.119141</td>\n",
              "      <td>0.110840</td>\n",
              "      <td>0.088867</td>\n",
              "      <td>0.067383</td>\n",
              "      <td>...</td>\n",
              "      <td>NaN</td>\n",
              "      <td>NaN</td>\n",
              "      <td>NaN</td>\n",
              "      <td>NaN</td>\n",
              "      <td>NaN</td>\n",
              "      <td>NaN</td>\n",
              "      <td>NaN</td>\n",
              "      <td>51</td>\n",
              "      <td>male</td>\n",
              "      <td>anger</td>\n",
              "    </tr>\n",
              "    <tr>\n",
              "      <th>1</th>\n",
              "      <td>0.182129</td>\n",
              "      <td>0.256836</td>\n",
              "      <td>0.350098</td>\n",
              "      <td>0.351074</td>\n",
              "      <td>0.281738</td>\n",
              "      <td>0.240234</td>\n",
              "      <td>0.170410</td>\n",
              "      <td>0.110840</td>\n",
              "      <td>0.089844</td>\n",
              "      <td>0.068359</td>\n",
              "      <td>...</td>\n",
              "      <td>NaN</td>\n",
              "      <td>NaN</td>\n",
              "      <td>NaN</td>\n",
              "      <td>NaN</td>\n",
              "      <td>NaN</td>\n",
              "      <td>NaN</td>\n",
              "      <td>NaN</td>\n",
              "      <td>51</td>\n",
              "      <td>male</td>\n",
              "      <td>anger</td>\n",
              "    </tr>\n",
              "    <tr>\n",
              "      <th>2</th>\n",
              "      <td>0.015625</td>\n",
              "      <td>0.029297</td>\n",
              "      <td>0.070801</td>\n",
              "      <td>0.104004</td>\n",
              "      <td>0.132324</td>\n",
              "      <td>0.149414</td>\n",
              "      <td>0.131836</td>\n",
              "      <td>0.109863</td>\n",
              "      <td>0.092773</td>\n",
              "      <td>0.076660</td>\n",
              "      <td>...</td>\n",
              "      <td>NaN</td>\n",
              "      <td>NaN</td>\n",
              "      <td>NaN</td>\n",
              "      <td>NaN</td>\n",
              "      <td>NaN</td>\n",
              "      <td>NaN</td>\n",
              "      <td>NaN</td>\n",
              "      <td>51</td>\n",
              "      <td>male</td>\n",
              "      <td>anger</td>\n",
              "    </tr>\n",
              "    <tr>\n",
              "      <th>3</th>\n",
              "      <td>0.076660</td>\n",
              "      <td>0.113770</td>\n",
              "      <td>0.167969</td>\n",
              "      <td>0.180176</td>\n",
              "      <td>0.173340</td>\n",
              "      <td>0.166992</td>\n",
              "      <td>0.136719</td>\n",
              "      <td>0.109863</td>\n",
              "      <td>0.091309</td>\n",
              "      <td>0.075684</td>\n",
              "      <td>...</td>\n",
              "      <td>NaN</td>\n",
              "      <td>NaN</td>\n",
              "      <td>NaN</td>\n",
              "      <td>NaN</td>\n",
              "      <td>NaN</td>\n",
              "      <td>NaN</td>\n",
              "      <td>NaN</td>\n",
              "      <td>51</td>\n",
              "      <td>male</td>\n",
              "      <td>anger</td>\n",
              "    </tr>\n",
              "    <tr>\n",
              "      <th>4</th>\n",
              "      <td>0.015137</td>\n",
              "      <td>0.031738</td>\n",
              "      <td>0.036621</td>\n",
              "      <td>0.041504</td>\n",
              "      <td>0.037109</td>\n",
              "      <td>0.026855</td>\n",
              "      <td>0.029297</td>\n",
              "      <td>0.029297</td>\n",
              "      <td>0.035645</td>\n",
              "      <td>0.067383</td>\n",
              "      <td>...</td>\n",
              "      <td>NaN</td>\n",
              "      <td>NaN</td>\n",
              "      <td>NaN</td>\n",
              "      <td>NaN</td>\n",
              "      <td>NaN</td>\n",
              "      <td>NaN</td>\n",
              "      <td>NaN</td>\n",
              "      <td>51</td>\n",
              "      <td>male</td>\n",
              "      <td>disgust</td>\n",
              "    </tr>\n",
              "  </tbody>\n",
              "</table>\n",
              "<p>5 rows × 2863 columns</p>\n",
              "</div>"
            ],
            "text/plain": [
              "          0         1         2         3         4         5         6  \\\n",
              "0  0.017090  0.024902  0.028809  0.045410  0.074707  0.100098  0.119141   \n",
              "1  0.182129  0.256836  0.350098  0.351074  0.281738  0.240234  0.170410   \n",
              "2  0.015625  0.029297  0.070801  0.104004  0.132324  0.149414  0.131836   \n",
              "3  0.076660  0.113770  0.167969  0.180176  0.173340  0.166992  0.136719   \n",
              "4  0.015137  0.031738  0.036621  0.041504  0.037109  0.026855  0.029297   \n",
              "\n",
              "          7         8         9  ...  2853  2854  2855  2856  2857  2858  \\\n",
              "0  0.110840  0.088867  0.067383  ...   NaN   NaN   NaN   NaN   NaN   NaN   \n",
              "1  0.110840  0.089844  0.068359  ...   NaN   NaN   NaN   NaN   NaN   NaN   \n",
              "2  0.109863  0.092773  0.076660  ...   NaN   NaN   NaN   NaN   NaN   NaN   \n",
              "3  0.109863  0.091309  0.075684  ...   NaN   NaN   NaN   NaN   NaN   NaN   \n",
              "4  0.029297  0.035645  0.067383  ...   NaN   NaN   NaN   NaN   NaN   NaN   \n",
              "\n",
              "   2859  age  gender  emotion  \n",
              "0   NaN   51    male    anger  \n",
              "1   NaN   51    male    anger  \n",
              "2   NaN   51    male    anger  \n",
              "3   NaN   51    male    anger  \n",
              "4   NaN   51    male  disgust  \n",
              "\n",
              "[5 rows x 2863 columns]"
            ]
          },
          "execution_count": 3,
          "metadata": {},
          "output_type": "execute_result"
        }
      ],
      "source": [
        "data.head()"
      ]
    },
    {
      "cell_type": "code",
      "execution_count": 4,
      "metadata": {
        "id": "I5fKq_epihnt"
      },
      "outputs": [],
      "source": [
        "data['age'] = pd.cut(data['age'], bins=[20, 29, 39, 49, 59, 69, 79],\n",
        "                           labels=['twenties', 'thirties', 'forties', 'fifties', 'sixties', 'seventies'],\n",
        "                           right=False)"
      ]
    },
    {
      "cell_type": "code",
      "execution_count": 5,
      "metadata": {
        "id": "KXdhkFlgi67j"
      },
      "outputs": [],
      "source": [
        "data = data.replace(np.nan, 0)"
      ]
    },
    {
      "cell_type": "code",
      "execution_count": 6,
      "metadata": {
        "colab": {
          "base_uri": "https://localhost:8080/",
          "height": 236
        },
        "id": "og3hp_eEjJ5_",
        "outputId": "27fe01d2-1615-4d11-d89a-639cbedf2580"
      },
      "outputs": [
        {
          "data": {
            "text/html": [
              "<div>\n",
              "<style scoped>\n",
              "    .dataframe tbody tr th:only-of-type {\n",
              "        vertical-align: middle;\n",
              "    }\n",
              "\n",
              "    .dataframe tbody tr th {\n",
              "        vertical-align: top;\n",
              "    }\n",
              "\n",
              "    .dataframe thead th {\n",
              "        text-align: right;\n",
              "    }\n",
              "</style>\n",
              "<table border=\"1\" class=\"dataframe\">\n",
              "  <thead>\n",
              "    <tr style=\"text-align: right;\">\n",
              "      <th></th>\n",
              "      <th>0</th>\n",
              "      <th>1</th>\n",
              "      <th>2</th>\n",
              "      <th>3</th>\n",
              "      <th>4</th>\n",
              "      <th>5</th>\n",
              "      <th>6</th>\n",
              "      <th>7</th>\n",
              "      <th>8</th>\n",
              "      <th>9</th>\n",
              "      <th>...</th>\n",
              "      <th>2853</th>\n",
              "      <th>2854</th>\n",
              "      <th>2855</th>\n",
              "      <th>2856</th>\n",
              "      <th>2857</th>\n",
              "      <th>2858</th>\n",
              "      <th>2859</th>\n",
              "      <th>age</th>\n",
              "      <th>gender</th>\n",
              "      <th>emotion</th>\n",
              "    </tr>\n",
              "  </thead>\n",
              "  <tbody>\n",
              "    <tr>\n",
              "      <th>0</th>\n",
              "      <td>0.017090</td>\n",
              "      <td>0.024902</td>\n",
              "      <td>0.028809</td>\n",
              "      <td>0.045410</td>\n",
              "      <td>0.074707</td>\n",
              "      <td>0.100098</td>\n",
              "      <td>0.119141</td>\n",
              "      <td>0.110840</td>\n",
              "      <td>0.088867</td>\n",
              "      <td>0.067383</td>\n",
              "      <td>...</td>\n",
              "      <td>0.0</td>\n",
              "      <td>0.0</td>\n",
              "      <td>0.0</td>\n",
              "      <td>0.0</td>\n",
              "      <td>0.0</td>\n",
              "      <td>0.0</td>\n",
              "      <td>0.0</td>\n",
              "      <td>fifties</td>\n",
              "      <td>male</td>\n",
              "      <td>anger</td>\n",
              "    </tr>\n",
              "    <tr>\n",
              "      <th>1</th>\n",
              "      <td>0.182129</td>\n",
              "      <td>0.256836</td>\n",
              "      <td>0.350098</td>\n",
              "      <td>0.351074</td>\n",
              "      <td>0.281738</td>\n",
              "      <td>0.240234</td>\n",
              "      <td>0.170410</td>\n",
              "      <td>0.110840</td>\n",
              "      <td>0.089844</td>\n",
              "      <td>0.068359</td>\n",
              "      <td>...</td>\n",
              "      <td>0.0</td>\n",
              "      <td>0.0</td>\n",
              "      <td>0.0</td>\n",
              "      <td>0.0</td>\n",
              "      <td>0.0</td>\n",
              "      <td>0.0</td>\n",
              "      <td>0.0</td>\n",
              "      <td>fifties</td>\n",
              "      <td>male</td>\n",
              "      <td>anger</td>\n",
              "    </tr>\n",
              "    <tr>\n",
              "      <th>2</th>\n",
              "      <td>0.015625</td>\n",
              "      <td>0.029297</td>\n",
              "      <td>0.070801</td>\n",
              "      <td>0.104004</td>\n",
              "      <td>0.132324</td>\n",
              "      <td>0.149414</td>\n",
              "      <td>0.131836</td>\n",
              "      <td>0.109863</td>\n",
              "      <td>0.092773</td>\n",
              "      <td>0.076660</td>\n",
              "      <td>...</td>\n",
              "      <td>0.0</td>\n",
              "      <td>0.0</td>\n",
              "      <td>0.0</td>\n",
              "      <td>0.0</td>\n",
              "      <td>0.0</td>\n",
              "      <td>0.0</td>\n",
              "      <td>0.0</td>\n",
              "      <td>fifties</td>\n",
              "      <td>male</td>\n",
              "      <td>anger</td>\n",
              "    </tr>\n",
              "    <tr>\n",
              "      <th>3</th>\n",
              "      <td>0.076660</td>\n",
              "      <td>0.113770</td>\n",
              "      <td>0.167969</td>\n",
              "      <td>0.180176</td>\n",
              "      <td>0.173340</td>\n",
              "      <td>0.166992</td>\n",
              "      <td>0.136719</td>\n",
              "      <td>0.109863</td>\n",
              "      <td>0.091309</td>\n",
              "      <td>0.075684</td>\n",
              "      <td>...</td>\n",
              "      <td>0.0</td>\n",
              "      <td>0.0</td>\n",
              "      <td>0.0</td>\n",
              "      <td>0.0</td>\n",
              "      <td>0.0</td>\n",
              "      <td>0.0</td>\n",
              "      <td>0.0</td>\n",
              "      <td>fifties</td>\n",
              "      <td>male</td>\n",
              "      <td>anger</td>\n",
              "    </tr>\n",
              "    <tr>\n",
              "      <th>4</th>\n",
              "      <td>0.015137</td>\n",
              "      <td>0.031738</td>\n",
              "      <td>0.036621</td>\n",
              "      <td>0.041504</td>\n",
              "      <td>0.037109</td>\n",
              "      <td>0.026855</td>\n",
              "      <td>0.029297</td>\n",
              "      <td>0.029297</td>\n",
              "      <td>0.035645</td>\n",
              "      <td>0.067383</td>\n",
              "      <td>...</td>\n",
              "      <td>0.0</td>\n",
              "      <td>0.0</td>\n",
              "      <td>0.0</td>\n",
              "      <td>0.0</td>\n",
              "      <td>0.0</td>\n",
              "      <td>0.0</td>\n",
              "      <td>0.0</td>\n",
              "      <td>fifties</td>\n",
              "      <td>male</td>\n",
              "      <td>disgust</td>\n",
              "    </tr>\n",
              "  </tbody>\n",
              "</table>\n",
              "<p>5 rows × 2863 columns</p>\n",
              "</div>"
            ],
            "text/plain": [
              "          0         1         2         3         4         5         6  \\\n",
              "0  0.017090  0.024902  0.028809  0.045410  0.074707  0.100098  0.119141   \n",
              "1  0.182129  0.256836  0.350098  0.351074  0.281738  0.240234  0.170410   \n",
              "2  0.015625  0.029297  0.070801  0.104004  0.132324  0.149414  0.131836   \n",
              "3  0.076660  0.113770  0.167969  0.180176  0.173340  0.166992  0.136719   \n",
              "4  0.015137  0.031738  0.036621  0.041504  0.037109  0.026855  0.029297   \n",
              "\n",
              "          7         8         9  ...  2853  2854  2855  2856  2857  2858  \\\n",
              "0  0.110840  0.088867  0.067383  ...   0.0   0.0   0.0   0.0   0.0   0.0   \n",
              "1  0.110840  0.089844  0.068359  ...   0.0   0.0   0.0   0.0   0.0   0.0   \n",
              "2  0.109863  0.092773  0.076660  ...   0.0   0.0   0.0   0.0   0.0   0.0   \n",
              "3  0.109863  0.091309  0.075684  ...   0.0   0.0   0.0   0.0   0.0   0.0   \n",
              "4  0.029297  0.035645  0.067383  ...   0.0   0.0   0.0   0.0   0.0   0.0   \n",
              "\n",
              "   2859      age  gender  emotion  \n",
              "0   0.0  fifties    male    anger  \n",
              "1   0.0  fifties    male    anger  \n",
              "2   0.0  fifties    male    anger  \n",
              "3   0.0  fifties    male    anger  \n",
              "4   0.0  fifties    male  disgust  \n",
              "\n",
              "[5 rows x 2863 columns]"
            ]
          },
          "execution_count": 6,
          "metadata": {},
          "output_type": "execute_result"
        }
      ],
      "source": [
        "data.head()"
      ]
    },
    {
      "cell_type": "code",
      "execution_count": 7,
      "metadata": {
        "id": "TSgkgCSljLmq"
      },
      "outputs": [],
      "source": [
        "data['gender'] = data['gender'].replace(\"female\",0)\n",
        "data['gender'] = data['gender'].replace(\"male\",1)"
      ]
    },
    {
      "cell_type": "code",
      "execution_count": 8,
      "metadata": {
        "colab": {
          "base_uri": "https://localhost:8080/",
          "height": 236
        },
        "id": "nB1DvK4rjYYL",
        "outputId": "b3955ef4-035a-4fd6-ab0a-ee94931e292a"
      },
      "outputs": [
        {
          "data": {
            "text/html": [
              "<div>\n",
              "<style scoped>\n",
              "    .dataframe tbody tr th:only-of-type {\n",
              "        vertical-align: middle;\n",
              "    }\n",
              "\n",
              "    .dataframe tbody tr th {\n",
              "        vertical-align: top;\n",
              "    }\n",
              "\n",
              "    .dataframe thead th {\n",
              "        text-align: right;\n",
              "    }\n",
              "</style>\n",
              "<table border=\"1\" class=\"dataframe\">\n",
              "  <thead>\n",
              "    <tr style=\"text-align: right;\">\n",
              "      <th></th>\n",
              "      <th>0</th>\n",
              "      <th>1</th>\n",
              "      <th>2</th>\n",
              "      <th>3</th>\n",
              "      <th>4</th>\n",
              "      <th>5</th>\n",
              "      <th>6</th>\n",
              "      <th>7</th>\n",
              "      <th>8</th>\n",
              "      <th>9</th>\n",
              "      <th>...</th>\n",
              "      <th>2853</th>\n",
              "      <th>2854</th>\n",
              "      <th>2855</th>\n",
              "      <th>2856</th>\n",
              "      <th>2857</th>\n",
              "      <th>2858</th>\n",
              "      <th>2859</th>\n",
              "      <th>age</th>\n",
              "      <th>gender</th>\n",
              "      <th>emotion</th>\n",
              "    </tr>\n",
              "  </thead>\n",
              "  <tbody>\n",
              "    <tr>\n",
              "      <th>0</th>\n",
              "      <td>0.017090</td>\n",
              "      <td>0.024902</td>\n",
              "      <td>0.028809</td>\n",
              "      <td>0.045410</td>\n",
              "      <td>0.074707</td>\n",
              "      <td>0.100098</td>\n",
              "      <td>0.119141</td>\n",
              "      <td>0.110840</td>\n",
              "      <td>0.088867</td>\n",
              "      <td>0.067383</td>\n",
              "      <td>...</td>\n",
              "      <td>0.0</td>\n",
              "      <td>0.0</td>\n",
              "      <td>0.0</td>\n",
              "      <td>0.0</td>\n",
              "      <td>0.0</td>\n",
              "      <td>0.0</td>\n",
              "      <td>0.0</td>\n",
              "      <td>fifties</td>\n",
              "      <td>1</td>\n",
              "      <td>anger</td>\n",
              "    </tr>\n",
              "    <tr>\n",
              "      <th>1</th>\n",
              "      <td>0.182129</td>\n",
              "      <td>0.256836</td>\n",
              "      <td>0.350098</td>\n",
              "      <td>0.351074</td>\n",
              "      <td>0.281738</td>\n",
              "      <td>0.240234</td>\n",
              "      <td>0.170410</td>\n",
              "      <td>0.110840</td>\n",
              "      <td>0.089844</td>\n",
              "      <td>0.068359</td>\n",
              "      <td>...</td>\n",
              "      <td>0.0</td>\n",
              "      <td>0.0</td>\n",
              "      <td>0.0</td>\n",
              "      <td>0.0</td>\n",
              "      <td>0.0</td>\n",
              "      <td>0.0</td>\n",
              "      <td>0.0</td>\n",
              "      <td>fifties</td>\n",
              "      <td>1</td>\n",
              "      <td>anger</td>\n",
              "    </tr>\n",
              "    <tr>\n",
              "      <th>2</th>\n",
              "      <td>0.015625</td>\n",
              "      <td>0.029297</td>\n",
              "      <td>0.070801</td>\n",
              "      <td>0.104004</td>\n",
              "      <td>0.132324</td>\n",
              "      <td>0.149414</td>\n",
              "      <td>0.131836</td>\n",
              "      <td>0.109863</td>\n",
              "      <td>0.092773</td>\n",
              "      <td>0.076660</td>\n",
              "      <td>...</td>\n",
              "      <td>0.0</td>\n",
              "      <td>0.0</td>\n",
              "      <td>0.0</td>\n",
              "      <td>0.0</td>\n",
              "      <td>0.0</td>\n",
              "      <td>0.0</td>\n",
              "      <td>0.0</td>\n",
              "      <td>fifties</td>\n",
              "      <td>1</td>\n",
              "      <td>anger</td>\n",
              "    </tr>\n",
              "    <tr>\n",
              "      <th>3</th>\n",
              "      <td>0.076660</td>\n",
              "      <td>0.113770</td>\n",
              "      <td>0.167969</td>\n",
              "      <td>0.180176</td>\n",
              "      <td>0.173340</td>\n",
              "      <td>0.166992</td>\n",
              "      <td>0.136719</td>\n",
              "      <td>0.109863</td>\n",
              "      <td>0.091309</td>\n",
              "      <td>0.075684</td>\n",
              "      <td>...</td>\n",
              "      <td>0.0</td>\n",
              "      <td>0.0</td>\n",
              "      <td>0.0</td>\n",
              "      <td>0.0</td>\n",
              "      <td>0.0</td>\n",
              "      <td>0.0</td>\n",
              "      <td>0.0</td>\n",
              "      <td>fifties</td>\n",
              "      <td>1</td>\n",
              "      <td>anger</td>\n",
              "    </tr>\n",
              "    <tr>\n",
              "      <th>4</th>\n",
              "      <td>0.015137</td>\n",
              "      <td>0.031738</td>\n",
              "      <td>0.036621</td>\n",
              "      <td>0.041504</td>\n",
              "      <td>0.037109</td>\n",
              "      <td>0.026855</td>\n",
              "      <td>0.029297</td>\n",
              "      <td>0.029297</td>\n",
              "      <td>0.035645</td>\n",
              "      <td>0.067383</td>\n",
              "      <td>...</td>\n",
              "      <td>0.0</td>\n",
              "      <td>0.0</td>\n",
              "      <td>0.0</td>\n",
              "      <td>0.0</td>\n",
              "      <td>0.0</td>\n",
              "      <td>0.0</td>\n",
              "      <td>0.0</td>\n",
              "      <td>fifties</td>\n",
              "      <td>1</td>\n",
              "      <td>disgust</td>\n",
              "    </tr>\n",
              "  </tbody>\n",
              "</table>\n",
              "<p>5 rows × 2863 columns</p>\n",
              "</div>"
            ],
            "text/plain": [
              "          0         1         2         3         4         5         6  \\\n",
              "0  0.017090  0.024902  0.028809  0.045410  0.074707  0.100098  0.119141   \n",
              "1  0.182129  0.256836  0.350098  0.351074  0.281738  0.240234  0.170410   \n",
              "2  0.015625  0.029297  0.070801  0.104004  0.132324  0.149414  0.131836   \n",
              "3  0.076660  0.113770  0.167969  0.180176  0.173340  0.166992  0.136719   \n",
              "4  0.015137  0.031738  0.036621  0.041504  0.037109  0.026855  0.029297   \n",
              "\n",
              "          7         8         9  ...  2853  2854  2855  2856  2857  2858  \\\n",
              "0  0.110840  0.088867  0.067383  ...   0.0   0.0   0.0   0.0   0.0   0.0   \n",
              "1  0.110840  0.089844  0.068359  ...   0.0   0.0   0.0   0.0   0.0   0.0   \n",
              "2  0.109863  0.092773  0.076660  ...   0.0   0.0   0.0   0.0   0.0   0.0   \n",
              "3  0.109863  0.091309  0.075684  ...   0.0   0.0   0.0   0.0   0.0   0.0   \n",
              "4  0.029297  0.035645  0.067383  ...   0.0   0.0   0.0   0.0   0.0   0.0   \n",
              "\n",
              "   2859      age  gender  emotion  \n",
              "0   0.0  fifties       1    anger  \n",
              "1   0.0  fifties       1    anger  \n",
              "2   0.0  fifties       1    anger  \n",
              "3   0.0  fifties       1    anger  \n",
              "4   0.0  fifties       1  disgust  \n",
              "\n",
              "[5 rows x 2863 columns]"
            ]
          },
          "execution_count": 8,
          "metadata": {},
          "output_type": "execute_result"
        }
      ],
      "source": [
        "data.head()"
      ]
    },
    {
      "cell_type": "code",
      "execution_count": 9,
      "metadata": {
        "colab": {
          "base_uri": "https://localhost:8080/"
        },
        "id": "-4lj04DUjaQA",
        "outputId": "d4dbb5f9-c174-42a0-f6b0-5ce657227405"
      },
      "outputs": [
        {
          "data": {
            "text/plain": [
              "emotion\n",
              "anger           5592\n",
              "happiness       5368\n",
              "anxiety/fear    5360\n",
              "sadness         5332\n",
              "disgust         5268\n",
              "neutral         4664\n",
              "Name: count, dtype: int64"
            ]
          },
          "execution_count": 9,
          "metadata": {},
          "output_type": "execute_result"
        }
      ],
      "source": [
        "data.emotion.value_counts()"
      ]
    },
    {
      "cell_type": "code",
      "execution_count": 10,
      "metadata": {
        "colab": {
          "base_uri": "https://localhost:8080/",
          "height": 236
        },
        "id": "yN6AXkY4jeAX",
        "outputId": "7d458c82-0df9-44c9-ebdf-18151537d313"
      },
      "outputs": [
        {
          "data": {
            "text/html": [
              "<div>\n",
              "<style scoped>\n",
              "    .dataframe tbody tr th:only-of-type {\n",
              "        vertical-align: middle;\n",
              "    }\n",
              "\n",
              "    .dataframe tbody tr th {\n",
              "        vertical-align: top;\n",
              "    }\n",
              "\n",
              "    .dataframe thead th {\n",
              "        text-align: right;\n",
              "    }\n",
              "</style>\n",
              "<table border=\"1\" class=\"dataframe\">\n",
              "  <thead>\n",
              "    <tr style=\"text-align: right;\">\n",
              "      <th></th>\n",
              "      <th>0</th>\n",
              "      <th>1</th>\n",
              "      <th>2</th>\n",
              "      <th>3</th>\n",
              "      <th>4</th>\n",
              "      <th>5</th>\n",
              "      <th>6</th>\n",
              "      <th>7</th>\n",
              "      <th>8</th>\n",
              "      <th>9</th>\n",
              "      <th>...</th>\n",
              "      <th>2859</th>\n",
              "      <th>age</th>\n",
              "      <th>gender</th>\n",
              "      <th>emotion</th>\n",
              "      <th>anger</th>\n",
              "      <th>anxiety/fear</th>\n",
              "      <th>disgust</th>\n",
              "      <th>happiness</th>\n",
              "      <th>neutral</th>\n",
              "      <th>sadness</th>\n",
              "    </tr>\n",
              "  </thead>\n",
              "  <tbody>\n",
              "    <tr>\n",
              "      <th>0</th>\n",
              "      <td>0.017090</td>\n",
              "      <td>0.024902</td>\n",
              "      <td>0.028809</td>\n",
              "      <td>0.045410</td>\n",
              "      <td>0.074707</td>\n",
              "      <td>0.100098</td>\n",
              "      <td>0.119141</td>\n",
              "      <td>0.110840</td>\n",
              "      <td>0.088867</td>\n",
              "      <td>0.067383</td>\n",
              "      <td>...</td>\n",
              "      <td>0.0</td>\n",
              "      <td>fifties</td>\n",
              "      <td>1</td>\n",
              "      <td>anger</td>\n",
              "      <td>True</td>\n",
              "      <td>False</td>\n",
              "      <td>False</td>\n",
              "      <td>False</td>\n",
              "      <td>False</td>\n",
              "      <td>False</td>\n",
              "    </tr>\n",
              "    <tr>\n",
              "      <th>1</th>\n",
              "      <td>0.182129</td>\n",
              "      <td>0.256836</td>\n",
              "      <td>0.350098</td>\n",
              "      <td>0.351074</td>\n",
              "      <td>0.281738</td>\n",
              "      <td>0.240234</td>\n",
              "      <td>0.170410</td>\n",
              "      <td>0.110840</td>\n",
              "      <td>0.089844</td>\n",
              "      <td>0.068359</td>\n",
              "      <td>...</td>\n",
              "      <td>0.0</td>\n",
              "      <td>fifties</td>\n",
              "      <td>1</td>\n",
              "      <td>anger</td>\n",
              "      <td>True</td>\n",
              "      <td>False</td>\n",
              "      <td>False</td>\n",
              "      <td>False</td>\n",
              "      <td>False</td>\n",
              "      <td>False</td>\n",
              "    </tr>\n",
              "    <tr>\n",
              "      <th>2</th>\n",
              "      <td>0.015625</td>\n",
              "      <td>0.029297</td>\n",
              "      <td>0.070801</td>\n",
              "      <td>0.104004</td>\n",
              "      <td>0.132324</td>\n",
              "      <td>0.149414</td>\n",
              "      <td>0.131836</td>\n",
              "      <td>0.109863</td>\n",
              "      <td>0.092773</td>\n",
              "      <td>0.076660</td>\n",
              "      <td>...</td>\n",
              "      <td>0.0</td>\n",
              "      <td>fifties</td>\n",
              "      <td>1</td>\n",
              "      <td>anger</td>\n",
              "      <td>True</td>\n",
              "      <td>False</td>\n",
              "      <td>False</td>\n",
              "      <td>False</td>\n",
              "      <td>False</td>\n",
              "      <td>False</td>\n",
              "    </tr>\n",
              "    <tr>\n",
              "      <th>3</th>\n",
              "      <td>0.076660</td>\n",
              "      <td>0.113770</td>\n",
              "      <td>0.167969</td>\n",
              "      <td>0.180176</td>\n",
              "      <td>0.173340</td>\n",
              "      <td>0.166992</td>\n",
              "      <td>0.136719</td>\n",
              "      <td>0.109863</td>\n",
              "      <td>0.091309</td>\n",
              "      <td>0.075684</td>\n",
              "      <td>...</td>\n",
              "      <td>0.0</td>\n",
              "      <td>fifties</td>\n",
              "      <td>1</td>\n",
              "      <td>anger</td>\n",
              "      <td>True</td>\n",
              "      <td>False</td>\n",
              "      <td>False</td>\n",
              "      <td>False</td>\n",
              "      <td>False</td>\n",
              "      <td>False</td>\n",
              "    </tr>\n",
              "    <tr>\n",
              "      <th>4</th>\n",
              "      <td>0.015137</td>\n",
              "      <td>0.031738</td>\n",
              "      <td>0.036621</td>\n",
              "      <td>0.041504</td>\n",
              "      <td>0.037109</td>\n",
              "      <td>0.026855</td>\n",
              "      <td>0.029297</td>\n",
              "      <td>0.029297</td>\n",
              "      <td>0.035645</td>\n",
              "      <td>0.067383</td>\n",
              "      <td>...</td>\n",
              "      <td>0.0</td>\n",
              "      <td>fifties</td>\n",
              "      <td>1</td>\n",
              "      <td>disgust</td>\n",
              "      <td>False</td>\n",
              "      <td>False</td>\n",
              "      <td>True</td>\n",
              "      <td>False</td>\n",
              "      <td>False</td>\n",
              "      <td>False</td>\n",
              "    </tr>\n",
              "  </tbody>\n",
              "</table>\n",
              "<p>5 rows × 2869 columns</p>\n",
              "</div>"
            ],
            "text/plain": [
              "          0         1         2         3         4         5         6  \\\n",
              "0  0.017090  0.024902  0.028809  0.045410  0.074707  0.100098  0.119141   \n",
              "1  0.182129  0.256836  0.350098  0.351074  0.281738  0.240234  0.170410   \n",
              "2  0.015625  0.029297  0.070801  0.104004  0.132324  0.149414  0.131836   \n",
              "3  0.076660  0.113770  0.167969  0.180176  0.173340  0.166992  0.136719   \n",
              "4  0.015137  0.031738  0.036621  0.041504  0.037109  0.026855  0.029297   \n",
              "\n",
              "          7         8         9  ...  2859      age  gender  emotion  anger  \\\n",
              "0  0.110840  0.088867  0.067383  ...   0.0  fifties       1    anger   True   \n",
              "1  0.110840  0.089844  0.068359  ...   0.0  fifties       1    anger   True   \n",
              "2  0.109863  0.092773  0.076660  ...   0.0  fifties       1    anger   True   \n",
              "3  0.109863  0.091309  0.075684  ...   0.0  fifties       1    anger   True   \n",
              "4  0.029297  0.035645  0.067383  ...   0.0  fifties       1  disgust  False   \n",
              "\n",
              "   anxiety/fear  disgust  happiness  neutral  sadness  \n",
              "0         False    False      False    False    False  \n",
              "1         False    False      False    False    False  \n",
              "2         False    False      False    False    False  \n",
              "3         False    False      False    False    False  \n",
              "4         False     True      False    False    False  \n",
              "\n",
              "[5 rows x 2869 columns]"
            ]
          },
          "execution_count": 10,
          "metadata": {},
          "output_type": "execute_result"
        }
      ],
      "source": [
        "encoded_df = pd.get_dummies(data['emotion'])\n",
        "df_encoded = pd.concat([data, encoded_df], axis=1)\n",
        "df_encoded.head()"
      ]
    },
    {
      "cell_type": "code",
      "execution_count": 11,
      "metadata": {
        "colab": {
          "base_uri": "https://localhost:8080/",
          "height": 236
        },
        "id": "VzaU9C5qmZRE",
        "outputId": "bf13ebf6-217c-4714-975a-6e294627e4e3"
      },
      "outputs": [],
      "source": [
        "# encoded_df = pd.get_dummies(data['age'])\n",
        "# df_encoded = pd.concat([df_encoded, encoded_df], axis=1)\n",
        "# df_encoded.head()"
      ]
    },
    {
      "cell_type": "code",
      "execution_count": 12,
      "metadata": {
        "id": "DzLfRs8mmxjF"
      },
      "outputs": [],
      "source": [
        "df_encoded.drop(['age','emotion', 'gender'],axis=1,inplace=True)"
      ]
    },
    {
      "cell_type": "code",
      "execution_count": 13,
      "metadata": {
        "colab": {
          "base_uri": "https://localhost:8080/",
          "height": 206
        },
        "id": "mt3ZjEHKnBX-",
        "outputId": "6567ad5a-c89d-46d7-ace6-db99abb8ae88"
      },
      "outputs": [
        {
          "data": {
            "text/html": [
              "<div>\n",
              "<style scoped>\n",
              "    .dataframe tbody tr th:only-of-type {\n",
              "        vertical-align: middle;\n",
              "    }\n",
              "\n",
              "    .dataframe tbody tr th {\n",
              "        vertical-align: top;\n",
              "    }\n",
              "\n",
              "    .dataframe thead th {\n",
              "        text-align: right;\n",
              "    }\n",
              "</style>\n",
              "<table border=\"1\" class=\"dataframe\">\n",
              "  <thead>\n",
              "    <tr style=\"text-align: right;\">\n",
              "      <th></th>\n",
              "      <th>anger</th>\n",
              "      <th>anxiety/fear</th>\n",
              "      <th>disgust</th>\n",
              "      <th>happiness</th>\n",
              "      <th>neutral</th>\n",
              "      <th>sadness</th>\n",
              "    </tr>\n",
              "  </thead>\n",
              "  <tbody>\n",
              "    <tr>\n",
              "      <th>0</th>\n",
              "      <td>True</td>\n",
              "      <td>False</td>\n",
              "      <td>False</td>\n",
              "      <td>False</td>\n",
              "      <td>False</td>\n",
              "      <td>False</td>\n",
              "    </tr>\n",
              "    <tr>\n",
              "      <th>1</th>\n",
              "      <td>True</td>\n",
              "      <td>False</td>\n",
              "      <td>False</td>\n",
              "      <td>False</td>\n",
              "      <td>False</td>\n",
              "      <td>False</td>\n",
              "    </tr>\n",
              "    <tr>\n",
              "      <th>2</th>\n",
              "      <td>True</td>\n",
              "      <td>False</td>\n",
              "      <td>False</td>\n",
              "      <td>False</td>\n",
              "      <td>False</td>\n",
              "      <td>False</td>\n",
              "    </tr>\n",
              "    <tr>\n",
              "      <th>3</th>\n",
              "      <td>True</td>\n",
              "      <td>False</td>\n",
              "      <td>False</td>\n",
              "      <td>False</td>\n",
              "      <td>False</td>\n",
              "      <td>False</td>\n",
              "    </tr>\n",
              "    <tr>\n",
              "      <th>4</th>\n",
              "      <td>False</td>\n",
              "      <td>False</td>\n",
              "      <td>True</td>\n",
              "      <td>False</td>\n",
              "      <td>False</td>\n",
              "      <td>False</td>\n",
              "    </tr>\n",
              "  </tbody>\n",
              "</table>\n",
              "</div>"
            ],
            "text/plain": [
              "   anger  anxiety/fear  disgust  happiness  neutral  sadness\n",
              "0   True         False    False      False    False    False\n",
              "1   True         False    False      False    False    False\n",
              "2   True         False    False      False    False    False\n",
              "3   True         False    False      False    False    False\n",
              "4  False         False     True      False    False    False"
            ]
          },
          "execution_count": 13,
          "metadata": {},
          "output_type": "execute_result"
        }
      ],
      "source": [
        "df_encoded.iloc[:,2860:].head()"
      ]
    },
    {
      "cell_type": "code",
      "execution_count": 14,
      "metadata": {
        "colab": {
          "base_uri": "https://localhost:8080/"
        },
        "id": "k7LQ1IOYpp51",
        "outputId": "320b5e3f-1a8c-4645-ad72-64e5253cec24"
      },
      "outputs": [
        {
          "data": {
            "text/plain": [
              "(31584, 2866)"
            ]
          },
          "execution_count": 14,
          "metadata": {},
          "output_type": "execute_result"
        }
      ],
      "source": [
        "df_encoded.shape"
      ]
    },
    {
      "cell_type": "code",
      "execution_count": 16,
      "metadata": {
        "colab": {
          "base_uri": "https://localhost:8080/"
        },
        "id": "E_PX2wUprSFb",
        "outputId": "031c895f-327d-4245-e07f-6e944e23b0a2"
      },
      "outputs": [],
      "source": [
        "X = df_encoded.drop(['anger', 'anxiety/fear', 'disgust', 'happiness', 'neutral', 'sadness'], axis=1).values"
      ]
    },
    {
      "cell_type": "code",
      "execution_count": 17,
      "metadata": {
        "id": "cd9JaDz94G1h"
      },
      "outputs": [],
      "source": [
        "y = df_encoded[['anger', 'anxiety/fear', 'disgust', 'happiness', 'neutral', 'sadness']].values"
      ]
    },
    {
      "cell_type": "code",
      "execution_count": 18,
      "metadata": {
        "id": "ClhkSSYeiQmK"
      },
      "outputs": [],
      "source": [
        "# X = df_encoded.iloc[:, :-13].values  # Audio features\n",
        "# y_gender = df_encoded.iloc[:, -13:-12].values  # Gender labels\n",
        "y_emotion = df_encoded.iloc[:, -6:].values  # Emotion labels\n",
        "# y_age = df_encoded.iloc[:, -6:].values  # Age labels"
      ]
    },
    {
      "cell_type": "code",
      "execution_count": 19,
      "metadata": {
        "colab": {
          "base_uri": "https://localhost:8080/"
        },
        "id": "jOhiEHjviRl5",
        "outputId": "10237b31-b0fd-446d-d7fc-cfad5bda5e14"
      },
      "outputs": [
        {
          "data": {
            "text/plain": [
              "array([[ True, False, False, False, False, False],\n",
              "       [ True, False, False, False, False, False],\n",
              "       [ True, False, False, False, False, False],\n",
              "       ...,\n",
              "       [ True, False, False, False, False, False],\n",
              "       [ True, False, False, False, False, False],\n",
              "       [ True, False, False, False, False, False]])"
            ]
          },
          "execution_count": 19,
          "metadata": {},
          "output_type": "execute_result"
        }
      ],
      "source": [
        "y_emotion"
      ]
    },
    {
      "cell_type": "code",
      "execution_count": 20,
      "metadata": {
        "colab": {
          "base_uri": "https://localhost:8080/"
        },
        "id": "iH0K5HyFiRpf",
        "outputId": "60507736-c1e5-43de-8311-0dd2a2410472"
      },
      "outputs": [],
      "source": [
        "# y_gender"
      ]
    },
    {
      "cell_type": "code",
      "execution_count": 21,
      "metadata": {
        "colab": {
          "base_uri": "https://localhost:8080/"
        },
        "id": "jw7Xrak6iRsU",
        "outputId": "07827e33-587c-4866-f15d-a2065abadc91"
      },
      "outputs": [],
      "source": [
        "# y_age"
      ]
    },
    {
      "cell_type": "code",
      "execution_count": 22,
      "metadata": {
        "id": "7aqZFCx1FWnW"
      },
      "outputs": [],
      "source": [
        "X_train, X_val_test, y_emotion_train, y_emotion_val_test = train_test_split(X, y_emotion, test_size=0.3, random_state=30)\n",
        "X_test, X_val, y_emotion_test, y_emotion_val = train_test_split(X_val_test, y_emotion_val_test, test_size=0.5, random_state=30)\n"
      ]
    },
    {
      "cell_type": "code",
      "execution_count": 23,
      "metadata": {
        "id": "xV6jWzYTjHHU"
      },
      "outputs": [
        {
          "name": "stdout",
          "output_type": "stream",
          "text": [
            "Metal device set to: Apple M1 Pro\n",
            "\n",
            "systemMemory: 16.00 GB\n",
            "maxCacheSize: 5.33 GB\n",
            "\n"
          ]
        },
        {
          "name": "stderr",
          "output_type": "stream",
          "text": [
            "2023-09-07 22:37:17.912797: I tensorflow/core/common_runtime/pluggable_device/pluggable_device_factory.cc:306] Could not identify NUMA node of platform GPU ID 0, defaulting to 0. Your kernel may not have been built with NUMA support.\n",
            "2023-09-07 22:37:17.912830: I tensorflow/core/common_runtime/pluggable_device/pluggable_device_factory.cc:272] Created TensorFlow device (/job:localhost/replica:0/task:0/device:GPU:0 with 0 MB memory) -> physical PluggableDevice (device: 0, name: METAL, pci bus id: <undefined>)\n"
          ]
        }
      ],
      "source": [
        "input_layer = Input(shape=(X_train.shape[1],))\n",
        "hidden_layer = Dense(2048, activation='relu')(input_layer)\n",
        "hidden_layer = BatchNormalization()(hidden_layer)\n",
        "hidden_layer = Dense(1024, activation='relu')(hidden_layer)\n",
        "hidden_layer = Dense(512, activation='relu')(hidden_layer)\n",
        "hidden_layer = Dense(64, activation='relu')(hidden_layer)\n",
        "hidden_layer = Dropout(0.25)(hidden_layer)"
      ]
    },
    {
      "cell_type": "code",
      "execution_count": 24,
      "metadata": {
        "id": "WSOmqcJLjZKc"
      },
      "outputs": [],
      "source": [
        "# gender_output = Dense(y_gender_train.shape[1], activation='sigmoid', name='gender')(hidden_layer)"
      ]
    },
    {
      "cell_type": "code",
      "execution_count": 25,
      "metadata": {
        "id": "4a1Ee-rfjh_-"
      },
      "outputs": [],
      "source": [
        "emotion_output = Dense(y_emotion_train.shape[1], activation='softmax', name='emotion')(hidden_layer)"
      ]
    },
    {
      "cell_type": "code",
      "execution_count": 26,
      "metadata": {
        "id": "Z-AgWvJejktM"
      },
      "outputs": [],
      "source": [
        "# age_output = Dense(y_age_train.shape[1], activation='softmax', name='age')(hidden_layer)"
      ]
    },
    {
      "cell_type": "code",
      "execution_count": 27,
      "metadata": {
        "id": "XWxrehohj5p-"
      },
      "outputs": [],
      "source": [
        "model = Model(inputs=input_layer, outputs=[emotion_output])\n"
      ]
    },
    {
      "cell_type": "code",
      "execution_count": 28,
      "metadata": {
        "colab": {
          "base_uri": "https://localhost:8080/"
        },
        "id": "poXQMSmhkJ9I",
        "outputId": "62233ab5-4f0e-4d42-e143-2a1ea2a77504"
      },
      "outputs": [
        {
          "name": "stdout",
          "output_type": "stream",
          "text": [
            "Model: \"model\"\n",
            "_________________________________________________________________\n",
            " Layer (type)                Output Shape              Param #   \n",
            "=================================================================\n",
            " input_1 (InputLayer)        [(None, 2860)]            0         \n",
            "                                                                 \n",
            " dense (Dense)               (None, 2048)              5859328   \n",
            "                                                                 \n",
            " batch_normalization (BatchN  (None, 2048)             8192      \n",
            " ormalization)                                                   \n",
            "                                                                 \n",
            " dense_1 (Dense)             (None, 1024)              2098176   \n",
            "                                                                 \n",
            " dense_2 (Dense)             (None, 512)               524800    \n",
            "                                                                 \n",
            " dense_3 (Dense)             (None, 64)                32832     \n",
            "                                                                 \n",
            " dropout (Dropout)           (None, 64)                0         \n",
            "                                                                 \n",
            " emotion (Dense)             (None, 6)                 390       \n",
            "                                                                 \n",
            "=================================================================\n",
            "Total params: 8,523,718\n",
            "Trainable params: 8,519,622\n",
            "Non-trainable params: 4,096\n",
            "_________________________________________________________________\n"
          ]
        }
      ],
      "source": [
        "model.summary()"
      ]
    },
    {
      "cell_type": "code",
      "execution_count": 29,
      "metadata": {
        "id": "0jnAAC1mj_O_"
      },
      "outputs": [],
      "source": [
        "opt = SGD(learning_rate=0.0005, decay=1e-6, momentum=0.9, nesterov=True)\n",
        "model.compile(optimizer=opt,\n",
        "              loss={\n",
        "                  # 'gender': 'binary_crossentropy',\n",
        "                    'emotion': 'categorical_crossentropy',\n",
        "                  #   'age': 'categorical_crossentropy'\n",
        "                    },\n",
        "              metrics={\n",
        "                  # 'gender': 'accuracy',\n",
        "                       'emotion': 'accuracy',\n",
        "                  #      'age': 'accuracy'\n",
        "                       })"
      ]
    },
    {
      "cell_type": "code",
      "execution_count": 30,
      "metadata": {
        "colab": {
          "base_uri": "https://localhost:8080/"
        },
        "id": "ztC_nnPYkDgI",
        "outputId": "5364e2da-065a-417a-af49-4b2dd8cd655b"
      },
      "outputs": [
        {
          "name": "stdout",
          "output_type": "stream",
          "text": [
            "Epoch 1/200\n"
          ]
        },
        {
          "name": "stderr",
          "output_type": "stream",
          "text": [
            "2023-09-07 22:37:19.116746: W tensorflow/tsl/platform/profile_utils/cpu_utils.cc:128] Failed to get CPU frequency: 0 Hz\n",
            "2023-09-07 22:37:19.367797: I tensorflow/core/grappler/optimizers/custom_graph_optimizer_registry.cc:114] Plugin optimizer for device_type GPU is enabled.\n"
          ]
        },
        {
          "name": "stdout",
          "output_type": "stream",
          "text": [
            "691/691 [==============================] - ETA: 0s - loss: 1.6245 - accuracy: 0.3331"
          ]
        },
        {
          "name": "stderr",
          "output_type": "stream",
          "text": [
            "2023-09-07 22:37:34.465322: I tensorflow/core/grappler/optimizers/custom_graph_optimizer_registry.cc:114] Plugin optimizer for device_type GPU is enabled.\n"
          ]
        },
        {
          "name": "stdout",
          "output_type": "stream",
          "text": [
            "691/691 [==============================] - 17s 20ms/step - loss: 1.6245 - accuracy: 0.3331 - val_loss: 1.5060 - val_accuracy: 0.3839\n",
            "Epoch 2/200\n",
            "691/691 [==============================] - 11s 16ms/step - loss: 1.4854 - accuracy: 0.3916 - val_loss: 1.4268 - val_accuracy: 0.4215\n",
            "Epoch 3/200\n",
            "691/691 [==============================] - 11s 16ms/step - loss: 1.4215 - accuracy: 0.4203 - val_loss: 1.3902 - val_accuracy: 0.4392\n",
            "Epoch 4/200\n",
            "691/691 [==============================] - 11s 16ms/step - loss: 1.3784 - accuracy: 0.4379 - val_loss: 1.3563 - val_accuracy: 0.4572\n",
            "Epoch 5/200\n",
            "691/691 [==============================] - 11s 16ms/step - loss: 1.3359 - accuracy: 0.4636 - val_loss: 1.3286 - val_accuracy: 0.4654\n",
            "Epoch 6/200\n",
            "691/691 [==============================] - 11s 16ms/step - loss: 1.3020 - accuracy: 0.4759 - val_loss: 1.3038 - val_accuracy: 0.4808\n",
            "Epoch 7/200\n",
            "691/691 [==============================] - 13s 18ms/step - loss: 1.2633 - accuracy: 0.4891 - val_loss: 1.2994 - val_accuracy: 0.4880\n",
            "Epoch 8/200\n",
            "691/691 [==============================] - 11s 16ms/step - loss: 1.2275 - accuracy: 0.5076 - val_loss: 1.2445 - val_accuracy: 0.5084\n",
            "Epoch 9/200\n",
            "691/691 [==============================] - 11s 16ms/step - loss: 1.1937 - accuracy: 0.5223 - val_loss: 1.2157 - val_accuracy: 0.5167\n",
            "Epoch 10/200\n",
            "691/691 [==============================] - 11s 16ms/step - loss: 1.1665 - accuracy: 0.5384 - val_loss: 1.1923 - val_accuracy: 0.5222\n",
            "Epoch 11/200\n",
            "691/691 [==============================] - 11s 16ms/step - loss: 1.1406 - accuracy: 0.5489 - val_loss: 1.1743 - val_accuracy: 0.5407\n",
            "Epoch 12/200\n",
            "691/691 [==============================] - 11s 16ms/step - loss: 1.1108 - accuracy: 0.5637 - val_loss: 1.1477 - val_accuracy: 0.5445\n",
            "Epoch 13/200\n",
            "691/691 [==============================] - 11s 16ms/step - loss: 1.0783 - accuracy: 0.5778 - val_loss: 1.1383 - val_accuracy: 0.5422\n",
            "Epoch 14/200\n",
            "691/691 [==============================] - 11s 16ms/step - loss: 1.0600 - accuracy: 0.5846 - val_loss: 1.1276 - val_accuracy: 0.5530\n",
            "Epoch 15/200\n",
            "691/691 [==============================] - 11s 16ms/step - loss: 1.0270 - accuracy: 0.5998 - val_loss: 1.1013 - val_accuracy: 0.5606\n",
            "Epoch 16/200\n",
            "691/691 [==============================] - 11s 16ms/step - loss: 1.0106 - accuracy: 0.6057 - val_loss: 1.1044 - val_accuracy: 0.5675\n",
            "Epoch 17/200\n",
            "691/691 [==============================] - 11s 16ms/step - loss: 0.9862 - accuracy: 0.6202 - val_loss: 1.0631 - val_accuracy: 0.5787\n",
            "Epoch 18/200\n",
            "691/691 [==============================] - 11s 16ms/step - loss: 0.9707 - accuracy: 0.6262 - val_loss: 1.0597 - val_accuracy: 0.5897\n",
            "Epoch 19/200\n",
            "691/691 [==============================] - 11s 16ms/step - loss: 0.9525 - accuracy: 0.6302 - val_loss: 1.0403 - val_accuracy: 0.5929\n",
            "Epoch 20/200\n",
            "691/691 [==============================] - 11s 16ms/step - loss: 0.9316 - accuracy: 0.6417 - val_loss: 1.0796 - val_accuracy: 0.5756\n",
            "Epoch 21/200\n",
            "691/691 [==============================] - 11s 16ms/step - loss: 0.9123 - accuracy: 0.6489 - val_loss: 1.0140 - val_accuracy: 0.5988\n",
            "Epoch 22/200\n",
            "691/691 [==============================] - 11s 16ms/step - loss: 0.8944 - accuracy: 0.6511 - val_loss: 1.0182 - val_accuracy: 0.6024\n",
            "Epoch 23/200\n",
            "691/691 [==============================] - 11s 16ms/step - loss: 0.8828 - accuracy: 0.6595 - val_loss: 0.9706 - val_accuracy: 0.6254\n",
            "Epoch 24/200\n",
            "691/691 [==============================] - 11s 16ms/step - loss: 0.8642 - accuracy: 0.6686 - val_loss: 0.9701 - val_accuracy: 0.6258\n",
            "Epoch 25/200\n",
            "691/691 [==============================] - 11s 16ms/step - loss: 0.8551 - accuracy: 0.6732 - val_loss: 0.9597 - val_accuracy: 0.6296\n",
            "Epoch 26/200\n",
            "691/691 [==============================] - 11s 16ms/step - loss: 0.8293 - accuracy: 0.6864 - val_loss: 0.9585 - val_accuracy: 0.6292\n",
            "Epoch 27/200\n",
            "691/691 [==============================] - 11s 16ms/step - loss: 0.8193 - accuracy: 0.6867 - val_loss: 0.9603 - val_accuracy: 0.6380\n",
            "Epoch 28/200\n",
            "691/691 [==============================] - 11s 16ms/step - loss: 0.8012 - accuracy: 0.6948 - val_loss: 0.9737 - val_accuracy: 0.6182\n",
            "Epoch 29/200\n",
            "691/691 [==============================] - 11s 16ms/step - loss: 0.7973 - accuracy: 0.6926 - val_loss: 0.9066 - val_accuracy: 0.6583\n",
            "Epoch 30/200\n",
            "691/691 [==============================] - 11s 16ms/step - loss: 0.7757 - accuracy: 0.7074 - val_loss: 0.8902 - val_accuracy: 0.6695\n",
            "Epoch 31/200\n",
            "691/691 [==============================] - 11s 16ms/step - loss: 0.7739 - accuracy: 0.7030 - val_loss: 0.8780 - val_accuracy: 0.6650\n",
            "Epoch 32/200\n",
            "691/691 [==============================] - 11s 16ms/step - loss: 0.7542 - accuracy: 0.7123 - val_loss: 0.8873 - val_accuracy: 0.6638\n",
            "Epoch 33/200\n",
            "691/691 [==============================] - 11s 16ms/step - loss: 0.7419 - accuracy: 0.7185 - val_loss: 0.8625 - val_accuracy: 0.6682\n",
            "Epoch 34/200\n",
            "691/691 [==============================] - 11s 16ms/step - loss: 0.7224 - accuracy: 0.7243 - val_loss: 0.8810 - val_accuracy: 0.6688\n",
            "Epoch 35/200\n",
            "691/691 [==============================] - 11s 16ms/step - loss: 0.7182 - accuracy: 0.7258 - val_loss: 0.8526 - val_accuracy: 0.6745\n",
            "Epoch 36/200\n",
            "691/691 [==============================] - 11s 16ms/step - loss: 0.7046 - accuracy: 0.7301 - val_loss: 0.8444 - val_accuracy: 0.6813\n",
            "Epoch 37/200\n",
            "691/691 [==============================] - 11s 16ms/step - loss: 0.6819 - accuracy: 0.7410 - val_loss: 0.8673 - val_accuracy: 0.6676\n",
            "Epoch 38/200\n",
            "691/691 [==============================] - 11s 16ms/step - loss: 0.6751 - accuracy: 0.7455 - val_loss: 0.8307 - val_accuracy: 0.6836\n",
            "Epoch 39/200\n",
            "691/691 [==============================] - 11s 16ms/step - loss: 0.6735 - accuracy: 0.7443 - val_loss: 0.8090 - val_accuracy: 0.6910\n",
            "Epoch 40/200\n",
            "691/691 [==============================] - 11s 16ms/step - loss: 0.6520 - accuracy: 0.7508 - val_loss: 0.8404 - val_accuracy: 0.6891\n",
            "Epoch 41/200\n",
            "691/691 [==============================] - 11s 16ms/step - loss: 0.6520 - accuracy: 0.7554 - val_loss: 0.8165 - val_accuracy: 0.7054\n",
            "Epoch 42/200\n",
            "691/691 [==============================] - 11s 16ms/step - loss: 0.6365 - accuracy: 0.7614 - val_loss: 0.8196 - val_accuracy: 0.7108\n",
            "Epoch 43/200\n",
            "691/691 [==============================] - 11s 16ms/step - loss: 0.6223 - accuracy: 0.7685 - val_loss: 0.8313 - val_accuracy: 0.7081\n",
            "Epoch 44/200\n",
            "691/691 [==============================] - 11s 16ms/step - loss: 0.6176 - accuracy: 0.7681 - val_loss: 0.7894 - val_accuracy: 0.7054\n",
            "Epoch 45/200\n",
            "691/691 [==============================] - 11s 16ms/step - loss: 0.6130 - accuracy: 0.7683 - val_loss: 0.7979 - val_accuracy: 0.7100\n",
            "Epoch 46/200\n",
            "691/691 [==============================] - 11s 16ms/step - loss: 0.5927 - accuracy: 0.7803 - val_loss: 0.8596 - val_accuracy: 0.7070\n",
            "Epoch 47/200\n",
            "691/691 [==============================] - 11s 16ms/step - loss: 0.5946 - accuracy: 0.7791 - val_loss: 0.8081 - val_accuracy: 0.7146\n",
            "Epoch 48/200\n",
            "691/691 [==============================] - 11s 16ms/step - loss: 0.5759 - accuracy: 0.7843 - val_loss: 0.7554 - val_accuracy: 0.7336\n",
            "Epoch 49/200\n",
            "691/691 [==============================] - 11s 16ms/step - loss: 0.5739 - accuracy: 0.7849 - val_loss: 0.7953 - val_accuracy: 0.7176\n",
            "Epoch 50/200\n",
            "691/691 [==============================] - 11s 16ms/step - loss: 0.5677 - accuracy: 0.7883 - val_loss: 0.8008 - val_accuracy: 0.7079\n",
            "Epoch 51/200\n",
            "691/691 [==============================] - 11s 16ms/step - loss: 0.5655 - accuracy: 0.7876 - val_loss: 0.7592 - val_accuracy: 0.7254\n",
            "Epoch 52/200\n",
            "691/691 [==============================] - 11s 16ms/step - loss: 0.5507 - accuracy: 0.7956 - val_loss: 0.7825 - val_accuracy: 0.7311\n",
            "Epoch 53/200\n",
            "691/691 [==============================] - 11s 16ms/step - loss: 0.5445 - accuracy: 0.7935 - val_loss: 0.7346 - val_accuracy: 0.7330\n",
            "Epoch 54/200\n",
            "691/691 [==============================] - 11s 16ms/step - loss: 0.5324 - accuracy: 0.8026 - val_loss: 0.8828 - val_accuracy: 0.7197\n",
            "Epoch 55/200\n",
            "691/691 [==============================] - 11s 16ms/step - loss: 0.5247 - accuracy: 0.8039 - val_loss: 0.7994 - val_accuracy: 0.7332\n",
            "Epoch 56/200\n",
            "691/691 [==============================] - 11s 16ms/step - loss: 0.5156 - accuracy: 0.8075 - val_loss: 0.7066 - val_accuracy: 0.7607\n",
            "Epoch 57/200\n",
            "691/691 [==============================] - 11s 16ms/step - loss: 0.5148 - accuracy: 0.8069 - val_loss: 0.6892 - val_accuracy: 0.7583\n",
            "Epoch 58/200\n",
            "691/691 [==============================] - 11s 16ms/step - loss: 0.5105 - accuracy: 0.8107 - val_loss: 0.7214 - val_accuracy: 0.7583\n",
            "Epoch 59/200\n",
            "691/691 [==============================] - 11s 16ms/step - loss: 0.5008 - accuracy: 0.8152 - val_loss: 0.7756 - val_accuracy: 0.7385\n",
            "Epoch 60/200\n",
            "691/691 [==============================] - 11s 16ms/step - loss: 0.4907 - accuracy: 0.8183 - val_loss: 0.7255 - val_accuracy: 0.7566\n",
            "Epoch 61/200\n",
            "691/691 [==============================] - 11s 16ms/step - loss: 0.4816 - accuracy: 0.8187 - val_loss: 0.7249 - val_accuracy: 0.7528\n",
            "Epoch 62/200\n",
            "691/691 [==============================] - 11s 16ms/step - loss: 0.4851 - accuracy: 0.8197 - val_loss: 0.6698 - val_accuracy: 0.7735\n",
            "Epoch 63/200\n",
            "691/691 [==============================] - 11s 16ms/step - loss: 0.4616 - accuracy: 0.8279 - val_loss: 0.7115 - val_accuracy: 0.7626\n",
            "Epoch 64/200\n",
            "691/691 [==============================] - 11s 16ms/step - loss: 0.4497 - accuracy: 0.8330 - val_loss: 0.7080 - val_accuracy: 0.7742\n",
            "Epoch 65/200\n",
            "691/691 [==============================] - 11s 16ms/step - loss: 0.4477 - accuracy: 0.8356 - val_loss: 0.7519 - val_accuracy: 0.7543\n",
            "Epoch 66/200\n",
            "691/691 [==============================] - 11s 16ms/step - loss: 0.4527 - accuracy: 0.8328 - val_loss: 0.6823 - val_accuracy: 0.7782\n",
            "Epoch 67/200\n",
            "691/691 [==============================] - 11s 16ms/step - loss: 0.4346 - accuracy: 0.8408 - val_loss: 0.6335 - val_accuracy: 0.7818\n",
            "Epoch 68/200\n",
            "691/691 [==============================] - 11s 16ms/step - loss: 0.4409 - accuracy: 0.8346 - val_loss: 0.7051 - val_accuracy: 0.7714\n",
            "Epoch 69/200\n",
            "691/691 [==============================] - 11s 16ms/step - loss: 0.4265 - accuracy: 0.8423 - val_loss: 0.7485 - val_accuracy: 0.7602\n",
            "Epoch 70/200\n",
            "691/691 [==============================] - 11s 16ms/step - loss: 0.4183 - accuracy: 0.8425 - val_loss: 0.7205 - val_accuracy: 0.7554\n",
            "Epoch 71/200\n",
            "691/691 [==============================] - 11s 16ms/step - loss: 0.3972 - accuracy: 0.8536 - val_loss: 0.6250 - val_accuracy: 0.7991\n",
            "Epoch 72/200\n",
            "691/691 [==============================] - 11s 16ms/step - loss: 0.4089 - accuracy: 0.8491 - val_loss: 0.6453 - val_accuracy: 0.7835\n",
            "Epoch 73/200\n",
            "691/691 [==============================] - 11s 16ms/step - loss: 0.4095 - accuracy: 0.8491 - val_loss: 0.7263 - val_accuracy: 0.7765\n",
            "Epoch 74/200\n",
            "691/691 [==============================] - 11s 16ms/step - loss: 0.3947 - accuracy: 0.8550 - val_loss: 0.6437 - val_accuracy: 0.7925\n",
            "Epoch 75/200\n",
            "691/691 [==============================] - 11s 16ms/step - loss: 0.3981 - accuracy: 0.8540 - val_loss: 0.6641 - val_accuracy: 0.8012\n",
            "Epoch 76/200\n",
            "691/691 [==============================] - 11s 16ms/step - loss: 0.3743 - accuracy: 0.8619 - val_loss: 0.6563 - val_accuracy: 0.7927\n",
            "Epoch 77/200\n",
            "691/691 [==============================] - 11s 16ms/step - loss: 0.3830 - accuracy: 0.8592 - val_loss: 0.6506 - val_accuracy: 0.7974\n",
            "Epoch 78/200\n",
            "691/691 [==============================] - 11s 16ms/step - loss: 0.3781 - accuracy: 0.8631 - val_loss: 0.6392 - val_accuracy: 0.8031\n",
            "Epoch 79/200\n",
            "691/691 [==============================] - 11s 16ms/step - loss: 0.3671 - accuracy: 0.8663 - val_loss: 0.6155 - val_accuracy: 0.8029\n",
            "Epoch 80/200\n",
            "691/691 [==============================] - 11s 16ms/step - loss: 0.3500 - accuracy: 0.8715 - val_loss: 0.6534 - val_accuracy: 0.7978\n",
            "Epoch 81/200\n",
            "691/691 [==============================] - 11s 16ms/step - loss: 0.3610 - accuracy: 0.8674 - val_loss: 0.6066 - val_accuracy: 0.8107\n",
            "Epoch 82/200\n",
            "691/691 [==============================] - 11s 16ms/step - loss: 0.3382 - accuracy: 0.8751 - val_loss: 0.6816 - val_accuracy: 0.7864\n",
            "Epoch 83/200\n",
            "691/691 [==============================] - 11s 16ms/step - loss: 0.3378 - accuracy: 0.8744 - val_loss: 0.6904 - val_accuracy: 0.7959\n",
            "Epoch 84/200\n",
            "691/691 [==============================] - 11s 16ms/step - loss: 0.3444 - accuracy: 0.8736 - val_loss: 0.6897 - val_accuracy: 0.7927\n",
            "Epoch 85/200\n",
            "691/691 [==============================] - 11s 16ms/step - loss: 0.3284 - accuracy: 0.8817 - val_loss: 0.6379 - val_accuracy: 0.8081\n",
            "Epoch 86/200\n",
            "691/691 [==============================] - 11s 16ms/step - loss: 0.3145 - accuracy: 0.8854 - val_loss: 0.5800 - val_accuracy: 0.8181\n",
            "Epoch 87/200\n",
            "691/691 [==============================] - 11s 16ms/step - loss: 0.3321 - accuracy: 0.8774 - val_loss: 0.5984 - val_accuracy: 0.8198\n",
            "Epoch 88/200\n",
            "691/691 [==============================] - 11s 16ms/step - loss: 0.3207 - accuracy: 0.8834 - val_loss: 0.5943 - val_accuracy: 0.8278\n",
            "Epoch 89/200\n",
            "691/691 [==============================] - 11s 16ms/step - loss: 0.3146 - accuracy: 0.8867 - val_loss: 0.5284 - val_accuracy: 0.8331\n",
            "Epoch 90/200\n",
            "691/691 [==============================] - 11s 16ms/step - loss: 0.3066 - accuracy: 0.8885 - val_loss: 0.5892 - val_accuracy: 0.8293\n",
            "Epoch 91/200\n",
            "691/691 [==============================] - 11s 16ms/step - loss: 0.3134 - accuracy: 0.8880 - val_loss: 0.5661 - val_accuracy: 0.8312\n",
            "Epoch 92/200\n",
            "691/691 [==============================] - 11s 16ms/step - loss: 0.2965 - accuracy: 0.8914 - val_loss: 0.5812 - val_accuracy: 0.8189\n",
            "Epoch 93/200\n",
            "691/691 [==============================] - 11s 16ms/step - loss: 0.3045 - accuracy: 0.8877 - val_loss: 0.6078 - val_accuracy: 0.8200\n",
            "Epoch 94/200\n",
            "691/691 [==============================] - 11s 16ms/step - loss: 0.2931 - accuracy: 0.8958 - val_loss: 0.5663 - val_accuracy: 0.8299\n",
            "Epoch 95/200\n",
            "691/691 [==============================] - 11s 16ms/step - loss: 0.2957 - accuracy: 0.8929 - val_loss: 0.5244 - val_accuracy: 0.8337\n",
            "Epoch 96/200\n",
            "691/691 [==============================] - 11s 16ms/step - loss: 0.2832 - accuracy: 0.8973 - val_loss: 0.7112 - val_accuracy: 0.7976\n",
            "Epoch 97/200\n",
            "691/691 [==============================] - 11s 16ms/step - loss: 0.2838 - accuracy: 0.8994 - val_loss: 0.5113 - val_accuracy: 0.8499\n",
            "Epoch 98/200\n",
            "691/691 [==============================] - 11s 16ms/step - loss: 0.2717 - accuracy: 0.9018 - val_loss: 0.5264 - val_accuracy: 0.8459\n",
            "Epoch 99/200\n",
            "691/691 [==============================] - 11s 16ms/step - loss: 0.2616 - accuracy: 0.9050 - val_loss: 0.6327 - val_accuracy: 0.8210\n",
            "Epoch 100/200\n",
            "691/691 [==============================] - 12s 17ms/step - loss: 0.2543 - accuracy: 0.9088 - val_loss: 0.5996 - val_accuracy: 0.8415\n",
            "Epoch 101/200\n",
            "691/691 [==============================] - 12s 18ms/step - loss: 0.2519 - accuracy: 0.9094 - val_loss: 0.5455 - val_accuracy: 0.8489\n",
            "Epoch 102/200\n",
            "691/691 [==============================] - 12s 17ms/step - loss: 0.2610 - accuracy: 0.9033 - val_loss: 0.6085 - val_accuracy: 0.8293\n",
            "Epoch 103/200\n",
            "691/691 [==============================] - 11s 16ms/step - loss: 0.2465 - accuracy: 0.9111 - val_loss: 0.5324 - val_accuracy: 0.8407\n",
            "Epoch 104/200\n",
            "691/691 [==============================] - 11s 16ms/step - loss: 0.2503 - accuracy: 0.9106 - val_loss: 0.5337 - val_accuracy: 0.8518\n",
            "Epoch 105/200\n",
            "691/691 [==============================] - 11s 16ms/step - loss: 0.2198 - accuracy: 0.9213 - val_loss: 0.5228 - val_accuracy: 0.8677\n",
            "Epoch 106/200\n",
            "691/691 [==============================] - 11s 17ms/step - loss: 0.2214 - accuracy: 0.9208 - val_loss: 0.5349 - val_accuracy: 0.8463\n",
            "Epoch 107/200\n",
            "691/691 [==============================] - 11s 16ms/step - loss: 0.2324 - accuracy: 0.9156 - val_loss: 0.5504 - val_accuracy: 0.8415\n",
            "Epoch 108/200\n",
            "691/691 [==============================] - 12s 17ms/step - loss: 0.2373 - accuracy: 0.9156 - val_loss: 0.5061 - val_accuracy: 0.8634\n",
            "Epoch 109/200\n",
            "691/691 [==============================] - 12s 17ms/step - loss: 0.2181 - accuracy: 0.9230 - val_loss: 0.5840 - val_accuracy: 0.8478\n",
            "Epoch 110/200\n",
            "691/691 [==============================] - 12s 17ms/step - loss: 0.2260 - accuracy: 0.9174 - val_loss: 0.4986 - val_accuracy: 0.8628\n",
            "Epoch 111/200\n",
            "691/691 [==============================] - 11s 16ms/step - loss: 0.2289 - accuracy: 0.9185 - val_loss: 0.5791 - val_accuracy: 0.8407\n",
            "Epoch 112/200\n",
            "691/691 [==============================] - 11s 16ms/step - loss: 0.2088 - accuracy: 0.9267 - val_loss: 0.4926 - val_accuracy: 0.8723\n",
            "Epoch 113/200\n",
            "691/691 [==============================] - 11s 16ms/step - loss: 0.2132 - accuracy: 0.9246 - val_loss: 0.5001 - val_accuracy: 0.8677\n",
            "Epoch 114/200\n",
            "691/691 [==============================] - 11s 16ms/step - loss: 0.2011 - accuracy: 0.9271 - val_loss: 0.5283 - val_accuracy: 0.8622\n",
            "Epoch 115/200\n",
            "691/691 [==============================] - 11s 16ms/step - loss: 0.1960 - accuracy: 0.9312 - val_loss: 0.5333 - val_accuracy: 0.8719\n",
            "Epoch 116/200\n",
            "691/691 [==============================] - 11s 16ms/step - loss: 0.2023 - accuracy: 0.9270 - val_loss: 0.5075 - val_accuracy: 0.8675\n",
            "Epoch 117/200\n",
            "691/691 [==============================] - 11s 16ms/step - loss: 0.1947 - accuracy: 0.9298 - val_loss: 0.5461 - val_accuracy: 0.8725\n",
            "Epoch 118/200\n",
            "691/691 [==============================] - 11s 16ms/step - loss: 0.1943 - accuracy: 0.9315 - val_loss: 0.4696 - val_accuracy: 0.8742\n",
            "Epoch 119/200\n",
            "691/691 [==============================] - 12s 17ms/step - loss: 0.1850 - accuracy: 0.9344 - val_loss: 0.5057 - val_accuracy: 0.8748\n",
            "Epoch 120/200\n",
            "691/691 [==============================] - 11s 17ms/step - loss: 0.1950 - accuracy: 0.9310 - val_loss: 0.4950 - val_accuracy: 0.8746\n",
            "Epoch 121/200\n",
            "691/691 [==============================] - 12s 17ms/step - loss: 0.1869 - accuracy: 0.9332 - val_loss: 0.5565 - val_accuracy: 0.8516\n",
            "Epoch 122/200\n",
            "691/691 [==============================] - 12s 17ms/step - loss: 0.1656 - accuracy: 0.9412 - val_loss: 0.4885 - val_accuracy: 0.8702\n",
            "Epoch 123/200\n",
            "691/691 [==============================] - 11s 16ms/step - loss: 0.1735 - accuracy: 0.9374 - val_loss: 0.4675 - val_accuracy: 0.8725\n",
            "Epoch 124/200\n",
            "691/691 [==============================] - 11s 16ms/step - loss: 0.1758 - accuracy: 0.9379 - val_loss: 0.4607 - val_accuracy: 0.8829\n",
            "Epoch 125/200\n",
            "691/691 [==============================] - 11s 16ms/step - loss: 0.1587 - accuracy: 0.9437 - val_loss: 0.5275 - val_accuracy: 0.8827\n",
            "Epoch 126/200\n",
            "691/691 [==============================] - 11s 16ms/step - loss: 0.1638 - accuracy: 0.9441 - val_loss: 0.4866 - val_accuracy: 0.8793\n",
            "Epoch 127/200\n",
            "691/691 [==============================] - 11s 16ms/step - loss: 0.1620 - accuracy: 0.9431 - val_loss: 0.4864 - val_accuracy: 0.8782\n",
            "Epoch 128/200\n",
            "691/691 [==============================] - 11s 16ms/step - loss: 0.1609 - accuracy: 0.9442 - val_loss: 0.4502 - val_accuracy: 0.8888\n",
            "Epoch 129/200\n",
            "691/691 [==============================] - 11s 16ms/step - loss: 0.1515 - accuracy: 0.9459 - val_loss: 0.4969 - val_accuracy: 0.8803\n",
            "Epoch 130/200\n",
            "691/691 [==============================] - 11s 16ms/step - loss: 0.1562 - accuracy: 0.9458 - val_loss: 0.4593 - val_accuracy: 0.8934\n",
            "Epoch 131/200\n",
            "691/691 [==============================] - 11s 16ms/step - loss: 0.1445 - accuracy: 0.9499 - val_loss: 0.4690 - val_accuracy: 0.8852\n",
            "Epoch 132/200\n",
            "691/691 [==============================] - 11s 16ms/step - loss: 0.1500 - accuracy: 0.9482 - val_loss: 0.4611 - val_accuracy: 0.8871\n",
            "Epoch 133/200\n",
            "691/691 [==============================] - 11s 16ms/step - loss: 0.1428 - accuracy: 0.9485 - val_loss: 0.4693 - val_accuracy: 0.8924\n",
            "Epoch 134/200\n",
            "691/691 [==============================] - 11s 16ms/step - loss: 0.1429 - accuracy: 0.9487 - val_loss: 0.5334 - val_accuracy: 0.8789\n",
            "Epoch 135/200\n",
            "691/691 [==============================] - 11s 16ms/step - loss: 0.1439 - accuracy: 0.9492 - val_loss: 0.4605 - val_accuracy: 0.8881\n",
            "Epoch 136/200\n",
            "691/691 [==============================] - 11s 16ms/step - loss: 0.1522 - accuracy: 0.9464 - val_loss: 0.4369 - val_accuracy: 0.8837\n",
            "Epoch 137/200\n",
            "691/691 [==============================] - 11s 16ms/step - loss: 0.1603 - accuracy: 0.9421 - val_loss: 0.4901 - val_accuracy: 0.8757\n",
            "Epoch 138/200\n",
            "691/691 [==============================] - 11s 16ms/step - loss: 0.1531 - accuracy: 0.9458 - val_loss: 0.4733 - val_accuracy: 0.8913\n",
            "Epoch 139/200\n",
            "691/691 [==============================] - 11s 16ms/step - loss: 0.1467 - accuracy: 0.9481 - val_loss: 0.4422 - val_accuracy: 0.8928\n",
            "Epoch 140/200\n",
            "691/691 [==============================] - 11s 16ms/step - loss: 0.1471 - accuracy: 0.9487 - val_loss: 0.4308 - val_accuracy: 0.9035\n",
            "Epoch 141/200\n",
            "691/691 [==============================] - 11s 16ms/step - loss: 0.1433 - accuracy: 0.9497 - val_loss: 0.4564 - val_accuracy: 0.9025\n",
            "Epoch 142/200\n",
            "691/691 [==============================] - 11s 16ms/step - loss: 0.1333 - accuracy: 0.9529 - val_loss: 0.4188 - val_accuracy: 0.8943\n",
            "Epoch 143/200\n",
            "691/691 [==============================] - 11s 16ms/step - loss: 0.1356 - accuracy: 0.9538 - val_loss: 0.3910 - val_accuracy: 0.9067\n",
            "Epoch 144/200\n",
            "691/691 [==============================] - 11s 16ms/step - loss: 0.1279 - accuracy: 0.9561 - val_loss: 0.4055 - val_accuracy: 0.9111\n",
            "Epoch 145/200\n",
            "691/691 [==============================] - 11s 16ms/step - loss: 0.1367 - accuracy: 0.9519 - val_loss: 0.3952 - val_accuracy: 0.9078\n",
            "Epoch 146/200\n",
            "691/691 [==============================] - 11s 16ms/step - loss: 0.1282 - accuracy: 0.9556 - val_loss: 0.4581 - val_accuracy: 0.8968\n",
            "Epoch 147/200\n",
            "691/691 [==============================] - 11s 16ms/step - loss: 0.1330 - accuracy: 0.9543 - val_loss: 0.4574 - val_accuracy: 0.8894\n",
            "Epoch 148/200\n",
            "691/691 [==============================] - 11s 16ms/step - loss: 0.1276 - accuracy: 0.9564 - val_loss: 0.3973 - val_accuracy: 0.9118\n",
            "Epoch 149/200\n",
            "691/691 [==============================] - 11s 16ms/step - loss: 0.1182 - accuracy: 0.9590 - val_loss: 0.3888 - val_accuracy: 0.9090\n",
            "Epoch 150/200\n",
            "691/691 [==============================] - 11s 16ms/step - loss: 0.1129 - accuracy: 0.9607 - val_loss: 0.4806 - val_accuracy: 0.8978\n",
            "Epoch 151/200\n",
            "691/691 [==============================] - 11s 16ms/step - loss: 0.1181 - accuracy: 0.9590 - val_loss: 0.3739 - val_accuracy: 0.9126\n",
            "Epoch 152/200\n",
            "691/691 [==============================] - 11s 16ms/step - loss: 0.1232 - accuracy: 0.9564 - val_loss: 0.3820 - val_accuracy: 0.9046\n",
            "Epoch 153/200\n",
            "691/691 [==============================] - 11s 16ms/step - loss: 0.1261 - accuracy: 0.9567 - val_loss: 0.4639 - val_accuracy: 0.8930\n",
            "Epoch 154/200\n",
            "691/691 [==============================] - 11s 16ms/step - loss: 0.0998 - accuracy: 0.9657 - val_loss: 0.4903 - val_accuracy: 0.8938\n",
            "Epoch 155/200\n",
            "691/691 [==============================] - 11s 16ms/step - loss: 0.1120 - accuracy: 0.9613 - val_loss: 0.5121 - val_accuracy: 0.8850\n",
            "Epoch 156/200\n",
            "691/691 [==============================] - 11s 17ms/step - loss: 0.1110 - accuracy: 0.9622 - val_loss: 0.4623 - val_accuracy: 0.9086\n",
            "Epoch 157/200\n",
            "691/691 [==============================] - 11s 16ms/step - loss: 0.1013 - accuracy: 0.9654 - val_loss: 0.4546 - val_accuracy: 0.8997\n",
            "Epoch 158/200\n",
            "691/691 [==============================] - 11s 16ms/step - loss: 0.1163 - accuracy: 0.9589 - val_loss: 0.4622 - val_accuracy: 0.8894\n",
            "Epoch 159/200\n",
            "691/691 [==============================] - 11s 16ms/step - loss: 0.1080 - accuracy: 0.9622 - val_loss: 0.5001 - val_accuracy: 0.8985\n",
            "Epoch 160/200\n",
            "691/691 [==============================] - 11s 16ms/step - loss: 0.1198 - accuracy: 0.9582 - val_loss: 0.4105 - val_accuracy: 0.9038\n",
            "Epoch 161/200\n",
            "691/691 [==============================] - 11s 16ms/step - loss: 0.1080 - accuracy: 0.9622 - val_loss: 0.3385 - val_accuracy: 0.9168\n",
            "Epoch 162/200\n",
            "691/691 [==============================] - 11s 16ms/step - loss: 0.1163 - accuracy: 0.9596 - val_loss: 0.3967 - val_accuracy: 0.9095\n",
            "Epoch 163/200\n",
            "691/691 [==============================] - 11s 16ms/step - loss: 0.1059 - accuracy: 0.9649 - val_loss: 0.4089 - val_accuracy: 0.9225\n",
            "Epoch 164/200\n",
            "691/691 [==============================] - 11s 16ms/step - loss: 0.1023 - accuracy: 0.9649 - val_loss: 0.4141 - val_accuracy: 0.9101\n",
            "Epoch 165/200\n",
            "691/691 [==============================] - 11s 16ms/step - loss: 0.0975 - accuracy: 0.9656 - val_loss: 0.4713 - val_accuracy: 0.8883\n",
            "Epoch 166/200\n",
            "691/691 [==============================] - 11s 16ms/step - loss: 0.0991 - accuracy: 0.9662 - val_loss: 0.4243 - val_accuracy: 0.9063\n",
            "Epoch 167/200\n",
            "691/691 [==============================] - 11s 16ms/step - loss: 0.0846 - accuracy: 0.9712 - val_loss: 0.4193 - val_accuracy: 0.9035\n",
            "Epoch 168/200\n",
            "691/691 [==============================] - 11s 16ms/step - loss: 0.1129 - accuracy: 0.9608 - val_loss: 0.4557 - val_accuracy: 0.9040\n",
            "Epoch 169/200\n",
            "691/691 [==============================] - 11s 16ms/step - loss: 0.1012 - accuracy: 0.9645 - val_loss: 0.4616 - val_accuracy: 0.9040\n",
            "Epoch 170/200\n",
            "691/691 [==============================] - 11s 16ms/step - loss: 0.0930 - accuracy: 0.9688 - val_loss: 0.4475 - val_accuracy: 0.9071\n",
            "Epoch 171/200\n",
            "691/691 [==============================] - 11s 16ms/step - loss: 0.0894 - accuracy: 0.9689 - val_loss: 0.3938 - val_accuracy: 0.9198\n",
            "Epoch 172/200\n",
            "691/691 [==============================] - 11s 16ms/step - loss: 0.0879 - accuracy: 0.9700 - val_loss: 0.4217 - val_accuracy: 0.9219\n",
            "Epoch 173/200\n",
            "691/691 [==============================] - 11s 16ms/step - loss: 0.0906 - accuracy: 0.9690 - val_loss: 0.3646 - val_accuracy: 0.9162\n",
            "Epoch 174/200\n",
            "691/691 [==============================] - 11s 16ms/step - loss: 0.0838 - accuracy: 0.9719 - val_loss: 0.4444 - val_accuracy: 0.9126\n",
            "Epoch 175/200\n",
            "691/691 [==============================] - 11s 16ms/step - loss: 0.0861 - accuracy: 0.9700 - val_loss: 0.3859 - val_accuracy: 0.9236\n",
            "Epoch 176/200\n",
            "691/691 [==============================] - 11s 16ms/step - loss: 0.0866 - accuracy: 0.9708 - val_loss: 0.3974 - val_accuracy: 0.9143\n",
            "Epoch 177/200\n",
            "691/691 [==============================] - 11s 16ms/step - loss: 0.0903 - accuracy: 0.9688 - val_loss: 0.4216 - val_accuracy: 0.9067\n",
            "Epoch 178/200\n",
            "691/691 [==============================] - 11s 16ms/step - loss: 0.0937 - accuracy: 0.9675 - val_loss: 0.3747 - val_accuracy: 0.9211\n",
            "Epoch 179/200\n",
            "691/691 [==============================] - 11s 16ms/step - loss: 0.0865 - accuracy: 0.9711 - val_loss: 0.3310 - val_accuracy: 0.9417\n",
            "Epoch 180/200\n",
            "691/691 [==============================] - 12s 17ms/step - loss: 0.0748 - accuracy: 0.9743 - val_loss: 0.3629 - val_accuracy: 0.9335\n",
            "Epoch 181/200\n",
            "691/691 [==============================] - 12s 17ms/step - loss: 0.0754 - accuracy: 0.9753 - val_loss: 0.3570 - val_accuracy: 0.9337\n",
            "Epoch 182/200\n",
            "691/691 [==============================] - 11s 16ms/step - loss: 0.0807 - accuracy: 0.9732 - val_loss: 0.3676 - val_accuracy: 0.9200\n",
            "Epoch 183/200\n",
            "691/691 [==============================] - 11s 16ms/step - loss: 0.0840 - accuracy: 0.9722 - val_loss: 0.3890 - val_accuracy: 0.9247\n",
            "Epoch 184/200\n",
            "691/691 [==============================] - 12s 17ms/step - loss: 0.0650 - accuracy: 0.9783 - val_loss: 0.3901 - val_accuracy: 0.9301\n",
            "Epoch 185/200\n",
            "691/691 [==============================] - 12s 18ms/step - loss: 0.0719 - accuracy: 0.9763 - val_loss: 0.4100 - val_accuracy: 0.9280\n",
            "Epoch 186/200\n",
            "691/691 [==============================] - 12s 17ms/step - loss: 0.0824 - accuracy: 0.9720 - val_loss: 0.3574 - val_accuracy: 0.9295\n",
            "Epoch 187/200\n",
            "691/691 [==============================] - 12s 17ms/step - loss: 0.0745 - accuracy: 0.9753 - val_loss: 0.4129 - val_accuracy: 0.9232\n",
            "Epoch 188/200\n",
            "691/691 [==============================] - 12s 17ms/step - loss: 0.0763 - accuracy: 0.9737 - val_loss: 0.4262 - val_accuracy: 0.9071\n",
            "Epoch 189/200\n",
            "691/691 [==============================] - 12s 17ms/step - loss: 0.0795 - accuracy: 0.9720 - val_loss: 0.4081 - val_accuracy: 0.9278\n",
            "Epoch 190/200\n",
            "691/691 [==============================] - 11s 16ms/step - loss: 0.0645 - accuracy: 0.9777 - val_loss: 0.3814 - val_accuracy: 0.9285\n",
            "Epoch 191/200\n",
            "691/691 [==============================] - 11s 17ms/step - loss: 0.0664 - accuracy: 0.9777 - val_loss: 0.3868 - val_accuracy: 0.9238\n",
            "Epoch 192/200\n",
            "691/691 [==============================] - 11s 16ms/step - loss: 0.0688 - accuracy: 0.9773 - val_loss: 0.4232 - val_accuracy: 0.9183\n",
            "Epoch 193/200\n",
            "691/691 [==============================] - 11s 16ms/step - loss: 0.0780 - accuracy: 0.9726 - val_loss: 0.3655 - val_accuracy: 0.9268\n",
            "Epoch 194/200\n",
            "691/691 [==============================] - 11s 16ms/step - loss: 0.0780 - accuracy: 0.9734 - val_loss: 0.3436 - val_accuracy: 0.9329\n",
            "Epoch 195/200\n",
            "691/691 [==============================] - 12s 17ms/step - loss: 0.0691 - accuracy: 0.9771 - val_loss: 0.3760 - val_accuracy: 0.9249\n",
            "Epoch 196/200\n",
            "691/691 [==============================] - 12s 17ms/step - loss: 0.0814 - accuracy: 0.9734 - val_loss: 0.3679 - val_accuracy: 0.9285\n",
            "Epoch 197/200\n",
            "691/691 [==============================] - 11s 16ms/step - loss: 0.0818 - accuracy: 0.9719 - val_loss: 0.3210 - val_accuracy: 0.9388\n",
            "Epoch 198/200\n",
            "691/691 [==============================] - 11s 16ms/step - loss: 0.0673 - accuracy: 0.9773 - val_loss: 0.3283 - val_accuracy: 0.9371\n",
            "Epoch 199/200\n",
            "691/691 [==============================] - 11s 16ms/step - loss: 0.0666 - accuracy: 0.9776 - val_loss: 0.3682 - val_accuracy: 0.9255\n",
            "Epoch 200/200\n",
            "691/691 [==============================] - 11s 16ms/step - loss: 0.0697 - accuracy: 0.9764 - val_loss: 0.3984 - val_accuracy: 0.9280\n"
          ]
        },
        {
          "data": {
            "text/plain": [
              "<keras.callbacks.History at 0x2eed48b50>"
            ]
          },
          "execution_count": 30,
          "metadata": {},
          "output_type": "execute_result"
        }
      ],
      "source": [
        "model.fit(X_train, {\n",
        "    # 'gender': y_gender_train,\n",
        "                    'emotion': y_emotion_train,\n",
        "                    # 'age': y_age_train\n",
        "                    },\n",
        "          validation_data=(X_val, {\n",
        "            # 'gender': y_gender_val,\n",
        "                                    'emotion': y_emotion_val,\n",
        "                                    # 'age': y_age_val\n",
        "                                    }),\n",
        "          epochs=200, batch_size=32)"
      ]
    },
    {
      "cell_type": "code",
      "execution_count": 31,
      "metadata": {},
      "outputs": [],
      "source": [
        "model.save(\"../../pre-trained_models/Individual Models/emotion_MLP_model.keras\")"
      ]
    },
    {
      "cell_type": "code",
      "execution_count": 32,
      "metadata": {
        "colab": {
          "base_uri": "https://localhost:8080/"
        },
        "id": "zeN-Ct6PkHWI",
        "outputId": "66e52a2a-1013-451a-f64d-1bec5caf17db"
      },
      "outputs": [
        {
          "ename": "NameError",
          "evalue": "name 'y_gender_test' is not defined",
          "output_type": "error",
          "traceback": [
            "\u001b[0;31m---------------------------------------------------------------------------\u001b[0m",
            "\u001b[0;31mNameError\u001b[0m                                 Traceback (most recent call last)",
            "Cell \u001b[0;32mIn[32], line 2\u001b[0m\n\u001b[1;32m      1\u001b[0m \u001b[39m# Evaluate the model\u001b[39;00m\n\u001b[0;32m----> 2\u001b[0m losses \u001b[39m=\u001b[39m model\u001b[39m.\u001b[39mevaluate(X_test, {\u001b[39m'\u001b[39m\u001b[39mgender\u001b[39m\u001b[39m'\u001b[39m: y_gender_test,\n\u001b[1;32m      3\u001b[0m                                  \u001b[39m'\u001b[39m\u001b[39memotion\u001b[39m\u001b[39m'\u001b[39m: y_emotion_test,\n\u001b[1;32m      4\u001b[0m                                  \u001b[39m'\u001b[39m\u001b[39mage\u001b[39m\u001b[39m'\u001b[39m: y_age_test})\n\u001b[1;32m      5\u001b[0m \u001b[39mprint\u001b[39m(\u001b[39m'\u001b[39m\u001b[39mGender Loss:\u001b[39m\u001b[39m'\u001b[39m, losses[\u001b[39m1\u001b[39m])\n\u001b[1;32m      6\u001b[0m \u001b[39mprint\u001b[39m(\u001b[39m'\u001b[39m\u001b[39mEmotion Loss:\u001b[39m\u001b[39m'\u001b[39m, losses[\u001b[39m2\u001b[39m])\n",
            "\u001b[0;31mNameError\u001b[0m: name 'y_gender_test' is not defined"
          ]
        }
      ],
      "source": [
        "# Evaluate the model\n",
        "losses = model.evaluate(X_test, {'gender': y_gender_test,\n",
        "                                 'emotion': y_emotion_test,\n",
        "                                 'age': y_age_test})\n",
        "print('Gender Loss:', losses[1])\n",
        "print('Emotion Loss:', losses[2])\n",
        "print('Age Loss:', losses[3])\n",
        "print('Gender Accuracy:', losses[4])\n",
        "print('Emotion Accuracy:', losses[5])\n",
        "print('Age Accuracy:', losses[6])\n"
      ]
    },
    {
      "cell_type": "code",
      "execution_count": null,
      "metadata": {
        "id": "rhJylXWFAoYT"
      },
      "outputs": [],
      "source": [
        "from sklearn.metrics import confusion_matrix, f1_score\n",
        "import numpy as np\n",
        "import matplotlib.pyplot as plt"
      ]
    },
    {
      "cell_type": "code",
      "execution_count": null,
      "metadata": {
        "colab": {
          "base_uri": "https://localhost:8080/"
        },
        "id": "FVWgjdqWApDX",
        "outputId": "e7d8b3cd-7b0a-4889-bcae-924861e5b866"
      },
      "outputs": [
        {
          "name": "stdout",
          "output_type": "stream",
          "text": [
            " 35/149 [======>.......................] - ETA: 0s"
          ]
        },
        {
          "name": "stderr",
          "output_type": "stream",
          "text": [
            "2023-09-06 23:06:58.122785: I tensorflow/core/grappler/optimizers/custom_graph_optimizer_registry.cc:114] Plugin optimizer for device_type GPU is enabled.\n"
          ]
        },
        {
          "name": "stdout",
          "output_type": "stream",
          "text": [
            "149/149 [==============================] - 1s 3ms/step\n"
          ]
        }
      ],
      "source": [
        "y_pred = model.predict(X_test)"
      ]
    },
    {
      "cell_type": "code",
      "execution_count": null,
      "metadata": {
        "id": "xr0ucgDmAqs1"
      },
      "outputs": [],
      "source": [
        "y_gender_pred = (y_pred[0] > 0.5).astype(int)\n",
        "y_emotion_pred = np.argmax(y_pred[1], axis=1)\n",
        "y_age_pred = np.argmax(y_pred[2], axis=1)\n"
      ]
    },
    {
      "cell_type": "code",
      "execution_count": null,
      "metadata": {
        "colab": {
          "base_uri": "https://localhost:8080/"
        },
        "id": "z0YcdZHPBpkP",
        "outputId": "8fcf5553-66f3-4a4e-fa20-2ba4106d4c6d"
      },
      "outputs": [
        {
          "data": {
            "text/plain": [
              "{0, 1, 2, 3, 4, 5}"
            ]
          },
          "execution_count": 37,
          "metadata": {},
          "output_type": "execute_result"
        }
      ],
      "source": [
        "set(y_age_pred)"
      ]
    },
    {
      "cell_type": "code",
      "execution_count": null,
      "metadata": {
        "colab": {
          "base_uri": "https://localhost:8080/"
        },
        "id": "VX5jOYfdDGTo",
        "outputId": "344de392-5459-48d8-87c9-ee9dc8dd6972"
      },
      "outputs": [
        {
          "data": {
            "text/plain": [
              "(4738, 1)"
            ]
          },
          "execution_count": 38,
          "metadata": {},
          "output_type": "execute_result"
        }
      ],
      "source": [
        "y_gender_test.shape"
      ]
    },
    {
      "cell_type": "code",
      "execution_count": null,
      "metadata": {
        "colab": {
          "base_uri": "https://localhost:8080/"
        },
        "id": "be54ROyZDOuD",
        "outputId": "9c4901bb-98ab-4015-9e40-90b138b3d7f9"
      },
      "outputs": [
        {
          "data": {
            "text/plain": [
              "(4738, 1)"
            ]
          },
          "execution_count": 39,
          "metadata": {},
          "output_type": "execute_result"
        }
      ],
      "source": [
        "y_gender_pred.shape"
      ]
    },
    {
      "cell_type": "code",
      "execution_count": null,
      "metadata": {
        "id": "oKXJ7bljCBpV"
      },
      "outputs": [],
      "source": [
        "gender_cm = confusion_matrix(y_gender_test, y_gender_pred)\n",
        "emotion_cm = confusion_matrix(np.argmax(y_emotion_test, axis=1), y_emotion_pred)\n",
        "age_cm = confusion_matrix(np.argmax(y_age_test, axis=1), y_age_pred)"
      ]
    },
    {
      "cell_type": "code",
      "execution_count": null,
      "metadata": {
        "id": "epzdaREbCq79"
      },
      "outputs": [],
      "source": [
        "gender_f1 = f1_score(y_gender_test, y_gender_pred, average='macro')\n",
        "emotion_f1 = f1_score(np.argmax(y_emotion_test, axis=1), y_emotion_pred, average='macro')\n",
        "age_f1 = f1_score(np.argmax(y_age_test, axis=1), y_age_pred, average='macro')"
      ]
    },
    {
      "cell_type": "code",
      "execution_count": null,
      "metadata": {
        "colab": {
          "base_uri": "https://localhost:8080/",
          "height": 557
        },
        "id": "TK3JNz1JDaic",
        "outputId": "f7aa2302-ca7a-4be7-ebcf-55d1c103428c"
      },
      "outputs": [
        {
          "data": {
            "image/png": "[encoded data removed]",
            "text/plain": [
              "<Figure size 2000x600 with 6 Axes>"
            ]
          },
          "metadata": {},
          "output_type": "display_data"
        }
      ],
      "source": [
        "labels_gender = ['Male', 'Female']\n",
        "labels_emotion = ['Anger', 'Anxiety/Fear', 'Disgust', 'Happiness', 'Neutral', 'Sadness']\n",
        "labels_age = ['Twenties', 'Thirties', 'Forties', 'Fifties', 'Sixties', 'Seventies']\n",
        "\n",
        "\n",
        "fig, axes = plt.subplots(1, 3, figsize=(20, 6))\n",
        "sns.heatmap(gender_cm, annot=True, cmap='Blues', fmt='d', ax=axes[0])\n",
        "axes[0].set_xticks(np.arange(len(labels_gender)) + 0.5)\n",
        "axes[0].set_yticks(np.arange(len(labels_gender)) + 0.5)\n",
        "axes[0].set_xticklabels(labels_gender)\n",
        "axes[0].set_yticklabels(labels_gender)\n",
        "axes[0].set_xlabel('Predicted')\n",
        "axes[0].set_ylabel('True')\n",
        "axes[0].set_title('Gender Confusion Matrix')\n",
        "\n",
        "sns.heatmap(emotion_cm, annot=True, cmap='Blues', fmt='d', ax=axes[1])\n",
        "axes[1].set_xticks(np.arange(len(labels_emotion)) + 0.5)\n",
        "axes[1].set_yticks(np.arange(len(labels_emotion)) + 0.5)\n",
        "axes[1].set_xticklabels(labels_emotion, rotation=45)\n",
        "axes[1].set_yticklabels(labels_emotion)\n",
        "axes[1].set_xlabel('Predicted')\n",
        "axes[1].set_ylabel('True')\n",
        "axes[1].set_title('Emotion Confusion Matrix')\n",
        "\n",
        "sns.heatmap(age_cm, annot=True, cmap='Blues', fmt='d', ax=axes[2])\n",
        "axes[2].set_xticks(np.arange(len(labels_age)) + 0.5)\n",
        "axes[2].set_yticks(np.arange(len(labels_age)) + 0.5)\n",
        "axes[2].set_xticklabels(labels_age, rotation=45)\n",
        "axes[2].set_yticklabels(labels_age)\n",
        "axes[2].set_xlabel('Predicted')\n",
        "axes[2].set_ylabel('True')\n",
        "axes[2].set_title('Age Confusion Matrix')\n",
        "\n",
        "plt.tight_layout()\n",
        "plt.show()"
      ]
    },
    {
      "cell_type": "code",
      "execution_count": null,
      "metadata": {
        "colab": {
          "base_uri": "https://localhost:8080/"
        },
        "id": "tseov2bRDdpE",
        "outputId": "bad7a2f2-eaa5-407e-9472-2036fc9e4ca7"
      },
      "outputs": [
        {
          "name": "stdout",
          "output_type": "stream",
          "text": [
            "Gender F1 Score: 0.9543053294553742\n",
            "Emotion F1 Score: 0.9026527712361093\n",
            "Age F1 Score: 0.88475905141938\n"
          ]
        }
      ],
      "source": [
        "print('Gender F1 Score:', gender_f1)\n",
        "print('Emotion F1 Score:', emotion_f1)\n",
        "print('Age F1 Score:', age_f1)"
      ]
    },
    {
      "cell_type": "code",
      "execution_count": null,
      "metadata": {
        "id": "Rhtg-QGYO2gg"
      },
      "outputs": [],
      "source": []
    },
    {
      "cell_type": "code",
      "execution_count": null,
      "metadata": {},
      "outputs": [],
      "source": []
    }
  ],
  "metadata": {
    "accelerator": "GPU",
    "colab": {
      "gpuType": "T4",
      "provenance": []
    },
    "kernelspec": {
      "display_name": "Python 3",
      "name": "python3"
    },
    "language_info": {
      "codemirror_mode": {
        "name": "ipython",
        "version": 3
      },
      "file_extension": ".py",
      "mimetype": "text/x-python",
      "name": "python",
      "nbconvert_exporter": "python",
      "pygments_lexer": "ipython3",
      "version": "3.10.12"
    }
  },
  "nbformat": 4,
  "nbformat_minor": 0
}
