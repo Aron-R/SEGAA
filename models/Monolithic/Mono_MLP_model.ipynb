{
  "cells": [
    {
      "cell_type": "code",
      "execution_count": 2,
      "metadata": {
        "id": "i1aq_TY0geND"
      },
      "outputs": [],
      "source": [
        "import numpy as np\n",
        "import pandas as pd\n",
        "from sklearn.decomposition import PCA\n",
        "from sklearn.model_selection import train_test_split\n",
        "import seaborn as sns\n",
        "from tensorflow.keras.models import Model\n",
        "from tensorflow.keras.layers import Input, Dense,BatchNormalization, Dropout\n",
        "from keras.optimizers import SGD"
      ]
    },
    {
      "cell_type": "code",
      "execution_count": 3,
      "metadata": {
        "id": "QlzKsVO1g695"
      },
      "outputs": [],
      "source": [
        "dataset_path = '../../data/features_age_emotion.csv'\n",
        "data = pd.read_csv(dataset_path)"
      ]
    },
    {
      "cell_type": "code",
      "execution_count": 4,
      "metadata": {},
      "outputs": [
        {
          "data": {
            "text/plain": [
              "Index(['0', '1', '2', '3', '4', '5', '6', '7', '8', '9',\n",
              "       ...\n",
              "       '2853', '2854', '2855', '2856', '2857', '2858', '2859', 'age', 'gender',\n",
              "       'emotion'],\n",
              "      dtype='object', length=2863)"
            ]
          },
          "execution_count": 4,
          "metadata": {},
          "output_type": "execute_result"
        }
      ],
      "source": [
        "data.columns"
      ]
    },
    {
      "cell_type": "code",
      "execution_count": 5,
      "metadata": {
        "colab": {
          "base_uri": "https://localhost:8080/",
          "height": 236
        },
        "id": "yVtX6jERhMt5",
        "outputId": "96cbe5fb-7254-47d0-d3a2-af8d84a96267"
      },
      "outputs": [
        {
          "data": {
            "text/html": [
              "<div>\n",
              "<style scoped>\n",
              "    .dataframe tbody tr th:only-of-type {\n",
              "        vertical-align: middle;\n",
              "    }\n",
              "\n",
              "    .dataframe tbody tr th {\n",
              "        vertical-align: top;\n",
              "    }\n",
              "\n",
              "    .dataframe thead th {\n",
              "        text-align: right;\n",
              "    }\n",
              "</style>\n",
              "<table border=\"1\" class=\"dataframe\">\n",
              "  <thead>\n",
              "    <tr style=\"text-align: right;\">\n",
              "      <th></th>\n",
              "      <th>0</th>\n",
              "      <th>1</th>\n",
              "      <th>2</th>\n",
              "      <th>3</th>\n",
              "      <th>4</th>\n",
              "      <th>5</th>\n",
              "      <th>6</th>\n",
              "      <th>7</th>\n",
              "      <th>8</th>\n",
              "      <th>9</th>\n",
              "      <th>...</th>\n",
              "      <th>2853</th>\n",
              "      <th>2854</th>\n",
              "      <th>2855</th>\n",
              "      <th>2856</th>\n",
              "      <th>2857</th>\n",
              "      <th>2858</th>\n",
              "      <th>2859</th>\n",
              "      <th>age</th>\n",
              "      <th>gender</th>\n",
              "      <th>emotion</th>\n",
              "    </tr>\n",
              "  </thead>\n",
              "  <tbody>\n",
              "    <tr>\n",
              "      <th>0</th>\n",
              "      <td>0.017090</td>\n",
              "      <td>0.024902</td>\n",
              "      <td>0.028809</td>\n",
              "      <td>0.045410</td>\n",
              "      <td>0.074707</td>\n",
              "      <td>0.100098</td>\n",
              "      <td>0.119141</td>\n",
              "      <td>0.110840</td>\n",
              "      <td>0.088867</td>\n",
              "      <td>0.067383</td>\n",
              "      <td>...</td>\n",
              "      <td>NaN</td>\n",
              "      <td>NaN</td>\n",
              "      <td>NaN</td>\n",
              "      <td>NaN</td>\n",
              "      <td>NaN</td>\n",
              "      <td>NaN</td>\n",
              "      <td>NaN</td>\n",
              "      <td>51</td>\n",
              "      <td>male</td>\n",
              "      <td>anger</td>\n",
              "    </tr>\n",
              "    <tr>\n",
              "      <th>1</th>\n",
              "      <td>0.182129</td>\n",
              "      <td>0.256836</td>\n",
              "      <td>0.350098</td>\n",
              "      <td>0.351074</td>\n",
              "      <td>0.281738</td>\n",
              "      <td>0.240234</td>\n",
              "      <td>0.170410</td>\n",
              "      <td>0.110840</td>\n",
              "      <td>0.089844</td>\n",
              "      <td>0.068359</td>\n",
              "      <td>...</td>\n",
              "      <td>NaN</td>\n",
              "      <td>NaN</td>\n",
              "      <td>NaN</td>\n",
              "      <td>NaN</td>\n",
              "      <td>NaN</td>\n",
              "      <td>NaN</td>\n",
              "      <td>NaN</td>\n",
              "      <td>51</td>\n",
              "      <td>male</td>\n",
              "      <td>anger</td>\n",
              "    </tr>\n",
              "    <tr>\n",
              "      <th>2</th>\n",
              "      <td>0.015625</td>\n",
              "      <td>0.029297</td>\n",
              "      <td>0.070801</td>\n",
              "      <td>0.104004</td>\n",
              "      <td>0.132324</td>\n",
              "      <td>0.149414</td>\n",
              "      <td>0.131836</td>\n",
              "      <td>0.109863</td>\n",
              "      <td>0.092773</td>\n",
              "      <td>0.076660</td>\n",
              "      <td>...</td>\n",
              "      <td>NaN</td>\n",
              "      <td>NaN</td>\n",
              "      <td>NaN</td>\n",
              "      <td>NaN</td>\n",
              "      <td>NaN</td>\n",
              "      <td>NaN</td>\n",
              "      <td>NaN</td>\n",
              "      <td>51</td>\n",
              "      <td>male</td>\n",
              "      <td>anger</td>\n",
              "    </tr>\n",
              "    <tr>\n",
              "      <th>3</th>\n",
              "      <td>0.076660</td>\n",
              "      <td>0.113770</td>\n",
              "      <td>0.167969</td>\n",
              "      <td>0.180176</td>\n",
              "      <td>0.173340</td>\n",
              "      <td>0.166992</td>\n",
              "      <td>0.136719</td>\n",
              "      <td>0.109863</td>\n",
              "      <td>0.091309</td>\n",
              "      <td>0.075684</td>\n",
              "      <td>...</td>\n",
              "      <td>NaN</td>\n",
              "      <td>NaN</td>\n",
              "      <td>NaN</td>\n",
              "      <td>NaN</td>\n",
              "      <td>NaN</td>\n",
              "      <td>NaN</td>\n",
              "      <td>NaN</td>\n",
              "      <td>51</td>\n",
              "      <td>male</td>\n",
              "      <td>anger</td>\n",
              "    </tr>\n",
              "    <tr>\n",
              "      <th>4</th>\n",
              "      <td>0.015137</td>\n",
              "      <td>0.031738</td>\n",
              "      <td>0.036621</td>\n",
              "      <td>0.041504</td>\n",
              "      <td>0.037109</td>\n",
              "      <td>0.026855</td>\n",
              "      <td>0.029297</td>\n",
              "      <td>0.029297</td>\n",
              "      <td>0.035645</td>\n",
              "      <td>0.067383</td>\n",
              "      <td>...</td>\n",
              "      <td>NaN</td>\n",
              "      <td>NaN</td>\n",
              "      <td>NaN</td>\n",
              "      <td>NaN</td>\n",
              "      <td>NaN</td>\n",
              "      <td>NaN</td>\n",
              "      <td>NaN</td>\n",
              "      <td>51</td>\n",
              "      <td>male</td>\n",
              "      <td>disgust</td>\n",
              "    </tr>\n",
              "  </tbody>\n",
              "</table>\n",
              "<p>5 rows × 2863 columns</p>\n",
              "</div>"
            ],
            "text/plain": [
              "          0         1         2         3         4         5         6  \\\n",
              "0  0.017090  0.024902  0.028809  0.045410  0.074707  0.100098  0.119141   \n",
              "1  0.182129  0.256836  0.350098  0.351074  0.281738  0.240234  0.170410   \n",
              "2  0.015625  0.029297  0.070801  0.104004  0.132324  0.149414  0.131836   \n",
              "3  0.076660  0.113770  0.167969  0.180176  0.173340  0.166992  0.136719   \n",
              "4  0.015137  0.031738  0.036621  0.041504  0.037109  0.026855  0.029297   \n",
              "\n",
              "          7         8         9  ...  2853  2854  2855  2856  2857  2858  \\\n",
              "0  0.110840  0.088867  0.067383  ...   NaN   NaN   NaN   NaN   NaN   NaN   \n",
              "1  0.110840  0.089844  0.068359  ...   NaN   NaN   NaN   NaN   NaN   NaN   \n",
              "2  0.109863  0.092773  0.076660  ...   NaN   NaN   NaN   NaN   NaN   NaN   \n",
              "3  0.109863  0.091309  0.075684  ...   NaN   NaN   NaN   NaN   NaN   NaN   \n",
              "4  0.029297  0.035645  0.067383  ...   NaN   NaN   NaN   NaN   NaN   NaN   \n",
              "\n",
              "   2859  age  gender  emotion  \n",
              "0   NaN   51    male    anger  \n",
              "1   NaN   51    male    anger  \n",
              "2   NaN   51    male    anger  \n",
              "3   NaN   51    male    anger  \n",
              "4   NaN   51    male  disgust  \n",
              "\n",
              "[5 rows x 2863 columns]"
            ]
          },
          "execution_count": 5,
          "metadata": {},
          "output_type": "execute_result"
        }
      ],
      "source": [
        "data.head()"
      ]
    },
    {
      "cell_type": "code",
      "execution_count": 6,
      "metadata": {
        "id": "I5fKq_epihnt"
      },
      "outputs": [],
      "source": [
        "data['age'] = pd.cut(data['age'], bins=[20, 29, 39, 49, 59, 69, 79],\n",
        "                           labels=['twenties', 'thirties', 'forties', 'fifties', 'sixties', 'seventies'],\n",
        "                           right=False)"
      ]
    },
    {
      "cell_type": "code",
      "execution_count": 7,
      "metadata": {
        "id": "KXdhkFlgi67j"
      },
      "outputs": [],
      "source": [
        "data = data.replace(np.nan, 0)"
      ]
    },
    {
      "cell_type": "code",
      "execution_count": 8,
      "metadata": {
        "colab": {
          "base_uri": "https://localhost:8080/",
          "height": 236
        },
        "id": "og3hp_eEjJ5_",
        "outputId": "27fe01d2-1615-4d11-d89a-639cbedf2580"
      },
      "outputs": [
        {
          "data": {
            "text/html": [
              "<div>\n",
              "<style scoped>\n",
              "    .dataframe tbody tr th:only-of-type {\n",
              "        vertical-align: middle;\n",
              "    }\n",
              "\n",
              "    .dataframe tbody tr th {\n",
              "        vertical-align: top;\n",
              "    }\n",
              "\n",
              "    .dataframe thead th {\n",
              "        text-align: right;\n",
              "    }\n",
              "</style>\n",
              "<table border=\"1\" class=\"dataframe\">\n",
              "  <thead>\n",
              "    <tr style=\"text-align: right;\">\n",
              "      <th></th>\n",
              "      <th>0</th>\n",
              "      <th>1</th>\n",
              "      <th>2</th>\n",
              "      <th>3</th>\n",
              "      <th>4</th>\n",
              "      <th>5</th>\n",
              "      <th>6</th>\n",
              "      <th>7</th>\n",
              "      <th>8</th>\n",
              "      <th>9</th>\n",
              "      <th>...</th>\n",
              "      <th>2853</th>\n",
              "      <th>2854</th>\n",
              "      <th>2855</th>\n",
              "      <th>2856</th>\n",
              "      <th>2857</th>\n",
              "      <th>2858</th>\n",
              "      <th>2859</th>\n",
              "      <th>age</th>\n",
              "      <th>gender</th>\n",
              "      <th>emotion</th>\n",
              "    </tr>\n",
              "  </thead>\n",
              "  <tbody>\n",
              "    <tr>\n",
              "      <th>0</th>\n",
              "      <td>0.017090</td>\n",
              "      <td>0.024902</td>\n",
              "      <td>0.028809</td>\n",
              "      <td>0.045410</td>\n",
              "      <td>0.074707</td>\n",
              "      <td>0.100098</td>\n",
              "      <td>0.119141</td>\n",
              "      <td>0.110840</td>\n",
              "      <td>0.088867</td>\n",
              "      <td>0.067383</td>\n",
              "      <td>...</td>\n",
              "      <td>0.0</td>\n",
              "      <td>0.0</td>\n",
              "      <td>0.0</td>\n",
              "      <td>0.0</td>\n",
              "      <td>0.0</td>\n",
              "      <td>0.0</td>\n",
              "      <td>0.0</td>\n",
              "      <td>fifties</td>\n",
              "      <td>male</td>\n",
              "      <td>anger</td>\n",
              "    </tr>\n",
              "    <tr>\n",
              "      <th>1</th>\n",
              "      <td>0.182129</td>\n",
              "      <td>0.256836</td>\n",
              "      <td>0.350098</td>\n",
              "      <td>0.351074</td>\n",
              "      <td>0.281738</td>\n",
              "      <td>0.240234</td>\n",
              "      <td>0.170410</td>\n",
              "      <td>0.110840</td>\n",
              "      <td>0.089844</td>\n",
              "      <td>0.068359</td>\n",
              "      <td>...</td>\n",
              "      <td>0.0</td>\n",
              "      <td>0.0</td>\n",
              "      <td>0.0</td>\n",
              "      <td>0.0</td>\n",
              "      <td>0.0</td>\n",
              "      <td>0.0</td>\n",
              "      <td>0.0</td>\n",
              "      <td>fifties</td>\n",
              "      <td>male</td>\n",
              "      <td>anger</td>\n",
              "    </tr>\n",
              "    <tr>\n",
              "      <th>2</th>\n",
              "      <td>0.015625</td>\n",
              "      <td>0.029297</td>\n",
              "      <td>0.070801</td>\n",
              "      <td>0.104004</td>\n",
              "      <td>0.132324</td>\n",
              "      <td>0.149414</td>\n",
              "      <td>0.131836</td>\n",
              "      <td>0.109863</td>\n",
              "      <td>0.092773</td>\n",
              "      <td>0.076660</td>\n",
              "      <td>...</td>\n",
              "      <td>0.0</td>\n",
              "      <td>0.0</td>\n",
              "      <td>0.0</td>\n",
              "      <td>0.0</td>\n",
              "      <td>0.0</td>\n",
              "      <td>0.0</td>\n",
              "      <td>0.0</td>\n",
              "      <td>fifties</td>\n",
              "      <td>male</td>\n",
              "      <td>anger</td>\n",
              "    </tr>\n",
              "    <tr>\n",
              "      <th>3</th>\n",
              "      <td>0.076660</td>\n",
              "      <td>0.113770</td>\n",
              "      <td>0.167969</td>\n",
              "      <td>0.180176</td>\n",
              "      <td>0.173340</td>\n",
              "      <td>0.166992</td>\n",
              "      <td>0.136719</td>\n",
              "      <td>0.109863</td>\n",
              "      <td>0.091309</td>\n",
              "      <td>0.075684</td>\n",
              "      <td>...</td>\n",
              "      <td>0.0</td>\n",
              "      <td>0.0</td>\n",
              "      <td>0.0</td>\n",
              "      <td>0.0</td>\n",
              "      <td>0.0</td>\n",
              "      <td>0.0</td>\n",
              "      <td>0.0</td>\n",
              "      <td>fifties</td>\n",
              "      <td>male</td>\n",
              "      <td>anger</td>\n",
              "    </tr>\n",
              "    <tr>\n",
              "      <th>4</th>\n",
              "      <td>0.015137</td>\n",
              "      <td>0.031738</td>\n",
              "      <td>0.036621</td>\n",
              "      <td>0.041504</td>\n",
              "      <td>0.037109</td>\n",
              "      <td>0.026855</td>\n",
              "      <td>0.029297</td>\n",
              "      <td>0.029297</td>\n",
              "      <td>0.035645</td>\n",
              "      <td>0.067383</td>\n",
              "      <td>...</td>\n",
              "      <td>0.0</td>\n",
              "      <td>0.0</td>\n",
              "      <td>0.0</td>\n",
              "      <td>0.0</td>\n",
              "      <td>0.0</td>\n",
              "      <td>0.0</td>\n",
              "      <td>0.0</td>\n",
              "      <td>fifties</td>\n",
              "      <td>male</td>\n",
              "      <td>disgust</td>\n",
              "    </tr>\n",
              "  </tbody>\n",
              "</table>\n",
              "<p>5 rows × 2863 columns</p>\n",
              "</div>"
            ],
            "text/plain": [
              "          0         1         2         3         4         5         6  \\\n",
              "0  0.017090  0.024902  0.028809  0.045410  0.074707  0.100098  0.119141   \n",
              "1  0.182129  0.256836  0.350098  0.351074  0.281738  0.240234  0.170410   \n",
              "2  0.015625  0.029297  0.070801  0.104004  0.132324  0.149414  0.131836   \n",
              "3  0.076660  0.113770  0.167969  0.180176  0.173340  0.166992  0.136719   \n",
              "4  0.015137  0.031738  0.036621  0.041504  0.037109  0.026855  0.029297   \n",
              "\n",
              "          7         8         9  ...  2853  2854  2855  2856  2857  2858  \\\n",
              "0  0.110840  0.088867  0.067383  ...   0.0   0.0   0.0   0.0   0.0   0.0   \n",
              "1  0.110840  0.089844  0.068359  ...   0.0   0.0   0.0   0.0   0.0   0.0   \n",
              "2  0.109863  0.092773  0.076660  ...   0.0   0.0   0.0   0.0   0.0   0.0   \n",
              "3  0.109863  0.091309  0.075684  ...   0.0   0.0   0.0   0.0   0.0   0.0   \n",
              "4  0.029297  0.035645  0.067383  ...   0.0   0.0   0.0   0.0   0.0   0.0   \n",
              "\n",
              "   2859      age  gender  emotion  \n",
              "0   0.0  fifties    male    anger  \n",
              "1   0.0  fifties    male    anger  \n",
              "2   0.0  fifties    male    anger  \n",
              "3   0.0  fifties    male    anger  \n",
              "4   0.0  fifties    male  disgust  \n",
              "\n",
              "[5 rows x 2863 columns]"
            ]
          },
          "execution_count": 8,
          "metadata": {},
          "output_type": "execute_result"
        }
      ],
      "source": [
        "data.head()"
      ]
    },
    {
      "cell_type": "code",
      "execution_count": 9,
      "metadata": {
        "id": "TSgkgCSljLmq"
      },
      "outputs": [],
      "source": [
        "data['gender'] = data['gender'].replace(\"female\",0)\n",
        "data['gender'] = data['gender'].replace(\"male\",1)"
      ]
    },
    {
      "cell_type": "code",
      "execution_count": 10,
      "metadata": {
        "colab": {
          "base_uri": "https://localhost:8080/",
          "height": 236
        },
        "id": "nB1DvK4rjYYL",
        "outputId": "b3955ef4-035a-4fd6-ab0a-ee94931e292a"
      },
      "outputs": [
        {
          "data": {
            "text/html": [
              "<div>\n",
              "<style scoped>\n",
              "    .dataframe tbody tr th:only-of-type {\n",
              "        vertical-align: middle;\n",
              "    }\n",
              "\n",
              "    .dataframe tbody tr th {\n",
              "        vertical-align: top;\n",
              "    }\n",
              "\n",
              "    .dataframe thead th {\n",
              "        text-align: right;\n",
              "    }\n",
              "</style>\n",
              "<table border=\"1\" class=\"dataframe\">\n",
              "  <thead>\n",
              "    <tr style=\"text-align: right;\">\n",
              "      <th></th>\n",
              "      <th>0</th>\n",
              "      <th>1</th>\n",
              "      <th>2</th>\n",
              "      <th>3</th>\n",
              "      <th>4</th>\n",
              "      <th>5</th>\n",
              "      <th>6</th>\n",
              "      <th>7</th>\n",
              "      <th>8</th>\n",
              "      <th>9</th>\n",
              "      <th>...</th>\n",
              "      <th>2853</th>\n",
              "      <th>2854</th>\n",
              "      <th>2855</th>\n",
              "      <th>2856</th>\n",
              "      <th>2857</th>\n",
              "      <th>2858</th>\n",
              "      <th>2859</th>\n",
              "      <th>age</th>\n",
              "      <th>gender</th>\n",
              "      <th>emotion</th>\n",
              "    </tr>\n",
              "  </thead>\n",
              "  <tbody>\n",
              "    <tr>\n",
              "      <th>0</th>\n",
              "      <td>0.017090</td>\n",
              "      <td>0.024902</td>\n",
              "      <td>0.028809</td>\n",
              "      <td>0.045410</td>\n",
              "      <td>0.074707</td>\n",
              "      <td>0.100098</td>\n",
              "      <td>0.119141</td>\n",
              "      <td>0.110840</td>\n",
              "      <td>0.088867</td>\n",
              "      <td>0.067383</td>\n",
              "      <td>...</td>\n",
              "      <td>0.0</td>\n",
              "      <td>0.0</td>\n",
              "      <td>0.0</td>\n",
              "      <td>0.0</td>\n",
              "      <td>0.0</td>\n",
              "      <td>0.0</td>\n",
              "      <td>0.0</td>\n",
              "      <td>fifties</td>\n",
              "      <td>1</td>\n",
              "      <td>anger</td>\n",
              "    </tr>\n",
              "    <tr>\n",
              "      <th>1</th>\n",
              "      <td>0.182129</td>\n",
              "      <td>0.256836</td>\n",
              "      <td>0.350098</td>\n",
              "      <td>0.351074</td>\n",
              "      <td>0.281738</td>\n",
              "      <td>0.240234</td>\n",
              "      <td>0.170410</td>\n",
              "      <td>0.110840</td>\n",
              "      <td>0.089844</td>\n",
              "      <td>0.068359</td>\n",
              "      <td>...</td>\n",
              "      <td>0.0</td>\n",
              "      <td>0.0</td>\n",
              "      <td>0.0</td>\n",
              "      <td>0.0</td>\n",
              "      <td>0.0</td>\n",
              "      <td>0.0</td>\n",
              "      <td>0.0</td>\n",
              "      <td>fifties</td>\n",
              "      <td>1</td>\n",
              "      <td>anger</td>\n",
              "    </tr>\n",
              "    <tr>\n",
              "      <th>2</th>\n",
              "      <td>0.015625</td>\n",
              "      <td>0.029297</td>\n",
              "      <td>0.070801</td>\n",
              "      <td>0.104004</td>\n",
              "      <td>0.132324</td>\n",
              "      <td>0.149414</td>\n",
              "      <td>0.131836</td>\n",
              "      <td>0.109863</td>\n",
              "      <td>0.092773</td>\n",
              "      <td>0.076660</td>\n",
              "      <td>...</td>\n",
              "      <td>0.0</td>\n",
              "      <td>0.0</td>\n",
              "      <td>0.0</td>\n",
              "      <td>0.0</td>\n",
              "      <td>0.0</td>\n",
              "      <td>0.0</td>\n",
              "      <td>0.0</td>\n",
              "      <td>fifties</td>\n",
              "      <td>1</td>\n",
              "      <td>anger</td>\n",
              "    </tr>\n",
              "    <tr>\n",
              "      <th>3</th>\n",
              "      <td>0.076660</td>\n",
              "      <td>0.113770</td>\n",
              "      <td>0.167969</td>\n",
              "      <td>0.180176</td>\n",
              "      <td>0.173340</td>\n",
              "      <td>0.166992</td>\n",
              "      <td>0.136719</td>\n",
              "      <td>0.109863</td>\n",
              "      <td>0.091309</td>\n",
              "      <td>0.075684</td>\n",
              "      <td>...</td>\n",
              "      <td>0.0</td>\n",
              "      <td>0.0</td>\n",
              "      <td>0.0</td>\n",
              "      <td>0.0</td>\n",
              "      <td>0.0</td>\n",
              "      <td>0.0</td>\n",
              "      <td>0.0</td>\n",
              "      <td>fifties</td>\n",
              "      <td>1</td>\n",
              "      <td>anger</td>\n",
              "    </tr>\n",
              "    <tr>\n",
              "      <th>4</th>\n",
              "      <td>0.015137</td>\n",
              "      <td>0.031738</td>\n",
              "      <td>0.036621</td>\n",
              "      <td>0.041504</td>\n",
              "      <td>0.037109</td>\n",
              "      <td>0.026855</td>\n",
              "      <td>0.029297</td>\n",
              "      <td>0.029297</td>\n",
              "      <td>0.035645</td>\n",
              "      <td>0.067383</td>\n",
              "      <td>...</td>\n",
              "      <td>0.0</td>\n",
              "      <td>0.0</td>\n",
              "      <td>0.0</td>\n",
              "      <td>0.0</td>\n",
              "      <td>0.0</td>\n",
              "      <td>0.0</td>\n",
              "      <td>0.0</td>\n",
              "      <td>fifties</td>\n",
              "      <td>1</td>\n",
              "      <td>disgust</td>\n",
              "    </tr>\n",
              "  </tbody>\n",
              "</table>\n",
              "<p>5 rows × 2863 columns</p>\n",
              "</div>"
            ],
            "text/plain": [
              "          0         1         2         3         4         5         6  \\\n",
              "0  0.017090  0.024902  0.028809  0.045410  0.074707  0.100098  0.119141   \n",
              "1  0.182129  0.256836  0.350098  0.351074  0.281738  0.240234  0.170410   \n",
              "2  0.015625  0.029297  0.070801  0.104004  0.132324  0.149414  0.131836   \n",
              "3  0.076660  0.113770  0.167969  0.180176  0.173340  0.166992  0.136719   \n",
              "4  0.015137  0.031738  0.036621  0.041504  0.037109  0.026855  0.029297   \n",
              "\n",
              "          7         8         9  ...  2853  2854  2855  2856  2857  2858  \\\n",
              "0  0.110840  0.088867  0.067383  ...   0.0   0.0   0.0   0.0   0.0   0.0   \n",
              "1  0.110840  0.089844  0.068359  ...   0.0   0.0   0.0   0.0   0.0   0.0   \n",
              "2  0.109863  0.092773  0.076660  ...   0.0   0.0   0.0   0.0   0.0   0.0   \n",
              "3  0.109863  0.091309  0.075684  ...   0.0   0.0   0.0   0.0   0.0   0.0   \n",
              "4  0.029297  0.035645  0.067383  ...   0.0   0.0   0.0   0.0   0.0   0.0   \n",
              "\n",
              "   2859      age  gender  emotion  \n",
              "0   0.0  fifties       1    anger  \n",
              "1   0.0  fifties       1    anger  \n",
              "2   0.0  fifties       1    anger  \n",
              "3   0.0  fifties       1    anger  \n",
              "4   0.0  fifties       1  disgust  \n",
              "\n",
              "[5 rows x 2863 columns]"
            ]
          },
          "execution_count": 10,
          "metadata": {},
          "output_type": "execute_result"
        }
      ],
      "source": [
        "data.head()"
      ]
    },
    {
      "cell_type": "code",
      "execution_count": 11,
      "metadata": {
        "colab": {
          "base_uri": "https://localhost:8080/"
        },
        "id": "-4lj04DUjaQA",
        "outputId": "d4dbb5f9-c174-42a0-f6b0-5ce657227405"
      },
      "outputs": [
        {
          "data": {
            "text/plain": [
              "emotion\n",
              "anger           5592\n",
              "happiness       5368\n",
              "anxiety/fear    5360\n",
              "sadness         5332\n",
              "disgust         5268\n",
              "neutral         4664\n",
              "Name: count, dtype: int64"
            ]
          },
          "execution_count": 11,
          "metadata": {},
          "output_type": "execute_result"
        }
      ],
      "source": [
        "data.emotion.value_counts()"
      ]
    },
    {
      "cell_type": "code",
      "execution_count": 12,
      "metadata": {
        "colab": {
          "base_uri": "https://localhost:8080/",
          "height": 236
        },
        "id": "yN6AXkY4jeAX",
        "outputId": "7d458c82-0df9-44c9-ebdf-18151537d313"
      },
      "outputs": [
        {
          "data": {
            "text/html": [
              "<div>\n",
              "<style scoped>\n",
              "    .dataframe tbody tr th:only-of-type {\n",
              "        vertical-align: middle;\n",
              "    }\n",
              "\n",
              "    .dataframe tbody tr th {\n",
              "        vertical-align: top;\n",
              "    }\n",
              "\n",
              "    .dataframe thead th {\n",
              "        text-align: right;\n",
              "    }\n",
              "</style>\n",
              "<table border=\"1\" class=\"dataframe\">\n",
              "  <thead>\n",
              "    <tr style=\"text-align: right;\">\n",
              "      <th></th>\n",
              "      <th>0</th>\n",
              "      <th>1</th>\n",
              "      <th>2</th>\n",
              "      <th>3</th>\n",
              "      <th>4</th>\n",
              "      <th>5</th>\n",
              "      <th>6</th>\n",
              "      <th>7</th>\n",
              "      <th>8</th>\n",
              "      <th>9</th>\n",
              "      <th>...</th>\n",
              "      <th>2859</th>\n",
              "      <th>age</th>\n",
              "      <th>gender</th>\n",
              "      <th>emotion</th>\n",
              "      <th>anger</th>\n",
              "      <th>anxiety/fear</th>\n",
              "      <th>disgust</th>\n",
              "      <th>happiness</th>\n",
              "      <th>neutral</th>\n",
              "      <th>sadness</th>\n",
              "    </tr>\n",
              "  </thead>\n",
              "  <tbody>\n",
              "    <tr>\n",
              "      <th>0</th>\n",
              "      <td>0.017090</td>\n",
              "      <td>0.024902</td>\n",
              "      <td>0.028809</td>\n",
              "      <td>0.045410</td>\n",
              "      <td>0.074707</td>\n",
              "      <td>0.100098</td>\n",
              "      <td>0.119141</td>\n",
              "      <td>0.110840</td>\n",
              "      <td>0.088867</td>\n",
              "      <td>0.067383</td>\n",
              "      <td>...</td>\n",
              "      <td>0.0</td>\n",
              "      <td>fifties</td>\n",
              "      <td>1</td>\n",
              "      <td>anger</td>\n",
              "      <td>True</td>\n",
              "      <td>False</td>\n",
              "      <td>False</td>\n",
              "      <td>False</td>\n",
              "      <td>False</td>\n",
              "      <td>False</td>\n",
              "    </tr>\n",
              "    <tr>\n",
              "      <th>1</th>\n",
              "      <td>0.182129</td>\n",
              "      <td>0.256836</td>\n",
              "      <td>0.350098</td>\n",
              "      <td>0.351074</td>\n",
              "      <td>0.281738</td>\n",
              "      <td>0.240234</td>\n",
              "      <td>0.170410</td>\n",
              "      <td>0.110840</td>\n",
              "      <td>0.089844</td>\n",
              "      <td>0.068359</td>\n",
              "      <td>...</td>\n",
              "      <td>0.0</td>\n",
              "      <td>fifties</td>\n",
              "      <td>1</td>\n",
              "      <td>anger</td>\n",
              "      <td>True</td>\n",
              "      <td>False</td>\n",
              "      <td>False</td>\n",
              "      <td>False</td>\n",
              "      <td>False</td>\n",
              "      <td>False</td>\n",
              "    </tr>\n",
              "    <tr>\n",
              "      <th>2</th>\n",
              "      <td>0.015625</td>\n",
              "      <td>0.029297</td>\n",
              "      <td>0.070801</td>\n",
              "      <td>0.104004</td>\n",
              "      <td>0.132324</td>\n",
              "      <td>0.149414</td>\n",
              "      <td>0.131836</td>\n",
              "      <td>0.109863</td>\n",
              "      <td>0.092773</td>\n",
              "      <td>0.076660</td>\n",
              "      <td>...</td>\n",
              "      <td>0.0</td>\n",
              "      <td>fifties</td>\n",
              "      <td>1</td>\n",
              "      <td>anger</td>\n",
              "      <td>True</td>\n",
              "      <td>False</td>\n",
              "      <td>False</td>\n",
              "      <td>False</td>\n",
              "      <td>False</td>\n",
              "      <td>False</td>\n",
              "    </tr>\n",
              "    <tr>\n",
              "      <th>3</th>\n",
              "      <td>0.076660</td>\n",
              "      <td>0.113770</td>\n",
              "      <td>0.167969</td>\n",
              "      <td>0.180176</td>\n",
              "      <td>0.173340</td>\n",
              "      <td>0.166992</td>\n",
              "      <td>0.136719</td>\n",
              "      <td>0.109863</td>\n",
              "      <td>0.091309</td>\n",
              "      <td>0.075684</td>\n",
              "      <td>...</td>\n",
              "      <td>0.0</td>\n",
              "      <td>fifties</td>\n",
              "      <td>1</td>\n",
              "      <td>anger</td>\n",
              "      <td>True</td>\n",
              "      <td>False</td>\n",
              "      <td>False</td>\n",
              "      <td>False</td>\n",
              "      <td>False</td>\n",
              "      <td>False</td>\n",
              "    </tr>\n",
              "    <tr>\n",
              "      <th>4</th>\n",
              "      <td>0.015137</td>\n",
              "      <td>0.031738</td>\n",
              "      <td>0.036621</td>\n",
              "      <td>0.041504</td>\n",
              "      <td>0.037109</td>\n",
              "      <td>0.026855</td>\n",
              "      <td>0.029297</td>\n",
              "      <td>0.029297</td>\n",
              "      <td>0.035645</td>\n",
              "      <td>0.067383</td>\n",
              "      <td>...</td>\n",
              "      <td>0.0</td>\n",
              "      <td>fifties</td>\n",
              "      <td>1</td>\n",
              "      <td>disgust</td>\n",
              "      <td>False</td>\n",
              "      <td>False</td>\n",
              "      <td>True</td>\n",
              "      <td>False</td>\n",
              "      <td>False</td>\n",
              "      <td>False</td>\n",
              "    </tr>\n",
              "  </tbody>\n",
              "</table>\n",
              "<p>5 rows × 2869 columns</p>\n",
              "</div>"
            ],
            "text/plain": [
              "          0         1         2         3         4         5         6  \\\n",
              "0  0.017090  0.024902  0.028809  0.045410  0.074707  0.100098  0.119141   \n",
              "1  0.182129  0.256836  0.350098  0.351074  0.281738  0.240234  0.170410   \n",
              "2  0.015625  0.029297  0.070801  0.104004  0.132324  0.149414  0.131836   \n",
              "3  0.076660  0.113770  0.167969  0.180176  0.173340  0.166992  0.136719   \n",
              "4  0.015137  0.031738  0.036621  0.041504  0.037109  0.026855  0.029297   \n",
              "\n",
              "          7         8         9  ...  2859      age  gender  emotion  anger  \\\n",
              "0  0.110840  0.088867  0.067383  ...   0.0  fifties       1    anger   True   \n",
              "1  0.110840  0.089844  0.068359  ...   0.0  fifties       1    anger   True   \n",
              "2  0.109863  0.092773  0.076660  ...   0.0  fifties       1    anger   True   \n",
              "3  0.109863  0.091309  0.075684  ...   0.0  fifties       1    anger   True   \n",
              "4  0.029297  0.035645  0.067383  ...   0.0  fifties       1  disgust  False   \n",
              "\n",
              "   anxiety/fear  disgust  happiness  neutral  sadness  \n",
              "0         False    False      False    False    False  \n",
              "1         False    False      False    False    False  \n",
              "2         False    False      False    False    False  \n",
              "3         False    False      False    False    False  \n",
              "4         False     True      False    False    False  \n",
              "\n",
              "[5 rows x 2869 columns]"
            ]
          },
          "execution_count": 12,
          "metadata": {},
          "output_type": "execute_result"
        }
      ],
      "source": [
        "encoded_df = pd.get_dummies(data['emotion'])\n",
        "df_encoded = pd.concat([data, encoded_df], axis=1)\n",
        "df_encoded.head()"
      ]
    },
    {
      "cell_type": "code",
      "execution_count": 13,
      "metadata": {
        "colab": {
          "base_uri": "https://localhost:8080/",
          "height": 236
        },
        "id": "VzaU9C5qmZRE",
        "outputId": "bf13ebf6-217c-4714-975a-6e294627e4e3"
      },
      "outputs": [
        {
          "data": {
            "text/html": [
              "<div>\n",
              "<style scoped>\n",
              "    .dataframe tbody tr th:only-of-type {\n",
              "        vertical-align: middle;\n",
              "    }\n",
              "\n",
              "    .dataframe tbody tr th {\n",
              "        vertical-align: top;\n",
              "    }\n",
              "\n",
              "    .dataframe thead th {\n",
              "        text-align: right;\n",
              "    }\n",
              "</style>\n",
              "<table border=\"1\" class=\"dataframe\">\n",
              "  <thead>\n",
              "    <tr style=\"text-align: right;\">\n",
              "      <th></th>\n",
              "      <th>0</th>\n",
              "      <th>1</th>\n",
              "      <th>2</th>\n",
              "      <th>3</th>\n",
              "      <th>4</th>\n",
              "      <th>5</th>\n",
              "      <th>6</th>\n",
              "      <th>7</th>\n",
              "      <th>8</th>\n",
              "      <th>9</th>\n",
              "      <th>...</th>\n",
              "      <th>disgust</th>\n",
              "      <th>happiness</th>\n",
              "      <th>neutral</th>\n",
              "      <th>sadness</th>\n",
              "      <th>twenties</th>\n",
              "      <th>thirties</th>\n",
              "      <th>forties</th>\n",
              "      <th>fifties</th>\n",
              "      <th>sixties</th>\n",
              "      <th>seventies</th>\n",
              "    </tr>\n",
              "  </thead>\n",
              "  <tbody>\n",
              "    <tr>\n",
              "      <th>0</th>\n",
              "      <td>0.017090</td>\n",
              "      <td>0.024902</td>\n",
              "      <td>0.028809</td>\n",
              "      <td>0.045410</td>\n",
              "      <td>0.074707</td>\n",
              "      <td>0.100098</td>\n",
              "      <td>0.119141</td>\n",
              "      <td>0.110840</td>\n",
              "      <td>0.088867</td>\n",
              "      <td>0.067383</td>\n",
              "      <td>...</td>\n",
              "      <td>False</td>\n",
              "      <td>False</td>\n",
              "      <td>False</td>\n",
              "      <td>False</td>\n",
              "      <td>False</td>\n",
              "      <td>False</td>\n",
              "      <td>False</td>\n",
              "      <td>True</td>\n",
              "      <td>False</td>\n",
              "      <td>False</td>\n",
              "    </tr>\n",
              "    <tr>\n",
              "      <th>1</th>\n",
              "      <td>0.182129</td>\n",
              "      <td>0.256836</td>\n",
              "      <td>0.350098</td>\n",
              "      <td>0.351074</td>\n",
              "      <td>0.281738</td>\n",
              "      <td>0.240234</td>\n",
              "      <td>0.170410</td>\n",
              "      <td>0.110840</td>\n",
              "      <td>0.089844</td>\n",
              "      <td>0.068359</td>\n",
              "      <td>...</td>\n",
              "      <td>False</td>\n",
              "      <td>False</td>\n",
              "      <td>False</td>\n",
              "      <td>False</td>\n",
              "      <td>False</td>\n",
              "      <td>False</td>\n",
              "      <td>False</td>\n",
              "      <td>True</td>\n",
              "      <td>False</td>\n",
              "      <td>False</td>\n",
              "    </tr>\n",
              "    <tr>\n",
              "      <th>2</th>\n",
              "      <td>0.015625</td>\n",
              "      <td>0.029297</td>\n",
              "      <td>0.070801</td>\n",
              "      <td>0.104004</td>\n",
              "      <td>0.132324</td>\n",
              "      <td>0.149414</td>\n",
              "      <td>0.131836</td>\n",
              "      <td>0.109863</td>\n",
              "      <td>0.092773</td>\n",
              "      <td>0.076660</td>\n",
              "      <td>...</td>\n",
              "      <td>False</td>\n",
              "      <td>False</td>\n",
              "      <td>False</td>\n",
              "      <td>False</td>\n",
              "      <td>False</td>\n",
              "      <td>False</td>\n",
              "      <td>False</td>\n",
              "      <td>True</td>\n",
              "      <td>False</td>\n",
              "      <td>False</td>\n",
              "    </tr>\n",
              "    <tr>\n",
              "      <th>3</th>\n",
              "      <td>0.076660</td>\n",
              "      <td>0.113770</td>\n",
              "      <td>0.167969</td>\n",
              "      <td>0.180176</td>\n",
              "      <td>0.173340</td>\n",
              "      <td>0.166992</td>\n",
              "      <td>0.136719</td>\n",
              "      <td>0.109863</td>\n",
              "      <td>0.091309</td>\n",
              "      <td>0.075684</td>\n",
              "      <td>...</td>\n",
              "      <td>False</td>\n",
              "      <td>False</td>\n",
              "      <td>False</td>\n",
              "      <td>False</td>\n",
              "      <td>False</td>\n",
              "      <td>False</td>\n",
              "      <td>False</td>\n",
              "      <td>True</td>\n",
              "      <td>False</td>\n",
              "      <td>False</td>\n",
              "    </tr>\n",
              "    <tr>\n",
              "      <th>4</th>\n",
              "      <td>0.015137</td>\n",
              "      <td>0.031738</td>\n",
              "      <td>0.036621</td>\n",
              "      <td>0.041504</td>\n",
              "      <td>0.037109</td>\n",
              "      <td>0.026855</td>\n",
              "      <td>0.029297</td>\n",
              "      <td>0.029297</td>\n",
              "      <td>0.035645</td>\n",
              "      <td>0.067383</td>\n",
              "      <td>...</td>\n",
              "      <td>True</td>\n",
              "      <td>False</td>\n",
              "      <td>False</td>\n",
              "      <td>False</td>\n",
              "      <td>False</td>\n",
              "      <td>False</td>\n",
              "      <td>False</td>\n",
              "      <td>True</td>\n",
              "      <td>False</td>\n",
              "      <td>False</td>\n",
              "    </tr>\n",
              "  </tbody>\n",
              "</table>\n",
              "<p>5 rows × 2875 columns</p>\n",
              "</div>"
            ],
            "text/plain": [
              "          0         1         2         3         4         5         6  \\\n",
              "0  0.017090  0.024902  0.028809  0.045410  0.074707  0.100098  0.119141   \n",
              "1  0.182129  0.256836  0.350098  0.351074  0.281738  0.240234  0.170410   \n",
              "2  0.015625  0.029297  0.070801  0.104004  0.132324  0.149414  0.131836   \n",
              "3  0.076660  0.113770  0.167969  0.180176  0.173340  0.166992  0.136719   \n",
              "4  0.015137  0.031738  0.036621  0.041504  0.037109  0.026855  0.029297   \n",
              "\n",
              "          7         8         9  ...  disgust  happiness  neutral  sadness  \\\n",
              "0  0.110840  0.088867  0.067383  ...    False      False    False    False   \n",
              "1  0.110840  0.089844  0.068359  ...    False      False    False    False   \n",
              "2  0.109863  0.092773  0.076660  ...    False      False    False    False   \n",
              "3  0.109863  0.091309  0.075684  ...    False      False    False    False   \n",
              "4  0.029297  0.035645  0.067383  ...     True      False    False    False   \n",
              "\n",
              "   twenties  thirties  forties  fifties  sixties  seventies  \n",
              "0     False     False    False     True    False      False  \n",
              "1     False     False    False     True    False      False  \n",
              "2     False     False    False     True    False      False  \n",
              "3     False     False    False     True    False      False  \n",
              "4     False     False    False     True    False      False  \n",
              "\n",
              "[5 rows x 2875 columns]"
            ]
          },
          "execution_count": 13,
          "metadata": {},
          "output_type": "execute_result"
        }
      ],
      "source": [
        "encoded_df = pd.get_dummies(data['age'])\n",
        "df_encoded = pd.concat([df_encoded, encoded_df], axis=1)\n",
        "df_encoded.head()"
      ]
    },
    {
      "cell_type": "code",
      "execution_count": 14,
      "metadata": {
        "id": "DzLfRs8mmxjF"
      },
      "outputs": [],
      "source": [
        "df_encoded.drop(['age','emotion'],axis=1,inplace=True)"
      ]
    },
    {
      "cell_type": "code",
      "execution_count": 15,
      "metadata": {
        "colab": {
          "base_uri": "https://localhost:8080/",
          "height": 206
        },
        "id": "mt3ZjEHKnBX-",
        "outputId": "6567ad5a-c89d-46d7-ace6-db99abb8ae88"
      },
      "outputs": [
        {
          "data": {
            "text/html": [
              "<div>\n",
              "<style scoped>\n",
              "    .dataframe tbody tr th:only-of-type {\n",
              "        vertical-align: middle;\n",
              "    }\n",
              "\n",
              "    .dataframe tbody tr th {\n",
              "        vertical-align: top;\n",
              "    }\n",
              "\n",
              "    .dataframe thead th {\n",
              "        text-align: right;\n",
              "    }\n",
              "</style>\n",
              "<table border=\"1\" class=\"dataframe\">\n",
              "  <thead>\n",
              "    <tr style=\"text-align: right;\">\n",
              "      <th></th>\n",
              "      <th>gender</th>\n",
              "      <th>anger</th>\n",
              "      <th>anxiety/fear</th>\n",
              "      <th>disgust</th>\n",
              "      <th>happiness</th>\n",
              "      <th>neutral</th>\n",
              "      <th>sadness</th>\n",
              "      <th>twenties</th>\n",
              "      <th>thirties</th>\n",
              "      <th>forties</th>\n",
              "      <th>fifties</th>\n",
              "      <th>sixties</th>\n",
              "      <th>seventies</th>\n",
              "    </tr>\n",
              "  </thead>\n",
              "  <tbody>\n",
              "    <tr>\n",
              "      <th>0</th>\n",
              "      <td>1</td>\n",
              "      <td>True</td>\n",
              "      <td>False</td>\n",
              "      <td>False</td>\n",
              "      <td>False</td>\n",
              "      <td>False</td>\n",
              "      <td>False</td>\n",
              "      <td>False</td>\n",
              "      <td>False</td>\n",
              "      <td>False</td>\n",
              "      <td>True</td>\n",
              "      <td>False</td>\n",
              "      <td>False</td>\n",
              "    </tr>\n",
              "    <tr>\n",
              "      <th>1</th>\n",
              "      <td>1</td>\n",
              "      <td>True</td>\n",
              "      <td>False</td>\n",
              "      <td>False</td>\n",
              "      <td>False</td>\n",
              "      <td>False</td>\n",
              "      <td>False</td>\n",
              "      <td>False</td>\n",
              "      <td>False</td>\n",
              "      <td>False</td>\n",
              "      <td>True</td>\n",
              "      <td>False</td>\n",
              "      <td>False</td>\n",
              "    </tr>\n",
              "    <tr>\n",
              "      <th>2</th>\n",
              "      <td>1</td>\n",
              "      <td>True</td>\n",
              "      <td>False</td>\n",
              "      <td>False</td>\n",
              "      <td>False</td>\n",
              "      <td>False</td>\n",
              "      <td>False</td>\n",
              "      <td>False</td>\n",
              "      <td>False</td>\n",
              "      <td>False</td>\n",
              "      <td>True</td>\n",
              "      <td>False</td>\n",
              "      <td>False</td>\n",
              "    </tr>\n",
              "    <tr>\n",
              "      <th>3</th>\n",
              "      <td>1</td>\n",
              "      <td>True</td>\n",
              "      <td>False</td>\n",
              "      <td>False</td>\n",
              "      <td>False</td>\n",
              "      <td>False</td>\n",
              "      <td>False</td>\n",
              "      <td>False</td>\n",
              "      <td>False</td>\n",
              "      <td>False</td>\n",
              "      <td>True</td>\n",
              "      <td>False</td>\n",
              "      <td>False</td>\n",
              "    </tr>\n",
              "    <tr>\n",
              "      <th>4</th>\n",
              "      <td>1</td>\n",
              "      <td>False</td>\n",
              "      <td>False</td>\n",
              "      <td>True</td>\n",
              "      <td>False</td>\n",
              "      <td>False</td>\n",
              "      <td>False</td>\n",
              "      <td>False</td>\n",
              "      <td>False</td>\n",
              "      <td>False</td>\n",
              "      <td>True</td>\n",
              "      <td>False</td>\n",
              "      <td>False</td>\n",
              "    </tr>\n",
              "  </tbody>\n",
              "</table>\n",
              "</div>"
            ],
            "text/plain": [
              "   gender  anger  anxiety/fear  disgust  happiness  neutral  sadness  \\\n",
              "0       1   True         False    False      False    False    False   \n",
              "1       1   True         False    False      False    False    False   \n",
              "2       1   True         False    False      False    False    False   \n",
              "3       1   True         False    False      False    False    False   \n",
              "4       1  False         False     True      False    False    False   \n",
              "\n",
              "   twenties  thirties  forties  fifties  sixties  seventies  \n",
              "0     False     False    False     True    False      False  \n",
              "1     False     False    False     True    False      False  \n",
              "2     False     False    False     True    False      False  \n",
              "3     False     False    False     True    False      False  \n",
              "4     False     False    False     True    False      False  "
            ]
          },
          "execution_count": 15,
          "metadata": {},
          "output_type": "execute_result"
        }
      ],
      "source": [
        "df_encoded.iloc[:,2860:].head()"
      ]
    },
    {
      "cell_type": "code",
      "execution_count": 16,
      "metadata": {
        "colab": {
          "base_uri": "https://localhost:8080/"
        },
        "id": "k7LQ1IOYpp51",
        "outputId": "320b5e3f-1a8c-4645-ad72-64e5253cec24"
      },
      "outputs": [
        {
          "data": {
            "text/plain": [
              "(31584, 2873)"
            ]
          },
          "execution_count": 16,
          "metadata": {},
          "output_type": "execute_result"
        }
      ],
      "source": [
        "df_encoded.shape"
      ]
    },
    {
      "cell_type": "code",
      "execution_count": 17,
      "metadata": {
        "colab": {
          "base_uri": "https://localhost:8080/"
        },
        "id": "E_PX2wUprSFb",
        "outputId": "031c895f-327d-4245-e07f-6e944e23b0a2"
      },
      "outputs": [
        {
          "name": "stdout",
          "output_type": "stream",
          "text": [
            "Shape of the reduced feature matrix: (31584, 100)\n"
          ]
        }
      ],
      "source": [
        "X = df_encoded.drop(['gender', 'anger', 'anxiety/fear', 'disgust', 'happiness', 'neutral', 'sadness','twenties', 'thirties', 'forties', 'fifties', 'sixties', 'seventies'], axis=1).value"
      ]
    },
    {
      "cell_type": "code",
      "execution_count": 18,
      "metadata": {
        "id": "cd9JaDz94G1h"
      },
      "outputs": [],
      "source": [
        "y = df_encoded[['gender', 'anger', 'anxiety/fear', 'disgust', 'happiness', 'neutral', 'sadness','twenties', 'thirties', 'forties', 'fifties', 'sixties', 'seventies']].values"
      ]
    },
    {
      "cell_type": "code",
      "execution_count": 19,
      "metadata": {
        "id": "ClhkSSYeiQmK"
      },
      "outputs": [],
      "source": [
        "# X = df_encoded.iloc[:, :-13].values  # Audio features\n",
        "y_gender = df_encoded.iloc[:, -13:-12].values  # Gender labels\n",
        "y_emotion = df_encoded.iloc[:, -12:-6].values  # Emotion labels\n",
        "y_age = df_encoded.iloc[:, -6:].values  # Age labels"
      ]
    },
    {
      "cell_type": "code",
      "execution_count": 20,
      "metadata": {
        "colab": {
          "base_uri": "https://localhost:8080/"
        },
        "id": "jOhiEHjviRl5",
        "outputId": "10237b31-b0fd-446d-d7fc-cfad5bda5e14"
      },
      "outputs": [
        {
          "data": {
            "text/plain": [
              "array([[ True, False, False, False, False, False],\n",
              "       [ True, False, False, False, False, False],\n",
              "       [ True, False, False, False, False, False],\n",
              "       ...,\n",
              "       [ True, False, False, False, False, False],\n",
              "       [ True, False, False, False, False, False],\n",
              "       [ True, False, False, False, False, False]])"
            ]
          },
          "execution_count": 20,
          "metadata": {},
          "output_type": "execute_result"
        }
      ],
      "source": [
        "y_emotion"
      ]
    },
    {
      "cell_type": "code",
      "execution_count": 21,
      "metadata": {
        "colab": {
          "base_uri": "https://localhost:8080/"
        },
        "id": "iH0K5HyFiRpf",
        "outputId": "60507736-c1e5-43de-8311-0dd2a2410472"
      },
      "outputs": [
        {
          "data": {
            "text/plain": [
              "array([[1],\n",
              "       [1],\n",
              "       [1],\n",
              "       ...,\n",
              "       [0],\n",
              "       [0],\n",
              "       [0]])"
            ]
          },
          "execution_count": 21,
          "metadata": {},
          "output_type": "execute_result"
        }
      ],
      "source": [
        "y_gender"
      ]
    },
    {
      "cell_type": "code",
      "execution_count": 22,
      "metadata": {
        "colab": {
          "base_uri": "https://localhost:8080/"
        },
        "id": "jw7Xrak6iRsU",
        "outputId": "07827e33-587c-4866-f15d-a2065abadc91"
      },
      "outputs": [
        {
          "data": {
            "text/plain": [
              "array([[False, False, False,  True, False, False],\n",
              "       [False, False, False,  True, False, False],\n",
              "       [False, False, False,  True, False, False],\n",
              "       ...,\n",
              "       [False,  True, False, False, False, False],\n",
              "       [False,  True, False, False, False, False],\n",
              "       [False,  True, False, False, False, False]])"
            ]
          },
          "execution_count": 22,
          "metadata": {},
          "output_type": "execute_result"
        }
      ],
      "source": [
        "y_age"
      ]
    },
    {
      "cell_type": "code",
      "execution_count": 23,
      "metadata": {
        "id": "7aqZFCx1FWnW"
      },
      "outputs": [],
      "source": [
        "X_train, X_val_test, y_gender_train, y_gender_val_test, y_emotion_train, y_emotion_val_test, y_age_train, y_age_val_test = train_test_split(X, y_gender, y_emotion, y_age, test_size=0.3, random_state=30)\n",
        "X_test, X_val, y_gender_test, y_gender_val, y_emotion_test, y_emotion_val, y_age_test, y_age_val = train_test_split(X_val_test, y_gender_val_test, y_emotion_val_test, y_age_val_test, test_size=0.5, random_state=30)\n"
      ]
    },
    {
      "cell_type": "code",
      "execution_count": 24,
      "metadata": {
        "id": "xV6jWzYTjHHU"
      },
      "outputs": [
        {
          "name": "stdout",
          "output_type": "stream",
          "text": [
            "Metal device set to: Apple M1 Pro\n",
            "\n",
            "systemMemory: 16.00 GB\n",
            "maxCacheSize: 5.33 GB\n",
            "\n"
          ]
        },
        {
          "name": "stderr",
          "output_type": "stream",
          "text": [
            "2023-09-06 22:21:26.931568: I tensorflow/core/common_runtime/pluggable_device/pluggable_device_factory.cc:306] Could not identify NUMA node of platform GPU ID 0, defaulting to 0. Your kernel may not have been built with NUMA support.\n",
            "2023-09-06 22:21:26.931603: I tensorflow/core/common_runtime/pluggable_device/pluggable_device_factory.cc:272] Created TensorFlow device (/job:localhost/replica:0/task:0/device:GPU:0 with 0 MB memory) -> physical PluggableDevice (device: 0, name: METAL, pci bus id: <undefined>)\n"
          ]
        }
      ],
      "source": [
        "input_layer = Input(shape=(X_train.shape[1],))\n",
        "hidden_layer = Dense(2048, activation='relu')(input_layer)\n",
        "hidden_layer = BatchNormalization()(hidden_layer)\n",
        "hidden_layer = Dense(1024, activation='relu')(hidden_layer)\n",
        "hidden_layer = Dense(512, activation='relu')(hidden_layer)\n",
        "hidden_layer = Dense(64, activation='relu')(hidden_layer)\n",
        "hidden_layer = Dropout(0.25)(hidden_layer)"
      ]
    },
    {
      "cell_type": "code",
      "execution_count": 25,
      "metadata": {
        "id": "WSOmqcJLjZKc"
      },
      "outputs": [],
      "source": [
        "gender_output = Dense(y_gender_train.shape[1], activation='sigmoid', name='gender')(hidden_layer)"
      ]
    },
    {
      "cell_type": "code",
      "execution_count": 26,
      "metadata": {
        "id": "4a1Ee-rfjh_-"
      },
      "outputs": [],
      "source": [
        "emotion_output = Dense(y_emotion_train.shape[1], activation='softmax', name='emotion')(hidden_layer)"
      ]
    },
    {
      "cell_type": "code",
      "execution_count": 27,
      "metadata": {
        "id": "Z-AgWvJejktM"
      },
      "outputs": [],
      "source": [
        "age_output = Dense(y_age_train.shape[1], activation='softmax', name='age')(hidden_layer)"
      ]
    },
    {
      "cell_type": "code",
      "execution_count": 28,
      "metadata": {
        "id": "XWxrehohj5p-"
      },
      "outputs": [],
      "source": [
        "model = Model(inputs=input_layer, outputs=[gender_output, emotion_output, age_output])\n"
      ]
    },
    {
      "cell_type": "code",
      "execution_count": 29,
      "metadata": {
        "colab": {
          "base_uri": "https://localhost:8080/"
        },
        "id": "poXQMSmhkJ9I",
        "outputId": "62233ab5-4f0e-4d42-e143-2a1ea2a77504"
      },
      "outputs": [
        {
          "name": "stdout",
          "output_type": "stream",
          "text": [
            "Model: \"model\"\n",
            "__________________________________________________________________________________________________\n",
            " Layer (type)                   Output Shape         Param #     Connected to                     \n",
            "==================================================================================================\n",
            " input_1 (InputLayer)           [(None, 100)]        0           []                               \n",
            "                                                                                                  \n",
            " dense (Dense)                  (None, 2048)         206848      ['input_1[0][0]']                \n",
            "                                                                                                  \n",
            " batch_normalization (BatchNorm  (None, 2048)        8192        ['dense[0][0]']                  \n",
            " alization)                                                                                       \n",
            "                                                                                                  \n",
            " dense_1 (Dense)                (None, 1024)         2098176     ['batch_normalization[0][0]']    \n",
            "                                                                                                  \n",
            " dense_2 (Dense)                (None, 512)          524800      ['dense_1[0][0]']                \n",
            "                                                                                                  \n",
            " dense_3 (Dense)                (None, 64)           32832       ['dense_2[0][0]']                \n",
            "                                                                                                  \n",
            " dropout (Dropout)              (None, 64)           0           ['dense_3[0][0]']                \n",
            "                                                                                                  \n",
            " gender (Dense)                 (None, 1)            65          ['dropout[0][0]']                \n",
            "                                                                                                  \n",
            " emotion (Dense)                (None, 6)            390         ['dropout[0][0]']                \n",
            "                                                                                                  \n",
            " age (Dense)                    (None, 6)            390         ['dropout[0][0]']                \n",
            "                                                                                                  \n",
            "==================================================================================================\n",
            "Total params: 2,871,693\n",
            "Trainable params: 2,867,597\n",
            "Non-trainable params: 4,096\n",
            "__________________________________________________________________________________________________\n"
          ]
        }
      ],
      "source": [
        "model.summary()"
      ]
    },
    {
      "cell_type": "code",
      "execution_count": 30,
      "metadata": {
        "id": "0jnAAC1mj_O_"
      },
      "outputs": [],
      "source": [
        "opt = SGD(learning_rate=0.0005, decay=1e-6, momentum=0.9, nesterov=True)\n",
        "model.compile(optimizer=opt,\n",
        "              loss={'gender': 'binary_crossentropy',\n",
        "                    'emotion': 'categorical_crossentropy',\n",
        "                    'age': 'categorical_crossentropy'},\n",
        "              metrics={'gender': 'accuracy',\n",
        "                       'emotion': 'accuracy',\n",
        "                       'age': 'accuracy'})"
      ]
    },
    {
      "cell_type": "code",
      "execution_count": 31,
      "metadata": {
        "colab": {
          "base_uri": "https://localhost:8080/"
        },
        "id": "ztC_nnPYkDgI",
        "outputId": "5364e2da-065a-417a-af49-4b2dd8cd655b"
      },
      "outputs": [
        {
          "name": "stdout",
          "output_type": "stream",
          "text": [
            "Epoch 1/200\n"
          ]
        },
        {
          "name": "stderr",
          "output_type": "stream",
          "text": [
            "2023-09-06 22:21:27.421838: W tensorflow/tsl/platform/profile_utils/cpu_utils.cc:128] Failed to get CPU frequency: 0 Hz\n",
            "2023-09-06 22:21:27.829874: I tensorflow/core/grappler/optimizers/custom_graph_optimizer_registry.cc:114] Plugin optimizer for device_type GPU is enabled.\n"
          ]
        },
        {
          "name": "stdout",
          "output_type": "stream",
          "text": [
            "691/691 [==============================] - ETA: 0s - loss: 3.8821 - gender_loss: 0.6973 - emotion_loss: 1.6576 - age_loss: 1.5273 - gender_accuracy: 0.5373 - emotion_accuracy: 0.3098 - age_accuracy: 0.3440"
          ]
        },
        {
          "name": "stderr",
          "output_type": "stream",
          "text": [
            "2023-09-06 22:21:46.270794: I tensorflow/core/grappler/optimizers/custom_graph_optimizer_registry.cc:114] Plugin optimizer for device_type GPU is enabled.\n"
          ]
        },
        {
          "name": "stdout",
          "output_type": "stream",
          "text": [
            "691/691 [==============================] - 21s 26ms/step - loss: 3.8821 - gender_loss: 0.6973 - emotion_loss: 1.6576 - age_loss: 1.5273 - gender_accuracy: 0.5373 - emotion_accuracy: 0.3098 - age_accuracy: 0.3440 - val_loss: 3.6872 - val_gender_loss: 0.6810 - val_emotion_loss: 1.5368 - val_age_loss: 1.4693 - val_gender_accuracy: 0.5629 - val_emotion_accuracy: 0.3645 - val_age_accuracy: 0.3710\n",
            "Epoch 2/200\n",
            "691/691 [==============================] - 18s 26ms/step - loss: 3.6969 - gender_loss: 0.6810 - emotion_loss: 1.5352 - age_loss: 1.4807 - gender_accuracy: 0.5615 - emotion_accuracy: 0.3669 - age_accuracy: 0.3641 - val_loss: 3.6075 - val_gender_loss: 0.6725 - val_emotion_loss: 1.4853 - val_age_loss: 1.4498 - val_gender_accuracy: 0.5842 - val_emotion_accuracy: 0.3883 - val_age_accuracy: 0.3721\n",
            "Epoch 3/200\n",
            "691/691 [==============================] - 18s 26ms/step - loss: 3.6271 - gender_loss: 0.6726 - emotion_loss: 1.4919 - age_loss: 1.4625 - gender_accuracy: 0.5783 - emotion_accuracy: 0.3837 - age_accuracy: 0.3705 - val_loss: 3.5504 - val_gender_loss: 0.6654 - val_emotion_loss: 1.4516 - val_age_loss: 1.4335 - val_gender_accuracy: 0.5908 - val_emotion_accuracy: 0.4016 - val_age_accuracy: 0.3780\n",
            "Epoch 4/200\n",
            "691/691 [==============================] - 19s 27ms/step - loss: 3.5753 - gender_loss: 0.6636 - emotion_loss: 1.4619 - age_loss: 1.4498 - gender_accuracy: 0.5901 - emotion_accuracy: 0.3987 - age_accuracy: 0.3762 - val_loss: 3.5108 - val_gender_loss: 0.6542 - val_emotion_loss: 1.4305 - val_age_loss: 1.4261 - val_gender_accuracy: 0.6154 - val_emotion_accuracy: 0.4209 - val_age_accuracy: 0.3748\n",
            "Epoch 5/200\n",
            "691/691 [==============================] - 17s 25ms/step - loss: 3.5283 - gender_loss: 0.6518 - emotion_loss: 1.4402 - age_loss: 1.4363 - gender_accuracy: 0.6082 - emotion_accuracy: 0.4099 - age_accuracy: 0.3815 - val_loss: 3.4674 - val_gender_loss: 0.6422 - val_emotion_loss: 1.4087 - val_age_loss: 1.4165 - val_gender_accuracy: 0.6209 - val_emotion_accuracy: 0.4238 - val_age_accuracy: 0.3928\n",
            "Epoch 6/200\n",
            "691/691 [==============================] - 17s 25ms/step - loss: 3.4805 - gender_loss: 0.6377 - emotion_loss: 1.4181 - age_loss: 1.4247 - gender_accuracy: 0.6266 - emotion_accuracy: 0.4208 - age_accuracy: 0.3891 - val_loss: 3.4492 - val_gender_loss: 0.6285 - val_emotion_loss: 1.4053 - val_age_loss: 1.4154 - val_gender_accuracy: 0.6446 - val_emotion_accuracy: 0.4217 - val_age_accuracy: 0.3924\n",
            "Epoch 7/200\n",
            "691/691 [==============================] - 17s 25ms/step - loss: 3.4449 - gender_loss: 0.6215 - emotion_loss: 1.4048 - age_loss: 1.4186 - gender_accuracy: 0.6458 - emotion_accuracy: 0.4275 - age_accuracy: 0.3916 - val_loss: 3.4020 - val_gender_loss: 0.6076 - val_emotion_loss: 1.3923 - val_age_loss: 1.4021 - val_gender_accuracy: 0.6739 - val_emotion_accuracy: 0.4244 - val_age_accuracy: 0.3991\n",
            "Epoch 8/200\n",
            "691/691 [==============================] - 17s 25ms/step - loss: 3.4006 - gender_loss: 0.6066 - emotion_loss: 1.3844 - age_loss: 1.4097 - gender_accuracy: 0.6611 - emotion_accuracy: 0.4347 - age_accuracy: 0.3942 - val_loss: 3.3658 - val_gender_loss: 0.5975 - val_emotion_loss: 1.3792 - val_age_loss: 1.3892 - val_gender_accuracy: 0.6794 - val_emotion_accuracy: 0.4363 - val_age_accuracy: 0.4021\n",
            "Epoch 9/200\n",
            "691/691 [==============================] - 18s 27ms/step - loss: 3.3597 - gender_loss: 0.5904 - emotion_loss: 1.3716 - age_loss: 1.3977 - gender_accuracy: 0.6714 - emotion_accuracy: 0.4426 - age_accuracy: 0.4020 - val_loss: 3.3207 - val_gender_loss: 0.5782 - val_emotion_loss: 1.3595 - val_age_loss: 1.3830 - val_gender_accuracy: 0.6902 - val_emotion_accuracy: 0.4415 - val_age_accuracy: 0.4010\n",
            "Epoch 10/200\n",
            "691/691 [==============================] - 17s 25ms/step - loss: 3.3194 - gender_loss: 0.5730 - emotion_loss: 1.3580 - age_loss: 1.3884 - gender_accuracy: 0.6898 - emotion_accuracy: 0.4464 - age_accuracy: 0.4056 - val_loss: 3.2860 - val_gender_loss: 0.5635 - val_emotion_loss: 1.3449 - val_age_loss: 1.3775 - val_gender_accuracy: 0.6986 - val_emotion_accuracy: 0.4449 - val_age_accuracy: 0.4059\n",
            "Epoch 11/200\n",
            "691/691 [==============================] - 17s 25ms/step - loss: 3.2846 - gender_loss: 0.5612 - emotion_loss: 1.3417 - age_loss: 1.3818 - gender_accuracy: 0.7000 - emotion_accuracy: 0.4571 - age_accuracy: 0.4098 - val_loss: 3.2732 - val_gender_loss: 0.5526 - val_emotion_loss: 1.3491 - val_age_loss: 1.3715 - val_gender_accuracy: 0.7159 - val_emotion_accuracy: 0.4540 - val_age_accuracy: 0.4099\n",
            "Epoch 12/200\n",
            "691/691 [==============================] - 17s 25ms/step - loss: 3.2495 - gender_loss: 0.5433 - emotion_loss: 1.3338 - age_loss: 1.3725 - gender_accuracy: 0.7162 - emotion_accuracy: 0.4600 - age_accuracy: 0.4146 - val_loss: 3.1992 - val_gender_loss: 0.5275 - val_emotion_loss: 1.3142 - val_age_loss: 1.3575 - val_gender_accuracy: 0.7294 - val_emotion_accuracy: 0.4614 - val_age_accuracy: 0.4192\n",
            "Epoch 13/200\n",
            "691/691 [==============================] - 17s 25ms/step - loss: 3.2144 - gender_loss: 0.5288 - emotion_loss: 1.3233 - age_loss: 1.3622 - gender_accuracy: 0.7243 - emotion_accuracy: 0.4645 - age_accuracy: 0.4204 - val_loss: 3.2013 - val_gender_loss: 0.5182 - val_emotion_loss: 1.3291 - val_age_loss: 1.3539 - val_gender_accuracy: 0.7324 - val_emotion_accuracy: 0.4614 - val_age_accuracy: 0.4230\n",
            "Epoch 14/200\n",
            "691/691 [==============================] - 17s 25ms/step - loss: 3.1741 - gender_loss: 0.5147 - emotion_loss: 1.3059 - age_loss: 1.3535 - gender_accuracy: 0.7354 - emotion_accuracy: 0.4723 - age_accuracy: 0.4266 - val_loss: 3.1631 - val_gender_loss: 0.5043 - val_emotion_loss: 1.3122 - val_age_loss: 1.3466 - val_gender_accuracy: 0.7436 - val_emotion_accuracy: 0.4690 - val_age_accuracy: 0.4272\n",
            "Epoch 15/200\n",
            "691/691 [==============================] - 17s 25ms/step - loss: 3.1472 - gender_loss: 0.5050 - emotion_loss: 1.2965 - age_loss: 1.3457 - gender_accuracy: 0.7429 - emotion_accuracy: 0.4773 - age_accuracy: 0.4307 - val_loss: 3.1341 - val_gender_loss: 0.4874 - val_emotion_loss: 1.3086 - val_age_loss: 1.3380 - val_gender_accuracy: 0.7573 - val_emotion_accuracy: 0.4660 - val_age_accuracy: 0.4202\n",
            "Epoch 16/200\n",
            "691/691 [==============================] - 17s 25ms/step - loss: 3.1051 - gender_loss: 0.4887 - emotion_loss: 1.2843 - age_loss: 1.3321 - gender_accuracy: 0.7507 - emotion_accuracy: 0.4802 - age_accuracy: 0.4355 - val_loss: 3.0852 - val_gender_loss: 0.4842 - val_emotion_loss: 1.2752 - val_age_loss: 1.3258 - val_gender_accuracy: 0.7602 - val_emotion_accuracy: 0.4880 - val_age_accuracy: 0.4333\n",
            "Epoch 17/200\n",
            "691/691 [==============================] - 17s 25ms/step - loss: 3.0753 - gender_loss: 0.4785 - emotion_loss: 1.2723 - age_loss: 1.3245 - gender_accuracy: 0.7605 - emotion_accuracy: 0.4852 - age_accuracy: 0.4407 - val_loss: 3.0750 - val_gender_loss: 0.4717 - val_emotion_loss: 1.2778 - val_age_loss: 1.3255 - val_gender_accuracy: 0.7672 - val_emotion_accuracy: 0.4825 - val_age_accuracy: 0.4358\n",
            "Epoch 18/200\n",
            "691/691 [==============================] - 18s 25ms/step - loss: 3.0374 - gender_loss: 0.4635 - emotion_loss: 1.2547 - age_loss: 1.3193 - gender_accuracy: 0.7707 - emotion_accuracy: 0.4950 - age_accuracy: 0.4417 - val_loss: 3.0475 - val_gender_loss: 0.4580 - val_emotion_loss: 1.2736 - val_age_loss: 1.3159 - val_gender_accuracy: 0.7841 - val_emotion_accuracy: 0.4856 - val_age_accuracy: 0.4462\n",
            "Epoch 19/200\n",
            "691/691 [==============================] - 17s 25ms/step - loss: 3.0075 - gender_loss: 0.4551 - emotion_loss: 1.2454 - age_loss: 1.3070 - gender_accuracy: 0.7773 - emotion_accuracy: 0.5009 - age_accuracy: 0.4479 - val_loss: 3.0534 - val_gender_loss: 0.4794 - val_emotion_loss: 1.2640 - val_age_loss: 1.3100 - val_gender_accuracy: 0.7619 - val_emotion_accuracy: 0.4890 - val_age_accuracy: 0.4428\n",
            "Epoch 20/200\n",
            "691/691 [==============================] - 18s 26ms/step - loss: 2.9864 - gender_loss: 0.4501 - emotion_loss: 1.2384 - age_loss: 1.2979 - gender_accuracy: 0.7787 - emotion_accuracy: 0.5049 - age_accuracy: 0.4566 - val_loss: 3.0004 - val_gender_loss: 0.4414 - val_emotion_loss: 1.2598 - val_age_loss: 1.2991 - val_gender_accuracy: 0.7828 - val_emotion_accuracy: 0.4901 - val_age_accuracy: 0.4586\n",
            "Epoch 21/200\n",
            "691/691 [==============================] - 17s 25ms/step - loss: 2.9423 - gender_loss: 0.4407 - emotion_loss: 1.2167 - age_loss: 1.2849 - gender_accuracy: 0.7831 - emotion_accuracy: 0.5114 - age_accuracy: 0.4590 - val_loss: 2.9623 - val_gender_loss: 0.4247 - val_emotion_loss: 1.2423 - val_age_loss: 1.2953 - val_gender_accuracy: 0.7993 - val_emotion_accuracy: 0.5068 - val_age_accuracy: 0.4510\n",
            "Epoch 22/200\n",
            "691/691 [==============================] - 17s 25ms/step - loss: 2.9124 - gender_loss: 0.4274 - emotion_loss: 1.2112 - age_loss: 1.2739 - gender_accuracy: 0.7944 - emotion_accuracy: 0.5134 - age_accuracy: 0.4636 - val_loss: 2.9320 - val_gender_loss: 0.4200 - val_emotion_loss: 1.2279 - val_age_loss: 1.2841 - val_gender_accuracy: 0.8018 - val_emotion_accuracy: 0.5101 - val_age_accuracy: 0.4542\n",
            "Epoch 23/200\n",
            "691/691 [==============================] - 17s 25ms/step - loss: 2.8795 - gender_loss: 0.4250 - emotion_loss: 1.1915 - age_loss: 1.2630 - gender_accuracy: 0.7948 - emotion_accuracy: 0.5237 - age_accuracy: 0.4689 - val_loss: 2.9149 - val_gender_loss: 0.4248 - val_emotion_loss: 1.2208 - val_age_loss: 1.2692 - val_gender_accuracy: 0.8046 - val_emotion_accuracy: 0.5030 - val_age_accuracy: 0.4601\n",
            "Epoch 24/200\n",
            "691/691 [==============================] - 18s 25ms/step - loss: 2.8577 - gender_loss: 0.4146 - emotion_loss: 1.1881 - age_loss: 1.2550 - gender_accuracy: 0.8001 - emotion_accuracy: 0.5259 - age_accuracy: 0.4755 - val_loss: 2.9565 - val_gender_loss: 0.4395 - val_emotion_loss: 1.2397 - val_age_loss: 1.2773 - val_gender_accuracy: 0.7841 - val_emotion_accuracy: 0.5046 - val_age_accuracy: 0.4626\n",
            "Epoch 25/200\n",
            "691/691 [==============================] - 18s 26ms/step - loss: 2.8188 - gender_loss: 0.4060 - emotion_loss: 1.1696 - age_loss: 1.2432 - gender_accuracy: 0.8064 - emotion_accuracy: 0.5335 - age_accuracy: 0.4824 - val_loss: 2.9274 - val_gender_loss: 0.4418 - val_emotion_loss: 1.2256 - val_age_loss: 1.2600 - val_gender_accuracy: 0.7866 - val_emotion_accuracy: 0.5034 - val_age_accuracy: 0.4764\n",
            "Epoch 26/200\n",
            "691/691 [==============================] - 17s 25ms/step - loss: 2.7919 - gender_loss: 0.4009 - emotion_loss: 1.1591 - age_loss: 1.2319 - gender_accuracy: 0.8106 - emotion_accuracy: 0.5370 - age_accuracy: 0.4874 - val_loss: 2.8513 - val_gender_loss: 0.4015 - val_emotion_loss: 1.2031 - val_age_loss: 1.2466 - val_gender_accuracy: 0.8117 - val_emotion_accuracy: 0.5188 - val_age_accuracy: 0.4783\n",
            "Epoch 27/200\n",
            "691/691 [==============================] - 17s 25ms/step - loss: 2.7691 - gender_loss: 0.4002 - emotion_loss: 1.1500 - age_loss: 1.2189 - gender_accuracy: 0.8106 - emotion_accuracy: 0.5431 - age_accuracy: 0.4958 - val_loss: 2.8343 - val_gender_loss: 0.3923 - val_emotion_loss: 1.1954 - val_age_loss: 1.2466 - val_gender_accuracy: 0.8132 - val_emotion_accuracy: 0.5209 - val_age_accuracy: 0.4799\n",
            "Epoch 28/200\n",
            "691/691 [==============================] - 17s 25ms/step - loss: 2.7287 - gender_loss: 0.3918 - emotion_loss: 1.1362 - age_loss: 1.2007 - gender_accuracy: 0.8148 - emotion_accuracy: 0.5470 - age_accuracy: 0.5024 - val_loss: 2.8025 - val_gender_loss: 0.4014 - val_emotion_loss: 1.1748 - val_age_loss: 1.2263 - val_gender_accuracy: 0.8094 - val_emotion_accuracy: 0.5310 - val_age_accuracy: 0.4818\n",
            "Epoch 29/200\n",
            "691/691 [==============================] - 17s 25ms/step - loss: 2.7078 - gender_loss: 0.3865 - emotion_loss: 1.1230 - age_loss: 1.1983 - gender_accuracy: 0.8164 - emotion_accuracy: 0.5534 - age_accuracy: 0.5011 - val_loss: 2.8178 - val_gender_loss: 0.3974 - val_emotion_loss: 1.1959 - val_age_loss: 1.2245 - val_gender_accuracy: 0.8126 - val_emotion_accuracy: 0.5257 - val_age_accuracy: 0.4869\n",
            "Epoch 30/200\n",
            "691/691 [==============================] - 17s 25ms/step - loss: 2.6758 - gender_loss: 0.3798 - emotion_loss: 1.1130 - age_loss: 1.1830 - gender_accuracy: 0.8223 - emotion_accuracy: 0.5567 - age_accuracy: 0.5114 - val_loss: 2.7514 - val_gender_loss: 0.3745 - val_emotion_loss: 1.1633 - val_age_loss: 1.2137 - val_gender_accuracy: 0.8309 - val_emotion_accuracy: 0.5302 - val_age_accuracy: 0.4913\n",
            "Epoch 31/200\n",
            "691/691 [==============================] - 17s 25ms/step - loss: 2.6302 - gender_loss: 0.3706 - emotion_loss: 1.0917 - age_loss: 1.1678 - gender_accuracy: 0.8242 - emotion_accuracy: 0.5649 - age_accuracy: 0.5182 - val_loss: 2.7342 - val_gender_loss: 0.3731 - val_emotion_loss: 1.1474 - val_age_loss: 1.2137 - val_gender_accuracy: 0.8278 - val_emotion_accuracy: 0.5424 - val_age_accuracy: 0.4907\n",
            "Epoch 32/200\n",
            "691/691 [==============================] - 17s 25ms/step - loss: 2.6072 - gender_loss: 0.3667 - emotion_loss: 1.0836 - age_loss: 1.1570 - gender_accuracy: 0.8306 - emotion_accuracy: 0.5707 - age_accuracy: 0.5253 - val_loss: 2.7485 - val_gender_loss: 0.4126 - val_emotion_loss: 1.1316 - val_age_loss: 1.2043 - val_gender_accuracy: 0.7898 - val_emotion_accuracy: 0.5526 - val_age_accuracy: 0.4987\n",
            "Epoch 33/200\n",
            "691/691 [==============================] - 17s 25ms/step - loss: 2.5774 - gender_loss: 0.3575 - emotion_loss: 1.0699 - age_loss: 1.1500 - gender_accuracy: 0.8324 - emotion_accuracy: 0.5773 - age_accuracy: 0.5278 - val_loss: 2.7013 - val_gender_loss: 0.3607 - val_emotion_loss: 1.1425 - val_age_loss: 1.1980 - val_gender_accuracy: 0.8394 - val_emotion_accuracy: 0.5416 - val_age_accuracy: 0.4989\n",
            "Epoch 34/200\n",
            "691/691 [==============================] - 17s 25ms/step - loss: 2.5463 - gender_loss: 0.3562 - emotion_loss: 1.0599 - age_loss: 1.1301 - gender_accuracy: 0.8365 - emotion_accuracy: 0.5818 - age_accuracy: 0.5344 - val_loss: 2.6661 - val_gender_loss: 0.3566 - val_emotion_loss: 1.1263 - val_age_loss: 1.1832 - val_gender_accuracy: 0.8358 - val_emotion_accuracy: 0.5519 - val_age_accuracy: 0.5144\n",
            "Epoch 35/200\n",
            "691/691 [==============================] - 17s 25ms/step - loss: 2.5228 - gender_loss: 0.3534 - emotion_loss: 1.0496 - age_loss: 1.1199 - gender_accuracy: 0.8351 - emotion_accuracy: 0.5858 - age_accuracy: 0.5388 - val_loss: 2.6485 - val_gender_loss: 0.3864 - val_emotion_loss: 1.1001 - val_age_loss: 1.1620 - val_gender_accuracy: 0.8248 - val_emotion_accuracy: 0.5690 - val_age_accuracy: 0.5211\n",
            "Epoch 36/200\n",
            "691/691 [==============================] - 17s 25ms/step - loss: 2.4845 - gender_loss: 0.3433 - emotion_loss: 1.0336 - age_loss: 1.1077 - gender_accuracy: 0.8433 - emotion_accuracy: 0.5906 - age_accuracy: 0.5484 - val_loss: 2.7309 - val_gender_loss: 0.4320 - val_emotion_loss: 1.1166 - val_age_loss: 1.1823 - val_gender_accuracy: 0.8041 - val_emotion_accuracy: 0.5646 - val_age_accuracy: 0.5103\n",
            "Epoch 37/200\n",
            "691/691 [==============================] - 17s 25ms/step - loss: 2.4549 - gender_loss: 0.3422 - emotion_loss: 1.0206 - age_loss: 1.0921 - gender_accuracy: 0.8422 - emotion_accuracy: 0.5980 - age_accuracy: 0.5539 - val_loss: 2.5850 - val_gender_loss: 0.3492 - val_emotion_loss: 1.0907 - val_age_loss: 1.1451 - val_gender_accuracy: 0.8449 - val_emotion_accuracy: 0.5715 - val_age_accuracy: 0.5302\n",
            "Epoch 38/200\n",
            "691/691 [==============================] - 17s 25ms/step - loss: 2.4260 - gender_loss: 0.3350 - emotion_loss: 1.0048 - age_loss: 1.0862 - gender_accuracy: 0.8453 - emotion_accuracy: 0.6042 - age_accuracy: 0.5563 - val_loss: 2.5709 - val_gender_loss: 0.3407 - val_emotion_loss: 1.0934 - val_age_loss: 1.1368 - val_gender_accuracy: 0.8495 - val_emotion_accuracy: 0.5635 - val_age_accuracy: 0.5371\n",
            "Epoch 39/200\n",
            "691/691 [==============================] - 17s 25ms/step - loss: 2.3926 - gender_loss: 0.3285 - emotion_loss: 0.9925 - age_loss: 1.0716 - gender_accuracy: 0.8492 - emotion_accuracy: 0.6093 - age_accuracy: 0.5658 - val_loss: 2.5350 - val_gender_loss: 0.3334 - val_emotion_loss: 1.0676 - val_age_loss: 1.1341 - val_gender_accuracy: 0.8495 - val_emotion_accuracy: 0.5743 - val_age_accuracy: 0.5281\n",
            "Epoch 40/200\n",
            "691/691 [==============================] - 18s 25ms/step - loss: 2.3716 - gender_loss: 0.3257 - emotion_loss: 0.9880 - age_loss: 1.0580 - gender_accuracy: 0.8526 - emotion_accuracy: 0.6103 - age_accuracy: 0.5679 - val_loss: 2.5027 - val_gender_loss: 0.3318 - val_emotion_loss: 1.0576 - val_age_loss: 1.1134 - val_gender_accuracy: 0.8531 - val_emotion_accuracy: 0.5870 - val_age_accuracy: 0.5409\n",
            "Epoch 41/200\n",
            "691/691 [==============================] - 17s 25ms/step - loss: 2.3373 - gender_loss: 0.3217 - emotion_loss: 0.9639 - age_loss: 1.0517 - gender_accuracy: 0.8544 - emotion_accuracy: 0.6243 - age_accuracy: 0.5697 - val_loss: 2.5369 - val_gender_loss: 0.3466 - val_emotion_loss: 1.0681 - val_age_loss: 1.1222 - val_gender_accuracy: 0.8453 - val_emotion_accuracy: 0.5760 - val_age_accuracy: 0.5433\n",
            "Epoch 42/200\n",
            "691/691 [==============================] - 17s 25ms/step - loss: 2.2976 - gender_loss: 0.3093 - emotion_loss: 0.9537 - age_loss: 1.0346 - gender_accuracy: 0.8601 - emotion_accuracy: 0.6247 - age_accuracy: 0.5778 - val_loss: 2.4611 - val_gender_loss: 0.3178 - val_emotion_loss: 1.0360 - val_age_loss: 1.1073 - val_gender_accuracy: 0.8613 - val_emotion_accuracy: 0.5941 - val_age_accuracy: 0.5530\n",
            "Epoch 43/200\n",
            "691/691 [==============================] - 17s 25ms/step - loss: 2.2794 - gender_loss: 0.3096 - emotion_loss: 0.9445 - age_loss: 1.0253 - gender_accuracy: 0.8606 - emotion_accuracy: 0.6279 - age_accuracy: 0.5824 - val_loss: 2.4386 - val_gender_loss: 0.3359 - val_emotion_loss: 1.0230 - val_age_loss: 1.0796 - val_gender_accuracy: 0.8474 - val_emotion_accuracy: 0.6064 - val_age_accuracy: 0.5616\n",
            "Epoch 44/200\n",
            "691/691 [==============================] - 18s 25ms/step - loss: 2.2467 - gender_loss: 0.3070 - emotion_loss: 0.9342 - age_loss: 1.0055 - gender_accuracy: 0.8624 - emotion_accuracy: 0.6313 - age_accuracy: 0.5938 - val_loss: 2.4480 - val_gender_loss: 0.3170 - val_emotion_loss: 1.0301 - val_age_loss: 1.1009 - val_gender_accuracy: 0.8586 - val_emotion_accuracy: 0.5916 - val_age_accuracy: 0.5475\n",
            "Epoch 45/200\n",
            "691/691 [==============================] - 17s 25ms/step - loss: 2.2288 - gender_loss: 0.3066 - emotion_loss: 0.9217 - age_loss: 1.0004 - gender_accuracy: 0.8595 - emotion_accuracy: 0.6418 - age_accuracy: 0.5971 - val_loss: 2.4082 - val_gender_loss: 0.3128 - val_emotion_loss: 1.0165 - val_age_loss: 1.0788 - val_gender_accuracy: 0.8620 - val_emotion_accuracy: 0.6013 - val_age_accuracy: 0.5648\n",
            "Epoch 46/200\n",
            "691/691 [==============================] - 18s 25ms/step - loss: 2.1949 - gender_loss: 0.3034 - emotion_loss: 0.9052 - age_loss: 0.9863 - gender_accuracy: 0.8616 - emotion_accuracy: 0.6457 - age_accuracy: 0.6032 - val_loss: 2.3932 - val_gender_loss: 0.3184 - val_emotion_loss: 1.0103 - val_age_loss: 1.0645 - val_gender_accuracy: 0.8542 - val_emotion_accuracy: 0.6032 - val_age_accuracy: 0.5694\n",
            "Epoch 47/200\n",
            "691/691 [==============================] - 18s 25ms/step - loss: 2.1691 - gender_loss: 0.2958 - emotion_loss: 0.8976 - age_loss: 0.9757 - gender_accuracy: 0.8678 - emotion_accuracy: 0.6481 - age_accuracy: 0.6093 - val_loss: 2.3649 - val_gender_loss: 0.3154 - val_emotion_loss: 0.9986 - val_age_loss: 1.0509 - val_gender_accuracy: 0.8603 - val_emotion_accuracy: 0.6060 - val_age_accuracy: 0.5781\n",
            "Epoch 48/200\n",
            "691/691 [==============================] - 17s 25ms/step - loss: 2.1268 - gender_loss: 0.2891 - emotion_loss: 0.8805 - age_loss: 0.9572 - gender_accuracy: 0.8701 - emotion_accuracy: 0.6565 - age_accuracy: 0.6161 - val_loss: 2.3806 - val_gender_loss: 0.3134 - val_emotion_loss: 1.0106 - val_age_loss: 1.0566 - val_gender_accuracy: 0.8634 - val_emotion_accuracy: 0.6140 - val_age_accuracy: 0.5724\n",
            "Epoch 49/200\n",
            "691/691 [==============================] - 17s 25ms/step - loss: 2.1044 - gender_loss: 0.2862 - emotion_loss: 0.8732 - age_loss: 0.9449 - gender_accuracy: 0.8763 - emotion_accuracy: 0.6580 - age_accuracy: 0.6214 - val_loss: 2.3738 - val_gender_loss: 0.3589 - val_emotion_loss: 0.9907 - val_age_loss: 1.0242 - val_gender_accuracy: 0.8362 - val_emotion_accuracy: 0.6138 - val_age_accuracy: 0.5948\n",
            "Epoch 50/200\n",
            "691/691 [==============================] - 17s 25ms/step - loss: 2.0779 - gender_loss: 0.2849 - emotion_loss: 0.8576 - age_loss: 0.9353 - gender_accuracy: 0.8718 - emotion_accuracy: 0.6657 - age_accuracy: 0.6215 - val_loss: 2.3631 - val_gender_loss: 0.3349 - val_emotion_loss: 0.9750 - val_age_loss: 1.0533 - val_gender_accuracy: 0.8482 - val_emotion_accuracy: 0.6186 - val_age_accuracy: 0.5844\n",
            "Epoch 51/200\n",
            "691/691 [==============================] - 17s 25ms/step - loss: 2.0501 - gender_loss: 0.2838 - emotion_loss: 0.8435 - age_loss: 0.9227 - gender_accuracy: 0.8762 - emotion_accuracy: 0.6738 - age_accuracy: 0.6300 - val_loss: 2.2706 - val_gender_loss: 0.2960 - val_emotion_loss: 0.9618 - val_age_loss: 1.0128 - val_gender_accuracy: 0.8744 - val_emotion_accuracy: 0.6247 - val_age_accuracy: 0.5973\n",
            "Epoch 52/200\n",
            "691/691 [==============================] - 17s 25ms/step - loss: 2.0234 - gender_loss: 0.2807 - emotion_loss: 0.8333 - age_loss: 0.9095 - gender_accuracy: 0.8741 - emotion_accuracy: 0.6726 - age_accuracy: 0.6363 - val_loss: 2.2750 - val_gender_loss: 0.3060 - val_emotion_loss: 0.9587 - val_age_loss: 1.0103 - val_gender_accuracy: 0.8613 - val_emotion_accuracy: 0.6239 - val_age_accuracy: 0.5954\n",
            "Epoch 53/200\n",
            "691/691 [==============================] - 17s 25ms/step - loss: 1.9843 - gender_loss: 0.2674 - emotion_loss: 0.8224 - age_loss: 0.8946 - gender_accuracy: 0.8824 - emotion_accuracy: 0.6772 - age_accuracy: 0.6434 - val_loss: 2.2920 - val_gender_loss: 0.3272 - val_emotion_loss: 0.9486 - val_age_loss: 1.0163 - val_gender_accuracy: 0.8590 - val_emotion_accuracy: 0.6336 - val_age_accuracy: 0.5916\n",
            "Epoch 54/200\n",
            "691/691 [==============================] - 17s 25ms/step - loss: 1.9626 - gender_loss: 0.2718 - emotion_loss: 0.8065 - age_loss: 0.8843 - gender_accuracy: 0.8786 - emotion_accuracy: 0.6839 - age_accuracy: 0.6476 - val_loss: 2.2702 - val_gender_loss: 0.3099 - val_emotion_loss: 0.9634 - val_age_loss: 0.9970 - val_gender_accuracy: 0.8694 - val_emotion_accuracy: 0.6254 - val_age_accuracy: 0.5990\n",
            "Epoch 55/200\n",
            "691/691 [==============================] - 18s 25ms/step - loss: 1.9263 - gender_loss: 0.2641 - emotion_loss: 0.7939 - age_loss: 0.8683 - gender_accuracy: 0.8811 - emotion_accuracy: 0.6910 - age_accuracy: 0.6565 - val_loss: 2.2070 - val_gender_loss: 0.3029 - val_emotion_loss: 0.9225 - val_age_loss: 0.9817 - val_gender_accuracy: 0.8670 - val_emotion_accuracy: 0.6439 - val_age_accuracy: 0.6190\n",
            "Epoch 56/200\n",
            "691/691 [==============================] - 17s 25ms/step - loss: 1.9026 - gender_loss: 0.2548 - emotion_loss: 0.7848 - age_loss: 0.8630 - gender_accuracy: 0.8863 - emotion_accuracy: 0.6969 - age_accuracy: 0.6551 - val_loss: 2.1858 - val_gender_loss: 0.2973 - val_emotion_loss: 0.9117 - val_age_loss: 0.9768 - val_gender_accuracy: 0.8721 - val_emotion_accuracy: 0.6480 - val_age_accuracy: 0.6062\n",
            "Epoch 57/200\n",
            "691/691 [==============================] - 17s 25ms/step - loss: 1.8842 - gender_loss: 0.2549 - emotion_loss: 0.7810 - age_loss: 0.8484 - gender_accuracy: 0.8891 - emotion_accuracy: 0.6961 - age_accuracy: 0.6613 - val_loss: 2.1335 - val_gender_loss: 0.2762 - val_emotion_loss: 0.8994 - val_age_loss: 0.9578 - val_gender_accuracy: 0.8784 - val_emotion_accuracy: 0.6522 - val_age_accuracy: 0.6235\n",
            "Epoch 58/200\n",
            "691/691 [==============================] - 17s 25ms/step - loss: 1.8476 - gender_loss: 0.2503 - emotion_loss: 0.7610 - age_loss: 0.8362 - gender_accuracy: 0.8904 - emotion_accuracy: 0.7049 - age_accuracy: 0.6698 - val_loss: 2.1408 - val_gender_loss: 0.2785 - val_emotion_loss: 0.8973 - val_age_loss: 0.9650 - val_gender_accuracy: 0.8763 - val_emotion_accuracy: 0.6623 - val_age_accuracy: 0.6218\n",
            "Epoch 59/200\n",
            "691/691 [==============================] - 17s 25ms/step - loss: 1.8124 - gender_loss: 0.2518 - emotion_loss: 0.7392 - age_loss: 0.8214 - gender_accuracy: 0.8914 - emotion_accuracy: 0.7105 - age_accuracy: 0.6721 - val_loss: 2.1231 - val_gender_loss: 0.2766 - val_emotion_loss: 0.8755 - val_age_loss: 0.9710 - val_gender_accuracy: 0.8776 - val_emotion_accuracy: 0.6577 - val_age_accuracy: 0.6268\n",
            "Epoch 60/200\n",
            "691/691 [==============================] - 17s 25ms/step - loss: 1.7936 - gender_loss: 0.2421 - emotion_loss: 0.7409 - age_loss: 0.8106 - gender_accuracy: 0.8953 - emotion_accuracy: 0.7157 - age_accuracy: 0.6784 - val_loss: 2.0684 - val_gender_loss: 0.2639 - val_emotion_loss: 0.8912 - val_age_loss: 0.9132 - val_gender_accuracy: 0.8805 - val_emotion_accuracy: 0.6545 - val_age_accuracy: 0.6404\n",
            "Epoch 61/200\n",
            "691/691 [==============================] - 17s 25ms/step - loss: 1.7611 - gender_loss: 0.2347 - emotion_loss: 0.7245 - age_loss: 0.8020 - gender_accuracy: 0.8996 - emotion_accuracy: 0.7185 - age_accuracy: 0.6837 - val_loss: 2.0817 - val_gender_loss: 0.2772 - val_emotion_loss: 0.8881 - val_age_loss: 0.9163 - val_gender_accuracy: 0.8795 - val_emotion_accuracy: 0.6568 - val_age_accuracy: 0.6323\n",
            "Epoch 62/200\n",
            "691/691 [==============================] - 17s 25ms/step - loss: 1.7362 - gender_loss: 0.2379 - emotion_loss: 0.7171 - age_loss: 0.7811 - gender_accuracy: 0.8972 - emotion_accuracy: 0.7243 - age_accuracy: 0.6943 - val_loss: 2.0460 - val_gender_loss: 0.2869 - val_emotion_loss: 0.8551 - val_age_loss: 0.9040 - val_gender_accuracy: 0.8799 - val_emotion_accuracy: 0.6724 - val_age_accuracy: 0.6507\n",
            "Epoch 63/200\n",
            "691/691 [==============================] - 17s 25ms/step - loss: 1.7226 - gender_loss: 0.2374 - emotion_loss: 0.7087 - age_loss: 0.7765 - gender_accuracy: 0.8960 - emotion_accuracy: 0.7277 - age_accuracy: 0.6952 - val_loss: 2.0136 - val_gender_loss: 0.2631 - val_emotion_loss: 0.8425 - val_age_loss: 0.9080 - val_gender_accuracy: 0.8858 - val_emotion_accuracy: 0.6809 - val_age_accuracy: 0.6433\n",
            "Epoch 64/200\n",
            "691/691 [==============================] - 17s 25ms/step - loss: 1.6966 - gender_loss: 0.2357 - emotion_loss: 0.6900 - age_loss: 0.7708 - gender_accuracy: 0.8989 - emotion_accuracy: 0.7317 - age_accuracy: 0.6986 - val_loss: 1.9969 - val_gender_loss: 0.2660 - val_emotion_loss: 0.8345 - val_age_loss: 0.8964 - val_gender_accuracy: 0.8915 - val_emotion_accuracy: 0.6830 - val_age_accuracy: 0.6501\n",
            "Epoch 65/200\n",
            "691/691 [==============================] - 17s 25ms/step - loss: 1.6734 - gender_loss: 0.2289 - emotion_loss: 0.6919 - age_loss: 0.7526 - gender_accuracy: 0.8996 - emotion_accuracy: 0.7331 - age_accuracy: 0.7008 - val_loss: 2.0011 - val_gender_loss: 0.2661 - val_emotion_loss: 0.8375 - val_age_loss: 0.8975 - val_gender_accuracy: 0.8894 - val_emotion_accuracy: 0.6767 - val_age_accuracy: 0.6551\n",
            "Epoch 66/200\n",
            "691/691 [==============================] - 17s 25ms/step - loss: 1.6345 - gender_loss: 0.2236 - emotion_loss: 0.6691 - age_loss: 0.7418 - gender_accuracy: 0.9032 - emotion_accuracy: 0.7403 - age_accuracy: 0.7093 - val_loss: 2.0337 - val_gender_loss: 0.2629 - val_emotion_loss: 0.8543 - val_age_loss: 0.9165 - val_gender_accuracy: 0.8860 - val_emotion_accuracy: 0.6739 - val_age_accuracy: 0.6393\n",
            "Epoch 67/200\n",
            "691/691 [==============================] - 17s 25ms/step - loss: 1.6151 - gender_loss: 0.2177 - emotion_loss: 0.6623 - age_loss: 0.7351 - gender_accuracy: 0.9061 - emotion_accuracy: 0.7452 - age_accuracy: 0.7098 - val_loss: 2.0146 - val_gender_loss: 0.2914 - val_emotion_loss: 0.8473 - val_age_loss: 0.8759 - val_gender_accuracy: 0.8679 - val_emotion_accuracy: 0.6779 - val_age_accuracy: 0.6634\n",
            "Epoch 68/200\n",
            "691/691 [==============================] - 17s 25ms/step - loss: 1.5909 - gender_loss: 0.2151 - emotion_loss: 0.6500 - age_loss: 0.7258 - gender_accuracy: 0.9073 - emotion_accuracy: 0.7486 - age_accuracy: 0.7143 - val_loss: 1.9189 - val_gender_loss: 0.2618 - val_emotion_loss: 0.8085 - val_age_loss: 0.8486 - val_gender_accuracy: 0.8953 - val_emotion_accuracy: 0.6921 - val_age_accuracy: 0.6697\n",
            "Epoch 69/200\n",
            "691/691 [==============================] - 17s 25ms/step - loss: 1.5755 - gender_loss: 0.2137 - emotion_loss: 0.6443 - age_loss: 0.7175 - gender_accuracy: 0.9078 - emotion_accuracy: 0.7552 - age_accuracy: 0.7178 - val_loss: 1.9274 - val_gender_loss: 0.2791 - val_emotion_loss: 0.8050 - val_age_loss: 0.8434 - val_gender_accuracy: 0.8839 - val_emotion_accuracy: 0.7007 - val_age_accuracy: 0.6680\n",
            "Epoch 70/200\n",
            "691/691 [==============================] - 17s 25ms/step - loss: 1.5486 - gender_loss: 0.2148 - emotion_loss: 0.6349 - age_loss: 0.6989 - gender_accuracy: 0.9085 - emotion_accuracy: 0.7577 - age_accuracy: 0.7241 - val_loss: 1.8863 - val_gender_loss: 0.2614 - val_emotion_loss: 0.7773 - val_age_loss: 0.8477 - val_gender_accuracy: 0.8877 - val_emotion_accuracy: 0.7058 - val_age_accuracy: 0.6764\n",
            "Epoch 71/200\n",
            "691/691 [==============================] - 17s 25ms/step - loss: 1.5148 - gender_loss: 0.2085 - emotion_loss: 0.6187 - age_loss: 0.6876 - gender_accuracy: 0.9112 - emotion_accuracy: 0.7624 - age_accuracy: 0.7300 - val_loss: 1.8806 - val_gender_loss: 0.2683 - val_emotion_loss: 0.7787 - val_age_loss: 0.8336 - val_gender_accuracy: 0.8852 - val_emotion_accuracy: 0.7081 - val_age_accuracy: 0.6849\n",
            "Epoch 72/200\n",
            "691/691 [==============================] - 17s 25ms/step - loss: 1.4881 - gender_loss: 0.2082 - emotion_loss: 0.6068 - age_loss: 0.6730 - gender_accuracy: 0.9127 - emotion_accuracy: 0.7652 - age_accuracy: 0.7378 - val_loss: 1.8442 - val_gender_loss: 0.2575 - val_emotion_loss: 0.7791 - val_age_loss: 0.8076 - val_gender_accuracy: 0.8928 - val_emotion_accuracy: 0.7030 - val_age_accuracy: 0.6857\n",
            "Epoch 73/200\n",
            "691/691 [==============================] - 17s 25ms/step - loss: 1.4573 - gender_loss: 0.2026 - emotion_loss: 0.5933 - age_loss: 0.6613 - gender_accuracy: 0.9113 - emotion_accuracy: 0.7723 - age_accuracy: 0.7406 - val_loss: 1.8280 - val_gender_loss: 0.2401 - val_emotion_loss: 0.7645 - val_age_loss: 0.8234 - val_gender_accuracy: 0.9038 - val_emotion_accuracy: 0.7161 - val_age_accuracy: 0.6887\n",
            "Epoch 74/200\n",
            "691/691 [==============================] - 17s 25ms/step - loss: 1.4510 - gender_loss: 0.1997 - emotion_loss: 0.5946 - age_loss: 0.6566 - gender_accuracy: 0.9168 - emotion_accuracy: 0.7728 - age_accuracy: 0.7448 - val_loss: 1.8666 - val_gender_loss: 0.2741 - val_emotion_loss: 0.7608 - val_age_loss: 0.8317 - val_gender_accuracy: 0.8820 - val_emotion_accuracy: 0.7149 - val_age_accuracy: 0.6813\n",
            "Epoch 75/200\n",
            "691/691 [==============================] - 17s 25ms/step - loss: 1.4244 - gender_loss: 0.1970 - emotion_loss: 0.5795 - age_loss: 0.6479 - gender_accuracy: 0.9170 - emotion_accuracy: 0.7794 - age_accuracy: 0.7493 - val_loss: 1.7357 - val_gender_loss: 0.2268 - val_emotion_loss: 0.7129 - val_age_loss: 0.7960 - val_gender_accuracy: 0.9052 - val_emotion_accuracy: 0.7330 - val_age_accuracy: 0.6959\n",
            "Epoch 76/200\n",
            "691/691 [==============================] - 17s 25ms/step - loss: 1.4087 - gender_loss: 0.1952 - emotion_loss: 0.5764 - age_loss: 0.6370 - gender_accuracy: 0.9186 - emotion_accuracy: 0.7770 - age_accuracy: 0.7514 - val_loss: 1.8292 - val_gender_loss: 0.2768 - val_emotion_loss: 0.7465 - val_age_loss: 0.8059 - val_gender_accuracy: 0.8898 - val_emotion_accuracy: 0.7233 - val_age_accuracy: 0.6959\n",
            "Epoch 77/200\n",
            "691/691 [==============================] - 18s 25ms/step - loss: 1.3747 - gender_loss: 0.1891 - emotion_loss: 0.5621 - age_loss: 0.6235 - gender_accuracy: 0.9208 - emotion_accuracy: 0.7868 - age_accuracy: 0.7577 - val_loss: 1.8206 - val_gender_loss: 0.2640 - val_emotion_loss: 0.7713 - val_age_loss: 0.7854 - val_gender_accuracy: 0.8930 - val_emotion_accuracy: 0.7199 - val_age_accuracy: 0.7041\n",
            "Epoch 78/200\n",
            "691/691 [==============================] - 17s 25ms/step - loss: 1.3633 - gender_loss: 0.1898 - emotion_loss: 0.5553 - age_loss: 0.6182 - gender_accuracy: 0.9217 - emotion_accuracy: 0.7863 - age_accuracy: 0.7562 - val_loss: 1.8306 - val_gender_loss: 0.2801 - val_emotion_loss: 0.7559 - val_age_loss: 0.7946 - val_gender_accuracy: 0.8864 - val_emotion_accuracy: 0.7317 - val_age_accuracy: 0.6999\n",
            "Epoch 79/200\n",
            "691/691 [==============================] - 17s 25ms/step - loss: 1.3246 - gender_loss: 0.1854 - emotion_loss: 0.5383 - age_loss: 0.6009 - gender_accuracy: 0.9222 - emotion_accuracy: 0.7956 - age_accuracy: 0.7677 - val_loss: 1.7417 - val_gender_loss: 0.2334 - val_emotion_loss: 0.7156 - val_age_loss: 0.7927 - val_gender_accuracy: 0.8964 - val_emotion_accuracy: 0.7303 - val_age_accuracy: 0.7043\n",
            "Epoch 80/200\n",
            "691/691 [==============================] - 17s 25ms/step - loss: 1.3150 - gender_loss: 0.1836 - emotion_loss: 0.5302 - age_loss: 0.6012 - gender_accuracy: 0.9249 - emotion_accuracy: 0.7954 - age_accuracy: 0.7684 - val_loss: 1.7077 - val_gender_loss: 0.2305 - val_emotion_loss: 0.7224 - val_age_loss: 0.7547 - val_gender_accuracy: 0.9086 - val_emotion_accuracy: 0.7385 - val_age_accuracy: 0.7180\n",
            "Epoch 81/200\n",
            "691/691 [==============================] - 17s 25ms/step - loss: 1.2931 - gender_loss: 0.1834 - emotion_loss: 0.5225 - age_loss: 0.5872 - gender_accuracy: 0.9236 - emotion_accuracy: 0.8019 - age_accuracy: 0.7741 - val_loss: 1.7118 - val_gender_loss: 0.2738 - val_emotion_loss: 0.6896 - val_age_loss: 0.7485 - val_gender_accuracy: 0.8881 - val_emotion_accuracy: 0.7362 - val_age_accuracy: 0.7161\n",
            "Epoch 82/200\n",
            "691/691 [==============================] - 17s 25ms/step - loss: 1.2597 - gender_loss: 0.1756 - emotion_loss: 0.5127 - age_loss: 0.5714 - gender_accuracy: 0.9280 - emotion_accuracy: 0.8038 - age_accuracy: 0.7799 - val_loss: 1.7125 - val_gender_loss: 0.2499 - val_emotion_loss: 0.6837 - val_age_loss: 0.7789 - val_gender_accuracy: 0.9004 - val_emotion_accuracy: 0.7528 - val_age_accuracy: 0.7174\n",
            "Epoch 83/200\n",
            "691/691 [==============================] - 18s 26ms/step - loss: 1.2445 - gender_loss: 0.1743 - emotion_loss: 0.5027 - age_loss: 0.5674 - gender_accuracy: 0.9275 - emotion_accuracy: 0.8083 - age_accuracy: 0.7825 - val_loss: 1.6769 - val_gender_loss: 0.2404 - val_emotion_loss: 0.6943 - val_age_loss: 0.7423 - val_gender_accuracy: 0.9095 - val_emotion_accuracy: 0.7436 - val_age_accuracy: 0.7292\n",
            "Epoch 84/200\n",
            "691/691 [==============================] - 18s 27ms/step - loss: 1.2206 - gender_loss: 0.1728 - emotion_loss: 0.4905 - age_loss: 0.5573 - gender_accuracy: 0.9270 - emotion_accuracy: 0.8134 - age_accuracy: 0.7868 - val_loss: 1.6448 - val_gender_loss: 0.2442 - val_emotion_loss: 0.6652 - val_age_loss: 0.7354 - val_gender_accuracy: 0.9021 - val_emotion_accuracy: 0.7569 - val_age_accuracy: 0.7301\n",
            "Epoch 85/200\n",
            "691/691 [==============================] - 20s 28ms/step - loss: 1.2132 - gender_loss: 0.1689 - emotion_loss: 0.4867 - age_loss: 0.5576 - gender_accuracy: 0.9284 - emotion_accuracy: 0.8116 - age_accuracy: 0.7858 - val_loss: 1.5940 - val_gender_loss: 0.2214 - val_emotion_loss: 0.6625 - val_age_loss: 0.7101 - val_gender_accuracy: 0.9069 - val_emotion_accuracy: 0.7581 - val_age_accuracy: 0.7366\n",
            "Epoch 86/200\n",
            "691/691 [==============================] - 19s 27ms/step - loss: 1.1960 - gender_loss: 0.1753 - emotion_loss: 0.4811 - age_loss: 0.5396 - gender_accuracy: 0.9274 - emotion_accuracy: 0.8170 - age_accuracy: 0.7928 - val_loss: 1.6269 - val_gender_loss: 0.2313 - val_emotion_loss: 0.6632 - val_age_loss: 0.7324 - val_gender_accuracy: 0.9069 - val_emotion_accuracy: 0.7594 - val_age_accuracy: 0.7246\n",
            "Epoch 87/200\n",
            "691/691 [==============================] - 19s 27ms/step - loss: 1.1684 - gender_loss: 0.1649 - emotion_loss: 0.4729 - age_loss: 0.5306 - gender_accuracy: 0.9326 - emotion_accuracy: 0.8224 - age_accuracy: 0.7943 - val_loss: 1.6098 - val_gender_loss: 0.2361 - val_emotion_loss: 0.6555 - val_age_loss: 0.7182 - val_gender_accuracy: 0.9109 - val_emotion_accuracy: 0.7592 - val_age_accuracy: 0.7434\n",
            "Epoch 88/200\n",
            "691/691 [==============================] - 18s 26ms/step - loss: 1.1548 - gender_loss: 0.1614 - emotion_loss: 0.4650 - age_loss: 0.5284 - gender_accuracy: 0.9331 - emotion_accuracy: 0.8231 - age_accuracy: 0.7977 - val_loss: 1.5565 - val_gender_loss: 0.2006 - val_emotion_loss: 0.6450 - val_age_loss: 0.7109 - val_gender_accuracy: 0.9152 - val_emotion_accuracy: 0.7661 - val_age_accuracy: 0.7410\n",
            "Epoch 89/200\n",
            "691/691 [==============================] - 17s 25ms/step - loss: 1.1320 - gender_loss: 0.1619 - emotion_loss: 0.4525 - age_loss: 0.5176 - gender_accuracy: 0.9327 - emotion_accuracy: 0.8290 - age_accuracy: 0.8011 - val_loss: 1.5708 - val_gender_loss: 0.2054 - val_emotion_loss: 0.6624 - val_age_loss: 0.7030 - val_gender_accuracy: 0.9175 - val_emotion_accuracy: 0.7602 - val_age_accuracy: 0.7488\n",
            "Epoch 90/200\n",
            "691/691 [==============================] - 17s 25ms/step - loss: 1.1302 - gender_loss: 0.1585 - emotion_loss: 0.4582 - age_loss: 0.5135 - gender_accuracy: 0.9355 - emotion_accuracy: 0.8268 - age_accuracy: 0.8022 - val_loss: 1.5426 - val_gender_loss: 0.2121 - val_emotion_loss: 0.6526 - val_age_loss: 0.6779 - val_gender_accuracy: 0.9139 - val_emotion_accuracy: 0.7748 - val_age_accuracy: 0.7507\n",
            "Epoch 91/200\n",
            "691/691 [==============================] - 17s 25ms/step - loss: 1.0884 - gender_loss: 0.1592 - emotion_loss: 0.4316 - age_loss: 0.4977 - gender_accuracy: 0.9355 - emotion_accuracy: 0.8336 - age_accuracy: 0.8087 - val_loss: 1.5517 - val_gender_loss: 0.2069 - val_emotion_loss: 0.6727 - val_age_loss: 0.6721 - val_gender_accuracy: 0.9192 - val_emotion_accuracy: 0.7577 - val_age_accuracy: 0.7569\n",
            "Epoch 92/200\n",
            "691/691 [==============================] - 17s 25ms/step - loss: 1.1011 - gender_loss: 0.1582 - emotion_loss: 0.4460 - age_loss: 0.4969 - gender_accuracy: 0.9364 - emotion_accuracy: 0.8285 - age_accuracy: 0.8089 - val_loss: 1.5198 - val_gender_loss: 0.2254 - val_emotion_loss: 0.6187 - val_age_loss: 0.6757 - val_gender_accuracy: 0.9069 - val_emotion_accuracy: 0.7794 - val_age_accuracy: 0.7564\n",
            "Epoch 93/200\n",
            "691/691 [==============================] - 17s 25ms/step - loss: 1.0724 - gender_loss: 0.1512 - emotion_loss: 0.4371 - age_loss: 0.4841 - gender_accuracy: 0.9381 - emotion_accuracy: 0.8344 - age_accuracy: 0.8137 - val_loss: 1.4887 - val_gender_loss: 0.2009 - val_emotion_loss: 0.6194 - val_age_loss: 0.6684 - val_gender_accuracy: 0.9219 - val_emotion_accuracy: 0.7773 - val_age_accuracy: 0.7596\n",
            "Epoch 94/200\n",
            "691/691 [==============================] - 18s 25ms/step - loss: 1.0561 - gender_loss: 0.1531 - emotion_loss: 0.4232 - age_loss: 0.4798 - gender_accuracy: 0.9397 - emotion_accuracy: 0.8387 - age_accuracy: 0.8161 - val_loss: 1.4652 - val_gender_loss: 0.2318 - val_emotion_loss: 0.5956 - val_age_loss: 0.6378 - val_gender_accuracy: 0.9126 - val_emotion_accuracy: 0.7917 - val_age_accuracy: 0.7744\n",
            "Epoch 95/200\n",
            "691/691 [==============================] - 17s 25ms/step - loss: 1.0345 - gender_loss: 0.1472 - emotion_loss: 0.4212 - age_loss: 0.4662 - gender_accuracy: 0.9407 - emotion_accuracy: 0.8410 - age_accuracy: 0.8176 - val_loss: 1.4626 - val_gender_loss: 0.1929 - val_emotion_loss: 0.6222 - val_age_loss: 0.6475 - val_gender_accuracy: 0.9209 - val_emotion_accuracy: 0.7854 - val_age_accuracy: 0.7664\n",
            "Epoch 96/200\n",
            "691/691 [==============================] - 17s 25ms/step - loss: 1.0225 - gender_loss: 0.1479 - emotion_loss: 0.4161 - age_loss: 0.4585 - gender_accuracy: 0.9403 - emotion_accuracy: 0.8447 - age_accuracy: 0.8238 - val_loss: 1.4814 - val_gender_loss: 0.1857 - val_emotion_loss: 0.6202 - val_age_loss: 0.6754 - val_gender_accuracy: 0.9293 - val_emotion_accuracy: 0.7752 - val_age_accuracy: 0.7630\n",
            "Epoch 97/200\n",
            "691/691 [==============================] - 17s 25ms/step - loss: 1.0074 - gender_loss: 0.1459 - emotion_loss: 0.4089 - age_loss: 0.4526 - gender_accuracy: 0.9409 - emotion_accuracy: 0.8455 - age_accuracy: 0.8280 - val_loss: 1.4709 - val_gender_loss: 0.2211 - val_emotion_loss: 0.6108 - val_age_loss: 0.6390 - val_gender_accuracy: 0.9141 - val_emotion_accuracy: 0.7887 - val_age_accuracy: 0.7685\n",
            "Epoch 98/200\n",
            "691/691 [==============================] - 17s 25ms/step - loss: 0.9807 - gender_loss: 0.1413 - emotion_loss: 0.3969 - age_loss: 0.4426 - gender_accuracy: 0.9427 - emotion_accuracy: 0.8512 - age_accuracy: 0.8332 - val_loss: 1.5121 - val_gender_loss: 0.2236 - val_emotion_loss: 0.6079 - val_age_loss: 0.6806 - val_gender_accuracy: 0.9130 - val_emotion_accuracy: 0.7944 - val_age_accuracy: 0.7571\n",
            "Epoch 99/200\n",
            "691/691 [==============================] - 18s 25ms/step - loss: 0.9838 - gender_loss: 0.1458 - emotion_loss: 0.3939 - age_loss: 0.4441 - gender_accuracy: 0.9409 - emotion_accuracy: 0.8512 - age_accuracy: 0.8307 - val_loss: 1.4358 - val_gender_loss: 0.2053 - val_emotion_loss: 0.6088 - val_age_loss: 0.6217 - val_gender_accuracy: 0.9204 - val_emotion_accuracy: 0.7866 - val_age_accuracy: 0.7868\n",
            "Epoch 100/200\n",
            "691/691 [==============================] - 17s 25ms/step - loss: 0.9587 - gender_loss: 0.1365 - emotion_loss: 0.3864 - age_loss: 0.4358 - gender_accuracy: 0.9456 - emotion_accuracy: 0.8550 - age_accuracy: 0.8311 - val_loss: 1.4217 - val_gender_loss: 0.2099 - val_emotion_loss: 0.5837 - val_age_loss: 0.6281 - val_gender_accuracy: 0.9168 - val_emotion_accuracy: 0.8079 - val_age_accuracy: 0.7799\n",
            "Epoch 101/200\n",
            "691/691 [==============================] - 17s 25ms/step - loss: 0.9381 - gender_loss: 0.1413 - emotion_loss: 0.3761 - age_loss: 0.4207 - gender_accuracy: 0.9450 - emotion_accuracy: 0.8610 - age_accuracy: 0.8418 - val_loss: 1.3757 - val_gender_loss: 0.2181 - val_emotion_loss: 0.5442 - val_age_loss: 0.6134 - val_gender_accuracy: 0.9173 - val_emotion_accuracy: 0.8183 - val_age_accuracy: 0.7864\n",
            "Epoch 102/200\n",
            "691/691 [==============================] - 17s 25ms/step - loss: 0.9169 - gender_loss: 0.1343 - emotion_loss: 0.3643 - age_loss: 0.4183 - gender_accuracy: 0.9458 - emotion_accuracy: 0.8630 - age_accuracy: 0.8411 - val_loss: 1.4265 - val_gender_loss: 0.1917 - val_emotion_loss: 0.6038 - val_age_loss: 0.6310 - val_gender_accuracy: 0.9261 - val_emotion_accuracy: 0.7963 - val_age_accuracy: 0.7824\n",
            "Epoch 103/200\n",
            "691/691 [==============================] - 18s 26ms/step - loss: 0.9111 - gender_loss: 0.1309 - emotion_loss: 0.3678 - age_loss: 0.4124 - gender_accuracy: 0.9480 - emotion_accuracy: 0.8635 - age_accuracy: 0.8411 - val_loss: 1.3723 - val_gender_loss: 0.2163 - val_emotion_loss: 0.5415 - val_age_loss: 0.6145 - val_gender_accuracy: 0.9166 - val_emotion_accuracy: 0.8143 - val_age_accuracy: 0.7957\n",
            "Epoch 104/200\n",
            "691/691 [==============================] - 17s 25ms/step - loss: 0.8980 - gender_loss: 0.1296 - emotion_loss: 0.3605 - age_loss: 0.4079 - gender_accuracy: 0.9485 - emotion_accuracy: 0.8651 - age_accuracy: 0.8437 - val_loss: 1.4689 - val_gender_loss: 0.2652 - val_emotion_loss: 0.5760 - val_age_loss: 0.6276 - val_gender_accuracy: 0.9021 - val_emotion_accuracy: 0.8043 - val_age_accuracy: 0.7782\n",
            "Epoch 105/200\n",
            "691/691 [==============================] - 17s 25ms/step - loss: 0.8937 - gender_loss: 0.1349 - emotion_loss: 0.3551 - age_loss: 0.4036 - gender_accuracy: 0.9451 - emotion_accuracy: 0.8684 - age_accuracy: 0.8476 - val_loss: 1.4159 - val_gender_loss: 0.2295 - val_emotion_loss: 0.5773 - val_age_loss: 0.6092 - val_gender_accuracy: 0.9156 - val_emotion_accuracy: 0.8065 - val_age_accuracy: 0.7970\n",
            "Epoch 106/200\n",
            "691/691 [==============================] - 17s 25ms/step - loss: 0.8724 - gender_loss: 0.1306 - emotion_loss: 0.3489 - age_loss: 0.3929 - gender_accuracy: 0.9467 - emotion_accuracy: 0.8699 - age_accuracy: 0.8527 - val_loss: 1.3258 - val_gender_loss: 0.1990 - val_emotion_loss: 0.5558 - val_age_loss: 0.5710 - val_gender_accuracy: 0.9221 - val_emotion_accuracy: 0.8122 - val_age_accuracy: 0.8010\n",
            "Epoch 107/200\n",
            "691/691 [==============================] - 17s 25ms/step - loss: 0.8543 - gender_loss: 0.1246 - emotion_loss: 0.3406 - age_loss: 0.3891 - gender_accuracy: 0.9475 - emotion_accuracy: 0.8717 - age_accuracy: 0.8525 - val_loss: 1.2963 - val_gender_loss: 0.2015 - val_emotion_loss: 0.5170 - val_age_loss: 0.5778 - val_gender_accuracy: 0.9217 - val_emotion_accuracy: 0.8250 - val_age_accuracy: 0.8069\n",
            "Epoch 108/200\n",
            "691/691 [==============================] - 17s 25ms/step - loss: 0.8423 - gender_loss: 0.1255 - emotion_loss: 0.3371 - age_loss: 0.3797 - gender_accuracy: 0.9498 - emotion_accuracy: 0.8727 - age_accuracy: 0.8551 - val_loss: 1.3400 - val_gender_loss: 0.1975 - val_emotion_loss: 0.5599 - val_age_loss: 0.5827 - val_gender_accuracy: 0.9289 - val_emotion_accuracy: 0.8122 - val_age_accuracy: 0.8046\n",
            "Epoch 109/200\n",
            "691/691 [==============================] - 17s 25ms/step - loss: 0.8189 - gender_loss: 0.1180 - emotion_loss: 0.3304 - age_loss: 0.3705 - gender_accuracy: 0.9528 - emotion_accuracy: 0.8781 - age_accuracy: 0.8592 - val_loss: 1.3296 - val_gender_loss: 0.1796 - val_emotion_loss: 0.5476 - val_age_loss: 0.6024 - val_gender_accuracy: 0.9310 - val_emotion_accuracy: 0.8128 - val_age_accuracy: 0.7995\n",
            "Epoch 110/200\n",
            "691/691 [==============================] - 17s 25ms/step - loss: 0.8086 - gender_loss: 0.1163 - emotion_loss: 0.3306 - age_loss: 0.3617 - gender_accuracy: 0.9537 - emotion_accuracy: 0.8786 - age_accuracy: 0.8617 - val_loss: 1.2925 - val_gender_loss: 0.2007 - val_emotion_loss: 0.5405 - val_age_loss: 0.5513 - val_gender_accuracy: 0.9270 - val_emotion_accuracy: 0.8227 - val_age_accuracy: 0.8119\n",
            "Epoch 111/200\n",
            "691/691 [==============================] - 17s 25ms/step - loss: 0.7975 - gender_loss: 0.1201 - emotion_loss: 0.3158 - age_loss: 0.3616 - gender_accuracy: 0.9526 - emotion_accuracy: 0.8821 - age_accuracy: 0.8615 - val_loss: 1.2994 - val_gender_loss: 0.2024 - val_emotion_loss: 0.5320 - val_age_loss: 0.5651 - val_gender_accuracy: 0.9219 - val_emotion_accuracy: 0.8312 - val_age_accuracy: 0.8056\n",
            "Epoch 112/200\n",
            "691/691 [==============================] - 17s 25ms/step - loss: 0.7968 - gender_loss: 0.1212 - emotion_loss: 0.3196 - age_loss: 0.3560 - gender_accuracy: 0.9522 - emotion_accuracy: 0.8813 - age_accuracy: 0.8648 - val_loss: 1.2455 - val_gender_loss: 0.1928 - val_emotion_loss: 0.4783 - val_age_loss: 0.5745 - val_gender_accuracy: 0.9257 - val_emotion_accuracy: 0.8347 - val_age_accuracy: 0.8020\n",
            "Epoch 113/200\n",
            "691/691 [==============================] - 17s 25ms/step - loss: 0.7859 - gender_loss: 0.1187 - emotion_loss: 0.3095 - age_loss: 0.3577 - gender_accuracy: 0.9525 - emotion_accuracy: 0.8864 - age_accuracy: 0.8658 - val_loss: 1.2690 - val_gender_loss: 0.1893 - val_emotion_loss: 0.5120 - val_age_loss: 0.5677 - val_gender_accuracy: 0.9325 - val_emotion_accuracy: 0.8252 - val_age_accuracy: 0.8109\n",
            "Epoch 114/200\n",
            "691/691 [==============================] - 17s 25ms/step - loss: 0.7636 - gender_loss: 0.1133 - emotion_loss: 0.3067 - age_loss: 0.3437 - gender_accuracy: 0.9543 - emotion_accuracy: 0.8838 - age_accuracy: 0.8689 - val_loss: 1.2188 - val_gender_loss: 0.1694 - val_emotion_loss: 0.4912 - val_age_loss: 0.5582 - val_gender_accuracy: 0.9350 - val_emotion_accuracy: 0.8364 - val_age_accuracy: 0.8204\n",
            "Epoch 115/200\n",
            "691/691 [==============================] - 17s 25ms/step - loss: 0.7613 - gender_loss: 0.1180 - emotion_loss: 0.3021 - age_loss: 0.3413 - gender_accuracy: 0.9529 - emotion_accuracy: 0.8883 - age_accuracy: 0.8709 - val_loss: 1.2152 - val_gender_loss: 0.1784 - val_emotion_loss: 0.4939 - val_age_loss: 0.5430 - val_gender_accuracy: 0.9304 - val_emotion_accuracy: 0.8343 - val_age_accuracy: 0.8240\n",
            "Epoch 116/200\n",
            "691/691 [==============================] - 17s 25ms/step - loss: 0.7508 - gender_loss: 0.1139 - emotion_loss: 0.3011 - age_loss: 0.3358 - gender_accuracy: 0.9549 - emotion_accuracy: 0.8871 - age_accuracy: 0.8719 - val_loss: 1.2184 - val_gender_loss: 0.1799 - val_emotion_loss: 0.4937 - val_age_loss: 0.5449 - val_gender_accuracy: 0.9331 - val_emotion_accuracy: 0.8379 - val_age_accuracy: 0.8223\n",
            "Epoch 117/200\n",
            "691/691 [==============================] - 17s 25ms/step - loss: 0.7292 - gender_loss: 0.1154 - emotion_loss: 0.2914 - age_loss: 0.3224 - gender_accuracy: 0.9559 - emotion_accuracy: 0.8900 - age_accuracy: 0.8809 - val_loss: 1.1951 - val_gender_loss: 0.1744 - val_emotion_loss: 0.4581 - val_age_loss: 0.5626 - val_gender_accuracy: 0.9329 - val_emotion_accuracy: 0.8444 - val_age_accuracy: 0.8290\n",
            "Epoch 118/200\n",
            "691/691 [==============================] - 17s 25ms/step - loss: 0.7192 - gender_loss: 0.1105 - emotion_loss: 0.2878 - age_loss: 0.3209 - gender_accuracy: 0.9553 - emotion_accuracy: 0.8926 - age_accuracy: 0.8770 - val_loss: 1.1999 - val_gender_loss: 0.1525 - val_emotion_loss: 0.5057 - val_age_loss: 0.5417 - val_gender_accuracy: 0.9453 - val_emotion_accuracy: 0.8373 - val_age_accuracy: 0.8221\n",
            "Epoch 119/200\n",
            "691/691 [==============================] - 17s 25ms/step - loss: 0.7075 - gender_loss: 0.1051 - emotion_loss: 0.2838 - age_loss: 0.3186 - gender_accuracy: 0.9574 - emotion_accuracy: 0.8952 - age_accuracy: 0.8800 - val_loss: 1.1972 - val_gender_loss: 0.1620 - val_emotion_loss: 0.5108 - val_age_loss: 0.5243 - val_gender_accuracy: 0.9449 - val_emotion_accuracy: 0.8345 - val_age_accuracy: 0.8362\n",
            "Epoch 120/200\n",
            "691/691 [==============================] - 17s 25ms/step - loss: 0.7010 - gender_loss: 0.1085 - emotion_loss: 0.2797 - age_loss: 0.3128 - gender_accuracy: 0.9579 - emotion_accuracy: 0.8960 - age_accuracy: 0.8829 - val_loss: 1.2692 - val_gender_loss: 0.2071 - val_emotion_loss: 0.5179 - val_age_loss: 0.5442 - val_gender_accuracy: 0.9266 - val_emotion_accuracy: 0.8305 - val_age_accuracy: 0.8200\n",
            "Epoch 121/200\n",
            "691/691 [==============================] - 17s 25ms/step - loss: 0.6955 - gender_loss: 0.1068 - emotion_loss: 0.2729 - age_loss: 0.3158 - gender_accuracy: 0.9578 - emotion_accuracy: 0.8978 - age_accuracy: 0.8820 - val_loss: 1.1684 - val_gender_loss: 0.1899 - val_emotion_loss: 0.4690 - val_age_loss: 0.5095 - val_gender_accuracy: 0.9266 - val_emotion_accuracy: 0.8495 - val_age_accuracy: 0.8358\n",
            "Epoch 122/200\n",
            "691/691 [==============================] - 17s 25ms/step - loss: 0.6652 - gender_loss: 0.1024 - emotion_loss: 0.2685 - age_loss: 0.2943 - gender_accuracy: 0.9605 - emotion_accuracy: 0.9001 - age_accuracy: 0.8910 - val_loss: 1.1471 - val_gender_loss: 0.1521 - val_emotion_loss: 0.4705 - val_age_loss: 0.5246 - val_gender_accuracy: 0.9436 - val_emotion_accuracy: 0.8504 - val_age_accuracy: 0.8364\n",
            "Epoch 123/200\n",
            "691/691 [==============================] - 17s 25ms/step - loss: 0.6534 - gender_loss: 0.0969 - emotion_loss: 0.2604 - age_loss: 0.2961 - gender_accuracy: 0.9618 - emotion_accuracy: 0.9046 - age_accuracy: 0.8930 - val_loss: 1.1724 - val_gender_loss: 0.1917 - val_emotion_loss: 0.4769 - val_age_loss: 0.5038 - val_gender_accuracy: 0.9306 - val_emotion_accuracy: 0.8485 - val_age_accuracy: 0.8419\n",
            "Epoch 124/200\n",
            "691/691 [==============================] - 17s 25ms/step - loss: 0.6464 - gender_loss: 0.0988 - emotion_loss: 0.2608 - age_loss: 0.2868 - gender_accuracy: 0.9607 - emotion_accuracy: 0.9055 - age_accuracy: 0.8947 - val_loss: 1.1730 - val_gender_loss: 0.1790 - val_emotion_loss: 0.4773 - val_age_loss: 0.5167 - val_gender_accuracy: 0.9312 - val_emotion_accuracy: 0.8561 - val_age_accuracy: 0.8350\n",
            "Epoch 125/200\n",
            "691/691 [==============================] - 17s 25ms/step - loss: 0.6579 - gender_loss: 0.1025 - emotion_loss: 0.2637 - age_loss: 0.2917 - gender_accuracy: 0.9602 - emotion_accuracy: 0.9022 - age_accuracy: 0.8924 - val_loss: 1.1497 - val_gender_loss: 0.1623 - val_emotion_loss: 0.4788 - val_age_loss: 0.5086 - val_gender_accuracy: 0.9420 - val_emotion_accuracy: 0.8542 - val_age_accuracy: 0.8404\n",
            "Epoch 126/200\n",
            "691/691 [==============================] - 17s 25ms/step - loss: 0.6212 - gender_loss: 0.0932 - emotion_loss: 0.2437 - age_loss: 0.2844 - gender_accuracy: 0.9642 - emotion_accuracy: 0.9104 - age_accuracy: 0.8947 - val_loss: 1.1245 - val_gender_loss: 0.1567 - val_emotion_loss: 0.4579 - val_age_loss: 0.5099 - val_gender_accuracy: 0.9468 - val_emotion_accuracy: 0.8565 - val_age_accuracy: 0.8409\n",
            "Epoch 127/200\n",
            "691/691 [==============================] - 17s 25ms/step - loss: 0.6198 - gender_loss: 0.0959 - emotion_loss: 0.2438 - age_loss: 0.2801 - gender_accuracy: 0.9618 - emotion_accuracy: 0.9103 - age_accuracy: 0.8944 - val_loss: 1.2047 - val_gender_loss: 0.1770 - val_emotion_loss: 0.4700 - val_age_loss: 0.5577 - val_gender_accuracy: 0.9375 - val_emotion_accuracy: 0.8607 - val_age_accuracy: 0.8324\n",
            "Epoch 128/200\n",
            "691/691 [==============================] - 17s 25ms/step - loss: 0.6227 - gender_loss: 0.0925 - emotion_loss: 0.2483 - age_loss: 0.2820 - gender_accuracy: 0.9635 - emotion_accuracy: 0.9076 - age_accuracy: 0.8952 - val_loss: 1.0754 - val_gender_loss: 0.1457 - val_emotion_loss: 0.4505 - val_age_loss: 0.4793 - val_gender_accuracy: 0.9508 - val_emotion_accuracy: 0.8622 - val_age_accuracy: 0.8504\n",
            "Epoch 129/200\n",
            "691/691 [==============================] - 18s 27ms/step - loss: 0.6032 - gender_loss: 0.0912 - emotion_loss: 0.2397 - age_loss: 0.2723 - gender_accuracy: 0.9649 - emotion_accuracy: 0.9124 - age_accuracy: 0.9006 - val_loss: 1.0944 - val_gender_loss: 0.1652 - val_emotion_loss: 0.4458 - val_age_loss: 0.4835 - val_gender_accuracy: 0.9441 - val_emotion_accuracy: 0.8651 - val_age_accuracy: 0.8565\n",
            "Epoch 130/200\n",
            "691/691 [==============================] - 19s 28ms/step - loss: 0.6022 - gender_loss: 0.0894 - emotion_loss: 0.2427 - age_loss: 0.2701 - gender_accuracy: 0.9652 - emotion_accuracy: 0.9117 - age_accuracy: 0.9020 - val_loss: 1.1351 - val_gender_loss: 0.1627 - val_emotion_loss: 0.4545 - val_age_loss: 0.5179 - val_gender_accuracy: 0.9409 - val_emotion_accuracy: 0.8603 - val_age_accuracy: 0.8364\n",
            "Epoch 131/200\n",
            "691/691 [==============================] - 17s 25ms/step - loss: 0.5909 - gender_loss: 0.0929 - emotion_loss: 0.2308 - age_loss: 0.2672 - gender_accuracy: 0.9634 - emotion_accuracy: 0.9146 - age_accuracy: 0.9028 - val_loss: 1.0984 - val_gender_loss: 0.1771 - val_emotion_loss: 0.4211 - val_age_loss: 0.5001 - val_gender_accuracy: 0.9388 - val_emotion_accuracy: 0.8672 - val_age_accuracy: 0.8493\n",
            "Epoch 132/200\n",
            "691/691 [==============================] - 17s 25ms/step - loss: 0.5887 - gender_loss: 0.0927 - emotion_loss: 0.2282 - age_loss: 0.2678 - gender_accuracy: 0.9635 - emotion_accuracy: 0.9169 - age_accuracy: 0.9002 - val_loss: 1.0926 - val_gender_loss: 0.1666 - val_emotion_loss: 0.4424 - val_age_loss: 0.4836 - val_gender_accuracy: 0.9415 - val_emotion_accuracy: 0.8624 - val_age_accuracy: 0.8567\n",
            "Epoch 133/200\n",
            "691/691 [==============================] - 17s 25ms/step - loss: 0.5770 - gender_loss: 0.0903 - emotion_loss: 0.2275 - age_loss: 0.2592 - gender_accuracy: 0.9650 - emotion_accuracy: 0.9158 - age_accuracy: 0.9028 - val_loss: 1.0640 - val_gender_loss: 0.1433 - val_emotion_loss: 0.4435 - val_age_loss: 0.4771 - val_gender_accuracy: 0.9491 - val_emotion_accuracy: 0.8660 - val_age_accuracy: 0.8626\n",
            "Epoch 134/200\n",
            "691/691 [==============================] - 18s 25ms/step - loss: 0.5622 - gender_loss: 0.0894 - emotion_loss: 0.2258 - age_loss: 0.2470 - gender_accuracy: 0.9663 - emotion_accuracy: 0.9183 - age_accuracy: 0.9085 - val_loss: 1.0940 - val_gender_loss: 0.1598 - val_emotion_loss: 0.4597 - val_age_loss: 0.4745 - val_gender_accuracy: 0.9466 - val_emotion_accuracy: 0.8584 - val_age_accuracy: 0.8601\n",
            "Epoch 135/200\n",
            "691/691 [==============================] - 17s 25ms/step - loss: 0.5553 - gender_loss: 0.0859 - emotion_loss: 0.2238 - age_loss: 0.2456 - gender_accuracy: 0.9686 - emotion_accuracy: 0.9183 - age_accuracy: 0.9104 - val_loss: 1.1029 - val_gender_loss: 0.1661 - val_emotion_loss: 0.4333 - val_age_loss: 0.5035 - val_gender_accuracy: 0.9409 - val_emotion_accuracy: 0.8651 - val_age_accuracy: 0.8506\n",
            "Epoch 136/200\n",
            "691/691 [==============================] - 17s 25ms/step - loss: 0.5648 - gender_loss: 0.0875 - emotion_loss: 0.2234 - age_loss: 0.2539 - gender_accuracy: 0.9661 - emotion_accuracy: 0.9179 - age_accuracy: 0.9045 - val_loss: 1.1091 - val_gender_loss: 0.1693 - val_emotion_loss: 0.4311 - val_age_loss: 0.5087 - val_gender_accuracy: 0.9384 - val_emotion_accuracy: 0.8700 - val_age_accuracy: 0.8428\n",
            "Epoch 137/200\n",
            "691/691 [==============================] - 17s 25ms/step - loss: 0.5426 - gender_loss: 0.0832 - emotion_loss: 0.2189 - age_loss: 0.2405 - gender_accuracy: 0.9683 - emotion_accuracy: 0.9197 - age_accuracy: 0.9122 - val_loss: 1.0957 - val_gender_loss: 0.1651 - val_emotion_loss: 0.4452 - val_age_loss: 0.4854 - val_gender_accuracy: 0.9434 - val_emotion_accuracy: 0.8677 - val_age_accuracy: 0.8525\n",
            "Epoch 138/200\n",
            "691/691 [==============================] - 17s 25ms/step - loss: 0.5558 - gender_loss: 0.0918 - emotion_loss: 0.2169 - age_loss: 0.2471 - gender_accuracy: 0.9656 - emotion_accuracy: 0.9199 - age_accuracy: 0.9086 - val_loss: 1.0736 - val_gender_loss: 0.1607 - val_emotion_loss: 0.4443 - val_age_loss: 0.4685 - val_gender_accuracy: 0.9462 - val_emotion_accuracy: 0.8580 - val_age_accuracy: 0.8563\n",
            "Epoch 139/200\n",
            "691/691 [==============================] - 17s 25ms/step - loss: 0.5241 - gender_loss: 0.0817 - emotion_loss: 0.2082 - age_loss: 0.2342 - gender_accuracy: 0.9694 - emotion_accuracy: 0.9229 - age_accuracy: 0.9160 - val_loss: 1.0273 - val_gender_loss: 0.1376 - val_emotion_loss: 0.4266 - val_age_loss: 0.4631 - val_gender_accuracy: 0.9502 - val_emotion_accuracy: 0.8774 - val_age_accuracy: 0.8666\n",
            "Epoch 140/200\n",
            "691/691 [==============================] - 17s 25ms/step - loss: 0.5150 - gender_loss: 0.0797 - emotion_loss: 0.2068 - age_loss: 0.2286 - gender_accuracy: 0.9685 - emotion_accuracy: 0.9248 - age_accuracy: 0.9157 - val_loss: 1.0616 - val_gender_loss: 0.1494 - val_emotion_loss: 0.4442 - val_age_loss: 0.4680 - val_gender_accuracy: 0.9474 - val_emotion_accuracy: 0.8685 - val_age_accuracy: 0.8561\n",
            "Epoch 141/200\n",
            "691/691 [==============================] - 17s 25ms/step - loss: 0.5001 - gender_loss: 0.0754 - emotion_loss: 0.1980 - age_loss: 0.2267 - gender_accuracy: 0.9714 - emotion_accuracy: 0.9265 - age_accuracy: 0.9173 - val_loss: 1.0306 - val_gender_loss: 0.1535 - val_emotion_loss: 0.4167 - val_age_loss: 0.4604 - val_gender_accuracy: 0.9443 - val_emotion_accuracy: 0.8759 - val_age_accuracy: 0.8596\n",
            "Epoch 142/200\n",
            "691/691 [==============================] - 17s 25ms/step - loss: 0.5005 - gender_loss: 0.0825 - emotion_loss: 0.1981 - age_loss: 0.2200 - gender_accuracy: 0.9681 - emotion_accuracy: 0.9294 - age_accuracy: 0.9216 - val_loss: 1.0174 - val_gender_loss: 0.1493 - val_emotion_loss: 0.4105 - val_age_loss: 0.4575 - val_gender_accuracy: 0.9491 - val_emotion_accuracy: 0.8805 - val_age_accuracy: 0.8706\n",
            "Epoch 143/200\n",
            "691/691 [==============================] - 17s 25ms/step - loss: 0.4863 - gender_loss: 0.0764 - emotion_loss: 0.1873 - age_loss: 0.2226 - gender_accuracy: 0.9713 - emotion_accuracy: 0.9325 - age_accuracy: 0.9187 - val_loss: 1.0568 - val_gender_loss: 0.1662 - val_emotion_loss: 0.4203 - val_age_loss: 0.4703 - val_gender_accuracy: 0.9434 - val_emotion_accuracy: 0.8767 - val_age_accuracy: 0.8677\n",
            "Epoch 144/200\n",
            "691/691 [==============================] - 17s 25ms/step - loss: 0.4927 - gender_loss: 0.0806 - emotion_loss: 0.1925 - age_loss: 0.2197 - gender_accuracy: 0.9685 - emotion_accuracy: 0.9298 - age_accuracy: 0.9214 - val_loss: 1.0136 - val_gender_loss: 0.1362 - val_emotion_loss: 0.4302 - val_age_loss: 0.4472 - val_gender_accuracy: 0.9500 - val_emotion_accuracy: 0.8770 - val_age_accuracy: 0.8765\n",
            "Epoch 145/200\n",
            "691/691 [==============================] - 18s 26ms/step - loss: 0.4838 - gender_loss: 0.0756 - emotion_loss: 0.1923 - age_loss: 0.2159 - gender_accuracy: 0.9720 - emotion_accuracy: 0.9294 - age_accuracy: 0.9241 - val_loss: 1.0147 - val_gender_loss: 0.1431 - val_emotion_loss: 0.4143 - val_age_loss: 0.4573 - val_gender_accuracy: 0.9504 - val_emotion_accuracy: 0.8719 - val_age_accuracy: 0.8719\n",
            "Epoch 146/200\n",
            "691/691 [==============================] - 18s 27ms/step - loss: 0.4942 - gender_loss: 0.0787 - emotion_loss: 0.1975 - age_loss: 0.2180 - gender_accuracy: 0.9701 - emotion_accuracy: 0.9271 - age_accuracy: 0.9206 - val_loss: 1.0048 - val_gender_loss: 0.1389 - val_emotion_loss: 0.3970 - val_age_loss: 0.4689 - val_gender_accuracy: 0.9491 - val_emotion_accuracy: 0.8822 - val_age_accuracy: 0.8717\n",
            "Epoch 147/200\n",
            "691/691 [==============================] - 17s 25ms/step - loss: 0.4604 - gender_loss: 0.0727 - emotion_loss: 0.1835 - age_loss: 0.2041 - gender_accuracy: 0.9730 - emotion_accuracy: 0.9330 - age_accuracy: 0.9255 - val_loss: 1.0282 - val_gender_loss: 0.1591 - val_emotion_loss: 0.4334 - val_age_loss: 0.4357 - val_gender_accuracy: 0.9453 - val_emotion_accuracy: 0.8797 - val_age_accuracy: 0.8710\n",
            "Epoch 148/200\n",
            "691/691 [==============================] - 17s 25ms/step - loss: 0.4621 - gender_loss: 0.0745 - emotion_loss: 0.1844 - age_loss: 0.2032 - gender_accuracy: 0.9711 - emotion_accuracy: 0.9323 - age_accuracy: 0.9265 - val_loss: 0.9548 - val_gender_loss: 0.1550 - val_emotion_loss: 0.3884 - val_age_loss: 0.4113 - val_gender_accuracy: 0.9485 - val_emotion_accuracy: 0.8886 - val_age_accuracy: 0.8848\n",
            "Epoch 149/200\n",
            "691/691 [==============================] - 17s 25ms/step - loss: 0.4467 - gender_loss: 0.0715 - emotion_loss: 0.1780 - age_loss: 0.1972 - gender_accuracy: 0.9732 - emotion_accuracy: 0.9369 - age_accuracy: 0.9278 - val_loss: 0.9756 - val_gender_loss: 0.1463 - val_emotion_loss: 0.4209 - val_age_loss: 0.4084 - val_gender_accuracy: 0.9512 - val_emotion_accuracy: 0.8835 - val_age_accuracy: 0.8846\n",
            "Epoch 150/200\n",
            "691/691 [==============================] - 17s 25ms/step - loss: 0.4500 - gender_loss: 0.0750 - emotion_loss: 0.1789 - age_loss: 0.1961 - gender_accuracy: 0.9718 - emotion_accuracy: 0.9354 - age_accuracy: 0.9293 - val_loss: 0.9123 - val_gender_loss: 0.1320 - val_emotion_loss: 0.3631 - val_age_loss: 0.4172 - val_gender_accuracy: 0.9544 - val_emotion_accuracy: 0.8900 - val_age_accuracy: 0.8839\n",
            "Epoch 151/200\n",
            "691/691 [==============================] - 18s 26ms/step - loss: 0.4355 - gender_loss: 0.0680 - emotion_loss: 0.1739 - age_loss: 0.1937 - gender_accuracy: 0.9750 - emotion_accuracy: 0.9367 - age_accuracy: 0.9288 - val_loss: 0.9803 - val_gender_loss: 0.1389 - val_emotion_loss: 0.4079 - val_age_loss: 0.4334 - val_gender_accuracy: 0.9542 - val_emotion_accuracy: 0.8871 - val_age_accuracy: 0.8827\n",
            "Epoch 152/200\n",
            "691/691 [==============================] - 17s 25ms/step - loss: 0.4254 - gender_loss: 0.0674 - emotion_loss: 0.1657 - age_loss: 0.1923 - gender_accuracy: 0.9750 - emotion_accuracy: 0.9396 - age_accuracy: 0.9297 - val_loss: 0.9800 - val_gender_loss: 0.1578 - val_emotion_loss: 0.3893 - val_age_loss: 0.4329 - val_gender_accuracy: 0.9443 - val_emotion_accuracy: 0.8909 - val_age_accuracy: 0.8803\n",
            "Epoch 153/200\n",
            "691/691 [==============================] - 18s 27ms/step - loss: 0.4242 - gender_loss: 0.0683 - emotion_loss: 0.1627 - age_loss: 0.1932 - gender_accuracy: 0.9740 - emotion_accuracy: 0.9417 - age_accuracy: 0.9317 - val_loss: 1.0110 - val_gender_loss: 0.1670 - val_emotion_loss: 0.4134 - val_age_loss: 0.4305 - val_gender_accuracy: 0.9453 - val_emotion_accuracy: 0.8786 - val_age_accuracy: 0.8846\n",
            "Epoch 154/200\n",
            "691/691 [==============================] - 18s 26ms/step - loss: 0.4194 - gender_loss: 0.0679 - emotion_loss: 0.1662 - age_loss: 0.1853 - gender_accuracy: 0.9744 - emotion_accuracy: 0.9406 - age_accuracy: 0.9315 - val_loss: 1.0337 - val_gender_loss: 0.1711 - val_emotion_loss: 0.4058 - val_age_loss: 0.4569 - val_gender_accuracy: 0.9462 - val_emotion_accuracy: 0.8905 - val_age_accuracy: 0.8727\n",
            "Epoch 155/200\n",
            "490/691 [====================>.........] - ETA: 4s - loss: 0.4141 - gender_loss: 0.0634 - emotion_loss: 0.1697 - age_loss: 0.1810 - gender_accuracy: 0.9772 - emotion_accuracy: 0.9393 - age_accuracy: 0.9358"
          ]
        },
        {
          "ename": "KeyboardInterrupt",
          "evalue": "",
          "output_type": "error",
          "traceback": [
            "\u001b[0;31m---------------------------------------------------------------------------\u001b[0m",
            "\u001b[0;31mKeyboardInterrupt\u001b[0m                         Traceback (most recent call last)",
            "Cell \u001b[0;32mIn[31], line 1\u001b[0m\n\u001b[0;32m----> 1\u001b[0m model\u001b[39m.\u001b[39;49mfit(X_train, {\u001b[39m'\u001b[39;49m\u001b[39mgender\u001b[39;49m\u001b[39m'\u001b[39;49m: y_gender_train,\n\u001b[1;32m      2\u001b[0m                     \u001b[39m'\u001b[39;49m\u001b[39memotion\u001b[39;49m\u001b[39m'\u001b[39;49m: y_emotion_train,\n\u001b[1;32m      3\u001b[0m                     \u001b[39m'\u001b[39;49m\u001b[39mage\u001b[39;49m\u001b[39m'\u001b[39;49m: y_age_train},\n\u001b[1;32m      4\u001b[0m           validation_data\u001b[39m=\u001b[39;49m(X_val, {\u001b[39m'\u001b[39;49m\u001b[39mgender\u001b[39;49m\u001b[39m'\u001b[39;49m: y_gender_val,\n\u001b[1;32m      5\u001b[0m                                     \u001b[39m'\u001b[39;49m\u001b[39memotion\u001b[39;49m\u001b[39m'\u001b[39;49m: y_emotion_val,\n\u001b[1;32m      6\u001b[0m                                     \u001b[39m'\u001b[39;49m\u001b[39mage\u001b[39;49m\u001b[39m'\u001b[39;49m: y_age_val}),\n\u001b[1;32m      7\u001b[0m           epochs\u001b[39m=\u001b[39;49m\u001b[39m200\u001b[39;49m, batch_size\u001b[39m=\u001b[39;49m\u001b[39m32\u001b[39;49m)\n",
            "File \u001b[0;32m/opt/homebrew/Caskroom/miniforge/base/envs/prismatic/lib/python3.10/site-packages/keras/utils/traceback_utils.py:65\u001b[0m, in \u001b[0;36mfilter_traceback.<locals>.error_handler\u001b[0;34m(*args, **kwargs)\u001b[0m\n\u001b[1;32m     63\u001b[0m filtered_tb \u001b[39m=\u001b[39m \u001b[39mNone\u001b[39;00m\n\u001b[1;32m     64\u001b[0m \u001b[39mtry\u001b[39;00m:\n\u001b[0;32m---> 65\u001b[0m     \u001b[39mreturn\u001b[39;00m fn(\u001b[39m*\u001b[39;49margs, \u001b[39m*\u001b[39;49m\u001b[39m*\u001b[39;49mkwargs)\n\u001b[1;32m     66\u001b[0m \u001b[39mexcept\u001b[39;00m \u001b[39mException\u001b[39;00m \u001b[39mas\u001b[39;00m e:\n\u001b[1;32m     67\u001b[0m     filtered_tb \u001b[39m=\u001b[39m _process_traceback_frames(e\u001b[39m.\u001b[39m__traceback__)\n",
            "File \u001b[0;32m/opt/homebrew/Caskroom/miniforge/base/envs/prismatic/lib/python3.10/site-packages/keras/engine/training.py:1650\u001b[0m, in \u001b[0;36mModel.fit\u001b[0;34m(self, x, y, batch_size, epochs, verbose, callbacks, validation_split, validation_data, shuffle, class_weight, sample_weight, initial_epoch, steps_per_epoch, validation_steps, validation_batch_size, validation_freq, max_queue_size, workers, use_multiprocessing)\u001b[0m\n\u001b[1;32m   1642\u001b[0m \u001b[39mwith\u001b[39;00m tf\u001b[39m.\u001b[39mprofiler\u001b[39m.\u001b[39mexperimental\u001b[39m.\u001b[39mTrace(\n\u001b[1;32m   1643\u001b[0m     \u001b[39m\"\u001b[39m\u001b[39mtrain\u001b[39m\u001b[39m\"\u001b[39m,\n\u001b[1;32m   1644\u001b[0m     epoch_num\u001b[39m=\u001b[39mepoch,\n\u001b[0;32m   (...)\u001b[0m\n\u001b[1;32m   1647\u001b[0m     _r\u001b[39m=\u001b[39m\u001b[39m1\u001b[39m,\n\u001b[1;32m   1648\u001b[0m ):\n\u001b[1;32m   1649\u001b[0m     callbacks\u001b[39m.\u001b[39mon_train_batch_begin(step)\n\u001b[0;32m-> 1650\u001b[0m     tmp_logs \u001b[39m=\u001b[39m \u001b[39mself\u001b[39;49m\u001b[39m.\u001b[39;49mtrain_function(iterator)\n\u001b[1;32m   1651\u001b[0m     \u001b[39mif\u001b[39;00m data_handler\u001b[39m.\u001b[39mshould_sync:\n\u001b[1;32m   1652\u001b[0m         context\u001b[39m.\u001b[39masync_wait()\n",
            "File \u001b[0;32m/opt/homebrew/Caskroom/miniforge/base/envs/prismatic/lib/python3.10/site-packages/tensorflow/python/util/traceback_utils.py:150\u001b[0m, in \u001b[0;36mfilter_traceback.<locals>.error_handler\u001b[0;34m(*args, **kwargs)\u001b[0m\n\u001b[1;32m    148\u001b[0m filtered_tb \u001b[39m=\u001b[39m \u001b[39mNone\u001b[39;00m\n\u001b[1;32m    149\u001b[0m \u001b[39mtry\u001b[39;00m:\n\u001b[0;32m--> 150\u001b[0m   \u001b[39mreturn\u001b[39;00m fn(\u001b[39m*\u001b[39;49margs, \u001b[39m*\u001b[39;49m\u001b[39m*\u001b[39;49mkwargs)\n\u001b[1;32m    151\u001b[0m \u001b[39mexcept\u001b[39;00m \u001b[39mException\u001b[39;00m \u001b[39mas\u001b[39;00m e:\n\u001b[1;32m    152\u001b[0m   filtered_tb \u001b[39m=\u001b[39m _process_traceback_frames(e\u001b[39m.\u001b[39m__traceback__)\n",
            "File \u001b[0;32m/opt/homebrew/Caskroom/miniforge/base/envs/prismatic/lib/python3.10/site-packages/tensorflow/python/eager/polymorphic_function/polymorphic_function.py:880\u001b[0m, in \u001b[0;36mFunction.__call__\u001b[0;34m(self, *args, **kwds)\u001b[0m\n\u001b[1;32m    877\u001b[0m compiler \u001b[39m=\u001b[39m \u001b[39m\"\u001b[39m\u001b[39mxla\u001b[39m\u001b[39m\"\u001b[39m \u001b[39mif\u001b[39;00m \u001b[39mself\u001b[39m\u001b[39m.\u001b[39m_jit_compile \u001b[39melse\u001b[39;00m \u001b[39m\"\u001b[39m\u001b[39mnonXla\u001b[39m\u001b[39m\"\u001b[39m\n\u001b[1;32m    879\u001b[0m \u001b[39mwith\u001b[39;00m OptionalXlaContext(\u001b[39mself\u001b[39m\u001b[39m.\u001b[39m_jit_compile):\n\u001b[0;32m--> 880\u001b[0m   result \u001b[39m=\u001b[39m \u001b[39mself\u001b[39;49m\u001b[39m.\u001b[39;49m_call(\u001b[39m*\u001b[39;49margs, \u001b[39m*\u001b[39;49m\u001b[39m*\u001b[39;49mkwds)\n\u001b[1;32m    882\u001b[0m new_tracing_count \u001b[39m=\u001b[39m \u001b[39mself\u001b[39m\u001b[39m.\u001b[39mexperimental_get_tracing_count()\n\u001b[1;32m    883\u001b[0m without_tracing \u001b[39m=\u001b[39m (tracing_count \u001b[39m==\u001b[39m new_tracing_count)\n",
            "File \u001b[0;32m/opt/homebrew/Caskroom/miniforge/base/envs/prismatic/lib/python3.10/site-packages/tensorflow/python/eager/polymorphic_function/polymorphic_function.py:912\u001b[0m, in \u001b[0;36mFunction._call\u001b[0;34m(self, *args, **kwds)\u001b[0m\n\u001b[1;32m    909\u001b[0m   \u001b[39mself\u001b[39m\u001b[39m.\u001b[39m_lock\u001b[39m.\u001b[39mrelease()\n\u001b[1;32m    910\u001b[0m   \u001b[39m# In this case we have created variables on the first call, so we run the\u001b[39;00m\n\u001b[1;32m    911\u001b[0m   \u001b[39m# defunned version which is guaranteed to never create variables.\u001b[39;00m\n\u001b[0;32m--> 912\u001b[0m   \u001b[39mreturn\u001b[39;00m \u001b[39mself\u001b[39;49m\u001b[39m.\u001b[39;49m_no_variable_creation_fn(\u001b[39m*\u001b[39;49margs, \u001b[39m*\u001b[39;49m\u001b[39m*\u001b[39;49mkwds)  \u001b[39m# pylint: disable=not-callable\u001b[39;00m\n\u001b[1;32m    913\u001b[0m \u001b[39melif\u001b[39;00m \u001b[39mself\u001b[39m\u001b[39m.\u001b[39m_variable_creation_fn \u001b[39mis\u001b[39;00m \u001b[39mnot\u001b[39;00m \u001b[39mNone\u001b[39;00m:\n\u001b[1;32m    914\u001b[0m   \u001b[39m# Release the lock early so that multiple threads can perform the call\u001b[39;00m\n\u001b[1;32m    915\u001b[0m   \u001b[39m# in parallel.\u001b[39;00m\n\u001b[1;32m    916\u001b[0m   \u001b[39mself\u001b[39m\u001b[39m.\u001b[39m_lock\u001b[39m.\u001b[39mrelease()\n",
            "File \u001b[0;32m/opt/homebrew/Caskroom/miniforge/base/envs/prismatic/lib/python3.10/site-packages/tensorflow/python/eager/polymorphic_function/tracing_compiler.py:134\u001b[0m, in \u001b[0;36mTracingCompiler.__call__\u001b[0;34m(self, *args, **kwargs)\u001b[0m\n\u001b[1;32m    131\u001b[0m \u001b[39mwith\u001b[39;00m \u001b[39mself\u001b[39m\u001b[39m.\u001b[39m_lock:\n\u001b[1;32m    132\u001b[0m   (concrete_function,\n\u001b[1;32m    133\u001b[0m    filtered_flat_args) \u001b[39m=\u001b[39m \u001b[39mself\u001b[39m\u001b[39m.\u001b[39m_maybe_define_function(args, kwargs)\n\u001b[0;32m--> 134\u001b[0m \u001b[39mreturn\u001b[39;00m concrete_function\u001b[39m.\u001b[39;49m_call_flat(\n\u001b[1;32m    135\u001b[0m     filtered_flat_args, captured_inputs\u001b[39m=\u001b[39;49mconcrete_function\u001b[39m.\u001b[39;49mcaptured_inputs)\n",
            "File \u001b[0;32m/opt/homebrew/Caskroom/miniforge/base/envs/prismatic/lib/python3.10/site-packages/tensorflow/python/eager/polymorphic_function/monomorphic_function.py:1745\u001b[0m, in \u001b[0;36mConcreteFunction._call_flat\u001b[0;34m(self, args, captured_inputs, cancellation_manager)\u001b[0m\n\u001b[1;32m   1741\u001b[0m possible_gradient_type \u001b[39m=\u001b[39m gradients_util\u001b[39m.\u001b[39mPossibleTapeGradientTypes(args)\n\u001b[1;32m   1742\u001b[0m \u001b[39mif\u001b[39;00m (possible_gradient_type \u001b[39m==\u001b[39m gradients_util\u001b[39m.\u001b[39mPOSSIBLE_GRADIENT_TYPES_NONE\n\u001b[1;32m   1743\u001b[0m     \u001b[39mand\u001b[39;00m executing_eagerly):\n\u001b[1;32m   1744\u001b[0m   \u001b[39m# No tape is watching; skip to running the function.\u001b[39;00m\n\u001b[0;32m-> 1745\u001b[0m   \u001b[39mreturn\u001b[39;00m \u001b[39mself\u001b[39m\u001b[39m.\u001b[39m_build_call_outputs(\u001b[39mself\u001b[39;49m\u001b[39m.\u001b[39;49m_inference_function\u001b[39m.\u001b[39;49mcall(\n\u001b[1;32m   1746\u001b[0m       ctx, args, cancellation_manager\u001b[39m=\u001b[39;49mcancellation_manager))\n\u001b[1;32m   1747\u001b[0m forward_backward \u001b[39m=\u001b[39m \u001b[39mself\u001b[39m\u001b[39m.\u001b[39m_select_forward_and_backward_functions(\n\u001b[1;32m   1748\u001b[0m     args,\n\u001b[1;32m   1749\u001b[0m     possible_gradient_type,\n\u001b[1;32m   1750\u001b[0m     executing_eagerly)\n\u001b[1;32m   1751\u001b[0m forward_function, args_with_tangents \u001b[39m=\u001b[39m forward_backward\u001b[39m.\u001b[39mforward()\n",
            "File \u001b[0;32m/opt/homebrew/Caskroom/miniforge/base/envs/prismatic/lib/python3.10/site-packages/tensorflow/python/eager/polymorphic_function/monomorphic_function.py:378\u001b[0m, in \u001b[0;36m_EagerDefinedFunction.call\u001b[0;34m(self, ctx, args, cancellation_manager)\u001b[0m\n\u001b[1;32m    376\u001b[0m \u001b[39mwith\u001b[39;00m _InterpolateFunctionError(\u001b[39mself\u001b[39m):\n\u001b[1;32m    377\u001b[0m   \u001b[39mif\u001b[39;00m cancellation_manager \u001b[39mis\u001b[39;00m \u001b[39mNone\u001b[39;00m:\n\u001b[0;32m--> 378\u001b[0m     outputs \u001b[39m=\u001b[39m execute\u001b[39m.\u001b[39;49mexecute(\n\u001b[1;32m    379\u001b[0m         \u001b[39mstr\u001b[39;49m(\u001b[39mself\u001b[39;49m\u001b[39m.\u001b[39;49msignature\u001b[39m.\u001b[39;49mname),\n\u001b[1;32m    380\u001b[0m         num_outputs\u001b[39m=\u001b[39;49m\u001b[39mself\u001b[39;49m\u001b[39m.\u001b[39;49m_num_outputs,\n\u001b[1;32m    381\u001b[0m         inputs\u001b[39m=\u001b[39;49margs,\n\u001b[1;32m    382\u001b[0m         attrs\u001b[39m=\u001b[39;49mattrs,\n\u001b[1;32m    383\u001b[0m         ctx\u001b[39m=\u001b[39;49mctx)\n\u001b[1;32m    384\u001b[0m   \u001b[39melse\u001b[39;00m:\n\u001b[1;32m    385\u001b[0m     outputs \u001b[39m=\u001b[39m execute\u001b[39m.\u001b[39mexecute_with_cancellation(\n\u001b[1;32m    386\u001b[0m         \u001b[39mstr\u001b[39m(\u001b[39mself\u001b[39m\u001b[39m.\u001b[39msignature\u001b[39m.\u001b[39mname),\n\u001b[1;32m    387\u001b[0m         num_outputs\u001b[39m=\u001b[39m\u001b[39mself\u001b[39m\u001b[39m.\u001b[39m_num_outputs,\n\u001b[0;32m   (...)\u001b[0m\n\u001b[1;32m    390\u001b[0m         ctx\u001b[39m=\u001b[39mctx,\n\u001b[1;32m    391\u001b[0m         cancellation_manager\u001b[39m=\u001b[39mcancellation_manager)\n",
            "File \u001b[0;32m/opt/homebrew/Caskroom/miniforge/base/envs/prismatic/lib/python3.10/site-packages/tensorflow/python/eager/execute.py:52\u001b[0m, in \u001b[0;36mquick_execute\u001b[0;34m(op_name, num_outputs, inputs, attrs, ctx, name)\u001b[0m\n\u001b[1;32m     50\u001b[0m \u001b[39mtry\u001b[39;00m:\n\u001b[1;32m     51\u001b[0m   ctx\u001b[39m.\u001b[39mensure_initialized()\n\u001b[0;32m---> 52\u001b[0m   tensors \u001b[39m=\u001b[39m pywrap_tfe\u001b[39m.\u001b[39;49mTFE_Py_Execute(ctx\u001b[39m.\u001b[39;49m_handle, device_name, op_name,\n\u001b[1;32m     53\u001b[0m                                       inputs, attrs, num_outputs)\n\u001b[1;32m     54\u001b[0m \u001b[39mexcept\u001b[39;00m core\u001b[39m.\u001b[39m_NotOkStatusException \u001b[39mas\u001b[39;00m e:\n\u001b[1;32m     55\u001b[0m   \u001b[39mif\u001b[39;00m name \u001b[39mis\u001b[39;00m \u001b[39mnot\u001b[39;00m \u001b[39mNone\u001b[39;00m:\n",
            "\u001b[0;31mKeyboardInterrupt\u001b[0m: "
          ]
        }
      ],
      "source": [
        "model.fit(X_train, {'gender': y_gender_train,\n",
        "                    'emotion': y_emotion_train,\n",
        "                    'age': y_age_train},\n",
        "          validation_data=(X_val, {'gender': y_gender_val,\n",
        "                                    'emotion': y_emotion_val,\n",
        "                                    'age': y_age_val}),\n",
        "          epochs=200, batch_size=32)"
      ]
    },
    {
      "cell_type": "code",
      "execution_count": 32,
      "metadata": {},
      "outputs": [],
      "source": [
        "model.save(\"MLP-final.keras\")"
      ]
    },
    {
      "cell_type": "code",
      "execution_count": 33,
      "metadata": {
        "colab": {
          "base_uri": "https://localhost:8080/"
        },
        "id": "zeN-Ct6PkHWI",
        "outputId": "66e52a2a-1013-451a-f64d-1bec5caf17db"
      },
      "outputs": [
        {
          "name": "stdout",
          "output_type": "stream",
          "text": [
            "149/149 [==============================] - 2s 16ms/step - loss: 0.8766 - gender_loss: 0.1369 - emotion_loss: 0.3272 - age_loss: 0.4124 - gender_accuracy: 0.9544 - emotion_accuracy: 0.9033 - age_accuracy: 0.8858\n",
            "Gender Loss: 0.13690374791622162\n",
            "Emotion Loss: 0.32722344994544983\n",
            "Age Loss: 0.4124250113964081\n",
            "Gender Accuracy: 0.9544111490249634\n",
            "Emotion Accuracy: 0.9033347368240356\n",
            "Age Accuracy: 0.8858168125152588\n"
          ]
        }
      ],
      "source": [
        "# Evaluate the model\n",
        "losses = model.evaluate(X_test, {'gender': y_gender_test,\n",
        "                                 'emotion': y_emotion_test,\n",
        "                                 'age': y_age_test})\n",
        "print('Gender Loss:', losses[1])\n",
        "print('Emotion Loss:', losses[2])\n",
        "print('Age Loss:', losses[3])\n",
        "print('Gender Accuracy:', losses[4])\n",
        "print('Emotion Accuracy:', losses[5])\n",
        "print('Age Accuracy:', losses[6])\n"
      ]
    },
    {
      "cell_type": "code",
      "execution_count": 34,
      "metadata": {
        "id": "rhJylXWFAoYT"
      },
      "outputs": [],
      "source": [
        "from sklearn.metrics import confusion_matrix, f1_score\n",
        "import numpy as np\n",
        "import matplotlib.pyplot as plt"
      ]
    },
    {
      "cell_type": "code",
      "execution_count": 35,
      "metadata": {
        "colab": {
          "base_uri": "https://localhost:8080/"
        },
        "id": "FVWgjdqWApDX",
        "outputId": "e7d8b3cd-7b0a-4889-bcae-924861e5b866"
      },
      "outputs": [
        {
          "name": "stdout",
          "output_type": "stream",
          "text": [
            " 35/149 [======>.......................] - ETA: 0s"
          ]
        },
        {
          "name": "stderr",
          "output_type": "stream",
          "text": [
            "2023-09-06 23:06:58.122785: I tensorflow/core/grappler/optimizers/custom_graph_optimizer_registry.cc:114] Plugin optimizer for device_type GPU is enabled.\n"
          ]
        },
        {
          "name": "stdout",
          "output_type": "stream",
          "text": [
            "149/149 [==============================] - 1s 3ms/step\n"
          ]
        }
      ],
      "source": [
        "y_pred = model.predict(X_test)"
      ]
    },
    {
      "cell_type": "code",
      "execution_count": 36,
      "metadata": {
        "id": "xr0ucgDmAqs1"
      },
      "outputs": [],
      "source": [
        "y_gender_pred = (y_pred[0] > 0.5).astype(int)\n",
        "y_emotion_pred = np.argmax(y_pred[1], axis=1)\n",
        "y_age_pred = np.argmax(y_pred[2], axis=1)\n"
      ]
    },
    {
      "cell_type": "code",
      "execution_count": 37,
      "metadata": {
        "colab": {
          "base_uri": "https://localhost:8080/"
        },
        "id": "z0YcdZHPBpkP",
        "outputId": "8fcf5553-66f3-4a4e-fa20-2ba4106d4c6d"
      },
      "outputs": [
        {
          "data": {
            "text/plain": [
              "{0, 1, 2, 3, 4, 5}"
            ]
          },
          "execution_count": 37,
          "metadata": {},
          "output_type": "execute_result"
        }
      ],
      "source": [
        "set(y_age_pred)"
      ]
    },
    {
      "cell_type": "code",
      "execution_count": 38,
      "metadata": {
        "colab": {
          "base_uri": "https://localhost:8080/"
        },
        "id": "VX5jOYfdDGTo",
        "outputId": "344de392-5459-48d8-87c9-ee9dc8dd6972"
      },
      "outputs": [
        {
          "data": {
            "text/plain": [
              "(4738, 1)"
            ]
          },
          "execution_count": 38,
          "metadata": {},
          "output_type": "execute_result"
        }
      ],
      "source": [
        "y_gender_test.shape"
      ]
    },
    {
      "cell_type": "code",
      "execution_count": 39,
      "metadata": {
        "colab": {
          "base_uri": "https://localhost:8080/"
        },
        "id": "be54ROyZDOuD",
        "outputId": "9c4901bb-98ab-4015-9e40-90b138b3d7f9"
      },
      "outputs": [
        {
          "data": {
            "text/plain": [
              "(4738, 1)"
            ]
          },
          "execution_count": 39,
          "metadata": {},
          "output_type": "execute_result"
        }
      ],
      "source": [
        "y_gender_pred.shape"
      ]
    },
    {
      "cell_type": "code",
      "execution_count": 40,
      "metadata": {
        "id": "oKXJ7bljCBpV"
      },
      "outputs": [],
      "source": [
        "gender_cm = confusion_matrix(y_gender_test, y_gender_pred)\n",
        "emotion_cm = confusion_matrix(np.argmax(y_emotion_test, axis=1), y_emotion_pred)\n",
        "age_cm = confusion_matrix(np.argmax(y_age_test, axis=1), y_age_pred)"
      ]
    },
    {
      "cell_type": "code",
      "execution_count": 41,
      "metadata": {
        "id": "epzdaREbCq79"
      },
      "outputs": [],
      "source": [
        "gender_f1 = f1_score(y_gender_test, y_gender_pred, average='macro')\n",
        "emotion_f1 = f1_score(np.argmax(y_emotion_test, axis=1), y_emotion_pred, average='macro')\n",
        "age_f1 = f1_score(np.argmax(y_age_test, axis=1), y_age_pred, average='macro')"
      ]
    },
    {
      "cell_type": "code",
      "execution_count": 42,
      "metadata": {
        "colab": {
          "base_uri": "https://localhost:8080/",
          "height": 557
        },
        "id": "TK3JNz1JDaic",
        "outputId": "f7aa2302-ca7a-4be7-ebcf-55d1c103428c"
      },
      "outputs": [
        {
          "data": {
            "image/png": "[encoded data removed]",
            "text/plain": [
              "<Figure size 2000x600 with 6 Axes>"
            ]
          },
          "metadata": {},
          "output_type": "display_data"
        }
      ],
      "source": [
        "labels_gender = ['Male', 'Female']\n",
        "labels_emotion = ['Anger', 'Anxiety/Fear', 'Disgust', 'Happiness', 'Neutral', 'Sadness']\n",
        "labels_age = ['Twenties', 'Thirties', 'Forties', 'Fifties', 'Sixties', 'Seventies']\n",
        "\n",
        "\n",
        "fig, axes = plt.subplots(1, 3, figsize=(20, 6))\n",
        "sns.heatmap(gender_cm, annot=True, cmap='Blues', fmt='d', ax=axes[0])\n",
        "axes[0].set_xticks(np.arange(len(labels_gender)) + 0.5)\n",
        "axes[0].set_yticks(np.arange(len(labels_gender)) + 0.5)\n",
        "axes[0].set_xticklabels(labels_gender)\n",
        "axes[0].set_yticklabels(labels_gender)\n",
        "axes[0].set_xlabel('Predicted')\n",
        "axes[0].set_ylabel('True')\n",
        "axes[0].set_title('Gender Confusion Matrix')\n",
        "\n",
        "sns.heatmap(emotion_cm, annot=True, cmap='Blues', fmt='d', ax=axes[1])\n",
        "axes[1].set_xticks(np.arange(len(labels_emotion)) + 0.5)\n",
        "axes[1].set_yticks(np.arange(len(labels_emotion)) + 0.5)\n",
        "axes[1].set_xticklabels(labels_emotion, rotation=45)\n",
        "axes[1].set_yticklabels(labels_emotion)\n",
        "axes[1].set_xlabel('Predicted')\n",
        "axes[1].set_ylabel('True')\n",
        "axes[1].set_title('Emotion Confusion Matrix')\n",
        "\n",
        "sns.heatmap(age_cm, annot=True, cmap='Blues', fmt='d', ax=axes[2])\n",
        "axes[2].set_xticks(np.arange(len(labels_age)) + 0.5)\n",
        "axes[2].set_yticks(np.arange(len(labels_age)) + 0.5)\n",
        "axes[2].set_xticklabels(labels_age, rotation=45)\n",
        "axes[2].set_yticklabels(labels_age)\n",
        "axes[2].set_xlabel('Predicted')\n",
        "axes[2].set_ylabel('True')\n",
        "axes[2].set_title('Age Confusion Matrix')\n",
        "\n",
        "plt.tight_layout()\n",
        "plt.show()"
      ]
    },
    {
      "cell_type": "code",
      "execution_count": 43,
      "metadata": {
        "colab": {
          "base_uri": "https://localhost:8080/"
        },
        "id": "tseov2bRDdpE",
        "outputId": "bad7a2f2-eaa5-407e-9472-2036fc9e4ca7"
      },
      "outputs": [
        {
          "name": "stdout",
          "output_type": "stream",
          "text": [
            "Gender F1 Score: 0.9543053294553742\n",
            "Emotion F1 Score: 0.9026527712361093\n",
            "Age F1 Score: 0.88475905141938\n"
          ]
        }
      ],
      "source": [
        "print('Gender F1 Score:', gender_f1)\n",
        "print('Emotion F1 Score:', emotion_f1)\n",
        "print('Age F1 Score:', age_f1)"
      ]
    },
    {
      "cell_type": "code",
      "execution_count": null,
      "metadata": {
        "id": "Rhtg-QGYO2gg"
      },
      "outputs": [],
      "source": []
    },
    {
      "cell_type": "code",
      "execution_count": null,
      "metadata": {},
      "outputs": [],
      "source": []
    }
  ],
  "metadata": {
    "accelerator": "GPU",
    "colab": {
      "gpuType": "T4",
      "provenance": []
    },
    "kernelspec": {
      "display_name": "Python 3",
      "name": "python3"
    },
    "language_info": {
      "codemirror_mode": {
        "name": "ipython",
        "version": 3
      },
      "file_extension": ".py",
      "mimetype": "text/x-python",
      "name": "python",
      "nbconvert_exporter": "python",
      "pygments_lexer": "ipython3",
      "version": "3.10.12"
    }
  },
  "nbformat": 4,
  "nbformat_minor": 0
}
