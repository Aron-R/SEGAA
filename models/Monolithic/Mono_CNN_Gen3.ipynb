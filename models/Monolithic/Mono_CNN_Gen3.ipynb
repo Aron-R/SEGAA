{
 "cells": [
  {
   "cell_type": "code",
   "execution_count": 1,
   "id": "9ffb25f4",
   "metadata": {
    "execution": {
     "iopub.execute_input": "2023-09-06T09:55:33.287202Z",
     "iopub.status.busy": "2023-09-06T09:55:33.286670Z",
     "iopub.status.idle": "2023-09-06T09:55:35.154736Z",
     "shell.execute_reply": "2023-09-06T09:55:35.153450Z"
    },
    "papermill": {
     "duration": 1.885165,
     "end_time": "2023-09-06T09:55:35.157340",
     "exception": false,
     "start_time": "2023-09-06T09:55:33.272175",
     "status": "completed"
    },
    "tags": []
   },
   "outputs": [],
   "source": [
    "!rm -rf ./logs/ \n",
    "!mkdir ./logs/"
   ]
  },
  {
   "cell_type": "code",
   "execution_count": 2,
   "id": "854fa274",
   "metadata": {
    "execution": {
     "iopub.execute_input": "2023-09-06T09:11:00.425467Z",
     "iopub.status.busy": "2023-09-06T09:11:00.425108Z",
     "iopub.status.idle": "2023-09-06T09:11:11.953953Z",
     "shell.execute_reply": "2023-09-06T09:11:11.952959Z",
     "shell.execute_reply.started": "2023-09-06T09:11:00.425437Z"
    },
    "papermill": {
     "duration": null,
     "end_time": null,
     "exception": false,
     "start_time": "2023-09-06T09:55:35.170387",
     "status": "running"
    },
    "tags": []
   },
   "outputs": [],
   "source": [
    "%load_ext tensorboard"
   ]
  },
  {
   "cell_type": "code",
   "execution_count": 2,
   "id": "0fedfb80",
   "metadata": {
    "execution": {
     "iopub.execute_input": "2023-09-06T09:11:28.685230Z",
     "iopub.status.busy": "2023-09-06T09:11:28.684694Z",
     "iopub.status.idle": "2023-09-06T09:11:28.699643Z",
     "shell.execute_reply": "2023-09-06T09:11:28.697831Z",
     "shell.execute_reply.started": "2023-09-06T09:11:28.685176Z"
    },
    "papermill": {
     "duration": null,
     "end_time": null,
     "exception": null,
     "start_time": null,
     "status": "pending"
    },
    "tags": []
   },
   "outputs": [],
   "source": [
    "import numpy as np # linear algebra\n",
    "import pandas as pd # data processing, CSV file I/O (e.g. pd.read_csv)\n",
    "\n",
    "# import os\n",
    "# for dirname, _, filenames in os.walk('/kaggle/input'):\n",
    "#     for filename in filenames:\n",
    "#         print(os.path.join(dirname, filename))"
   ]
  },
  {
   "cell_type": "code",
   "execution_count": 3,
   "id": "f2315fa3",
   "metadata": {
    "execution": {
     "iopub.execute_input": "2023-09-06T09:11:30.130598Z",
     "iopub.status.busy": "2023-09-06T09:11:30.129426Z",
     "iopub.status.idle": "2023-09-06T09:11:34.013391Z",
     "shell.execute_reply": "2023-09-06T09:11:34.012364Z",
     "shell.execute_reply.started": "2023-09-06T09:11:30.130529Z"
    },
    "id": "1J_4tBeOCRYK",
    "papermill": {
     "duration": null,
     "end_time": null,
     "exception": null,
     "start_time": null,
     "status": "pending"
    },
    "tags": []
   },
   "outputs": [
    {
     "name": "stderr",
     "output_type": "stream",
     "text": [
      "/opt/homebrew/Caskroom/miniforge/base/envs/prismatic/lib/python3.10/site-packages/lazy_loader/__init__.py:185: RuntimeWarning: subpackages can technically be lazily loaded, but it causes the package to be eagerly loaded even if it is already lazily loaded.So, you probably shouldn't use subpackages with this lazy feature.\n",
      "  warnings.warn(msg, RuntimeWarning)\n",
      "/opt/homebrew/Caskroom/miniforge/base/envs/prismatic/lib/python3.10/site-packages/lazy_loader/__init__.py:185: RuntimeWarning: subpackages can technically be lazily loaded, but it causes the package to be eagerly loaded even if it is already lazily loaded.So, you probably shouldn't use subpackages with this lazy feature.\n",
      "  warnings.warn(msg, RuntimeWarning)\n"
     ]
    }
   ],
   "source": [
    "import os\n",
    "import sys\n",
    "import tensorflow as tf\n",
    "import librosa\n",
    "import librosa.display\n",
    "import seaborn as sns\n",
    "import matplotlib.pyplot as plt"
   ]
  },
  {
   "cell_type": "code",
   "execution_count": 4,
   "id": "548264a5",
   "metadata": {
    "execution": {
     "iopub.execute_input": "2023-09-06T09:11:34.016079Z",
     "iopub.status.busy": "2023-09-06T09:11:34.015413Z",
     "iopub.status.idle": "2023-09-06T09:11:34.180156Z",
     "shell.execute_reply": "2023-09-06T09:11:34.179013Z",
     "shell.execute_reply.started": "2023-09-06T09:11:34.016040Z"
    },
    "id": "yzsZ-H8PCRYL",
    "papermill": {
     "duration": null,
     "end_time": null,
     "exception": null,
     "start_time": null,
     "status": "pending"
    },
    "tags": []
   },
   "outputs": [],
   "source": [
    "from sklearn.preprocessing import StandardScaler, OneHotEncoder\n",
    "from sklearn.metrics import confusion_matrix, classification_report\n",
    "from sklearn.model_selection import train_test_split\n",
    "\n",
    "# to play the audio files\n",
    "from IPython.display import Audio\n",
    "\n",
    "import keras\n",
    "from keras.callbacks import EarlyStopping\n",
    "from keras.callbacks import ReduceLROnPlateau\n",
    "from keras.models import Sequential\n",
    "from keras.layers import Dense, Conv1D, MaxPooling1D, Flatten, Dropout, BatchNormalization\n",
    "from keras.utils import to_categorical\n",
    "from keras.callbacks import ModelCheckpoint\n",
    "\n",
    "import warnings\n",
    "if not sys.warnoptions:\n",
    "    warnings.simplefilter(\"ignore\")\n",
    "warnings.filterwarnings(\"ignore\", category=DeprecationWarning)"
   ]
  },
  {
   "cell_type": "code",
   "execution_count": 6,
   "id": "044514b8",
   "metadata": {
    "execution": {
     "iopub.execute_input": "2023-09-06T09:11:34.182408Z",
     "iopub.status.busy": "2023-09-06T09:11:34.181932Z",
     "iopub.status.idle": "2023-09-06T09:12:10.185756Z",
     "shell.execute_reply": "2023-09-06T09:12:10.184744Z",
     "shell.execute_reply.started": "2023-09-06T09:11:34.182364Z"
    },
    "id": "rPfCyGq2CRYL",
    "papermill": {
     "duration": null,
     "end_time": null,
     "exception": null,
     "start_time": null,
     "status": "pending"
    },
    "tags": []
   },
   "outputs": [],
   "source": [
    "dataset_path = '../../data/features_age_emotion.csv'\n",
    "\n",
    "data = pd.read_csv(dataset_path)"
   ]
  },
  {
   "cell_type": "code",
   "execution_count": 7,
   "id": "54c2ff39",
   "metadata": {},
   "outputs": [
    {
     "data": {
      "text/plain": [
       "Index(['0', '1', '2', '3', '4', '5', '6', '7', '8', '9',\n",
       "       ...\n",
       "       '2853', '2854', '2855', '2856', '2857', '2858', '2859', 'age', 'gender',\n",
       "       'emotion'],\n",
       "      dtype='object', length=2863)"
      ]
     },
     "execution_count": 7,
     "metadata": {},
     "output_type": "execute_result"
    }
   ],
   "source": [
    "data.columns"
   ]
  },
  {
   "cell_type": "code",
   "execution_count": 7,
   "id": "bd4e1bb4",
   "metadata": {
    "execution": {
     "iopub.execute_input": "2023-09-06T09:12:10.189188Z",
     "iopub.status.busy": "2023-09-06T09:12:10.188346Z",
     "iopub.status.idle": "2023-09-06T09:12:10.206302Z",
     "shell.execute_reply": "2023-09-06T09:12:10.205225Z",
     "shell.execute_reply.started": "2023-09-06T09:12:10.189151Z"
    },
    "id": "4ff2SRqYCRYL",
    "papermill": {
     "duration": null,
     "end_time": null,
     "exception": null,
     "start_time": null,
     "status": "pending"
    },
    "tags": []
   },
   "outputs": [],
   "source": [
    "data['age'] = pd.cut(data['age'], bins=[20, 29, 39, 49, 59, 69, 79],\n",
    "                           labels=['twenties', 'thirties', 'forties', 'fifties', 'sixties', 'seventies'],\n",
    "                           right=False)"
   ]
  },
  {
   "cell_type": "code",
   "execution_count": 8,
   "id": "bada4dc6",
   "metadata": {
    "execution": {
     "iopub.execute_input": "2023-09-06T09:12:10.208297Z",
     "iopub.status.busy": "2023-09-06T09:12:10.207868Z",
     "iopub.status.idle": "2023-09-06T09:12:10.665938Z",
     "shell.execute_reply": "2023-09-06T09:12:10.664901Z",
     "shell.execute_reply.started": "2023-09-06T09:12:10.208263Z"
    },
    "id": "qy1Yte97CRYM",
    "papermill": {
     "duration": null,
     "end_time": null,
     "exception": null,
     "start_time": null,
     "status": "pending"
    },
    "tags": []
   },
   "outputs": [],
   "source": [
    "data = data.ffill()"
   ]
  },
  {
   "cell_type": "code",
   "execution_count": 9,
   "id": "d2c70354",
   "metadata": {
    "execution": {
     "iopub.execute_input": "2023-09-06T09:12:10.667869Z",
     "iopub.status.busy": "2023-09-06T09:12:10.667527Z",
     "iopub.status.idle": "2023-09-06T09:12:10.691246Z",
     "shell.execute_reply": "2023-09-06T09:12:10.690189Z",
     "shell.execute_reply.started": "2023-09-06T09:12:10.667836Z"
    },
    "id": "IZlMZDOACRYM",
    "papermill": {
     "duration": null,
     "end_time": null,
     "exception": null,
     "start_time": null,
     "status": "pending"
    },
    "tags": []
   },
   "outputs": [],
   "source": [
    "data['gender'] = data['gender'].replace(\"female\",0)\n",
    "data['gender'] = data['gender'].replace(\"male\",1)"
   ]
  },
  {
   "cell_type": "code",
   "execution_count": 10,
   "id": "9b87c593",
   "metadata": {
    "execution": {
     "iopub.execute_input": "2023-09-06T09:12:10.693392Z",
     "iopub.status.busy": "2023-09-06T09:12:10.692952Z",
     "iopub.status.idle": "2023-09-06T09:12:10.713595Z",
     "shell.execute_reply": "2023-09-06T09:12:10.712559Z",
     "shell.execute_reply.started": "2023-09-06T09:12:10.693358Z"
    },
    "id": "esb-O5ITCRYM",
    "outputId": "898bb6e1-5161-4184-fa22-cbf020693603",
    "papermill": {
     "duration": null,
     "end_time": null,
     "exception": null,
     "start_time": null,
     "status": "pending"
    },
    "tags": []
   },
   "outputs": [
    {
     "data": {
      "text/plain": [
       "emotion\n",
       "anger           5592\n",
       "happiness       5368\n",
       "anxiety/fear    5360\n",
       "sadness         5332\n",
       "disgust         5268\n",
       "neutral         4664\n",
       "Name: count, dtype: int64"
      ]
     },
     "execution_count": 10,
     "metadata": {},
     "output_type": "execute_result"
    }
   ],
   "source": [
    "data.emotion.value_counts()"
   ]
  },
  {
   "cell_type": "code",
   "execution_count": 11,
   "id": "9078801d",
   "metadata": {
    "execution": {
     "iopub.execute_input": "2023-09-06T09:12:10.715574Z",
     "iopub.status.busy": "2023-09-06T09:12:10.715039Z",
     "iopub.status.idle": "2023-09-06T09:12:11.001122Z",
     "shell.execute_reply": "2023-09-06T09:12:10.999938Z",
     "shell.execute_reply.started": "2023-09-06T09:12:10.715540Z"
    },
    "id": "yGb66MuPCRYN",
    "outputId": "a62f5964-ac09-44d4-b39b-fb6860adb3a3",
    "papermill": {
     "duration": null,
     "end_time": null,
     "exception": null,
     "start_time": null,
     "status": "pending"
    },
    "tags": []
   },
   "outputs": [
    {
     "data": {
      "text/html": [
       "<div>\n",
       "<style scoped>\n",
       "    .dataframe tbody tr th:only-of-type {\n",
       "        vertical-align: middle;\n",
       "    }\n",
       "\n",
       "    .dataframe tbody tr th {\n",
       "        vertical-align: top;\n",
       "    }\n",
       "\n",
       "    .dataframe thead th {\n",
       "        text-align: right;\n",
       "    }\n",
       "</style>\n",
       "<table border=\"1\" class=\"dataframe\">\n",
       "  <thead>\n",
       "    <tr style=\"text-align: right;\">\n",
       "      <th></th>\n",
       "      <th>0</th>\n",
       "      <th>1</th>\n",
       "      <th>2</th>\n",
       "      <th>3</th>\n",
       "      <th>4</th>\n",
       "      <th>5</th>\n",
       "      <th>6</th>\n",
       "      <th>7</th>\n",
       "      <th>8</th>\n",
       "      <th>9</th>\n",
       "      <th>...</th>\n",
       "      <th>2859</th>\n",
       "      <th>age</th>\n",
       "      <th>gender</th>\n",
       "      <th>emotion</th>\n",
       "      <th>anger</th>\n",
       "      <th>anxiety/fear</th>\n",
       "      <th>disgust</th>\n",
       "      <th>happiness</th>\n",
       "      <th>neutral</th>\n",
       "      <th>sadness</th>\n",
       "    </tr>\n",
       "  </thead>\n",
       "  <tbody>\n",
       "    <tr>\n",
       "      <th>0</th>\n",
       "      <td>0.017090</td>\n",
       "      <td>0.024902</td>\n",
       "      <td>0.028809</td>\n",
       "      <td>0.045410</td>\n",
       "      <td>0.074707</td>\n",
       "      <td>0.100098</td>\n",
       "      <td>0.119141</td>\n",
       "      <td>0.110840</td>\n",
       "      <td>0.088867</td>\n",
       "      <td>0.067383</td>\n",
       "      <td>...</td>\n",
       "      <td>NaN</td>\n",
       "      <td>fifties</td>\n",
       "      <td>1</td>\n",
       "      <td>anger</td>\n",
       "      <td>True</td>\n",
       "      <td>False</td>\n",
       "      <td>False</td>\n",
       "      <td>False</td>\n",
       "      <td>False</td>\n",
       "      <td>False</td>\n",
       "    </tr>\n",
       "    <tr>\n",
       "      <th>1</th>\n",
       "      <td>0.182129</td>\n",
       "      <td>0.256836</td>\n",
       "      <td>0.350098</td>\n",
       "      <td>0.351074</td>\n",
       "      <td>0.281738</td>\n",
       "      <td>0.240234</td>\n",
       "      <td>0.170410</td>\n",
       "      <td>0.110840</td>\n",
       "      <td>0.089844</td>\n",
       "      <td>0.068359</td>\n",
       "      <td>...</td>\n",
       "      <td>NaN</td>\n",
       "      <td>fifties</td>\n",
       "      <td>1</td>\n",
       "      <td>anger</td>\n",
       "      <td>True</td>\n",
       "      <td>False</td>\n",
       "      <td>False</td>\n",
       "      <td>False</td>\n",
       "      <td>False</td>\n",
       "      <td>False</td>\n",
       "    </tr>\n",
       "    <tr>\n",
       "      <th>2</th>\n",
       "      <td>0.015625</td>\n",
       "      <td>0.029297</td>\n",
       "      <td>0.070801</td>\n",
       "      <td>0.104004</td>\n",
       "      <td>0.132324</td>\n",
       "      <td>0.149414</td>\n",
       "      <td>0.131836</td>\n",
       "      <td>0.109863</td>\n",
       "      <td>0.092773</td>\n",
       "      <td>0.076660</td>\n",
       "      <td>...</td>\n",
       "      <td>NaN</td>\n",
       "      <td>fifties</td>\n",
       "      <td>1</td>\n",
       "      <td>anger</td>\n",
       "      <td>True</td>\n",
       "      <td>False</td>\n",
       "      <td>False</td>\n",
       "      <td>False</td>\n",
       "      <td>False</td>\n",
       "      <td>False</td>\n",
       "    </tr>\n",
       "    <tr>\n",
       "      <th>3</th>\n",
       "      <td>0.076660</td>\n",
       "      <td>0.113770</td>\n",
       "      <td>0.167969</td>\n",
       "      <td>0.180176</td>\n",
       "      <td>0.173340</td>\n",
       "      <td>0.166992</td>\n",
       "      <td>0.136719</td>\n",
       "      <td>0.109863</td>\n",
       "      <td>0.091309</td>\n",
       "      <td>0.075684</td>\n",
       "      <td>...</td>\n",
       "      <td>NaN</td>\n",
       "      <td>fifties</td>\n",
       "      <td>1</td>\n",
       "      <td>anger</td>\n",
       "      <td>True</td>\n",
       "      <td>False</td>\n",
       "      <td>False</td>\n",
       "      <td>False</td>\n",
       "      <td>False</td>\n",
       "      <td>False</td>\n",
       "    </tr>\n",
       "    <tr>\n",
       "      <th>4</th>\n",
       "      <td>0.015137</td>\n",
       "      <td>0.031738</td>\n",
       "      <td>0.036621</td>\n",
       "      <td>0.041504</td>\n",
       "      <td>0.037109</td>\n",
       "      <td>0.026855</td>\n",
       "      <td>0.029297</td>\n",
       "      <td>0.029297</td>\n",
       "      <td>0.035645</td>\n",
       "      <td>0.067383</td>\n",
       "      <td>...</td>\n",
       "      <td>NaN</td>\n",
       "      <td>fifties</td>\n",
       "      <td>1</td>\n",
       "      <td>disgust</td>\n",
       "      <td>False</td>\n",
       "      <td>False</td>\n",
       "      <td>True</td>\n",
       "      <td>False</td>\n",
       "      <td>False</td>\n",
       "      <td>False</td>\n",
       "    </tr>\n",
       "  </tbody>\n",
       "</table>\n",
       "<p>5 rows × 2869 columns</p>\n",
       "</div>"
      ],
      "text/plain": [
       "          0         1         2         3         4         5         6  \\\n",
       "0  0.017090  0.024902  0.028809  0.045410  0.074707  0.100098  0.119141   \n",
       "1  0.182129  0.256836  0.350098  0.351074  0.281738  0.240234  0.170410   \n",
       "2  0.015625  0.029297  0.070801  0.104004  0.132324  0.149414  0.131836   \n",
       "3  0.076660  0.113770  0.167969  0.180176  0.173340  0.166992  0.136719   \n",
       "4  0.015137  0.031738  0.036621  0.041504  0.037109  0.026855  0.029297   \n",
       "\n",
       "          7         8         9  ...  2859      age  gender  emotion  anger  \\\n",
       "0  0.110840  0.088867  0.067383  ...   NaN  fifties       1    anger   True   \n",
       "1  0.110840  0.089844  0.068359  ...   NaN  fifties       1    anger   True   \n",
       "2  0.109863  0.092773  0.076660  ...   NaN  fifties       1    anger   True   \n",
       "3  0.109863  0.091309  0.075684  ...   NaN  fifties       1    anger   True   \n",
       "4  0.029297  0.035645  0.067383  ...   NaN  fifties       1  disgust  False   \n",
       "\n",
       "   anxiety/fear  disgust  happiness  neutral  sadness  \n",
       "0         False    False      False    False    False  \n",
       "1         False    False      False    False    False  \n",
       "2         False    False      False    False    False  \n",
       "3         False    False      False    False    False  \n",
       "4         False     True      False    False    False  \n",
       "\n",
       "[5 rows x 2869 columns]"
      ]
     },
     "execution_count": 11,
     "metadata": {},
     "output_type": "execute_result"
    }
   ],
   "source": [
    "encoded_df = pd.get_dummies(data['emotion'])\n",
    "df_encoded = pd.concat([data, encoded_df], axis=1)\n",
    "df_encoded.head()"
   ]
  },
  {
   "cell_type": "code",
   "execution_count": 12,
   "id": "3456a0ef",
   "metadata": {
    "execution": {
     "iopub.execute_input": "2023-09-06T09:12:11.004234Z",
     "iopub.status.busy": "2023-09-06T09:12:11.002757Z",
     "iopub.status.idle": "2023-09-06T09:12:11.285122Z",
     "shell.execute_reply": "2023-09-06T09:12:11.283931Z",
     "shell.execute_reply.started": "2023-09-06T09:12:11.004196Z"
    },
    "id": "MUZz2ml9CRYN",
    "outputId": "adca5b6c-ed7e-45ae-8b02-14d36fa32b8c",
    "papermill": {
     "duration": null,
     "end_time": null,
     "exception": null,
     "start_time": null,
     "status": "pending"
    },
    "tags": []
   },
   "outputs": [
    {
     "data": {
      "text/html": [
       "<div>\n",
       "<style scoped>\n",
       "    .dataframe tbody tr th:only-of-type {\n",
       "        vertical-align: middle;\n",
       "    }\n",
       "\n",
       "    .dataframe tbody tr th {\n",
       "        vertical-align: top;\n",
       "    }\n",
       "\n",
       "    .dataframe thead th {\n",
       "        text-align: right;\n",
       "    }\n",
       "</style>\n",
       "<table border=\"1\" class=\"dataframe\">\n",
       "  <thead>\n",
       "    <tr style=\"text-align: right;\">\n",
       "      <th></th>\n",
       "      <th>0</th>\n",
       "      <th>1</th>\n",
       "      <th>2</th>\n",
       "      <th>3</th>\n",
       "      <th>4</th>\n",
       "      <th>5</th>\n",
       "      <th>6</th>\n",
       "      <th>7</th>\n",
       "      <th>8</th>\n",
       "      <th>9</th>\n",
       "      <th>...</th>\n",
       "      <th>disgust</th>\n",
       "      <th>happiness</th>\n",
       "      <th>neutral</th>\n",
       "      <th>sadness</th>\n",
       "      <th>twenties</th>\n",
       "      <th>thirties</th>\n",
       "      <th>forties</th>\n",
       "      <th>fifties</th>\n",
       "      <th>sixties</th>\n",
       "      <th>seventies</th>\n",
       "    </tr>\n",
       "  </thead>\n",
       "  <tbody>\n",
       "    <tr>\n",
       "      <th>0</th>\n",
       "      <td>0.017090</td>\n",
       "      <td>0.024902</td>\n",
       "      <td>0.028809</td>\n",
       "      <td>0.045410</td>\n",
       "      <td>0.074707</td>\n",
       "      <td>0.100098</td>\n",
       "      <td>0.119141</td>\n",
       "      <td>0.110840</td>\n",
       "      <td>0.088867</td>\n",
       "      <td>0.067383</td>\n",
       "      <td>...</td>\n",
       "      <td>False</td>\n",
       "      <td>False</td>\n",
       "      <td>False</td>\n",
       "      <td>False</td>\n",
       "      <td>False</td>\n",
       "      <td>False</td>\n",
       "      <td>False</td>\n",
       "      <td>True</td>\n",
       "      <td>False</td>\n",
       "      <td>False</td>\n",
       "    </tr>\n",
       "    <tr>\n",
       "      <th>1</th>\n",
       "      <td>0.182129</td>\n",
       "      <td>0.256836</td>\n",
       "      <td>0.350098</td>\n",
       "      <td>0.351074</td>\n",
       "      <td>0.281738</td>\n",
       "      <td>0.240234</td>\n",
       "      <td>0.170410</td>\n",
       "      <td>0.110840</td>\n",
       "      <td>0.089844</td>\n",
       "      <td>0.068359</td>\n",
       "      <td>...</td>\n",
       "      <td>False</td>\n",
       "      <td>False</td>\n",
       "      <td>False</td>\n",
       "      <td>False</td>\n",
       "      <td>False</td>\n",
       "      <td>False</td>\n",
       "      <td>False</td>\n",
       "      <td>True</td>\n",
       "      <td>False</td>\n",
       "      <td>False</td>\n",
       "    </tr>\n",
       "    <tr>\n",
       "      <th>2</th>\n",
       "      <td>0.015625</td>\n",
       "      <td>0.029297</td>\n",
       "      <td>0.070801</td>\n",
       "      <td>0.104004</td>\n",
       "      <td>0.132324</td>\n",
       "      <td>0.149414</td>\n",
       "      <td>0.131836</td>\n",
       "      <td>0.109863</td>\n",
       "      <td>0.092773</td>\n",
       "      <td>0.076660</td>\n",
       "      <td>...</td>\n",
       "      <td>False</td>\n",
       "      <td>False</td>\n",
       "      <td>False</td>\n",
       "      <td>False</td>\n",
       "      <td>False</td>\n",
       "      <td>False</td>\n",
       "      <td>False</td>\n",
       "      <td>True</td>\n",
       "      <td>False</td>\n",
       "      <td>False</td>\n",
       "    </tr>\n",
       "    <tr>\n",
       "      <th>3</th>\n",
       "      <td>0.076660</td>\n",
       "      <td>0.113770</td>\n",
       "      <td>0.167969</td>\n",
       "      <td>0.180176</td>\n",
       "      <td>0.173340</td>\n",
       "      <td>0.166992</td>\n",
       "      <td>0.136719</td>\n",
       "      <td>0.109863</td>\n",
       "      <td>0.091309</td>\n",
       "      <td>0.075684</td>\n",
       "      <td>...</td>\n",
       "      <td>False</td>\n",
       "      <td>False</td>\n",
       "      <td>False</td>\n",
       "      <td>False</td>\n",
       "      <td>False</td>\n",
       "      <td>False</td>\n",
       "      <td>False</td>\n",
       "      <td>True</td>\n",
       "      <td>False</td>\n",
       "      <td>False</td>\n",
       "    </tr>\n",
       "    <tr>\n",
       "      <th>4</th>\n",
       "      <td>0.015137</td>\n",
       "      <td>0.031738</td>\n",
       "      <td>0.036621</td>\n",
       "      <td>0.041504</td>\n",
       "      <td>0.037109</td>\n",
       "      <td>0.026855</td>\n",
       "      <td>0.029297</td>\n",
       "      <td>0.029297</td>\n",
       "      <td>0.035645</td>\n",
       "      <td>0.067383</td>\n",
       "      <td>...</td>\n",
       "      <td>True</td>\n",
       "      <td>False</td>\n",
       "      <td>False</td>\n",
       "      <td>False</td>\n",
       "      <td>False</td>\n",
       "      <td>False</td>\n",
       "      <td>False</td>\n",
       "      <td>True</td>\n",
       "      <td>False</td>\n",
       "      <td>False</td>\n",
       "    </tr>\n",
       "  </tbody>\n",
       "</table>\n",
       "<p>5 rows × 2875 columns</p>\n",
       "</div>"
      ],
      "text/plain": [
       "          0         1         2         3         4         5         6  \\\n",
       "0  0.017090  0.024902  0.028809  0.045410  0.074707  0.100098  0.119141   \n",
       "1  0.182129  0.256836  0.350098  0.351074  0.281738  0.240234  0.170410   \n",
       "2  0.015625  0.029297  0.070801  0.104004  0.132324  0.149414  0.131836   \n",
       "3  0.076660  0.113770  0.167969  0.180176  0.173340  0.166992  0.136719   \n",
       "4  0.015137  0.031738  0.036621  0.041504  0.037109  0.026855  0.029297   \n",
       "\n",
       "          7         8         9  ...  disgust  happiness  neutral  sadness  \\\n",
       "0  0.110840  0.088867  0.067383  ...    False      False    False    False   \n",
       "1  0.110840  0.089844  0.068359  ...    False      False    False    False   \n",
       "2  0.109863  0.092773  0.076660  ...    False      False    False    False   \n",
       "3  0.109863  0.091309  0.075684  ...    False      False    False    False   \n",
       "4  0.029297  0.035645  0.067383  ...     True      False    False    False   \n",
       "\n",
       "   twenties  thirties  forties  fifties  sixties  seventies  \n",
       "0     False     False    False     True    False      False  \n",
       "1     False     False    False     True    False      False  \n",
       "2     False     False    False     True    False      False  \n",
       "3     False     False    False     True    False      False  \n",
       "4     False     False    False     True    False      False  \n",
       "\n",
       "[5 rows x 2875 columns]"
      ]
     },
     "execution_count": 12,
     "metadata": {},
     "output_type": "execute_result"
    }
   ],
   "source": [
    "encoded_df = pd.get_dummies(data['age'])\n",
    "df_encoded = pd.concat([df_encoded, encoded_df], axis=1)\n",
    "df_encoded.head()"
   ]
  },
  {
   "cell_type": "code",
   "execution_count": 13,
   "id": "8950028b",
   "metadata": {
    "execution": {
     "iopub.execute_input": "2023-09-06T09:12:11.290714Z",
     "iopub.status.busy": "2023-09-06T09:12:11.290371Z",
     "iopub.status.idle": "2023-09-06T09:12:11.508232Z",
     "shell.execute_reply": "2023-09-06T09:12:11.507026Z",
     "shell.execute_reply.started": "2023-09-06T09:12:11.290684Z"
    },
    "id": "rFIlJe5TCRYN",
    "papermill": {
     "duration": null,
     "end_time": null,
     "exception": null,
     "start_time": null,
     "status": "pending"
    },
    "tags": []
   },
   "outputs": [],
   "source": [
    "df_encoded.drop(['age','emotion'],axis=1,inplace=True)"
   ]
  },
  {
   "cell_type": "code",
   "execution_count": 14,
   "id": "96fb5949",
   "metadata": {
    "execution": {
     "iopub.execute_input": "2023-09-06T09:12:11.510770Z",
     "iopub.status.busy": "2023-09-06T09:12:11.509959Z",
     "iopub.status.idle": "2023-09-06T09:12:11.792351Z",
     "shell.execute_reply": "2023-09-06T09:12:11.790350Z",
     "shell.execute_reply.started": "2023-09-06T09:12:11.510733Z"
    },
    "id": "hIrsIZ5xCRYN",
    "outputId": "b771c10e-924d-43ca-dc26-4677e18cd1fc",
    "papermill": {
     "duration": null,
     "end_time": null,
     "exception": null,
     "start_time": null,
     "status": "pending"
    },
    "tags": []
   },
   "outputs": [
    {
     "data": {
      "text/html": [
       "<div>\n",
       "<style scoped>\n",
       "    .dataframe tbody tr th:only-of-type {\n",
       "        vertical-align: middle;\n",
       "    }\n",
       "\n",
       "    .dataframe tbody tr th {\n",
       "        vertical-align: top;\n",
       "    }\n",
       "\n",
       "    .dataframe thead th {\n",
       "        text-align: right;\n",
       "    }\n",
       "</style>\n",
       "<table border=\"1\" class=\"dataframe\">\n",
       "  <thead>\n",
       "    <tr style=\"text-align: right;\">\n",
       "      <th></th>\n",
       "      <th>0</th>\n",
       "      <th>1</th>\n",
       "      <th>2</th>\n",
       "      <th>3</th>\n",
       "      <th>4</th>\n",
       "      <th>5</th>\n",
       "      <th>6</th>\n",
       "      <th>7</th>\n",
       "      <th>8</th>\n",
       "      <th>9</th>\n",
       "      <th>...</th>\n",
       "      <th>neutral</th>\n",
       "      <th>sadness</th>\n",
       "      <th>twenties</th>\n",
       "      <th>thirties</th>\n",
       "      <th>forties</th>\n",
       "      <th>fifties</th>\n",
       "      <th>sixties</th>\n",
       "      <th>seventies</th>\n",
       "      <th>0</th>\n",
       "      <th>1</th>\n",
       "    </tr>\n",
       "  </thead>\n",
       "  <tbody>\n",
       "    <tr>\n",
       "      <th>0</th>\n",
       "      <td>0.017090</td>\n",
       "      <td>0.024902</td>\n",
       "      <td>0.028809</td>\n",
       "      <td>0.045410</td>\n",
       "      <td>0.074707</td>\n",
       "      <td>0.100098</td>\n",
       "      <td>0.119141</td>\n",
       "      <td>0.110840</td>\n",
       "      <td>0.088867</td>\n",
       "      <td>0.067383</td>\n",
       "      <td>...</td>\n",
       "      <td>False</td>\n",
       "      <td>False</td>\n",
       "      <td>False</td>\n",
       "      <td>False</td>\n",
       "      <td>False</td>\n",
       "      <td>True</td>\n",
       "      <td>False</td>\n",
       "      <td>False</td>\n",
       "      <td>False</td>\n",
       "      <td>True</td>\n",
       "    </tr>\n",
       "    <tr>\n",
       "      <th>1</th>\n",
       "      <td>0.182129</td>\n",
       "      <td>0.256836</td>\n",
       "      <td>0.350098</td>\n",
       "      <td>0.351074</td>\n",
       "      <td>0.281738</td>\n",
       "      <td>0.240234</td>\n",
       "      <td>0.170410</td>\n",
       "      <td>0.110840</td>\n",
       "      <td>0.089844</td>\n",
       "      <td>0.068359</td>\n",
       "      <td>...</td>\n",
       "      <td>False</td>\n",
       "      <td>False</td>\n",
       "      <td>False</td>\n",
       "      <td>False</td>\n",
       "      <td>False</td>\n",
       "      <td>True</td>\n",
       "      <td>False</td>\n",
       "      <td>False</td>\n",
       "      <td>False</td>\n",
       "      <td>True</td>\n",
       "    </tr>\n",
       "    <tr>\n",
       "      <th>2</th>\n",
       "      <td>0.015625</td>\n",
       "      <td>0.029297</td>\n",
       "      <td>0.070801</td>\n",
       "      <td>0.104004</td>\n",
       "      <td>0.132324</td>\n",
       "      <td>0.149414</td>\n",
       "      <td>0.131836</td>\n",
       "      <td>0.109863</td>\n",
       "      <td>0.092773</td>\n",
       "      <td>0.076660</td>\n",
       "      <td>...</td>\n",
       "      <td>False</td>\n",
       "      <td>False</td>\n",
       "      <td>False</td>\n",
       "      <td>False</td>\n",
       "      <td>False</td>\n",
       "      <td>True</td>\n",
       "      <td>False</td>\n",
       "      <td>False</td>\n",
       "      <td>False</td>\n",
       "      <td>True</td>\n",
       "    </tr>\n",
       "    <tr>\n",
       "      <th>3</th>\n",
       "      <td>0.076660</td>\n",
       "      <td>0.113770</td>\n",
       "      <td>0.167969</td>\n",
       "      <td>0.180176</td>\n",
       "      <td>0.173340</td>\n",
       "      <td>0.166992</td>\n",
       "      <td>0.136719</td>\n",
       "      <td>0.109863</td>\n",
       "      <td>0.091309</td>\n",
       "      <td>0.075684</td>\n",
       "      <td>...</td>\n",
       "      <td>False</td>\n",
       "      <td>False</td>\n",
       "      <td>False</td>\n",
       "      <td>False</td>\n",
       "      <td>False</td>\n",
       "      <td>True</td>\n",
       "      <td>False</td>\n",
       "      <td>False</td>\n",
       "      <td>False</td>\n",
       "      <td>True</td>\n",
       "    </tr>\n",
       "    <tr>\n",
       "      <th>4</th>\n",
       "      <td>0.015137</td>\n",
       "      <td>0.031738</td>\n",
       "      <td>0.036621</td>\n",
       "      <td>0.041504</td>\n",
       "      <td>0.037109</td>\n",
       "      <td>0.026855</td>\n",
       "      <td>0.029297</td>\n",
       "      <td>0.029297</td>\n",
       "      <td>0.035645</td>\n",
       "      <td>0.067383</td>\n",
       "      <td>...</td>\n",
       "      <td>False</td>\n",
       "      <td>False</td>\n",
       "      <td>False</td>\n",
       "      <td>False</td>\n",
       "      <td>False</td>\n",
       "      <td>True</td>\n",
       "      <td>False</td>\n",
       "      <td>False</td>\n",
       "      <td>False</td>\n",
       "      <td>True</td>\n",
       "    </tr>\n",
       "  </tbody>\n",
       "</table>\n",
       "<p>5 rows × 2875 columns</p>\n",
       "</div>"
      ],
      "text/plain": [
       "          0         1         2         3         4         5         6  \\\n",
       "0  0.017090  0.024902  0.028809  0.045410  0.074707  0.100098  0.119141   \n",
       "1  0.182129  0.256836  0.350098  0.351074  0.281738  0.240234  0.170410   \n",
       "2  0.015625  0.029297  0.070801  0.104004  0.132324  0.149414  0.131836   \n",
       "3  0.076660  0.113770  0.167969  0.180176  0.173340  0.166992  0.136719   \n",
       "4  0.015137  0.031738  0.036621  0.041504  0.037109  0.026855  0.029297   \n",
       "\n",
       "          7         8         9  ...  neutral  sadness  twenties  thirties  \\\n",
       "0  0.110840  0.088867  0.067383  ...    False    False     False     False   \n",
       "1  0.110840  0.089844  0.068359  ...    False    False     False     False   \n",
       "2  0.109863  0.092773  0.076660  ...    False    False     False     False   \n",
       "3  0.109863  0.091309  0.075684  ...    False    False     False     False   \n",
       "4  0.029297  0.035645  0.067383  ...    False    False     False     False   \n",
       "\n",
       "   forties  fifties  sixties  seventies      0     1  \n",
       "0    False     True    False      False  False  True  \n",
       "1    False     True    False      False  False  True  \n",
       "2    False     True    False      False  False  True  \n",
       "3    False     True    False      False  False  True  \n",
       "4    False     True    False      False  False  True  \n",
       "\n",
       "[5 rows x 2875 columns]"
      ]
     },
     "execution_count": 14,
     "metadata": {},
     "output_type": "execute_result"
    }
   ],
   "source": [
    "encoded_df = pd.get_dummies(data['gender'])\n",
    "df_encoded = pd.concat([df_encoded, encoded_df], axis=1)\n",
    "df_encoded.head()"
   ]
  },
  {
   "cell_type": "code",
   "execution_count": 15,
   "id": "50009888",
   "metadata": {
    "execution": {
     "iopub.execute_input": "2023-09-06T09:12:11.795909Z",
     "iopub.status.busy": "2023-09-06T09:12:11.795275Z",
     "iopub.status.idle": "2023-09-06T09:12:11.822002Z",
     "shell.execute_reply": "2023-09-06T09:12:11.820950Z",
     "shell.execute_reply.started": "2023-09-06T09:12:11.795870Z"
    },
    "id": "GosLUAHSCRYN",
    "outputId": "7777cef0-8770-46fe-bdd4-8d46f6eeb85e",
    "papermill": {
     "duration": null,
     "end_time": null,
     "exception": null,
     "start_time": null,
     "status": "pending"
    },
    "tags": []
   },
   "outputs": [
    {
     "data": {
      "text/html": [
       "<div>\n",
       "<style scoped>\n",
       "    .dataframe tbody tr th:only-of-type {\n",
       "        vertical-align: middle;\n",
       "    }\n",
       "\n",
       "    .dataframe tbody tr th {\n",
       "        vertical-align: top;\n",
       "    }\n",
       "\n",
       "    .dataframe thead th {\n",
       "        text-align: right;\n",
       "    }\n",
       "</style>\n",
       "<table border=\"1\" class=\"dataframe\">\n",
       "  <thead>\n",
       "    <tr style=\"text-align: right;\">\n",
       "      <th></th>\n",
       "      <th>0</th>\n",
       "      <th>1</th>\n",
       "      <th>2</th>\n",
       "      <th>3</th>\n",
       "      <th>4</th>\n",
       "      <th>5</th>\n",
       "      <th>6</th>\n",
       "      <th>7</th>\n",
       "      <th>8</th>\n",
       "      <th>9</th>\n",
       "      <th>...</th>\n",
       "      <th>neutral</th>\n",
       "      <th>sadness</th>\n",
       "      <th>twenties</th>\n",
       "      <th>thirties</th>\n",
       "      <th>forties</th>\n",
       "      <th>fifties</th>\n",
       "      <th>sixties</th>\n",
       "      <th>seventies</th>\n",
       "      <th>female</th>\n",
       "      <th>male</th>\n",
       "    </tr>\n",
       "  </thead>\n",
       "  <tbody>\n",
       "    <tr>\n",
       "      <th>0</th>\n",
       "      <td>0.017090</td>\n",
       "      <td>0.024902</td>\n",
       "      <td>0.028809</td>\n",
       "      <td>0.045410</td>\n",
       "      <td>0.074707</td>\n",
       "      <td>0.100098</td>\n",
       "      <td>0.119141</td>\n",
       "      <td>0.110840</td>\n",
       "      <td>0.088867</td>\n",
       "      <td>0.067383</td>\n",
       "      <td>...</td>\n",
       "      <td>False</td>\n",
       "      <td>False</td>\n",
       "      <td>False</td>\n",
       "      <td>False</td>\n",
       "      <td>False</td>\n",
       "      <td>True</td>\n",
       "      <td>False</td>\n",
       "      <td>False</td>\n",
       "      <td>False</td>\n",
       "      <td>True</td>\n",
       "    </tr>\n",
       "    <tr>\n",
       "      <th>1</th>\n",
       "      <td>0.182129</td>\n",
       "      <td>0.256836</td>\n",
       "      <td>0.350098</td>\n",
       "      <td>0.351074</td>\n",
       "      <td>0.281738</td>\n",
       "      <td>0.240234</td>\n",
       "      <td>0.170410</td>\n",
       "      <td>0.110840</td>\n",
       "      <td>0.089844</td>\n",
       "      <td>0.068359</td>\n",
       "      <td>...</td>\n",
       "      <td>False</td>\n",
       "      <td>False</td>\n",
       "      <td>False</td>\n",
       "      <td>False</td>\n",
       "      <td>False</td>\n",
       "      <td>True</td>\n",
       "      <td>False</td>\n",
       "      <td>False</td>\n",
       "      <td>False</td>\n",
       "      <td>True</td>\n",
       "    </tr>\n",
       "    <tr>\n",
       "      <th>2</th>\n",
       "      <td>0.015625</td>\n",
       "      <td>0.029297</td>\n",
       "      <td>0.070801</td>\n",
       "      <td>0.104004</td>\n",
       "      <td>0.132324</td>\n",
       "      <td>0.149414</td>\n",
       "      <td>0.131836</td>\n",
       "      <td>0.109863</td>\n",
       "      <td>0.092773</td>\n",
       "      <td>0.076660</td>\n",
       "      <td>...</td>\n",
       "      <td>False</td>\n",
       "      <td>False</td>\n",
       "      <td>False</td>\n",
       "      <td>False</td>\n",
       "      <td>False</td>\n",
       "      <td>True</td>\n",
       "      <td>False</td>\n",
       "      <td>False</td>\n",
       "      <td>False</td>\n",
       "      <td>True</td>\n",
       "    </tr>\n",
       "    <tr>\n",
       "      <th>3</th>\n",
       "      <td>0.076660</td>\n",
       "      <td>0.113770</td>\n",
       "      <td>0.167969</td>\n",
       "      <td>0.180176</td>\n",
       "      <td>0.173340</td>\n",
       "      <td>0.166992</td>\n",
       "      <td>0.136719</td>\n",
       "      <td>0.109863</td>\n",
       "      <td>0.091309</td>\n",
       "      <td>0.075684</td>\n",
       "      <td>...</td>\n",
       "      <td>False</td>\n",
       "      <td>False</td>\n",
       "      <td>False</td>\n",
       "      <td>False</td>\n",
       "      <td>False</td>\n",
       "      <td>True</td>\n",
       "      <td>False</td>\n",
       "      <td>False</td>\n",
       "      <td>False</td>\n",
       "      <td>True</td>\n",
       "    </tr>\n",
       "    <tr>\n",
       "      <th>4</th>\n",
       "      <td>0.015137</td>\n",
       "      <td>0.031738</td>\n",
       "      <td>0.036621</td>\n",
       "      <td>0.041504</td>\n",
       "      <td>0.037109</td>\n",
       "      <td>0.026855</td>\n",
       "      <td>0.029297</td>\n",
       "      <td>0.029297</td>\n",
       "      <td>0.035645</td>\n",
       "      <td>0.067383</td>\n",
       "      <td>...</td>\n",
       "      <td>False</td>\n",
       "      <td>False</td>\n",
       "      <td>False</td>\n",
       "      <td>False</td>\n",
       "      <td>False</td>\n",
       "      <td>True</td>\n",
       "      <td>False</td>\n",
       "      <td>False</td>\n",
       "      <td>False</td>\n",
       "      <td>True</td>\n",
       "    </tr>\n",
       "  </tbody>\n",
       "</table>\n",
       "<p>5 rows × 2875 columns</p>\n",
       "</div>"
      ],
      "text/plain": [
       "          0         1         2         3         4         5         6  \\\n",
       "0  0.017090  0.024902  0.028809  0.045410  0.074707  0.100098  0.119141   \n",
       "1  0.182129  0.256836  0.350098  0.351074  0.281738  0.240234  0.170410   \n",
       "2  0.015625  0.029297  0.070801  0.104004  0.132324  0.149414  0.131836   \n",
       "3  0.076660  0.113770  0.167969  0.180176  0.173340  0.166992  0.136719   \n",
       "4  0.015137  0.031738  0.036621  0.041504  0.037109  0.026855  0.029297   \n",
       "\n",
       "          7         8         9  ...  neutral  sadness  twenties  thirties  \\\n",
       "0  0.110840  0.088867  0.067383  ...    False    False     False     False   \n",
       "1  0.110840  0.089844  0.068359  ...    False    False     False     False   \n",
       "2  0.109863  0.092773  0.076660  ...    False    False     False     False   \n",
       "3  0.109863  0.091309  0.075684  ...    False    False     False     False   \n",
       "4  0.029297  0.035645  0.067383  ...    False    False     False     False   \n",
       "\n",
       "   forties  fifties  sixties  seventies  female  male  \n",
       "0    False     True    False      False   False  True  \n",
       "1    False     True    False      False   False  True  \n",
       "2    False     True    False      False   False  True  \n",
       "3    False     True    False      False   False  True  \n",
       "4    False     True    False      False   False  True  \n",
       "\n",
       "[5 rows x 2875 columns]"
      ]
     },
     "execution_count": 15,
     "metadata": {},
     "output_type": "execute_result"
    }
   ],
   "source": [
    "df_encoded.rename(columns={df_encoded.columns[-2]: 'female', df_encoded.columns[-1]: 'male'}, inplace=True)\n",
    "df_encoded.head()"
   ]
  },
  {
   "cell_type": "code",
   "execution_count": 16,
   "id": "da9ae0ab",
   "metadata": {
    "execution": {
     "iopub.execute_input": "2023-09-06T09:12:11.823939Z",
     "iopub.status.busy": "2023-09-06T09:12:11.823579Z",
     "iopub.status.idle": "2023-09-06T09:12:12.038883Z",
     "shell.execute_reply": "2023-09-06T09:12:12.037659Z",
     "shell.execute_reply.started": "2023-09-06T09:12:11.823905Z"
    },
    "id": "LLZb83ExCRYN",
    "papermill": {
     "duration": null,
     "end_time": null,
     "exception": null,
     "start_time": null,
     "status": "pending"
    },
    "tags": []
   },
   "outputs": [],
   "source": [
    "df_encoded.drop(['gender'],axis=1,inplace=True)"
   ]
  },
  {
   "cell_type": "code",
   "execution_count": 17,
   "id": "12587b97",
   "metadata": {
    "execution": {
     "iopub.execute_input": "2023-09-06T09:12:12.041105Z",
     "iopub.status.busy": "2023-09-06T09:12:12.040676Z",
     "iopub.status.idle": "2023-09-06T09:12:12.265490Z",
     "shell.execute_reply": "2023-09-06T09:12:12.264299Z",
     "shell.execute_reply.started": "2023-09-06T09:12:12.041024Z"
    },
    "id": "wTLuZKtRCRYN",
    "papermill": {
     "duration": null,
     "end_time": null,
     "exception": null,
     "start_time": null,
     "status": "pending"
    },
    "tags": []
   },
   "outputs": [],
   "source": [
    "X = df_encoded.drop(['male','female', 'anger', 'anxiety/fear', 'disgust', 'happiness', 'neutral', 'sadness','twenties', 'thirties', 'forties', 'fifties', 'sixties', 'seventies'], axis=1).values\n"
   ]
  },
  {
   "cell_type": "code",
   "execution_count": 18,
   "id": "41c8641e",
   "metadata": {
    "execution": {
     "iopub.execute_input": "2023-09-06T09:12:12.267730Z",
     "iopub.status.busy": "2023-09-06T09:12:12.267288Z",
     "iopub.status.idle": "2023-09-06T09:12:12.278054Z",
     "shell.execute_reply": "2023-09-06T09:12:12.276659Z",
     "shell.execute_reply.started": "2023-09-06T09:12:12.267686Z"
    },
    "id": "zbziviCtCRYN",
    "papermill": {
     "duration": null,
     "end_time": null,
     "exception": null,
     "start_time": null,
     "status": "pending"
    },
    "tags": []
   },
   "outputs": [],
   "source": [
    "y = df_encoded[['male','female', 'anger', 'anxiety/fear', 'disgust', 'happiness', 'neutral', 'sadness','twenties', 'thirties', 'forties', 'fifties', 'sixties', 'seventies']].values\n"
   ]
  },
  {
   "cell_type": "code",
   "execution_count": 19,
   "id": "65a38efd",
   "metadata": {
    "execution": {
     "iopub.execute_input": "2023-09-06T09:12:12.280594Z",
     "iopub.status.busy": "2023-09-06T09:12:12.279764Z",
     "iopub.status.idle": "2023-09-06T09:12:12.289353Z",
     "shell.execute_reply": "2023-09-06T09:12:12.288130Z",
     "shell.execute_reply.started": "2023-09-06T09:12:12.280549Z"
    },
    "id": "8lz1JSB6CRYN",
    "papermill": {
     "duration": null,
     "end_time": null,
     "exception": null,
     "start_time": null,
     "status": "pending"
    },
    "tags": []
   },
   "outputs": [],
   "source": [
    "y_emotion = df_encoded.iloc[:, -14:-8].values  # Emotion labels\n",
    "y_age = df_encoded.iloc[:, -8:-2].values  # Age labels\n",
    "y_gender = df_encoded.iloc[:, -2:].values  # Gender labels\n"
   ]
  },
  {
   "cell_type": "code",
   "execution_count": 20,
   "id": "80bc6216",
   "metadata": {
    "execution": {
     "iopub.execute_input": "2023-09-06T09:12:12.291718Z",
     "iopub.status.busy": "2023-09-06T09:12:12.291053Z",
     "iopub.status.idle": "2023-09-06T09:12:12.302347Z",
     "shell.execute_reply": "2023-09-06T09:12:12.301107Z",
     "shell.execute_reply.started": "2023-09-06T09:12:12.291680Z"
    },
    "id": "7LgxwGGqCRYN",
    "outputId": "5686e844-5807-4ec2-f982-2dbff6bbd74b",
    "papermill": {
     "duration": null,
     "end_time": null,
     "exception": null,
     "start_time": null,
     "status": "pending"
    },
    "tags": []
   },
   "outputs": [
    {
     "data": {
      "text/plain": [
       "((31584, 2), (31584, 6), (31584, 6))"
      ]
     },
     "execution_count": 20,
     "metadata": {},
     "output_type": "execute_result"
    }
   ],
   "source": [
    "y_gender.shape, y_emotion.shape, y_age.shape"
   ]
  },
  {
   "cell_type": "code",
   "execution_count": 21,
   "id": "cb1e958a",
   "metadata": {
    "execution": {
     "iopub.execute_input": "2023-09-06T09:12:12.304905Z",
     "iopub.status.busy": "2023-09-06T09:12:12.304551Z",
     "iopub.status.idle": "2023-09-06T09:12:13.422360Z",
     "shell.execute_reply": "2023-09-06T09:12:13.421342Z",
     "shell.execute_reply.started": "2023-09-06T09:12:12.304875Z"
    },
    "id": "hdEjj6ADCRYN",
    "papermill": {
     "duration": null,
     "end_time": null,
     "exception": null,
     "start_time": null,
     "status": "pending"
    },
    "tags": []
   },
   "outputs": [],
   "source": [
    "x_train, x_val_test, y_gender_train, y_gender_val_test, y_emotion_train, y_emotion_val_test, y_age_train, y_age_val_test = train_test_split(X, y_gender, y_emotion, y_age, test_size=0.3, random_state=30)\n",
    "x_test, x_val, y_gender_test, y_gender_val, y_emotion_test, y_emotion_val, y_age_test, y_age_val = train_test_split(x_val_test, y_gender_val_test, y_emotion_val_test, y_age_val_test, test_size=0.5, random_state=30)\n"
   ]
  },
  {
   "cell_type": "code",
   "execution_count": 22,
   "id": "b6eaf051",
   "metadata": {
    "execution": {
     "iopub.execute_input": "2023-09-06T09:12:13.424395Z",
     "iopub.status.busy": "2023-09-06T09:12:13.424006Z",
     "iopub.status.idle": "2023-09-06T09:12:13.430133Z",
     "shell.execute_reply": "2023-09-06T09:12:13.429206Z",
     "shell.execute_reply.started": "2023-09-06T09:12:13.424358Z"
    },
    "id": "32y0cSuMCRYN",
    "papermill": {
     "duration": null,
     "end_time": null,
     "exception": null,
     "start_time": null,
     "status": "pending"
    },
    "tags": []
   },
   "outputs": [],
   "source": [
    "scaler = StandardScaler()"
   ]
  },
  {
   "cell_type": "code",
   "execution_count": 23,
   "id": "265f5ae4",
   "metadata": {
    "execution": {
     "iopub.execute_input": "2023-09-06T09:12:13.432855Z",
     "iopub.status.busy": "2023-09-06T09:12:13.431813Z",
     "iopub.status.idle": "2023-09-06T09:12:14.449655Z",
     "shell.execute_reply": "2023-09-06T09:12:14.448445Z",
     "shell.execute_reply.started": "2023-09-06T09:12:13.432801Z"
    },
    "id": "R74reKsqCRYN",
    "outputId": "7650df47-c2ab-4de1-94fa-c90a06395470",
    "papermill": {
     "duration": null,
     "end_time": null,
     "exception": null,
     "start_time": null,
     "status": "pending"
    },
    "tags": []
   },
   "outputs": [
    {
     "data": {
      "text/plain": [
       "((22108, 2860), (4738, 2860), (4738, 2860))"
      ]
     },
     "execution_count": 23,
     "metadata": {},
     "output_type": "execute_result"
    }
   ],
   "source": [
    "x_train = scaler.fit_transform(x_train)\n",
    "x_val=scaler.transform(x_val)\n",
    "x_test = scaler.transform(x_test)\n",
    "\n",
    "x_train.shape, x_test.shape, x_val.shape"
   ]
  },
  {
   "cell_type": "code",
   "execution_count": 24,
   "id": "d2a83826",
   "metadata": {
    "execution": {
     "iopub.execute_input": "2023-09-06T09:12:14.451866Z",
     "iopub.status.busy": "2023-09-06T09:12:14.451494Z",
     "iopub.status.idle": "2023-09-06T09:12:17.165314Z",
     "shell.execute_reply": "2023-09-06T09:12:17.164303Z",
     "shell.execute_reply.started": "2023-09-06T09:12:14.451832Z"
    },
    "id": "8bmNVGBzCRYO",
    "papermill": {
     "duration": null,
     "end_time": null,
     "exception": null,
     "start_time": null,
     "status": "pending"
    },
    "tags": []
   },
   "outputs": [
    {
     "name": "stderr",
     "output_type": "stream",
     "text": [
      "2023-09-06 17:09:21.118989: I metal_plugin/src/device/metal_device.cc:1154] Metal device set to: Apple M1 Pro\n",
      "2023-09-06 17:09:21.119038: I metal_plugin/src/device/metal_device.cc:296] systemMemory: 16.00 GB\n",
      "2023-09-06 17:09:21.119049: I metal_plugin/src/device/metal_device.cc:313] maxCacheSize: 5.33 GB\n",
      "2023-09-06 17:09:21.119416: I tensorflow/core/common_runtime/pluggable_device/pluggable_device_factory.cc:303] Could not identify NUMA node of platform GPU ID 0, defaulting to 0. Your kernel may not have been built with NUMA support.\n",
      "2023-09-06 17:09:21.119717: I tensorflow/core/common_runtime/pluggable_device/pluggable_device_factory.cc:269] Created TensorFlow device (/job:localhost/replica:0/task:0/device:GPU:0 with 0 MB memory) -> physical PluggableDevice (device: 0, name: METAL, pci bus id: <undefined>)\n"
     ]
    }
   ],
   "source": [
    "from tensorflow.keras.models import Model\n",
    "from tensorflow.keras.layers import Conv1D, BatchNormalization, MaxPooling1D, AveragePooling1D, Dropout, Flatten, Dense, Input\n",
    "\n",
    "input_layer = Input(shape=(x_train.shape[1], 1))\n",
    "\n",
    "# 1\n",
    "hl = Conv1D(512, kernel_size=3, strides=1, padding='same', activation='relu')(input_layer)\n",
    "hl = BatchNormalization()(hl)\n",
    "hl = AveragePooling1D(pool_size=3, strides=2, padding='same')(hl)\n",
    "hl = Dropout(0.3)(hl)\n",
    "\n",
    "#2\n",
    "\n",
    "hl = Conv1D(256, kernel_size=3, strides=1, padding='same', activation='relu')(hl)\n",
    "hl = BatchNormalization()(hl)\n",
    "hl = AveragePooling1D(pool_size=3, strides=2, padding='same')(hl)\n",
    "hl = Dropout(0.3)(hl)\n",
    "\n",
    "#3\n",
    "\n",
    "hl = Conv1D(128, kernel_size=3, strides=1, padding='same', activation='relu')(hl)\n",
    "hl = BatchNormalization()(hl)\n",
    "hl = AveragePooling1D(pool_size=3, strides=2, padding='same')(hl)\n",
    "hl = Dropout(0.3)(hl)\n",
    "\n",
    "# Flatten layer\n",
    "hl = Flatten()(hl)\n",
    "\n",
    "# Dense layers for the shared layer\n",
    "hl = Dense(64, activation='relu')(hl)\n",
    "hl = BatchNormalization()(hl)\n",
    "hl = Dropout(0.3)(hl)\n",
    "\n",
    "# Output layers for each task\n",
    "emotion_output = Dense(y_emotion_train.shape[1], activation='softmax', name='emotion')(hl)\n",
    "age_output = Dense(y_age_train.shape[1], activation='softmax', name='age')(hl)\n",
    "gender_output = Dense(y_gender_train.shape[1], activation='softmax', name='gender')(hl)\n",
    "\n",
    "# Create the model with multiple outputs\n",
    "model = Model(inputs=input_layer, outputs=[emotion_output, age_output, gender_output])"
   ]
  },
  {
   "cell_type": "code",
   "execution_count": 25,
   "id": "b4845b1a",
   "metadata": {
    "execution": {
     "iopub.execute_input": "2023-09-06T09:12:17.167071Z",
     "iopub.status.busy": "2023-09-06T09:12:17.166701Z",
     "iopub.status.idle": "2023-09-06T09:12:17.213788Z",
     "shell.execute_reply": "2023-09-06T09:12:17.213103Z",
     "shell.execute_reply.started": "2023-09-06T09:12:17.167035Z"
    },
    "id": "9DRDNzyWCRYO",
    "outputId": "11913634-a124-4a61-853b-da6e054bb3d4",
    "papermill": {
     "duration": null,
     "end_time": null,
     "exception": null,
     "start_time": null,
     "status": "pending"
    },
    "tags": []
   },
   "outputs": [
    {
     "name": "stdout",
     "output_type": "stream",
     "text": [
      "Model: \"model\"\n",
      "__________________________________________________________________________________________________\n",
      " Layer (type)                Output Shape                 Param #   Connected to                  \n",
      "==================================================================================================\n",
      " input_1 (InputLayer)        [(None, 2860, 1)]            0         []                            \n",
      "                                                                                                  \n",
      " conv1d (Conv1D)             (None, 2860, 512)            2048      ['input_1[0][0]']             \n",
      "                                                                                                  \n",
      " batch_normalization (Batch  (None, 2860, 512)            2048      ['conv1d[0][0]']              \n",
      " Normalization)                                                                                   \n",
      "                                                                                                  \n",
      " average_pooling1d (Average  (None, 1430, 512)            0         ['batch_normalization[0][0]'] \n",
      " Pooling1D)                                                                                       \n",
      "                                                                                                  \n",
      " dropout (Dropout)           (None, 1430, 512)            0         ['average_pooling1d[0][0]']   \n",
      "                                                                                                  \n",
      " conv1d_1 (Conv1D)           (None, 1430, 256)            393472    ['dropout[0][0]']             \n",
      "                                                                                                  \n",
      " batch_normalization_1 (Bat  (None, 1430, 256)            1024      ['conv1d_1[0][0]']            \n",
      " chNormalization)                                                                                 \n",
      "                                                                                                  \n",
      " average_pooling1d_1 (Avera  (None, 715, 256)             0         ['batch_normalization_1[0][0]'\n",
      " gePooling1D)                                                       ]                             \n",
      "                                                                                                  \n",
      " dropout_1 (Dropout)         (None, 715, 256)             0         ['average_pooling1d_1[0][0]'] \n",
      "                                                                                                  \n",
      " conv1d_2 (Conv1D)           (None, 715, 128)             98432     ['dropout_1[0][0]']           \n",
      "                                                                                                  \n",
      " batch_normalization_2 (Bat  (None, 715, 128)             512       ['conv1d_2[0][0]']            \n",
      " chNormalization)                                                                                 \n",
      "                                                                                                  \n",
      " average_pooling1d_2 (Avera  (None, 358, 128)             0         ['batch_normalization_2[0][0]'\n",
      " gePooling1D)                                                       ]                             \n",
      "                                                                                                  \n",
      " dropout_2 (Dropout)         (None, 358, 128)             0         ['average_pooling1d_2[0][0]'] \n",
      "                                                                                                  \n",
      " flatten (Flatten)           (None, 45824)                0         ['dropout_2[0][0]']           \n",
      "                                                                                                  \n",
      " dense (Dense)               (None, 64)                   2932800   ['flatten[0][0]']             \n",
      "                                                                                                  \n",
      " batch_normalization_3 (Bat  (None, 64)                   256       ['dense[0][0]']               \n",
      " chNormalization)                                                                                 \n",
      "                                                                                                  \n",
      " dropout_3 (Dropout)         (None, 64)                   0         ['batch_normalization_3[0][0]'\n",
      "                                                                    ]                             \n",
      "                                                                                                  \n",
      " emotion (Dense)             (None, 6)                    390       ['dropout_3[0][0]']           \n",
      "                                                                                                  \n",
      " age (Dense)                 (None, 6)                    390       ['dropout_3[0][0]']           \n",
      "                                                                                                  \n",
      " gender (Dense)              (None, 2)                    130       ['dropout_3[0][0]']           \n",
      "                                                                                                  \n",
      "==================================================================================================\n",
      "Total params: 3431502 (13.09 MB)\n",
      "Trainable params: 3429582 (13.08 MB)\n",
      "Non-trainable params: 1920 (7.50 KB)\n",
      "__________________________________________________________________________________________________\n"
     ]
    }
   ],
   "source": [
    "model.summary()"
   ]
  },
  {
   "cell_type": "code",
   "execution_count": 26,
   "id": "3f7c727e",
   "metadata": {
    "execution": {
     "iopub.execute_input": "2023-09-06T09:12:17.215165Z",
     "iopub.status.busy": "2023-09-06T09:12:17.214791Z",
     "iopub.status.idle": "2023-09-06T09:12:17.221425Z",
     "shell.execute_reply": "2023-09-06T09:12:17.220702Z",
     "shell.execute_reply.started": "2023-09-06T09:12:17.215131Z"
    },
    "id": "oE-NOBQACRYO",
    "papermill": {
     "duration": null,
     "end_time": null,
     "exception": null,
     "start_time": null,
     "status": "pending"
    },
    "tags": []
   },
   "outputs": [],
   "source": [
    "early_stop_emotion = EarlyStopping(monitor='val_emotion_accuracy', mode='auto', patience=10, restore_best_weights=True)\n",
    "early_stop_age = EarlyStopping(monitor='val_age_accuracy', mode='auto', patience=10, restore_best_weights=True)\n",
    "early_stop_gender = EarlyStopping(monitor='val_gender_accuracy', mode='auto', patience=10, restore_best_weights=True)\n"
   ]
  },
  {
   "cell_type": "code",
   "execution_count": 27,
   "id": "d550daa4",
   "metadata": {
    "execution": {
     "iopub.execute_input": "2023-09-06T09:12:17.222805Z",
     "iopub.status.busy": "2023-09-06T09:12:17.222478Z",
     "iopub.status.idle": "2023-09-06T09:12:17.231989Z",
     "shell.execute_reply": "2023-09-06T09:12:17.231247Z",
     "shell.execute_reply.started": "2023-09-06T09:12:17.222773Z"
    },
    "id": "prsrzxZcCRYO",
    "papermill": {
     "duration": null,
     "end_time": null,
     "exception": null,
     "start_time": null,
     "status": "pending"
    },
    "tags": []
   },
   "outputs": [],
   "source": [
    "lr_reduction_emotion = ReduceLROnPlateau(monitor='val_emotion_accuracy', patience=3, verbose=1, factor=0.5)\n",
    "lr_reduction_age = ReduceLROnPlateau(monitor='val_age_accuracy', patience=3, verbose=1, factor=0.5)\n",
    "lr_reduction_gender = ReduceLROnPlateau(monitor='val_gender_accuracy', patience=3, verbose=1, factor=0.5)\n"
   ]
  },
  {
   "cell_type": "code",
   "execution_count": 28,
   "id": "4c09caed",
   "metadata": {
    "execution": {
     "iopub.execute_input": "2023-09-06T09:12:17.233268Z",
     "iopub.status.busy": "2023-09-06T09:12:17.232929Z",
     "iopub.status.idle": "2023-09-06T09:12:17.246826Z",
     "shell.execute_reply": "2023-09-06T09:12:17.246042Z",
     "shell.execute_reply.started": "2023-09-06T09:12:17.233237Z"
    },
    "papermill": {
     "duration": null,
     "end_time": null,
     "exception": null,
     "start_time": null,
     "status": "pending"
    },
    "tags": []
   },
   "outputs": [],
   "source": [
    "tensorboard_callback = tf.keras.callbacks.TensorBoard(\"logs\")"
   ]
  },
  {
   "cell_type": "code",
   "execution_count": 29,
   "id": "1f455b78",
   "metadata": {
    "execution": {
     "iopub.execute_input": "2023-09-06T09:12:17.248248Z",
     "iopub.status.busy": "2023-09-06T09:12:17.247802Z",
     "iopub.status.idle": "2023-09-06T09:12:17.257492Z",
     "shell.execute_reply": "2023-09-06T09:12:17.256702Z",
     "shell.execute_reply.started": "2023-09-06T09:12:17.248194Z"
    },
    "id": "rYpmmyANCRYO",
    "papermill": {
     "duration": null,
     "end_time": null,
     "exception": null,
     "start_time": null,
     "status": "pending"
    },
    "tags": []
   },
   "outputs": [],
   "source": [
    "callbacks = [\n",
    "    lr_reduction_emotion,\n",
    "    lr_reduction_age,\n",
    "    lr_reduction_gender,\n",
    "    early_stop_emotion,\n",
    "    early_stop_age,\n",
    "    early_stop_gender,\n",
    "    tensorboard_callback\n",
    "]"
   ]
  },
  {
   "cell_type": "code",
   "execution_count": 30,
   "id": "59fcd832",
   "metadata": {
    "execution": {
     "iopub.execute_input": "2023-09-06T09:12:17.259037Z",
     "iopub.status.busy": "2023-09-06T09:12:17.258446Z",
     "iopub.status.idle": "2023-09-06T09:12:17.268205Z",
     "shell.execute_reply": "2023-09-06T09:12:17.267234Z",
     "shell.execute_reply.started": "2023-09-06T09:12:17.258999Z"
    },
    "id": "T3KYL1C_CRYO",
    "papermill": {
     "duration": null,
     "end_time": null,
     "exception": null,
     "start_time": null,
     "status": "pending"
    },
    "tags": []
   },
   "outputs": [
    {
     "name": "stderr",
     "output_type": "stream",
     "text": [
      "WARNING:absl:At this time, the v2.11+ optimizer `tf.keras.optimizers.Nadam` runs slowly on M1/M2 Macs, please use the legacy Keras optimizer instead, located at `tf.keras.optimizers.legacy.Nadam`.\n"
     ]
    }
   ],
   "source": [
    "optimizer = keras.optimizers.Nadam()"
   ]
  },
  {
   "cell_type": "code",
   "execution_count": 31,
   "id": "99bd983a",
   "metadata": {
    "execution": {
     "iopub.execute_input": "2023-09-06T09:12:17.276944Z",
     "iopub.status.busy": "2023-09-06T09:12:17.276450Z",
     "iopub.status.idle": "2023-09-06T09:12:17.300901Z",
     "shell.execute_reply": "2023-09-06T09:12:17.299673Z",
     "shell.execute_reply.started": "2023-09-06T09:12:17.276911Z"
    },
    "id": "DmsanMuGCRYO",
    "papermill": {
     "duration": null,
     "end_time": null,
     "exception": null,
     "start_time": null,
     "status": "pending"
    },
    "tags": []
   },
   "outputs": [
    {
     "name": "stderr",
     "output_type": "stream",
     "text": [
      "WARNING:absl:There is a known slowdown when using v2.11+ Keras optimizers on M1/M2 Macs. Falling back to the legacy Keras optimizer, i.e., `tf.keras.optimizers.legacy.Nadam`.\n"
     ]
    }
   ],
   "source": [
    "model.compile(optimizer=optimizer,\n",
    "              loss={'emotion': 'categorical_crossentropy',\n",
    "                    'age': 'categorical_crossentropy',\n",
    "                    'gender': 'binary_crossentropy'},\n",
    "              metrics={'emotion': 'accuracy',\n",
    "                       'age': 'accuracy',\n",
    "                       'gender': 'accuracy'})"
   ]
  },
  {
   "cell_type": "code",
   "execution_count": 32,
   "id": "36f9614c",
   "metadata": {
    "execution": {
     "iopub.execute_input": "2023-09-06T09:12:17.302834Z",
     "iopub.status.busy": "2023-09-06T09:12:17.302113Z",
     "iopub.status.idle": "2023-09-06T09:53:02.697081Z",
     "shell.execute_reply": "2023-09-06T09:53:02.696017Z",
     "shell.execute_reply.started": "2023-09-06T09:12:17.302791Z"
    },
    "id": "Fmb36O7HCRYO",
    "outputId": "95f0153a-d9b8-4fa6-81ff-9edc2d873c99",
    "papermill": {
     "duration": null,
     "end_time": null,
     "exception": null,
     "start_time": null,
     "status": "pending"
    },
    "tags": []
   },
   "outputs": [
    {
     "name": "stdout",
     "output_type": "stream",
     "text": [
      "Epoch 1/200\n"
     ]
    },
    {
     "name": "stderr",
     "output_type": "stream",
     "text": [
      "2023-09-06 17:09:22.764755: I tensorflow/core/grappler/optimizers/custom_graph_optimizer_registry.cc:114] Plugin optimizer for device_type GPU is enabled.\n"
     ]
    },
    {
     "name": "stdout",
     "output_type": "stream",
     "text": [
      "1382/1382 [==============================] - ETA: 0s - loss: 4.1156 - emotion_loss: 1.8553 - age_loss: 1.5531 - gender_loss: 0.7073 - emotion_accuracy: 0.1676 - age_accuracy: 0.3241 - gender_accuracy: 0.5040"
     ]
    },
    {
     "name": "stderr",
     "output_type": "stream",
     "text": [
      "2023-09-06 17:11:19.584726: I tensorflow/core/grappler/optimizers/custom_graph_optimizer_registry.cc:114] Plugin optimizer for device_type GPU is enabled.\n"
     ]
    },
    {
     "name": "stdout",
     "output_type": "stream",
     "text": [
      "1382/1382 [==============================] - 124s 88ms/step - loss: 4.1156 - emotion_loss: 1.8553 - age_loss: 1.5531 - gender_loss: 0.7073 - emotion_accuracy: 0.1676 - age_accuracy: 0.3241 - gender_accuracy: 0.5040 - val_loss: 4.0310 - val_emotion_loss: 1.8259 - val_age_loss: 1.5101 - val_gender_loss: 0.6950 - val_emotion_accuracy: 0.1733 - val_age_accuracy: 0.3160 - val_gender_accuracy: 0.5184 - lr: 0.0010\n",
      "Epoch 2/200\n",
      "1382/1382 [==============================] - 119s 86ms/step - loss: 4.0208 - emotion_loss: 1.8105 - age_loss: 1.5134 - gender_loss: 0.6969 - emotion_accuracy: 0.1675 - age_accuracy: 0.3264 - gender_accuracy: 0.5113 - val_loss: 4.0802 - val_emotion_loss: 1.8079 - val_age_loss: 1.5758 - val_gender_loss: 0.6965 - val_emotion_accuracy: 0.1733 - val_age_accuracy: 0.3160 - val_gender_accuracy: 0.5184 - lr: 0.0010\n",
      "Epoch 3/200\n",
      "1382/1382 [==============================] - 124s 90ms/step - loss: 4.0106 - emotion_loss: 1.8042 - age_loss: 1.5108 - gender_loss: 0.6956 - emotion_accuracy: 0.1713 - age_accuracy: 0.3317 - gender_accuracy: 0.5163 - val_loss: 4.0135 - val_emotion_loss: 1.7987 - val_age_loss: 1.5209 - val_gender_loss: 0.6939 - val_emotion_accuracy: 0.1733 - val_age_accuracy: 0.3160 - val_gender_accuracy: 0.5184 - lr: 0.0010\n",
      "Epoch 4/200\n",
      "1160/1382 [========================>.....] - ETA: 18s - loss: 4.0055 - emotion_loss: 1.8031 - age_loss: 1.5072 - gender_loss: 0.6951 - emotion_accuracy: 0.1681 - age_accuracy: 0.3334 - gender_accuracy: 0.5129"
     ]
    },
    {
     "ename": "KeyboardInterrupt",
     "evalue": "",
     "output_type": "error",
     "traceback": [
      "\u001b[0;31m---------------------------------------------------------------------------\u001b[0m",
      "\u001b[0;31mKeyboardInterrupt\u001b[0m                         Traceback (most recent call last)",
      "Cell \u001b[0;32mIn[32], line 1\u001b[0m\n\u001b[0;32m----> 1\u001b[0m history \u001b[39m=\u001b[39m model\u001b[39m.\u001b[39;49mfit(x_train, {\u001b[39m'\u001b[39;49m\u001b[39memotion\u001b[39;49m\u001b[39m'\u001b[39;49m: y_emotion_train,\n\u001b[1;32m      2\u001b[0m                               \u001b[39m'\u001b[39;49m\u001b[39mage\u001b[39;49m\u001b[39m'\u001b[39;49m: y_age_train,\n\u001b[1;32m      3\u001b[0m                               \u001b[39m'\u001b[39;49m\u001b[39mgender\u001b[39;49m\u001b[39m'\u001b[39;49m: y_gender_train,},\n\u001b[1;32m      4\u001b[0m \n\u001b[1;32m      5\u001b[0m           validation_data\u001b[39m=\u001b[39;49m(x_val, {\u001b[39m'\u001b[39;49m\u001b[39memotion\u001b[39;49m\u001b[39m'\u001b[39;49m: y_emotion_val,\n\u001b[1;32m      6\u001b[0m                                    \u001b[39m'\u001b[39;49m\u001b[39mage\u001b[39;49m\u001b[39m'\u001b[39;49m: y_age_val,\n\u001b[1;32m      7\u001b[0m                                    \u001b[39m'\u001b[39;49m\u001b[39mgender\u001b[39;49m\u001b[39m'\u001b[39;49m: y_gender_val}),\n\u001b[1;32m      8\u001b[0m \n\u001b[1;32m      9\u001b[0m           epochs\u001b[39m=\u001b[39;49m\u001b[39m200\u001b[39;49m, batch_size\u001b[39m=\u001b[39;49m\u001b[39m16\u001b[39;49m, callbacks\u001b[39m=\u001b[39;49mcallbacks)\n",
      "File \u001b[0;32m/opt/homebrew/Caskroom/miniforge/base/envs/deep-learn/lib/python3.10/site-packages/keras/src/utils/traceback_utils.py:65\u001b[0m, in \u001b[0;36mfilter_traceback.<locals>.error_handler\u001b[0;34m(*args, **kwargs)\u001b[0m\n\u001b[1;32m     63\u001b[0m filtered_tb \u001b[39m=\u001b[39m \u001b[39mNone\u001b[39;00m\n\u001b[1;32m     64\u001b[0m \u001b[39mtry\u001b[39;00m:\n\u001b[0;32m---> 65\u001b[0m     \u001b[39mreturn\u001b[39;00m fn(\u001b[39m*\u001b[39;49margs, \u001b[39m*\u001b[39;49m\u001b[39m*\u001b[39;49mkwargs)\n\u001b[1;32m     66\u001b[0m \u001b[39mexcept\u001b[39;00m \u001b[39mException\u001b[39;00m \u001b[39mas\u001b[39;00m e:\n\u001b[1;32m     67\u001b[0m     filtered_tb \u001b[39m=\u001b[39m _process_traceback_frames(e\u001b[39m.\u001b[39m__traceback__)\n",
      "File \u001b[0;32m/opt/homebrew/Caskroom/miniforge/base/envs/deep-learn/lib/python3.10/site-packages/keras/src/engine/training.py:1742\u001b[0m, in \u001b[0;36mModel.fit\u001b[0;34m(self, x, y, batch_size, epochs, verbose, callbacks, validation_split, validation_data, shuffle, class_weight, sample_weight, initial_epoch, steps_per_epoch, validation_steps, validation_batch_size, validation_freq, max_queue_size, workers, use_multiprocessing)\u001b[0m\n\u001b[1;32m   1734\u001b[0m \u001b[39mwith\u001b[39;00m tf\u001b[39m.\u001b[39mprofiler\u001b[39m.\u001b[39mexperimental\u001b[39m.\u001b[39mTrace(\n\u001b[1;32m   1735\u001b[0m     \u001b[39m\"\u001b[39m\u001b[39mtrain\u001b[39m\u001b[39m\"\u001b[39m,\n\u001b[1;32m   1736\u001b[0m     epoch_num\u001b[39m=\u001b[39mepoch,\n\u001b[0;32m   (...)\u001b[0m\n\u001b[1;32m   1739\u001b[0m     _r\u001b[39m=\u001b[39m\u001b[39m1\u001b[39m,\n\u001b[1;32m   1740\u001b[0m ):\n\u001b[1;32m   1741\u001b[0m     callbacks\u001b[39m.\u001b[39mon_train_batch_begin(step)\n\u001b[0;32m-> 1742\u001b[0m     tmp_logs \u001b[39m=\u001b[39m \u001b[39mself\u001b[39;49m\u001b[39m.\u001b[39;49mtrain_function(iterator)\n\u001b[1;32m   1743\u001b[0m     \u001b[39mif\u001b[39;00m data_handler\u001b[39m.\u001b[39mshould_sync:\n\u001b[1;32m   1744\u001b[0m         context\u001b[39m.\u001b[39masync_wait()\n",
      "File \u001b[0;32m/opt/homebrew/Caskroom/miniforge/base/envs/deep-learn/lib/python3.10/site-packages/tensorflow/python/util/traceback_utils.py:150\u001b[0m, in \u001b[0;36mfilter_traceback.<locals>.error_handler\u001b[0;34m(*args, **kwargs)\u001b[0m\n\u001b[1;32m    148\u001b[0m filtered_tb \u001b[39m=\u001b[39m \u001b[39mNone\u001b[39;00m\n\u001b[1;32m    149\u001b[0m \u001b[39mtry\u001b[39;00m:\n\u001b[0;32m--> 150\u001b[0m   \u001b[39mreturn\u001b[39;00m fn(\u001b[39m*\u001b[39;49margs, \u001b[39m*\u001b[39;49m\u001b[39m*\u001b[39;49mkwargs)\n\u001b[1;32m    151\u001b[0m \u001b[39mexcept\u001b[39;00m \u001b[39mException\u001b[39;00m \u001b[39mas\u001b[39;00m e:\n\u001b[1;32m    152\u001b[0m   filtered_tb \u001b[39m=\u001b[39m _process_traceback_frames(e\u001b[39m.\u001b[39m__traceback__)\n",
      "File \u001b[0;32m/opt/homebrew/Caskroom/miniforge/base/envs/deep-learn/lib/python3.10/site-packages/tensorflow/python/eager/polymorphic_function/polymorphic_function.py:825\u001b[0m, in \u001b[0;36mFunction.__call__\u001b[0;34m(self, *args, **kwds)\u001b[0m\n\u001b[1;32m    822\u001b[0m compiler \u001b[39m=\u001b[39m \u001b[39m\"\u001b[39m\u001b[39mxla\u001b[39m\u001b[39m\"\u001b[39m \u001b[39mif\u001b[39;00m \u001b[39mself\u001b[39m\u001b[39m.\u001b[39m_jit_compile \u001b[39melse\u001b[39;00m \u001b[39m\"\u001b[39m\u001b[39mnonXla\u001b[39m\u001b[39m\"\u001b[39m\n\u001b[1;32m    824\u001b[0m \u001b[39mwith\u001b[39;00m OptionalXlaContext(\u001b[39mself\u001b[39m\u001b[39m.\u001b[39m_jit_compile):\n\u001b[0;32m--> 825\u001b[0m   result \u001b[39m=\u001b[39m \u001b[39mself\u001b[39;49m\u001b[39m.\u001b[39;49m_call(\u001b[39m*\u001b[39;49margs, \u001b[39m*\u001b[39;49m\u001b[39m*\u001b[39;49mkwds)\n\u001b[1;32m    827\u001b[0m new_tracing_count \u001b[39m=\u001b[39m \u001b[39mself\u001b[39m\u001b[39m.\u001b[39mexperimental_get_tracing_count()\n\u001b[1;32m    828\u001b[0m without_tracing \u001b[39m=\u001b[39m (tracing_count \u001b[39m==\u001b[39m new_tracing_count)\n",
      "File \u001b[0;32m/opt/homebrew/Caskroom/miniforge/base/envs/deep-learn/lib/python3.10/site-packages/tensorflow/python/eager/polymorphic_function/polymorphic_function.py:857\u001b[0m, in \u001b[0;36mFunction._call\u001b[0;34m(self, *args, **kwds)\u001b[0m\n\u001b[1;32m    854\u001b[0m   \u001b[39mself\u001b[39m\u001b[39m.\u001b[39m_lock\u001b[39m.\u001b[39mrelease()\n\u001b[1;32m    855\u001b[0m   \u001b[39m# In this case we have created variables on the first call, so we run the\u001b[39;00m\n\u001b[1;32m    856\u001b[0m   \u001b[39m# defunned version which is guaranteed to never create variables.\u001b[39;00m\n\u001b[0;32m--> 857\u001b[0m   \u001b[39mreturn\u001b[39;00m \u001b[39mself\u001b[39;49m\u001b[39m.\u001b[39;49m_no_variable_creation_fn(\u001b[39m*\u001b[39;49margs, \u001b[39m*\u001b[39;49m\u001b[39m*\u001b[39;49mkwds)  \u001b[39m# pylint: disable=not-callable\u001b[39;00m\n\u001b[1;32m    858\u001b[0m \u001b[39melif\u001b[39;00m \u001b[39mself\u001b[39m\u001b[39m.\u001b[39m_variable_creation_fn \u001b[39mis\u001b[39;00m \u001b[39mnot\u001b[39;00m \u001b[39mNone\u001b[39;00m:\n\u001b[1;32m    859\u001b[0m   \u001b[39m# Release the lock early so that multiple threads can perform the call\u001b[39;00m\n\u001b[1;32m    860\u001b[0m   \u001b[39m# in parallel.\u001b[39;00m\n\u001b[1;32m    861\u001b[0m   \u001b[39mself\u001b[39m\u001b[39m.\u001b[39m_lock\u001b[39m.\u001b[39mrelease()\n",
      "File \u001b[0;32m/opt/homebrew/Caskroom/miniforge/base/envs/deep-learn/lib/python3.10/site-packages/tensorflow/python/eager/polymorphic_function/tracing_compiler.py:148\u001b[0m, in \u001b[0;36mTracingCompiler.__call__\u001b[0;34m(self, *args, **kwargs)\u001b[0m\n\u001b[1;32m    145\u001b[0m \u001b[39mwith\u001b[39;00m \u001b[39mself\u001b[39m\u001b[39m.\u001b[39m_lock:\n\u001b[1;32m    146\u001b[0m   (concrete_function,\n\u001b[1;32m    147\u001b[0m    filtered_flat_args) \u001b[39m=\u001b[39m \u001b[39mself\u001b[39m\u001b[39m.\u001b[39m_maybe_define_function(args, kwargs)\n\u001b[0;32m--> 148\u001b[0m \u001b[39mreturn\u001b[39;00m concrete_function\u001b[39m.\u001b[39;49m_call_flat(\n\u001b[1;32m    149\u001b[0m     filtered_flat_args, captured_inputs\u001b[39m=\u001b[39;49mconcrete_function\u001b[39m.\u001b[39;49mcaptured_inputs)\n",
      "File \u001b[0;32m/opt/homebrew/Caskroom/miniforge/base/envs/deep-learn/lib/python3.10/site-packages/tensorflow/python/eager/polymorphic_function/monomorphic_function.py:1349\u001b[0m, in \u001b[0;36mConcreteFunction._call_flat\u001b[0;34m(self, args, captured_inputs)\u001b[0m\n\u001b[1;32m   1345\u001b[0m possible_gradient_type \u001b[39m=\u001b[39m gradients_util\u001b[39m.\u001b[39mPossibleTapeGradientTypes(args)\n\u001b[1;32m   1346\u001b[0m \u001b[39mif\u001b[39;00m (possible_gradient_type \u001b[39m==\u001b[39m gradients_util\u001b[39m.\u001b[39mPOSSIBLE_GRADIENT_TYPES_NONE\n\u001b[1;32m   1347\u001b[0m     \u001b[39mand\u001b[39;00m executing_eagerly):\n\u001b[1;32m   1348\u001b[0m   \u001b[39m# No tape is watching; skip to running the function.\u001b[39;00m\n\u001b[0;32m-> 1349\u001b[0m   \u001b[39mreturn\u001b[39;00m \u001b[39mself\u001b[39m\u001b[39m.\u001b[39m_build_call_outputs(\u001b[39mself\u001b[39;49m\u001b[39m.\u001b[39;49m_inference_function(\u001b[39m*\u001b[39;49margs))\n\u001b[1;32m   1350\u001b[0m forward_backward \u001b[39m=\u001b[39m \u001b[39mself\u001b[39m\u001b[39m.\u001b[39m_select_forward_and_backward_functions(\n\u001b[1;32m   1351\u001b[0m     args,\n\u001b[1;32m   1352\u001b[0m     possible_gradient_type,\n\u001b[1;32m   1353\u001b[0m     executing_eagerly)\n\u001b[1;32m   1354\u001b[0m forward_function, args_with_tangents \u001b[39m=\u001b[39m forward_backward\u001b[39m.\u001b[39mforward()\n",
      "File \u001b[0;32m/opt/homebrew/Caskroom/miniforge/base/envs/deep-learn/lib/python3.10/site-packages/tensorflow/python/eager/polymorphic_function/atomic_function.py:196\u001b[0m, in \u001b[0;36mAtomicFunction.__call__\u001b[0;34m(self, *args)\u001b[0m\n\u001b[1;32m    194\u001b[0m \u001b[39mwith\u001b[39;00m record\u001b[39m.\u001b[39mstop_recording():\n\u001b[1;32m    195\u001b[0m   \u001b[39mif\u001b[39;00m \u001b[39mself\u001b[39m\u001b[39m.\u001b[39m_bound_context\u001b[39m.\u001b[39mexecuting_eagerly():\n\u001b[0;32m--> 196\u001b[0m     outputs \u001b[39m=\u001b[39m \u001b[39mself\u001b[39;49m\u001b[39m.\u001b[39;49m_bound_context\u001b[39m.\u001b[39;49mcall_function(\n\u001b[1;32m    197\u001b[0m         \u001b[39mself\u001b[39;49m\u001b[39m.\u001b[39;49mname,\n\u001b[1;32m    198\u001b[0m         \u001b[39mlist\u001b[39;49m(args),\n\u001b[1;32m    199\u001b[0m         \u001b[39mlen\u001b[39;49m(\u001b[39mself\u001b[39;49m\u001b[39m.\u001b[39;49mfunction_type\u001b[39m.\u001b[39;49mflat_outputs),\n\u001b[1;32m    200\u001b[0m     )\n\u001b[1;32m    201\u001b[0m   \u001b[39melse\u001b[39;00m:\n\u001b[1;32m    202\u001b[0m     outputs \u001b[39m=\u001b[39m make_call_op_in_graph(\u001b[39mself\u001b[39m, \u001b[39mlist\u001b[39m(args))\n",
      "File \u001b[0;32m/opt/homebrew/Caskroom/miniforge/base/envs/deep-learn/lib/python3.10/site-packages/tensorflow/python/eager/context.py:1457\u001b[0m, in \u001b[0;36mContext.call_function\u001b[0;34m(self, name, tensor_inputs, num_outputs)\u001b[0m\n\u001b[1;32m   1455\u001b[0m cancellation_context \u001b[39m=\u001b[39m cancellation\u001b[39m.\u001b[39mcontext()\n\u001b[1;32m   1456\u001b[0m \u001b[39mif\u001b[39;00m cancellation_context \u001b[39mis\u001b[39;00m \u001b[39mNone\u001b[39;00m:\n\u001b[0;32m-> 1457\u001b[0m   outputs \u001b[39m=\u001b[39m execute\u001b[39m.\u001b[39;49mexecute(\n\u001b[1;32m   1458\u001b[0m       name\u001b[39m.\u001b[39;49mdecode(\u001b[39m\"\u001b[39;49m\u001b[39mutf-8\u001b[39;49m\u001b[39m\"\u001b[39;49m),\n\u001b[1;32m   1459\u001b[0m       num_outputs\u001b[39m=\u001b[39;49mnum_outputs,\n\u001b[1;32m   1460\u001b[0m       inputs\u001b[39m=\u001b[39;49mtensor_inputs,\n\u001b[1;32m   1461\u001b[0m       attrs\u001b[39m=\u001b[39;49mattrs,\n\u001b[1;32m   1462\u001b[0m       ctx\u001b[39m=\u001b[39;49m\u001b[39mself\u001b[39;49m,\n\u001b[1;32m   1463\u001b[0m   )\n\u001b[1;32m   1464\u001b[0m \u001b[39melse\u001b[39;00m:\n\u001b[1;32m   1465\u001b[0m   outputs \u001b[39m=\u001b[39m execute\u001b[39m.\u001b[39mexecute_with_cancellation(\n\u001b[1;32m   1466\u001b[0m       name\u001b[39m.\u001b[39mdecode(\u001b[39m\"\u001b[39m\u001b[39mutf-8\u001b[39m\u001b[39m\"\u001b[39m),\n\u001b[1;32m   1467\u001b[0m       num_outputs\u001b[39m=\u001b[39mnum_outputs,\n\u001b[0;32m   (...)\u001b[0m\n\u001b[1;32m   1471\u001b[0m       cancellation_manager\u001b[39m=\u001b[39mcancellation_context,\n\u001b[1;32m   1472\u001b[0m   )\n",
      "File \u001b[0;32m/opt/homebrew/Caskroom/miniforge/base/envs/deep-learn/lib/python3.10/site-packages/tensorflow/python/eager/execute.py:53\u001b[0m, in \u001b[0;36mquick_execute\u001b[0;34m(op_name, num_outputs, inputs, attrs, ctx, name)\u001b[0m\n\u001b[1;32m     51\u001b[0m \u001b[39mtry\u001b[39;00m:\n\u001b[1;32m     52\u001b[0m   ctx\u001b[39m.\u001b[39mensure_initialized()\n\u001b[0;32m---> 53\u001b[0m   tensors \u001b[39m=\u001b[39m pywrap_tfe\u001b[39m.\u001b[39;49mTFE_Py_Execute(ctx\u001b[39m.\u001b[39;49m_handle, device_name, op_name,\n\u001b[1;32m     54\u001b[0m                                       inputs, attrs, num_outputs)\n\u001b[1;32m     55\u001b[0m \u001b[39mexcept\u001b[39;00m core\u001b[39m.\u001b[39m_NotOkStatusException \u001b[39mas\u001b[39;00m e:\n\u001b[1;32m     56\u001b[0m   \u001b[39mif\u001b[39;00m name \u001b[39mis\u001b[39;00m \u001b[39mnot\u001b[39;00m \u001b[39mNone\u001b[39;00m:\n",
      "\u001b[0;31mKeyboardInterrupt\u001b[0m: "
     ]
    }
   ],
   "source": [
    "history = model.fit(x_train, {'emotion': y_emotion_train,\n",
    "                              'age': y_age_train,\n",
    "                              'gender': y_gender_train,},\n",
    "\n",
    "          validation_data=(x_val, {'emotion': y_emotion_val,\n",
    "                                   'age': y_age_val,\n",
    "                                   'gender': y_gender_val}),\n",
    "\n",
    "          epochs=200, batch_size=16, callbacks=callbacks)"
   ]
  },
  {
   "cell_type": "code",
   "execution_count": null,
   "id": "c7942fa6",
   "metadata": {
    "execution": {
     "iopub.execute_input": "2023-09-06T09:53:02.699685Z",
     "iopub.status.busy": "2023-09-06T09:53:02.698943Z",
     "iopub.status.idle": "2023-09-06T09:53:08.045769Z",
     "shell.execute_reply": "2023-09-06T09:53:08.044572Z",
     "shell.execute_reply.started": "2023-09-06T09:53:02.699646Z"
    },
    "id": "7CEa2YcdCRYO",
    "papermill": {
     "duration": null,
     "end_time": null,
     "exception": null,
     "start_time": null,
     "status": "pending"
    },
    "tags": []
   },
   "outputs": [],
   "source": [
    "losses = model.evaluate(x_test, {'emotion': y_emotion_test,\n",
    "                                 'age': y_age_test,\n",
    "                                 'gender': y_gender_test})\n",
    "print('Emotion Loss:', losses[1])\n",
    "print('Age Loss:', losses[2])\n",
    "print('Gender Loss:', losses[3])\n",
    "print('Emotion Accuracy:', losses[4])\n",
    "print('Age Accuracy:', losses[5])\n",
    "print('Gender Accuracy:', losses[6])"
   ]
  },
  {
   "cell_type": "code",
   "execution_count": null,
   "id": "5bf000ce",
   "metadata": {
    "execution": {
     "iopub.execute_input": "2023-09-06T09:53:08.047904Z",
     "iopub.status.busy": "2023-09-06T09:53:08.047538Z",
     "iopub.status.idle": "2023-09-06T09:53:08.052733Z",
     "shell.execute_reply": "2023-09-06T09:53:08.051688Z",
     "shell.execute_reply.started": "2023-09-06T09:53:08.047869Z"
    },
    "id": "m0ebjOpwnKE4",
    "papermill": {
     "duration": null,
     "end_time": null,
     "exception": null,
     "start_time": null,
     "status": "pending"
    },
    "tags": []
   },
   "outputs": [],
   "source": [
    "from sklearn.metrics import classification_report, confusion_matrix, f1_score\n",
    "import numpy as np\n",
    "import matplotlib.pyplot as plt"
   ]
  },
  {
   "cell_type": "code",
   "execution_count": null,
   "id": "e2ff45ef",
   "metadata": {
    "execution": {
     "iopub.execute_input": "2023-09-06T09:53:08.054844Z",
     "iopub.status.busy": "2023-09-06T09:53:08.054505Z",
     "iopub.status.idle": "2023-09-06T09:53:11.009376Z",
     "shell.execute_reply": "2023-09-06T09:53:11.008292Z",
     "shell.execute_reply.started": "2023-09-06T09:53:08.054811Z"
    },
    "papermill": {
     "duration": null,
     "end_time": null,
     "exception": null,
     "start_time": null,
     "status": "pending"
    },
    "tags": []
   },
   "outputs": [],
   "source": [
    "y_pred = model.predict(x_test)"
   ]
  },
  {
   "cell_type": "code",
   "execution_count": null,
   "id": "3fe3d315",
   "metadata": {
    "execution": {
     "iopub.execute_input": "2023-09-06T09:53:11.011180Z",
     "iopub.status.busy": "2023-09-06T09:53:11.010813Z",
     "iopub.status.idle": "2023-09-06T09:53:11.018722Z",
     "shell.execute_reply": "2023-09-06T09:53:11.017641Z",
     "shell.execute_reply.started": "2023-09-06T09:53:11.011145Z"
    },
    "papermill": {
     "duration": null,
     "end_time": null,
     "exception": null,
     "start_time": null,
     "status": "pending"
    },
    "tags": []
   },
   "outputs": [],
   "source": [
    "y_emotion_pred = np.argmax(y_pred[0], axis=1)\n",
    "y_age_pred = np.argmax(y_pred[1], axis=1)\n",
    "y_gender_pred = (y_pred[2] > 0.5).astype(int)"
   ]
  },
  {
   "cell_type": "code",
   "execution_count": null,
   "id": "fc48f29f",
   "metadata": {
    "execution": {
     "iopub.execute_input": "2023-09-06T09:53:11.021015Z",
     "iopub.status.busy": "2023-09-06T09:53:11.020479Z",
     "iopub.status.idle": "2023-09-06T09:53:11.030500Z",
     "shell.execute_reply": "2023-09-06T09:53:11.029377Z",
     "shell.execute_reply.started": "2023-09-06T09:53:11.020980Z"
    },
    "papermill": {
     "duration": null,
     "end_time": null,
     "exception": null,
     "start_time": null,
     "status": "pending"
    },
    "tags": []
   },
   "outputs": [],
   "source": [
    "set(y_age_pred)"
   ]
  },
  {
   "cell_type": "code",
   "execution_count": null,
   "id": "3d64c556",
   "metadata": {
    "execution": {
     "iopub.execute_input": "2023-09-06T09:53:11.032636Z",
     "iopub.status.busy": "2023-09-06T09:53:11.032247Z",
     "iopub.status.idle": "2023-09-06T09:53:11.046222Z",
     "shell.execute_reply": "2023-09-06T09:53:11.045038Z",
     "shell.execute_reply.started": "2023-09-06T09:53:11.032603Z"
    },
    "papermill": {
     "duration": null,
     "end_time": null,
     "exception": null,
     "start_time": null,
     "status": "pending"
    },
    "tags": []
   },
   "outputs": [],
   "source": [
    "y_gender_test.shape, y_age_test.shape, y_emotion_test.shape"
   ]
  },
  {
   "cell_type": "code",
   "execution_count": null,
   "id": "08f7a132",
   "metadata": {
    "execution": {
     "iopub.execute_input": "2023-09-06T09:53:11.048634Z",
     "iopub.status.busy": "2023-09-06T09:53:11.048350Z",
     "iopub.status.idle": "2023-09-06T09:53:11.062498Z",
     "shell.execute_reply": "2023-09-06T09:53:11.061517Z",
     "shell.execute_reply.started": "2023-09-06T09:53:11.048610Z"
    },
    "papermill": {
     "duration": null,
     "end_time": null,
     "exception": null,
     "start_time": null,
     "status": "pending"
    },
    "tags": []
   },
   "outputs": [],
   "source": [
    "emotion_cm = confusion_matrix(np.argmax(y_emotion_test, axis=1), y_emotion_pred)\n",
    "age_cm = confusion_matrix(np.argmax(y_age_test, axis=1), y_age_pred)\n",
    "gender_cm = confusion_matrix(np.argmax(y_gender_test, axis=1), np.argmax(y_gender_pred, axis=1))"
   ]
  },
  {
   "cell_type": "code",
   "execution_count": null,
   "id": "870f7504",
   "metadata": {
    "execution": {
     "iopub.execute_input": "2023-09-06T09:53:11.064566Z",
     "iopub.status.busy": "2023-09-06T09:53:11.063789Z",
     "iopub.status.idle": "2023-09-06T09:53:12.428084Z",
     "shell.execute_reply": "2023-09-06T09:53:12.427141Z",
     "shell.execute_reply.started": "2023-09-06T09:53:11.064525Z"
    },
    "papermill": {
     "duration": null,
     "end_time": null,
     "exception": null,
     "start_time": null,
     "status": "pending"
    },
    "tags": []
   },
   "outputs": [],
   "source": [
    "labels_emotion = ['Anger', 'Anxiety/Fear', 'Disgust', 'Happiness', 'Neutral', 'Sadness']\n",
    "labels_age = ['Twenties', 'Thirties', 'Forties', 'Fifties', 'Sixties', 'Seventies']\n",
    "labels_gender = ['Male', 'Female']\n",
    "\n",
    "fig, axes = plt.subplots(1, 3, figsize=(20, 6))\n",
    "sns.heatmap(emotion_cm, annot=True, cmap='Blues', fmt='d', ax=axes[0])\n",
    "axes[0].set_xticks(np.arange(len(labels_emotion)) + 0.5)\n",
    "axes[0].set_yticks(np.arange(len(labels_emotion)) + 0.5)\n",
    "axes[0].set_xticklabels(labels_emotion, rotation=45)\n",
    "axes[0].set_yticklabels(labels_emotion)\n",
    "axes[0].set_xlabel('Predicted')\n",
    "axes[0].set_ylabel('True')\n",
    "axes[0].set_title('Emotion Confusion Matrix')\n",
    "\n",
    "sns.heatmap(age_cm, annot=True, cmap='Blues', fmt='d', ax=axes[1])\n",
    "axes[1].set_xticks(np.arange(len(labels_age)) + 0.5)\n",
    "axes[1].set_yticks(np.arange(len(labels_age)) + 0.5)\n",
    "axes[1].set_xticklabels(labels_age, rotation=45)\n",
    "axes[1].set_yticklabels(labels_age)\n",
    "axes[1].set_xlabel('Predicted')\n",
    "axes[1].set_ylabel('True')\n",
    "axes[1].set_title('Age Confusion Matrix')\n",
    "\n",
    "sns.heatmap(gender_cm, annot=True, cmap='Blues', fmt='d', ax=axes[2])\n",
    "axes[2].set_xticks(np.arange(len(labels_gender)) + 0.5)\n",
    "axes[2].set_yticks(np.arange(len(labels_gender)) + 0.5)\n",
    "axes[2].set_xticklabels(labels_gender)\n",
    "axes[2].set_yticklabels(labels_gender)\n",
    "axes[2].set_xlabel('Predicted')\n",
    "axes[2].set_ylabel('True')\n",
    "axes[2].set_title('Gender Confusion Matrix')\n",
    "\n",
    "\n",
    "plt.tight_layout()\n",
    "plt.show()"
   ]
  },
  {
   "cell_type": "code",
   "execution_count": null,
   "id": "72cc820f",
   "metadata": {
    "execution": {
     "iopub.execute_input": "2023-09-06T09:53:12.429469Z",
     "iopub.status.busy": "2023-09-06T09:53:12.429124Z",
     "iopub.status.idle": "2023-09-06T09:53:12.483177Z",
     "shell.execute_reply": "2023-09-06T09:53:12.482242Z",
     "shell.execute_reply.started": "2023-09-06T09:53:12.429435Z"
    },
    "papermill": {
     "duration": null,
     "end_time": null,
     "exception": null,
     "start_time": null,
     "status": "pending"
    },
    "tags": []
   },
   "outputs": [],
   "source": [
    "print(classification_report(np.argmax(y_emotion_test, axis=1), y_emotion_pred))\n",
    "print(classification_report(np.argmax(y_age_test, axis=1), y_age_pred))\n",
    "print(classification_report(y_gender_test, y_gender_pred, target_names=['male','female']))"
   ]
  },
  {
   "cell_type": "code",
   "execution_count": null,
   "id": "8b6d9cee",
   "metadata": {},
   "outputs": [],
   "source": [
    "%tensorboard --logdir logs"
   ]
  }
 ],
 "kernelspec": {
  "display_name": "Python 3",
  "language": "python",
  "name": "python3"
 },
 "language_info": {
  "codemirror_mode": {
   "name": "ipython",
   "version": 3
  },
  "file_extension": ".py",
  "mimetype": "text/x-python",
  "name": "python",
  "nbconvert_exporter": "python",
  "pygments_lexer": "ipython3",
  "version": "3.6.4"
 },
 "metadata": {
  "accelerator": "GPU",
  "colab": {
   "provenance": []
  },
  "kernelspec": {
   "display_name": "Python 3",
   "language": "python",
   "name": "python3"
  },
  "language_info": {
   "codemirror_mode": {
    "name": "ipython",
    "version": 3
   },
   "file_extension": ".py",
   "mimetype": "text/x-python",
   "name": "python",
   "nbconvert_exporter": "python",
   "pygments_lexer": "ipython3",
   "version": "3.10.12"
  },
  "papermill": {
   "default_parameters": {},
   "duration": null,
   "end_time": null,
   "environment_variables": {},
   "exception": null,
   "input_path": "__notebook__.ipynb",
   "output_path": "__notebook__.ipynb",
   "parameters": {},
   "start_time": "2023-09-06T09:55:30.018439",
   "version": "2.4.0"
  }
 },
 "nbformat": 4,
 "nbformat_minor": 5
}
